{
 "cells": [
  {
   "cell_type": "code",
   "execution_count": 26,
   "metadata": {},
   "outputs": [
    {
     "name": "stdout",
     "output_type": "stream",
     "text": [
      "aherrrrlll\n",
      "NO\n"
     ]
    }
   ],
   "source": [
    "line = input()\n",
    "ide = \"hello\"\n",
    "c = 0\n",
    "if len(line) >= 1 and len(line) <= 100:\n",
    "    for i in line:\n",
    "        if i == ide[c]:\n",
    "            c += 1\n",
    "            if c >= 5:\n",
    "                print(\"YES\")\n",
    "                break   \n",
    "if c < 5: \n",
    "    print(\"NO\")"
   ]
  }
 ],
 "metadata": {
  "kernelspec": {
   "display_name": "Python 3",
   "language": "python",
   "name": "python3"
  },
  "language_info": {
   "codemirror_mode": {
    "name": "ipython",
    "version": 3
   },
   "file_extension": ".py",
   "mimetype": "text/x-python",
   "name": "python",
   "nbconvert_exporter": "python",
   "pygments_lexer": "ipython3",
   "version": "3.6.1"
  }
 },
 "nbformat": 4,
 "nbformat_minor": 2
}
