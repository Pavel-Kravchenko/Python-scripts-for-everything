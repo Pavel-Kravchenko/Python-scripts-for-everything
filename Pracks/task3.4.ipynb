{
 "cells": [
  {
   "cell_type": "code",
   "execution_count": 7,
   "metadata": {},
   "outputs": [
    {
     "name": "stdout",
     "output_type": "stream",
     "text": [
      "346677\n"
     ]
    }
   ],
   "source": [
    "\n",
    "in_num = int(input())\n",
    "M = {0: 0, 1: 1}\n",
    "\n",
    "\n",
    "def function(num):\n",
    "    if num < 0:\n",
    "        return 0\n",
    "    if num < 40:\n",
    "        return num\n",
    "    if num in M:\n",
    "        return M[num]\n",
    "    out = function(num - 40) + function(num - 20)\n",
    "    out = out + function(num - 5) + function(num - 1)\n",
    "    M[num] = out\n",
    "    return out\n",
    "\n",
    "\n",
    "if in_num <= 100000:\n",
    "    print(function(in_num))"
   ]
  },
  {
   "cell_type": "code",
   "execution_count": 1,
   "metadata": {},
   "outputs": [
    {
     "name": "stdout",
     "output_type": "stream",
     "text": [
      "234\n",
      "87222023448554717312491113\n"
     ]
    }
   ],
   "source": [
    "import functools\n",
    "\n",
    "def fibonacci_rec_hash(n, calc_memory = {0: 0, 1 : 1}):\n",
    "    if n < 0:\n",
    "        return 0\n",
    "    result = calc_memory.get(n, None) # safe way to get value, \n",
    "    # if value doesn't exist, returns default value, here it's None\n",
    "    if result is not None:\n",
    "        return result\n",
    "\n",
    "    result = fibonacci_rec_hash(n - 1) + fibonacci_rec_hash(n - 2)\n",
    "    calc_memory[n] = result\n",
    "    return result\n",
    "\n",
    "in_num = int(input())\n",
    "M = {0: 0, 1: 1}\n",
    "\n",
    "@functools.lru_cache(maxsize=1000, typed=False)\n",
    "def function(num):\n",
    "    if num < 0:\n",
    "        return 0\n",
    "    if num < 40:\n",
    "        return num\n",
    "    if num in M:\n",
    "        return M[num]\n",
    "    out = function(num - 40) + function(num - 20)\n",
    "    out = out + function(num - 5) + function(num - 1)\n",
    "    M[num] = out\n",
    "    return out\n",
    "\n",
    "\n",
    "if in_num <= 100000:\n",
    "    print(function(in_num))"
   ]
  }
 ],
 "metadata": {
  "kernelspec": {
   "display_name": "Python 3",
   "language": "python",
   "name": "python3"
  },
  "language_info": {
   "codemirror_mode": {
    "name": "ipython",
    "version": 3
   },
   "file_extension": ".py",
   "mimetype": "text/x-python",
   "name": "python",
   "nbconvert_exporter": "python",
   "pygments_lexer": "ipython3",
   "version": "3.6.1"
  }
 },
 "nbformat": 4,
 "nbformat_minor": 2
}
