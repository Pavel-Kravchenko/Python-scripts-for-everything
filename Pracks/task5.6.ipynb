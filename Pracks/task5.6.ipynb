{
 "cells": [
  {
   "cell_type": "code",
   "execution_count": 19,
   "metadata": {},
   "outputs": [],
   "source": [
    "with open('in.pdb', \"r\") as in_file:\n",
    "    lenl_all = in_file.readlines()\n",
    "    for seq in lenl_all:\n",
    "        seq = seq.split()\n",
    "        if len(seq) >= 3 and seq[2] == \"HOH\" and seq[0] == \"FORMUL\":\n",
    "            stri = seq[3][1:]\n",
    "            strin = \"\"\n",
    "            for i in stri:\n",
    "                if i != \"(\":\n",
    "                    strin = strin + i\n",
    "                else:\n",
    "                    break\n",
    "with open('out.txt', \"w\") as out_file:\n",
    "    out_file.write(strin)"
   ]
  }
 ],
 "metadata": {
  "kernelspec": {
   "display_name": "Python 3",
   "language": "python",
   "name": "python3"
  },
  "language_info": {
   "codemirror_mode": {
    "name": "ipython",
    "version": 3
   },
   "file_extension": ".py",
   "mimetype": "text/x-python",
   "name": "python",
   "nbconvert_exporter": "python",
   "pygments_lexer": "ipython3",
   "version": "3.6.1"
  }
 },
 "nbformat": 4,
 "nbformat_minor": 2
}
