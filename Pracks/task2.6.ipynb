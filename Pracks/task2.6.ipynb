{
 "cells": [
  {
   "cell_type": "code",
   "execution_count": 2,
   "metadata": {},
   "outputs": [
    {
     "name": "stdout",
     "output_type": "stream",
     "text": [
      "4\n",
      "asrg\n",
      "OK\n",
      "qwe\n",
      "OK\n",
      "qwe\n",
      "qwe1\n",
      "qwe\n",
      "qwe2\n"
     ]
    }
   ],
   "source": [
    "n_lines = int(input())\n",
    "names = {}\n",
    "if n_lines <= 10000 and n_lines >= 1:\n",
    "    for i in range(0, n_lines):\n",
    "        user = input().strip()\n",
    "        if user not in names:\n",
    "            names[user] = 1\n",
    "            print('OK')\n",
    "        else:\n",
    "            print(user + str(names.get(user)))\n",
    "            names[user] += 1\n"
   ]
  }
 ],
 "metadata": {
  "kernelspec": {
   "display_name": "Python 3",
   "language": "python",
   "name": "python3"
  },
  "language_info": {
   "codemirror_mode": {
    "name": "ipython",
    "version": 3
   },
   "file_extension": ".py",
   "mimetype": "text/x-python",
   "name": "python",
   "nbconvert_exporter": "python",
   "pygments_lexer": "ipython3",
   "version": "3.6.5"
  }
 },
 "nbformat": 4,
 "nbformat_minor": 2
}
