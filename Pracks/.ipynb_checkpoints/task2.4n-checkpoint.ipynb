{
 "cells": [
  {
   "cell_type": "code",
   "execution_count": 21,
   "metadata": {
    "scrolled": true
   },
   "outputs": [
    {
     "name": "stdout",
     "output_type": "stream",
     "text": [
      "10\n",
      "1 3 4 5\n",
      "NO\n",
      "4 7 8 10\n",
      "YES\n",
      "HELP\n",
      "7 8\n"
     ]
    }
   ],
   "source": [
    "input_n = int(input().strip())\n",
    "_set_ = set()\n",
    "for i in range(1, input_n + 1):\n",
    "    _set_ = _set_.union(set(str(i)))\n",
    "input_string_beatrice_1 = \"\"\n",
    "input_string_beatrice_2 = \"\"\n",
    "if input_n < 1000:\n",
    "    while input_string_beatrice_1 != \"HELP\":\n",
    "        input_string_beatrice_1 = input().strip()\n",
    "        if input_string_beatrice_1 == \"HELP\":\n",
    "            break\n",
    "        input_string_beatrice_2 = input().strip()\n",
    "        if input_string_beatrice_2 == \"NO\":\n",
    "            set_NO = set(input_string_beatrice_1.split(\" \"))\n",
    "            _set_ = _set_.difference(set_NO)\n",
    "        if input_string_beatrice_2 == \"YES\":\n",
    "            set_YES = set(input_string_beatrice_1.split(\" \"))\n",
    "            _set_ = _set_ & set_YES\n",
    "_out_ = sorted(list(_set_))\n",
    "_out_e = \" \".join(_out_)\n",
    "print(str(_out_e))"
   ]
  }
 ],
 "metadata": {
  "kernelspec": {
   "display_name": "Python 3",
   "language": "python",
   "name": "python3"
  },
  "language_info": {
   "codemirror_mode": {
    "name": "ipython",
    "version": 3
   },
   "file_extension": ".py",
   "mimetype": "text/x-python",
   "name": "python",
   "nbconvert_exporter": "python",
   "pygments_lexer": "ipython3",
   "version": "3.6.5"
  }
 },
 "nbformat": 4,
 "nbformat_minor": 2
}
