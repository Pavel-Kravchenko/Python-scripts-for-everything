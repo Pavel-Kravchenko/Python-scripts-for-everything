{
 "cells": [
  {
   "cell_type": "code",
   "execution_count": 8,
   "metadata": {},
   "outputs": [
    {
     "name": "stdout",
     "output_type": "stream",
     "text": [
      "q\n",
      "j\n",
      "fwqca\n",
      "fwqca\n",
      "fqaq\n",
      "wcj\n",
      "qjacqwf\n",
      "qaqf\n",
      "7\n"
     ]
    }
   ],
   "source": [
    "a = input()\n",
    "print(a[2])\n",
    "print(a[-2])\n",
    "print(a[:5])\n",
    "print(a[:-2])\n",
    "print(a[::2])\n",
    "print(a[1::2])\n",
    "print(a[::-1])\n",
    "print(a[::-2])\n",
    "print(len(a))"
   ]
  }
 ],
 "metadata": {
  "kernelspec": {
   "display_name": "Python 3",
   "language": "python",
   "name": "python3"
  },
  "language_info": {
   "codemirror_mode": {
    "name": "ipython",
    "version": 3
   },
   "file_extension": ".py",
   "mimetype": "text/x-python",
   "name": "python",
   "nbconvert_exporter": "python",
   "pygments_lexer": "ipython3",
   "version": "3.6.1"
  }
 },
 "nbformat": 4,
 "nbformat_minor": 2
}
