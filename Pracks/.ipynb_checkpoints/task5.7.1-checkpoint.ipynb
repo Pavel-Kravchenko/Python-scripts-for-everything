{
 "cells": [
  {
   "cell_type": "code",
   "execution_count": 45,
   "metadata": {},
   "outputs": [],
   "source": [
    "with open('in.txt', 'r') as f:\n",
    "    in_lines = f.readlines()\n",
    "dic1 = dict()\n",
    "dic2 = dict()\n",
    "for i in in_lines:\n",
    "    line = i.split()\n",
    "    if line[0] == 'id1':\n",
    "        ind = True\n",
    "    if line[0][:2] != 'id' and ind is True:\n",
    "        if line[0] not in dic1.keys():\n",
    "            dic1[line[0]] = []\n",
    "        dic1[line[0]].append(line[1])\n",
    "    if line[0] == 'id2':\n",
    "        ind = False\n",
    "    if line[0][:2] != 'id' and ind is False:\n",
    "        if line[0] not in dic2.keys():\n",
    "            dic2[line[0]] = []\n",
    "        dic2[line[0]].append(line[1])\n",
    "\n",
    "ans = []\n",
    "for i in dic1.keys():\n",
    "    for j in dic1[i]:\n",
    "        if j in dic2.keys():\n",
    "            ans.append(i + '|' + ' '.join(dic2[j]))\n",
    "\n",
    "fin = []\n",
    "for i in range(len(ans)):\n",
    "    ans[i] = ans[i].split('|')\n",
    "    ans[i][1] = ans[i][1].split()\n",
    "    for j in ans[i][1]:\n",
    "        fin.append(ans[i][0] + ' ' + j)\n",
    "fin.sort()\n",
    "\n",
    "with open('out.txt', 'w') as f:\n",
    "    f.write('id1 -> id3' + '\\n')\n",
    "    for i in fin:\n",
    "        f.write(i + '\\n')"
   ]
  }
 ],
 "metadata": {
  "kernelspec": {
   "display_name": "Python 3",
   "language": "python",
   "name": "python3"
  },
  "language_info": {
   "codemirror_mode": {
    "name": "ipython",
    "version": 3
   },
   "file_extension": ".py",
   "mimetype": "text/x-python",
   "name": "python",
   "nbconvert_exporter": "python",
   "pygments_lexer": "ipython3",
   "version": "3.6.5"
  }
 },
 "nbformat": 4,
 "nbformat_minor": 2
}
