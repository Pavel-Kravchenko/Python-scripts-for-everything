{
 "cells": [
  {
   "cell_type": "code",
   "execution_count": 3,
   "metadata": {},
   "outputs": [],
   "source": [
    "with open('in.txt', 'r') as f:\n",
    "    in_lines = f.readlines()\n",
    "dic1 = dict()\n",
    "dic2 = dict()\n",
    "ind = 0\n",
    "for i in in_lines:\n",
    "    line = i.split()\n",
    "    if ind == 1 and len(line) != 3:\n",
    "        dic1[line[0]] = float(line[1])\n",
    "    if ind == 2 and len(line) != 3:\n",
    "        dic2[line[0]] = float(line[1])\n",
    "    if len(line) == 3:\n",
    "        ind += 1\n",
    "ans = []\n",
    "for i in dic1.keys():\n",
    "    if i in dic2.keys():\n",
    "        ans.append(i + ' ' + str(round((dic1.get(i) + dic2.get(i)), 5)))\n",
    "    if i not in dic2.keys():\n",
    "        ans.append(i + ' NODATA')\n",
    "for j in dic2.keys():\n",
    "    if j not in dic1.keys():\n",
    "        ans.append(j + ' NODATA')\n",
    "with open('out.txt', 'w') as f:\n",
    "    f.write('id -> sum' + '\\n')\n",
    "    for i in sorted(ans):\n",
    "        f.write(i + '\\n')"
   ]
  }
 ],
 "metadata": {
  "kernelspec": {
   "display_name": "Python 3",
   "language": "python",
   "name": "python3"
  },
  "language_info": {
   "codemirror_mode": {
    "name": "ipython",
    "version": 3
   },
   "file_extension": ".py",
   "mimetype": "text/x-python",
   "name": "python",
   "nbconvert_exporter": "python",
   "pygments_lexer": "ipython3",
   "version": "3.6.1"
  }
 },
 "nbformat": 4,
 "nbformat_minor": 2
}
