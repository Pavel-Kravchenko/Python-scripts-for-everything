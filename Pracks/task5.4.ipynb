{
 "cells": [
  {
   "cell_type": "code",
   "execution_count": 19,
   "metadata": {},
   "outputs": [],
   "source": [
    "import pickle\n",
    "import json\n",
    "import csv\n",
    "dict_d = {}\n",
    "with open('in.txt') as csvfile:\n",
    "    iris_dataset = csv.reader(csvfile)\n",
    "    header = next(iris_dataset)\n",
    "    for i in header:\n",
    "        dict_d[i] = []\n",
    "    for row in iris_dataset:\n",
    "        for i in range(len(row)):\n",
    "            dict_d[header[i]].append(int(row[i]))\n",
    "with open('out.txt', 'w') as out_file:\n",
    "    out_file.write(json.dumps(dict_d, sort_keys=True, indent=4))"
   ]
  },
  {
   "cell_type": "code",
   "execution_count": null,
   "metadata": {
    "collapsed": true
   },
   "outputs": [],
   "source": []
  }
 ],
 "metadata": {
  "kernelspec": {
   "display_name": "Python 3",
   "language": "python",
   "name": "python3"
  },
  "language_info": {
   "codemirror_mode": {
    "name": "ipython",
    "version": 3
   },
   "file_extension": ".py",
   "mimetype": "text/x-python",
   "name": "python",
   "nbconvert_exporter": "python",
   "pygments_lexer": "ipython3",
   "version": "3.6.1"
  }
 },
 "nbformat": 4,
 "nbformat_minor": 2
}
