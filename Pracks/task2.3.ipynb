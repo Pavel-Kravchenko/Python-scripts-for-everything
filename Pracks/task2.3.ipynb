{
 "cells": [
  {
   "cell_type": "code",
   "execution_count": null,
   "metadata": {},
   "outputs": [
    {
     "name": "stdout",
     "output_type": "stream",
     "text": [
      "7 5\n",
      "7 7\n",
      "3 3\n",
      "4 7\n",
      "II.....\n"
     ]
    }
   ],
   "source": [
    "_input_ = str(input()).strip()\n",
    "_input_ = _input_.split(\" \")\n",
    "_list_ = ''\n",
    "\n",
    "for i in range(int(_input_[0])):\n",
    "    _list_ = _list_ + \"I\"\n",
    "\n",
    "for i in range(int(_input_[1])):\n",
    "    block = input().strip().split()\n",
    "    left = int(block[0])\n",
    "    right = int(block[1])\n",
    "    if left >= 1 and right <= 100 and left <= 100 and right >= 1:\n",
    "        if left <= len(_list_) and right <= len(_list_):\n",
    "            if left - right != 0:\n",
    "                for i in range(left, right + 1):\n",
    "                    _list_ = _list_[:(i - 1)] + \".\" + _list_[(i):]\n",
    "            else:\n",
    "                _list_ = _list_[:(left - 1)] + \".\" + _list_[(right):]\n",
    "print(_list_)"
   ]
  }
 ],
 "metadata": {
  "kernelspec": {
   "display_name": "Python 3",
   "language": "python",
   "name": "python3"
  },
  "language_info": {
   "codemirror_mode": {
    "name": "ipython",
    "version": 3
   },
   "file_extension": ".py",
   "mimetype": "text/x-python",
   "name": "python",
   "nbconvert_exporter": "python",
   "pygments_lexer": "ipython3",
   "version": "3.6.1"
  }
 },
 "nbformat": 4,
 "nbformat_minor": 2
}
