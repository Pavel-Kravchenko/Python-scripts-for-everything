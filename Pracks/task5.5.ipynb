{
 "cells": [
  {
   "cell_type": "code",
   "execution_count": 19,
   "metadata": {},
   "outputs": [],
   "source": [
    "from decimal import *\n",
    "getcontext().prec = 100\n",
    "with open('in.txt', \"r\") as in_file:\n",
    "    lenl_all = in_file.readlines()\n",
    "    summ = 0\n",
    "    for num in lenl_all:\n",
    "        if len(num.strip()) != 0:\n",
    "            try:\n",
    "                num = float(num.strip())\n",
    "                summ = Decimal(summ) + Decimal(num)\n",
    "            except ValueError:\n",
    "                summ = \"nan\"\n",
    "                break\n",
    "with open('out.txt', \"w\") as out_file:\n",
    "    out_file.write(str(summ))"
   ]
  }
 ],
 "metadata": {
  "kernelspec": {
   "display_name": "Python 3",
   "language": "python",
   "name": "python3"
  },
  "language_info": {
   "codemirror_mode": {
    "name": "ipython",
    "version": 3
   },
   "file_extension": ".py",
   "mimetype": "text/x-python",
   "name": "python",
   "nbconvert_exporter": "python",
   "pygments_lexer": "ipython3",
   "version": "3.6.1"
  }
 },
 "nbformat": 4,
 "nbformat_minor": 2
}
