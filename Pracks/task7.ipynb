{
 "cells": [
  {
   "cell_type": "code",
   "execution_count": 99,
   "metadata": {},
   "outputs": [
    {
     "name": "stdout",
     "output_type": "stream",
     "text": [
      "2\n",
      "BGGBG\n",
      "GGBGB\n"
     ]
    }
   ],
   "source": [
    "time = int(input())\n",
    "line = input()\n",
    "lenl = len(line)\n",
    "def liner(d):\n",
    "    dic = {}\n",
    "    for k in d:\n",
    "        if k >= 0 and k < lenl: \n",
    "            if k == 0:\n",
    "                if d[k] == \"B\" and d[k+1] == \"G\":\n",
    "                    dic[k] = \"G\"\n",
    "                if d[k] == \"B\" and d[k+1] == \"B\":\n",
    "                    dic[k] = \"B\"\n",
    "                if d[k] == \"G\":\n",
    "                    dic[k] = \"G\"\n",
    "            if k > 0 and k < lenl-1:\n",
    "                if d[k] == \"B\" and d[k+1] == \"G\":\n",
    "                    dic[k] = \"G\"\n",
    "                if d[k] == \"B\" and d[k+1] == \"B\":\n",
    "                    dic[k] = \"B\"\n",
    "                if d[k] == \"G\" and d[k-1] == \"B\":\n",
    "                    dic[k] = \"B\"\n",
    "                if d[k] == \"G\" and d[k-1] == \"G\":\n",
    "                    dic[k] = \"G\"\n",
    "            \n",
    "            if k+1 == lenl:\n",
    "                if d[k] == \"G\" and d[k-1] == \"B\":\n",
    "                    dic[k] = \"B\"\n",
    "                if d[k] == \"G\" and d[k-1] == \"G\":\n",
    "                    dic[k] = \"G\"\n",
    "                if d[k] == \"B\":\n",
    "                    dic[k] = \"B\"         \n",
    "    d = {}\n",
    "    for key in sorted(dic.keys()):\n",
    "        d[key] = dic[key]\n",
    "    return(d)\n",
    "\n",
    "if time <= 50 and lenl > 1:\n",
    "    d = {}\n",
    "    for i in range(len(line)):\n",
    "        d[i] = line[i]\n",
    "    c = 0\n",
    "    while c != time:\n",
    "        d = liner(d)  \n",
    "        c += 1\n",
    "        \n",
    "    line2 = \"\"\n",
    "    for k in d:\n",
    "        line2 = line2 + d[k]\n",
    "    print(line2)\n",
    "if time <= 50 and lenl == 1:\n",
    "    if line == \"B\":\n",
    "        print(\"B\")  \n",
    "    if line == \"G\":\n",
    "        print(\"G\")  "
   ]
  }
 ],
 "metadata": {
  "kernelspec": {
   "display_name": "Python 3",
   "language": "python",
   "name": "python3"
  },
  "language_info": {
   "codemirror_mode": {
    "name": "ipython",
    "version": 3
   },
   "file_extension": ".py",
   "mimetype": "text/x-python",
   "name": "python",
   "nbconvert_exporter": "python",
   "pygments_lexer": "ipython3",
   "version": "3.6.1"
  }
 },
 "nbformat": 4,
 "nbformat_minor": 2
}
