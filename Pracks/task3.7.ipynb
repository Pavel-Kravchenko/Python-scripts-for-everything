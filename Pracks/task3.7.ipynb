{
 "cells": [
  {
   "cell_type": "code",
   "execution_count": 48,
   "metadata": {},
   "outputs": [
    {
     "name": "stdout",
     "output_type": "stream",
     "text": [
      "2\n",
      "[0, 1]\n",
      "[1, 0]\n"
     ]
    }
   ],
   "source": [
    "import itertools\n",
    "in_num = int(input().strip())\n",
    "if 0 < in_num < 10:\n",
    "    in_num = [i for i in range(0, in_num)]\n",
    "    if len(in_num) == 1:\n",
    "        print(in_num)\n",
    "    else:\n",
    "        out = list(itertools.permutations(in_num))\n",
    "        out = sorted(out)\n",
    "        for i in range(len(out)):\n",
    "            if len(out[i]) != 1:\n",
    "                print(list(out[i]))"
   ]
  }
 ],
 "metadata": {
  "kernelspec": {
   "display_name": "Python 3",
   "language": "python",
   "name": "python3"
  },
  "language_info": {
   "codemirror_mode": {
    "name": "ipython",
    "version": 3
   },
   "file_extension": ".py",
   "mimetype": "text/x-python",
   "name": "python",
   "nbconvert_exporter": "python",
   "pygments_lexer": "ipython3",
   "version": "3.6.1"
  }
 },
 "nbformat": 4,
 "nbformat_minor": 2
}
