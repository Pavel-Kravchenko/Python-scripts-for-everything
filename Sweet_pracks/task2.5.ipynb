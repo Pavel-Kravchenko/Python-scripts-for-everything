{
 "cells": [
  {
   "cell_type": "code",
   "execution_count": 41,
   "metadata": {},
   "outputs": [
    {
     "name": "stdout",
     "output_type": "stream",
     "text": [
      "a 1\n",
      "am 1\n",
      "girl 1\n",
      "i 1\n",
      "russian 1\n",
      "simple 1\n"
     ]
    }
   ],
   "source": [
    "import operator\n",
    "_input_ = input()\n",
    "array = list(_input_.strip().split())\n",
    "result = {i: array.count(i) for i in array}\n",
    "result = sorted(result.items(), key=operator.itemgetter(0))\n",
    "for i in result:\n",
    "    print(str(i[0]) + \" \" + str(i[1]))"
   ]
  }
 ],
 "metadata": {
  "kernelspec": {
   "display_name": "Python 3",
   "language": "python",
   "name": "python3"
  },
  "language_info": {
   "codemirror_mode": {
    "name": "ipython",
    "version": 3
   },
   "file_extension": ".py",
   "mimetype": "text/x-python",
   "name": "python",
   "nbconvert_exporter": "python",
   "pygments_lexer": "ipython3",
   "version": "3.6.1"
  }
 },
 "nbformat": 4,
 "nbformat_minor": 2
}
