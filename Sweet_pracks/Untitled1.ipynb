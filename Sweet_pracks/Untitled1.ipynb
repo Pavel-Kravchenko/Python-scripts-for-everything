{
 "cells": [
  {
   "cell_type": "code",
   "execution_count": 1,
   "metadata": {},
   "outputs": [
    {
     "name": "stdout",
     "output_type": "stream",
     "text": [
      "3\n",
      "wer\n",
      "OK\n",
      "wer\n",
      "wer1\n",
      "wer\n",
      "wer2\n"
     ]
    }
   ],
   "source": [
    "amount = int(input()) \n",
    "users = {} \n",
    "\n",
    "for i in range(0, amount): \n",
    "    user = input() \n",
    "    if user not in users: \n",
    "        users[user] = 1 \n",
    "        print('OK') \n",
    "    else: \n",
    "        print(user+str(users.get(user))) \n",
    "        users[user] += 1"
   ]
  }
 ],
 "metadata": {
  "kernelspec": {
   "display_name": "Python 3",
   "language": "python",
   "name": "python3"
  },
  "language_info": {
   "codemirror_mode": {
    "name": "ipython",
    "version": 3
   },
   "file_extension": ".py",
   "mimetype": "text/x-python",
   "name": "python",
   "nbconvert_exporter": "python",
   "pygments_lexer": "ipython3",
   "version": "3.6.5"
  }
 },
 "nbformat": 4,
 "nbformat_minor": 2
}
