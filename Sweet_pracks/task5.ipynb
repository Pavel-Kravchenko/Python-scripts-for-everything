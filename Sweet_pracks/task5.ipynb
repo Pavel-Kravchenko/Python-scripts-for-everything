{
 "cells": [
  {
   "cell_type": "code",
   "execution_count": 44,
   "metadata": {},
   "outputs": [
    {
     "name": "stdout",
     "output_type": "stream",
     "text": [
      "1 1 1 1\n",
      "3\n"
     ]
    }
   ],
   "source": [
    "a = input()\n",
    "a = a.split()\n",
    "c = 1\n",
    "b = 0\n",
    "for i in a:\n",
    "    if int(i) <= 109 and int(i) >= 1:\n",
    "        if i in a[c:]:\n",
    "            b += 1\n",
    "        c += 1\n",
    "print(b)"
   ]
  }
 ],
 "metadata": {
  "kernelspec": {
   "display_name": "Python 3",
   "language": "python",
   "name": "python3"
  },
  "language_info": {
   "codemirror_mode": {
    "name": "ipython",
    "version": 3
   },
   "file_extension": ".py",
   "mimetype": "text/x-python",
   "name": "python",
   "nbconvert_exporter": "python",
   "pygments_lexer": "ipython3",
   "version": "3.6.1"
  }
 },
 "nbformat": 4,
 "nbformat_minor": 2
}
