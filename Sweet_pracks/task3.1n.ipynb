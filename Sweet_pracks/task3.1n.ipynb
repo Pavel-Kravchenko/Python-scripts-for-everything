{
 "cells": [
  {
   "cell_type": "code",
   "execution_count": null,
   "metadata": {
    "collapsed": true
   },
   "outputs": [],
   "source": [
    "input_ = int(input())\n",
    "\n",
    "\n",
    "def check2rec(num):\n",
    "    if num == 1:\n",
    "        return \"YES\"\n",
    "    if num & 1:\n",
    "        return \"NO\"\n",
    "    return check2rec(num >> 1)\n",
    "\n",
    "\n",
    "out_ = check2rec(input_)\n",
    "print(out_)"
   ]
  }
 ],
 "metadata": {
  "kernelspec": {
   "display_name": "Python 3",
   "language": "python",
   "name": "python3"
  },
  "language_info": {
   "codemirror_mode": {
    "name": "ipython",
    "version": 3
   },
   "file_extension": ".py",
   "mimetype": "text/x-python",
   "name": "python",
   "nbconvert_exporter": "python",
   "pygments_lexer": "ipython3",
   "version": "3.6.1"
  }
 },
 "nbformat": 4,
 "nbformat_minor": 2
}
