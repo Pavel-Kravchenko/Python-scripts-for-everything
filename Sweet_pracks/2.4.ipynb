{
 "cells": [
  {
   "cell_type": "code",
   "execution_count": 2,
   "metadata": {},
   "outputs": [
    {
     "name": "stdout",
     "output_type": "stream",
     "text": [
      "10\n",
      "1 2 3 4\n",
      "YES\n",
      "4 5 6 7\n",
      "NO\n",
      "HELP\n",
      "1 2 3 "
     ]
    }
   ],
   "source": [
    "max_integer = int(input())\n",
    "\n",
    "numbers = []\n",
    "whole = set()\n",
    "for m in range(1, max_integer+1):\n",
    "    whole.add(str(m))\n",
    "\n",
    "while 'HELP' not in numbers:\n",
    "    numbers = input().split(' ')\n",
    "    if 'HELP' in numbers:\n",
    "        break\n",
    "    question = input()\n",
    "    if question == 'YES':\n",
    "        yes = set(numbers)\n",
    "        whole = whole.intersection(yes)\n",
    "\n",
    "    elif question == 'NO':\n",
    "        no = set(numbers)\n",
    "        whole = whole.difference(no)\n",
    "\n",
    "fin = list(map(int, list(whole)))\n",
    "fin = sorted(fin)\n",
    "for a in fin:\n",
    "    print(a, end=' ')\n"
   ]
  }
 ],
 "metadata": {
  "kernelspec": {
   "display_name": "Python 3",
   "language": "python",
   "name": "python3"
  },
  "language_info": {
   "codemirror_mode": {
    "name": "ipython",
    "version": 3
   },
   "file_extension": ".py",
   "mimetype": "text/x-python",
   "name": "python",
   "nbconvert_exporter": "python",
   "pygments_lexer": "ipython3",
   "version": "3.6.5"
  }
 },
 "nbformat": 4,
 "nbformat_minor": 2
}
