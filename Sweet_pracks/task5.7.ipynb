{
 "cells": [
  {
   "cell_type": "code",
   "execution_count": 31,
   "metadata": {},
   "outputs": [
    {
     "name": "stdout",
     "output_type": "stream",
     "text": [
      "{'b': ['2'], 'a': ['1']}\n",
      "{'2': ['B']}\n"
     ]
    },
    {
     "ename": "TypeError",
     "evalue": "unhashable type: 'list'",
     "output_type": "error",
     "traceback": [
      "\u001b[0;31m---------------------------------------------------------------------------\u001b[0m",
      "\u001b[0;31mTypeError\u001b[0m                                 Traceback (most recent call last)",
      "\u001b[0;32m<ipython-input-31-647d1414ae44>\u001b[0m in \u001b[0;36m<module>\u001b[0;34m()\u001b[0m\n\u001b[1;32m     25\u001b[0m             \u001b[0mdic3\u001b[0m\u001b[0;34m[\u001b[0m\u001b[0mi\u001b[0m\u001b[0;34m]\u001b[0m \u001b[0;34m=\u001b[0m \u001b[0mdic2\u001b[0m\u001b[0;34m[\u001b[0m\u001b[0mdic2\u001b[0m\u001b[0;34m.\u001b[0m\u001b[0mkeys\u001b[0m\u001b[0;34m(\u001b[0m\u001b[0;34m)\u001b[0m\u001b[0;34m[\u001b[0m\u001b[0mi\u001b[0m\u001b[0;34m]\u001b[0m\u001b[0;34m]\u001b[0m\u001b[0;34m\u001b[0m\u001b[0m\n\u001b[1;32m     26\u001b[0m     \u001b[0;32melse\u001b[0m\u001b[0;34m:\u001b[0m\u001b[0;34m\u001b[0m\u001b[0m\n\u001b[0;32m---> 27\u001b[0;31m         \u001b[0mdic3\u001b[0m\u001b[0;34m[\u001b[0m\u001b[0mdic1\u001b[0m\u001b[0;34m[\u001b[0m\u001b[0mi\u001b[0m\u001b[0;34m]\u001b[0m\u001b[0;34m]\u001b[0m \u001b[0;34m=\u001b[0m \u001b[0mi\u001b[0m\u001b[0;34m\u001b[0m\u001b[0m\n\u001b[0m\u001b[1;32m     28\u001b[0m \u001b[0mprint\u001b[0m\u001b[0;34m(\u001b[0m\u001b[0mdic1\u001b[0m\u001b[0;34m)\u001b[0m\u001b[0;34m\u001b[0m\u001b[0m\n\u001b[1;32m     29\u001b[0m \u001b[0;32mwith\u001b[0m \u001b[0mopen\u001b[0m\u001b[0;34m(\u001b[0m\u001b[0;34m'out.txt'\u001b[0m\u001b[0;34m,\u001b[0m \u001b[0;34m\"w\"\u001b[0m\u001b[0;34m)\u001b[0m \u001b[0;32mas\u001b[0m \u001b[0mout_file\u001b[0m\u001b[0;34m:\u001b[0m\u001b[0;34m\u001b[0m\u001b[0m\n",
      "\u001b[0;31mTypeError\u001b[0m: unhashable type: 'list'"
     ]
    }
   ],
   "source": [
    "with open('in.txt', \"r\") as in_file:\n",
    "    strin = in_file.readline().strip()\n",
    "    strin = in_file.readline().strip()\n",
    "    dic1 = {}\n",
    "    dic2 = {}\n",
    "    while strin[0:2] != \"id\":\n",
    "        strin = strin.split()\n",
    "        if strin[0] not in dic1.keys():\n",
    "            dic1[strin[0]] = []\n",
    "        dic1[strin[0]].append(strin[1])\n",
    "        strin = in_file.readline().strip()\n",
    "    strin = in_file.readline().strip()\n",
    "    while len(strin) != 0:\n",
    "        strin = strin.split()\n",
    "        if strin[0] not in dic1.keys():\n",
    "            dic2[strin[0]] = []\n",
    "        dic2[strin[0]].append(strin[1])\n",
    "        strin = in_file.readline().strip()\n",
    "print(dic1)\n",
    "print(dic2)\n",
    "dic3 = {}\n",
    "for i in dic1.values():\n",
    "    for j in dic2.keys():\n",
    "        if i == j:\n",
    "            dic3[i] = dic2[dic2.keys()[i]]\n",
    "    else:\n",
    "        dic3[dic1[i]] = i\n",
    "print(dic1)\n",
    "with open('out.txt', \"w\") as out_file:\n",
    "    out_file.write(strin)"
   ]
  }
 ],
 "metadata": {
  "kernelspec": {
   "display_name": "Python 3",
   "language": "python",
   "name": "python3"
  },
  "language_info": {
   "codemirror_mode": {
    "name": "ipython",
    "version": 3
   },
   "file_extension": ".py",
   "mimetype": "text/x-python",
   "name": "python",
   "nbconvert_exporter": "python",
   "pygments_lexer": "ipython3",
   "version": "3.6.1"
  }
 },
 "nbformat": 4,
 "nbformat_minor": 2
}
