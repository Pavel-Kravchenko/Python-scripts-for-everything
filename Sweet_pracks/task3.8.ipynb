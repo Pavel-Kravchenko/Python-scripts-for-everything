{
 "cells": [
  {
   "cell_type": "code",
   "execution_count": 62,
   "metadata": {},
   "outputs": [
    {
     "name": "stdout",
     "output_type": "stream",
     "text": [
      "10 4\n",
      "qwe\n",
      "qwert\n",
      "qwerty\n",
      "qwertyu\n",
      "qwe\n",
      "qwert\n",
      "qwerty\n",
      "qwertyu\n",
      "55\n",
      "qwertyu\n",
      "qwerty\n",
      "qwert\n",
      "qwe\n"
     ]
    }
   ],
   "source": [
    "in_1 = input().strip().split(\" \")\n",
    "M = {0: 0, 1: 1}\n",
    "\n",
    "\n",
    "def fib(n):\n",
    "    if n in M:\n",
    "        return M[n]\n",
    "    M[n] = fib(n - 1) + fib(n - 2)\n",
    "    return M[n]\n",
    "\n",
    "\n",
    "bim_bam_bom = []\n",
    "for i in range(0, int(in_1[1])):\n",
    "    bim_bam_bom = bim_bam_bom + [input().strip()]\n",
    "for i in range(len(bim_bam_bom)):\n",
    "    print(bim_bam_bom[len(bim_bam_bom) - i - 1])\n",
    "print(fib(int(in_1[0])))\n",
    "for i in bim_bam_bom:\n",
    "    print(i)"
   ]
  }
 ],
 "metadata": {
  "kernelspec": {
   "display_name": "Python 3",
   "language": "python",
   "name": "python3"
  },
  "language_info": {
   "codemirror_mode": {
    "name": "ipython",
    "version": 3
   },
   "file_extension": ".py",
   "mimetype": "text/x-python",
   "name": "python",
   "nbconvert_exporter": "python",
   "pygments_lexer": "ipython3",
   "version": "3.6.1"
  }
 },
 "nbformat": 4,
 "nbformat_minor": 2
}
