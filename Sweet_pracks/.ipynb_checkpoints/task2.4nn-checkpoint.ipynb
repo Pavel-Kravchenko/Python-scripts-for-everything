{
 "cells": [
  {
   "cell_type": "code",
   "execution_count": 11,
   "metadata": {},
   "outputs": [
    {
     "name": "stdout",
     "output_type": "stream",
     "text": [
      "10\n",
      "1 2 3 4\n",
      "YES\n",
      "5 6 7 \n",
      "NO\n",
      "HELP\n",
      "6 7 8 "
     ]
    }
   ],
   "source": [
    "input_n = int(input().strip())\n",
    "_set_ = set()\n",
    "for i in range(1, input_n + 1):\n",
    "    _set_ = _set_.union(set(str(i)))\n",
    "input_line = [] \n",
    "\n",
    "if input_n < 1000:\n",
    "    while \"HELP\" not in input_line: \n",
    "        input_line = input().split(' ') \n",
    "        if \"HELP\" in input_line: \n",
    "            break \n",
    "        input_string_beatrice_2 = input() \n",
    "        if input_string_beatrice_2 == \"YES\": \n",
    "            YES = set(input_line) \n",
    "            _set_ = _set_.intersection(YES) \n",
    "        elif input_string_beatrice_2 == \"NO\": \n",
    "            NO = set(input_line) \n",
    "            _set_ = _set_.difference(NO) \n",
    "_out_ = list(map(int, list(_set_))) \n",
    "_out_ = sorted(fin) \n",
    "for a in _out_: \n",
    "    print(a, end=' ')\n"
   ]
  }
 ],
 "metadata": {
  "kernelspec": {
   "display_name": "Python 3",
   "language": "python",
   "name": "python3"
  },
  "language_info": {
   "codemirror_mode": {
    "name": "ipython",
    "version": 3
   },
   "file_extension": ".py",
   "mimetype": "text/x-python",
   "name": "python",
   "nbconvert_exporter": "python",
   "pygments_lexer": "ipython3",
   "version": "3.6.5"
  }
 },
 "nbformat": 4,
 "nbformat_minor": 2
}
