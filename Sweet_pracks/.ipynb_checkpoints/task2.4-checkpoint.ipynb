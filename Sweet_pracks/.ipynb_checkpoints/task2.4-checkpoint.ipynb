{
 "cells": [
  {
   "cell_type": "code",
   "execution_count": 78,
   "metadata": {},
   "outputs": [
    {
     "name": "stdout",
     "output_type": "stream",
     "text": [
      "122\n",
      "{1, 2, 3, 4, 5, 6, 7, 8, 9, 10, 11, 12, 13, 14, 15, 16, 17, 18, 19, 20, 21, 22, 23, 24, 25, 26, 27, 28, 29, 30, 31, 32, 33, 34, 35, 36, 37, 38, 39, 40, 41, 42, 43, 44, 45, 46, 47, 48, 49, 50, 51, 52, 53, 54, 55, 56, 57, 58, 59, 60, 61, 62, 63, 64, 65, 66, 67, 68, 69, 70, 71, 72, 73, 74, 75, 76, 77, 78, 79, 80, 81, 82, 83, 84, 85, 86, 87, 88, 89, 90, 91, 92, 93, 94, 95, 96, 97, 98, 99, 100, 101, 102, 103, 104, 105, 106, 107, 108, 109, 110, 111, 112, 113, 114, 115, 116, 117, 118, 119, 120, 121, 122}\n",
      "\n",
      "1 2 3 4\n",
      "YES\n",
      "{'1', '4', '3', '2'}\n",
      "set()\n",
      "5 6 7\n",
      "NO\n",
      "{'6', '-', '7', '5'}\n",
      "HELP\n",
      "\n"
     ]
    }
   ],
   "source": [
    "input_n = int(input().strip())\n",
    "YES = {item for item in range(1, input_n + 1)}\n",
    "print(YES)\n",
    "NO = {\"-\"}\n",
    "print()\n",
    "input_string_beatrice_1 = \"\"\n",
    "input_string_beatrice_2 = \"\"\n",
    "if input_n < 1000:\n",
    "    while input_string_beatrice_1 != \"HELP\":\n",
    "        input_string_beatrice_1 = input().strip()\n",
    "        if input_string_beatrice_1 == \"HELP\":\n",
    "            break\n",
    "        input_string_beatrice_2 = input().strip()\n",
    "        if input_string_beatrice_2 == \"NO\":\n",
    "            _set_ = set(input_string_beatrice_1.split(\" \"))\n",
    "            NO = NO + _set_\n",
    "            print(NO)\n",
    "        if input_string_beatrice_2 == \"YES\":\n",
    "            _set_ = set(input_string_beatrice_1.split(\" \"))\n",
    "            print(_set_)\n",
    "            YES = YES - _set_\n",
    "            print(YES)\n",
    "_out_ = YES.difference(NO)\n",
    "_out_ = sorted(list(_out_))\n",
    "_out_e = \" \".join(_out_)\n",
    "print(str(_out_e))"
   ]
  }
 ],
 "metadata": {
  "kernelspec": {
   "display_name": "Python 3",
   "language": "python",
   "name": "python3"
  },
  "language_info": {
   "codemirror_mode": {
    "name": "ipython",
    "version": 3
   },
   "file_extension": ".py",
   "mimetype": "text/x-python",
   "name": "python",
   "nbconvert_exporter": "python",
   "pygments_lexer": "ipython3",
   "version": "3.6.5"
  }
 },
 "nbformat": 4,
 "nbformat_minor": 2
}
