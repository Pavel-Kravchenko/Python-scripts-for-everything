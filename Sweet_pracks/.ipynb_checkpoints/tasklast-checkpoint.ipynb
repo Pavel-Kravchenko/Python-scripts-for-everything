{
 "cells": [
  {
   "cell_type": "code",
   "execution_count": 47,
   "metadata": {},
   "outputs": [
    {
     "name": "stdout",
     "output_type": "stream",
     "text": [
      "3\n",
      "((()))\n",
      "(()())\n",
      "(())()\n",
      "()(())\n",
      "()()()\n"
     ]
    }
   ],
   "source": [
    "input_n = int(input().strip())\n",
    "\n",
    "\n",
    "def gen(n: int, counter_open: int, counter_close: int, ans: \"\"):\n",
    "    if counter_open + counter_close == 2 * n:\n",
    "        if counter_open + counter_close != 0:\n",
    "            print(ans)\n",
    "            return\n",
    "    if counter_open < n:\n",
    "        gen(n, counter_open + 1, counter_close, ans + '(')\n",
    "    if counter_open > counter_close:\n",
    "        gen(n, counter_open, counter_close + 1, ans + ')')\n",
    "\n",
    "\n",
    "a = gen(input_n, 0, 0, \"\")"
   ]
  }
 ],
 "metadata": {
  "kernelspec": {
   "display_name": "Python 3",
   "language": "python",
   "name": "python3"
  },
  "language_info": {
   "codemirror_mode": {
    "name": "ipython",
    "version": 3
   },
   "file_extension": ".py",
   "mimetype": "text/x-python",
   "name": "python",
   "nbconvert_exporter": "python",
   "pygments_lexer": "ipython3",
   "version": "3.6.5"
  }
 },
 "nbformat": 4,
 "nbformat_minor": 2
}
