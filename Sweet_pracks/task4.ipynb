{
 "cells": [
  {
   "cell_type": "code",
   "execution_count": 16,
   "metadata": {},
   "outputs": [
    {
     "name": "stdout",
     "output_type": "stream",
     "text": [
      "WUBWEWUBAREWUBWUBTHEWUBCHAMPIONSWUBMYWUBFRIENDWUB\n",
      "WE ARE THE CHAMPIONS MY FRIEND\n"
     ]
    }
   ],
   "source": [
    "line = input()\n",
    "if len(line) <= 200:\n",
    "    a = line.split(\"WUB\")\n",
    "    b = \"\"\n",
    "    for i in a:\n",
    "        if len(i) != 0:\n",
    "            b = b + \" \" + i\n",
    "print(b.strip())"
   ]
  }
 ],
 "metadata": {
  "kernelspec": {
   "display_name": "Python 3",
   "language": "python",
   "name": "python3"
  },
  "language_info": {
   "codemirror_mode": {
    "name": "ipython",
    "version": 3
   },
   "file_extension": ".py",
   "mimetype": "text/x-python",
   "name": "python",
   "nbconvert_exporter": "python",
   "pygments_lexer": "ipython3",
   "version": "3.6.1"
  }
 },
 "nbformat": 4,
 "nbformat_minor": 2
}
