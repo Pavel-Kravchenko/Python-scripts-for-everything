{
 "cells": [
  {
   "cell_type": "code",
   "execution_count": 23,
   "metadata": {},
   "outputs": [
    {
     "name": "stdout",
     "output_type": "stream",
     "text": [
      "10 5 10 2\n",
      "34\n",
      "5\n"
     ]
    }
   ],
   "source": [
    "import random\n",
    "\n",
    "\n",
    "def fib(n):\n",
    "    v1, v2, v3 = 1, 1, 0\n",
    "    for rec in bin(n)[3:]:\n",
    "        calc = v2 * v2\n",
    "        v1, v2, v3 = v1 * v1 + calc, (v1 + v3) * v2, calc + v3 * v3\n",
    "        if rec == '1':\n",
    "            v1, v2, v3 = v1 + v2, v1, v2\n",
    "    return v2\n",
    "\n",
    "\n",
    "seed, min_lim, max_lim, count = map(int, input().strip().split())\n",
    "random.seed(seed)\n",
    "for i in range(count):\n",
    "    fib_id = random.randint(min_lim, max_lim)\n",
    "    fib1 = fib(fib_id)\n",
    "    print(fib1)"
   ]
  }
 ],
 "metadata": {
  "kernelspec": {
   "display_name": "Python 3",
   "language": "python",
   "name": "python3"
  },
  "language_info": {
   "codemirror_mode": {
    "name": "ipython",
    "version": 3
   },
   "file_extension": ".py",
   "mimetype": "text/x-python",
   "name": "python",
   "nbconvert_exporter": "python",
   "pygments_lexer": "ipython3",
   "version": "3.6.1"
  }
 },
 "nbformat": 4,
 "nbformat_minor": 2
}
