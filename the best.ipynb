{
 "cells": [
  {
   "cell_type": "markdown",
   "metadata": {},
   "source": [
    "# Полезные избранные моменты из курса по питону"
   ]
  },
  {
   "cell_type": "markdown",
   "metadata": {},
   "source": [
    "Операции оплезно для оболочки"
   ]
  },
  {
   "cell_type": "code",
   "execution_count": 2,
   "metadata": {
    "scrolled": true
   },
   "outputs": [
    {
     "name": "stdout",
     "output_type": "stream",
     "text": [
      "[4, 'fbb']\n",
      "2\n",
      "fbb\n",
      "[4, 'fbb', 4, 'fbb', 4, 'fbb', 4, 'fbb']\n",
      "{'fbb', 4}\n",
      "2\n"
     ]
    }
   ],
   "source": [
    "a = [] # создать пустой список\n",
    "a.append(4) # добавить в него элемент\n",
    "a.append(\"fbb\")\n",
    "print(a)\n",
    "print(len(a)) \n",
    "print(a[1]) # обращение к элементу по его номеру\n",
    "repeated = a * 4 \n",
    "\n",
    "print(repeated)\n",
    "a = set(repeated)\n",
    "print(a)\n",
    "print(len(a))"
   ]
  },
  {
   "cell_type": "code",
   "execution_count": 4,
   "metadata": {
    "scrolled": true
   },
   "outputs": [
    {
     "ename": "NameError",
     "evalue": "name 'i' is not defined",
     "output_type": "error",
     "traceback": [
      "\u001b[0;31m---------------------------------------------------------------------------\u001b[0m",
      "\u001b[0;31mNameError\u001b[0m                                 Traceback (most recent call last)",
      "\u001b[0;32m<ipython-input-4-124c9a669d07>\u001b[0m in \u001b[0;36m<module>\u001b[0;34m()\u001b[0m\n\u001b[0;32m----> 1\u001b[0;31m \u001b[0mprint\u001b[0m\u001b[0;34m(\u001b[0m\u001b[0;34mf\"Сложение: i + f = {i + f}\"\u001b[0m\u001b[0;34m)\u001b[0m\u001b[0;34m\u001b[0m\u001b[0m\n\u001b[0m\u001b[1;32m      2\u001b[0m \u001b[0mprint\u001b[0m\u001b[0;34m(\u001b[0m\u001b[0;34mf\"Умножение: i * f = {i * f}\"\u001b[0m\u001b[0;34m)\u001b[0m\u001b[0;34m\u001b[0m\u001b[0m\n\u001b[1;32m      3\u001b[0m \u001b[0mprint\u001b[0m\u001b[0;34m(\u001b[0m\u001b[0;34mf\"Нормальное деление: i / f = {i / f}\"\u001b[0m\u001b[0;34m)\u001b[0m\u001b[0;34m\u001b[0m\u001b[0m\n\u001b[1;32m      4\u001b[0m \u001b[0mprint\u001b[0m\u001b[0;34m(\u001b[0m\u001b[0;34mf\"Целочисленное деление: i // f = {i // f}\"\u001b[0m\u001b[0;34m)\u001b[0m\u001b[0;34m\u001b[0m\u001b[0m\n\u001b[1;32m      5\u001b[0m \u001b[0mprint\u001b[0m\u001b[0;34m(\u001b[0m\u001b[0;34mf\"Возведение в степень: i ** f = {i ** f}\"\u001b[0m\u001b[0;34m)\u001b[0m\u001b[0;34m\u001b[0m\u001b[0m\n",
      "\u001b[0;31mNameError\u001b[0m: name 'i' is not defined"
     ]
    }
   ],
   "source": [
    "print(f\"Сложение: i + f = {i + f}\")\n",
    "print(f\"Умножение: i * f = {i * f}\")\n",
    "print(f\"Нормальное деление: i / f = {i / f}\")\n",
    "print(f\"Целочисленное деление: i // f = {i // f}\")\n",
    "print(f\"Возведение в степень: i ** f = {i ** f}\")\n",
    "print(f\"Остаток от деления: i % f = {i % f}\")\n",
    "print(\"Куча других...\")"
   ]
  },
  {
   "cell_type": "markdown",
   "metadata": {},
   "source": [
    "Списки можно получать, разбивая строки по разделителю!"
   ]
  },
  {
   "cell_type": "code",
   "execution_count": 30,
   "metadata": {},
   "outputs": [
    {
     "name": "stdout",
     "output_type": "stream",
     "text": [
      "['aa', 'thomas', 'coupleobeers', 'ginger']\n"
     ]
    }
   ],
   "source": [
    "s = \"aa.thomas.coupleobeers.ginger\"\n",
    "l = s.split(\".\")\n",
    "print(l)"
   ]
  },
  {
   "cell_type": "markdown",
   "metadata": {},
   "source": [
    "Можно получать строки, соединяя списки по разделителю!"
   ]
  },
  {
   "cell_type": "code",
   "execution_count": 31,
   "metadata": {},
   "outputs": [
    {
     "name": "stdout",
     "output_type": "stream",
     "text": [
      "aa_thomas_coupleobeers_ginger\n"
     ]
    }
   ],
   "source": [
    "new_s = \"_\".join(l)\n",
    "print(new_s)"
   ]
  },
  {
   "cell_type": "markdown",
   "metadata": {},
   "source": [
    "Очень важно уметь брать срезы списков (с кортежами так тоже можно делать)."
   ]
  },
  {
   "cell_type": "code",
   "execution_count": 84,
   "metadata": {
    "scrolled": false
   },
   "outputs": [
    {
     "name": "stdout",
     "output_type": "stream",
     "text": [
      "l[1:3] = ['humanity', 3.4]\n",
      "l[0:] = ['well', 'humanity', 3.4, 'new order']\n",
      "l[:3] = ['well', 'humanity', 3.4]\n",
      "l[:] = ['well', 'humanity', 3.4, 'new order'] Используйте это, чтобы скопировать список, это Pythonic way\n",
      "l[::2] = ['well', 3.4] Можно задать шаг; здесь был выбран каждый второй элемент\n",
      "l[1:4:2] = ['humanity', 'new order']\n"
     ]
    }
   ],
   "source": [
    "print(f\"l[1:3] = {l[1:3]}\")\n",
    "print(f\"l[0:] = {l[0:]}\")\n",
    "print(f\"l[:3] = {l[:3]}\")\n",
    "print(f\"l[:] = {l[:]} Используйте это, чтобы скопировать список, это Pythonic way\")\n",
    "print(f\"l[::2] = {l[::2]} Можно задать шаг; здесь был выбран каждый второй элемент\")\n",
    "print(f\"l[1:4:2] = {l[1:4:2]}\")"
   ]
  },
  {
   "cell_type": "code",
   "execution_count": null,
   "metadata": {
    "collapsed": true
   },
   "outputs": [],
   "source": [
    "d1 = {\"kefir\": 12, \"baton\": 8, \"pelmeni\": 15}\n",
    "d2 = {\"pelmeni\": 25, \"doshirak\": 15}\n",
    "d1.update(d2)\n",
    "print(d1)"
   ]
  },
  {
   "cell_type": "code",
   "execution_count": 142,
   "metadata": {},
   "outputs": [
    {
     "name": "stdout",
     "output_type": "stream",
     "text": [
      "{1, 2, 7, 12, 'glutony', 'sorrow'}\n"
     ]
    }
   ],
   "source": [
    "l = [1, 1, 2, 12, 12, 7, \"sorrow\", \"sorrow\", \"glutony\"]\n",
    "s = set(l)\n",
    "print(s)"
   ]
  },
  {
   "cell_type": "code",
   "execution_count": 143,
   "metadata": {},
   "outputs": [
    {
     "name": "stdout",
     "output_type": "stream",
     "text": [
      "{1, 2, 7, 12, 'glutony', 'stranger', 'sorrow'}\n"
     ]
    }
   ],
   "source": [
    "s.add(\"stranger\")\n",
    "print(s)"
   ]
  },
  {
   "cell_type": "markdown",
   "metadata": {},
   "source": [
    "Для сетов имплементированы стандартные операции над множествами"
   ]
  },
  {
   "cell_type": "code",
   "execution_count": 45,
   "metadata": {},
   "outputs": [
    {
     "name": "stdout",
     "output_type": "stream",
     "text": [
      "Объединение: s1.union(s2) = {1, 2, 'sorrow', 12, 'stranger'}\n",
      "Пересечение: s1.intersection(s2) = {1, 12}\n",
      "Разность: s1.difference(s2) = {2, 'stranger'}\n",
      "Симметрическая разность: s1.symmetric_difference(s2) = {2, 'sorrow', 'stranger'}\n"
     ]
    }
   ],
   "source": [
    "s1 = {1, 2, 12, \"stranger\"}\n",
    "s2 = {1, 12, \"sorrow\"}\n",
    "\n",
    "print(f\"Объединение: s1.union(s2) = {s1.union(s2)}\")\n",
    "print(f\"Пересечение: s1.intersection(s2) = {s1.intersection(s2)}\")\n",
    "print(f\"Разность: s1.difference(s2) = {s1.difference(s2)}\")\n",
    "print(f\"Симметрическая разность: s1.symmetric_difference(s2) = {s1.symmetric_difference(s2)}\")"
   ]
  },
  {
   "cell_type": "code",
   "execution_count": null,
   "metadata": {
    "collapsed": true
   },
   "outputs": [],
   "source": []
  },
  {
   "cell_type": "markdown",
   "metadata": {},
   "source": [
    "# Некоторые методы строк"
   ]
  },
  {
   "cell_type": "markdown",
   "metadata": {},
   "source": [
    "Помните, что ни один метод строк НЕ ИЗМЕНЯЕТ саму строку! Чтобы изменить строку, нужно создать новую строку."
   ]
  },
  {
   "cell_type": "code",
   "execution_count": 2,
   "metadata": {
    "collapsed": true
   },
   "outputs": [],
   "source": [
    "S = 'hello, world!'"
   ]
  },
  {
   "cell_type": "code",
   "execution_count": 6,
   "metadata": {
    "scrolled": true
   },
   "outputs": [
    {
     "data": {
      "text/plain": [
       "'Hello, world!'"
      ]
     },
     "execution_count": 6,
     "metadata": {},
     "output_type": "execute_result"
    }
   ],
   "source": [
    "#Переводит первый символ строки в верхний регистр, а все остальные в нижний\n",
    "S.capitalize()"
   ]
  },
  {
   "cell_type": "code",
   "execution_count": 7,
   "metadata": {},
   "outputs": [
    {
     "data": {
      "text/plain": [
       "':::hello, world!::::'"
      ]
     },
     "execution_count": 7,
     "metadata": {},
     "output_type": "execute_result"
    }
   ],
   "source": [
    "#Возвращает отцентрованную строку, по краям которой стоит символ fill (пробел по умолчанию), а длина строки равна width\n",
    "S.center(20, ':')"
   ]
  },
  {
   "cell_type": "code",
   "execution_count": 4,
   "metadata": {},
   "outputs": [
    {
     "data": {
      "text/plain": [
       "1"
      ]
     },
     "execution_count": 4,
     "metadata": {},
     "output_type": "execute_result"
    }
   ],
   "source": [
    "#Возвращает количество непересекающихся вхождений подстроки в диапазоне [начало, конец] (0 и длина строки по умолчанию)\n",
    "S.count(\"h\")"
   ]
  },
  {
   "cell_type": "code",
   "execution_count": 12,
   "metadata": {},
   "outputs": [
    {
     "name": "stdout",
     "output_type": "stream",
     "text": [
      "True\n",
      "False\n",
      "True\n"
     ]
    }
   ],
   "source": [
    "#Заканчивается (начинается) ли строка S шаблоном\n",
    "print(S.endswith(\"!\"))\n",
    "print(S.startswith(\"H\"))\n",
    "print(S.startswith(\"hello\"))"
   ]
  },
  {
   "cell_type": "code",
   "execution_count": 13,
   "metadata": {},
   "outputs": [
    {
     "name": "stdout",
     "output_type": "stream",
     "text": [
      "2\n",
      "10\n"
     ]
    }
   ],
   "source": [
    "#Поиск подстроки в строке. Возвращает номер первого (последнего) вхождения или -1\n",
    "print(S.find(\"l\"))\n",
    "print(S.rfind(\"l\"))"
   ]
  },
  {
   "cell_type": "code",
   "execution_count": 31,
   "metadata": {},
   "outputs": [
    {
     "name": "stdout",
     "output_type": "stream",
     "text": [
      "       abc123        True False False False\n",
      "        abc          True True False False\n",
      "        123          True False True False\n",
      "    Hello World      False False False True\n",
      "     HelloWorld      True True False False\n"
     ]
    }
   ],
   "source": [
    "#Состоит ли строка из 1) цифр и букв; 2) из букв; 3) из цифр; 4) из слов с заглавной буквы\n",
    "for S in \"abc123\", \"abc\", \"123\", \"Hello World\", \"HelloWorld\":\n",
    "    print(\n",
    "        S.center(20), \n",
    "        S.isalnum(), \n",
    "        S.isalpha(), \n",
    "        S.isdigit(), \n",
    "        S.istitle()\n",
    "    )\n"
   ]
  },
  {
   "cell_type": "code",
   "execution_count": 24,
   "metadata": {},
   "outputs": [
    {
     "data": {
      "text/plain": [
       "'h, e, l, l, o'"
      ]
     },
     "execution_count": 24,
     "metadata": {},
     "output_type": "execute_result"
    }
   ],
   "source": [
    "#Сборка строки из списка с разделителем SS = \", \"\n",
    "S = \", \"\n",
    "S.join(\"hello\")"
   ]
  },
  {
   "cell_type": "code",
   "execution_count": 33,
   "metadata": {},
   "outputs": [
    {
     "name": "stdout",
     "output_type": "stream",
     "text": [
      "hello, world!\n",
      "HELLO, WORLD!\n",
      "hELLO, WORLD!\n"
     ]
    }
   ],
   "source": [
    "# Преобразование строки к нижнему регистру/верхнему регистру/из нижнего - в верхний и наоборот\n",
    "S = 'Hello, world!'\n",
    "print(S.lower())\n",
    "print(S.upper())\n",
    "print(S.swapcase())"
   ]
  },
  {
   "cell_type": "code",
   "execution_count": 7,
   "metadata": {},
   "outputs": [
    {
     "name": "stdout",
     "output_type": "stream",
     "text": [
      "['s', 'd', 's', 'd', 's', 'd', 's', 'd', 's', 'd']\n"
     ]
    }
   ],
   "source": [
    "a = 'sdsdsdsdsd'\n",
    "print(list(a))"
   ]
  },
  {
   "cell_type": "code",
   "execution_count": 8,
   "metadata": {},
   "outputs": [
    {
     "name": "stdout",
     "output_type": "stream",
     "text": [
      "^  hello  $\n",
      "^hello  $\n",
      "^  hello$\n",
      "^hello$\n"
     ]
    }
   ],
   "source": [
    "#Удаление пробельных символов в начале строки/конце строки/в начале и конце строки\n",
    "S = \"  hello  \"\n",
    "for res in S, S.lstrip(), S.rstrip(), S.strip():\n",
    "    print('^' + res + '$')\n"
   ]
  },
  {
   "cell_type": "code",
   "execution_count": 9,
   "metadata": {},
   "outputs": [
    {
     "name": "stdout",
     "output_type": "stream",
     "text": [
      "('he', 'l', 'lo world')\n",
      "('hello wor', 'l', 'd')\n"
     ]
    }
   ],
   "source": [
    "#Возвращает кортеж, содержащий часть перед первым (последним) шаблоном, сам шаблон, и часть после шаблона. Если шаблон не найден, возвращается кортеж, содержащий саму строку, а затем две пустых строки\n",
    "S = \"hello world\"\n",
    "print(S.partition(\"l\"))\n",
    "print(S.rpartition(\"l\"))"
   ]
  },
  {
   "cell_type": "code",
   "execution_count": 47,
   "metadata": {},
   "outputs": [
    {
     "data": {
      "text/plain": [
       "'herro worrd'"
      ]
     },
     "execution_count": 47,
     "metadata": {},
     "output_type": "execute_result"
    }
   ],
   "source": [
    "#Замена шаблона\n",
    "S.replace('l', 'r')"
   ]
  },
  {
   "cell_type": "code",
   "execution_count": 53,
   "metadata": {},
   "outputs": [
    {
     "name": "stdout",
     "output_type": "stream",
     "text": [
      "['', 'alend']\n",
      "['la', 'end']\n"
     ]
    }
   ],
   "source": [
    "#Разбиение строки по разделителю слева направо (справа налево)\n",
    "S = \"lalalend\"\n",
    "print(S.split(\"lal\"))\n",
    "print(S.rsplit(\"lal\"))"
   ]
  },
  {
   "cell_type": "code",
   "execution_count": 54,
   "metadata": {},
   "outputs": [
    {
     "data": {
      "text/plain": [
       "'Lalalend'"
      ]
     },
     "execution_count": 54,
     "metadata": {},
     "output_type": "execute_result"
    }
   ],
   "source": [
    "#Первую букву каждого слова переводит в верхний регистр, а все остальные в нижний\n",
    "S.title()"
   ]
  },
  {
   "cell_type": "markdown",
   "metadata": {},
   "source": [
    "# Некоторые методы списков"
   ]
  },
  {
   "cell_type": "markdown",
   "metadata": {},
   "source": [
    "Помните, что методы списков ИЗМЕНЯЮТ сами списки!"
   ]
  },
  {
   "cell_type": "code",
   "execution_count": 1,
   "metadata": {},
   "outputs": [
    {
     "data": {
      "text/plain": [
       "[5]"
      ]
     },
     "execution_count": 1,
     "metadata": {},
     "output_type": "execute_result"
    }
   ],
   "source": [
    "#Добавляет элемент в конец списка\n",
    "L = []\n",
    "L.append(5)\n",
    "L"
   ]
  },
  {
   "cell_type": "code",
   "execution_count": 2,
   "metadata": {},
   "outputs": [
    {
     "data": {
      "text/plain": [
       "[]"
      ]
     },
     "execution_count": 2,
     "metadata": {},
     "output_type": "execute_result"
    }
   ],
   "source": [
    "#Очищает список\n",
    "L.clear()\n",
    "L"
   ]
  },
  {
   "cell_type": "code",
   "execution_count": 3,
   "metadata": {},
   "outputs": [
    {
     "name": "stdout",
     "output_type": "stream",
     "text": [
      "[1, 2, 3, 4] [1, 2, 3, 4]\n"
     ]
    }
   ],
   "source": [
    "#Копия списка\n",
    "L = [1, 2, 3, 4]\n",
    "L_copy = L.copy()\n",
    "not_copy = L\n",
    "print(L, L_copy)"
   ]
  },
  {
   "cell_type": "code",
   "execution_count": 61,
   "metadata": {},
   "outputs": [
    {
     "name": "stdout",
     "output_type": "stream",
     "text": [
      "[1, 2, 3, 4, 5] [1, 2, 3, 4] [1, 2, 3, 4, 5]\n"
     ]
    }
   ],
   "source": [
    "#Если внесено изменение в одну из копий списков, вторая не меняется\n",
    "L.append(5)\n",
    "print(L, L_copy, not_copy)"
   ]
  },
  {
   "cell_type": "code",
   "execution_count": 62,
   "metadata": {},
   "outputs": [
    {
     "data": {
      "text/plain": [
       "1"
      ]
     },
     "execution_count": 62,
     "metadata": {},
     "output_type": "execute_result"
    }
   ],
   "source": [
    "#Возвращает количество элементов со значением x\n",
    "L.count(1)"
   ]
  },
  {
   "cell_type": "code",
   "execution_count": 63,
   "metadata": {},
   "outputs": [
    {
     "data": {
      "text/plain": [
       "[1, 2, 3, 4, 5, 1, 2, 3, 4]"
      ]
     },
     "execution_count": 63,
     "metadata": {},
     "output_type": "execute_result"
    }
   ],
   "source": [
    "#Добавляет в конец все элементы другого списка\n",
    "L.extend(L_copy)\n",
    "L"
   ]
  },
  {
   "cell_type": "code",
   "execution_count": 4,
   "metadata": {},
   "outputs": [
    {
     "data": {
      "text/plain": [
       "0"
      ]
     },
     "execution_count": 4,
     "metadata": {},
     "output_type": "execute_result"
    }
   ],
   "source": [
    "#Возвращает положение первого элемента со значением x (при этом поиск ведется от start до end)\n",
    "L.index(1)"
   ]
  },
  {
   "cell_type": "code",
   "execution_count": 5,
   "metadata": {},
   "outputs": [
    {
     "data": {
      "text/plain": [
       "[1, 10, 2, 3, 4]"
      ]
     },
     "execution_count": 5,
     "metadata": {},
     "output_type": "execute_result"
    }
   ],
   "source": [
    "#Вставляет на i-ый элемент значение x\n",
    "L.insert(1, 10)\n",
    "L\n"
   ]
  },
  {
   "cell_type": "code",
   "execution_count": 6,
   "metadata": {},
   "outputs": [
    {
     "data": {
      "text/plain": [
       "[1, 10, 2, 3]"
      ]
     },
     "execution_count": 6,
     "metadata": {},
     "output_type": "execute_result"
    }
   ],
   "source": [
    "#Удаляет i-ый элемент и возвращает его. Если индекс не указан, удаляется последний элемент\n",
    "L.pop()\n",
    "L"
   ]
  },
  {
   "cell_type": "code",
   "execution_count": 7,
   "metadata": {},
   "outputs": [
    {
     "data": {
      "text/plain": [
       "[1, 2, 3]"
      ]
     },
     "execution_count": 7,
     "metadata": {},
     "output_type": "execute_result"
    }
   ],
   "source": [
    "#Удаляет первый элемент в списке, имеющий значение x. ValueError, если такого элемента не существует\n",
    "L.remove(10)\n",
    "L"
   ]
  },
  {
   "cell_type": "code",
   "execution_count": 8,
   "metadata": {},
   "outputs": [
    {
     "data": {
      "text/plain": [
       "[3, 2, 1]"
      ]
     },
     "execution_count": 8,
     "metadata": {},
     "output_type": "execute_result"
    }
   ],
   "source": [
    "#Разворачивает список\n",
    "L.reverse()\n",
    "L"
   ]
  },
  {
   "cell_type": "code",
   "execution_count": 24,
   "metadata": {},
   "outputs": [
    {
     "data": {
      "text/plain": [
       "[1, 10]"
      ]
     },
     "execution_count": 24,
     "metadata": {},
     "output_type": "execute_result"
    }
   ],
   "source": [
    "#Сортирует список\n",
    "L.sort()\n",
    "L"
   ]
  },
  {
   "cell_type": "markdown",
   "metadata": {},
   "source": [
    "# Методы кортежей"
   ]
  },
  {
   "cell_type": "code",
   "execution_count": 74,
   "metadata": {},
   "outputs": [
    {
     "data": {
      "text/plain": [
       "1"
      ]
     },
     "execution_count": 74,
     "metadata": {},
     "output_type": "execute_result"
    }
   ],
   "source": [
    "#Возвращает количество элементов со значением x\n",
    "T = (1, 2, 3)\n",
    "T.count(3)"
   ]
  },
  {
   "cell_type": "code",
   "execution_count": 75,
   "metadata": {},
   "outputs": [
    {
     "data": {
      "text/plain": [
       "1"
      ]
     },
     "execution_count": 75,
     "metadata": {},
     "output_type": "execute_result"
    }
   ],
   "source": [
    "#Возвращает положение первого элемента со значением x (при этом поиск ведется от start до end)\n",
    "T.index(2)"
   ]
  },
  {
   "cell_type": "markdown",
   "metadata": {},
   "source": [
    "# Методы множеств "
   ]
  },
  {
   "cell_type": "markdown",
   "metadata": {},
   "source": [
    "ИЗМЕНЯЮТ сами множества"
   ]
  },
  {
   "cell_type": "code",
   "execution_count": 9,
   "metadata": {},
   "outputs": [
    {
     "name": "stdout",
     "output_type": "stream",
     "text": [
      "{'c', 'a', 'd', 'b'}\n",
      "{'c', 'a', 'd', 'b'}\n",
      "{'c', 'a', 'd', 'b'}\n",
      "{'c', 'a', 'b'}\n",
      "{'c', 'a', 'b'}\n",
      "{'a', 'b'}\n",
      "{1, 2, 3, 4}\n"
     ]
    }
   ],
   "source": [
    "# Ввод и удаление элемента\n",
    "S = {'a', 'b', 'c'}\n",
    "S.add('d')\n",
    "print(S)\n",
    "S.add('d')\n",
    "print(S)\n",
    "S.add('d')\n",
    "print(S)\n",
    "S.remove('d')\n",
    "print(S)\n",
    "#Удаление элемента, если таковой присутствует\n",
    "S.discard(\"d\")\n",
    "print(S)\n",
    "#Удаление произвольного элемента\n",
    "S.pop()\n",
    "print(S)\n",
    "# Ввод в множество S1 элементов из множества S2\n",
    "S1 = {1, 2, 3}\n",
    "S2 = {2, 3, 4}\n",
    "S1.update(S2) #Или S1 |= S2\n",
    "print(S1)"
   ]
  },
  {
   "cell_type": "code",
   "execution_count": 78,
   "metadata": {},
   "outputs": [
    {
     "data": {
      "text/plain": [
       "set()"
      ]
     },
     "execution_count": 78,
     "metadata": {},
     "output_type": "execute_result"
    }
   ],
   "source": [
    "#Удаление всех элементов\n",
    "S.clear()\n",
    "S"
   ]
  },
  {
   "cell_type": "code",
   "execution_count": 79,
   "metadata": {},
   "outputs": [
    {
     "name": "stdout",
     "output_type": "stream",
     "text": [
      "{'a', 'b', 'c'}\n"
     ]
    }
   ],
   "source": [
    "#Копирование множества\n",
    "S = {'a', 'b', 'c'}\n",
    "S_copy = S.copy()\n",
    "print(S_copy)"
   ]
  },
  {
   "cell_type": "code",
   "execution_count": 80,
   "metadata": {},
   "outputs": [
    {
     "name": "stdout",
     "output_type": "stream",
     "text": [
      "{1}\n"
     ]
    }
   ],
   "source": [
    "#Разность множеств\n",
    "S1 = {1, 2, 3}\n",
    "S2 = {2, 3, 4}\n",
    "S = S1 - S2\n",
    "print(S)\n",
    "# или S = S1.difference(S2)"
   ]
  },
  {
   "cell_type": "code",
   "execution_count": 81,
   "metadata": {},
   "outputs": [
    {
     "name": "stdout",
     "output_type": "stream",
     "text": [
      "{2, 3}\n"
     ]
    }
   ],
   "source": [
    "#Пересечение множеств\n",
    "S1 = {1, 2, 3}\n",
    "S2 = {2, 3, 4}\n",
    "S = S1 & S2\n",
    "print(S)\n",
    "# или S = S1.intersection(S2)"
   ]
  },
  {
   "cell_type": "code",
   "execution_count": 82,
   "metadata": {},
   "outputs": [
    {
     "name": "stdout",
     "output_type": "stream",
     "text": [
      "{1, 2, 3, 4}\n"
     ]
    }
   ],
   "source": [
    "#Объединение множеств\n",
    "S1 = {1, 2, 3}\n",
    "S2 = {2, 3, 4}\n",
    "S = S1 | S2\n",
    "print(S)\n",
    "# или S = S1.union(S2)"
   ]
  },
  {
   "cell_type": "code",
   "execution_count": 83,
   "metadata": {},
   "outputs": [
    {
     "data": {
      "text/plain": [
       "False"
      ]
     },
     "execution_count": 83,
     "metadata": {},
     "output_type": "execute_result"
    }
   ],
   "source": [
    "#Является ли пересечение множеств пустым?\n",
    "S1.isdisjoint(S2)"
   ]
  },
  {
   "cell_type": "code",
   "execution_count": 84,
   "metadata": {},
   "outputs": [
    {
     "name": "stdout",
     "output_type": "stream",
     "text": [
      "False\n",
      "False\n"
     ]
    }
   ],
   "source": [
    "#Является ли множества подмножеством (надмножеством) другого?\n",
    "print(S1.issubset(S2)) #Или S1 <= S2\n",
    "print(S1.issuperset(S2)) #Или S1 >= S2"
   ]
  },
  {
   "cell_type": "markdown",
   "metadata": {},
   "source": [
    "# Методы словарей"
   ]
  },
  {
   "cell_type": "code",
   "execution_count": 85,
   "metadata": {},
   "outputs": [
    {
     "name": "stdout",
     "output_type": "stream",
     "text": [
      "{'one': 1, 'two': 2}\n"
     ]
    },
    {
     "data": {
      "text/plain": [
       "{}"
      ]
     },
     "execution_count": 85,
     "metadata": {},
     "output_type": "execute_result"
    }
   ],
   "source": [
    "#Очищение словаря\n",
    "D = {\"one\": 1, \"two\": 2}\n",
    "print(D)\n",
    "D.clear()\n",
    "D"
   ]
  },
  {
   "cell_type": "code",
   "execution_count": 12,
   "metadata": {},
   "outputs": [
    {
     "name": "stdout",
     "output_type": "stream",
     "text": [
      "{'one': 1, 'two': 2}\n"
     ]
    }
   ],
   "source": [
    "#Копирование словаря\n",
    "D = {\"one\": 1, \"two\": 2}\n",
    "D_copy = D.copy()\n",
    "print(D_copy)"
   ]
  },
  {
   "cell_type": "code",
   "execution_count": 93,
   "metadata": {},
   "outputs": [
    {
     "name": "stdout",
     "output_type": "stream",
     "text": [
      "1\n",
      "2\n",
      "Not found\n"
     ]
    }
   ],
   "source": [
    "#Возвращает значение ключа, но если его нет, возвращает по умолчанию None\n",
    "print(D.get(\"one\"))\n",
    "print(D.get(\"two\", \"Not found\"))\n",
    "print(D.get(\"three\", \"Not found\"))"
   ]
  },
  {
   "cell_type": "code",
   "execution_count": 97,
   "metadata": {},
   "outputs": [
    {
     "name": "stdout",
     "output_type": "stream",
     "text": [
      "dict_items([('one', 1)])\n",
      "dict_keys(['one'])\n",
      "dict_values([1])\n"
     ]
    }
   ],
   "source": [
    "#Возвращает список из кортежей (ключ, значение)/список ключей/список значений\n",
    "print(D.items())\n",
    "print(D.keys())\n",
    "print(D.values())"
   ]
  },
  {
   "cell_type": "code",
   "execution_count": 11,
   "metadata": {},
   "outputs": [
    {
     "name": "stdout",
     "output_type": "stream",
     "text": [
      "{'two': 2, 'onee': 11}\n",
      "{'one': 1, 'two': 2}\n"
     ]
    }
   ],
   "source": [
    "#Удаляет ключ и возвращает значение. Если ключа нет, возвращает исключение.\n",
    "D = {\"one\": 1, \"two\": 2, \"onee\": 11,}\n",
    "D.pop('one')\n",
    "print(D)\n",
    "D = {\"one\": 1, \"two\": 2, \"onee\": 11,}\n",
    "D.popitem()\n",
    "print(D)"
   ]
  },
  {
   "cell_type": "code",
   "execution_count": 110,
   "metadata": {},
   "outputs": [
    {
     "name": "stdout",
     "output_type": "stream",
     "text": [
      "{'one': 1, 'three': None}\n"
     ]
    }
   ],
   "source": [
    "#Возвращает значение ключа, но если его нет, не бросает исключение, а создает ключ с значением None\n",
    "D.setdefault('three')\n",
    "print(D)"
   ]
  },
  {
   "cell_type": "code",
   "execution_count": 13,
   "metadata": {},
   "outputs": [
    {
     "name": "stdout",
     "output_type": "stream",
     "text": [
      "{'one': 1, 'two': 2}\n"
     ]
    }
   ],
   "source": [
    "#Обновляет словарь, добавляя пары (ключ, значение) из другого словаря. Существующие ключи перезаписываются. Возвращает None.\n",
    "D.update(D_copy)\n",
    "print(D)"
   ]
  },
  {
   "cell_type": "markdown",
   "metadata": {
    "collapsed": true
   },
   "source": [
    "# Модуль collections"
   ]
  },
  {
   "cell_type": "code",
   "execution_count": 15,
   "metadata": {},
   "outputs": [
    {
     "name": "stdout",
     "output_type": "stream",
     "text": [
      "deque([0, 1, 2, 3])\n"
     ]
    },
    {
     "data": {
      "text/plain": [
       "0"
      ]
     },
     "execution_count": 15,
     "metadata": {},
     "output_type": "execute_result"
    }
   ],
   "source": [
    "import collections\n",
    "d = collections.deque([1, 2, 3])\n",
    "\n",
    "#Добавляет элемент слева\n",
    "d.appendleft(0)\n",
    "print(d)\n",
    "#Удаляет и возвращает первый элемент\n",
    "d.popleft()"
   ]
  },
  {
   "cell_type": "code",
   "execution_count": 18,
   "metadata": {},
   "outputs": [
    {
     "data": {
      "text/plain": [
       "deque([-3, -2, -1, 1, 2, 3, -1, -2, -3])"
      ]
     },
     "execution_count": 18,
     "metadata": {},
     "output_type": "execute_result"
    }
   ],
   "source": [
    "#Добавляет все элементы последовательности слева\n",
    "d2 = [-1, -2, -3]\n",
    "d.extendleft(d2)\n",
    "d"
   ]
  },
  {
   "cell_type": "code",
   "execution_count": 18,
   "metadata": {},
   "outputs": [
    {
     "data": {
      "text/plain": [
       "deque([-3, -2, -1, 1, 2, 3, -1, -2, -3])"
      ]
     },
     "execution_count": 18,
     "metadata": {},
     "output_type": "execute_result"
    }
   ],
   "source": [
    "#Добавляет все элементы последовательности слева\n",
    "d2 = [-1, -2, -3]\n",
    "d.extendleft(d2)\n",
    "d"
   ]
  },
  {
   "cell_type": "code",
   "execution_count": null,
   "metadata": {
    "collapsed": true
   },
   "outputs": [],
   "source": []
  },
  {
   "cell_type": "code",
   "execution_count": null,
   "metadata": {
    "collapsed": true
   },
   "outputs": [],
   "source": [
    "Чтобы проверить, есть ли элемент в списке, Python проходится по всему списку."
   ]
  },
  {
   "cell_type": "code",
   "execution_count": 21,
   "metadata": {
    "collapsed": true
   },
   "outputs": [],
   "source": [
    "def factorial(n):\n",
    "    acc = 1\n",
    "    for i in range(1,n + 1):\n",
    "        acc *= i\n",
    "    return acc\n",
    "\n",
    "def fibonacci(n):\n",
    "\n",
    "    f0, f1 = 0, 1\n",
    "    for i in range(n):\n",
    "        f0, f1 = f1, f0 + f1\n",
    "    return f0"
   ]
  },
  {
   "cell_type": "markdown",
   "metadata": {},
   "source": [
    "\n",
    "Часто в коде возникает необходимость написать какую-то простую функцию, которая будет использована единожды и затем никак не будут использоваться. Создание отдельной функции для этого добавляет коду громоздкость и часто ухудшает понимание написанного. \n",
    "Для этих целей в Python введены **lambda-функции**. "
   ]
  },
  {
   "cell_type": "code",
   "execution_count": 5,
   "metadata": {
    "collapsed": true
   },
   "outputs": [],
   "source": [
    "def add5(x):\n",
    "    return x + 5\n",
    "\n",
    "add5 = lambda x : x + 5"
   ]
  },
  {
   "cell_type": "markdown",
   "metadata": {},
   "source": [
    "Обычно используется в функциях, принимающих функцию как аргумент.\n",
    "Например - отсортировать ключи словаря по соответствующим им значениям"
   ]
  },
  {
   "cell_type": "code",
   "execution_count": 6,
   "metadata": {},
   "outputs": [
    {
     "name": "stdout",
     "output_type": "stream",
     "text": [
      "['a', 'c', 'd', 'e']\n",
      "['a', 'd', 'e', 'c']\n"
     ]
    }
   ],
   "source": [
    "dt = {\"a\" : 10, \"c\" : 53, \"d\" : 31, \"e\" : 42}\n",
    "keys = list(dt)\n",
    "print(keys)\n",
    "keys.sort(key = lambda x : dt[x])\n",
    "print(keys)"
   ]
  },
  {
   "cell_type": "markdown",
   "metadata": {},
   "source": [
    "Или в map (будет подробно разобран через лекцию)"
   ]
  },
  {
   "cell_type": "code",
   "execution_count": 14,
   "metadata": {},
   "outputs": [
    {
     "name": "stdout",
     "output_type": "stream",
     "text": [
      "[1, 3, 4, 77, 82]\n"
     ]
    }
   ],
   "source": [
    "numbers_str = \"1 3 4 77 82\"\n",
    "numbers_lst = list(map(int, numbers_str.split()))\n",
    "print (numbers_lst)"
   ]
  },
  {
   "cell_type": "markdown",
   "metadata": {},
   "source": [
    "**ВАЖНО**\n",
    "\n",
    "Lambda-функции не дают преимущества в скорости выполнения. Они просто удобный способ записи."
   ]
  },
  {
   "cell_type": "markdown",
   "metadata": {},
   "source": [
    "Python поддерживает механизм рекурсии - вызов функцией самой себя. Перепишем, например, предыдущие функции в рекурсивной форме"
   ]
  },
  {
   "cell_type": "code",
   "execution_count": null,
   "metadata": {
    "collapsed": true
   },
   "outputs": [],
   "source": [
    "def factorial_rec(n):\n",
    "    if n <= 1:\n",
    "        return 1\n",
    "    return n * factorial_rec(n - 1)\n",
    "\n",
    "def fibonacci_rec(n):\n",
    "    if n < 0:\n",
    "        return 0\n",
    "    \n",
    "    if n == 0:\n",
    "        return 0\n",
    "    if n == 1:\n",
    "        return 1\n",
    "    \n",
    "    return fibonacci_rec(n - 1) + fibonacci_rec(n - 2)"
   ]
  },
  {
   "cell_type": "code",
   "execution_count": null,
   "metadata": {
    "collapsed": true
   },
   "outputs": [],
   "source": [
    "print (factorial_rec(5))\n",
    "print (fibonacci_rec(5))"
   ]
  },
  {
   "cell_type": "markdown",
   "metadata": {},
   "source": [
    "С одной стороны, рекурсия облегчает работу серым клеточкам. БОльшая часть алгоритмов легче формулируется в виде рекурсии, чем в других видах. \n",
    "\n",
    "Есть и минусы. И они значительные. Во-первых, реализация рекурсии в любом языке требует дополнительных затрат по сравнению с императивным подходом."
   ]
  },
  {
   "cell_type": "code",
   "execution_count": 4,
   "metadata": {},
   "outputs": [
    {
     "ename": "NameError",
     "evalue": "name 'factorial_rec' is not defined",
     "output_type": "error",
     "traceback": [
      "\u001b[0;31m---------------------------------------------------------------------------\u001b[0m",
      "\u001b[0;31mNameError\u001b[0m                                 Traceback (most recent call last)",
      "\u001b[0;32m<ipython-input-4-0be57effc517>\u001b[0m in \u001b[0;36m<module>\u001b[0;34m()\u001b[0m\n\u001b[0;32m----> 1\u001b[0;31m \u001b[0mget_ipython\u001b[0m\u001b[0;34m(\u001b[0m\u001b[0;34m)\u001b[0m\u001b[0;34m.\u001b[0m\u001b[0mrun_cell_magic\u001b[0m\u001b[0;34m(\u001b[0m\u001b[0;34m'timeit'\u001b[0m\u001b[0;34m,\u001b[0m \u001b[0;34m''\u001b[0m\u001b[0;34m,\u001b[0m \u001b[0;34m'factorial_rec(1000)'\u001b[0m\u001b[0;34m)\u001b[0m\u001b[0;34m\u001b[0m\u001b[0m\n\u001b[0m",
      "\u001b[0;32m/home/pavel/anaconda3/lib/python3.6/site-packages/IPython/core/interactiveshell.py\u001b[0m in \u001b[0;36mrun_cell_magic\u001b[0;34m(self, magic_name, line, cell)\u001b[0m\n\u001b[1;32m   2113\u001b[0m             \u001b[0mmagic_arg_s\u001b[0m \u001b[0;34m=\u001b[0m \u001b[0mself\u001b[0m\u001b[0;34m.\u001b[0m\u001b[0mvar_expand\u001b[0m\u001b[0;34m(\u001b[0m\u001b[0mline\u001b[0m\u001b[0;34m,\u001b[0m \u001b[0mstack_depth\u001b[0m\u001b[0;34m)\u001b[0m\u001b[0;34m\u001b[0m\u001b[0m\n\u001b[1;32m   2114\u001b[0m             \u001b[0;32mwith\u001b[0m \u001b[0mself\u001b[0m\u001b[0;34m.\u001b[0m\u001b[0mbuiltin_trap\u001b[0m\u001b[0;34m:\u001b[0m\u001b[0;34m\u001b[0m\u001b[0m\n\u001b[0;32m-> 2115\u001b[0;31m                 \u001b[0mresult\u001b[0m \u001b[0;34m=\u001b[0m \u001b[0mfn\u001b[0m\u001b[0;34m(\u001b[0m\u001b[0mmagic_arg_s\u001b[0m\u001b[0;34m,\u001b[0m \u001b[0mcell\u001b[0m\u001b[0;34m)\u001b[0m\u001b[0;34m\u001b[0m\u001b[0m\n\u001b[0m\u001b[1;32m   2116\u001b[0m             \u001b[0;32mreturn\u001b[0m \u001b[0mresult\u001b[0m\u001b[0;34m\u001b[0m\u001b[0m\n\u001b[1;32m   2117\u001b[0m \u001b[0;34m\u001b[0m\u001b[0m\n",
      "\u001b[0;32m<decorator-gen-58>\u001b[0m in \u001b[0;36mtimeit\u001b[0;34m(self, line, cell)\u001b[0m\n",
      "\u001b[0;32m/home/pavel/anaconda3/lib/python3.6/site-packages/IPython/core/magic.py\u001b[0m in \u001b[0;36m<lambda>\u001b[0;34m(f, *a, **k)\u001b[0m\n\u001b[1;32m    186\u001b[0m     \u001b[0;31m# but it's overkill for just that one bit of state.\u001b[0m\u001b[0;34m\u001b[0m\u001b[0;34m\u001b[0m\u001b[0m\n\u001b[1;32m    187\u001b[0m     \u001b[0;32mdef\u001b[0m \u001b[0mmagic_deco\u001b[0m\u001b[0;34m(\u001b[0m\u001b[0marg\u001b[0m\u001b[0;34m)\u001b[0m\u001b[0;34m:\u001b[0m\u001b[0;34m\u001b[0m\u001b[0m\n\u001b[0;32m--> 188\u001b[0;31m         \u001b[0mcall\u001b[0m \u001b[0;34m=\u001b[0m \u001b[0;32mlambda\u001b[0m \u001b[0mf\u001b[0m\u001b[0;34m,\u001b[0m \u001b[0;34m*\u001b[0m\u001b[0ma\u001b[0m\u001b[0;34m,\u001b[0m \u001b[0;34m**\u001b[0m\u001b[0mk\u001b[0m\u001b[0;34m:\u001b[0m \u001b[0mf\u001b[0m\u001b[0;34m(\u001b[0m\u001b[0;34m*\u001b[0m\u001b[0ma\u001b[0m\u001b[0;34m,\u001b[0m \u001b[0;34m**\u001b[0m\u001b[0mk\u001b[0m\u001b[0;34m)\u001b[0m\u001b[0;34m\u001b[0m\u001b[0m\n\u001b[0m\u001b[1;32m    189\u001b[0m \u001b[0;34m\u001b[0m\u001b[0m\n\u001b[1;32m    190\u001b[0m         \u001b[0;32mif\u001b[0m \u001b[0mcallable\u001b[0m\u001b[0;34m(\u001b[0m\u001b[0marg\u001b[0m\u001b[0;34m)\u001b[0m\u001b[0;34m:\u001b[0m\u001b[0;34m\u001b[0m\u001b[0m\n",
      "\u001b[0;32m/home/pavel/anaconda3/lib/python3.6/site-packages/IPython/core/magics/execution.py\u001b[0m in \u001b[0;36mtimeit\u001b[0;34m(self, line, cell)\u001b[0m\n\u001b[1;32m   1047\u001b[0m             \u001b[0mnumber\u001b[0m \u001b[0;34m=\u001b[0m \u001b[0;36m1\u001b[0m\u001b[0;34m\u001b[0m\u001b[0m\n\u001b[1;32m   1048\u001b[0m             \u001b[0;32mfor\u001b[0m \u001b[0m_\u001b[0m \u001b[0;32min\u001b[0m \u001b[0mrange\u001b[0m\u001b[0;34m(\u001b[0m\u001b[0;36m1\u001b[0m\u001b[0;34m,\u001b[0m \u001b[0;36m10\u001b[0m\u001b[0;34m)\u001b[0m\u001b[0;34m:\u001b[0m\u001b[0;34m\u001b[0m\u001b[0m\n\u001b[0;32m-> 1049\u001b[0;31m                 \u001b[0mtime_number\u001b[0m \u001b[0;34m=\u001b[0m \u001b[0mtimer\u001b[0m\u001b[0;34m.\u001b[0m\u001b[0mtimeit\u001b[0m\u001b[0;34m(\u001b[0m\u001b[0mnumber\u001b[0m\u001b[0;34m)\u001b[0m\u001b[0;34m\u001b[0m\u001b[0m\n\u001b[0m\u001b[1;32m   1050\u001b[0m                 \u001b[0mworst_tuning\u001b[0m \u001b[0;34m=\u001b[0m \u001b[0mmax\u001b[0m\u001b[0;34m(\u001b[0m\u001b[0mworst_tuning\u001b[0m\u001b[0;34m,\u001b[0m \u001b[0mtime_number\u001b[0m \u001b[0;34m/\u001b[0m \u001b[0mnumber\u001b[0m\u001b[0;34m)\u001b[0m\u001b[0;34m\u001b[0m\u001b[0m\n\u001b[1;32m   1051\u001b[0m                 \u001b[0;32mif\u001b[0m \u001b[0mtime_number\u001b[0m \u001b[0;34m>=\u001b[0m \u001b[0;36m0.2\u001b[0m\u001b[0;34m:\u001b[0m\u001b[0;34m\u001b[0m\u001b[0m\n",
      "\u001b[0;32m/home/pavel/anaconda3/lib/python3.6/site-packages/IPython/core/magics/execution.py\u001b[0m in \u001b[0;36mtimeit\u001b[0;34m(self, number)\u001b[0m\n\u001b[1;32m    137\u001b[0m         \u001b[0mgc\u001b[0m\u001b[0;34m.\u001b[0m\u001b[0mdisable\u001b[0m\u001b[0;34m(\u001b[0m\u001b[0;34m)\u001b[0m\u001b[0;34m\u001b[0m\u001b[0m\n\u001b[1;32m    138\u001b[0m         \u001b[0;32mtry\u001b[0m\u001b[0;34m:\u001b[0m\u001b[0;34m\u001b[0m\u001b[0m\n\u001b[0;32m--> 139\u001b[0;31m             \u001b[0mtiming\u001b[0m \u001b[0;34m=\u001b[0m \u001b[0mself\u001b[0m\u001b[0;34m.\u001b[0m\u001b[0minner\u001b[0m\u001b[0;34m(\u001b[0m\u001b[0mit\u001b[0m\u001b[0;34m,\u001b[0m \u001b[0mself\u001b[0m\u001b[0;34m.\u001b[0m\u001b[0mtimer\u001b[0m\u001b[0;34m)\u001b[0m\u001b[0;34m\u001b[0m\u001b[0m\n\u001b[0m\u001b[1;32m    140\u001b[0m         \u001b[0;32mfinally\u001b[0m\u001b[0;34m:\u001b[0m\u001b[0;34m\u001b[0m\u001b[0m\n\u001b[1;32m    141\u001b[0m             \u001b[0;32mif\u001b[0m \u001b[0mgcold\u001b[0m\u001b[0;34m:\u001b[0m\u001b[0;34m\u001b[0m\u001b[0m\n",
      "\u001b[0;32m<magic-timeit>\u001b[0m in \u001b[0;36minner\u001b[0;34m(_it, _timer)\u001b[0m\n",
      "\u001b[0;31mNameError\u001b[0m: name 'factorial_rec' is not defined"
     ]
    }
   ],
   "source": [
    "%%timeit\n",
    "factorial_rec(1000)"
   ]
  },
  {
   "cell_type": "code",
   "execution_count": 7,
   "metadata": {
    "collapsed": true
   },
   "outputs": [],
   "source": [
    "import random\n",
    "\n",
    "def make_random_sequence(length=200, alphabet=\"ATGC\"):\n",
    "    seq_lst = [] # it's better to use here list comprehensions\n",
    "    for i in range(length):\n",
    "        seq_lst.append(random.choice(alphabet))\n",
    "    seq = \"\".join(seq_lst) # it is better than appending symbols directly to seq, why? \n",
    "    return seq"
   ]
  },
  {
   "cell_type": "code",
   "execution_count": 8,
   "metadata": {
    "collapsed": true
   },
   "outputs": [],
   "source": [
    "def write_random_fasta(out_file_path, name=\"random\", length=200, alphabet=\"ATGC\"):\n",
    "    out_file = open(out_file_path, \"w\") # it is better to use with-construction here\n",
    "    seq = make_random_sequence(length=length, alphabet=alphabet)\n",
    "    out_file.write(\">{}\\n\".format(name))\n",
    "    out_file.write(\"{}\\n\".format(seq))\n",
    "    out_file.close()"
   ]
  },
  {
   "cell_type": "code",
   "execution_count": 9,
   "metadata": {
    "collapsed": true
   },
   "outputs": [],
   "source": [
    "write_random_fasta(\"random.fasta\")"
   ]
  },
  {
   "cell_type": "code",
   "execution_count": 178,
   "metadata": {},
   "outputs": [
    {
     "name": "stdout",
     "output_type": "stream",
     "text": [
      "Inner\n",
      "Inner\n",
      "Global\n"
     ]
    }
   ],
   "source": [
    "### code1 variable is created here\n",
    "result = \"Global\"\n",
    "\n",
    "def enclosing_func():\n",
    "    ### code2 variable is created here\n",
    "    result = \"Enclosing\"\n",
    "    def func():\n",
    "        nonlocal result\n",
    "        ### code3 variable is created here\n",
    "        result = \"Inner\"\n",
    "        print (result)\n",
    "    ### code 4\n",
    "    func()\n",
    "    print (result)\n",
    "\n",
    "## code 5\n",
    "enclosing_func()\n",
    "print (result) "
   ]
  },
  {
   "cell_type": "markdown",
   "metadata": {},
   "source": [
    "Теперь приведем несколько примеров того, когда это нужно. Простейший пример в случае с глобальными переменными - когда вам нужно именно во время подключения модуля определять какие-то переменные"
   ]
  },
  {
   "cell_type": "code",
   "execution_count": 179,
   "metadata": {},
   "outputs": [
    {
     "name": "stdout",
     "output_type": "stream",
     "text": [
      "4\n",
      "/usr/lib/crazymonkey.dll\n"
     ]
    }
   ],
   "source": [
    "# some module file\n",
    "\n",
    "NUMBER_OF_AVALIABLE_PROCS = 0\n",
    "VERY_IMPORTANT_LIBRARY_PATH = \"\"\n",
    "\n",
    "def find_number_of_procs():\n",
    "    return 4\n",
    "\n",
    "def get_very_important_library_path():\n",
    "    return \"/usr/lib/crazymonkey.dll\"\n",
    "\n",
    "def init():\n",
    "    global NUMBER_OF_AVALIABLE_PROCS\n",
    "    global VERY_IMPORTANT_LIBRARY_PATH\n",
    "    NUMBER_OF_AVALIABLE_PROCS = find_number_of_procs()\n",
    "    VERY_IMPORTANT_LIBRARY_PATH = get_very_important_library_path()\n",
    "\n",
    "init()\n",
    "print (NUMBER_OF_AVALIABLE_PROCS)\n",
    "print (VERY_IMPORTANT_LIBRARY_PATH)"
   ]
  },
  {
   "cell_type": "markdown",
   "metadata": {},
   "source": [
    "В случае с nonlocal нам необходимо для начала понять, что функция в Python - это тоже объект.\n",
    "\n",
    "Мы можем присваивать ее переменной"
   ]
  },
  {
   "cell_type": "code",
   "execution_count": 180,
   "metadata": {},
   "outputs": [
    {
     "name": "stdout",
     "output_type": "stream",
     "text": [
      "7\n",
      "7\n"
     ]
    }
   ],
   "source": [
    "def add_two(a, b):\n",
    "    return a + b\n",
    "\n",
    "adder = add_two # we can assign function to variable \n",
    "print (add_two(3,4))\n",
    "print (adder(3, 4))"
   ]
  },
  {
   "cell_type": "markdown",
   "metadata": {},
   "source": [
    "Мы можем вовзвращать функцию из функции"
   ]
  },
  {
   "cell_type": "code",
   "execution_count": 182,
   "metadata": {},
   "outputs": [
    {
     "name": "stdout",
     "output_type": "stream",
     "text": [
      "Add5 12\n",
      "Add10 17\n"
     ]
    }
   ],
   "source": [
    "# creates function, which given argument a return function, which adds a to his argument b\n",
    "def adder_creator(a):\n",
    "    def adder(b):\n",
    "        return a + b\n",
    "    return adder\n",
    "\n",
    "add5 = adder_creator(5)\n",
    "add10 = adder_creator(10)\n",
    "number = 7\n",
    "print (\"Add5\", add5(number))\n",
    "print (\"Add10\", add10(number))"
   ]
  },
  {
   "cell_type": "markdown",
   "metadata": {},
   "source": [
    "Мы можем посылать функцию как аргумент"
   ]
  },
  {
   "cell_type": "code",
   "execution_count": 204,
   "metadata": {},
   "outputs": [
    {
     "name": "stdout",
     "output_type": "stream",
     "text": [
      "15\n"
     ]
    }
   ],
   "source": [
    "def compose(func1, func2, x):\n",
    "    return func1(func2(x))\n",
    "\n",
    "add5 = adder_creator(5)\n",
    "add10 = adder_creator(10)\n",
    "\n",
    "print (compose(add5, add10, 0))"
   ]
  },
  {
   "cell_type": "markdown",
   "metadata": {},
   "source": [
    "Что происходит в коде выше?. В тот момент, когда создается функция adder, она получает информацию, что переменная a хранится в окружающей ее функции. И она всегда (во время жизни программы), может к ней обратиться, так как Python понимает, что на переменную a существует ссылка из функции adder и потому не удаляет ее. Это явление называется **захватом переменной**"
   ]
  },
  {
   "cell_type": "markdown",
   "metadata": {},
   "source": [
    "Теперь можно привести пример того, когда нам нужно использование nonlocal. Допустим, мы хотим в каком-то сложном коде для каждого объекта заводить id. Есть несколько подходов к решению данной проблемы и один из них - использование **nonlocal**"
   ]
  },
  {
   "cell_type": "code",
   "execution_count": 198,
   "metadata": {},
   "outputs": [
    {
     "name": "stdout",
     "output_type": "stream",
     "text": [
      "1\n",
      "2\n",
      "3\n",
      "10\n",
      "11\n",
      "12\n",
      "True\n",
      "False\n",
      "False\n"
     ]
    }
   ],
   "source": [
    "def get_counter(start_id = 0):\n",
    "    count = start_id - 1\n",
    "    def counter():\n",
    "        nonlocal count\n",
    "        count += 1\n",
    "        return count\n",
    "    return counter\n",
    "\n",
    "counter1 = get_counter(1)\n",
    "print (counter1())\n",
    "print (counter1())\n",
    "print (counter1())\n",
    "counter10 = get_counter(10) \n",
    "print (counter10())\n",
    "print (counter10())\n",
    "print (counter10())\n",
    "\n",
    "print (counter1 == counter1)\n",
    "print (counter1 == counter10) # the returned functions are DIFFERENT\n",
    "print (get_counter(1) == get_counter(1))  # they are still DIFFERENT"
   ]
  },
  {
   "cell_type": "markdown",
   "metadata": {},
   "source": [
    "То есть мы используем **nonlocal** тогда, когда, по какой-то причине, хотим дать нашей функции возможность изменять внешнюю по отношению к ней переменную, не делая при этом эту переменную глобальной. "
   ]
  },
  {
   "cell_type": "markdown",
   "metadata": {},
   "source": [
    "Здесь мы подходим к важной теме, которую начнем сегодня, а именно - реализация функционального программирования в Python.\n",
    "\n",
    "Что же такое функциональное программирование? Очень грубо, это трактовка любого алгоритма как результата применения группы функций друг к другу и к каким-либо объектам. Часто такой подход позволяет сделать что-либо очень изящно, часто приводит к нечитаемумому коду. Кому что нравится) "
   ]
  },
  {
   "cell_type": "markdown",
   "metadata": {},
   "source": [
    "То, что мы использовали в нескольких предыдущих примерах в общем виде называется **замыканием** "
   ]
  },
  {
   "cell_type": "markdown",
   "metadata": {},
   "source": [
    "**Замыкание** - это функция вместе с привязанной к ней совокупностью данных \n",
    "@Дэвид Мертц\n",
    "\n",
    "Действительно, в случае get_counter мы \"привязываем\" к создаваемой в ней функции counter переменную типа int - count. В дальнейшем counter спокойно обращается к этой переменной и может даже менять ее значение. \n",
    "\n",
    "По-аналогии можно сделать конструктор функций, умножающих на заданное число"
   ]
  },
  {
   "cell_type": "code",
   "execution_count": 1,
   "metadata": {},
   "outputs": [
    {
     "name": "stdout",
     "output_type": "stream",
     "text": [
      "9 15\n"
     ]
    }
   ],
   "source": [
    "def multiplier( n ):    # multiplier возвращает функцию умножения на n\n",
    "    def mul( k ):\n",
    "        return n * k\n",
    "    return mul\n",
    " \n",
    "mul3 = multiplier( 3 )  # mul3 - функция, умножающая на 3\n",
    "print( mul3( 3 ), mul3( 5 ) )"
   ]
  },
  {
   "cell_type": "markdown",
   "metadata": {},
   "source": [
    "А что если мы хотим написать функцию для отладки, которая принимает определенную функцию, а возвращает функцию, которая ведет себя так же, как и исходная, но печатает при старте функции \"Function started\", а при завершении ее работы - \"Function ended\"\n",
    "Если мы знаем, что целевая функция принимает только, допустим, один аргумент, то все просто"
   ]
  },
  {
   "cell_type": "code",
   "execution_count": 209,
   "metadata": {},
   "outputs": [
    {
     "name": "stdout",
     "output_type": "stream",
     "text": [
      "Real 55\n",
      "Function started\n",
      "Function ended\n",
      "Decorated 55\n"
     ]
    }
   ],
   "source": [
    "def fibonacci(n):\n",
    "\n",
    "    f0, f1 = 0, 1\n",
    "    for i in range(n):\n",
    "        f0, f1 = f1, f0 + f1\n",
    "    return f0\n",
    "\n",
    "def simple_wrapper(func):\n",
    "    def decorated_func(n):\n",
    "        print (\"Function started\")\n",
    "        result = func(n)\n",
    "        print (\"Function ended\")\n",
    "        return result\n",
    "    return decorated_func\n",
    "\n",
    "print (\"Real\", fibonacci(10))\n",
    "decorated_fibonacci = simple_wrapper(fibonacci)\n",
    "\n",
    "print (\"Decorated\", decorated_fibonacci(10))"
   ]
  },
  {
   "cell_type": "markdown",
   "metadata": {},
   "source": [
    "Вернемся теперь к нашей задаче:\n",
    "     написать функцию для отладки, которая принимает определенную функцию, а возвращает функцию, которая ведет себя так же, как и исходная, но печатает при старте функции \"Function started\", а при завершении ее работы - \"Function ended\"."
   ]
  },
  {
   "cell_type": "code",
   "execution_count": 268,
   "metadata": {
    "collapsed": true
   },
   "outputs": [],
   "source": [
    "def print_wrapper(func):\n",
    "    def decorated_func(*args, **kwargs):\n",
    "        print (\"Function started\")\n",
    "        result = func(*args, **kwargs)\n",
    "        print (\"Function ended\")\n",
    "        return result\n",
    "    return decorated_func"
   ]
  },
  {
   "cell_type": "markdown",
   "metadata": {},
   "source": [
    "В стандартной библиотеке Python есть множество декораторов, с которыми вы познакомитесь позже.\n",
    "\n",
    "Декоратору непросто передать дополнительные аргументы, т.к он принимает первым аргументом функцию. На самом деле, для этого надо сделать не декоратор, а функцию, возвращающую декоратор\n",
    "\n",
    "Напишем, например, декоратор, который будет писать в лог текущее время и дату и свое имя"
   ]
  },
  {
   "cell_type": "code",
   "execution_count": 2,
   "metadata": {
    "collapsed": true
   },
   "outputs": [],
   "source": [
    "def log_wrapper(name):\n",
    "    import datetime\n",
    "    def real_decorator(func):\n",
    "        def decorated_func(*args, **kwargs):\n",
    "            now = datetime.datetime.now()\n",
    "            print (\"{}, Date: {}, Function started\".format(name, now))\n",
    "            result = func(*args, **kwargs)\n",
    "            now = datetime.datetime.now()\n",
    "            print (\"{}, Date: {}, Function ended\".format(name, now))\n",
    "            return result\n",
    "        return decorated_func\n",
    "    return real_decorator"
   ]
  },
  {
   "cell_type": "code",
   "execution_count": 3,
   "metadata": {},
   "outputs": [
    {
     "name": "stdout",
     "output_type": "stream",
     "text": [
      "Simple logger, Date: 2018-03-08 10:10:15.775424, Function started\n",
      "Simple logger, Date: 2018-03-08 10:10:25.993505, Function ended\n"
     ]
    }
   ],
   "source": [
    "@log_wrapper(\"Simple logger\")\n",
    "def fibonacci(n):\n",
    "    f0, f1 = 0, 1\n",
    "    for i in range(n):\n",
    "        f0, f1 = f1, f0 + f1\n",
    "    return f0\n",
    "\n",
    "res = fibonacci(1000000)"
   ]
  },
  {
   "cell_type": "code",
   "execution_count": null,
   "metadata": {
    "collapsed": true
   },
   "outputs": [],
   "source": [
    "def fibonacci(n):\n",
    "\n",
    "    f0, f1 = 0, 1\n",
    "    for i in range(n):\n",
    "        f0, f1 = f1, f0 + f1\n",
    "    return f0\n",
    "\n",
    "def fibonacci_rec_hash(n, calc_memory = {0: 0, 1 : 1}):\n",
    "    if n < 0:\n",
    "        return 0\n",
    "    result = calc_memory.get(n, None) # safe way to get value, \n",
    "    # if value doesn't exist, returns default value, here it's None\n",
    "    if result is not None:\n",
    "        return result\n",
    "\n",
    "    result = fibonacci_rec_hash(n - 1) + fibonacci_rec_hash(n - 2)\n",
    "    calc_memory[n] = result\n",
    "    return result\n",
    "\n",
    "@functools.lru_cache(maxsize=1000, typed=False)\n",
    "def fibonacci_rec(n):\n",
    "    if n < 0:\n",
    "        return 0\n",
    "    \n",
    "    if n == 0:\n",
    "        return 0\n",
    "    if n == 1:\n",
    "        return 1\n",
    "    \n",
    "    return fibonacci_rec(n - 1) + fibonacci_rec(n - 2)"
   ]
  },
  {
   "cell_type": "markdown",
   "metadata": {},
   "source": [
    "**functools.singledispatch** позволяет решить проблему того, как в Python создавать функции, работающие по-разному в зависимости от входных аргументов (**перегрузка функций**). Обычно ее делают просто с помощью if else, но можно сделать красивее"
   ]
  },
  {
   "cell_type": "code",
   "execution_count": 1,
   "metadata": {
    "collapsed": true
   },
   "outputs": [],
   "source": [
    "import functools\n",
    "@functools.singledispatch\n",
    "def factorial(n):\n",
    "    print (\"Error: inappropriate type\")\n",
    "    return -1\n",
    "    \n",
    "@factorial.register(int)\n",
    "def fact_int(n):\n",
    "    acc = 1\n",
    "    for i in range(1, n + 1):\n",
    "        acc *= i\n",
    "    return acc\n",
    "\n",
    "@factorial.register(float)\n",
    "def fact_float(n):\n",
    "    from scipy.special import factorial as float_fact\n",
    "    return float(float_fact(n))"
   ]
  },
  {
   "cell_type": "code",
   "execution_count": 2,
   "metadata": {
    "scrolled": false
   },
   "outputs": [
    {
     "name": "stdout",
     "output_type": "stream",
     "text": [
      "Error: inappropriate type\n",
      "Error: inappropriate type\n",
      "1.329340388179137 -1 3628800 -1\n"
     ]
    }
   ],
   "source": [
    "print (factorial(1.5), factorial(\"l\"), factorial(10),factorial(\"l\"))"
   ]
  },
  {
   "cell_type": "markdown",
   "metadata": {},
   "source": [
    "## Базовые операции с файлами\n",
    "\n",
    "Работа с файлами -- неотделимая часть жизни биоинформатика. Согласно кулуарным байкам, до 90% работы среднестатистического биоинформатика уходит на  парсинг файлов и их конвертацию между форматами. \n",
    "\n",
    "Файл -- это данные, которые хранятся на некотором носителе, например, на жестком диске. \n",
    "\n",
    "В Питоне для работы с файлами предусмотрены стандартные команды и объекты:"
   ]
  },
  {
   "cell_type": "code",
   "execution_count": 1,
   "metadata": {
    "collapsed": true
   },
   "outputs": [],
   "source": [
    "f = open('dummy_text.txt')"
   ]
  },
  {
   "cell_type": "code",
   "execution_count": 3,
   "metadata": {},
   "outputs": [
    {
     "data": {
      "text/plain": [
       "'This morning, shortly after 11:00, comedy struck this little house on Dibley Road. Sudden, violent comedy.\\n'"
      ]
     },
     "execution_count": 3,
     "metadata": {},
     "output_type": "execute_result"
    }
   ],
   "source": [
    "f.readline()"
   ]
  },
  {
   "cell_type": "code",
   "execution_count": 4,
   "metadata": {
    "collapsed": true
   },
   "outputs": [],
   "source": [
    "tmp_line = f.readline()"
   ]
  },
  {
   "cell_type": "code",
   "execution_count": 5,
   "metadata": {},
   "outputs": [
    {
     "data": {
      "text/plain": [
       "'Nobody expects the Spanish Inquisition! '"
      ]
     },
     "execution_count": 5,
     "metadata": {},
     "output_type": "execute_result"
    }
   ],
   "source": [
    "f.read(40)"
   ]
  },
  {
   "cell_type": "code",
   "execution_count": 6,
   "metadata": {},
   "outputs": [
    {
     "name": "stdout",
     "output_type": "stream",
     "text": [
      "False\n"
     ]
    }
   ],
   "source": [
    "print(f.closed)"
   ]
  },
  {
   "cell_type": "code",
   "execution_count": 7,
   "metadata": {},
   "outputs": [
    {
     "name": "stdout",
     "output_type": "stream",
     "text": [
      "True\n"
     ]
    }
   ],
   "source": [
    "f.close()\n",
    "print(f.closed)"
   ]
  },
  {
   "cell_type": "code",
   "execution_count": 3,
   "metadata": {},
   "outputs": [
    {
     "name": "stdout",
     "output_type": "stream",
     "text": [
      "This morning, shortly after 11:00, comedy struck this little house on Dibley Road. Sudden, violent comedy.\n",
      "\n"
     ]
    }
   ],
   "source": [
    "f = open('dummy_text.txt')\n",
    "file_content = f.readline()\n",
    "f.close()\n",
    "print(file_content)"
   ]
  },
  {
   "cell_type": "markdown",
   "metadata": {},
   "source": [
    "### Простой код для чтения и записи fasta-файлов в новом формате"
   ]
  },
  {
   "cell_type": "code",
   "execution_count": 4,
   "metadata": {
    "collapsed": true
   },
   "outputs": [],
   "source": [
    "def read_fasta(filename):\n",
    "    with open(filename) as f:\n",
    "        entries = f.read().split('>')[1:]\n",
    "        fasta_list = []\n",
    "        for i in entries:\n",
    "            name = i.split('\\n')[0]\n",
    "            sequence = \"\".join(i.split('\\n')[1:])\n",
    "            line = \"{} {}\".format( name, sequence )\n",
    "            fasta_list.append( line )\n",
    "    return fasta_list"
   ]
  },
  {
   "cell_type": "code",
   "execution_count": 7,
   "metadata": {},
   "outputs": [
    {
     "data": {
      "text/plain": [
       "['HSBGPG Human gene for bone gla protein (BGP) GGCAGATTCCCCCTAGACCCGCCCGCACCATGGTCAGGCATGCCCCTCCTCATCGCTGGGCACAGCCCAGAGGGTATAAACAGTGCTGGAGGCTGGCGGGGCAGGCCAGCTGAGTCCTGAGCAGCAGCCCAGCGCAGCCACCGAGACACCATGAGAGCCCTCACACTCCTCGCCCTATTGGCCCTGGCCGCACTTTGCATCGCTGGCCAGGCAGGTGAGTGCCCCCACCTCCCCTCAGGCCGCATTGCAGTGGGGGCTGAGAGGAGGAAGCACCATGGCCCACCTCTTCTCACCCCTTTGGCTGGCAGTCCCTTTGCAGTCTAACCACCTTGTTGCAGGCTCAATCCATTTGCCCCAGCTCTGCCCTTGCAGAGGGAGAGGAGGGAAGAGCAAGCTGCCCGAGACGCAGGGGAAGGAGGATGAGGGCCCTGGGGATGAGCTGGGGTGAACCAGGCTCCCTTTCCTTTGCAGGTGCGAAGCCCAGCGGTGCAGAGTCCAGCAAAGGTGCAGGTATGAGGATGGACCTGATGGGTTCCTGGACCCTCCCCTCTCACCCTGGTCCCTCAGTCTCATTCCCCCACTCCTGCCACCTCCTGTCTGGCCATCAGGAAGGCCAGCCTGCTCCCCACCTGATCCTCCCAAACCCAGAGCCACCTGATGCCTGCCCCTCTGCTCCACAGCCTTTGTGTCCAAGCAGGAGGGCAGCGAGGTAGTGAAGAGACCCAGGCGCTACCTGTATCAATGGCTGGGGTGAGAGAAAAGGCAGAGCTGGGCCAAGGCCCTGCCTCTCCGGGATGGTCTGTGGGGGAGCTGCAGCAGGGAGTGGCCTCTCTGGGTTGTGGTGGGGGTACAGGCAGCCTGCCCTGGTGGGCACCCTGGAGCCCCATGTGTAGGGAGAGGAGGGATGGGCATTTTGCACGGGGGCTGATGCCACCACGTCGGGTGTCTCAGAGCCCCAGTCCCCTACCCGGATCCCCTGGAGCCCAGGAGGGAGGTGTGTGAGCTCAATCCGGACTGTGACGAGTTGGCTGACCACATCGGCTTTCAGGAGGCCTATCGGCGCTTCTACGGCCCGGTCTAGGGTGTCGCTCTGCTGGCCTGGCCGGCAACCCCAGTTCTGCTCCTCTCCAGGCACCCTTCTTTCCTCTTCCCCTTGCCCTTGCCCTGACCTCCCAGCCCTATGGATGTGGGGTCCCCATCATCCCAGCTGCTCCCAAATAAACTCCAGAAG',\n",
       " 'HSGLTH1 Human theta 1-globin gene CCACTGCACTCACCGCACCCGGCCAATTTTTGTGTTTTTAGTAGAGACTAAATACCATATAGTGAACACCTAAGACGGGGGGCCTTGGATCCAGGGCGATTCAGAGGGCCCCGGTCGGAGCTGTCGGAGATTGAGCGCGCGCGGTCCCGGGATCTCCGACGAGGCCCTGGACCCCCGGGCGGCGAAGCTGCGGCGCGGCGCCCCCTGGAGGCCGCGGGACCCCTGGCCGGTCCGCGCAGGCGCAGCGGGGTCGCAGGGCGCGGCGGGTTCCAGCGCGGGGATGGCGCTGTCCGCGGAGGACCGGGCGCTGGTGCGCGCCCTGTGGAAGAAGCTGGGCAGCAACGTCGGCGTCTACACGACAGAGGCCCTGGAAAGGTGCGGCAGGCTGGGCGCCCCCGCCCCCAGGGGCCCTCCCTCCCCAAGCCCCCCGGACGCGCCTCACCCACGTTCCTCTCGCAGGACCTTCCTGGCTTTCCCCGCCACGAAGACCTACTTCTCCCACCTGGACCTGAGCCCCGGCTCCTCACAAGTCAGAGCCCACGGCCAGAAGGTGGCGGACGCGCTGAGCCTCGCCGTGGAGCGCCTGGACGACCTACCCCACGCGCTGTCCGCGCTGAGCCACCTGCACGCGTGCCAGCTGCGAGTGGACCCGGCCAGCTTCCAGGTGAGCGGCTGCCGTGCTGGGCCCCTGTCCCCGGGAGGGCCCCGGCGGGGTGGGTGCGGGGGGCGTGCGGGGCGGGTGCAGGCGAGTGAGCCTTGAGCGCTCGCCGCAGCTCCTGGGCCACTGCCTGCTGGTAACCCTCGCCCGGCACTACCCCGGAGACTTCAGCCCCGCGCTGCAGGCGTCGCTGGACAAGTTCCTGAGCCACGTTATCTCGGCGCTGGTTTCCGAGTACCGCTGAACTGTGGGTGGGTGGCCGCGGGATCCCCAGGCGACCTTCCCCGTGTTTGAGTAAAGCCTCTCCCAGGAGCAGCCTTCTTGCCGTGCTCTCTCGAGGTCAGGACGCGAGAGGAAGGCGC']"
      ]
     },
     "execution_count": 7,
     "metadata": {},
     "output_type": "execute_result"
    }
   ],
   "source": [
    "seq_info = read_fasta('example.fasta')\n",
    "seq_info\n"
   ]
  },
  {
   "cell_type": "code",
   "execution_count": 18,
   "metadata": {
    "collapsed": true
   },
   "outputs": [],
   "source": [
    "with open('example_seqs.txt', 'w') as f:\n",
    "    f.writelines(seq_info)"
   ]
  },
  {
   "cell_type": "code",
   "execution_count": 8,
   "metadata": {},
   "outputs": [
    {
     "name": "stdout",
     "output_type": "stream",
     "text": [
      "HSBGPG Human gene for bone gla protein (BGP) GGCAGATTCCCCCTAGACCCGCCCGCACCATGGTCAGGCATGCCCCTCCTCATCGCTGGGCACAGCCCAGAGGGTATAAACAGTGCTGGAGGCTGGCGGGGCAGGCCAGCTGAGTCCTGAGCAGCAGCCCAGCGCAGCCACCGAGACACCATGAGAGCCCTCACACTCCTCGCCCTATTGGCCCTGGCCGCACTTTGCATCGCTGGCCAGGCAGGTGAGTGCCCCCACCTCCCCTCAGGCCGCATTGCAGTGGGGGCTGAGAGGAGGAAGCACCATGGCCCACCTCTTCTCACCCCTTTGGCTGGCAGTCCCTTTGCAGTCTAACCACCTTGTTGCAGGCTCAATCCATTTGCCCCAGCTCTGCCCTTGCAGAGGGAGAGGAGGGAAGAGCAAGCTGCCCGAGACGCAGGGGAAGGAGGATGAGGGCCCTGGGGATGAGCTGGGGTGAACCAGGCTCCCTTTCCTTTGCAGGTGCGAAGCCCAGCGGTGCAGAGTCCAGCAAAGGTGCAGGTATGAGGATGGACCTGATGGGTTCCTGGACCCTCCCCTCTCACCCTGGTCCCTCAGTCTCATTCCCCCACTCCTGCCACCTCCTGTCTGGCCATCAGGAAGGCCAGCCTGCTCCCCACCTGATCCTCCCAAACCCAGAGCCACCTGATGCCTGCCCCTCTGCTCCACAGCCTTTGTGTCCAAGCAGGAGGGCAGCGAGGTAGTGAAGAGACCCAGGCGCTACCTGTATCAATGGCTGGGGTGAGAGAAAAGGCAGAGCTGGGCCAAGGCCCTGCCTCTCCGGGATGGTCTGTGGGGGAGCTGCAGCAGGGAGTGGCCTCTCTGGGTTGTGGTGGGGGTACAGGCAGCCTGCCCTGGTGGGCACCCTGGAGCCCCATGTGTAGGGAGAGGAGGGATGGGCATTTTGCACGGGGGCTGATGCCACCACGTCGGGTGTCTCAGAGCCCCAGTCCCCTACCCGGATCCCCTGGAGCCCAGGAGGGAGGTGTGTGAGCTCAATCCGGACTGTGACGAGTTGGCTGACCACATCGGCTTTCAGGAGGCCTATCGGCGCTTCTACGGCCCGGTCTAGGGTGTCGCTCTGCTGGCCTGGCCGGCAACCCCAGTTCTGCTCCTCTCCAGGCACCCTTCTTTCCTCTTCCCCTTGCCCTTGCCCTGACCTCCCAGCCCTATGGATGTGGGGTCCCCATCATCCCAGCTGCTCCCAAATAAACTCCAGAAGHSGLTH1 Human theta 1-globin gene CCACTGCACTCACCGCACCCGGCCAATTTTTGTGTTTTTAGTAGAGACTAAATACCATATAGTGAACACCTAAGACGGGGGGCCTTGGATCCAGGGCGATTCAGAGGGCCCCGGTCGGAGCTGTCGGAGATTGAGCGCGCGCGGTCCCGGGATCTCCGACGAGGCCCTGGACCCCCGGGCGGCGAAGCTGCGGCGCGGCGCCCCCTGGAGGCCGCGGGACCCCTGGCCGGTCCGCGCAGGCGCAGCGGGGTCGCAGGGCGCGGCGGGTTCCAGCGCGGGGATGGCGCTGTCCGCGGAGGACCGGGCGCTGGTGCGCGCCCTGTGGAAGAAGCTGGGCAGCAACGTCGGCGTCTACACGACAGAGGCCCTGGAAAGGTGCGGCAGGCTGGGCGCCCCCGCCCCCAGGGGCCCTCCCTCCCCAAGCCCCCCGGACGCGCCTCACCCACGTTCCTCTCGCAGGACCTTCCTGGCTTTCCCCGCCACGAAGACCTACTTCTCCCACCTGGACCTGAGCCCCGGCTCCTCACAAGTCAGAGCCCACGGCCAGAAGGTGGCGGACGCGCTGAGCCTCGCCGTGGAGCGCCTGGACGACCTACCCCACGCGCTGTCCGCGCTGAGCCACCTGCACGCGTGCCAGCTGCGAGTGGACCCGGCCAGCTTCCAGGTGAGCGGCTGCCGTGCTGGGCCCCTGTCCCCGGGAGGGCCCCGGCGGGGTGGGTGCGGGGGGCGTGCGGGGCGGGTGCAGGCGAGTGAGCCTTGAGCGCTCGCCGCAGCTCCTGGGCCACTGCCTGCTGGTAACCCTCGCCCGGCACTACCCCGGAGACTTCAGCCCCGCGCTGCAGGCGTCGCTGGACAAGTTCCTGAGCCACGTTATCTCGGCGCTGGTTTCCGAGTACCGCTGAACTGTGGGTGGGTGGCCGCGGGATCCCCAGGCGACCTTCCCCGTGTTTGAGTAAAGCCTCTCCCAGGAGCAGCCTTCTTGCCGTGCTCTCTCGAGGTCAGGACGCGAGAGGAAGGCGC"
     ]
    }
   ],
   "source": [
    "%%bash\n",
    "less example_seqs.txt"
   ]
  },
  {
   "cell_type": "code",
   "execution_count": 5,
   "metadata": {},
   "outputs": [
    {
     "name": "stdout",
     "output_type": "stream",
     "text": [
      "/home/pavel\n"
     ]
    }
   ],
   "source": [
    "cd"
   ]
  },
  {
   "cell_type": "markdown",
   "metadata": {},
   "source": [
    "Если файл действительно большой, следует использовать ленивый подход -- чтение по блокам:\n",
    "\n",
    "```python\n",
    "with open('really_big_file.dat') as f:\n",
    "    while True:\n",
    "        data = f.read(chunk_size)\n",
    "        if not data:\n",
    "            break\n",
    "        process_data(data)\n",
    "```"
   ]
  },
  {
   "cell_type": "code",
   "execution_count": 14,
   "metadata": {},
   "outputs": [
    {
     "name": "stdout",
     "output_type": "stream",
     "text": [
      ">HSBGPG Human gene for bone gla protein (BGP)\n",
      "\n",
      "GGCAGATTCCCCCTAGACCCGCCCGCACCATGGTCAGGCATGCC\n",
      "CCTCCTCATCGCTGGGCACAGCCCAGAGGGT\n",
      "ATAAACAGTGCTG\n",
      "GAGGCTGGCGGGGCAGGCCAGCTGAGTCCTGAGCAGCAGCCCAGC\n",
      "GCAGCCACCGAGACACC\n",
      "ATGAGAGCCCTCACACTCCTCGCCCTA\n",
      "TTGGCCCTGGCCGCACTTTGCATCGCTGGCCAGGCAGGTGAGTGC\n",
      "CCC\n",
      "CACCTCCCCTCAGGCCGCATTGCAGTGGGGGCTGAGAGGAG\n",
      "GAAGCACCATGGCCCACCTCTTCTCACCCCTTTG\n",
      "GCTGGCAGTC\n",
      "CCTTTGCAGTCTAACCACCTTGTTGCAGGCTCAATCCATTTGCCC\n",
      "CAGCTCTGCCCTTGCAGAGG\n",
      "GAGAGGAGGGAAGAGCAAGCTGCC\n",
      "CGAGACGCAGGGGAAGGAGGATGAGGGCCCTGGGGATGAGCTGGG\n",
      "GTGAAC\n",
      "CAGGCTCCCTTTCCTTTGCAGGTGCGAAGCCCAGCGGT\n",
      "GCAGAGTCCAGCAAAGGTGCAGGTATGAGGATGGACC\n",
      "TGATGGG\n",
      "TTCCTGGACCCTCCCCTCTCACCCTGGTCCCTCAGTCTCATTCCC\n",
      "CCACTCCTGCCACCTCCTGTCTG\n",
      "GCCATCAGGAAGGCCAGCCTG\n",
      "CTCCCCACCTGATCCTCCCAAACCCAGAGCCACCTGATGCCTGCC\n",
      "CCTCTGCTC\n",
      "CACAGCCTTTGTGTCCAAGCAGGAGGGCAGCGAGG\n",
      "TAGTGAAGAGACCCAGGCGCTACCTGTATCAATGGCTGGG\n",
      "GTGA\n",
      "GAGAAAAGGCAGAGCTGGGCCAAGGCCCTGCCTCTCCGGGATGGT\n",
      "CTGTGGGGGAGCTGCAGCAGGGAGTG\n",
      "GCCTCTCTGGGTTGTGGT\n",
      "GGGGGTACAGGCAGCCTGCCCTGGTGGGCACCCTGGAGCCCCATG\n",
      "TGTAGGGAGAGG\n",
      "AGGGATGGGCATTTTGCACGGGGGCTGATGCC\n",
      "ACCACGTCGGGTGTCTCAGAGCCCCAGTCCCCTACCCGGATCC\n",
      "C\n",
      "CTGGAGCCCAGGAGGGAGGTGTGTGAGCTCAATCCGGACTGTGAC\n",
      "GAGTTGGCTGACCACATCGGCTTTCAGGA\n",
      "GGCCTATCGGCGCTT\n",
      "CTACGGCCCGGTCTAGGGTGTCGCTCTGCTGGCCTGGCCGGCAAC\n",
      "CCCAGTTCTGCTCCT\n",
      "CTCCAGGCACCCTTCTTTCCTCTTCCCCT\n",
      "TGCCCTTGCCCTGACCTCCCAGCCCTATGGATGTGGGGTCCCCAT\n",
      "C\n",
      "ATCCCAGCTGCTCCCAAATAAACTCCAGAAG\n",
      ">HSGLTH1 Hu\n",
      "man theta 1-globin gene\n",
      "CCACTGCACTCACCGCACCCG\n",
      "GCCAATTTTTGTGTTTTTAGTAGAGACTAAATACCATATAGTGAA\n",
      "CACCTAAGA\n",
      "CGGGGGGCCTTGGATCCAGGGCGATTCAGAGGGCC\n",
      "CCGGTCGGAGCTGTCGGAGATTGAGCGCGCGCGGTCCCGG\n",
      "GATC\n",
      "TCCGACGAGGCCCTGGACCCCCGGGCGGCGAAGCTGCGGCGCGGC\n",
      "GCCCCCTGGAGGCCGCGGGACCCCTG\n",
      "GCCGGTCCGCGCAGGCGC\n",
      "AGCGGGGTCGCAGGGCGCGGCGGGTTCCAGCGCGGGGATGGCGCT\n",
      "GTCCGCGGAGGA\n",
      "CCGGGCGCTGGTGCGCGCCCTGTGGAAGAAGC\n",
      "TGGGCAGCAACGTCGGCGTCTACACGACAGAGGCCCTGGAAAG\n",
      "G\n",
      "TGCGGCAGGCTGGGCGCCCCCGCCCCCAGGGGCCCTCCCTCCCCA\n",
      "AGCCCCCCGGACGCGCCTCACCCACGTTC\n",
      "CTCTCGCAGGACCTT\n",
      "CCTGGCTTTCCCCGCCACGAAGACCTACTTCTCCCACCTGGACCT\n",
      "GAGCCCCGGCTCCTC\n",
      "ACAAGTCAGAGCCCACGGCCAGAAGGTGG\n",
      "CGGACGCGCTGAGCCTCGCCGTGGAGCGCCTGGACGACCTACCCC\n",
      "A\n",
      "CGCGCTGTCCGCGCTGAGCCACCTGCACGCGTGCCAGCTGCGA\n",
      "GTGGACCCGGCCAGCTTCCAGGTGAGCGGCTG\n",
      "CCGTGCTGGGCC\n",
      "CCTGTCCCCGGGAGGGCCCCGGCGGGGTGGGTGCGGGGGGCGTGC\n",
      "GGGGCGGGTGCAGGCGAG\n",
      "TGAGCCTTGAGCGCTCGCCGCAGCTC\n",
      "CTGGGCCACTGCCTGCTGGTAACCCTCGCCCGGCACTACCCCGGA\n",
      "GACT\n",
      "TCAGCCCCGCGCTGCAGGCGTCGCTGGACAAGTTCCTGAG\n",
      "CCACGTTATCTCGGCGCTGGTTTCCGAGTACCGCT\n",
      "GAACTGTGG\n",
      "GTGGGTGGCCGCGGGATCCCCAGGCGACCTTCCCCGTGTTTGAGT\n",
      "AAAGCCTCTCCCAGGAGCAGC\n",
      "CTTCTTGCCGTGCTCTCTCGAGG\n",
      "TCAGGACGCGAGAGGAAGGCGC\n",
      "\n"
     ]
    }
   ],
   "source": [
    "with open('example.fasta') as f:\n",
    "    while True:\n",
    "        data = f.read(45)\n",
    "        if not data:\n",
    "            break\n",
    "        print(data)"
   ]
  },
  {
   "cell_type": "code",
   "execution_count": 23,
   "metadata": {
    "collapsed": true
   },
   "outputs": [],
   "source": [
    "import csv"
   ]
  },
  {
   "cell_type": "code",
   "execution_count": 24,
   "metadata": {
    "scrolled": true
   },
   "outputs": [
    {
     "name": "stdout",
     "output_type": "stream",
     "text": [
      "3.7586666666666693\n"
     ]
    }
   ],
   "source": [
    "petal_widths = []\n",
    "with open('example.csv') as csvfile:\n",
    "    iris_dataset = csv.reader(csvfile)\n",
    "    header = next(iris_dataset)\n",
    "    for row in iris_dataset:\n",
    "        petal_widths.append( float(row[2]) ) \n",
    "        \n",
    "print(sum(petal_widths)/len(petal_widths))"
   ]
  },
  {
   "cell_type": "markdown",
   "metadata": {},
   "source": [
    "### JSON\n",
    "(JavaScript Object Notation, see https://www.json.org/ ) "
   ]
  },
  {
   "cell_type": "code",
   "execution_count": 25,
   "metadata": {
    "collapsed": true
   },
   "outputs": [],
   "source": [
    "d = { \"name\":\"John\", \"age\":20, \"os\":\"linux\" }"
   ]
  },
  {
   "cell_type": "code",
   "execution_count": 26,
   "metadata": {
    "collapsed": true
   },
   "outputs": [],
   "source": [
    "import json\n",
    "with open('example.json', 'w') as f:\n",
    "    json.dump(d, f)"
   ]
  },
  {
   "cell_type": "code",
   "execution_count": 27,
   "metadata": {},
   "outputs": [
    {
     "name": "stdout",
     "output_type": "stream",
     "text": [
      "{\"name\": \"John\", \"age\": 20, \"os\": \"linux\"}"
     ]
    }
   ],
   "source": [
    "%%bash\n",
    "less example.json"
   ]
  },
  {
   "cell_type": "code",
   "execution_count": 28,
   "metadata": {
    "collapsed": true
   },
   "outputs": [],
   "source": [
    "with open('complex.json', 'r') as f:\n",
    "    d = json.load(f)"
   ]
  },
  {
   "cell_type": "code",
   "execution_count": 29,
   "metadata": {
    "collapsed": true
   },
   "outputs": [],
   "source": [
    "# one-liner\n",
    "d = json.load(open('complex.json', 'r'))"
   ]
  },
  {
   "cell_type": "code",
   "execution_count": 30,
   "metadata": {},
   "outputs": [
    {
     "data": {
      "text/plain": [
       "{'age': 20, 'name': 'John', 'os': 'linux'}"
      ]
     },
     "execution_count": 30,
     "metadata": {},
     "output_type": "execute_result"
    }
   ],
   "source": [
    "json.loads(open('example.json').read())"
   ]
  },
  {
   "cell_type": "code",
   "execution_count": 31,
   "metadata": {},
   "outputs": [
    {
     "ename": "JSONDecodeError",
     "evalue": "Extra data: line 1 column 43 (char 42)",
     "output_type": "error",
     "traceback": [
      "\u001b[0;31m---------------------------------------------------------------------------\u001b[0m",
      "\u001b[0;31mJSONDecodeError\u001b[0m                           Traceback (most recent call last)",
      "\u001b[0;32m<ipython-input-31-f3dd7e9e4532>\u001b[0m in \u001b[0;36m<module>\u001b[0;34m()\u001b[0m\n\u001b[0;32m----> 1\u001b[0;31m \u001b[0mjson\u001b[0m\u001b[0;34m.\u001b[0m\u001b[0mloads\u001b[0m\u001b[0;34m(\u001b[0m\u001b[0mopen\u001b[0m\u001b[0;34m(\u001b[0m\u001b[0;34m'example.json'\u001b[0m\u001b[0;34m)\u001b[0m\u001b[0;34m.\u001b[0m\u001b[0mread\u001b[0m\u001b[0;34m(\u001b[0m\u001b[0;34m)\u001b[0m\u001b[0;34m+\u001b[0m\u001b[0;34m']'\u001b[0m\u001b[0;34m)\u001b[0m\u001b[0;34m\u001b[0m\u001b[0m\n\u001b[0m",
      "\u001b[0;32m~/anaconda3/envs/sci-python3/lib/python3.6/json/__init__.py\u001b[0m in \u001b[0;36mloads\u001b[0;34m(s, encoding, cls, object_hook, parse_float, parse_int, parse_constant, object_pairs_hook, **kw)\u001b[0m\n\u001b[1;32m    352\u001b[0m             \u001b[0mparse_int\u001b[0m \u001b[0;32mis\u001b[0m \u001b[0;32mNone\u001b[0m \u001b[0;32mand\u001b[0m \u001b[0mparse_float\u001b[0m \u001b[0;32mis\u001b[0m \u001b[0;32mNone\u001b[0m \u001b[0;32mand\u001b[0m\u001b[0;34m\u001b[0m\u001b[0m\n\u001b[1;32m    353\u001b[0m             parse_constant is None and object_pairs_hook is None and not kw):\n\u001b[0;32m--> 354\u001b[0;31m         \u001b[0;32mreturn\u001b[0m \u001b[0m_default_decoder\u001b[0m\u001b[0;34m.\u001b[0m\u001b[0mdecode\u001b[0m\u001b[0;34m(\u001b[0m\u001b[0ms\u001b[0m\u001b[0;34m)\u001b[0m\u001b[0;34m\u001b[0m\u001b[0m\n\u001b[0m\u001b[1;32m    355\u001b[0m     \u001b[0;32mif\u001b[0m \u001b[0mcls\u001b[0m \u001b[0;32mis\u001b[0m \u001b[0;32mNone\u001b[0m\u001b[0;34m:\u001b[0m\u001b[0;34m\u001b[0m\u001b[0m\n\u001b[1;32m    356\u001b[0m         \u001b[0mcls\u001b[0m \u001b[0;34m=\u001b[0m \u001b[0mJSONDecoder\u001b[0m\u001b[0;34m\u001b[0m\u001b[0m\n",
      "\u001b[0;32m~/anaconda3/envs/sci-python3/lib/python3.6/json/decoder.py\u001b[0m in \u001b[0;36mdecode\u001b[0;34m(self, s, _w)\u001b[0m\n\u001b[1;32m    340\u001b[0m         \u001b[0mend\u001b[0m \u001b[0;34m=\u001b[0m \u001b[0m_w\u001b[0m\u001b[0;34m(\u001b[0m\u001b[0ms\u001b[0m\u001b[0;34m,\u001b[0m \u001b[0mend\u001b[0m\u001b[0;34m)\u001b[0m\u001b[0;34m.\u001b[0m\u001b[0mend\u001b[0m\u001b[0;34m(\u001b[0m\u001b[0;34m)\u001b[0m\u001b[0;34m\u001b[0m\u001b[0m\n\u001b[1;32m    341\u001b[0m         \u001b[0;32mif\u001b[0m \u001b[0mend\u001b[0m \u001b[0;34m!=\u001b[0m \u001b[0mlen\u001b[0m\u001b[0;34m(\u001b[0m\u001b[0ms\u001b[0m\u001b[0;34m)\u001b[0m\u001b[0;34m:\u001b[0m\u001b[0;34m\u001b[0m\u001b[0m\n\u001b[0;32m--> 342\u001b[0;31m             \u001b[0;32mraise\u001b[0m \u001b[0mJSONDecodeError\u001b[0m\u001b[0;34m(\u001b[0m\u001b[0;34m\"Extra data\"\u001b[0m\u001b[0;34m,\u001b[0m \u001b[0ms\u001b[0m\u001b[0;34m,\u001b[0m \u001b[0mend\u001b[0m\u001b[0;34m)\u001b[0m\u001b[0;34m\u001b[0m\u001b[0m\n\u001b[0m\u001b[1;32m    343\u001b[0m         \u001b[0;32mreturn\u001b[0m \u001b[0mobj\u001b[0m\u001b[0;34m\u001b[0m\u001b[0m\n\u001b[1;32m    344\u001b[0m \u001b[0;34m\u001b[0m\u001b[0m\n",
      "\u001b[0;31mJSONDecodeError\u001b[0m: Extra data: line 1 column 43 (char 42)"
     ]
    }
   ],
   "source": [
    "json.loads(open('example.json').read()+']')"
   ]
  },
  {
   "cell_type": "markdown",
   "metadata": {},
   "source": [
    "### PICKLE\n",
    "Бинарные файлы меньше текстовых, их быстрее считывать и проще хранить. "
   ]
  },
  {
   "cell_type": "code",
   "execution_count": 16,
   "metadata": {
    "collapsed": true
   },
   "outputs": [],
   "source": [
    "import pickle"
   ]
  },
  {
   "cell_type": "code",
   "execution_count": 17,
   "metadata": {
    "collapsed": true
   },
   "outputs": [],
   "source": [
    "d = { \"name\":\"John\", \"age\":20, \"os\":\"linux\" }\n",
    "pickle.dump( d , open( \"example.pickle\", \"wb\" ) )"
   ]
  },
  {
   "cell_type": "code",
   "execution_count": 34,
   "metadata": {
    "collapsed": true
   },
   "outputs": [],
   "source": [
    "d = pickle.load(open( \"example.pickle\", \"rb\" ))"
   ]
  },
  {
   "cell_type": "code",
   "execution_count": 35,
   "metadata": {},
   "outputs": [
    {
     "data": {
      "text/plain": [
       "{'age': 20, 'name': 'John', 'os': 'linux'}"
      ]
     },
     "execution_count": 35,
     "metadata": {},
     "output_type": "execute_result"
    }
   ],
   "source": [
    "d"
   ]
  },
  {
   "cell_type": "markdown",
   "metadata": {},
   "source": [
    "**try .. except .. finally** позволяет \"отловить\" ошибку: \n",
    "```python\n",
    "try:\n",
    "    try_statements\n",
    "except ErrorClass:\n",
    "    except_statements\n",
    "finally:\n",
    "    executed_anyway\n",
    " ```"
   ]
  },
  {
   "cell_type": "code",
   "execution_count": null,
   "metadata": {
    "collapsed": true
   },
   "outputs": [],
   "source": [
    "v1 = 10\n",
    "def calc(v1, v2):\n",
    "    return v1/(v2-5)\n",
    "try:\n",
    "    for v2 in range(0,11):\n",
    "        print(calc(v1, v2))\n",
    "except ZeroDivisionError as e:\n",
    "    print('Wrong parameters for calculation: ', v1, v2, e)"
   ]
  },
  {
   "cell_type": "code",
   "execution_count": null,
   "metadata": {
    "collapsed": true
   },
   "outputs": [],
   "source": [
    "try:\n",
    "    csvfile = open('example.csv')\n",
    "    iris_dataset = csv.reader(csvfile)\n",
    "    header = next(iris_dataset)\n",
    "    for row in iris_dataset:\n",
    "        print(float(row[0])/(float(row[1])-10*float(row[3])))\n",
    "except Exception as e:\n",
    "    print(e)\n",
    "finally:\n",
    "    csvfile.close()"
   ]
  },
  {
   "cell_type": "markdown",
   "metadata": {},
   "source": [
    "### Чтение из url\n",
    "\n",
    "Больше информации: https://docs.python.org/3/howto/urllib2.html"
   ]
  },
  {
   "cell_type": "code",
   "execution_count": null,
   "metadata": {
    "collapsed": true
   },
   "outputs": [],
   "source": [
    "import urllib.request"
   ]
  },
  {
   "cell_type": "code",
   "execution_count": null,
   "metadata": {
    "collapsed": true
   },
   "outputs": [],
   "source": [
    "with urllib.request.urlopen('http://python.org/') as response:\n",
    "    html = response.read()"
   ]
  },
  {
   "cell_type": "code",
   "execution_count": null,
   "metadata": {
    "collapsed": true
   },
   "outputs": [],
   "source": [
    "with urllib.request.urlopen('http://makarich.fbb.msu.ru/agalicina/example.txt') as response:\n",
    "    txt = response.readlines()\n",
    "txt"
   ]
  },
  {
   "cell_type": "markdown",
   "metadata": {},
   "source": [
    "### Что делать при работе с неизвестным типом файла? \n",
    "\n",
    "1. Есть расширение? Да (.bed, .fa, .pdb) -> Google: bed/fa/pdb/... format specification\n",
    "\n",
    "2. Расширения нет. Читается ли файл как текстовый? Да -> Ищем информацию о формате или намеки в заголовке.\n",
    "\n",
    "3. Файл не читается как текстовый. Despair. \n",
    "\n",
    "\n",
    "Если формат таки определен, не стоит сразу же бросаться писать его парсер, этот велосипед может быть уже избретен. Иногда удобнее конвертировать в другой формат и уже его читать. \n",
    "\n",
    "Спецификации файлов, часто используемых для геномных данных: https://genome.ucsc.edu/FAQ/FAQformat.html\n",
    "Иногда спецификация хорошо описана на Википедии (https://en.wikipedia.org/wiki/Protein_Data_Bank_(file_format) ), но предпочтение стоит отдавать описанию формата от самих авторов.\n",
    "\n",
    "<img src=\"standards.png\" width=400>"
   ]
  },
  {
   "cell_type": "markdown",
   "metadata": {},
   "source": [
    "### Полезные модули для работы с файловой системой\n",
    "\n",
    "glob и os являются незаменимыми для работы с файловой системой через Python."
   ]
  },
  {
   "cell_type": "code",
   "execution_count": 11,
   "metadata": {},
   "outputs": [
    {
     "data": {
      "text/plain": [
       "['Шаблоны',\n",
       " 'Public',\n",
       " 'VirtualBox VMs',\n",
       " 'snap',\n",
       " \"PlayOnLinux's virtual drives\",\n",
       " 'autoconf-2.69',\n",
       " 'Videos',\n",
       " 'Видео',\n",
       " 'PycharmProjects',\n",
       " 'R',\n",
       " 'R-Studio',\n",
       " 'Documents',\n",
       " 'Dropbox',\n",
       " 'jemboss',\n",
       " 'Общедоступные',\n",
       " 'Templates',\n",
       " 'anaconda3',\n",
       " 'miniconda3',\n",
       " 'Desktop',\n",
       " 'Music',\n",
       " 'Музыка',\n",
       " 'seaborn-data',\n",
       " 'Загрузки',\n",
       " 'bak from bashrc',\n",
       " 'ls',\n",
       " 'Pictures',\n",
       " 'bak',\n",
       " 'Downloads',\n",
       " 'Документы',\n",
       " 'Yandex.Disk',\n",
       " '~',\n",
       " 'automake-1.15',\n",
       " 'Изображения',\n",
       " 'Jalview',\n",
       " 'restbed']"
      ]
     },
     "execution_count": 11,
     "metadata": {},
     "output_type": "execute_result"
    }
   ],
   "source": [
    "import glob\n",
    "glob.glob('*')"
   ]
  },
  {
   "cell_type": "code",
   "execution_count": 40,
   "metadata": {
    "collapsed": true
   },
   "outputs": [],
   "source": [
    "import os"
   ]
  },
  {
   "cell_type": "code",
   "execution_count": 41,
   "metadata": {},
   "outputs": [
    {
     "data": {
      "text/plain": [
       "True"
      ]
     },
     "execution_count": 41,
     "metadata": {},
     "output_type": "execute_result"
    }
   ],
   "source": [
    "os.path.isfile('dummy_text.txt')"
   ]
  },
  {
   "cell_type": "code",
   "execution_count": 42,
   "metadata": {},
   "outputs": [
    {
     "data": {
      "text/plain": [
       "False"
      ]
     },
     "execution_count": 42,
     "metadata": {},
     "output_type": "execute_result"
    }
   ],
   "source": [
    "os.path.isdir('dummy_text.txt')"
   ]
  },
  {
   "cell_type": "code",
   "execution_count": 44,
   "metadata": {
    "collapsed": true
   },
   "outputs": [],
   "source": [
    "os.mkdir('tmp/')"
   ]
  },
  {
   "cell_type": "code",
   "execution_count": 45,
   "metadata": {},
   "outputs": [
    {
     "data": {
      "text/plain": [
       "os.stat_result(st_mode=33204, st_ino=144117959437111785, st_dev=743766374, st_nlink=1, st_uid=603, st_gid=603, st_size=965, st_atime=1520320401, st_mtime=1520312751, st_ctime=1520312789)"
      ]
     },
     "execution_count": 45,
     "metadata": {},
     "output_type": "execute_result"
    }
   ],
   "source": [
    "os.stat('dummy_text.txt')"
   ]
  },
  {
   "cell_type": "markdown",
   "metadata": {},
   "source": [
    "**Итераторы и итерируемые объекты**\n",
    "\n",
    "Итератор, вообще говоря, это один из паттернов программирования. Подробнее о них можно почитать, например, в классическом учебнике \"банды четырех\" - Design Patterns. Мы не будем подробно на этом останавливаться\n",
    "\n",
    "![iterator](iterator_pattern.gif)\n",
    "\n",
    "Что нам действительно важно понять, это то, что **итератор** - это объект, который позволяет нам проходить по какому-то контейнеру - Aggregate - что-то, содержащее другие объекты. Чтобы быть итератором, классический итератор должен иметь операцию next, которая выдает следующий объект контейнера, и уметь сообщать об окончании итерации - в случае Python для этого служит специальный тип исключения - **StopIteration**\n",
    "\n",
    "Объекты, которые позволяют получить итератор для них, называются итерируемыми. Чтобы получить итератор для них, в Python есть специальная функция **iter**\n",
    "\n",
    "Например, всем известный список является итерируемым объектом. "
   ]
  },
  {
   "cell_type": "code",
   "execution_count": 1,
   "metadata": {},
   "outputs": [
    {
     "name": "stdout",
     "output_type": "stream",
     "text": [
      "<class 'list_iterator'>\n"
     ]
    }
   ],
   "source": [
    "nucleotides = [\"A\", \"T\", \"G\", \"C\"]\n",
    "\n",
    "nucleotides_iterator = iter(nucleotides)\n",
    "print (type(nucleotides_iterator))"
   ]
  },
  {
   "cell_type": "code",
   "execution_count": 2,
   "metadata": {
    "scrolled": true
   },
   "outputs": [
    {
     "name": "stdout",
     "output_type": "stream",
     "text": [
      "A\n",
      "T\n",
      "G\n",
      "C\n"
     ]
    }
   ],
   "source": [
    "print (next(nucleotides_iterator))\n",
    "print (next(nucleotides_iterator))\n",
    "print (next(nucleotides_iterator))\n",
    "print (next(nucleotides_iterator))"
   ]
  },
  {
   "cell_type": "markdown",
   "metadata": {},
   "source": [
    "Последний вызов возвращает исключение"
   ]
  },
  {
   "cell_type": "code",
   "execution_count": 3,
   "metadata": {},
   "outputs": [
    {
     "ename": "StopIteration",
     "evalue": "",
     "output_type": "error",
     "traceback": [
      "\u001b[0;31m---------------------------------------------------------------------------\u001b[0m",
      "\u001b[0;31mStopIteration\u001b[0m                             Traceback (most recent call last)",
      "\u001b[0;32m<ipython-input-3-7e3649ccd309>\u001b[0m in \u001b[0;36m<module>\u001b[0;34m()\u001b[0m\n\u001b[0;32m----> 1\u001b[0;31m \u001b[0mprint\u001b[0m \u001b[0;34m(\u001b[0m\u001b[0mnext\u001b[0m\u001b[0;34m(\u001b[0m\u001b[0mnucleotides_iterator\u001b[0m\u001b[0;34m)\u001b[0m\u001b[0;34m)\u001b[0m\u001b[0;34m\u001b[0m\u001b[0m\n\u001b[0m",
      "\u001b[0;31mStopIteration\u001b[0m: "
     ]
    }
   ],
   "source": [
    "print (next(nucleotides_iterator))"
   ]
  },
  {
   "cell_type": "markdown",
   "metadata": {},
   "source": [
    "Строки, множества, словари, файлы - тоже являются итерируемыми объектами. Зачем нам это нужно? \n",
    "\n",
    "На самом деле, даже использую цикл for мы неявно используем механизм итераторов"
   ]
  },
  {
   "cell_type": "code",
   "execution_count": 19,
   "metadata": {},
   "outputs": [
    {
     "name": "stdout",
     "output_type": "stream",
     "text": [
      "A\n",
      "T\n",
      "G\n",
      "C\n"
     ]
    }
   ],
   "source": [
    "def print_nucleotides():\n",
    "    for n in nucleotides:\n",
    "        print (n)\n",
    "        \n",
    "print_nucleotides()"
   ]
  },
  {
   "cell_type": "code",
   "execution_count": 18,
   "metadata": {},
   "outputs": [
    {
     "name": "stdout",
     "output_type": "stream",
     "text": [
      "A\n",
      "T\n",
      "G\n",
      "C\n"
     ]
    }
   ],
   "source": [
    "def print_nucleotides_trivial():\n",
    "    nucleotides_iterator = iter(nucleotides)\n",
    "    while True:\n",
    "        try:\n",
    "            value = next(nucleotides_iterator)\n",
    "        except StopIteration:\n",
    "            break\n",
    "        print (value)\n",
    "\n",
    "print_nucleotides_trivial()"
   ]
  },
  {
   "cell_type": "code",
   "execution_count": 5,
   "metadata": {
    "collapsed": true
   },
   "outputs": [],
   "source": [
    "COMPLEMENT_TABLE = {\"A\" : \"T\", \"C\" : \"G\", \"T\" : \"A\", \"G\" : \"C\"}"
   ]
  },
  {
   "cell_type": "markdown",
   "metadata": {},
   "source": [
    "Что будет выдавать нам итератор по словарю?"
   ]
  },
  {
   "cell_type": "code",
   "execution_count": 6,
   "metadata": {},
   "outputs": [
    {
     "name": "stdout",
     "output_type": "stream",
     "text": [
      "A\n",
      "C\n",
      "T\n",
      "G\n"
     ]
    }
   ],
   "source": [
    "dt_iterator = iter(COMPLEMENT_TABLE)\n",
    "while True:\n",
    "    try:\n",
    "        value = next(dt_iterator)\n",
    "    except StopIteration:\n",
    "        break\n",
    "    print (value)\n"
   ]
  },
  {
   "cell_type": "markdown",
   "metadata": {},
   "source": [
    "List comprehensions. Списочные сокращения  "
   ]
  },
  {
   "cell_type": "markdown",
   "metadata": {},
   "source": [
    "Часто работа с данными представимы в последовательной обработкой списков, в ходе которой к каждому объекту списка применяется какая функция, а полученный результат складывается в новый список. "
   ]
  },
  {
   "cell_type": "code",
   "execution_count": 8,
   "metadata": {
    "collapsed": true
   },
   "outputs": [],
   "source": [
    "CODON_TABLE = {'AAA': 'K',\n",
    " 'AAC': 'N', 'AAG': 'K', 'AAU': 'N', 'ACA': 'T',\n",
    " 'ACC': 'T', 'ACG': 'T', 'ACU': 'T','AGA': 'R',\n",
    " 'AGC': 'S', 'AGG': 'R', 'AGU': 'S', 'AUA': 'I',\n",
    " 'AUC': 'I', 'AUG': 'M', 'AUU': 'I', 'CAA': 'Q',\n",
    " 'CAC': 'H', 'CAG': 'Q', 'CAU': 'H', 'CCA': 'P',\n",
    " 'CCC': 'P', 'CCG': 'P', 'CCU': 'P', 'CGA': 'R',\n",
    " 'CGC': 'R', 'CGG': 'R', 'CGU': 'R', 'CUA': 'L',\n",
    " 'CUC': 'L', 'CUG': 'L', 'CUU': 'L', 'GAA': 'E',\n",
    " 'GAC': 'D', 'GAG': 'E', 'GAU': 'D', 'GCA': 'A',\n",
    " 'GCC': 'A', 'GCG': 'A', 'GCU': 'A', 'GGA': 'G',\n",
    " 'GGC': 'G', 'GGG': 'G', 'GGU': 'G', 'GUA': 'V',\n",
    " 'GUC': 'V', 'GUG': 'V', 'GUU': 'V', 'UAA': '*',\n",
    " 'UAC': 'Y', 'UAG': '*', 'UAU': 'Y', 'UCA': 'S',\n",
    " 'UCC': 'S', 'UCG': 'S', 'UCU': 'S', 'UGA': '*',\n",
    " 'UGC': 'C', 'UGG': 'W', 'UGU': 'C', 'UUA': 'L',\n",
    " 'UUC': 'F', 'UUG': 'L', 'UUU': 'F'}"
   ]
  },
  {
   "cell_type": "code",
   "execution_count": 10,
   "metadata": {},
   "outputs": [
    {
     "name": "stdout",
     "output_type": "stream",
     "text": [
      "['AUG', 'AAU', 'GAU', 'CUU', 'CUA', 'CAC', 'AUC', 'AGU', 'UCG', 'ACA', 'AAU', 'AGU', 'CGU', 'CUC', 'AAU', 'CGC', 'UCC', 'CUA', 'UGC', 'GAU', 'AAA', 'CCA', 'UCG', 'GGU', 'GAU', 'CAU', 'CGU', 'GGU', 'AUC', 'AGU', 'UAA', 'AUA', 'GUC', 'GUA', 'GAC', 'ACC', 'UGG', 'AUU', 'UAA', 'AGG', 'GCC', 'GUG', 'CGA', 'AGA', 'ACC', 'CUC', 'GCC', 'AGG', 'CUC', 'AUA', 'UAA', 'GAU', 'UGG', 'GUG', 'CCA', 'GUU', 'GUC', 'CGG', 'GAG', 'AGC', 'CCC', 'CUU', 'CCA', 'UGU', 'UAA', 'GAG', 'CUA', 'GGC', 'ACU', 'CUC', 'ACA', 'GGA', 'UAU', 'GAG', 'AGA', 'CGU', 'GGA', 'CGU', 'UUU', 'UAG', 'UGG', 'CAG', 'GAC', 'CAC', 'CUU', 'GAC', 'UCG', 'UAU', 'GUG', 'CUA', 'CAC', 'UUU', 'AGU', 'ACG', 'AUG', 'CAU', 'CCA', 'UCG', 'AGA', 'UAC']\n"
     ]
    }
   ],
   "source": [
    "import random\n",
    "random.seed(42)\n",
    "codons = []\n",
    "codon_names = list(CODON_TABLE.keys())\n",
    "for _ in range(100):\n",
    "    codons.append(random.choice(codon_names))\n",
    "\n",
    "codon_names[0:10]\n",
    "print(codons)"
   ]
  },
  {
   "cell_type": "code",
   "execution_count": 13,
   "metadata": {},
   "outputs": [
    {
     "name": "stdout",
     "output_type": "stream",
     "text": [
      "['M', 'N', 'D', 'L', 'L', 'H', 'I', 'S', 'S', 'T', 'N', 'S', 'R', 'L', 'N', 'R', 'S', 'L', 'C', 'D', 'K', 'P', 'S', 'G', 'D', 'H', 'R', 'G', 'I', 'S', '*', 'I', 'V', 'V', 'D', 'T', 'W', 'I', '*', 'R', 'A', 'V', 'R', 'R', 'T', 'L', 'A', 'R', 'L', 'I', '*', 'D', 'W', 'V', 'P', 'V', 'V', 'R', 'E', 'S', 'P', 'L', 'P', 'C', '*', 'E', 'L', 'G', 'T', 'L', 'T', 'G', 'Y', 'E', 'R', 'R', 'G', 'R', 'F', '*', 'W', 'Q', 'D', 'H', 'L', 'D', 'S', 'Y', 'V', 'L', 'H', 'F', 'S', 'T', 'M', 'H', 'P', 'S', 'R', 'Y']\n"
     ]
    }
   ],
   "source": [
    "def get_aminoacids(codons):\n",
    "    aminoacids = []\n",
    "    for c in codons:\n",
    "        aminoacids.append(CODON_TABLE[c])\n",
    "    return aminoacids\n",
    "aminoacids = get_aminoacids(codons)\n",
    "print(aminoacids)"
   ]
  },
  {
   "cell_type": "markdown",
   "metadata": {},
   "source": [
    "В Python существует специальный синтаксис для таких действий - list comprehensions. Но это не просто \"синтаксический сахар\". Это работает быстрее за счет внутренних оптимизаций. "
   ]
  },
  {
   "cell_type": "code",
   "execution_count": 15,
   "metadata": {
    "collapsed": true
   },
   "outputs": [],
   "source": [
    "def get_aminoacids_comprehension(codons):\n",
    "    return [CODON_TABLE[c] for c in codons]"
   ]
  },
  {
   "cell_type": "code",
   "execution_count": 16,
   "metadata": {},
   "outputs": [
    {
     "name": "stdout",
     "output_type": "stream",
     "text": [
      "100000 loops, best of 3: 4.91 µs per loop\n"
     ]
    }
   ],
   "source": [
    "%%timeit\n",
    "get_aminoacids_comprehension(codons)"
   ]
  },
  {
   "cell_type": "markdown",
   "metadata": {},
   "source": [
    "Две наиболее частые задачи, которые применяются к спискам - это применить  функцию к значениям из одного списка и поместить результат в другой, и - отфильтровать значения из списка по какому-то критерию. Они могут быть реализованы с помощью двух подходов.\n",
    "Первый - уже разобранный list comprehensions. Второй - использование встроенных функций map и filter"
   ]
  },
  {
   "cell_type": "markdown",
   "metadata": {},
   "source": [
    "Описание второй функции в три раза меньше. Обычно, для чего Python сгенерил меньшее описаниие, быстрее и выполняется"
   ]
  },
  {
   "cell_type": "markdown",
   "metadata": {},
   "source": [
    "Например, если хотим сделать словарь квадратов от 0 до 100. Можно так:"
   ]
  },
  {
   "cell_type": "code",
   "execution_count": 41,
   "metadata": {},
   "outputs": [
    {
     "name": "stdout",
     "output_type": "stream",
     "text": [
      "[0, 1, 4, 9, 16, 25, 36, 49, 64, 81, 100, 121, 144, 169, 196, 225, 256, 289, 324, 361, 400, 441, 484, 529, 576, 625, 676, 729, 784, 841, 900, 961, 1024, 1089, 1156, 1225, 1296, 1369, 1444, 1521, 1600, 1681, 1764, 1849, 1936, 2025, 2116, 2209, 2304, 2401, 2500, 2601, 2704, 2809, 2916, 3025, 3136, 3249, 3364, 3481, 3600, 3721, 3844, 3969, 4096, 4225, 4356, 4489, 4624, 4761, 4900, 5041, 5184, 5329, 5476, 5625, 5776, 5929, 6084, 6241, 6400, 6561, 6724, 6889, 7056, 7225, 7396, 7569, 7744, 7921, 8100, 8281, 8464, 8649, 8836, 9025, 9216, 9409, 9604, 9801, 10000]\n"
     ]
    }
   ],
   "source": [
    "squares = [x ** 2 for x in range(101)]\n",
    "print (squares)"
   ]
  },
  {
   "cell_type": "markdown",
   "metadata": {},
   "source": [
    "А можно так:"
   ]
  },
  {
   "cell_type": "code",
   "execution_count": 42,
   "metadata": {},
   "outputs": [
    {
     "name": "stdout",
     "output_type": "stream",
     "text": [
      "[0, 1, 4, 9, 16, 25, 36, 49, 64, 81, 100, 121, 144, 169, 196, 225, 256, 289, 324, 361, 400, 441, 484, 529, 576, 625, 676, 729, 784, 841, 900, 961, 1024, 1089, 1156, 1225, 1296, 1369, 1444, 1521, 1600, 1681, 1764, 1849, 1936, 2025, 2116, 2209, 2304, 2401, 2500, 2601, 2704, 2809, 2916, 3025, 3136, 3249, 3364, 3481, 3600, 3721, 3844, 3969, 4096, 4225, 4356, 4489, 4624, 4761, 4900, 5041, 5184, 5329, 5476, 5625, 5776, 5929, 6084, 6241, 6400, 6561, 6724, 6889, 7056, 7225, 7396, 7569, 7744, 7921, 8100, 8281, 8464, 8649, 8836, 9025, 9216, 9409, 9604, 9801, 10000]\n"
     ]
    }
   ],
   "source": [
    "squares = list(map(lambda x : x ** 2, range(101)))\n",
    "print (squares)"
   ]
  },
  {
   "cell_type": "markdown",
   "metadata": {},
   "source": [
    "Map принимает на вход первым аргументом функцию, которую надо применить к списку (или другому итерируемому объекту), а вторым- сам объект"
   ]
  },
  {
   "cell_type": "code",
   "execution_count": 43,
   "metadata": {},
   "outputs": [
    {
     "data": {
      "text/plain": [
       "['R', 'M', 'V', 'R', 'R', 'L', 'S', 'K', 'L', 'T']"
      ]
     },
     "execution_count": 43,
     "metadata": {},
     "output_type": "execute_result"
    }
   ],
   "source": [
    "aminoacids = list(map(lambda x : CODON_TABLE[x], codons))\n",
    "aminoacids[0:10]"
   ]
  },
  {
   "cell_type": "code",
   "execution_count": 44,
   "metadata": {},
   "outputs": [
    {
     "name": "stdout",
     "output_type": "stream",
     "text": [
      "11.7 ms ± 194 µs per loop (mean ± std. dev. of 7 runs, 100 loops each)\n"
     ]
    }
   ],
   "source": [
    "%%timeit\n",
    "aminoacids = list(map(lambda x : CODON_TABLE[x], codons))"
   ]
  },
  {
   "cell_type": "markdown",
   "metadata": {},
   "source": [
    "Работает медленнее, так как map возвращает итератор, который мы затем превращаем в список"
   ]
  },
  {
   "cell_type": "markdown",
   "metadata": {},
   "source": [
    "Теперь допустим, что мы хотим отфильтровать наши объекты по какому-то принципу. Например, хотим из первых 1000 чисел отобрать только дающие при делении на 7 остаток 5"
   ]
  },
  {
   "cell_type": "code",
   "execution_count": 22,
   "metadata": {},
   "outputs": [
    {
     "data": {
      "text/plain": [
       "[5, 12, 19, 26, 33, 40, 47, 54, 61, 68]"
      ]
     },
     "execution_count": 22,
     "metadata": {},
     "output_type": "execute_result"
    }
   ],
   "source": [
    "div7_5 = [x for x in range(1000) if x % 7 == 5]\n",
    "div7_5[0:10]"
   ]
  },
  {
   "cell_type": "markdown",
   "metadata": {},
   "source": [
    "Аналогичную операцию делает filter"
   ]
  },
  {
   "cell_type": "code",
   "execution_count": 46,
   "metadata": {},
   "outputs": [
    {
     "name": "stdout",
     "output_type": "stream",
     "text": [
      "[5, 12, 19, 26, 33, 40, 47, 54, 61, 68]\n"
     ]
    }
   ],
   "source": [
    "div7_5 = list(filter(lambda x : x % 7 == 5, range(1000)))\n",
    "print (div7_5[0:10])"
   ]
  },
  {
   "cell_type": "markdown",
   "metadata": {},
   "source": [
    "Кроме того, есть reduce, который, из-за большого риска возникновения нечитаемого кода, был вынесен в functools и к использованию не рекомендуется"
   ]
  },
  {
   "cell_type": "code",
   "execution_count": 55,
   "metadata": {
    "collapsed": true
   },
   "outputs": [],
   "source": [
    "from functools import reduce"
   ]
  },
  {
   "cell_type": "code",
   "execution_count": 64,
   "metadata": {},
   "outputs": [
    {
     "name": "stdout",
     "output_type": "stream",
     "text": [
      "120\n",
      "120\n"
     ]
    }
   ],
   "source": [
    "fact5 = reduce(lambda x,y : x * y, range(1, 6))\n",
    "print (fact5)\n",
    "\n",
    "\n",
    "product = lambda *args :reduce(lambda x, y : x * y, *args)\n",
    "print (product(range(1, 6)))"
   ]
  },
  {
   "cell_type": "markdown",
   "metadata": {},
   "source": [
    "Как он работает? \n",
    "Упрощенно вот так:"
   ]
  },
  {
   "cell_type": "code",
   "execution_count": 84,
   "metadata": {
    "collapsed": true
   },
   "outputs": [],
   "source": [
    "def handmade_reduce(func, iterable, initial=None): # func should accept two positional arguments\n",
    "    if initial is None:\n",
    "        iterator = iter(iterable)\n",
    "        try:\n",
    "            acc = next(iterator) # initial value is the first element of iterable\n",
    "        except Exception as e:\n",
    "            print (\"Reduce can't work with empty sequences\")\n",
    "            raise e\n",
    "    else:\n",
    "        acc = initial\n",
    "        \n",
    "    for value in iterator:\n",
    "        acc = func(acc, value)\n",
    "        \n",
    "    return acc"
   ]
  },
  {
   "cell_type": "code",
   "execution_count": 85,
   "metadata": {},
   "outputs": [
    {
     "data": {
      "text/plain": [
       "120"
      ]
     },
     "execution_count": 85,
     "metadata": {},
     "output_type": "execute_result"
    }
   ],
   "source": [
    "handmade_reduce(lambda x,y : x * y, range(1, 6))"
   ]
  },
  {
   "cell_type": "code",
   "execution_count": null,
   "metadata": {
    "collapsed": true
   },
   "outputs": [],
   "source": []
  }
 ],
 "metadata": {
  "kernelspec": {
   "display_name": "Python 3",
   "language": "python",
   "name": "python3"
  },
  "language_info": {
   "codemirror_mode": {
    "name": "ipython",
    "version": 3
   },
   "file_extension": ".py",
   "mimetype": "text/x-python",
   "name": "python",
   "nbconvert_exporter": "python",
   "pygments_lexer": "ipython3",
   "version": "3.6.5"
  }
 },
 "nbformat": 4,
 "nbformat_minor": 2
}
