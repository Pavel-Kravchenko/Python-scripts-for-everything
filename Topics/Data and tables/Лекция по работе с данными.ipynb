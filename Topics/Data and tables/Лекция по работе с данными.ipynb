{
 "cells": [
  {
   "cell_type": "markdown",
   "metadata": {
    "slideshow": {
     "slide_type": "slide"
    }
   },
   "source": [
    "![title](Expression.png)"
   ]
  },
  {
   "cell_type": "markdown",
   "metadata": {
    "slideshow": {
     "slide_type": "slide"
    }
   },
   "source": [
    "## RNA-seq"
   ]
  },
  {
   "cell_type": "markdown",
   "metadata": {
    "slideshow": {
     "slide_type": "fragment"
    }
   },
   "source": [
    "![title](RNA-seq1.png) "
   ]
  },
  {
   "cell_type": "markdown",
   "metadata": {
    "slideshow": {
     "slide_type": "subslide"
    }
   },
   "source": [
    "![title](RNA-seq2.png) "
   ]
  },
  {
   "cell_type": "code",
   "execution_count": 72,
   "metadata": {
    "collapsed": true,
    "slideshow": {
     "slide_type": "slide"
    }
   },
   "outputs": [],
   "source": [
    "# Игрушечный датасет с экспрессией\n",
    "import numpy as np\n",
    "\n",
    "starts = [11869, 14404, 17369, 29554, 30366, 34554, 52473, 57598, 65419, \n",
    "          89295] \n",
    "stops = [14409, 29570, 17436, 31109, 30503, 36081, 53312, 64116, 71585, \n",
    "         133723] \n",
    "expr_normal = [63, 22, 30, 44, 18, 21, 17, np.nan, np.nan, 295] # в ридах\n",
    "expr_cancer = [119, np.nan, 71, 96, 34, 14, 190, 60, 11, np.nan] "
   ]
  },
  {
   "cell_type": "code",
   "execution_count": 3,
   "metadata": {
    "collapsed": true,
    "slideshow": {
     "slide_type": "skip"
    }
   },
   "outputs": [],
   "source": [
    "np.set_printoptions(suppress=True)"
   ]
  },
  {
   "cell_type": "markdown",
   "metadata": {
    "slideshow": {
     "slide_type": "fragment"
    }
   },
   "source": [
    "Надо бы поделить количество ридов на длины генов "
   ]
  },
  {
   "cell_type": "markdown",
   "metadata": {
    "slideshow": {
     "slide_type": "slide"
    }
   },
   "source": [
    "## Как посчитать длины генов?"
   ]
  },
  {
   "cell_type": "code",
   "execution_count": 5,
   "metadata": {
    "collapsed": true,
    "slideshow": {
     "slide_type": "fragment"
    }
   },
   "outputs": [],
   "source": [
    "big_starts, big_stops = starts * 1000, stops * 1000"
   ]
  },
  {
   "cell_type": "code",
   "execution_count": 6,
   "metadata": {
    "slideshow": {
     "slide_type": "fragment"
    }
   },
   "outputs": [
    {
     "name": "stdout",
     "output_type": "stream",
     "text": [
      "The slowest run took 5.57 times longer than the fastest. This could mean that an intermediate result is being cached.\n",
      "100 loops, best of 3: 2.1 ms per loop\n"
     ]
    }
   ],
   "source": [
    "%%timeit\n",
    "# Новичковое решение\n",
    "lengths = list()\n",
    "for ind in range(len(big_starts)):\n",
    "    lengths.append(big_stops[ind] - big_starts[ind] + 1)"
   ]
  },
  {
   "cell_type": "code",
   "execution_count": 7,
   "metadata": {
    "slideshow": {
     "slide_type": "fragment"
    }
   },
   "outputs": [
    {
     "name": "stdout",
     "output_type": "stream",
     "text": [
      "1000 loops, best of 3: 794 µs per loop\n"
     ]
    }
   ],
   "source": [
    "%%timeit\n",
    "# Норм питоновское решение\n",
    "lengths = [stop - start + 1\n",
    "           for stop, start in zip(big_stops, big_starts)]"
   ]
  },
  {
   "cell_type": "markdown",
   "metadata": {
    "slideshow": {
     "slide_type": "slide"
    }
   },
   "source": [
    "## А можно ещё быстрее и читаемее?"
   ]
  },
  {
   "cell_type": "code",
   "execution_count": 8,
   "metadata": {
    "collapsed": true,
    "slideshow": {
     "slide_type": "fragment"
    }
   },
   "outputs": [],
   "source": [
    "import numpy as np\n",
    "big_starts_arr = np.array(big_starts)\n",
    "big_stops_arr = np.array(big_stops)"
   ]
  },
  {
   "cell_type": "code",
   "execution_count": 9,
   "metadata": {
    "slideshow": {
     "slide_type": "fragment"
    }
   },
   "outputs": [
    {
     "name": "stdout",
     "output_type": "stream",
     "text": [
      "The slowest run took 1024.32 times longer than the fastest. This could mean that an intermediate result is being cached.\n",
      "100000 loops, best of 3: 8.92 µs per loop\n"
     ]
    }
   ],
   "source": [
    "%%timeit\n",
    "# Решение через NumPy\n",
    "lengths = big_stops_arr - big_starts_arr + 1"
   ]
  },
  {
   "cell_type": "markdown",
   "metadata": {
    "slideshow": {
     "slide_type": "slide"
    }
   },
   "source": [
    "# Почему стоит использовать Numpy\n",
    "## 1. Массивы Numpy работает в 10-100 раз быстрее\n",
    "## 2. Все операции векторизованы!"
   ]
  },
  {
   "cell_type": "markdown",
   "metadata": {
    "slideshow": {
     "slide_type": "slide"
    }
   },
   "source": [
    "# Базовый объект - ndarray"
   ]
  },
  {
   "cell_type": "markdown",
   "metadata": {
    "slideshow": {
     "slide_type": "fragment"
    }
   },
   "source": [
    "![title](n_dimensional.png)"
   ]
  },
  {
   "cell_type": "markdown",
   "metadata": {
    "slideshow": {
     "slide_type": "subslide"
    }
   },
   "source": [
    "### Как создать ndarray"
   ]
  },
  {
   "cell_type": "code",
   "execution_count": 10,
   "metadata": {
    "slideshow": {
     "slide_type": "fragment"
    }
   },
   "outputs": [
    {
     "name": "stdout",
     "output_type": "stream",
     "text": [
      "[[ 1  3  5]\n",
      " [ 7  9 11]]\n"
     ]
    }
   ],
   "source": [
    "# Из питоновского объекта\n",
    "int_array = np.array([[1, 3, 5], [7, 9, 11]])\n",
    "str_array = np.array([\"milk\", \"promoter\", \"bacon\", \"exon\"])\n",
    "print(int_array)"
   ]
  },
  {
   "cell_type": "code",
   "execution_count": 12,
   "metadata": {
    "slideshow": {
     "slide_type": "fragment"
    }
   },
   "outputs": [
    {
     "name": "stdout",
     "output_type": "stream",
     "text": [
      "[0 1 2 3 4 5 6 7 8 9]\n"
     ]
    }
   ],
   "source": [
    "# Аналог list(range(10))\n",
    "np_range = np.arange(10)\n",
    "print(np_range)"
   ]
  },
  {
   "cell_type": "code",
   "execution_count": 16,
   "metadata": {
    "slideshow": {
     "slide_type": "fragment"
    }
   },
   "outputs": [
    {
     "name": "stdout",
     "output_type": "stream",
     "text": [
      "[0. 0.]\n",
      "[[[[1. 1. 1. 1. 1.]\n",
      "   [1. 1. 1. 1. 1.]\n",
      "   [1. 1. 1. 1. 1.]\n",
      "   [1. 1. 1. 1. 1.]]\n",
      "\n",
      "  [[1. 1. 1. 1. 1.]\n",
      "   [1. 1. 1. 1. 1.]\n",
      "   [1. 1. 1. 1. 1.]\n",
      "   [1. 1. 1. 1. 1.]]\n",
      "\n",
      "  [[1. 1. 1. 1. 1.]\n",
      "   [1. 1. 1. 1. 1.]\n",
      "   [1. 1. 1. 1. 1.]\n",
      "   [1. 1. 1. 1. 1.]]\n",
      "\n",
      "  [[1. 1. 1. 1. 1.]\n",
      "   [1. 1. 1. 1. 1.]\n",
      "   [1. 1. 1. 1. 1.]\n",
      "   [1. 1. 1. 1. 1.]]\n",
      "\n",
      "  [[1. 1. 1. 1. 1.]\n",
      "   [1. 1. 1. 1. 1.]\n",
      "   [1. 1. 1. 1. 1.]\n",
      "   [1. 1. 1. 1. 1.]]]\n",
      "\n",
      "\n",
      " [[[1. 1. 1. 1. 1.]\n",
      "   [1. 1. 1. 1. 1.]\n",
      "   [1. 1. 1. 1. 1.]\n",
      "   [1. 1. 1. 1. 1.]]\n",
      "\n",
      "  [[1. 1. 1. 1. 1.]\n",
      "   [1. 1. 1. 1. 1.]\n",
      "   [1. 1. 1. 1. 1.]\n",
      "   [1. 1. 1. 1. 1.]]\n",
      "\n",
      "  [[1. 1. 1. 1. 1.]\n",
      "   [1. 1. 1. 1. 1.]\n",
      "   [1. 1. 1. 1. 1.]\n",
      "   [1. 1. 1. 1. 1.]]\n",
      "\n",
      "  [[1. 1. 1. 1. 1.]\n",
      "   [1. 1. 1. 1. 1.]\n",
      "   [1. 1. 1. 1. 1.]\n",
      "   [1. 1. 1. 1. 1.]]\n",
      "\n",
      "  [[1. 1. 1. 1. 1.]\n",
      "   [1. 1. 1. 1. 1.]\n",
      "   [1. 1. 1. 1. 1.]\n",
      "   [1. 1. 1. 1. 1.]]]\n",
      "\n",
      "\n",
      " [[[1. 1. 1. 1. 1.]\n",
      "   [1. 1. 1. 1. 1.]\n",
      "   [1. 1. 1. 1. 1.]\n",
      "   [1. 1. 1. 1. 1.]]\n",
      "\n",
      "  [[1. 1. 1. 1. 1.]\n",
      "   [1. 1. 1. 1. 1.]\n",
      "   [1. 1. 1. 1. 1.]\n",
      "   [1. 1. 1. 1. 1.]]\n",
      "\n",
      "  [[1. 1. 1. 1. 1.]\n",
      "   [1. 1. 1. 1. 1.]\n",
      "   [1. 1. 1. 1. 1.]\n",
      "   [1. 1. 1. 1. 1.]]\n",
      "\n",
      "  [[1. 1. 1. 1. 1.]\n",
      "   [1. 1. 1. 1. 1.]\n",
      "   [1. 1. 1. 1. 1.]\n",
      "   [1. 1. 1. 1. 1.]]\n",
      "\n",
      "  [[1. 1. 1. 1. 1.]\n",
      "   [1. 1. 1. 1. 1.]\n",
      "   [1. 1. 1. 1. 1.]\n",
      "   [1. 1. 1. 1. 1.]]]\n",
      "\n",
      "\n",
      " [[[1. 1. 1. 1. 1.]\n",
      "   [1. 1. 1. 1. 1.]\n",
      "   [1. 1. 1. 1. 1.]\n",
      "   [1. 1. 1. 1. 1.]]\n",
      "\n",
      "  [[1. 1. 1. 1. 1.]\n",
      "   [1. 1. 1. 1. 1.]\n",
      "   [1. 1. 1. 1. 1.]\n",
      "   [1. 1. 1. 1. 1.]]\n",
      "\n",
      "  [[1. 1. 1. 1. 1.]\n",
      "   [1. 1. 1. 1. 1.]\n",
      "   [1. 1. 1. 1. 1.]\n",
      "   [1. 1. 1. 1. 1.]]\n",
      "\n",
      "  [[1. 1. 1. 1. 1.]\n",
      "   [1. 1. 1. 1. 1.]\n",
      "   [1. 1. 1. 1. 1.]\n",
      "   [1. 1. 1. 1. 1.]]\n",
      "\n",
      "  [[1. 1. 1. 1. 1.]\n",
      "   [1. 1. 1. 1. 1.]\n",
      "   [1. 1. 1. 1. 1.]\n",
      "   [1. 1. 1. 1. 1.]]]]\n"
     ]
    }
   ],
   "source": [
    "# Zeros, ones, full\n",
    "zeros = np.zeros(shape=(2,))\n",
    "ones = np.ones(shape=(4, 5, 4, 5))\n",
    "fives = np.full(shape=(2, 5, 4), fill_value=5)\n",
    "print(zeros)\n",
    "print(ones)"
   ]
  },
  {
   "cell_type": "code",
   "execution_count": 17,
   "metadata": {
    "slideshow": {
     "slide_type": "fragment"
    }
   },
   "outputs": [
    {
     "name": "stdout",
     "output_type": "stream",
     "text": [
      "[[5 5 5]\n",
      " [5 5 5]]\n"
     ]
    }
   ],
   "source": [
    "# Like\n",
    "zeros_like = np.zeros_like(int_array)\n",
    "ones_like = np.ones_like(int_array)\n",
    "fives_like = np.full_like(int_array, fill_value=5)\n",
    "print(fives_like)"
   ]
  },
  {
   "cell_type": "markdown",
   "metadata": {
    "slideshow": {
     "slide_type": "subslide"
    }
   },
   "source": [
    "## flatten, reshape"
   ]
  },
  {
   "cell_type": "code",
   "execution_count": 19,
   "metadata": {
    "slideshow": {
     "slide_type": "fragment"
    }
   },
   "outputs": [
    {
     "name": "stdout",
     "output_type": "stream",
     "text": [
      "[[ 1  3  5]\n",
      " [ 7  9 11]]\n"
     ]
    }
   ],
   "source": [
    "print(int_array)"
   ]
  },
  {
   "cell_type": "code",
   "execution_count": 20,
   "metadata": {
    "slideshow": {
     "slide_type": "fragment"
    }
   },
   "outputs": [
    {
     "name": "stdout",
     "output_type": "stream",
     "text": [
      "[ 1  3  5  7  9 11]\n"
     ]
    }
   ],
   "source": [
    "# flatten - метод массива\n",
    "flat_array = int_array.flatten()\n",
    "print(flat_array)"
   ]
  },
  {
   "cell_type": "code",
   "execution_count": 27,
   "metadata": {
    "slideshow": {
     "slide_type": "fragment"
    }
   },
   "outputs": [
    {
     "name": "stdout",
     "output_type": "stream",
     "text": [
      "[[ 1]\n",
      " [ 3]\n",
      " [ 5]\n",
      " [ 7]\n",
      " [ 9]\n",
      " [11]]\n"
     ]
    }
   ],
   "source": [
    "# reshape - функция в NumPy\n",
    "reshaped_array = np.reshape(flat_array, newshape=(6, 1))\n",
    "print(reshaped_array)"
   ]
  },
  {
   "cell_type": "code",
   "execution_count": 196,
   "metadata": {
    "slideshow": {
     "slide_type": "fragment"
    }
   },
   "outputs": [
    {
     "name": "stdout",
     "output_type": "stream",
     "text": [
      "[[ 1  3]\n",
      " [ 5  7]\n",
      " [ 9 11]]\n"
     ]
    }
   ],
   "source": [
    "# reshape - функция в NumPy\n",
    "reshaped_array = np.reshape(int_array, newshape=(3, 2))\n",
    "print(reshaped_array)"
   ]
  },
  {
   "cell_type": "markdown",
   "metadata": {
    "slideshow": {
     "slide_type": "slide"
    }
   },
   "source": [
    "## Обычно данные поставляются в виде таблиц"
   ]
  },
  {
   "cell_type": "code",
   "execution_count": 77,
   "metadata": {
    "collapsed": true,
    "slideshow": {
     "slide_type": "fragment"
    }
   },
   "outputs": [],
   "source": [
    "            #  start    stop   expr1   expr2 \n",
    "gene_info = [[ 11869,  14409,     63,    119],\n",
    "             [ 14404,  29570,     22, np.nan],\n",
    "             [ 17369,  17436,     30,     71],\n",
    "             [ 29554,  31109,     44,     96],\n",
    "             [ 30366,  30503,     18,     34],\n",
    "             [ 34554,  36081,     21,     14],\n",
    "             [ 52473,  53312,     17,    190],\n",
    "             [ 57598,  64116, np.nan,     60],\n",
    "             [ 65419,  71585, np.nan,     11],\n",
    "             [ 89295, 133723,    295, np.nan]]"
   ]
  },
  {
   "cell_type": "code",
   "execution_count": 47,
   "metadata": {
    "collapsed": true,
    "slideshow": {
     "slide_type": "fragment"
    }
   },
   "outputs": [],
   "source": [
    "gene_info_arr = np.array(gene_info)"
   ]
  },
  {
   "cell_type": "code",
   "execution_count": 48,
   "metadata": {
    "slideshow": {
     "slide_type": "fragment"
    }
   },
   "outputs": [
    {
     "name": "stdout",
     "output_type": "stream",
     "text": [
      "float64\n",
      "2\n",
      "(10, 4)\n"
     ]
    }
   ],
   "source": [
    "# тип, размерность и форма\n",
    "print(gene_info_arr.dtype, gene_info_arr.ndim, gene_info_arr.shape, sep=\"\\n\")"
   ]
  },
  {
   "cell_type": "markdown",
   "metadata": {
    "slideshow": {
     "slide_type": "subslide"
    }
   },
   "source": [
    "## Как получить строку таблицы?"
   ]
  },
  {
   "cell_type": "code",
   "execution_count": 49,
   "metadata": {
    "slideshow": {
     "slide_type": "fragment"
    }
   },
   "outputs": [
    {
     "name": "stdout",
     "output_type": "stream",
     "text": [
      "[30366, 30503, 18, 34]\n"
     ]
    }
   ],
   "source": [
    "# Из списка\n",
    "fifth_gene = gene_info[4]\n",
    "print(fifth_gene)"
   ]
  },
  {
   "cell_type": "code",
   "execution_count": 50,
   "metadata": {
    "slideshow": {
     "slide_type": "fragment"
    }
   },
   "outputs": [
    {
     "name": "stdout",
     "output_type": "stream",
     "text": [
      "[30366. 30503.    18.    34.]\n"
     ]
    }
   ],
   "source": [
    "# Из массива Numpy так же\n",
    "fifth_gene = gene_info_arr[4]\n",
    "print(fifth_gene)"
   ]
  },
  {
   "cell_type": "markdown",
   "metadata": {
    "slideshow": {
     "slide_type": "subslide"
    }
   },
   "source": [
    "## Как получить столбец?"
   ]
  },
  {
   "cell_type": "code",
   "execution_count": 51,
   "metadata": {
    "slideshow": {
     "slide_type": "fragment"
    }
   },
   "outputs": [
    {
     "name": "stdout",
     "output_type": "stream",
     "text": [
      "(11869, 14404, 17369, 29554, 30366, 34554, 52473, 57598, 65419, 89295)\n"
     ]
    }
   ],
   "source": [
    "# Из списка так себе\n",
    "starts = list(zip(*gene_info))[0]\n",
    "print(starts)"
   ]
  },
  {
   "cell_type": "code",
   "execution_count": 78,
   "metadata": {
    "slideshow": {
     "slide_type": "fragment"
    }
   },
   "outputs": [
    {
     "name": "stdout",
     "output_type": "stream",
     "text": [
      "[11869. 14404. 17369. 29554. 30366. 34554. 52473. 57598. 65419. 89295.]\n"
     ]
    }
   ],
   "source": [
    "# Зато из массива Numpy очень просто!\n",
    "starts = gene_info_arr[:, 0]\n",
    "print(starts)"
   ]
  },
  {
   "cell_type": "markdown",
   "metadata": {
    "slideshow": {
     "slide_type": "subslide"
    }
   },
   "source": [
    "## Как взять произвольный срез? "
   ]
  },
  {
   "cell_type": "code",
   "execution_count": 53,
   "metadata": {
    "slideshow": {
     "slide_type": "fragment"
    }
   },
   "outputs": [
    {
     "name": "stdout",
     "output_type": "stream",
     "text": [
      "[[ 18.  34.]\n",
      " [ 17. 190.]]\n"
     ]
    }
   ],
   "source": [
    "# Экспрессия 1 и экспрессия 2 для 5 и 7 ген\n",
    "print(gene_info_arr[4:7:2, 2:])"
   ]
  },
  {
   "cell_type": "code",
   "execution_count": 54,
   "metadata": {
    "collapsed": true,
    "slideshow": {
     "slide_type": "slide"
    }
   },
   "outputs": [],
   "source": [
    "            #  start    stop   expr1   expr2 \n",
    "gene_info = [[ 11869,  14409,     63,    119],\n",
    "             [ 14404,  29570,     22, np.nan],\n",
    "             [ 17369,  17436,     30,     71],\n",
    "             [ 29554,  31109,     44,     96],\n",
    "             [ 30366,  30503,     18,     34],\n",
    "             [ 34554,  36081,     21,     14],\n",
    "             [ 52473,  53312,     17,    190],\n",
    "             [ 57598,  64116, np.nan,     60],\n",
    "             [ 65419,  71585, np.nan,     11],\n",
    "             [ 89295, 133723,    295, np.nan]]\n",
    "\n",
    "gene_info = np.array(gene_info)"
   ]
  },
  {
   "cell_type": "markdown",
   "metadata": {
    "slideshow": {
     "slide_type": "subslide"
    }
   },
   "source": [
    "## Как из числа ридов и длин генов получить RPKM?"
   ]
  },
  {
   "cell_type": "markdown",
   "metadata": {
    "slideshow": {
     "slide_type": "fragment"
    }
   },
   "source": [
    "Reads per kilobase per million"
   ]
  },
  {
   "cell_type": "markdown",
   "metadata": {
    "slideshow": {
     "slide_type": "subslide"
    }
   },
   "source": [
    "## Как посчитать длины генов?"
   ]
  },
  {
   "cell_type": "markdown",
   "metadata": {
    "slideshow": {
     "slide_type": "fragment"
    }
   },
   "source": [
    "В Numpy все операции векторизованы!"
   ]
  },
  {
   "cell_type": "code",
   "execution_count": 55,
   "metadata": {
    "slideshow": {
     "slide_type": "fragment"
    }
   },
   "outputs": [
    {
     "name": "stdout",
     "output_type": "stream",
     "text": [
      "[ 14347.  29549.  17407.  31066.  30486.  36061.  53296.     nan     nan\n",
      " 133429.]\n",
      "[119.77896309 171.8982257  131.93559035 176.25549637 174.60240548\n",
      " 189.89734069 230.85926449          nan          nan 365.27934516]\n"
     ]
    }
   ],
   "source": [
    "lengths = stops - starts + 1\n",
    "print(lengths)\n",
    "print(lengths ** (1/2))"
   ]
  },
  {
   "cell_type": "markdown",
   "metadata": {
    "slideshow": {
     "slide_type": "fragment"
    }
   },
   "source": [
    "Даже логические!"
   ]
  },
  {
   "cell_type": "code",
   "execution_count": 80,
   "metadata": {
    "slideshow": {
     "slide_type": "fragment"
    }
   },
   "outputs": [
    {
     "name": "stdout",
     "output_type": "stream",
     "text": [
      "[ True  True  True  True  True  True  True  True]\n"
     ]
    }
   ],
   "source": [
    "long_gene_ind = lengths > 1000\n",
    "print(long_gene_ind)"
   ]
  },
  {
   "cell_type": "markdown",
   "metadata": {
    "slideshow": {
     "slide_type": "subslide"
    }
   },
   "source": [
    "## Как взять только длинные гены?"
   ]
  },
  {
   "cell_type": "markdown",
   "metadata": {
    "slideshow": {
     "slide_type": "fragment"
    }
   },
   "source": [
    "Логическая индексация"
   ]
  },
  {
   "cell_type": "code",
   "execution_count": 81,
   "metadata": {
    "slideshow": {
     "slide_type": "fragment"
    }
   },
   "outputs": [
    {
     "ename": "TypeError",
     "evalue": "only integer scalar arrays can be converted to a scalar index",
     "output_type": "error",
     "traceback": [
      "\u001b[0;31m---------------------------------------------------------------------------\u001b[0m",
      "\u001b[0;31mTypeError\u001b[0m                                 Traceback (most recent call last)",
      "\u001b[0;32m<ipython-input-81-d8a05ce0d3e2>\u001b[0m in \u001b[0;36m<module>\u001b[0;34m()\u001b[0m\n\u001b[0;32m----> 1\u001b[0;31m \u001b[0mlong_gene_info\u001b[0m \u001b[0;34m=\u001b[0m \u001b[0mgene_info\u001b[0m\u001b[0;34m[\u001b[0m\u001b[0mlong_gene_ind\u001b[0m\u001b[0;34m]\u001b[0m\u001b[0;34m\u001b[0m\u001b[0m\n\u001b[0m\u001b[1;32m      2\u001b[0m \u001b[0mprint\u001b[0m\u001b[0;34m(\u001b[0m\u001b[0mlong_gene_info\u001b[0m\u001b[0;34m)\u001b[0m\u001b[0;34m\u001b[0m\u001b[0m\n",
      "\u001b[0;31mTypeError\u001b[0m: only integer scalar arrays can be converted to a scalar index"
     ]
    }
   ],
   "source": [
    "long_gene_info = gene_info[long_gene_ind]\n",
    "print(long_gene_info)"
   ]
  },
  {
   "cell_type": "code",
   "execution_count": 67,
   "metadata": {
    "slideshow": {
     "slide_type": "fragment"
    }
   },
   "outputs": [
    {
     "ename": "IndexError",
     "evalue": "boolean index did not match indexed array along dimension 0; dimension is 8 but corresponding boolean dimension is 10",
     "output_type": "error",
     "traceback": [
      "\u001b[0;31m---------------------------------------------------------------------------\u001b[0m",
      "\u001b[0;31mIndexError\u001b[0m                                Traceback (most recent call last)",
      "\u001b[0;32m<ipython-input-67-082e7c2581e4>\u001b[0m in \u001b[0;36m<module>\u001b[0;34m()\u001b[0m\n\u001b[0;32m----> 1\u001b[0;31m \u001b[0mlengths\u001b[0m \u001b[0;34m=\u001b[0m \u001b[0mlengths\u001b[0m\u001b[0;34m[\u001b[0m\u001b[0mlong_gene_ind\u001b[0m\u001b[0;34m]\u001b[0m\u001b[0;34m\u001b[0m\u001b[0m\n\u001b[0m",
      "\u001b[0;31mIndexError\u001b[0m: boolean index did not match indexed array along dimension 0; dimension is 8 but corresponding boolean dimension is 10"
     ]
    }
   ],
   "source": [
    "lengths = lengths[long_gene_ind]"
   ]
  },
  {
   "cell_type": "code",
   "execution_count": 68,
   "metadata": {
    "collapsed": true,
    "slideshow": {
     "slide_type": "fragment"
    }
   },
   "outputs": [],
   "source": [
    "starts, stops = long_gene_info[:, 0], long_gene_info[:, 1]\n",
    "expr1, expr2 = long_gene_info[:, 2], long_gene_info[:, 3]"
   ]
  },
  {
   "cell_type": "markdown",
   "metadata": {
    "slideshow": {
     "slide_type": "subslide"
    }
   },
   "source": [
    "## Как избавиться от пропущенных значений?"
   ]
  },
  {
   "cell_type": "code",
   "execution_count": 222,
   "metadata": {
    "slideshow": {
     "slide_type": "fragment"
    }
   },
   "outputs": [
    {
     "data": {
      "text/plain": [
       "False"
      ]
     },
     "execution_count": 222,
     "metadata": {},
     "output_type": "execute_result"
    }
   ],
   "source": [
    "np.nan == np.nan"
   ]
  },
  {
   "cell_type": "markdown",
   "metadata": {
    "slideshow": {
     "slide_type": "fragment"
    }
   },
   "source": [
    "![title](wtf.gif)"
   ]
  },
  {
   "cell_type": "code",
   "execution_count": 69,
   "metadata": {
    "slideshow": {
     "slide_type": "subslide"
    }
   },
   "outputs": [
    {
     "name": "stdout",
     "output_type": "stream",
     "text": [
      "[False False False False False False False False]\n",
      "[ 63.  22.  30.  44.  18.  21.  17. 295.]\n",
      "[119.  nan  71.  96.  34.  14. 190.  nan]\n"
     ]
    }
   ],
   "source": [
    "print(expr1 == np.nan)\n",
    "print(expr1)\n",
    "print(expr2)"
   ]
  },
  {
   "cell_type": "code",
   "execution_count": 61,
   "metadata": {
    "collapsed": true,
    "slideshow": {
     "slide_type": "fragment"
    }
   },
   "outputs": [],
   "source": [
    "def nan_to_mean(arr):\n",
    "    nan_ind = np.isnan(arr)\n",
    "    arr[nan_ind] = np.mean(arr[~nan_ind])"
   ]
  },
  {
   "cell_type": "code",
   "execution_count": 62,
   "metadata": {
    "collapsed": true,
    "slideshow": {
     "slide_type": "fragment"
    }
   },
   "outputs": [],
   "source": [
    "nan_to_mean(expr1)\n",
    "nan_to_mean(expr2)"
   ]
  },
  {
   "cell_type": "code",
   "execution_count": 63,
   "metadata": {
    "slideshow": {
     "slide_type": "fragment"
    }
   },
   "outputs": [
    {
     "name": "stdout",
     "output_type": "stream",
     "text": [
      "[119.          87.33333333  71.          96.          34.\n",
      "  14.         190.          87.33333333]\n"
     ]
    }
   ],
   "source": [
    "print(expr2)"
   ]
  },
  {
   "cell_type": "markdown",
   "metadata": {
    "slideshow": {
     "slide_type": "subslide"
    }
   },
   "source": [
    "## При взятии срезов данные не копируются, срез указывает на тот же объект в памяти!"
   ]
  },
  {
   "cell_type": "code",
   "execution_count": 228,
   "metadata": {
    "slideshow": {
     "slide_type": "fragment"
    }
   },
   "outputs": [
    {
     "name": "stdout",
     "output_type": "stream",
     "text": [
      "[[ 11869.  14409.     63.    119.]\n",
      " [ 14404.  29570.     22.     60.]\n",
      " [ 29554.  31109.     44.     96.]\n",
      " [ 34554.  36081.     21.     14.]\n",
      " [ 57598.  64116.     89.     60.]\n",
      " [ 65419.  71585.     89.     11.]\n",
      " [ 89295. 133723.    295.     60.]]\n"
     ]
    }
   ],
   "source": [
    "print(long_gene_info)"
   ]
  },
  {
   "cell_type": "markdown",
   "metadata": {
    "slideshow": {
     "slide_type": "subslide"
    }
   },
   "source": [
    "## Но при логической индексации данные копируются."
   ]
  },
  {
   "cell_type": "code",
   "execution_count": 229,
   "metadata": {
    "slideshow": {
     "slide_type": "fragment"
    }
   },
   "outputs": [
    {
     "name": "stdout",
     "output_type": "stream",
     "text": [
      "[[ 11869.  14409.     63.    119.]\n",
      " [ 14404.  29570.     22.     nan]\n",
      " [ 17369.  17436.     30.     71.]\n",
      " [ 29554.  31109.     44.     96.]\n",
      " [ 30366.  30503.     18.     34.]\n",
      " [ 34554.  36081.     21.     14.]\n",
      " [ 52473.  53312.     17.    190.]\n",
      " [ 57598.  64116.     nan     60.]\n",
      " [ 65419.  71585.     nan     11.]\n",
      " [ 89295. 133723.    295.     nan]]\n"
     ]
    }
   ],
   "source": [
    "print(gene_info)"
   ]
  },
  {
   "cell_type": "markdown",
   "metadata": {
    "slideshow": {
     "slide_type": "subslide"
    }
   },
   "source": [
    "## Ура, можно считать RPKM!"
   ]
  },
  {
   "cell_type": "code",
   "execution_count": 230,
   "metadata": {
    "collapsed": true,
    "slideshow": {
     "slide_type": "fragment"
    }
   },
   "outputs": [],
   "source": [
    "def get_rpkms(lengths, reads):\n",
    "    rpms = reads * (1000000 / np.sum(reads))\n",
    "    rpkms = rpms * (1000 / lengths)\n",
    "    return rpkms"
   ]
  },
  {
   "cell_type": "code",
   "execution_count": 231,
   "metadata": {
    "collapsed": true,
    "slideshow": {
     "slide_type": "fragment"
    }
   },
   "outputs": [],
   "source": [
    "rpkms1 = get_rpkms(lengths, expr1)\n",
    "rpkms2 = get_rpkms(lengths, expr2)"
   ]
  },
  {
   "cell_type": "code",
   "execution_count": 232,
   "metadata": {
    "slideshow": {
     "slide_type": "fragment"
    }
   },
   "outputs": [
    {
     "name": "stdout",
     "output_type": "stream",
     "text": [
      "[39796.7711553   2328.2786052  45389.4622174  22060.1211836\n",
      " 21913.96577039 23164.77101624 10657.79668226]\n",
      "[111504.6569592    9418.94526651 146896.80499449  21815.008726\n",
      "  21913.96577039   4246.87468631   3215.40306685]\n"
     ]
    }
   ],
   "source": [
    "print(rpkms1)\n",
    "print(rpkms2)"
   ]
  },
  {
   "cell_type": "markdown",
   "metadata": {
    "slideshow": {
     "slide_type": "slide"
    }
   },
   "source": [
    "## Интерактом"
   ]
  },
  {
   "cell_type": "markdown",
   "metadata": {
    "slideshow": {
     "slide_type": "fragment"
    }
   },
   "source": [
    "![title](interactome.png)"
   ]
  },
  {
   "cell_type": "markdown",
   "metadata": {
    "slideshow": {
     "slide_type": "slide"
    }
   },
   "source": [
    "## Давайте посмотрим на степеней вершин "
   ]
  },
  {
   "cell_type": "code",
   "execution_count": 73,
   "metadata": {
    "slideshow": {
     "slide_type": "fragment"
    }
   },
   "outputs": [
    {
     "ename": "ModuleNotFoundError",
     "evalue": "No module named 'igraph'",
     "output_type": "error",
     "traceback": [
      "\u001b[0;31m---------------------------------------------------------------------------\u001b[0m",
      "\u001b[0;31mModuleNotFoundError\u001b[0m                       Traceback (most recent call last)",
      "\u001b[0;32m<ipython-input-73-405d8acf2d7b>\u001b[0m in \u001b[0;36m<module>\u001b[0;34m()\u001b[0m\n\u001b[0;32m----> 1\u001b[0;31m \u001b[0;32mimport\u001b[0m \u001b[0migraph\u001b[0m \u001b[0;32mas\u001b[0m \u001b[0mig\u001b[0m \u001b[0;31m# библиотека для работы с графами\u001b[0m\u001b[0;34m\u001b[0m\u001b[0m\n\u001b[0m\u001b[1;32m      2\u001b[0m \u001b[0;32mimport\u001b[0m \u001b[0mseaborn\u001b[0m \u001b[0;32mas\u001b[0m \u001b[0msns\u001b[0m \u001b[0;31m# для визуализации\u001b[0m\u001b[0;34m\u001b[0m\u001b[0m\n\u001b[1;32m      3\u001b[0m \u001b[0;32mimport\u001b[0m \u001b[0mmatplotlib\u001b[0m\u001b[0;34m.\u001b[0m\u001b[0mpyplot\u001b[0m \u001b[0;32mas\u001b[0m \u001b[0mplt\u001b[0m \u001b[0;31m# тоже для визуализации\u001b[0m\u001b[0;34m\u001b[0m\u001b[0m\n",
      "\u001b[0;31mModuleNotFoundError\u001b[0m: No module named 'igraph'"
     ]
    }
   ],
   "source": [
    "import igraph as ig # библиотека для работы с графами\n",
    "import seaborn as sns # для визуализации\n",
    "import matplotlib.pyplot as plt # тоже для визуализации"
   ]
  },
  {
   "cell_type": "code",
   "execution_count": 74,
   "metadata": {
    "collapsed": true,
    "slideshow": {
     "slide_type": "skip"
    }
   },
   "outputs": [],
   "source": [
    "%matplotlib notebook\n",
    "import numpy as np"
   ]
  },
  {
   "cell_type": "code",
   "execution_count": 52,
   "metadata": {
    "collapsed": true,
    "slideshow": {
     "slide_type": "fragment"
    }
   },
   "outputs": [],
   "source": [
    "# Возьмём интерактом\n",
    "interactome = ig.Graph.Read_Pickle(\"data/graph.pkl\")"
   ]
  },
  {
   "cell_type": "code",
   "execution_count": 53,
   "metadata": {
    "collapsed": true,
    "slideshow": {
     "slide_type": "fragment"
    }
   },
   "outputs": [],
   "source": [
    "# Получим список степеней генов-вершин, преобразуем к массиву NumPy\n",
    "degrees = np.array(interactome.degree(interactome.vs))"
   ]
  },
  {
   "cell_type": "code",
   "execution_count": 62,
   "metadata": {
    "slideshow": {
     "slide_type": "subslide"
    }
   },
   "outputs": [
    {
     "data": {
      "application/javascript": [
       "/* Put everything inside the global mpl namespace */\n",
       "window.mpl = {};\n",
       "\n",
       "\n",
       "mpl.get_websocket_type = function() {\n",
       "    if (typeof(WebSocket) !== 'undefined') {\n",
       "        return WebSocket;\n",
       "    } else if (typeof(MozWebSocket) !== 'undefined') {\n",
       "        return MozWebSocket;\n",
       "    } else {\n",
       "        alert('Your browser does not have WebSocket support.' +\n",
       "              'Please try Chrome, Safari or Firefox ≥ 6. ' +\n",
       "              'Firefox 4 and 5 are also supported but you ' +\n",
       "              'have to enable WebSockets in about:config.');\n",
       "    };\n",
       "}\n",
       "\n",
       "mpl.figure = function(figure_id, websocket, ondownload, parent_element) {\n",
       "    this.id = figure_id;\n",
       "\n",
       "    this.ws = websocket;\n",
       "\n",
       "    this.supports_binary = (this.ws.binaryType != undefined);\n",
       "\n",
       "    if (!this.supports_binary) {\n",
       "        var warnings = document.getElementById(\"mpl-warnings\");\n",
       "        if (warnings) {\n",
       "            warnings.style.display = 'block';\n",
       "            warnings.textContent = (\n",
       "                \"This browser does not support binary websocket messages. \" +\n",
       "                    \"Performance may be slow.\");\n",
       "        }\n",
       "    }\n",
       "\n",
       "    this.imageObj = new Image();\n",
       "\n",
       "    this.context = undefined;\n",
       "    this.message = undefined;\n",
       "    this.canvas = undefined;\n",
       "    this.rubberband_canvas = undefined;\n",
       "    this.rubberband_context = undefined;\n",
       "    this.format_dropdown = undefined;\n",
       "\n",
       "    this.image_mode = 'full';\n",
       "\n",
       "    this.root = $('<div/>');\n",
       "    this._root_extra_style(this.root)\n",
       "    this.root.attr('style', 'display: inline-block');\n",
       "\n",
       "    $(parent_element).append(this.root);\n",
       "\n",
       "    this._init_header(this);\n",
       "    this._init_canvas(this);\n",
       "    this._init_toolbar(this);\n",
       "\n",
       "    var fig = this;\n",
       "\n",
       "    this.waiting = false;\n",
       "\n",
       "    this.ws.onopen =  function () {\n",
       "            fig.send_message(\"supports_binary\", {value: fig.supports_binary});\n",
       "            fig.send_message(\"send_image_mode\", {});\n",
       "            if (mpl.ratio != 1) {\n",
       "                fig.send_message(\"set_dpi_ratio\", {'dpi_ratio': mpl.ratio});\n",
       "            }\n",
       "            fig.send_message(\"refresh\", {});\n",
       "        }\n",
       "\n",
       "    this.imageObj.onload = function() {\n",
       "            if (fig.image_mode == 'full') {\n",
       "                // Full images could contain transparency (where diff images\n",
       "                // almost always do), so we need to clear the canvas so that\n",
       "                // there is no ghosting.\n",
       "                fig.context.clearRect(0, 0, fig.canvas.width, fig.canvas.height);\n",
       "            }\n",
       "            fig.context.drawImage(fig.imageObj, 0, 0);\n",
       "        };\n",
       "\n",
       "    this.imageObj.onunload = function() {\n",
       "        fig.ws.close();\n",
       "    }\n",
       "\n",
       "    this.ws.onmessage = this._make_on_message_function(this);\n",
       "\n",
       "    this.ondownload = ondownload;\n",
       "}\n",
       "\n",
       "mpl.figure.prototype._init_header = function() {\n",
       "    var titlebar = $(\n",
       "        '<div class=\"ui-dialog-titlebar ui-widget-header ui-corner-all ' +\n",
       "        'ui-helper-clearfix\"/>');\n",
       "    var titletext = $(\n",
       "        '<div class=\"ui-dialog-title\" style=\"width: 100%; ' +\n",
       "        'text-align: center; padding: 3px;\"/>');\n",
       "    titlebar.append(titletext)\n",
       "    this.root.append(titlebar);\n",
       "    this.header = titletext[0];\n",
       "}\n",
       "\n",
       "\n",
       "\n",
       "mpl.figure.prototype._canvas_extra_style = function(canvas_div) {\n",
       "\n",
       "}\n",
       "\n",
       "\n",
       "mpl.figure.prototype._root_extra_style = function(canvas_div) {\n",
       "\n",
       "}\n",
       "\n",
       "mpl.figure.prototype._init_canvas = function() {\n",
       "    var fig = this;\n",
       "\n",
       "    var canvas_div = $('<div/>');\n",
       "\n",
       "    canvas_div.attr('style', 'position: relative; clear: both; outline: 0');\n",
       "\n",
       "    function canvas_keyboard_event(event) {\n",
       "        return fig.key_event(event, event['data']);\n",
       "    }\n",
       "\n",
       "    canvas_div.keydown('key_press', canvas_keyboard_event);\n",
       "    canvas_div.keyup('key_release', canvas_keyboard_event);\n",
       "    this.canvas_div = canvas_div\n",
       "    this._canvas_extra_style(canvas_div)\n",
       "    this.root.append(canvas_div);\n",
       "\n",
       "    var canvas = $('<canvas/>');\n",
       "    canvas.addClass('mpl-canvas');\n",
       "    canvas.attr('style', \"left: 0; top: 0; z-index: 0; outline: 0\")\n",
       "\n",
       "    this.canvas = canvas[0];\n",
       "    this.context = canvas[0].getContext(\"2d\");\n",
       "\n",
       "    var backingStore = this.context.backingStorePixelRatio ||\n",
       "\tthis.context.webkitBackingStorePixelRatio ||\n",
       "\tthis.context.mozBackingStorePixelRatio ||\n",
       "\tthis.context.msBackingStorePixelRatio ||\n",
       "\tthis.context.oBackingStorePixelRatio ||\n",
       "\tthis.context.backingStorePixelRatio || 1;\n",
       "\n",
       "    mpl.ratio = (window.devicePixelRatio || 1) / backingStore;\n",
       "\n",
       "    var rubberband = $('<canvas/>');\n",
       "    rubberband.attr('style', \"position: absolute; left: 0; top: 0; z-index: 1;\")\n",
       "\n",
       "    var pass_mouse_events = true;\n",
       "\n",
       "    canvas_div.resizable({\n",
       "        start: function(event, ui) {\n",
       "            pass_mouse_events = false;\n",
       "        },\n",
       "        resize: function(event, ui) {\n",
       "            fig.request_resize(ui.size.width, ui.size.height);\n",
       "        },\n",
       "        stop: function(event, ui) {\n",
       "            pass_mouse_events = true;\n",
       "            fig.request_resize(ui.size.width, ui.size.height);\n",
       "        },\n",
       "    });\n",
       "\n",
       "    function mouse_event_fn(event) {\n",
       "        if (pass_mouse_events)\n",
       "            return fig.mouse_event(event, event['data']);\n",
       "    }\n",
       "\n",
       "    rubberband.mousedown('button_press', mouse_event_fn);\n",
       "    rubberband.mouseup('button_release', mouse_event_fn);\n",
       "    // Throttle sequential mouse events to 1 every 20ms.\n",
       "    rubberband.mousemove('motion_notify', mouse_event_fn);\n",
       "\n",
       "    rubberband.mouseenter('figure_enter', mouse_event_fn);\n",
       "    rubberband.mouseleave('figure_leave', mouse_event_fn);\n",
       "\n",
       "    canvas_div.on(\"wheel\", function (event) {\n",
       "        event = event.originalEvent;\n",
       "        event['data'] = 'scroll'\n",
       "        if (event.deltaY < 0) {\n",
       "            event.step = 1;\n",
       "        } else {\n",
       "            event.step = -1;\n",
       "        }\n",
       "        mouse_event_fn(event);\n",
       "    });\n",
       "\n",
       "    canvas_div.append(canvas);\n",
       "    canvas_div.append(rubberband);\n",
       "\n",
       "    this.rubberband = rubberband;\n",
       "    this.rubberband_canvas = rubberband[0];\n",
       "    this.rubberband_context = rubberband[0].getContext(\"2d\");\n",
       "    this.rubberband_context.strokeStyle = \"#000000\";\n",
       "\n",
       "    this._resize_canvas = function(width, height) {\n",
       "        // Keep the size of the canvas, canvas container, and rubber band\n",
       "        // canvas in synch.\n",
       "        canvas_div.css('width', width)\n",
       "        canvas_div.css('height', height)\n",
       "\n",
       "        canvas.attr('width', width * mpl.ratio);\n",
       "        canvas.attr('height', height * mpl.ratio);\n",
       "        canvas.attr('style', 'width: ' + width + 'px; height: ' + height + 'px;');\n",
       "\n",
       "        rubberband.attr('width', width);\n",
       "        rubberband.attr('height', height);\n",
       "    }\n",
       "\n",
       "    // Set the figure to an initial 600x600px, this will subsequently be updated\n",
       "    // upon first draw.\n",
       "    this._resize_canvas(600, 600);\n",
       "\n",
       "    // Disable right mouse context menu.\n",
       "    $(this.rubberband_canvas).bind(\"contextmenu\",function(e){\n",
       "        return false;\n",
       "    });\n",
       "\n",
       "    function set_focus () {\n",
       "        canvas.focus();\n",
       "        canvas_div.focus();\n",
       "    }\n",
       "\n",
       "    window.setTimeout(set_focus, 100);\n",
       "}\n",
       "\n",
       "mpl.figure.prototype._init_toolbar = function() {\n",
       "    var fig = this;\n",
       "\n",
       "    var nav_element = $('<div/>')\n",
       "    nav_element.attr('style', 'width: 100%');\n",
       "    this.root.append(nav_element);\n",
       "\n",
       "    // Define a callback function for later on.\n",
       "    function toolbar_event(event) {\n",
       "        return fig.toolbar_button_onclick(event['data']);\n",
       "    }\n",
       "    function toolbar_mouse_event(event) {\n",
       "        return fig.toolbar_button_onmouseover(event['data']);\n",
       "    }\n",
       "\n",
       "    for(var toolbar_ind in mpl.toolbar_items) {\n",
       "        var name = mpl.toolbar_items[toolbar_ind][0];\n",
       "        var tooltip = mpl.toolbar_items[toolbar_ind][1];\n",
       "        var image = mpl.toolbar_items[toolbar_ind][2];\n",
       "        var method_name = mpl.toolbar_items[toolbar_ind][3];\n",
       "\n",
       "        if (!name) {\n",
       "            // put a spacer in here.\n",
       "            continue;\n",
       "        }\n",
       "        var button = $('<button/>');\n",
       "        button.addClass('ui-button ui-widget ui-state-default ui-corner-all ' +\n",
       "                        'ui-button-icon-only');\n",
       "        button.attr('role', 'button');\n",
       "        button.attr('aria-disabled', 'false');\n",
       "        button.click(method_name, toolbar_event);\n",
       "        button.mouseover(tooltip, toolbar_mouse_event);\n",
       "\n",
       "        var icon_img = $('<span/>');\n",
       "        icon_img.addClass('ui-button-icon-primary ui-icon');\n",
       "        icon_img.addClass(image);\n",
       "        icon_img.addClass('ui-corner-all');\n",
       "\n",
       "        var tooltip_span = $('<span/>');\n",
       "        tooltip_span.addClass('ui-button-text');\n",
       "        tooltip_span.html(tooltip);\n",
       "\n",
       "        button.append(icon_img);\n",
       "        button.append(tooltip_span);\n",
       "\n",
       "        nav_element.append(button);\n",
       "    }\n",
       "\n",
       "    var fmt_picker_span = $('<span/>');\n",
       "\n",
       "    var fmt_picker = $('<select/>');\n",
       "    fmt_picker.addClass('mpl-toolbar-option ui-widget ui-widget-content');\n",
       "    fmt_picker_span.append(fmt_picker);\n",
       "    nav_element.append(fmt_picker_span);\n",
       "    this.format_dropdown = fmt_picker[0];\n",
       "\n",
       "    for (var ind in mpl.extensions) {\n",
       "        var fmt = mpl.extensions[ind];\n",
       "        var option = $(\n",
       "            '<option/>', {selected: fmt === mpl.default_extension}).html(fmt);\n",
       "        fmt_picker.append(option)\n",
       "    }\n",
       "\n",
       "    // Add hover states to the ui-buttons\n",
       "    $( \".ui-button\" ).hover(\n",
       "        function() { $(this).addClass(\"ui-state-hover\");},\n",
       "        function() { $(this).removeClass(\"ui-state-hover\");}\n",
       "    );\n",
       "\n",
       "    var status_bar = $('<span class=\"mpl-message\"/>');\n",
       "    nav_element.append(status_bar);\n",
       "    this.message = status_bar[0];\n",
       "}\n",
       "\n",
       "mpl.figure.prototype.request_resize = function(x_pixels, y_pixels) {\n",
       "    // Request matplotlib to resize the figure. Matplotlib will then trigger a resize in the client,\n",
       "    // which will in turn request a refresh of the image.\n",
       "    this.send_message('resize', {'width': x_pixels, 'height': y_pixels});\n",
       "}\n",
       "\n",
       "mpl.figure.prototype.send_message = function(type, properties) {\n",
       "    properties['type'] = type;\n",
       "    properties['figure_id'] = this.id;\n",
       "    this.ws.send(JSON.stringify(properties));\n",
       "}\n",
       "\n",
       "mpl.figure.prototype.send_draw_message = function() {\n",
       "    if (!this.waiting) {\n",
       "        this.waiting = true;\n",
       "        this.ws.send(JSON.stringify({type: \"draw\", figure_id: this.id}));\n",
       "    }\n",
       "}\n",
       "\n",
       "\n",
       "mpl.figure.prototype.handle_save = function(fig, msg) {\n",
       "    var format_dropdown = fig.format_dropdown;\n",
       "    var format = format_dropdown.options[format_dropdown.selectedIndex].value;\n",
       "    fig.ondownload(fig, format);\n",
       "}\n",
       "\n",
       "\n",
       "mpl.figure.prototype.handle_resize = function(fig, msg) {\n",
       "    var size = msg['size'];\n",
       "    if (size[0] != fig.canvas.width || size[1] != fig.canvas.height) {\n",
       "        fig._resize_canvas(size[0], size[1]);\n",
       "        fig.send_message(\"refresh\", {});\n",
       "    };\n",
       "}\n",
       "\n",
       "mpl.figure.prototype.handle_rubberband = function(fig, msg) {\n",
       "    var x0 = msg['x0'] / mpl.ratio;\n",
       "    var y0 = (fig.canvas.height - msg['y0']) / mpl.ratio;\n",
       "    var x1 = msg['x1'] / mpl.ratio;\n",
       "    var y1 = (fig.canvas.height - msg['y1']) / mpl.ratio;\n",
       "    x0 = Math.floor(x0) + 0.5;\n",
       "    y0 = Math.floor(y0) + 0.5;\n",
       "    x1 = Math.floor(x1) + 0.5;\n",
       "    y1 = Math.floor(y1) + 0.5;\n",
       "    var min_x = Math.min(x0, x1);\n",
       "    var min_y = Math.min(y0, y1);\n",
       "    var width = Math.abs(x1 - x0);\n",
       "    var height = Math.abs(y1 - y0);\n",
       "\n",
       "    fig.rubberband_context.clearRect(\n",
       "        0, 0, fig.canvas.width, fig.canvas.height);\n",
       "\n",
       "    fig.rubberband_context.strokeRect(min_x, min_y, width, height);\n",
       "}\n",
       "\n",
       "mpl.figure.prototype.handle_figure_label = function(fig, msg) {\n",
       "    // Updates the figure title.\n",
       "    fig.header.textContent = msg['label'];\n",
       "}\n",
       "\n",
       "mpl.figure.prototype.handle_cursor = function(fig, msg) {\n",
       "    var cursor = msg['cursor'];\n",
       "    switch(cursor)\n",
       "    {\n",
       "    case 0:\n",
       "        cursor = 'pointer';\n",
       "        break;\n",
       "    case 1:\n",
       "        cursor = 'default';\n",
       "        break;\n",
       "    case 2:\n",
       "        cursor = 'crosshair';\n",
       "        break;\n",
       "    case 3:\n",
       "        cursor = 'move';\n",
       "        break;\n",
       "    }\n",
       "    fig.rubberband_canvas.style.cursor = cursor;\n",
       "}\n",
       "\n",
       "mpl.figure.prototype.handle_message = function(fig, msg) {\n",
       "    fig.message.textContent = msg['message'];\n",
       "}\n",
       "\n",
       "mpl.figure.prototype.handle_draw = function(fig, msg) {\n",
       "    // Request the server to send over a new figure.\n",
       "    fig.send_draw_message();\n",
       "}\n",
       "\n",
       "mpl.figure.prototype.handle_image_mode = function(fig, msg) {\n",
       "    fig.image_mode = msg['mode'];\n",
       "}\n",
       "\n",
       "mpl.figure.prototype.updated_canvas_event = function() {\n",
       "    // Called whenever the canvas gets updated.\n",
       "    this.send_message(\"ack\", {});\n",
       "}\n",
       "\n",
       "// A function to construct a web socket function for onmessage handling.\n",
       "// Called in the figure constructor.\n",
       "mpl.figure.prototype._make_on_message_function = function(fig) {\n",
       "    return function socket_on_message(evt) {\n",
       "        if (evt.data instanceof Blob) {\n",
       "            /* FIXME: We get \"Resource interpreted as Image but\n",
       "             * transferred with MIME type text/plain:\" errors on\n",
       "             * Chrome.  But how to set the MIME type?  It doesn't seem\n",
       "             * to be part of the websocket stream */\n",
       "            evt.data.type = \"image/png\";\n",
       "\n",
       "            /* Free the memory for the previous frames */\n",
       "            if (fig.imageObj.src) {\n",
       "                (window.URL || window.webkitURL).revokeObjectURL(\n",
       "                    fig.imageObj.src);\n",
       "            }\n",
       "\n",
       "            fig.imageObj.src = (window.URL || window.webkitURL).createObjectURL(\n",
       "                evt.data);\n",
       "            fig.updated_canvas_event();\n",
       "            fig.waiting = false;\n",
       "            return;\n",
       "        }\n",
       "        else if (typeof evt.data === 'string' && evt.data.slice(0, 21) == \"data:image/png;base64\") {\n",
       "            fig.imageObj.src = evt.data;\n",
       "            fig.updated_canvas_event();\n",
       "            fig.waiting = false;\n",
       "            return;\n",
       "        }\n",
       "\n",
       "        var msg = JSON.parse(evt.data);\n",
       "        var msg_type = msg['type'];\n",
       "\n",
       "        // Call the  \"handle_{type}\" callback, which takes\n",
       "        // the figure and JSON message as its only arguments.\n",
       "        try {\n",
       "            var callback = fig[\"handle_\" + msg_type];\n",
       "        } catch (e) {\n",
       "            console.log(\"No handler for the '\" + msg_type + \"' message type: \", msg);\n",
       "            return;\n",
       "        }\n",
       "\n",
       "        if (callback) {\n",
       "            try {\n",
       "                // console.log(\"Handling '\" + msg_type + \"' message: \", msg);\n",
       "                callback(fig, msg);\n",
       "            } catch (e) {\n",
       "                console.log(\"Exception inside the 'handler_\" + msg_type + \"' callback:\", e, e.stack, msg);\n",
       "            }\n",
       "        }\n",
       "    };\n",
       "}\n",
       "\n",
       "// from http://stackoverflow.com/questions/1114465/getting-mouse-location-in-canvas\n",
       "mpl.findpos = function(e) {\n",
       "    //this section is from http://www.quirksmode.org/js/events_properties.html\n",
       "    var targ;\n",
       "    if (!e)\n",
       "        e = window.event;\n",
       "    if (e.target)\n",
       "        targ = e.target;\n",
       "    else if (e.srcElement)\n",
       "        targ = e.srcElement;\n",
       "    if (targ.nodeType == 3) // defeat Safari bug\n",
       "        targ = targ.parentNode;\n",
       "\n",
       "    // jQuery normalizes the pageX and pageY\n",
       "    // pageX,Y are the mouse positions relative to the document\n",
       "    // offset() returns the position of the element relative to the document\n",
       "    var x = e.pageX - $(targ).offset().left;\n",
       "    var y = e.pageY - $(targ).offset().top;\n",
       "\n",
       "    return {\"x\": x, \"y\": y};\n",
       "};\n",
       "\n",
       "/*\n",
       " * return a copy of an object with only non-object keys\n",
       " * we need this to avoid circular references\n",
       " * http://stackoverflow.com/a/24161582/3208463\n",
       " */\n",
       "function simpleKeys (original) {\n",
       "  return Object.keys(original).reduce(function (obj, key) {\n",
       "    if (typeof original[key] !== 'object')\n",
       "        obj[key] = original[key]\n",
       "    return obj;\n",
       "  }, {});\n",
       "}\n",
       "\n",
       "mpl.figure.prototype.mouse_event = function(event, name) {\n",
       "    var canvas_pos = mpl.findpos(event)\n",
       "\n",
       "    if (name === 'button_press')\n",
       "    {\n",
       "        this.canvas.focus();\n",
       "        this.canvas_div.focus();\n",
       "    }\n",
       "\n",
       "    var x = canvas_pos.x * mpl.ratio;\n",
       "    var y = canvas_pos.y * mpl.ratio;\n",
       "\n",
       "    this.send_message(name, {x: x, y: y, button: event.button,\n",
       "                             step: event.step,\n",
       "                             guiEvent: simpleKeys(event)});\n",
       "\n",
       "    /* This prevents the web browser from automatically changing to\n",
       "     * the text insertion cursor when the button is pressed.  We want\n",
       "     * to control all of the cursor setting manually through the\n",
       "     * 'cursor' event from matplotlib */\n",
       "    event.preventDefault();\n",
       "    return false;\n",
       "}\n",
       "\n",
       "mpl.figure.prototype._key_event_extra = function(event, name) {\n",
       "    // Handle any extra behaviour associated with a key event\n",
       "}\n",
       "\n",
       "mpl.figure.prototype.key_event = function(event, name) {\n",
       "\n",
       "    // Prevent repeat events\n",
       "    if (name == 'key_press')\n",
       "    {\n",
       "        if (event.which === this._key)\n",
       "            return;\n",
       "        else\n",
       "            this._key = event.which;\n",
       "    }\n",
       "    if (name == 'key_release')\n",
       "        this._key = null;\n",
       "\n",
       "    var value = '';\n",
       "    if (event.ctrlKey && event.which != 17)\n",
       "        value += \"ctrl+\";\n",
       "    if (event.altKey && event.which != 18)\n",
       "        value += \"alt+\";\n",
       "    if (event.shiftKey && event.which != 16)\n",
       "        value += \"shift+\";\n",
       "\n",
       "    value += 'k';\n",
       "    value += event.which.toString();\n",
       "\n",
       "    this._key_event_extra(event, name);\n",
       "\n",
       "    this.send_message(name, {key: value,\n",
       "                             guiEvent: simpleKeys(event)});\n",
       "    return false;\n",
       "}\n",
       "\n",
       "mpl.figure.prototype.toolbar_button_onclick = function(name) {\n",
       "    if (name == 'download') {\n",
       "        this.handle_save(this, null);\n",
       "    } else {\n",
       "        this.send_message(\"toolbar_button\", {name: name});\n",
       "    }\n",
       "};\n",
       "\n",
       "mpl.figure.prototype.toolbar_button_onmouseover = function(tooltip) {\n",
       "    this.message.textContent = tooltip;\n",
       "};\n",
       "mpl.toolbar_items = [[\"Home\", \"Reset original view\", \"fa fa-home icon-home\", \"home\"], [\"Back\", \"Back to  previous view\", \"fa fa-arrow-left icon-arrow-left\", \"back\"], [\"Forward\", \"Forward to next view\", \"fa fa-arrow-right icon-arrow-right\", \"forward\"], [\"\", \"\", \"\", \"\"], [\"Pan\", \"Pan axes with left mouse, zoom with right\", \"fa fa-arrows icon-move\", \"pan\"], [\"Zoom\", \"Zoom to rectangle\", \"fa fa-square-o icon-check-empty\", \"zoom\"], [\"\", \"\", \"\", \"\"], [\"Download\", \"Download plot\", \"fa fa-floppy-o icon-save\", \"download\"]];\n",
       "\n",
       "mpl.extensions = [\"eps\", \"jpeg\", \"pdf\", \"png\", \"ps\", \"raw\", \"svg\", \"tif\"];\n",
       "\n",
       "mpl.default_extension = \"png\";var comm_websocket_adapter = function(comm) {\n",
       "    // Create a \"websocket\"-like object which calls the given IPython comm\n",
       "    // object with the appropriate methods. Currently this is a non binary\n",
       "    // socket, so there is still some room for performance tuning.\n",
       "    var ws = {};\n",
       "\n",
       "    ws.close = function() {\n",
       "        comm.close()\n",
       "    };\n",
       "    ws.send = function(m) {\n",
       "        //console.log('sending', m);\n",
       "        comm.send(m);\n",
       "    };\n",
       "    // Register the callback with on_msg.\n",
       "    comm.on_msg(function(msg) {\n",
       "        //console.log('receiving', msg['content']['data'], msg);\n",
       "        // Pass the mpl event to the overriden (by mpl) onmessage function.\n",
       "        ws.onmessage(msg['content']['data'])\n",
       "    });\n",
       "    return ws;\n",
       "}\n",
       "\n",
       "mpl.mpl_figure_comm = function(comm, msg) {\n",
       "    // This is the function which gets called when the mpl process\n",
       "    // starts-up an IPython Comm through the \"matplotlib\" channel.\n",
       "\n",
       "    var id = msg.content.data.id;\n",
       "    // Get hold of the div created by the display call when the Comm\n",
       "    // socket was opened in Python.\n",
       "    var element = $(\"#\" + id);\n",
       "    var ws_proxy = comm_websocket_adapter(comm)\n",
       "\n",
       "    function ondownload(figure, format) {\n",
       "        window.open(figure.imageObj.src);\n",
       "    }\n",
       "\n",
       "    var fig = new mpl.figure(id, ws_proxy,\n",
       "                           ondownload,\n",
       "                           element.get(0));\n",
       "\n",
       "    // Call onopen now - mpl needs it, as it is assuming we've passed it a real\n",
       "    // web socket which is closed, not our websocket->open comm proxy.\n",
       "    ws_proxy.onopen();\n",
       "\n",
       "    fig.parent_element = element.get(0);\n",
       "    fig.cell_info = mpl.find_output_cell(\"<div id='\" + id + \"'></div>\");\n",
       "    if (!fig.cell_info) {\n",
       "        console.error(\"Failed to find cell for figure\", id, fig);\n",
       "        return;\n",
       "    }\n",
       "\n",
       "    var output_index = fig.cell_info[2]\n",
       "    var cell = fig.cell_info[0];\n",
       "\n",
       "};\n",
       "\n",
       "mpl.figure.prototype.handle_close = function(fig, msg) {\n",
       "    var width = fig.canvas.width/mpl.ratio\n",
       "    fig.root.unbind('remove')\n",
       "\n",
       "    // Update the output cell to use the data from the current canvas.\n",
       "    fig.push_to_output();\n",
       "    var dataURL = fig.canvas.toDataURL();\n",
       "    // Re-enable the keyboard manager in IPython - without this line, in FF,\n",
       "    // the notebook keyboard shortcuts fail.\n",
       "    IPython.keyboard_manager.enable()\n",
       "    $(fig.parent_element).html('<img src=\"' + dataURL + '\" width=\"' + width + '\">');\n",
       "    fig.close_ws(fig, msg);\n",
       "}\n",
       "\n",
       "mpl.figure.prototype.close_ws = function(fig, msg){\n",
       "    fig.send_message('closing', msg);\n",
       "    // fig.ws.close()\n",
       "}\n",
       "\n",
       "mpl.figure.prototype.push_to_output = function(remove_interactive) {\n",
       "    // Turn the data on the canvas into data in the output cell.\n",
       "    var width = this.canvas.width/mpl.ratio\n",
       "    var dataURL = this.canvas.toDataURL();\n",
       "    this.cell_info[1]['text/html'] = '<img src=\"' + dataURL + '\" width=\"' + width + '\">';\n",
       "}\n",
       "\n",
       "mpl.figure.prototype.updated_canvas_event = function() {\n",
       "    // Tell IPython that the notebook contents must change.\n",
       "    IPython.notebook.set_dirty(true);\n",
       "    this.send_message(\"ack\", {});\n",
       "    var fig = this;\n",
       "    // Wait a second, then push the new image to the DOM so\n",
       "    // that it is saved nicely (might be nice to debounce this).\n",
       "    setTimeout(function () { fig.push_to_output() }, 1000);\n",
       "}\n",
       "\n",
       "mpl.figure.prototype._init_toolbar = function() {\n",
       "    var fig = this;\n",
       "\n",
       "    var nav_element = $('<div/>')\n",
       "    nav_element.attr('style', 'width: 100%');\n",
       "    this.root.append(nav_element);\n",
       "\n",
       "    // Define a callback function for later on.\n",
       "    function toolbar_event(event) {\n",
       "        return fig.toolbar_button_onclick(event['data']);\n",
       "    }\n",
       "    function toolbar_mouse_event(event) {\n",
       "        return fig.toolbar_button_onmouseover(event['data']);\n",
       "    }\n",
       "\n",
       "    for(var toolbar_ind in mpl.toolbar_items){\n",
       "        var name = mpl.toolbar_items[toolbar_ind][0];\n",
       "        var tooltip = mpl.toolbar_items[toolbar_ind][1];\n",
       "        var image = mpl.toolbar_items[toolbar_ind][2];\n",
       "        var method_name = mpl.toolbar_items[toolbar_ind][3];\n",
       "\n",
       "        if (!name) { continue; };\n",
       "\n",
       "        var button = $('<button class=\"btn btn-default\" href=\"#\" title=\"' + name + '\"><i class=\"fa ' + image + ' fa-lg\"></i></button>');\n",
       "        button.click(method_name, toolbar_event);\n",
       "        button.mouseover(tooltip, toolbar_mouse_event);\n",
       "        nav_element.append(button);\n",
       "    }\n",
       "\n",
       "    // Add the status bar.\n",
       "    var status_bar = $('<span class=\"mpl-message\" style=\"text-align:right; float: right;\"/>');\n",
       "    nav_element.append(status_bar);\n",
       "    this.message = status_bar[0];\n",
       "\n",
       "    // Add the close button to the window.\n",
       "    var buttongrp = $('<div class=\"btn-group inline pull-right\"></div>');\n",
       "    var button = $('<button class=\"btn btn-mini btn-primary\" href=\"#\" title=\"Stop Interaction\"><i class=\"fa fa-power-off icon-remove icon-large\"></i></button>');\n",
       "    button.click(function (evt) { fig.handle_close(fig, {}); } );\n",
       "    button.mouseover('Stop Interaction', toolbar_mouse_event);\n",
       "    buttongrp.append(button);\n",
       "    var titlebar = this.root.find($('.ui-dialog-titlebar'));\n",
       "    titlebar.prepend(buttongrp);\n",
       "}\n",
       "\n",
       "mpl.figure.prototype._root_extra_style = function(el){\n",
       "    var fig = this\n",
       "    el.on(\"remove\", function(){\n",
       "\tfig.close_ws(fig, {});\n",
       "    });\n",
       "}\n",
       "\n",
       "mpl.figure.prototype._canvas_extra_style = function(el){\n",
       "    // this is important to make the div 'focusable\n",
       "    el.attr('tabindex', 0)\n",
       "    // reach out to IPython and tell the keyboard manager to turn it's self\n",
       "    // off when our div gets focus\n",
       "\n",
       "    // location in version 3\n",
       "    if (IPython.notebook.keyboard_manager) {\n",
       "        IPython.notebook.keyboard_manager.register_events(el);\n",
       "    }\n",
       "    else {\n",
       "        // location in version 2\n",
       "        IPython.keyboard_manager.register_events(el);\n",
       "    }\n",
       "\n",
       "}\n",
       "\n",
       "mpl.figure.prototype._key_event_extra = function(event, name) {\n",
       "    var manager = IPython.notebook.keyboard_manager;\n",
       "    if (!manager)\n",
       "        manager = IPython.keyboard_manager;\n",
       "\n",
       "    // Check for shift+enter\n",
       "    if (event.shiftKey && event.which == 13) {\n",
       "        this.canvas_div.blur();\n",
       "        event.shiftKey = false;\n",
       "        // Send a \"J\" for go to next cell\n",
       "        event.which = 74;\n",
       "        event.keyCode = 74;\n",
       "        manager.command_mode();\n",
       "        manager.handle_keydown(event);\n",
       "    }\n",
       "}\n",
       "\n",
       "mpl.figure.prototype.handle_save = function(fig, msg) {\n",
       "    fig.ondownload(fig, null);\n",
       "}\n",
       "\n",
       "\n",
       "mpl.find_output_cell = function(html_output) {\n",
       "    // Return the cell and output element which can be found *uniquely* in the notebook.\n",
       "    // Note - this is a bit hacky, but it is done because the \"notebook_saving.Notebook\"\n",
       "    // IPython event is triggered only after the cells have been serialised, which for\n",
       "    // our purposes (turning an active figure into a static one), is too late.\n",
       "    var cells = IPython.notebook.get_cells();\n",
       "    var ncells = cells.length;\n",
       "    for (var i=0; i<ncells; i++) {\n",
       "        var cell = cells[i];\n",
       "        if (cell.cell_type === 'code'){\n",
       "            for (var j=0; j<cell.output_area.outputs.length; j++) {\n",
       "                var data = cell.output_area.outputs[j];\n",
       "                if (data.data) {\n",
       "                    // IPython >= 3 moved mimebundle to data attribute of output\n",
       "                    data = data.data;\n",
       "                }\n",
       "                if (data['text/html'] == html_output) {\n",
       "                    return [cell, data, j];\n",
       "                }\n",
       "            }\n",
       "        }\n",
       "    }\n",
       "}\n",
       "\n",
       "// Register the function which deals with the matplotlib target/channel.\n",
       "// The kernel may be null if the page has been refreshed.\n",
       "if (IPython.notebook.kernel != null) {\n",
       "    IPython.notebook.kernel.comm_manager.register_target('matplotlib', mpl.mpl_figure_comm);\n",
       "}\n"
      ],
      "text/plain": [
       "<IPython.core.display.Javascript object>"
      ]
     },
     "metadata": {},
     "output_type": "display_data"
    },
    {
     "data": {
      "text/html": [
       "<img src=\"data:image/png;base64,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\" width=\"640\">"
      ],
      "text/plain": [
       "<IPython.core.display.HTML object>"
      ]
     },
     "metadata": {},
     "output_type": "display_data"
    },
    {
     "data": {
      "text/plain": [
       "Text(0.5,0,'Степень')"
      ]
     },
     "execution_count": 62,
     "metadata": {},
     "output_type": "execute_result"
    }
   ],
   "source": [
    "sns.distplot(degrees, kde=False)\n",
    "plt.xlabel(\"Степень\", size=15)"
   ]
  },
  {
   "cell_type": "markdown",
   "metadata": {
    "slideshow": {
     "slide_type": "fragment"
    }
   },
   "source": [
    "Такое себе распределение"
   ]
  },
  {
   "cell_type": "markdown",
   "metadata": {
    "slideshow": {
     "slide_type": "subslide"
    }
   },
   "source": [
    "## Давайте попробуем построить распределение логарифмов степеней"
   ]
  },
  {
   "cell_type": "code",
   "execution_count": 63,
   "metadata": {
    "slideshow": {
     "slide_type": "fragment"
    }
   },
   "outputs": [
    {
     "name": "stderr",
     "output_type": "stream",
     "text": [
      "/usr/local/lib/python3.6/dist-packages/ipykernel_launcher.py:1: RuntimeWarning: divide by zero encountered in log\n",
      "  \"\"\"Entry point for launching an IPython kernel.\n"
     ]
    },
    {
     "data": {
      "application/javascript": [
       "/* Put everything inside the global mpl namespace */\n",
       "window.mpl = {};\n",
       "\n",
       "\n",
       "mpl.get_websocket_type = function() {\n",
       "    if (typeof(WebSocket) !== 'undefined') {\n",
       "        return WebSocket;\n",
       "    } else if (typeof(MozWebSocket) !== 'undefined') {\n",
       "        return MozWebSocket;\n",
       "    } else {\n",
       "        alert('Your browser does not have WebSocket support.' +\n",
       "              'Please try Chrome, Safari or Firefox ≥ 6. ' +\n",
       "              'Firefox 4 and 5 are also supported but you ' +\n",
       "              'have to enable WebSockets in about:config.');\n",
       "    };\n",
       "}\n",
       "\n",
       "mpl.figure = function(figure_id, websocket, ondownload, parent_element) {\n",
       "    this.id = figure_id;\n",
       "\n",
       "    this.ws = websocket;\n",
       "\n",
       "    this.supports_binary = (this.ws.binaryType != undefined);\n",
       "\n",
       "    if (!this.supports_binary) {\n",
       "        var warnings = document.getElementById(\"mpl-warnings\");\n",
       "        if (warnings) {\n",
       "            warnings.style.display = 'block';\n",
       "            warnings.textContent = (\n",
       "                \"This browser does not support binary websocket messages. \" +\n",
       "                    \"Performance may be slow.\");\n",
       "        }\n",
       "    }\n",
       "\n",
       "    this.imageObj = new Image();\n",
       "\n",
       "    this.context = undefined;\n",
       "    this.message = undefined;\n",
       "    this.canvas = undefined;\n",
       "    this.rubberband_canvas = undefined;\n",
       "    this.rubberband_context = undefined;\n",
       "    this.format_dropdown = undefined;\n",
       "\n",
       "    this.image_mode = 'full';\n",
       "\n",
       "    this.root = $('<div/>');\n",
       "    this._root_extra_style(this.root)\n",
       "    this.root.attr('style', 'display: inline-block');\n",
       "\n",
       "    $(parent_element).append(this.root);\n",
       "\n",
       "    this._init_header(this);\n",
       "    this._init_canvas(this);\n",
       "    this._init_toolbar(this);\n",
       "\n",
       "    var fig = this;\n",
       "\n",
       "    this.waiting = false;\n",
       "\n",
       "    this.ws.onopen =  function () {\n",
       "            fig.send_message(\"supports_binary\", {value: fig.supports_binary});\n",
       "            fig.send_message(\"send_image_mode\", {});\n",
       "            if (mpl.ratio != 1) {\n",
       "                fig.send_message(\"set_dpi_ratio\", {'dpi_ratio': mpl.ratio});\n",
       "            }\n",
       "            fig.send_message(\"refresh\", {});\n",
       "        }\n",
       "\n",
       "    this.imageObj.onload = function() {\n",
       "            if (fig.image_mode == 'full') {\n",
       "                // Full images could contain transparency (where diff images\n",
       "                // almost always do), so we need to clear the canvas so that\n",
       "                // there is no ghosting.\n",
       "                fig.context.clearRect(0, 0, fig.canvas.width, fig.canvas.height);\n",
       "            }\n",
       "            fig.context.drawImage(fig.imageObj, 0, 0);\n",
       "        };\n",
       "\n",
       "    this.imageObj.onunload = function() {\n",
       "        fig.ws.close();\n",
       "    }\n",
       "\n",
       "    this.ws.onmessage = this._make_on_message_function(this);\n",
       "\n",
       "    this.ondownload = ondownload;\n",
       "}\n",
       "\n",
       "mpl.figure.prototype._init_header = function() {\n",
       "    var titlebar = $(\n",
       "        '<div class=\"ui-dialog-titlebar ui-widget-header ui-corner-all ' +\n",
       "        'ui-helper-clearfix\"/>');\n",
       "    var titletext = $(\n",
       "        '<div class=\"ui-dialog-title\" style=\"width: 100%; ' +\n",
       "        'text-align: center; padding: 3px;\"/>');\n",
       "    titlebar.append(titletext)\n",
       "    this.root.append(titlebar);\n",
       "    this.header = titletext[0];\n",
       "}\n",
       "\n",
       "\n",
       "\n",
       "mpl.figure.prototype._canvas_extra_style = function(canvas_div) {\n",
       "\n",
       "}\n",
       "\n",
       "\n",
       "mpl.figure.prototype._root_extra_style = function(canvas_div) {\n",
       "\n",
       "}\n",
       "\n",
       "mpl.figure.prototype._init_canvas = function() {\n",
       "    var fig = this;\n",
       "\n",
       "    var canvas_div = $('<div/>');\n",
       "\n",
       "    canvas_div.attr('style', 'position: relative; clear: both; outline: 0');\n",
       "\n",
       "    function canvas_keyboard_event(event) {\n",
       "        return fig.key_event(event, event['data']);\n",
       "    }\n",
       "\n",
       "    canvas_div.keydown('key_press', canvas_keyboard_event);\n",
       "    canvas_div.keyup('key_release', canvas_keyboard_event);\n",
       "    this.canvas_div = canvas_div\n",
       "    this._canvas_extra_style(canvas_div)\n",
       "    this.root.append(canvas_div);\n",
       "\n",
       "    var canvas = $('<canvas/>');\n",
       "    canvas.addClass('mpl-canvas');\n",
       "    canvas.attr('style', \"left: 0; top: 0; z-index: 0; outline: 0\")\n",
       "\n",
       "    this.canvas = canvas[0];\n",
       "    this.context = canvas[0].getContext(\"2d\");\n",
       "\n",
       "    var backingStore = this.context.backingStorePixelRatio ||\n",
       "\tthis.context.webkitBackingStorePixelRatio ||\n",
       "\tthis.context.mozBackingStorePixelRatio ||\n",
       "\tthis.context.msBackingStorePixelRatio ||\n",
       "\tthis.context.oBackingStorePixelRatio ||\n",
       "\tthis.context.backingStorePixelRatio || 1;\n",
       "\n",
       "    mpl.ratio = (window.devicePixelRatio || 1) / backingStore;\n",
       "\n",
       "    var rubberband = $('<canvas/>');\n",
       "    rubberband.attr('style', \"position: absolute; left: 0; top: 0; z-index: 1;\")\n",
       "\n",
       "    var pass_mouse_events = true;\n",
       "\n",
       "    canvas_div.resizable({\n",
       "        start: function(event, ui) {\n",
       "            pass_mouse_events = false;\n",
       "        },\n",
       "        resize: function(event, ui) {\n",
       "            fig.request_resize(ui.size.width, ui.size.height);\n",
       "        },\n",
       "        stop: function(event, ui) {\n",
       "            pass_mouse_events = true;\n",
       "            fig.request_resize(ui.size.width, ui.size.height);\n",
       "        },\n",
       "    });\n",
       "\n",
       "    function mouse_event_fn(event) {\n",
       "        if (pass_mouse_events)\n",
       "            return fig.mouse_event(event, event['data']);\n",
       "    }\n",
       "\n",
       "    rubberband.mousedown('button_press', mouse_event_fn);\n",
       "    rubberband.mouseup('button_release', mouse_event_fn);\n",
       "    // Throttle sequential mouse events to 1 every 20ms.\n",
       "    rubberband.mousemove('motion_notify', mouse_event_fn);\n",
       "\n",
       "    rubberband.mouseenter('figure_enter', mouse_event_fn);\n",
       "    rubberband.mouseleave('figure_leave', mouse_event_fn);\n",
       "\n",
       "    canvas_div.on(\"wheel\", function (event) {\n",
       "        event = event.originalEvent;\n",
       "        event['data'] = 'scroll'\n",
       "        if (event.deltaY < 0) {\n",
       "            event.step = 1;\n",
       "        } else {\n",
       "            event.step = -1;\n",
       "        }\n",
       "        mouse_event_fn(event);\n",
       "    });\n",
       "\n",
       "    canvas_div.append(canvas);\n",
       "    canvas_div.append(rubberband);\n",
       "\n",
       "    this.rubberband = rubberband;\n",
       "    this.rubberband_canvas = rubberband[0];\n",
       "    this.rubberband_context = rubberband[0].getContext(\"2d\");\n",
       "    this.rubberband_context.strokeStyle = \"#000000\";\n",
       "\n",
       "    this._resize_canvas = function(width, height) {\n",
       "        // Keep the size of the canvas, canvas container, and rubber band\n",
       "        // canvas in synch.\n",
       "        canvas_div.css('width', width)\n",
       "        canvas_div.css('height', height)\n",
       "\n",
       "        canvas.attr('width', width * mpl.ratio);\n",
       "        canvas.attr('height', height * mpl.ratio);\n",
       "        canvas.attr('style', 'width: ' + width + 'px; height: ' + height + 'px;');\n",
       "\n",
       "        rubberband.attr('width', width);\n",
       "        rubberband.attr('height', height);\n",
       "    }\n",
       "\n",
       "    // Set the figure to an initial 600x600px, this will subsequently be updated\n",
       "    // upon first draw.\n",
       "    this._resize_canvas(600, 600);\n",
       "\n",
       "    // Disable right mouse context menu.\n",
       "    $(this.rubberband_canvas).bind(\"contextmenu\",function(e){\n",
       "        return false;\n",
       "    });\n",
       "\n",
       "    function set_focus () {\n",
       "        canvas.focus();\n",
       "        canvas_div.focus();\n",
       "    }\n",
       "\n",
       "    window.setTimeout(set_focus, 100);\n",
       "}\n",
       "\n",
       "mpl.figure.prototype._init_toolbar = function() {\n",
       "    var fig = this;\n",
       "\n",
       "    var nav_element = $('<div/>')\n",
       "    nav_element.attr('style', 'width: 100%');\n",
       "    this.root.append(nav_element);\n",
       "\n",
       "    // Define a callback function for later on.\n",
       "    function toolbar_event(event) {\n",
       "        return fig.toolbar_button_onclick(event['data']);\n",
       "    }\n",
       "    function toolbar_mouse_event(event) {\n",
       "        return fig.toolbar_button_onmouseover(event['data']);\n",
       "    }\n",
       "\n",
       "    for(var toolbar_ind in mpl.toolbar_items) {\n",
       "        var name = mpl.toolbar_items[toolbar_ind][0];\n",
       "        var tooltip = mpl.toolbar_items[toolbar_ind][1];\n",
       "        var image = mpl.toolbar_items[toolbar_ind][2];\n",
       "        var method_name = mpl.toolbar_items[toolbar_ind][3];\n",
       "\n",
       "        if (!name) {\n",
       "            // put a spacer in here.\n",
       "            continue;\n",
       "        }\n",
       "        var button = $('<button/>');\n",
       "        button.addClass('ui-button ui-widget ui-state-default ui-corner-all ' +\n",
       "                        'ui-button-icon-only');\n",
       "        button.attr('role', 'button');\n",
       "        button.attr('aria-disabled', 'false');\n",
       "        button.click(method_name, toolbar_event);\n",
       "        button.mouseover(tooltip, toolbar_mouse_event);\n",
       "\n",
       "        var icon_img = $('<span/>');\n",
       "        icon_img.addClass('ui-button-icon-primary ui-icon');\n",
       "        icon_img.addClass(image);\n",
       "        icon_img.addClass('ui-corner-all');\n",
       "\n",
       "        var tooltip_span = $('<span/>');\n",
       "        tooltip_span.addClass('ui-button-text');\n",
       "        tooltip_span.html(tooltip);\n",
       "\n",
       "        button.append(icon_img);\n",
       "        button.append(tooltip_span);\n",
       "\n",
       "        nav_element.append(button);\n",
       "    }\n",
       "\n",
       "    var fmt_picker_span = $('<span/>');\n",
       "\n",
       "    var fmt_picker = $('<select/>');\n",
       "    fmt_picker.addClass('mpl-toolbar-option ui-widget ui-widget-content');\n",
       "    fmt_picker_span.append(fmt_picker);\n",
       "    nav_element.append(fmt_picker_span);\n",
       "    this.format_dropdown = fmt_picker[0];\n",
       "\n",
       "    for (var ind in mpl.extensions) {\n",
       "        var fmt = mpl.extensions[ind];\n",
       "        var option = $(\n",
       "            '<option/>', {selected: fmt === mpl.default_extension}).html(fmt);\n",
       "        fmt_picker.append(option)\n",
       "    }\n",
       "\n",
       "    // Add hover states to the ui-buttons\n",
       "    $( \".ui-button\" ).hover(\n",
       "        function() { $(this).addClass(\"ui-state-hover\");},\n",
       "        function() { $(this).removeClass(\"ui-state-hover\");}\n",
       "    );\n",
       "\n",
       "    var status_bar = $('<span class=\"mpl-message\"/>');\n",
       "    nav_element.append(status_bar);\n",
       "    this.message = status_bar[0];\n",
       "}\n",
       "\n",
       "mpl.figure.prototype.request_resize = function(x_pixels, y_pixels) {\n",
       "    // Request matplotlib to resize the figure. Matplotlib will then trigger a resize in the client,\n",
       "    // which will in turn request a refresh of the image.\n",
       "    this.send_message('resize', {'width': x_pixels, 'height': y_pixels});\n",
       "}\n",
       "\n",
       "mpl.figure.prototype.send_message = function(type, properties) {\n",
       "    properties['type'] = type;\n",
       "    properties['figure_id'] = this.id;\n",
       "    this.ws.send(JSON.stringify(properties));\n",
       "}\n",
       "\n",
       "mpl.figure.prototype.send_draw_message = function() {\n",
       "    if (!this.waiting) {\n",
       "        this.waiting = true;\n",
       "        this.ws.send(JSON.stringify({type: \"draw\", figure_id: this.id}));\n",
       "    }\n",
       "}\n",
       "\n",
       "\n",
       "mpl.figure.prototype.handle_save = function(fig, msg) {\n",
       "    var format_dropdown = fig.format_dropdown;\n",
       "    var format = format_dropdown.options[format_dropdown.selectedIndex].value;\n",
       "    fig.ondownload(fig, format);\n",
       "}\n",
       "\n",
       "\n",
       "mpl.figure.prototype.handle_resize = function(fig, msg) {\n",
       "    var size = msg['size'];\n",
       "    if (size[0] != fig.canvas.width || size[1] != fig.canvas.height) {\n",
       "        fig._resize_canvas(size[0], size[1]);\n",
       "        fig.send_message(\"refresh\", {});\n",
       "    };\n",
       "}\n",
       "\n",
       "mpl.figure.prototype.handle_rubberband = function(fig, msg) {\n",
       "    var x0 = msg['x0'] / mpl.ratio;\n",
       "    var y0 = (fig.canvas.height - msg['y0']) / mpl.ratio;\n",
       "    var x1 = msg['x1'] / mpl.ratio;\n",
       "    var y1 = (fig.canvas.height - msg['y1']) / mpl.ratio;\n",
       "    x0 = Math.floor(x0) + 0.5;\n",
       "    y0 = Math.floor(y0) + 0.5;\n",
       "    x1 = Math.floor(x1) + 0.5;\n",
       "    y1 = Math.floor(y1) + 0.5;\n",
       "    var min_x = Math.min(x0, x1);\n",
       "    var min_y = Math.min(y0, y1);\n",
       "    var width = Math.abs(x1 - x0);\n",
       "    var height = Math.abs(y1 - y0);\n",
       "\n",
       "    fig.rubberband_context.clearRect(\n",
       "        0, 0, fig.canvas.width, fig.canvas.height);\n",
       "\n",
       "    fig.rubberband_context.strokeRect(min_x, min_y, width, height);\n",
       "}\n",
       "\n",
       "mpl.figure.prototype.handle_figure_label = function(fig, msg) {\n",
       "    // Updates the figure title.\n",
       "    fig.header.textContent = msg['label'];\n",
       "}\n",
       "\n",
       "mpl.figure.prototype.handle_cursor = function(fig, msg) {\n",
       "    var cursor = msg['cursor'];\n",
       "    switch(cursor)\n",
       "    {\n",
       "    case 0:\n",
       "        cursor = 'pointer';\n",
       "        break;\n",
       "    case 1:\n",
       "        cursor = 'default';\n",
       "        break;\n",
       "    case 2:\n",
       "        cursor = 'crosshair';\n",
       "        break;\n",
       "    case 3:\n",
       "        cursor = 'move';\n",
       "        break;\n",
       "    }\n",
       "    fig.rubberband_canvas.style.cursor = cursor;\n",
       "}\n",
       "\n",
       "mpl.figure.prototype.handle_message = function(fig, msg) {\n",
       "    fig.message.textContent = msg['message'];\n",
       "}\n",
       "\n",
       "mpl.figure.prototype.handle_draw = function(fig, msg) {\n",
       "    // Request the server to send over a new figure.\n",
       "    fig.send_draw_message();\n",
       "}\n",
       "\n",
       "mpl.figure.prototype.handle_image_mode = function(fig, msg) {\n",
       "    fig.image_mode = msg['mode'];\n",
       "}\n",
       "\n",
       "mpl.figure.prototype.updated_canvas_event = function() {\n",
       "    // Called whenever the canvas gets updated.\n",
       "    this.send_message(\"ack\", {});\n",
       "}\n",
       "\n",
       "// A function to construct a web socket function for onmessage handling.\n",
       "// Called in the figure constructor.\n",
       "mpl.figure.prototype._make_on_message_function = function(fig) {\n",
       "    return function socket_on_message(evt) {\n",
       "        if (evt.data instanceof Blob) {\n",
       "            /* FIXME: We get \"Resource interpreted as Image but\n",
       "             * transferred with MIME type text/plain:\" errors on\n",
       "             * Chrome.  But how to set the MIME type?  It doesn't seem\n",
       "             * to be part of the websocket stream */\n",
       "            evt.data.type = \"image/png\";\n",
       "\n",
       "            /* Free the memory for the previous frames */\n",
       "            if (fig.imageObj.src) {\n",
       "                (window.URL || window.webkitURL).revokeObjectURL(\n",
       "                    fig.imageObj.src);\n",
       "            }\n",
       "\n",
       "            fig.imageObj.src = (window.URL || window.webkitURL).createObjectURL(\n",
       "                evt.data);\n",
       "            fig.updated_canvas_event();\n",
       "            fig.waiting = false;\n",
       "            return;\n",
       "        }\n",
       "        else if (typeof evt.data === 'string' && evt.data.slice(0, 21) == \"data:image/png;base64\") {\n",
       "            fig.imageObj.src = evt.data;\n",
       "            fig.updated_canvas_event();\n",
       "            fig.waiting = false;\n",
       "            return;\n",
       "        }\n",
       "\n",
       "        var msg = JSON.parse(evt.data);\n",
       "        var msg_type = msg['type'];\n",
       "\n",
       "        // Call the  \"handle_{type}\" callback, which takes\n",
       "        // the figure and JSON message as its only arguments.\n",
       "        try {\n",
       "            var callback = fig[\"handle_\" + msg_type];\n",
       "        } catch (e) {\n",
       "            console.log(\"No handler for the '\" + msg_type + \"' message type: \", msg);\n",
       "            return;\n",
       "        }\n",
       "\n",
       "        if (callback) {\n",
       "            try {\n",
       "                // console.log(\"Handling '\" + msg_type + \"' message: \", msg);\n",
       "                callback(fig, msg);\n",
       "            } catch (e) {\n",
       "                console.log(\"Exception inside the 'handler_\" + msg_type + \"' callback:\", e, e.stack, msg);\n",
       "            }\n",
       "        }\n",
       "    };\n",
       "}\n",
       "\n",
       "// from http://stackoverflow.com/questions/1114465/getting-mouse-location-in-canvas\n",
       "mpl.findpos = function(e) {\n",
       "    //this section is from http://www.quirksmode.org/js/events_properties.html\n",
       "    var targ;\n",
       "    if (!e)\n",
       "        e = window.event;\n",
       "    if (e.target)\n",
       "        targ = e.target;\n",
       "    else if (e.srcElement)\n",
       "        targ = e.srcElement;\n",
       "    if (targ.nodeType == 3) // defeat Safari bug\n",
       "        targ = targ.parentNode;\n",
       "\n",
       "    // jQuery normalizes the pageX and pageY\n",
       "    // pageX,Y are the mouse positions relative to the document\n",
       "    // offset() returns the position of the element relative to the document\n",
       "    var x = e.pageX - $(targ).offset().left;\n",
       "    var y = e.pageY - $(targ).offset().top;\n",
       "\n",
       "    return {\"x\": x, \"y\": y};\n",
       "};\n",
       "\n",
       "/*\n",
       " * return a copy of an object with only non-object keys\n",
       " * we need this to avoid circular references\n",
       " * http://stackoverflow.com/a/24161582/3208463\n",
       " */\n",
       "function simpleKeys (original) {\n",
       "  return Object.keys(original).reduce(function (obj, key) {\n",
       "    if (typeof original[key] !== 'object')\n",
       "        obj[key] = original[key]\n",
       "    return obj;\n",
       "  }, {});\n",
       "}\n",
       "\n",
       "mpl.figure.prototype.mouse_event = function(event, name) {\n",
       "    var canvas_pos = mpl.findpos(event)\n",
       "\n",
       "    if (name === 'button_press')\n",
       "    {\n",
       "        this.canvas.focus();\n",
       "        this.canvas_div.focus();\n",
       "    }\n",
       "\n",
       "    var x = canvas_pos.x * mpl.ratio;\n",
       "    var y = canvas_pos.y * mpl.ratio;\n",
       "\n",
       "    this.send_message(name, {x: x, y: y, button: event.button,\n",
       "                             step: event.step,\n",
       "                             guiEvent: simpleKeys(event)});\n",
       "\n",
       "    /* This prevents the web browser from automatically changing to\n",
       "     * the text insertion cursor when the button is pressed.  We want\n",
       "     * to control all of the cursor setting manually through the\n",
       "     * 'cursor' event from matplotlib */\n",
       "    event.preventDefault();\n",
       "    return false;\n",
       "}\n",
       "\n",
       "mpl.figure.prototype._key_event_extra = function(event, name) {\n",
       "    // Handle any extra behaviour associated with a key event\n",
       "}\n",
       "\n",
       "mpl.figure.prototype.key_event = function(event, name) {\n",
       "\n",
       "    // Prevent repeat events\n",
       "    if (name == 'key_press')\n",
       "    {\n",
       "        if (event.which === this._key)\n",
       "            return;\n",
       "        else\n",
       "            this._key = event.which;\n",
       "    }\n",
       "    if (name == 'key_release')\n",
       "        this._key = null;\n",
       "\n",
       "    var value = '';\n",
       "    if (event.ctrlKey && event.which != 17)\n",
       "        value += \"ctrl+\";\n",
       "    if (event.altKey && event.which != 18)\n",
       "        value += \"alt+\";\n",
       "    if (event.shiftKey && event.which != 16)\n",
       "        value += \"shift+\";\n",
       "\n",
       "    value += 'k';\n",
       "    value += event.which.toString();\n",
       "\n",
       "    this._key_event_extra(event, name);\n",
       "\n",
       "    this.send_message(name, {key: value,\n",
       "                             guiEvent: simpleKeys(event)});\n",
       "    return false;\n",
       "}\n",
       "\n",
       "mpl.figure.prototype.toolbar_button_onclick = function(name) {\n",
       "    if (name == 'download') {\n",
       "        this.handle_save(this, null);\n",
       "    } else {\n",
       "        this.send_message(\"toolbar_button\", {name: name});\n",
       "    }\n",
       "};\n",
       "\n",
       "mpl.figure.prototype.toolbar_button_onmouseover = function(tooltip) {\n",
       "    this.message.textContent = tooltip;\n",
       "};\n",
       "mpl.toolbar_items = [[\"Home\", \"Reset original view\", \"fa fa-home icon-home\", \"home\"], [\"Back\", \"Back to  previous view\", \"fa fa-arrow-left icon-arrow-left\", \"back\"], [\"Forward\", \"Forward to next view\", \"fa fa-arrow-right icon-arrow-right\", \"forward\"], [\"\", \"\", \"\", \"\"], [\"Pan\", \"Pan axes with left mouse, zoom with right\", \"fa fa-arrows icon-move\", \"pan\"], [\"Zoom\", \"Zoom to rectangle\", \"fa fa-square-o icon-check-empty\", \"zoom\"], [\"\", \"\", \"\", \"\"], [\"Download\", \"Download plot\", \"fa fa-floppy-o icon-save\", \"download\"]];\n",
       "\n",
       "mpl.extensions = [\"eps\", \"jpeg\", \"pdf\", \"png\", \"ps\", \"raw\", \"svg\", \"tif\"];\n",
       "\n",
       "mpl.default_extension = \"png\";var comm_websocket_adapter = function(comm) {\n",
       "    // Create a \"websocket\"-like object which calls the given IPython comm\n",
       "    // object with the appropriate methods. Currently this is a non binary\n",
       "    // socket, so there is still some room for performance tuning.\n",
       "    var ws = {};\n",
       "\n",
       "    ws.close = function() {\n",
       "        comm.close()\n",
       "    };\n",
       "    ws.send = function(m) {\n",
       "        //console.log('sending', m);\n",
       "        comm.send(m);\n",
       "    };\n",
       "    // Register the callback with on_msg.\n",
       "    comm.on_msg(function(msg) {\n",
       "        //console.log('receiving', msg['content']['data'], msg);\n",
       "        // Pass the mpl event to the overriden (by mpl) onmessage function.\n",
       "        ws.onmessage(msg['content']['data'])\n",
       "    });\n",
       "    return ws;\n",
       "}\n",
       "\n",
       "mpl.mpl_figure_comm = function(comm, msg) {\n",
       "    // This is the function which gets called when the mpl process\n",
       "    // starts-up an IPython Comm through the \"matplotlib\" channel.\n",
       "\n",
       "    var id = msg.content.data.id;\n",
       "    // Get hold of the div created by the display call when the Comm\n",
       "    // socket was opened in Python.\n",
       "    var element = $(\"#\" + id);\n",
       "    var ws_proxy = comm_websocket_adapter(comm)\n",
       "\n",
       "    function ondownload(figure, format) {\n",
       "        window.open(figure.imageObj.src);\n",
       "    }\n",
       "\n",
       "    var fig = new mpl.figure(id, ws_proxy,\n",
       "                           ondownload,\n",
       "                           element.get(0));\n",
       "\n",
       "    // Call onopen now - mpl needs it, as it is assuming we've passed it a real\n",
       "    // web socket which is closed, not our websocket->open comm proxy.\n",
       "    ws_proxy.onopen();\n",
       "\n",
       "    fig.parent_element = element.get(0);\n",
       "    fig.cell_info = mpl.find_output_cell(\"<div id='\" + id + \"'></div>\");\n",
       "    if (!fig.cell_info) {\n",
       "        console.error(\"Failed to find cell for figure\", id, fig);\n",
       "        return;\n",
       "    }\n",
       "\n",
       "    var output_index = fig.cell_info[2]\n",
       "    var cell = fig.cell_info[0];\n",
       "\n",
       "};\n",
       "\n",
       "mpl.figure.prototype.handle_close = function(fig, msg) {\n",
       "    var width = fig.canvas.width/mpl.ratio\n",
       "    fig.root.unbind('remove')\n",
       "\n",
       "    // Update the output cell to use the data from the current canvas.\n",
       "    fig.push_to_output();\n",
       "    var dataURL = fig.canvas.toDataURL();\n",
       "    // Re-enable the keyboard manager in IPython - without this line, in FF,\n",
       "    // the notebook keyboard shortcuts fail.\n",
       "    IPython.keyboard_manager.enable()\n",
       "    $(fig.parent_element).html('<img src=\"' + dataURL + '\" width=\"' + width + '\">');\n",
       "    fig.close_ws(fig, msg);\n",
       "}\n",
       "\n",
       "mpl.figure.prototype.close_ws = function(fig, msg){\n",
       "    fig.send_message('closing', msg);\n",
       "    // fig.ws.close()\n",
       "}\n",
       "\n",
       "mpl.figure.prototype.push_to_output = function(remove_interactive) {\n",
       "    // Turn the data on the canvas into data in the output cell.\n",
       "    var width = this.canvas.width/mpl.ratio\n",
       "    var dataURL = this.canvas.toDataURL();\n",
       "    this.cell_info[1]['text/html'] = '<img src=\"' + dataURL + '\" width=\"' + width + '\">';\n",
       "}\n",
       "\n",
       "mpl.figure.prototype.updated_canvas_event = function() {\n",
       "    // Tell IPython that the notebook contents must change.\n",
       "    IPython.notebook.set_dirty(true);\n",
       "    this.send_message(\"ack\", {});\n",
       "    var fig = this;\n",
       "    // Wait a second, then push the new image to the DOM so\n",
       "    // that it is saved nicely (might be nice to debounce this).\n",
       "    setTimeout(function () { fig.push_to_output() }, 1000);\n",
       "}\n",
       "\n",
       "mpl.figure.prototype._init_toolbar = function() {\n",
       "    var fig = this;\n",
       "\n",
       "    var nav_element = $('<div/>')\n",
       "    nav_element.attr('style', 'width: 100%');\n",
       "    this.root.append(nav_element);\n",
       "\n",
       "    // Define a callback function for later on.\n",
       "    function toolbar_event(event) {\n",
       "        return fig.toolbar_button_onclick(event['data']);\n",
       "    }\n",
       "    function toolbar_mouse_event(event) {\n",
       "        return fig.toolbar_button_onmouseover(event['data']);\n",
       "    }\n",
       "\n",
       "    for(var toolbar_ind in mpl.toolbar_items){\n",
       "        var name = mpl.toolbar_items[toolbar_ind][0];\n",
       "        var tooltip = mpl.toolbar_items[toolbar_ind][1];\n",
       "        var image = mpl.toolbar_items[toolbar_ind][2];\n",
       "        var method_name = mpl.toolbar_items[toolbar_ind][3];\n",
       "\n",
       "        if (!name) { continue; };\n",
       "\n",
       "        var button = $('<button class=\"btn btn-default\" href=\"#\" title=\"' + name + '\"><i class=\"fa ' + image + ' fa-lg\"></i></button>');\n",
       "        button.click(method_name, toolbar_event);\n",
       "        button.mouseover(tooltip, toolbar_mouse_event);\n",
       "        nav_element.append(button);\n",
       "    }\n",
       "\n",
       "    // Add the status bar.\n",
       "    var status_bar = $('<span class=\"mpl-message\" style=\"text-align:right; float: right;\"/>');\n",
       "    nav_element.append(status_bar);\n",
       "    this.message = status_bar[0];\n",
       "\n",
       "    // Add the close button to the window.\n",
       "    var buttongrp = $('<div class=\"btn-group inline pull-right\"></div>');\n",
       "    var button = $('<button class=\"btn btn-mini btn-primary\" href=\"#\" title=\"Stop Interaction\"><i class=\"fa fa-power-off icon-remove icon-large\"></i></button>');\n",
       "    button.click(function (evt) { fig.handle_close(fig, {}); } );\n",
       "    button.mouseover('Stop Interaction', toolbar_mouse_event);\n",
       "    buttongrp.append(button);\n",
       "    var titlebar = this.root.find($('.ui-dialog-titlebar'));\n",
       "    titlebar.prepend(buttongrp);\n",
       "}\n",
       "\n",
       "mpl.figure.prototype._root_extra_style = function(el){\n",
       "    var fig = this\n",
       "    el.on(\"remove\", function(){\n",
       "\tfig.close_ws(fig, {});\n",
       "    });\n",
       "}\n",
       "\n",
       "mpl.figure.prototype._canvas_extra_style = function(el){\n",
       "    // this is important to make the div 'focusable\n",
       "    el.attr('tabindex', 0)\n",
       "    // reach out to IPython and tell the keyboard manager to turn it's self\n",
       "    // off when our div gets focus\n",
       "\n",
       "    // location in version 3\n",
       "    if (IPython.notebook.keyboard_manager) {\n",
       "        IPython.notebook.keyboard_manager.register_events(el);\n",
       "    }\n",
       "    else {\n",
       "        // location in version 2\n",
       "        IPython.keyboard_manager.register_events(el);\n",
       "    }\n",
       "\n",
       "}\n",
       "\n",
       "mpl.figure.prototype._key_event_extra = function(event, name) {\n",
       "    var manager = IPython.notebook.keyboard_manager;\n",
       "    if (!manager)\n",
       "        manager = IPython.keyboard_manager;\n",
       "\n",
       "    // Check for shift+enter\n",
       "    if (event.shiftKey && event.which == 13) {\n",
       "        this.canvas_div.blur();\n",
       "        event.shiftKey = false;\n",
       "        // Send a \"J\" for go to next cell\n",
       "        event.which = 74;\n",
       "        event.keyCode = 74;\n",
       "        manager.command_mode();\n",
       "        manager.handle_keydown(event);\n",
       "    }\n",
       "}\n",
       "\n",
       "mpl.figure.prototype.handle_save = function(fig, msg) {\n",
       "    fig.ondownload(fig, null);\n",
       "}\n",
       "\n",
       "\n",
       "mpl.find_output_cell = function(html_output) {\n",
       "    // Return the cell and output element which can be found *uniquely* in the notebook.\n",
       "    // Note - this is a bit hacky, but it is done because the \"notebook_saving.Notebook\"\n",
       "    // IPython event is triggered only after the cells have been serialised, which for\n",
       "    // our purposes (turning an active figure into a static one), is too late.\n",
       "    var cells = IPython.notebook.get_cells();\n",
       "    var ncells = cells.length;\n",
       "    for (var i=0; i<ncells; i++) {\n",
       "        var cell = cells[i];\n",
       "        if (cell.cell_type === 'code'){\n",
       "            for (var j=0; j<cell.output_area.outputs.length; j++) {\n",
       "                var data = cell.output_area.outputs[j];\n",
       "                if (data.data) {\n",
       "                    // IPython >= 3 moved mimebundle to data attribute of output\n",
       "                    data = data.data;\n",
       "                }\n",
       "                if (data['text/html'] == html_output) {\n",
       "                    return [cell, data, j];\n",
       "                }\n",
       "            }\n",
       "        }\n",
       "    }\n",
       "}\n",
       "\n",
       "// Register the function which deals with the matplotlib target/channel.\n",
       "// The kernel may be null if the page has been refreshed.\n",
       "if (IPython.notebook.kernel != null) {\n",
       "    IPython.notebook.kernel.comm_manager.register_target('matplotlib', mpl.mpl_figure_comm);\n",
       "}\n"
      ],
      "text/plain": [
       "<IPython.core.display.Javascript object>"
      ]
     },
     "metadata": {},
     "output_type": "display_data"
    },
    {
     "data": {
      "text/html": [
       "<img src=\"data:image/png;base64,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\" width=\"640\">"
      ],
      "text/plain": [
       "<IPython.core.display.HTML object>"
      ]
     },
     "metadata": {},
     "output_type": "display_data"
    },
    {
     "ename": "OverflowError",
     "evalue": "cannot convert float infinity to integer",
     "output_type": "error",
     "traceback": [
      "\u001b[0;31m---------------------------------------------------------------------------\u001b[0m",
      "\u001b[0;31mOverflowError\u001b[0m                             Traceback (most recent call last)",
      "\u001b[0;32m<ipython-input-63-f24b865218b8>\u001b[0m in \u001b[0;36m<module>\u001b[0;34m()\u001b[0m\n\u001b[0;32m----> 1\u001b[0;31m \u001b[0msns\u001b[0m\u001b[0;34m.\u001b[0m\u001b[0mdistplot\u001b[0m\u001b[0;34m(\u001b[0m\u001b[0mnp\u001b[0m\u001b[0;34m.\u001b[0m\u001b[0mlog\u001b[0m\u001b[0;34m(\u001b[0m\u001b[0mdegrees\u001b[0m\u001b[0;34m)\u001b[0m\u001b[0;34m,\u001b[0m \u001b[0mkde\u001b[0m\u001b[0;34m=\u001b[0m\u001b[0;32mFalse\u001b[0m\u001b[0;34m)\u001b[0m\u001b[0;34m\u001b[0m\u001b[0m\n\u001b[0m",
      "\u001b[0;32m/usr/local/lib/python3.6/dist-packages/seaborn/distributions.py\u001b[0m in \u001b[0;36mdistplot\u001b[0;34m(a, bins, hist, kde, rug, fit, hist_kws, kde_kws, rug_kws, fit_kws, color, vertical, norm_hist, axlabel, label, ax)\u001b[0m\n\u001b[1;32m    210\u001b[0m     \u001b[0;32mif\u001b[0m \u001b[0mhist\u001b[0m\u001b[0;34m:\u001b[0m\u001b[0;34m\u001b[0m\u001b[0m\n\u001b[1;32m    211\u001b[0m         \u001b[0;32mif\u001b[0m \u001b[0mbins\u001b[0m \u001b[0;32mis\u001b[0m \u001b[0;32mNone\u001b[0m\u001b[0;34m:\u001b[0m\u001b[0;34m\u001b[0m\u001b[0m\n\u001b[0;32m--> 212\u001b[0;31m             \u001b[0mbins\u001b[0m \u001b[0;34m=\u001b[0m \u001b[0mmin\u001b[0m\u001b[0;34m(\u001b[0m\u001b[0m_freedman_diaconis_bins\u001b[0m\u001b[0;34m(\u001b[0m\u001b[0ma\u001b[0m\u001b[0;34m)\u001b[0m\u001b[0;34m,\u001b[0m \u001b[0;36m50\u001b[0m\u001b[0;34m)\u001b[0m\u001b[0;34m\u001b[0m\u001b[0m\n\u001b[0m\u001b[1;32m    213\u001b[0m         \u001b[0mhist_kws\u001b[0m\u001b[0;34m.\u001b[0m\u001b[0msetdefault\u001b[0m\u001b[0;34m(\u001b[0m\u001b[0;34m\"alpha\"\u001b[0m\u001b[0;34m,\u001b[0m \u001b[0;36m0.4\u001b[0m\u001b[0;34m)\u001b[0m\u001b[0;34m\u001b[0m\u001b[0m\n\u001b[1;32m    214\u001b[0m         \u001b[0mhist_kws\u001b[0m\u001b[0;34m.\u001b[0m\u001b[0msetdefault\u001b[0m\u001b[0;34m(\u001b[0m\u001b[0;34m\"normed\"\u001b[0m\u001b[0;34m,\u001b[0m \u001b[0mnorm_hist\u001b[0m\u001b[0;34m)\u001b[0m\u001b[0;34m\u001b[0m\u001b[0m\n",
      "\u001b[0;32m/usr/local/lib/python3.6/dist-packages/seaborn/distributions.py\u001b[0m in \u001b[0;36m_freedman_diaconis_bins\u001b[0;34m(a)\u001b[0m\n\u001b[1;32m     34\u001b[0m         \u001b[0;32mreturn\u001b[0m \u001b[0mint\u001b[0m\u001b[0;34m(\u001b[0m\u001b[0mnp\u001b[0m\u001b[0;34m.\u001b[0m\u001b[0msqrt\u001b[0m\u001b[0;34m(\u001b[0m\u001b[0ma\u001b[0m\u001b[0;34m.\u001b[0m\u001b[0msize\u001b[0m\u001b[0;34m)\u001b[0m\u001b[0;34m)\u001b[0m\u001b[0;34m\u001b[0m\u001b[0m\n\u001b[1;32m     35\u001b[0m     \u001b[0;32melse\u001b[0m\u001b[0;34m:\u001b[0m\u001b[0;34m\u001b[0m\u001b[0m\n\u001b[0;32m---> 36\u001b[0;31m         \u001b[0;32mreturn\u001b[0m \u001b[0mint\u001b[0m\u001b[0;34m(\u001b[0m\u001b[0mnp\u001b[0m\u001b[0;34m.\u001b[0m\u001b[0mceil\u001b[0m\u001b[0;34m(\u001b[0m\u001b[0;34m(\u001b[0m\u001b[0ma\u001b[0m\u001b[0;34m.\u001b[0m\u001b[0mmax\u001b[0m\u001b[0;34m(\u001b[0m\u001b[0;34m)\u001b[0m \u001b[0;34m-\u001b[0m \u001b[0ma\u001b[0m\u001b[0;34m.\u001b[0m\u001b[0mmin\u001b[0m\u001b[0;34m(\u001b[0m\u001b[0;34m)\u001b[0m\u001b[0;34m)\u001b[0m \u001b[0;34m/\u001b[0m \u001b[0mh\u001b[0m\u001b[0;34m)\u001b[0m\u001b[0;34m)\u001b[0m\u001b[0;34m\u001b[0m\u001b[0m\n\u001b[0m\u001b[1;32m     37\u001b[0m \u001b[0;34m\u001b[0m\u001b[0m\n\u001b[1;32m     38\u001b[0m \u001b[0;34m\u001b[0m\u001b[0m\n",
      "\u001b[0;31mOverflowError\u001b[0m: cannot convert float infinity to integer"
     ]
    }
   ],
   "source": [
    "sns.distplot(np.log(degrees), kde=False)"
   ]
  },
  {
   "cell_type": "code",
   "execution_count": 32,
   "metadata": {
    "slideshow": {
     "slide_type": "subslide"
    }
   },
   "outputs": [
    {
     "name": "stdout",
     "output_type": "stream",
     "text": [
      "2\n",
      "13372\n"
     ]
    }
   ],
   "source": [
    "print(sum(degrees == 0)) # сколько вершин с нулевой степенью\n",
    "print(len(degrees)) # сколько всего вершин"
   ]
  },
  {
   "cell_type": "code",
   "execution_count": 61,
   "metadata": {
    "slideshow": {
     "slide_type": "subslide"
    }
   },
   "outputs": [
    {
     "data": {
      "application/javascript": [
       "/* Put everything inside the global mpl namespace */\n",
       "window.mpl = {};\n",
       "\n",
       "\n",
       "mpl.get_websocket_type = function() {\n",
       "    if (typeof(WebSocket) !== 'undefined') {\n",
       "        return WebSocket;\n",
       "    } else if (typeof(MozWebSocket) !== 'undefined') {\n",
       "        return MozWebSocket;\n",
       "    } else {\n",
       "        alert('Your browser does not have WebSocket support.' +\n",
       "              'Please try Chrome, Safari or Firefox ≥ 6. ' +\n",
       "              'Firefox 4 and 5 are also supported but you ' +\n",
       "              'have to enable WebSockets in about:config.');\n",
       "    };\n",
       "}\n",
       "\n",
       "mpl.figure = function(figure_id, websocket, ondownload, parent_element) {\n",
       "    this.id = figure_id;\n",
       "\n",
       "    this.ws = websocket;\n",
       "\n",
       "    this.supports_binary = (this.ws.binaryType != undefined);\n",
       "\n",
       "    if (!this.supports_binary) {\n",
       "        var warnings = document.getElementById(\"mpl-warnings\");\n",
       "        if (warnings) {\n",
       "            warnings.style.display = 'block';\n",
       "            warnings.textContent = (\n",
       "                \"This browser does not support binary websocket messages. \" +\n",
       "                    \"Performance may be slow.\");\n",
       "        }\n",
       "    }\n",
       "\n",
       "    this.imageObj = new Image();\n",
       "\n",
       "    this.context = undefined;\n",
       "    this.message = undefined;\n",
       "    this.canvas = undefined;\n",
       "    this.rubberband_canvas = undefined;\n",
       "    this.rubberband_context = undefined;\n",
       "    this.format_dropdown = undefined;\n",
       "\n",
       "    this.image_mode = 'full';\n",
       "\n",
       "    this.root = $('<div/>');\n",
       "    this._root_extra_style(this.root)\n",
       "    this.root.attr('style', 'display: inline-block');\n",
       "\n",
       "    $(parent_element).append(this.root);\n",
       "\n",
       "    this._init_header(this);\n",
       "    this._init_canvas(this);\n",
       "    this._init_toolbar(this);\n",
       "\n",
       "    var fig = this;\n",
       "\n",
       "    this.waiting = false;\n",
       "\n",
       "    this.ws.onopen =  function () {\n",
       "            fig.send_message(\"supports_binary\", {value: fig.supports_binary});\n",
       "            fig.send_message(\"send_image_mode\", {});\n",
       "            if (mpl.ratio != 1) {\n",
       "                fig.send_message(\"set_dpi_ratio\", {'dpi_ratio': mpl.ratio});\n",
       "            }\n",
       "            fig.send_message(\"refresh\", {});\n",
       "        }\n",
       "\n",
       "    this.imageObj.onload = function() {\n",
       "            if (fig.image_mode == 'full') {\n",
       "                // Full images could contain transparency (where diff images\n",
       "                // almost always do), so we need to clear the canvas so that\n",
       "                // there is no ghosting.\n",
       "                fig.context.clearRect(0, 0, fig.canvas.width, fig.canvas.height);\n",
       "            }\n",
       "            fig.context.drawImage(fig.imageObj, 0, 0);\n",
       "        };\n",
       "\n",
       "    this.imageObj.onunload = function() {\n",
       "        fig.ws.close();\n",
       "    }\n",
       "\n",
       "    this.ws.onmessage = this._make_on_message_function(this);\n",
       "\n",
       "    this.ondownload = ondownload;\n",
       "}\n",
       "\n",
       "mpl.figure.prototype._init_header = function() {\n",
       "    var titlebar = $(\n",
       "        '<div class=\"ui-dialog-titlebar ui-widget-header ui-corner-all ' +\n",
       "        'ui-helper-clearfix\"/>');\n",
       "    var titletext = $(\n",
       "        '<div class=\"ui-dialog-title\" style=\"width: 100%; ' +\n",
       "        'text-align: center; padding: 3px;\"/>');\n",
       "    titlebar.append(titletext)\n",
       "    this.root.append(titlebar);\n",
       "    this.header = titletext[0];\n",
       "}\n",
       "\n",
       "\n",
       "\n",
       "mpl.figure.prototype._canvas_extra_style = function(canvas_div) {\n",
       "\n",
       "}\n",
       "\n",
       "\n",
       "mpl.figure.prototype._root_extra_style = function(canvas_div) {\n",
       "\n",
       "}\n",
       "\n",
       "mpl.figure.prototype._init_canvas = function() {\n",
       "    var fig = this;\n",
       "\n",
       "    var canvas_div = $('<div/>');\n",
       "\n",
       "    canvas_div.attr('style', 'position: relative; clear: both; outline: 0');\n",
       "\n",
       "    function canvas_keyboard_event(event) {\n",
       "        return fig.key_event(event, event['data']);\n",
       "    }\n",
       "\n",
       "    canvas_div.keydown('key_press', canvas_keyboard_event);\n",
       "    canvas_div.keyup('key_release', canvas_keyboard_event);\n",
       "    this.canvas_div = canvas_div\n",
       "    this._canvas_extra_style(canvas_div)\n",
       "    this.root.append(canvas_div);\n",
       "\n",
       "    var canvas = $('<canvas/>');\n",
       "    canvas.addClass('mpl-canvas');\n",
       "    canvas.attr('style', \"left: 0; top: 0; z-index: 0; outline: 0\")\n",
       "\n",
       "    this.canvas = canvas[0];\n",
       "    this.context = canvas[0].getContext(\"2d\");\n",
       "\n",
       "    var backingStore = this.context.backingStorePixelRatio ||\n",
       "\tthis.context.webkitBackingStorePixelRatio ||\n",
       "\tthis.context.mozBackingStorePixelRatio ||\n",
       "\tthis.context.msBackingStorePixelRatio ||\n",
       "\tthis.context.oBackingStorePixelRatio ||\n",
       "\tthis.context.backingStorePixelRatio || 1;\n",
       "\n",
       "    mpl.ratio = (window.devicePixelRatio || 1) / backingStore;\n",
       "\n",
       "    var rubberband = $('<canvas/>');\n",
       "    rubberband.attr('style', \"position: absolute; left: 0; top: 0; z-index: 1;\")\n",
       "\n",
       "    var pass_mouse_events = true;\n",
       "\n",
       "    canvas_div.resizable({\n",
       "        start: function(event, ui) {\n",
       "            pass_mouse_events = false;\n",
       "        },\n",
       "        resize: function(event, ui) {\n",
       "            fig.request_resize(ui.size.width, ui.size.height);\n",
       "        },\n",
       "        stop: function(event, ui) {\n",
       "            pass_mouse_events = true;\n",
       "            fig.request_resize(ui.size.width, ui.size.height);\n",
       "        },\n",
       "    });\n",
       "\n",
       "    function mouse_event_fn(event) {\n",
       "        if (pass_mouse_events)\n",
       "            return fig.mouse_event(event, event['data']);\n",
       "    }\n",
       "\n",
       "    rubberband.mousedown('button_press', mouse_event_fn);\n",
       "    rubberband.mouseup('button_release', mouse_event_fn);\n",
       "    // Throttle sequential mouse events to 1 every 20ms.\n",
       "    rubberband.mousemove('motion_notify', mouse_event_fn);\n",
       "\n",
       "    rubberband.mouseenter('figure_enter', mouse_event_fn);\n",
       "    rubberband.mouseleave('figure_leave', mouse_event_fn);\n",
       "\n",
       "    canvas_div.on(\"wheel\", function (event) {\n",
       "        event = event.originalEvent;\n",
       "        event['data'] = 'scroll'\n",
       "        if (event.deltaY < 0) {\n",
       "            event.step = 1;\n",
       "        } else {\n",
       "            event.step = -1;\n",
       "        }\n",
       "        mouse_event_fn(event);\n",
       "    });\n",
       "\n",
       "    canvas_div.append(canvas);\n",
       "    canvas_div.append(rubberband);\n",
       "\n",
       "    this.rubberband = rubberband;\n",
       "    this.rubberband_canvas = rubberband[0];\n",
       "    this.rubberband_context = rubberband[0].getContext(\"2d\");\n",
       "    this.rubberband_context.strokeStyle = \"#000000\";\n",
       "\n",
       "    this._resize_canvas = function(width, height) {\n",
       "        // Keep the size of the canvas, canvas container, and rubber band\n",
       "        // canvas in synch.\n",
       "        canvas_div.css('width', width)\n",
       "        canvas_div.css('height', height)\n",
       "\n",
       "        canvas.attr('width', width * mpl.ratio);\n",
       "        canvas.attr('height', height * mpl.ratio);\n",
       "        canvas.attr('style', 'width: ' + width + 'px; height: ' + height + 'px;');\n",
       "\n",
       "        rubberband.attr('width', width);\n",
       "        rubberband.attr('height', height);\n",
       "    }\n",
       "\n",
       "    // Set the figure to an initial 600x600px, this will subsequently be updated\n",
       "    // upon first draw.\n",
       "    this._resize_canvas(600, 600);\n",
       "\n",
       "    // Disable right mouse context menu.\n",
       "    $(this.rubberband_canvas).bind(\"contextmenu\",function(e){\n",
       "        return false;\n",
       "    });\n",
       "\n",
       "    function set_focus () {\n",
       "        canvas.focus();\n",
       "        canvas_div.focus();\n",
       "    }\n",
       "\n",
       "    window.setTimeout(set_focus, 100);\n",
       "}\n",
       "\n",
       "mpl.figure.prototype._init_toolbar = function() {\n",
       "    var fig = this;\n",
       "\n",
       "    var nav_element = $('<div/>')\n",
       "    nav_element.attr('style', 'width: 100%');\n",
       "    this.root.append(nav_element);\n",
       "\n",
       "    // Define a callback function for later on.\n",
       "    function toolbar_event(event) {\n",
       "        return fig.toolbar_button_onclick(event['data']);\n",
       "    }\n",
       "    function toolbar_mouse_event(event) {\n",
       "        return fig.toolbar_button_onmouseover(event['data']);\n",
       "    }\n",
       "\n",
       "    for(var toolbar_ind in mpl.toolbar_items) {\n",
       "        var name = mpl.toolbar_items[toolbar_ind][0];\n",
       "        var tooltip = mpl.toolbar_items[toolbar_ind][1];\n",
       "        var image = mpl.toolbar_items[toolbar_ind][2];\n",
       "        var method_name = mpl.toolbar_items[toolbar_ind][3];\n",
       "\n",
       "        if (!name) {\n",
       "            // put a spacer in here.\n",
       "            continue;\n",
       "        }\n",
       "        var button = $('<button/>');\n",
       "        button.addClass('ui-button ui-widget ui-state-default ui-corner-all ' +\n",
       "                        'ui-button-icon-only');\n",
       "        button.attr('role', 'button');\n",
       "        button.attr('aria-disabled', 'false');\n",
       "        button.click(method_name, toolbar_event);\n",
       "        button.mouseover(tooltip, toolbar_mouse_event);\n",
       "\n",
       "        var icon_img = $('<span/>');\n",
       "        icon_img.addClass('ui-button-icon-primary ui-icon');\n",
       "        icon_img.addClass(image);\n",
       "        icon_img.addClass('ui-corner-all');\n",
       "\n",
       "        var tooltip_span = $('<span/>');\n",
       "        tooltip_span.addClass('ui-button-text');\n",
       "        tooltip_span.html(tooltip);\n",
       "\n",
       "        button.append(icon_img);\n",
       "        button.append(tooltip_span);\n",
       "\n",
       "        nav_element.append(button);\n",
       "    }\n",
       "\n",
       "    var fmt_picker_span = $('<span/>');\n",
       "\n",
       "    var fmt_picker = $('<select/>');\n",
       "    fmt_picker.addClass('mpl-toolbar-option ui-widget ui-widget-content');\n",
       "    fmt_picker_span.append(fmt_picker);\n",
       "    nav_element.append(fmt_picker_span);\n",
       "    this.format_dropdown = fmt_picker[0];\n",
       "\n",
       "    for (var ind in mpl.extensions) {\n",
       "        var fmt = mpl.extensions[ind];\n",
       "        var option = $(\n",
       "            '<option/>', {selected: fmt === mpl.default_extension}).html(fmt);\n",
       "        fmt_picker.append(option)\n",
       "    }\n",
       "\n",
       "    // Add hover states to the ui-buttons\n",
       "    $( \".ui-button\" ).hover(\n",
       "        function() { $(this).addClass(\"ui-state-hover\");},\n",
       "        function() { $(this).removeClass(\"ui-state-hover\");}\n",
       "    );\n",
       "\n",
       "    var status_bar = $('<span class=\"mpl-message\"/>');\n",
       "    nav_element.append(status_bar);\n",
       "    this.message = status_bar[0];\n",
       "}\n",
       "\n",
       "mpl.figure.prototype.request_resize = function(x_pixels, y_pixels) {\n",
       "    // Request matplotlib to resize the figure. Matplotlib will then trigger a resize in the client,\n",
       "    // which will in turn request a refresh of the image.\n",
       "    this.send_message('resize', {'width': x_pixels, 'height': y_pixels});\n",
       "}\n",
       "\n",
       "mpl.figure.prototype.send_message = function(type, properties) {\n",
       "    properties['type'] = type;\n",
       "    properties['figure_id'] = this.id;\n",
       "    this.ws.send(JSON.stringify(properties));\n",
       "}\n",
       "\n",
       "mpl.figure.prototype.send_draw_message = function() {\n",
       "    if (!this.waiting) {\n",
       "        this.waiting = true;\n",
       "        this.ws.send(JSON.stringify({type: \"draw\", figure_id: this.id}));\n",
       "    }\n",
       "}\n",
       "\n",
       "\n",
       "mpl.figure.prototype.handle_save = function(fig, msg) {\n",
       "    var format_dropdown = fig.format_dropdown;\n",
       "    var format = format_dropdown.options[format_dropdown.selectedIndex].value;\n",
       "    fig.ondownload(fig, format);\n",
       "}\n",
       "\n",
       "\n",
       "mpl.figure.prototype.handle_resize = function(fig, msg) {\n",
       "    var size = msg['size'];\n",
       "    if (size[0] != fig.canvas.width || size[1] != fig.canvas.height) {\n",
       "        fig._resize_canvas(size[0], size[1]);\n",
       "        fig.send_message(\"refresh\", {});\n",
       "    };\n",
       "}\n",
       "\n",
       "mpl.figure.prototype.handle_rubberband = function(fig, msg) {\n",
       "    var x0 = msg['x0'] / mpl.ratio;\n",
       "    var y0 = (fig.canvas.height - msg['y0']) / mpl.ratio;\n",
       "    var x1 = msg['x1'] / mpl.ratio;\n",
       "    var y1 = (fig.canvas.height - msg['y1']) / mpl.ratio;\n",
       "    x0 = Math.floor(x0) + 0.5;\n",
       "    y0 = Math.floor(y0) + 0.5;\n",
       "    x1 = Math.floor(x1) + 0.5;\n",
       "    y1 = Math.floor(y1) + 0.5;\n",
       "    var min_x = Math.min(x0, x1);\n",
       "    var min_y = Math.min(y0, y1);\n",
       "    var width = Math.abs(x1 - x0);\n",
       "    var height = Math.abs(y1 - y0);\n",
       "\n",
       "    fig.rubberband_context.clearRect(\n",
       "        0, 0, fig.canvas.width, fig.canvas.height);\n",
       "\n",
       "    fig.rubberband_context.strokeRect(min_x, min_y, width, height);\n",
       "}\n",
       "\n",
       "mpl.figure.prototype.handle_figure_label = function(fig, msg) {\n",
       "    // Updates the figure title.\n",
       "    fig.header.textContent = msg['label'];\n",
       "}\n",
       "\n",
       "mpl.figure.prototype.handle_cursor = function(fig, msg) {\n",
       "    var cursor = msg['cursor'];\n",
       "    switch(cursor)\n",
       "    {\n",
       "    case 0:\n",
       "        cursor = 'pointer';\n",
       "        break;\n",
       "    case 1:\n",
       "        cursor = 'default';\n",
       "        break;\n",
       "    case 2:\n",
       "        cursor = 'crosshair';\n",
       "        break;\n",
       "    case 3:\n",
       "        cursor = 'move';\n",
       "        break;\n",
       "    }\n",
       "    fig.rubberband_canvas.style.cursor = cursor;\n",
       "}\n",
       "\n",
       "mpl.figure.prototype.handle_message = function(fig, msg) {\n",
       "    fig.message.textContent = msg['message'];\n",
       "}\n",
       "\n",
       "mpl.figure.prototype.handle_draw = function(fig, msg) {\n",
       "    // Request the server to send over a new figure.\n",
       "    fig.send_draw_message();\n",
       "}\n",
       "\n",
       "mpl.figure.prototype.handle_image_mode = function(fig, msg) {\n",
       "    fig.image_mode = msg['mode'];\n",
       "}\n",
       "\n",
       "mpl.figure.prototype.updated_canvas_event = function() {\n",
       "    // Called whenever the canvas gets updated.\n",
       "    this.send_message(\"ack\", {});\n",
       "}\n",
       "\n",
       "// A function to construct a web socket function for onmessage handling.\n",
       "// Called in the figure constructor.\n",
       "mpl.figure.prototype._make_on_message_function = function(fig) {\n",
       "    return function socket_on_message(evt) {\n",
       "        if (evt.data instanceof Blob) {\n",
       "            /* FIXME: We get \"Resource interpreted as Image but\n",
       "             * transferred with MIME type text/plain:\" errors on\n",
       "             * Chrome.  But how to set the MIME type?  It doesn't seem\n",
       "             * to be part of the websocket stream */\n",
       "            evt.data.type = \"image/png\";\n",
       "\n",
       "            /* Free the memory for the previous frames */\n",
       "            if (fig.imageObj.src) {\n",
       "                (window.URL || window.webkitURL).revokeObjectURL(\n",
       "                    fig.imageObj.src);\n",
       "            }\n",
       "\n",
       "            fig.imageObj.src = (window.URL || window.webkitURL).createObjectURL(\n",
       "                evt.data);\n",
       "            fig.updated_canvas_event();\n",
       "            fig.waiting = false;\n",
       "            return;\n",
       "        }\n",
       "        else if (typeof evt.data === 'string' && evt.data.slice(0, 21) == \"data:image/png;base64\") {\n",
       "            fig.imageObj.src = evt.data;\n",
       "            fig.updated_canvas_event();\n",
       "            fig.waiting = false;\n",
       "            return;\n",
       "        }\n",
       "\n",
       "        var msg = JSON.parse(evt.data);\n",
       "        var msg_type = msg['type'];\n",
       "\n",
       "        // Call the  \"handle_{type}\" callback, which takes\n",
       "        // the figure and JSON message as its only arguments.\n",
       "        try {\n",
       "            var callback = fig[\"handle_\" + msg_type];\n",
       "        } catch (e) {\n",
       "            console.log(\"No handler for the '\" + msg_type + \"' message type: \", msg);\n",
       "            return;\n",
       "        }\n",
       "\n",
       "        if (callback) {\n",
       "            try {\n",
       "                // console.log(\"Handling '\" + msg_type + \"' message: \", msg);\n",
       "                callback(fig, msg);\n",
       "            } catch (e) {\n",
       "                console.log(\"Exception inside the 'handler_\" + msg_type + \"' callback:\", e, e.stack, msg);\n",
       "            }\n",
       "        }\n",
       "    };\n",
       "}\n",
       "\n",
       "// from http://stackoverflow.com/questions/1114465/getting-mouse-location-in-canvas\n",
       "mpl.findpos = function(e) {\n",
       "    //this section is from http://www.quirksmode.org/js/events_properties.html\n",
       "    var targ;\n",
       "    if (!e)\n",
       "        e = window.event;\n",
       "    if (e.target)\n",
       "        targ = e.target;\n",
       "    else if (e.srcElement)\n",
       "        targ = e.srcElement;\n",
       "    if (targ.nodeType == 3) // defeat Safari bug\n",
       "        targ = targ.parentNode;\n",
       "\n",
       "    // jQuery normalizes the pageX and pageY\n",
       "    // pageX,Y are the mouse positions relative to the document\n",
       "    // offset() returns the position of the element relative to the document\n",
       "    var x = e.pageX - $(targ).offset().left;\n",
       "    var y = e.pageY - $(targ).offset().top;\n",
       "\n",
       "    return {\"x\": x, \"y\": y};\n",
       "};\n",
       "\n",
       "/*\n",
       " * return a copy of an object with only non-object keys\n",
       " * we need this to avoid circular references\n",
       " * http://stackoverflow.com/a/24161582/3208463\n",
       " */\n",
       "function simpleKeys (original) {\n",
       "  return Object.keys(original).reduce(function (obj, key) {\n",
       "    if (typeof original[key] !== 'object')\n",
       "        obj[key] = original[key]\n",
       "    return obj;\n",
       "  }, {});\n",
       "}\n",
       "\n",
       "mpl.figure.prototype.mouse_event = function(event, name) {\n",
       "    var canvas_pos = mpl.findpos(event)\n",
       "\n",
       "    if (name === 'button_press')\n",
       "    {\n",
       "        this.canvas.focus();\n",
       "        this.canvas_div.focus();\n",
       "    }\n",
       "\n",
       "    var x = canvas_pos.x * mpl.ratio;\n",
       "    var y = canvas_pos.y * mpl.ratio;\n",
       "\n",
       "    this.send_message(name, {x: x, y: y, button: event.button,\n",
       "                             step: event.step,\n",
       "                             guiEvent: simpleKeys(event)});\n",
       "\n",
       "    /* This prevents the web browser from automatically changing to\n",
       "     * the text insertion cursor when the button is pressed.  We want\n",
       "     * to control all of the cursor setting manually through the\n",
       "     * 'cursor' event from matplotlib */\n",
       "    event.preventDefault();\n",
       "    return false;\n",
       "}\n",
       "\n",
       "mpl.figure.prototype._key_event_extra = function(event, name) {\n",
       "    // Handle any extra behaviour associated with a key event\n",
       "}\n",
       "\n",
       "mpl.figure.prototype.key_event = function(event, name) {\n",
       "\n",
       "    // Prevent repeat events\n",
       "    if (name == 'key_press')\n",
       "    {\n",
       "        if (event.which === this._key)\n",
       "            return;\n",
       "        else\n",
       "            this._key = event.which;\n",
       "    }\n",
       "    if (name == 'key_release')\n",
       "        this._key = null;\n",
       "\n",
       "    var value = '';\n",
       "    if (event.ctrlKey && event.which != 17)\n",
       "        value += \"ctrl+\";\n",
       "    if (event.altKey && event.which != 18)\n",
       "        value += \"alt+\";\n",
       "    if (event.shiftKey && event.which != 16)\n",
       "        value += \"shift+\";\n",
       "\n",
       "    value += 'k';\n",
       "    value += event.which.toString();\n",
       "\n",
       "    this._key_event_extra(event, name);\n",
       "\n",
       "    this.send_message(name, {key: value,\n",
       "                             guiEvent: simpleKeys(event)});\n",
       "    return false;\n",
       "}\n",
       "\n",
       "mpl.figure.prototype.toolbar_button_onclick = function(name) {\n",
       "    if (name == 'download') {\n",
       "        this.handle_save(this, null);\n",
       "    } else {\n",
       "        this.send_message(\"toolbar_button\", {name: name});\n",
       "    }\n",
       "};\n",
       "\n",
       "mpl.figure.prototype.toolbar_button_onmouseover = function(tooltip) {\n",
       "    this.message.textContent = tooltip;\n",
       "};\n",
       "mpl.toolbar_items = [[\"Home\", \"Reset original view\", \"fa fa-home icon-home\", \"home\"], [\"Back\", \"Back to  previous view\", \"fa fa-arrow-left icon-arrow-left\", \"back\"], [\"Forward\", \"Forward to next view\", \"fa fa-arrow-right icon-arrow-right\", \"forward\"], [\"\", \"\", \"\", \"\"], [\"Pan\", \"Pan axes with left mouse, zoom with right\", \"fa fa-arrows icon-move\", \"pan\"], [\"Zoom\", \"Zoom to rectangle\", \"fa fa-square-o icon-check-empty\", \"zoom\"], [\"\", \"\", \"\", \"\"], [\"Download\", \"Download plot\", \"fa fa-floppy-o icon-save\", \"download\"]];\n",
       "\n",
       "mpl.extensions = [\"eps\", \"jpeg\", \"pdf\", \"png\", \"ps\", \"raw\", \"svg\", \"tif\"];\n",
       "\n",
       "mpl.default_extension = \"png\";var comm_websocket_adapter = function(comm) {\n",
       "    // Create a \"websocket\"-like object which calls the given IPython comm\n",
       "    // object with the appropriate methods. Currently this is a non binary\n",
       "    // socket, so there is still some room for performance tuning.\n",
       "    var ws = {};\n",
       "\n",
       "    ws.close = function() {\n",
       "        comm.close()\n",
       "    };\n",
       "    ws.send = function(m) {\n",
       "        //console.log('sending', m);\n",
       "        comm.send(m);\n",
       "    };\n",
       "    // Register the callback with on_msg.\n",
       "    comm.on_msg(function(msg) {\n",
       "        //console.log('receiving', msg['content']['data'], msg);\n",
       "        // Pass the mpl event to the overriden (by mpl) onmessage function.\n",
       "        ws.onmessage(msg['content']['data'])\n",
       "    });\n",
       "    return ws;\n",
       "}\n",
       "\n",
       "mpl.mpl_figure_comm = function(comm, msg) {\n",
       "    // This is the function which gets called when the mpl process\n",
       "    // starts-up an IPython Comm through the \"matplotlib\" channel.\n",
       "\n",
       "    var id = msg.content.data.id;\n",
       "    // Get hold of the div created by the display call when the Comm\n",
       "    // socket was opened in Python.\n",
       "    var element = $(\"#\" + id);\n",
       "    var ws_proxy = comm_websocket_adapter(comm)\n",
       "\n",
       "    function ondownload(figure, format) {\n",
       "        window.open(figure.imageObj.src);\n",
       "    }\n",
       "\n",
       "    var fig = new mpl.figure(id, ws_proxy,\n",
       "                           ondownload,\n",
       "                           element.get(0));\n",
       "\n",
       "    // Call onopen now - mpl needs it, as it is assuming we've passed it a real\n",
       "    // web socket which is closed, not our websocket->open comm proxy.\n",
       "    ws_proxy.onopen();\n",
       "\n",
       "    fig.parent_element = element.get(0);\n",
       "    fig.cell_info = mpl.find_output_cell(\"<div id='\" + id + \"'></div>\");\n",
       "    if (!fig.cell_info) {\n",
       "        console.error(\"Failed to find cell for figure\", id, fig);\n",
       "        return;\n",
       "    }\n",
       "\n",
       "    var output_index = fig.cell_info[2]\n",
       "    var cell = fig.cell_info[0];\n",
       "\n",
       "};\n",
       "\n",
       "mpl.figure.prototype.handle_close = function(fig, msg) {\n",
       "    var width = fig.canvas.width/mpl.ratio\n",
       "    fig.root.unbind('remove')\n",
       "\n",
       "    // Update the output cell to use the data from the current canvas.\n",
       "    fig.push_to_output();\n",
       "    var dataURL = fig.canvas.toDataURL();\n",
       "    // Re-enable the keyboard manager in IPython - without this line, in FF,\n",
       "    // the notebook keyboard shortcuts fail.\n",
       "    IPython.keyboard_manager.enable()\n",
       "    $(fig.parent_element).html('<img src=\"' + dataURL + '\" width=\"' + width + '\">');\n",
       "    fig.close_ws(fig, msg);\n",
       "}\n",
       "\n",
       "mpl.figure.prototype.close_ws = function(fig, msg){\n",
       "    fig.send_message('closing', msg);\n",
       "    // fig.ws.close()\n",
       "}\n",
       "\n",
       "mpl.figure.prototype.push_to_output = function(remove_interactive) {\n",
       "    // Turn the data on the canvas into data in the output cell.\n",
       "    var width = this.canvas.width/mpl.ratio\n",
       "    var dataURL = this.canvas.toDataURL();\n",
       "    this.cell_info[1]['text/html'] = '<img src=\"' + dataURL + '\" width=\"' + width + '\">';\n",
       "}\n",
       "\n",
       "mpl.figure.prototype.updated_canvas_event = function() {\n",
       "    // Tell IPython that the notebook contents must change.\n",
       "    IPython.notebook.set_dirty(true);\n",
       "    this.send_message(\"ack\", {});\n",
       "    var fig = this;\n",
       "    // Wait a second, then push the new image to the DOM so\n",
       "    // that it is saved nicely (might be nice to debounce this).\n",
       "    setTimeout(function () { fig.push_to_output() }, 1000);\n",
       "}\n",
       "\n",
       "mpl.figure.prototype._init_toolbar = function() {\n",
       "    var fig = this;\n",
       "\n",
       "    var nav_element = $('<div/>')\n",
       "    nav_element.attr('style', 'width: 100%');\n",
       "    this.root.append(nav_element);\n",
       "\n",
       "    // Define a callback function for later on.\n",
       "    function toolbar_event(event) {\n",
       "        return fig.toolbar_button_onclick(event['data']);\n",
       "    }\n",
       "    function toolbar_mouse_event(event) {\n",
       "        return fig.toolbar_button_onmouseover(event['data']);\n",
       "    }\n",
       "\n",
       "    for(var toolbar_ind in mpl.toolbar_items){\n",
       "        var name = mpl.toolbar_items[toolbar_ind][0];\n",
       "        var tooltip = mpl.toolbar_items[toolbar_ind][1];\n",
       "        var image = mpl.toolbar_items[toolbar_ind][2];\n",
       "        var method_name = mpl.toolbar_items[toolbar_ind][3];\n",
       "\n",
       "        if (!name) { continue; };\n",
       "\n",
       "        var button = $('<button class=\"btn btn-default\" href=\"#\" title=\"' + name + '\"><i class=\"fa ' + image + ' fa-lg\"></i></button>');\n",
       "        button.click(method_name, toolbar_event);\n",
       "        button.mouseover(tooltip, toolbar_mouse_event);\n",
       "        nav_element.append(button);\n",
       "    }\n",
       "\n",
       "    // Add the status bar.\n",
       "    var status_bar = $('<span class=\"mpl-message\" style=\"text-align:right; float: right;\"/>');\n",
       "    nav_element.append(status_bar);\n",
       "    this.message = status_bar[0];\n",
       "\n",
       "    // Add the close button to the window.\n",
       "    var buttongrp = $('<div class=\"btn-group inline pull-right\"></div>');\n",
       "    var button = $('<button class=\"btn btn-mini btn-primary\" href=\"#\" title=\"Stop Interaction\"><i class=\"fa fa-power-off icon-remove icon-large\"></i></button>');\n",
       "    button.click(function (evt) { fig.handle_close(fig, {}); } );\n",
       "    button.mouseover('Stop Interaction', toolbar_mouse_event);\n",
       "    buttongrp.append(button);\n",
       "    var titlebar = this.root.find($('.ui-dialog-titlebar'));\n",
       "    titlebar.prepend(buttongrp);\n",
       "}\n",
       "\n",
       "mpl.figure.prototype._root_extra_style = function(el){\n",
       "    var fig = this\n",
       "    el.on(\"remove\", function(){\n",
       "\tfig.close_ws(fig, {});\n",
       "    });\n",
       "}\n",
       "\n",
       "mpl.figure.prototype._canvas_extra_style = function(el){\n",
       "    // this is important to make the div 'focusable\n",
       "    el.attr('tabindex', 0)\n",
       "    // reach out to IPython and tell the keyboard manager to turn it's self\n",
       "    // off when our div gets focus\n",
       "\n",
       "    // location in version 3\n",
       "    if (IPython.notebook.keyboard_manager) {\n",
       "        IPython.notebook.keyboard_manager.register_events(el);\n",
       "    }\n",
       "    else {\n",
       "        // location in version 2\n",
       "        IPython.keyboard_manager.register_events(el);\n",
       "    }\n",
       "\n",
       "}\n",
       "\n",
       "mpl.figure.prototype._key_event_extra = function(event, name) {\n",
       "    var manager = IPython.notebook.keyboard_manager;\n",
       "    if (!manager)\n",
       "        manager = IPython.keyboard_manager;\n",
       "\n",
       "    // Check for shift+enter\n",
       "    if (event.shiftKey && event.which == 13) {\n",
       "        this.canvas_div.blur();\n",
       "        event.shiftKey = false;\n",
       "        // Send a \"J\" for go to next cell\n",
       "        event.which = 74;\n",
       "        event.keyCode = 74;\n",
       "        manager.command_mode();\n",
       "        manager.handle_keydown(event);\n",
       "    }\n",
       "}\n",
       "\n",
       "mpl.figure.prototype.handle_save = function(fig, msg) {\n",
       "    fig.ondownload(fig, null);\n",
       "}\n",
       "\n",
       "\n",
       "mpl.find_output_cell = function(html_output) {\n",
       "    // Return the cell and output element which can be found *uniquely* in the notebook.\n",
       "    // Note - this is a bit hacky, but it is done because the \"notebook_saving.Notebook\"\n",
       "    // IPython event is triggered only after the cells have been serialised, which for\n",
       "    // our purposes (turning an active figure into a static one), is too late.\n",
       "    var cells = IPython.notebook.get_cells();\n",
       "    var ncells = cells.length;\n",
       "    for (var i=0; i<ncells; i++) {\n",
       "        var cell = cells[i];\n",
       "        if (cell.cell_type === 'code'){\n",
       "            for (var j=0; j<cell.output_area.outputs.length; j++) {\n",
       "                var data = cell.output_area.outputs[j];\n",
       "                if (data.data) {\n",
       "                    // IPython >= 3 moved mimebundle to data attribute of output\n",
       "                    data = data.data;\n",
       "                }\n",
       "                if (data['text/html'] == html_output) {\n",
       "                    return [cell, data, j];\n",
       "                }\n",
       "            }\n",
       "        }\n",
       "    }\n",
       "}\n",
       "\n",
       "// Register the function which deals with the matplotlib target/channel.\n",
       "// The kernel may be null if the page has been refreshed.\n",
       "if (IPython.notebook.kernel != null) {\n",
       "    IPython.notebook.kernel.comm_manager.register_target('matplotlib', mpl.mpl_figure_comm);\n",
       "}\n"
      ],
      "text/plain": [
       "<IPython.core.display.Javascript object>"
      ]
     },
     "metadata": {},
     "output_type": "display_data"
    },
    {
     "data": {
      "text/html": [
       "<img src=\"data:image/png;base64,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\" width=\"640\">"
      ],
      "text/plain": [
       "<IPython.core.display.HTML object>"
      ]
     },
     "metadata": {},
     "output_type": "display_data"
    },
    {
     "data": {
      "text/plain": [
       "Text(0.5,0,'Натуральный логарифм степени')"
      ]
     },
     "execution_count": 61,
     "metadata": {},
     "output_type": "execute_result"
    }
   ],
   "source": [
    "degrees_nonzero = degrees[degrees != 0]\n",
    "sns.distplot(np.log(degrees_nonzero), kde=False) # np.log - универсальная функция (ufunc) NumPy\n",
    "plt.xlabel(\"Натуральный логарифм степени\", size=15)"
   ]
  },
  {
   "cell_type": "markdown",
   "metadata": {
    "slideshow": {
     "slide_type": "slide"
    }
   },
   "source": [
    "## Можно писать свои универсальные (векторизованные) функции"
   ]
  },
  {
   "cell_type": "code",
   "execution_count": 59,
   "metadata": {
    "slideshow": {
     "slide_type": "fragment"
    }
   },
   "outputs": [
    {
     "name": "stdout",
     "output_type": "stream",
     "text": [
      "[ 0.          1.          0.66666667  9.          1.33333333 25.\n",
      "  2.         49.          2.66666667 81.        ]\n"
     ]
    }
   ],
   "source": [
    "def nice_transformation(elm):\n",
    "    return elm ** 2 if elm % 2 else elm / 3\n",
    "\n",
    "nice_transformation = np.vectorize(nice_transformation)\n",
    "print(nice_transformation(np.arange(10)))"
   ]
  },
  {
   "cell_type": "markdown",
   "metadata": {
    "collapsed": true,
    "slideshow": {
     "slide_type": "slide"
    }
   },
   "source": [
    "# Ключевые моменты по NumPy"
   ]
  },
  {
   "cell_type": "markdown",
   "metadata": {
    "slideshow": {
     "slide_type": "fragment"
    }
   },
   "source": [
    "- NumPy работает быстро\n",
    "- Не нужно циклов, всё векторизовано\n",
    "- Индексы пишутся через запятую, можно логические индексы\n",
    "- В первом случае NumPy не копирует данные, во втором - копирует\n",
    "- Есть векторизованные функции, можно писать свои\n",
    "- Для решения любой задачи найдётся набор функций NumPy\n",
    "- Очень много библиотек использует NumPy"
   ]
  },
  {
   "cell_type": "markdown",
   "metadata": {
    "slideshow": {
     "slide_type": "slide"
    }
   },
   "source": [
    "## Давайте возьмём реальный датасет!"
   ]
  },
  {
   "cell_type": "code",
   "execution_count": 75,
   "metadata": {
    "collapsed": true,
    "slideshow": {
     "slide_type": "fragment"
    }
   },
   "outputs": [],
   "source": [
    "import pandas as pd"
   ]
  },
  {
   "cell_type": "code",
   "execution_count": 110,
   "metadata": {
    "collapsed": true,
    "slideshow": {
     "slide_type": "fragment"
    }
   },
   "outputs": [],
   "source": [
    "gene_df = pd.read_csv(\"data/Homo_sapiens.GRCh38.91.gtf\", comment=\"#\", sep=\"\\t\", header=None)"
   ]
  },
  {
   "cell_type": "code",
   "execution_count": 36,
   "metadata": {
    "slideshow": {
     "slide_type": "fragment"
    }
   },
   "outputs": [
    {
     "data": {
      "text/html": [
       "<div>\n",
       "<style scoped>\n",
       "    .dataframe tbody tr th:only-of-type {\n",
       "        vertical-align: middle;\n",
       "    }\n",
       "\n",
       "    .dataframe tbody tr th {\n",
       "        vertical-align: top;\n",
       "    }\n",
       "\n",
       "    .dataframe thead th {\n",
       "        text-align: right;\n",
       "    }\n",
       "</style>\n",
       "<table border=\"1\" class=\"dataframe\">\n",
       "  <thead>\n",
       "    <tr style=\"text-align: right;\">\n",
       "      <th></th>\n",
       "      <th>0</th>\n",
       "      <th>1</th>\n",
       "      <th>2</th>\n",
       "      <th>3</th>\n",
       "      <th>4</th>\n",
       "      <th>5</th>\n",
       "      <th>6</th>\n",
       "      <th>7</th>\n",
       "      <th>8</th>\n",
       "    </tr>\n",
       "  </thead>\n",
       "  <tbody>\n",
       "    <tr>\n",
       "      <th>0</th>\n",
       "      <td>1</td>\n",
       "      <td>havana</td>\n",
       "      <td>gene</td>\n",
       "      <td>11869</td>\n",
       "      <td>14409</td>\n",
       "      <td>.</td>\n",
       "      <td>+</td>\n",
       "      <td>.</td>\n",
       "      <td>gene_id \"ENSG00000223972\"; gene_version \"5\"; g...</td>\n",
       "    </tr>\n",
       "    <tr>\n",
       "      <th>1</th>\n",
       "      <td>1</td>\n",
       "      <td>havana</td>\n",
       "      <td>transcript</td>\n",
       "      <td>11869</td>\n",
       "      <td>14409</td>\n",
       "      <td>.</td>\n",
       "      <td>+</td>\n",
       "      <td>.</td>\n",
       "      <td>gene_id \"ENSG00000223972\"; gene_version \"5\"; t...</td>\n",
       "    </tr>\n",
       "    <tr>\n",
       "      <th>2</th>\n",
       "      <td>1</td>\n",
       "      <td>havana</td>\n",
       "      <td>exon</td>\n",
       "      <td>11869</td>\n",
       "      <td>12227</td>\n",
       "      <td>.</td>\n",
       "      <td>+</td>\n",
       "      <td>.</td>\n",
       "      <td>gene_id \"ENSG00000223972\"; gene_version \"5\"; t...</td>\n",
       "    </tr>\n",
       "  </tbody>\n",
       "</table>\n",
       "</div>"
      ],
      "text/plain": [
       "   0       1           2      3      4  5  6  7  \\\n",
       "0  1  havana        gene  11869  14409  .  +  .   \n",
       "1  1  havana  transcript  11869  14409  .  +  .   \n",
       "2  1  havana        exon  11869  12227  .  +  .   \n",
       "\n",
       "                                                   8  \n",
       "0  gene_id \"ENSG00000223972\"; gene_version \"5\"; g...  \n",
       "1  gene_id \"ENSG00000223972\"; gene_version \"5\"; t...  \n",
       "2  gene_id \"ENSG00000223972\"; gene_version \"5\"; t...  "
      ]
     },
     "execution_count": 36,
     "metadata": {},
     "output_type": "execute_result"
    }
   ],
   "source": [
    "gene_df.head(3)"
   ]
  },
  {
   "cell_type": "markdown",
   "metadata": {
    "slideshow": {
     "slide_type": "slide"
    }
   },
   "source": [
    "## Основные типы Pandas - Series и DataFrame"
   ]
  },
  {
   "cell_type": "code",
   "execution_count": 76,
   "metadata": {
    "slideshow": {
     "slide_type": "fragment"
    }
   },
   "outputs": [
    {
     "ename": "NameError",
     "evalue": "name 'gene_df' is not defined",
     "output_type": "error",
     "traceback": [
      "\u001b[0;31m---------------------------------------------------------------------------\u001b[0m",
      "\u001b[0;31mNameError\u001b[0m                                 Traceback (most recent call last)",
      "\u001b[0;32m<ipython-input-76-80a6f4b26195>\u001b[0m in \u001b[0;36m<module>\u001b[0;34m()\u001b[0m\n\u001b[0;32m----> 1\u001b[0;31m \u001b[0mtype\u001b[0m\u001b[0;34m(\u001b[0m\u001b[0mgene_df\u001b[0m\u001b[0;34m)\u001b[0m\u001b[0;34m\u001b[0m\u001b[0m\n\u001b[0m",
      "\u001b[0;31mNameError\u001b[0m: name 'gene_df' is not defined"
     ]
    }
   ],
   "source": [
    "type(gene_df)"
   ]
  },
  {
   "cell_type": "code",
   "execution_count": 38,
   "metadata": {},
   "outputs": [
    {
     "ename": "NameError",
     "evalue": "name 'gene_df' is not defined",
     "output_type": "error",
     "traceback": [
      "\u001b[0;31m---------------------------------------------------------------------------\u001b[0m",
      "\u001b[0;31mNameError\u001b[0m                                 Traceback (most recent call last)",
      "\u001b[0;32m<ipython-input-38-0153ad1b0041>\u001b[0m in \u001b[0;36m<module>\u001b[0;34m()\u001b[0m\n\u001b[0;32m----> 1\u001b[0;31m \u001b[0mgene_df\u001b[0m\u001b[0;34m.\u001b[0m\u001b[0mhead\u001b[0m\u001b[0;34m(\u001b[0m\u001b[0;36m3\u001b[0m\u001b[0;34m)\u001b[0m\u001b[0;34m\u001b[0m\u001b[0m\n\u001b[0m",
      "\u001b[0;31mNameError\u001b[0m: name 'gene_df' is not defined"
     ]
    }
   ],
   "source": [
    "gene_df.head(3)"
   ]
  },
  {
   "cell_type": "code",
   "execution_count": 7,
   "metadata": {
    "slideshow": {
     "slide_type": "fragment"
    }
   },
   "outputs": [
    {
     "data": {
      "text/plain": [
       "pandas.core.series.Series"
      ]
     },
     "execution_count": 7,
     "metadata": {},
     "output_type": "execute_result"
    }
   ],
   "source": [
    "type(gene_df[2])"
   ]
  },
  {
   "cell_type": "code",
   "execution_count": 58,
   "metadata": {
    "slideshow": {
     "slide_type": "fragment"
    }
   },
   "outputs": [
    {
     "data": {
      "text/plain": [
       "0          gene\n",
       "1    transcript\n",
       "2          exon\n",
       "Name: 2, dtype: object"
      ]
     },
     "execution_count": 58,
     "metadata": {},
     "output_type": "execute_result"
    }
   ],
   "source": [
    "gene_df[2].head(3)"
   ]
  },
  {
   "cell_type": "markdown",
   "metadata": {
    "slideshow": {
     "slide_type": "slide"
    }
   },
   "source": [
    "## Series - упорядоченный словарь, NumPy-список"
   ]
  },
  {
   "cell_type": "code",
   "execution_count": 70,
   "metadata": {
    "collapsed": true,
    "slideshow": {
     "slide_type": "fragment"
    }
   },
   "outputs": [],
   "source": [
    "some_lst = [\"chomsky\", 3, 19]\n",
    "compl_dict = {\"A\": \"T\", \"G\": \"C\", \"T\": \"A\", \"C\": \"G\", 23: \"what\"}"
   ]
  },
  {
   "cell_type": "code",
   "execution_count": 71,
   "metadata": {
    "slideshow": {
     "slide_type": "fragment"
    }
   },
   "outputs": [
    {
     "ename": "NameError",
     "evalue": "name 'pd' is not defined",
     "output_type": "error",
     "traceback": [
      "\u001b[0;31m---------------------------------------------------------------------------\u001b[0m",
      "\u001b[0;31mNameError\u001b[0m                                 Traceback (most recent call last)",
      "\u001b[0;32m<ipython-input-71-e7924576baaf>\u001b[0m in \u001b[0;36m<module>\u001b[0;34m()\u001b[0m\n\u001b[0;32m----> 1\u001b[0;31m \u001b[0msome_ser\u001b[0m \u001b[0;34m=\u001b[0m \u001b[0mpd\u001b[0m\u001b[0;34m.\u001b[0m\u001b[0mSeries\u001b[0m\u001b[0;34m(\u001b[0m\u001b[0msome_lst\u001b[0m\u001b[0;34m)\u001b[0m\u001b[0;34m\u001b[0m\u001b[0m\n\u001b[0m\u001b[1;32m      2\u001b[0m \u001b[0mprint\u001b[0m\u001b[0;34m(\u001b[0m\u001b[0msome_ser\u001b[0m\u001b[0;34m)\u001b[0m\u001b[0;34m\u001b[0m\u001b[0m\n",
      "\u001b[0;31mNameError\u001b[0m: name 'pd' is not defined"
     ]
    }
   ],
   "source": [
    "some_ser = pd.Series(some_lst)\n",
    "print(some_ser)"
   ]
  },
  {
   "cell_type": "code",
   "execution_count": 44,
   "metadata": {
    "scrolled": true,
    "slideshow": {
     "slide_type": "fragment"
    }
   },
   "outputs": [
    {
     "ename": "NameError",
     "evalue": "name 'pd' is not defined",
     "output_type": "error",
     "traceback": [
      "\u001b[0;31m---------------------------------------------------------------------------\u001b[0m",
      "\u001b[0;31mNameError\u001b[0m                                 Traceback (most recent call last)",
      "\u001b[0;32m<ipython-input-44-482539f257bf>\u001b[0m in \u001b[0;36m<module>\u001b[0;34m()\u001b[0m\n\u001b[0;32m----> 1\u001b[0;31m \u001b[0mcompl_ser\u001b[0m \u001b[0;34m=\u001b[0m \u001b[0mpd\u001b[0m\u001b[0;34m.\u001b[0m\u001b[0mSeries\u001b[0m\u001b[0;34m(\u001b[0m\u001b[0mcompl_dict\u001b[0m\u001b[0;34m)\u001b[0m\u001b[0;34m\u001b[0m\u001b[0m\n\u001b[0m\u001b[1;32m      2\u001b[0m \u001b[0mprint\u001b[0m\u001b[0;34m(\u001b[0m\u001b[0mcompl_ser\u001b[0m\u001b[0;34m)\u001b[0m\u001b[0;34m\u001b[0m\u001b[0m\n",
      "\u001b[0;31mNameError\u001b[0m: name 'pd' is not defined"
     ]
    }
   ],
   "source": [
    "compl_ser = pd.Series(compl_dict)\n",
    "print(compl_ser)"
   ]
  },
  {
   "cell_type": "code",
   "execution_count": 31,
   "metadata": {
    "slideshow": {
     "slide_type": "fragment"
    }
   },
   "outputs": [
    {
     "name": "stdout",
     "output_type": "stream",
     "text": [
      "['T' 'C' 'A' 'G' 'what'] <class 'numpy.ndarray'>\n"
     ]
    }
   ],
   "source": [
    "print(compl_ser.values, type(compl_ser.values))"
   ]
  },
  {
   "cell_type": "markdown",
   "metadata": {
    "slideshow": {
     "slide_type": "subslide"
    }
   },
   "source": [
    "## Индексация по Series"
   ]
  },
  {
   "cell_type": "code",
   "execution_count": 34,
   "metadata": {
    "slideshow": {
     "slide_type": "fragment"
    }
   },
   "outputs": [
    {
     "name": "stdout",
     "output_type": "stream",
     "text": [
      "A        T\n",
      "G        C\n",
      "23    what\n",
      "dtype: object\n"
     ]
    }
   ],
   "source": [
    "print(compl_ser[[True, True, False, False, True]]) # логически индексируем"
   ]
  },
  {
   "cell_type": "code",
   "execution_count": 37,
   "metadata": {
    "slideshow": {
     "slide_type": "fragment"
    }
   },
   "outputs": [
    {
     "ename": "NameError",
     "evalue": "name 'compl_ser' is not defined",
     "output_type": "error",
     "traceback": [
      "\u001b[0;31m---------------------------------------------------------------------------\u001b[0m",
      "\u001b[0;31mNameError\u001b[0m                                 Traceback (most recent call last)",
      "\u001b[0;32m<ipython-input-37-c1d5afa6e2c2>\u001b[0m in \u001b[0;36m<module>\u001b[0;34m()\u001b[0m\n\u001b[0;32m----> 1\u001b[0;31m \u001b[0mprint\u001b[0m\u001b[0;34m(\u001b[0m\u001b[0mcompl_ser\u001b[0m\u001b[0;34m[\u001b[0m\u001b[0;36m0\u001b[0m\u001b[0;34m:\u001b[0m\u001b[0;36m3\u001b[0m\u001b[0;34m]\u001b[0m\u001b[0;34m)\u001b[0m \u001b[0;31m# индексируем как список\u001b[0m\u001b[0;34m\u001b[0m\u001b[0m\n\u001b[0m",
      "\u001b[0;31mNameError\u001b[0m: name 'compl_ser' is not defined"
     ]
    }
   ],
   "source": [
    "print(compl_ser[0:3]) # индексируем как список"
   ]
  },
  {
   "cell_type": "code",
   "execution_count": 69,
   "metadata": {
    "slideshow": {
     "slide_type": "fragment"
    }
   },
   "outputs": [
    {
     "name": "stdout",
     "output_type": "stream",
     "text": [
      "A        T\n",
      "G        C\n",
      "T        A\n",
      "C        G\n",
      "23    what\n",
      "dtype: object\n"
     ]
    }
   ],
   "source": [
    "print(compl_ser)"
   ]
  },
  {
   "cell_type": "code",
   "execution_count": 68,
   "metadata": {
    "slideshow": {
     "slide_type": "fragment"
    }
   },
   "outputs": [
    {
     "name": "stdout",
     "output_type": "stream",
     "text": [
      "A    T\n",
      "T    A\n",
      "dtype: object\n"
     ]
    }
   ],
   "source": [
    "print(compl_ser[\"A\":\"T\":2]) # индексируем, как упорядоченный словарь"
   ]
  },
  {
   "cell_type": "code",
   "execution_count": 29,
   "metadata": {
    "slideshow": {
     "slide_type": "fragment"
    }
   },
   "outputs": [
    {
     "ename": "TypeError",
     "evalue": "cannot do slice indexing on <class 'pandas.core.indexes.base.Index'> with these indexers [23] of <class 'int'>",
     "output_type": "error",
     "traceback": [
      "\u001b[0;31m---------------------------------------------------------------------------\u001b[0m",
      "\u001b[0;31mTypeError\u001b[0m                                 Traceback (most recent call last)",
      "\u001b[0;32m<ipython-input-29-7940dbac12a9>\u001b[0m in \u001b[0;36m<module>\u001b[0;34m()\u001b[0m\n\u001b[0;32m----> 1\u001b[0;31m \u001b[0mprint\u001b[0m\u001b[0;34m(\u001b[0m\u001b[0mcompl_ser\u001b[0m\u001b[0;34m[\u001b[0m\u001b[0;34m\"A\"\u001b[0m\u001b[0;34m:\u001b[0m\u001b[0;36m23\u001b[0m\u001b[0;34m]\u001b[0m\u001b[0;34m)\u001b[0m \u001b[0;31m# :(\u001b[0m\u001b[0;34m\u001b[0m\u001b[0m\n\u001b[0m",
      "\u001b[0;32m/usr/local/lib/python3.6/dist-packages/pandas/core/series.py\u001b[0m in \u001b[0;36m__getitem__\u001b[0;34m(self, key)\u001b[0m\n\u001b[1;32m    662\u001b[0m             \u001b[0mkey\u001b[0m \u001b[0;34m=\u001b[0m \u001b[0mcheck_bool_indexer\u001b[0m\u001b[0;34m(\u001b[0m\u001b[0mself\u001b[0m\u001b[0;34m.\u001b[0m\u001b[0mindex\u001b[0m\u001b[0;34m,\u001b[0m \u001b[0mkey\u001b[0m\u001b[0;34m)\u001b[0m\u001b[0;34m\u001b[0m\u001b[0m\n\u001b[1;32m    663\u001b[0m \u001b[0;34m\u001b[0m\u001b[0m\n\u001b[0;32m--> 664\u001b[0;31m         \u001b[0;32mreturn\u001b[0m \u001b[0mself\u001b[0m\u001b[0;34m.\u001b[0m\u001b[0m_get_with\u001b[0m\u001b[0;34m(\u001b[0m\u001b[0mkey\u001b[0m\u001b[0;34m)\u001b[0m\u001b[0;34m\u001b[0m\u001b[0m\n\u001b[0m\u001b[1;32m    665\u001b[0m \u001b[0;34m\u001b[0m\u001b[0m\n\u001b[1;32m    666\u001b[0m     \u001b[0;32mdef\u001b[0m \u001b[0m_get_with\u001b[0m\u001b[0;34m(\u001b[0m\u001b[0mself\u001b[0m\u001b[0;34m,\u001b[0m \u001b[0mkey\u001b[0m\u001b[0;34m)\u001b[0m\u001b[0;34m:\u001b[0m\u001b[0;34m\u001b[0m\u001b[0m\n",
      "\u001b[0;32m/usr/local/lib/python3.6/dist-packages/pandas/core/series.py\u001b[0m in \u001b[0;36m_get_with\u001b[0;34m(self, key)\u001b[0m\n\u001b[1;32m    667\u001b[0m         \u001b[0;31m# other: fancy integer or otherwise\u001b[0m\u001b[0;34m\u001b[0m\u001b[0;34m\u001b[0m\u001b[0m\n\u001b[1;32m    668\u001b[0m         \u001b[0;32mif\u001b[0m \u001b[0misinstance\u001b[0m\u001b[0;34m(\u001b[0m\u001b[0mkey\u001b[0m\u001b[0;34m,\u001b[0m \u001b[0mslice\u001b[0m\u001b[0;34m)\u001b[0m\u001b[0;34m:\u001b[0m\u001b[0;34m\u001b[0m\u001b[0m\n\u001b[0;32m--> 669\u001b[0;31m             \u001b[0mindexer\u001b[0m \u001b[0;34m=\u001b[0m \u001b[0mself\u001b[0m\u001b[0;34m.\u001b[0m\u001b[0mindex\u001b[0m\u001b[0;34m.\u001b[0m\u001b[0m_convert_slice_indexer\u001b[0m\u001b[0;34m(\u001b[0m\u001b[0mkey\u001b[0m\u001b[0;34m,\u001b[0m \u001b[0mkind\u001b[0m\u001b[0;34m=\u001b[0m\u001b[0;34m'getitem'\u001b[0m\u001b[0;34m)\u001b[0m\u001b[0;34m\u001b[0m\u001b[0m\n\u001b[0m\u001b[1;32m    670\u001b[0m             \u001b[0;32mreturn\u001b[0m \u001b[0mself\u001b[0m\u001b[0;34m.\u001b[0m\u001b[0m_get_values\u001b[0m\u001b[0;34m(\u001b[0m\u001b[0mindexer\u001b[0m\u001b[0;34m)\u001b[0m\u001b[0;34m\u001b[0m\u001b[0m\n\u001b[1;32m    671\u001b[0m         \u001b[0;32melif\u001b[0m \u001b[0misinstance\u001b[0m\u001b[0;34m(\u001b[0m\u001b[0mkey\u001b[0m\u001b[0;34m,\u001b[0m \u001b[0mABCDataFrame\u001b[0m\u001b[0;34m)\u001b[0m\u001b[0;34m:\u001b[0m\u001b[0;34m\u001b[0m\u001b[0m\n",
      "\u001b[0;32m/usr/local/lib/python3.6/dist-packages/pandas/core/indexes/base.py\u001b[0m in \u001b[0;36m_convert_slice_indexer\u001b[0;34m(self, key, kind)\u001b[0m\n\u001b[1;32m   1462\u001b[0m         \u001b[0;32melse\u001b[0m\u001b[0;34m:\u001b[0m\u001b[0;34m\u001b[0m\u001b[0m\n\u001b[1;32m   1463\u001b[0m             \u001b[0;32mtry\u001b[0m\u001b[0;34m:\u001b[0m\u001b[0;34m\u001b[0m\u001b[0m\n\u001b[0;32m-> 1464\u001b[0;31m                 \u001b[0mindexer\u001b[0m \u001b[0;34m=\u001b[0m \u001b[0mself\u001b[0m\u001b[0;34m.\u001b[0m\u001b[0mslice_indexer\u001b[0m\u001b[0;34m(\u001b[0m\u001b[0mstart\u001b[0m\u001b[0;34m,\u001b[0m \u001b[0mstop\u001b[0m\u001b[0;34m,\u001b[0m \u001b[0mstep\u001b[0m\u001b[0;34m,\u001b[0m \u001b[0mkind\u001b[0m\u001b[0;34m=\u001b[0m\u001b[0mkind\u001b[0m\u001b[0;34m)\u001b[0m\u001b[0;34m\u001b[0m\u001b[0m\n\u001b[0m\u001b[1;32m   1465\u001b[0m             \u001b[0;32mexcept\u001b[0m \u001b[0mException\u001b[0m\u001b[0;34m:\u001b[0m\u001b[0;34m\u001b[0m\u001b[0m\n\u001b[1;32m   1466\u001b[0m                 \u001b[0;32mif\u001b[0m \u001b[0mis_index_slice\u001b[0m\u001b[0;34m:\u001b[0m\u001b[0;34m\u001b[0m\u001b[0m\n",
      "\u001b[0;32m/usr/local/lib/python3.6/dist-packages/pandas/core/indexes/base.py\u001b[0m in \u001b[0;36mslice_indexer\u001b[0;34m(self, start, end, step, kind)\u001b[0m\n\u001b[1;32m   3455\u001b[0m         \"\"\"\n\u001b[1;32m   3456\u001b[0m         start_slice, end_slice = self.slice_locs(start, end, step=step,\n\u001b[0;32m-> 3457\u001b[0;31m                                                  kind=kind)\n\u001b[0m\u001b[1;32m   3458\u001b[0m \u001b[0;34m\u001b[0m\u001b[0m\n\u001b[1;32m   3459\u001b[0m         \u001b[0;31m# return a slice\u001b[0m\u001b[0;34m\u001b[0m\u001b[0;34m\u001b[0m\u001b[0m\n",
      "\u001b[0;32m/usr/local/lib/python3.6/dist-packages/pandas/core/indexes/base.py\u001b[0m in \u001b[0;36mslice_locs\u001b[0;34m(self, start, end, step, kind)\u001b[0m\n\u001b[1;32m   3662\u001b[0m         \u001b[0mend_slice\u001b[0m \u001b[0;34m=\u001b[0m \u001b[0;32mNone\u001b[0m\u001b[0;34m\u001b[0m\u001b[0m\n\u001b[1;32m   3663\u001b[0m         \u001b[0;32mif\u001b[0m \u001b[0mend\u001b[0m \u001b[0;32mis\u001b[0m \u001b[0;32mnot\u001b[0m \u001b[0;32mNone\u001b[0m\u001b[0;34m:\u001b[0m\u001b[0;34m\u001b[0m\u001b[0m\n\u001b[0;32m-> 3664\u001b[0;31m             \u001b[0mend_slice\u001b[0m \u001b[0;34m=\u001b[0m \u001b[0mself\u001b[0m\u001b[0;34m.\u001b[0m\u001b[0mget_slice_bound\u001b[0m\u001b[0;34m(\u001b[0m\u001b[0mend\u001b[0m\u001b[0;34m,\u001b[0m \u001b[0;34m'right'\u001b[0m\u001b[0;34m,\u001b[0m \u001b[0mkind\u001b[0m\u001b[0;34m)\u001b[0m\u001b[0;34m\u001b[0m\u001b[0m\n\u001b[0m\u001b[1;32m   3665\u001b[0m         \u001b[0;32mif\u001b[0m \u001b[0mend_slice\u001b[0m \u001b[0;32mis\u001b[0m \u001b[0;32mNone\u001b[0m\u001b[0;34m:\u001b[0m\u001b[0;34m\u001b[0m\u001b[0m\n\u001b[1;32m   3666\u001b[0m             \u001b[0mend_slice\u001b[0m \u001b[0;34m=\u001b[0m \u001b[0mlen\u001b[0m\u001b[0;34m(\u001b[0m\u001b[0mself\u001b[0m\u001b[0;34m)\u001b[0m\u001b[0;34m\u001b[0m\u001b[0m\n",
      "\u001b[0;32m/usr/local/lib/python3.6/dist-packages/pandas/core/indexes/base.py\u001b[0m in \u001b[0;36mget_slice_bound\u001b[0;34m(self, label, side, kind)\u001b[0m\n\u001b[1;32m   3582\u001b[0m         \u001b[0;31m# For datetime indices label may be a string that has to be converted\u001b[0m\u001b[0;34m\u001b[0m\u001b[0;34m\u001b[0m\u001b[0m\n\u001b[1;32m   3583\u001b[0m         \u001b[0;31m# to datetime boundary according to its resolution.\u001b[0m\u001b[0;34m\u001b[0m\u001b[0;34m\u001b[0m\u001b[0m\n\u001b[0;32m-> 3584\u001b[0;31m         \u001b[0mlabel\u001b[0m \u001b[0;34m=\u001b[0m \u001b[0mself\u001b[0m\u001b[0;34m.\u001b[0m\u001b[0m_maybe_cast_slice_bound\u001b[0m\u001b[0;34m(\u001b[0m\u001b[0mlabel\u001b[0m\u001b[0;34m,\u001b[0m \u001b[0mside\u001b[0m\u001b[0;34m,\u001b[0m \u001b[0mkind\u001b[0m\u001b[0;34m)\u001b[0m\u001b[0;34m\u001b[0m\u001b[0m\n\u001b[0m\u001b[1;32m   3585\u001b[0m \u001b[0;34m\u001b[0m\u001b[0m\n\u001b[1;32m   3586\u001b[0m         \u001b[0;31m# we need to look up the label\u001b[0m\u001b[0;34m\u001b[0m\u001b[0;34m\u001b[0m\u001b[0m\n",
      "\u001b[0;32m/usr/local/lib/python3.6/dist-packages/pandas/core/indexes/base.py\u001b[0m in \u001b[0;36m_maybe_cast_slice_bound\u001b[0;34m(self, label, side, kind)\u001b[0m\n\u001b[1;32m   3533\u001b[0m         \u001b[0;31m# this is rejected (generally .loc gets you here)\u001b[0m\u001b[0;34m\u001b[0m\u001b[0;34m\u001b[0m\u001b[0m\n\u001b[1;32m   3534\u001b[0m         \u001b[0;32melif\u001b[0m \u001b[0mis_integer\u001b[0m\u001b[0;34m(\u001b[0m\u001b[0mlabel\u001b[0m\u001b[0;34m)\u001b[0m\u001b[0;34m:\u001b[0m\u001b[0;34m\u001b[0m\u001b[0m\n\u001b[0;32m-> 3535\u001b[0;31m             \u001b[0mself\u001b[0m\u001b[0;34m.\u001b[0m\u001b[0m_invalid_indexer\u001b[0m\u001b[0;34m(\u001b[0m\u001b[0;34m'slice'\u001b[0m\u001b[0;34m,\u001b[0m \u001b[0mlabel\u001b[0m\u001b[0;34m)\u001b[0m\u001b[0;34m\u001b[0m\u001b[0m\n\u001b[0m\u001b[1;32m   3536\u001b[0m \u001b[0;34m\u001b[0m\u001b[0m\n\u001b[1;32m   3537\u001b[0m         \u001b[0;32mreturn\u001b[0m \u001b[0mlabel\u001b[0m\u001b[0;34m\u001b[0m\u001b[0m\n",
      "\u001b[0;32m/usr/local/lib/python3.6/dist-packages/pandas/core/indexes/base.py\u001b[0m in \u001b[0;36m_invalid_indexer\u001b[0;34m(self, form, key)\u001b[0m\n\u001b[1;32m   1574\u001b[0m                         \"indexers [{key}] of {kind}\".format(\n\u001b[1;32m   1575\u001b[0m                             \u001b[0mform\u001b[0m\u001b[0;34m=\u001b[0m\u001b[0mform\u001b[0m\u001b[0;34m,\u001b[0m \u001b[0mklass\u001b[0m\u001b[0;34m=\u001b[0m\u001b[0mtype\u001b[0m\u001b[0;34m(\u001b[0m\u001b[0mself\u001b[0m\u001b[0;34m)\u001b[0m\u001b[0;34m,\u001b[0m \u001b[0mkey\u001b[0m\u001b[0;34m=\u001b[0m\u001b[0mkey\u001b[0m\u001b[0;34m,\u001b[0m\u001b[0;34m\u001b[0m\u001b[0m\n\u001b[0;32m-> 1576\u001b[0;31m                             kind=type(key)))\n\u001b[0m\u001b[1;32m   1577\u001b[0m \u001b[0;34m\u001b[0m\u001b[0m\n\u001b[1;32m   1578\u001b[0m     \u001b[0;32mdef\u001b[0m \u001b[0mget_duplicates\u001b[0m\u001b[0;34m(\u001b[0m\u001b[0mself\u001b[0m\u001b[0;34m)\u001b[0m\u001b[0;34m:\u001b[0m\u001b[0;34m\u001b[0m\u001b[0m\n",
      "\u001b[0;31mTypeError\u001b[0m: cannot do slice indexing on <class 'pandas.core.indexes.base.Index'> with these indexers [23] of <class 'int'>"
     ]
    }
   ],
   "source": [
    "print(compl_ser[\"A\":23]) # :("
   ]
  },
  {
   "cell_type": "markdown",
   "metadata": {
    "slideshow": {
     "slide_type": "subslide"
    }
   },
   "source": [
    "## index - следите за ним"
   ]
  },
  {
   "cell_type": "code",
   "execution_count": 46,
   "metadata": {
    "slideshow": {
     "slide_type": "fragment"
    }
   },
   "outputs": [
    {
     "name": "stdout",
     "output_type": "stream",
     "text": [
      "Index([1, (2, 3), 'ind', 3, 'C'], dtype='object')\n"
     ]
    }
   ],
   "source": [
    "print(compl_ser.index)"
   ]
  },
  {
   "cell_type": "code",
   "execution_count": 47,
   "metadata": {
    "scrolled": true,
    "slideshow": {
     "slide_type": "fragment"
    }
   },
   "outputs": [
    {
     "name": "stdout",
     "output_type": "stream",
     "text": [
      "1            T\n",
      "(2, 3)       C\n",
      "ind          A\n",
      "3            G\n",
      "C         what\n",
      "dtype: object\n"
     ]
    }
   ],
   "source": [
    "compl_ser.index = [1, (2, 3), \"ind\", 3, \"C\"]\n",
    "print(compl_ser)"
   ]
  },
  {
   "cell_type": "code",
   "execution_count": 55,
   "metadata": {
    "slideshow": {
     "slide_type": "fragment"
    }
   },
   "outputs": [
    {
     "name": "stdout",
     "output_type": "stream",
     "text": [
      "0    0\n",
      "1    1\n",
      "2    2\n",
      "3    3\n",
      "4    4\n",
      "dtype: int64\n"
     ]
    }
   ],
   "source": [
    "ser1 = pd.Series(range(5), index=range(5))\n",
    "ser2 = pd.Series(range(5), index=range(1, 6))\n",
    "print(ser1)"
   ]
  },
  {
   "cell_type": "code",
   "execution_count": 49,
   "metadata": {
    "slideshow": {
     "slide_type": "fragment"
    }
   },
   "outputs": [
    {
     "data": {
      "text/plain": [
       "0    NaN\n",
       "1    1.0\n",
       "2    3.0\n",
       "3    5.0\n",
       "4    7.0\n",
       "5    NaN\n",
       "dtype: float64"
      ]
     },
     "execution_count": 49,
     "metadata": {},
     "output_type": "execute_result"
    }
   ],
   "source": [
    "ser1 + ser2"
   ]
  },
  {
   "cell_type": "markdown",
   "metadata": {
    "slideshow": {
     "slide_type": "slide"
    }
   },
   "source": [
    "## Dataframe - таблица из Series"
   ]
  },
  {
   "cell_type": "code",
   "execution_count": 112,
   "metadata": {
    "collapsed": true,
    "slideshow": {
     "slide_type": "fragment"
    }
   },
   "outputs": [],
   "source": [
    "gene_df.columns = [\"seqname\", \"source\", \"feature\", \"start\", \"end\",\n",
    "                   \"score\", \"strand\", \"frame\", \"attribute\"]"
   ]
  },
  {
   "cell_type": "code",
   "execution_count": 60,
   "metadata": {
    "slideshow": {
     "slide_type": "fragment"
    }
   },
   "outputs": [
    {
     "data": {
      "text/html": [
       "<div>\n",
       "<style scoped>\n",
       "    .dataframe tbody tr th:only-of-type {\n",
       "        vertical-align: middle;\n",
       "    }\n",
       "\n",
       "    .dataframe tbody tr th {\n",
       "        vertical-align: top;\n",
       "    }\n",
       "\n",
       "    .dataframe thead th {\n",
       "        text-align: right;\n",
       "    }\n",
       "</style>\n",
       "<table border=\"1\" class=\"dataframe\">\n",
       "  <thead>\n",
       "    <tr style=\"text-align: right;\">\n",
       "      <th></th>\n",
       "      <th>seqname</th>\n",
       "      <th>source</th>\n",
       "      <th>feature</th>\n",
       "      <th>start</th>\n",
       "      <th>end</th>\n",
       "      <th>score</th>\n",
       "      <th>strand</th>\n",
       "      <th>frame</th>\n",
       "      <th>attribute</th>\n",
       "    </tr>\n",
       "  </thead>\n",
       "  <tbody>\n",
       "    <tr>\n",
       "      <th>0</th>\n",
       "      <td>1</td>\n",
       "      <td>havana</td>\n",
       "      <td>gene</td>\n",
       "      <td>11869</td>\n",
       "      <td>14409</td>\n",
       "      <td>.</td>\n",
       "      <td>+</td>\n",
       "      <td>.</td>\n",
       "      <td>gene_id \"ENSG00000223972\"; gene_version \"5\"; g...</td>\n",
       "    </tr>\n",
       "    <tr>\n",
       "      <th>1</th>\n",
       "      <td>1</td>\n",
       "      <td>havana</td>\n",
       "      <td>transcript</td>\n",
       "      <td>11869</td>\n",
       "      <td>14409</td>\n",
       "      <td>.</td>\n",
       "      <td>+</td>\n",
       "      <td>.</td>\n",
       "      <td>gene_id \"ENSG00000223972\"; gene_version \"5\"; t...</td>\n",
       "    </tr>\n",
       "    <tr>\n",
       "      <th>2</th>\n",
       "      <td>1</td>\n",
       "      <td>havana</td>\n",
       "      <td>exon</td>\n",
       "      <td>11869</td>\n",
       "      <td>12227</td>\n",
       "      <td>.</td>\n",
       "      <td>+</td>\n",
       "      <td>.</td>\n",
       "      <td>gene_id \"ENSG00000223972\"; gene_version \"5\"; t...</td>\n",
       "    </tr>\n",
       "  </tbody>\n",
       "</table>\n",
       "</div>"
      ],
      "text/plain": [
       "  seqname  source     feature  start    end score strand frame  \\\n",
       "0       1  havana        gene  11869  14409     .      +     .   \n",
       "1       1  havana  transcript  11869  14409     .      +     .   \n",
       "2       1  havana        exon  11869  12227     .      +     .   \n",
       "\n",
       "                                           attribute  \n",
       "0  gene_id \"ENSG00000223972\"; gene_version \"5\"; g...  \n",
       "1  gene_id \"ENSG00000223972\"; gene_version \"5\"; t...  \n",
       "2  gene_id \"ENSG00000223972\"; gene_version \"5\"; t...  "
      ]
     },
     "execution_count": 60,
     "metadata": {},
     "output_type": "execute_result"
    }
   ],
   "source": [
    "gene_df.head(3)"
   ]
  },
  {
   "cell_type": "code",
   "execution_count": 62,
   "metadata": {
    "slideshow": {
     "slide_type": "fragment"
    }
   },
   "outputs": [
    {
     "data": {
      "text/plain": [
       "0          gene\n",
       "1    transcript\n",
       "2          exon\n",
       "Name: feature, dtype: object"
      ]
     },
     "execution_count": 62,
     "metadata": {},
     "output_type": "execute_result"
    }
   ],
   "source": [
    "gene_df[\"feature\"].head(3)"
   ]
  },
  {
   "cell_type": "markdown",
   "metadata": {
    "slideshow": {
     "slide_type": "subslide"
    }
   },
   "source": [
    "## Как взять строку (ген) или строки?"
   ]
  },
  {
   "cell_type": "code",
   "execution_count": 64,
   "metadata": {
    "slideshow": {
     "slide_type": "fragment"
    }
   },
   "outputs": [
    {
     "data": {
      "text/plain": [
       "RangeIndex(start=0, stop=2612843, step=1)"
      ]
     },
     "execution_count": 64,
     "metadata": {},
     "output_type": "execute_result"
    }
   ],
   "source": [
    "gene_df.index"
   ]
  },
  {
   "cell_type": "markdown",
   "metadata": {
    "slideshow": {
     "slide_type": "fragment"
    }
   },
   "source": [
    "pd.DataFrame.iloc - берёт по числовым индексам"
   ]
  },
  {
   "cell_type": "code",
   "execution_count": 71,
   "metadata": {
    "slideshow": {
     "slide_type": "fragment"
    }
   },
   "outputs": [
    {
     "data": {
      "text/plain": [
       "seqname                                                      1\n",
       "source                                                  havana\n",
       "feature                                                   exon\n",
       "start                                                    11869\n",
       "end                                                      12227\n",
       "score                                                        .\n",
       "strand                                                       +\n",
       "frame                                                        .\n",
       "attribute    gene_id \"ENSG00000223972\"; gene_version \"5\"; t...\n",
       "Name: 2, dtype: object"
      ]
     },
     "execution_count": 71,
     "metadata": {},
     "output_type": "execute_result"
    }
   ],
   "source": [
    "gene_df.iloc[2] # одна строка тоже Series"
   ]
  },
  {
   "cell_type": "code",
   "execution_count": 72,
   "metadata": {
    "slideshow": {
     "slide_type": "fragment"
    }
   },
   "outputs": [
    {
     "data": {
      "text/html": [
       "<div>\n",
       "<style scoped>\n",
       "    .dataframe tbody tr th:only-of-type {\n",
       "        vertical-align: middle;\n",
       "    }\n",
       "\n",
       "    .dataframe tbody tr th {\n",
       "        vertical-align: top;\n",
       "    }\n",
       "\n",
       "    .dataframe thead th {\n",
       "        text-align: right;\n",
       "    }\n",
       "</style>\n",
       "<table border=\"1\" class=\"dataframe\">\n",
       "  <thead>\n",
       "    <tr style=\"text-align: right;\">\n",
       "      <th></th>\n",
       "      <th>seqname</th>\n",
       "      <th>source</th>\n",
       "      <th>feature</th>\n",
       "      <th>start</th>\n",
       "      <th>end</th>\n",
       "      <th>score</th>\n",
       "      <th>strand</th>\n",
       "      <th>frame</th>\n",
       "      <th>attribute</th>\n",
       "    </tr>\n",
       "  </thead>\n",
       "  <tbody>\n",
       "    <tr>\n",
       "      <th>2</th>\n",
       "      <td>1</td>\n",
       "      <td>havana</td>\n",
       "      <td>exon</td>\n",
       "      <td>11869</td>\n",
       "      <td>12227</td>\n",
       "      <td>.</td>\n",
       "      <td>+</td>\n",
       "      <td>.</td>\n",
       "      <td>gene_id \"ENSG00000223972\"; gene_version \"5\"; t...</td>\n",
       "    </tr>\n",
       "    <tr>\n",
       "      <th>4</th>\n",
       "      <td>1</td>\n",
       "      <td>havana</td>\n",
       "      <td>exon</td>\n",
       "      <td>13221</td>\n",
       "      <td>14409</td>\n",
       "      <td>.</td>\n",
       "      <td>+</td>\n",
       "      <td>.</td>\n",
       "      <td>gene_id \"ENSG00000223972\"; gene_version \"5\"; t...</td>\n",
       "    </tr>\n",
       "  </tbody>\n",
       "</table>\n",
       "</div>"
      ],
      "text/plain": [
       "  seqname  source feature  start    end score strand frame  \\\n",
       "2       1  havana    exon  11869  12227     .      +     .   \n",
       "4       1  havana    exon  13221  14409     .      +     .   \n",
       "\n",
       "                                           attribute  \n",
       "2  gene_id \"ENSG00000223972\"; gene_version \"5\"; t...  \n",
       "4  gene_id \"ENSG00000223972\"; gene_version \"5\"; t...  "
      ]
     },
     "execution_count": 72,
     "metadata": {},
     "output_type": "execute_result"
    }
   ],
   "source": [
    "gene_df.iloc[2:5:2] # несколько строк - DataFrame"
   ]
  },
  {
   "cell_type": "markdown",
   "metadata": {
    "slideshow": {
     "slide_type": "subslide"
    }
   },
   "source": [
    "pd.DataFrame.loc берёт по ключам"
   ]
  },
  {
   "cell_type": "code",
   "execution_count": 82,
   "metadata": {
    "slideshow": {
     "slide_type": "fragment"
    }
   },
   "outputs": [
    {
     "data": {
      "text/html": [
       "<div>\n",
       "<style scoped>\n",
       "    .dataframe tbody tr th:only-of-type {\n",
       "        vertical-align: middle;\n",
       "    }\n",
       "\n",
       "    .dataframe tbody tr th {\n",
       "        vertical-align: top;\n",
       "    }\n",
       "\n",
       "    .dataframe thead th {\n",
       "        text-align: right;\n",
       "    }\n",
       "</style>\n",
       "<table border=\"1\" class=\"dataframe\">\n",
       "  <thead>\n",
       "    <tr style=\"text-align: right;\">\n",
       "      <th></th>\n",
       "      <th>seqname</th>\n",
       "      <th>source</th>\n",
       "      <th>feature</th>\n",
       "      <th>start</th>\n",
       "      <th>end</th>\n",
       "      <th>score</th>\n",
       "      <th>strand</th>\n",
       "      <th>frame</th>\n",
       "      <th>attribute</th>\n",
       "    </tr>\n",
       "  </thead>\n",
       "  <tbody>\n",
       "    <tr>\n",
       "      <th>0</th>\n",
       "      <td>1</td>\n",
       "      <td>havana</td>\n",
       "      <td>gene</td>\n",
       "      <td>11869</td>\n",
       "      <td>14409</td>\n",
       "      <td>.</td>\n",
       "      <td>+</td>\n",
       "      <td>.</td>\n",
       "      <td>gene_id \"ENSG00000223972\"; gene_version \"5\"; g...</td>\n",
       "    </tr>\n",
       "    <tr>\n",
       "      <th>1</th>\n",
       "      <td>1</td>\n",
       "      <td>havana</td>\n",
       "      <td>transcript</td>\n",
       "      <td>11869</td>\n",
       "      <td>14409</td>\n",
       "      <td>.</td>\n",
       "      <td>+</td>\n",
       "      <td>.</td>\n",
       "      <td>gene_id \"ENSG00000223972\"; gene_version \"5\"; t...</td>\n",
       "    </tr>\n",
       "    <tr>\n",
       "      <th>weird key</th>\n",
       "      <td>1</td>\n",
       "      <td>havana</td>\n",
       "      <td>exon</td>\n",
       "      <td>11869</td>\n",
       "      <td>12227</td>\n",
       "      <td>.</td>\n",
       "      <td>+</td>\n",
       "      <td>.</td>\n",
       "      <td>gene_id \"ENSG00000223972\"; gene_version \"5\"; t...</td>\n",
       "    </tr>\n",
       "  </tbody>\n",
       "</table>\n",
       "</div>"
      ],
      "text/plain": [
       "          seqname  source     feature  start    end score strand frame  \\\n",
       "0               1  havana        gene  11869  14409     .      +     .   \n",
       "1               1  havana  transcript  11869  14409     .      +     .   \n",
       "weird key       1  havana        exon  11869  12227     .      +     .   \n",
       "\n",
       "                                                   attribute  \n",
       "0          gene_id \"ENSG00000223972\"; gene_version \"5\"; g...  \n",
       "1          gene_id \"ENSG00000223972\"; gene_version \"5\"; t...  \n",
       "weird key  gene_id \"ENSG00000223972\"; gene_version \"5\"; t...  "
      ]
     },
     "execution_count": 82,
     "metadata": {},
     "output_type": "execute_result"
    }
   ],
   "source": [
    "new_ind = list(range(len(gene_df)))\n",
    "new_ind[2] = \"weird key\"\n",
    "gene_df.index = new_ind\n",
    "gene_df.head(3)"
   ]
  },
  {
   "cell_type": "code",
   "execution_count": 83,
   "metadata": {
    "slideshow": {
     "slide_type": "fragment"
    }
   },
   "outputs": [
    {
     "data": {
      "text/plain": [
       "seqname                                                      1\n",
       "source                                                  havana\n",
       "feature                                                   exon\n",
       "start                                                    11869\n",
       "end                                                      12227\n",
       "score                                                        .\n",
       "strand                                                       +\n",
       "frame                                                        .\n",
       "attribute    gene_id \"ENSG00000223972\"; gene_version \"5\"; t...\n",
       "Name: weird key, dtype: object"
      ]
     },
     "execution_count": 83,
     "metadata": {},
     "output_type": "execute_result"
    }
   ],
   "source": [
    "gene_df.loc[\"weird key\"]"
   ]
  },
  {
   "cell_type": "markdown",
   "metadata": {
    "slideshow": {
     "slide_type": "subslide"
    }
   },
   "source": [
    "## Как фильтровать данные?"
   ]
  },
  {
   "cell_type": "code",
   "execution_count": 85,
   "metadata": {
    "collapsed": true,
    "slideshow": {
     "slide_type": "fragment"
    }
   },
   "outputs": [],
   "source": [
    "gene_df.index = list(range(len(gene_df)))"
   ]
  },
  {
   "cell_type": "code",
   "execution_count": 113,
   "metadata": {
    "collapsed": true,
    "slideshow": {
     "slide_type": "fragment"
    }
   },
   "outputs": [],
   "source": [
    "gene_df = gene_df[gene_df[\"feature\"] == \"gene\"] # так же - логическим индексом"
   ]
  },
  {
   "cell_type": "code",
   "execution_count": 114,
   "metadata": {
    "slideshow": {
     "slide_type": "fragment"
    }
   },
   "outputs": [
    {
     "data": {
      "text/html": [
       "<div>\n",
       "<style scoped>\n",
       "    .dataframe tbody tr th:only-of-type {\n",
       "        vertical-align: middle;\n",
       "    }\n",
       "\n",
       "    .dataframe tbody tr th {\n",
       "        vertical-align: top;\n",
       "    }\n",
       "\n",
       "    .dataframe thead th {\n",
       "        text-align: right;\n",
       "    }\n",
       "</style>\n",
       "<table border=\"1\" class=\"dataframe\">\n",
       "  <thead>\n",
       "    <tr style=\"text-align: right;\">\n",
       "      <th></th>\n",
       "      <th>seqname</th>\n",
       "      <th>source</th>\n",
       "      <th>feature</th>\n",
       "      <th>start</th>\n",
       "      <th>end</th>\n",
       "      <th>score</th>\n",
       "      <th>strand</th>\n",
       "      <th>frame</th>\n",
       "      <th>attribute</th>\n",
       "    </tr>\n",
       "  </thead>\n",
       "  <tbody>\n",
       "    <tr>\n",
       "      <th>0</th>\n",
       "      <td>1</td>\n",
       "      <td>havana</td>\n",
       "      <td>gene</td>\n",
       "      <td>11869</td>\n",
       "      <td>14409</td>\n",
       "      <td>.</td>\n",
       "      <td>+</td>\n",
       "      <td>.</td>\n",
       "      <td>gene_id \"ENSG00000223972\"; gene_version \"5\"; g...</td>\n",
       "    </tr>\n",
       "    <tr>\n",
       "      <th>12</th>\n",
       "      <td>1</td>\n",
       "      <td>havana</td>\n",
       "      <td>gene</td>\n",
       "      <td>14404</td>\n",
       "      <td>29570</td>\n",
       "      <td>.</td>\n",
       "      <td>-</td>\n",
       "      <td>.</td>\n",
       "      <td>gene_id \"ENSG00000227232\"; gene_version \"5\"; g...</td>\n",
       "    </tr>\n",
       "    <tr>\n",
       "      <th>25</th>\n",
       "      <td>1</td>\n",
       "      <td>mirbase</td>\n",
       "      <td>gene</td>\n",
       "      <td>17369</td>\n",
       "      <td>17436</td>\n",
       "      <td>.</td>\n",
       "      <td>-</td>\n",
       "      <td>.</td>\n",
       "      <td>gene_id \"ENSG00000278267\"; gene_version \"1\"; g...</td>\n",
       "    </tr>\n",
       "  </tbody>\n",
       "</table>\n",
       "</div>"
      ],
      "text/plain": [
       "   seqname   source feature  start    end score strand frame  \\\n",
       "0        1   havana    gene  11869  14409     .      +     .   \n",
       "12       1   havana    gene  14404  29570     .      -     .   \n",
       "25       1  mirbase    gene  17369  17436     .      -     .   \n",
       "\n",
       "                                            attribute  \n",
       "0   gene_id \"ENSG00000223972\"; gene_version \"5\"; g...  \n",
       "12  gene_id \"ENSG00000227232\"; gene_version \"5\"; g...  \n",
       "25  gene_id \"ENSG00000278267\"; gene_version \"1\"; g...  "
      ]
     },
     "execution_count": 114,
     "metadata": {},
     "output_type": "execute_result"
    }
   ],
   "source": [
    "gene_df.head(3)"
   ]
  },
  {
   "cell_type": "markdown",
   "metadata": {
    "slideshow": {
     "slide_type": "subslide"
    }
   },
   "source": [
    "## Как добавить или удалить столбец?"
   ]
  },
  {
   "cell_type": "code",
   "execution_count": 115,
   "metadata": {
    "slideshow": {
     "slide_type": "fragment"
    }
   },
   "outputs": [
    {
     "data": {
      "text/html": [
       "<div>\n",
       "<style scoped>\n",
       "    .dataframe tbody tr th:only-of-type {\n",
       "        vertical-align: middle;\n",
       "    }\n",
       "\n",
       "    .dataframe tbody tr th {\n",
       "        vertical-align: top;\n",
       "    }\n",
       "\n",
       "    .dataframe thead th {\n",
       "        text-align: right;\n",
       "    }\n",
       "</style>\n",
       "<table border=\"1\" class=\"dataframe\">\n",
       "  <thead>\n",
       "    <tr style=\"text-align: right;\">\n",
       "      <th></th>\n",
       "      <th>seqname</th>\n",
       "      <th>source</th>\n",
       "      <th>feature</th>\n",
       "      <th>start</th>\n",
       "      <th>end</th>\n",
       "      <th>score</th>\n",
       "      <th>strand</th>\n",
       "      <th>frame</th>\n",
       "      <th>attribute</th>\n",
       "      <th>new_column</th>\n",
       "    </tr>\n",
       "  </thead>\n",
       "  <tbody>\n",
       "    <tr>\n",
       "      <th>0</th>\n",
       "      <td>1</td>\n",
       "      <td>havana</td>\n",
       "      <td>gene</td>\n",
       "      <td>11869</td>\n",
       "      <td>14409</td>\n",
       "      <td>.</td>\n",
       "      <td>+</td>\n",
       "      <td>.</td>\n",
       "      <td>gene_id \"ENSG00000223972\"; gene_version \"5\"; g...</td>\n",
       "      <td>0.000</td>\n",
       "    </tr>\n",
       "    <tr>\n",
       "      <th>12</th>\n",
       "      <td>1</td>\n",
       "      <td>havana</td>\n",
       "      <td>gene</td>\n",
       "      <td>14404</td>\n",
       "      <td>29570</td>\n",
       "      <td>.</td>\n",
       "      <td>-</td>\n",
       "      <td>.</td>\n",
       "      <td>gene_id \"ENSG00000227232\"; gene_version \"5\"; g...</td>\n",
       "      <td>12.000</td>\n",
       "    </tr>\n",
       "    <tr>\n",
       "      <th>25</th>\n",
       "      <td>1</td>\n",
       "      <td>mirbase</td>\n",
       "      <td>gene</td>\n",
       "      <td>17369</td>\n",
       "      <td>17436</td>\n",
       "      <td>.</td>\n",
       "      <td>-</td>\n",
       "      <td>.</td>\n",
       "      <td>gene_id \"ENSG00000278267\"; gene_version \"1\"; g...</td>\n",
       "      <td>25.000</td>\n",
       "    </tr>\n",
       "  </tbody>\n",
       "</table>\n",
       "</div>"
      ],
      "text/plain": [
       "   seqname   source feature  start    end score strand frame  \\\n",
       "0        1   havana    gene  11869  14409     .      +     .   \n",
       "12       1   havana    gene  14404  29570     .      -     .   \n",
       "25       1  mirbase    gene  17369  17436     .      -     .   \n",
       "\n",
       "                                            attribute  new_column  \n",
       "0   gene_id \"ENSG00000223972\"; gene_version \"5\"; g...       0.000  \n",
       "12  gene_id \"ENSG00000227232\"; gene_version \"5\"; g...      12.000  \n",
       "25  gene_id \"ENSG00000278267\"; gene_version \"1\"; g...      25.000  "
      ]
     },
     "execution_count": 115,
     "metadata": {},
     "output_type": "execute_result"
    }
   ],
   "source": [
    "new_column = pd.Series(range(len(gene_df)))\n",
    "gene_df[\"new_column\"] = new_column\n",
    "gene_df.head(3)"
   ]
  },
  {
   "cell_type": "code",
   "execution_count": 116,
   "metadata": {
    "collapsed": true,
    "slideshow": {
     "slide_type": "fragment"
    }
   },
   "outputs": [],
   "source": [
    "del gene_df[\"new_column\"]"
   ]
  },
  {
   "cell_type": "markdown",
   "metadata": {
    "slideshow": {
     "slide_type": "subslide"
    }
   },
   "source": [
    "## Давайте посмотрим, какой длины у человека гены"
   ]
  },
  {
   "cell_type": "code",
   "execution_count": 117,
   "metadata": {
    "collapsed": true,
    "slideshow": {
     "slide_type": "fragment"
    }
   },
   "outputs": [],
   "source": [
    "gene_df[\"lengths\"] = gene_df[\"end\"] - gene_df[\"start\"] + 1"
   ]
  },
  {
   "cell_type": "code",
   "execution_count": 120,
   "metadata": {
    "collapsed": true,
    "slideshow": {
     "slide_type": "skip"
    }
   },
   "outputs": [],
   "source": [
    "pd.set_option('display.float_format', lambda x: '%.2f' % x)"
   ]
  },
  {
   "cell_type": "code",
   "execution_count": 121,
   "metadata": {
    "slideshow": {
     "slide_type": "fragment"
    }
   },
   "outputs": [
    {
     "data": {
      "text/plain": [
       "count     58302.00\n",
       "mean      30585.66\n",
       "std       88629.13\n",
       "min           8.00\n",
       "25%         526.00\n",
       "50%        3095.50\n",
       "75%       23223.00\n",
       "max     2473537.00\n",
       "Name: lengths, dtype: float64"
      ]
     },
     "execution_count": 121,
     "metadata": {},
     "output_type": "execute_result"
    }
   ],
   "source": [
    "gene_df[\"lengths\"].describe()"
   ]
  },
  {
   "cell_type": "code",
   "execution_count": 123,
   "metadata": {
    "slideshow": {
     "slide_type": "fragment"
    }
   },
   "outputs": [
    {
     "data": {
      "text/plain": [
       "<matplotlib.axes._subplots.AxesSubplot at 0x7fe4ee1be400>"
      ]
     },
     "execution_count": 123,
     "metadata": {},
     "output_type": "execute_result"
    },
    {
     "data": {
      "image/png": "[encoded data removed]",
      "text/plain": [
       "<matplotlib.figure.Figure at 0x7fe4ee1bba58>"
      ]
     },
     "metadata": {},
     "output_type": "display_data"
    }
   ],
   "source": [
    "gene_df[\"lengths\"].hist()"
   ]
  },
  {
   "cell_type": "markdown",
   "metadata": {},
   "source": [
    "Такое себе распределение :)"
   ]
  },
  {
   "cell_type": "markdown",
   "metadata": {
    "slideshow": {
     "slide_type": "subslide"
    }
   },
   "source": [
    "## Давайте возьмём..."
   ]
  },
  {
   "cell_type": "markdown",
   "metadata": {
    "slideshow": {
     "slide_type": "fragment"
    }
   },
   "source": [
    "## логарифм"
   ]
  },
  {
   "cell_type": "code",
   "execution_count": 158,
   "metadata": {
    "collapsed": true,
    "slideshow": {
     "slide_type": "fragment"
    }
   },
   "outputs": [],
   "source": [
    "# можно использовать векторизованные функции NumPy\n",
    "log_lengths = pd.Series(np.log10(gene_df[\"lengths\"]))"
   ]
  },
  {
   "cell_type": "code",
   "execution_count": 159,
   "metadata": {
    "slideshow": {
     "slide_type": "fragment"
    }
   },
   "outputs": [
    {
     "data": {
      "text/plain": [
       "Text(0.5,0,'Десятичный логарифм длины гена')"
      ]
     },
     "execution_count": 159,
     "metadata": {},
     "output_type": "execute_result"
    },
    {
     "data": {
      "image/png": "[encoded data removed]",
      "text/plain": [
       "<matplotlib.figure.Figure at 0x7fe55aae1278>"
      ]
     },
     "metadata": {},
     "output_type": "display_data"
    }
   ],
   "source": [
    "log_lengths.hist()\n",
    "plt.xlabel(\"Десятичный логарифм длины гена\", size=15)"
   ]
  },
  {
   "cell_type": "markdown",
   "metadata": {
    "slideshow": {
     "slide_type": "subslide"
    }
   },
   "source": [
    "## Как извлечь Ensembl IDs?"
   ]
  },
  {
   "cell_type": "code",
   "execution_count": 124,
   "metadata": {
    "slideshow": {
     "slide_type": "fragment"
    }
   },
   "outputs": [
    {
     "data": {
      "text/html": [
       "<div>\n",
       "<style scoped>\n",
       "    .dataframe tbody tr th:only-of-type {\n",
       "        vertical-align: middle;\n",
       "    }\n",
       "\n",
       "    .dataframe tbody tr th {\n",
       "        vertical-align: top;\n",
       "    }\n",
       "\n",
       "    .dataframe thead th {\n",
       "        text-align: right;\n",
       "    }\n",
       "</style>\n",
       "<table border=\"1\" class=\"dataframe\">\n",
       "  <thead>\n",
       "    <tr style=\"text-align: right;\">\n",
       "      <th></th>\n",
       "      <th>seqname</th>\n",
       "      <th>source</th>\n",
       "      <th>feature</th>\n",
       "      <th>start</th>\n",
       "      <th>end</th>\n",
       "      <th>score</th>\n",
       "      <th>strand</th>\n",
       "      <th>frame</th>\n",
       "      <th>attribute</th>\n",
       "      <th>lengths</th>\n",
       "    </tr>\n",
       "  </thead>\n",
       "  <tbody>\n",
       "    <tr>\n",
       "      <th>0</th>\n",
       "      <td>1</td>\n",
       "      <td>havana</td>\n",
       "      <td>gene</td>\n",
       "      <td>11869</td>\n",
       "      <td>14409</td>\n",
       "      <td>.</td>\n",
       "      <td>+</td>\n",
       "      <td>.</td>\n",
       "      <td>gene_id \"ENSG00000223972\"; gene_version \"5\"; g...</td>\n",
       "      <td>2541</td>\n",
       "    </tr>\n",
       "    <tr>\n",
       "      <th>12</th>\n",
       "      <td>1</td>\n",
       "      <td>havana</td>\n",
       "      <td>gene</td>\n",
       "      <td>14404</td>\n",
       "      <td>29570</td>\n",
       "      <td>.</td>\n",
       "      <td>-</td>\n",
       "      <td>.</td>\n",
       "      <td>gene_id \"ENSG00000227232\"; gene_version \"5\"; g...</td>\n",
       "      <td>15167</td>\n",
       "    </tr>\n",
       "    <tr>\n",
       "      <th>25</th>\n",
       "      <td>1</td>\n",
       "      <td>mirbase</td>\n",
       "      <td>gene</td>\n",
       "      <td>17369</td>\n",
       "      <td>17436</td>\n",
       "      <td>.</td>\n",
       "      <td>-</td>\n",
       "      <td>.</td>\n",
       "      <td>gene_id \"ENSG00000278267\"; gene_version \"1\"; g...</td>\n",
       "      <td>68</td>\n",
       "    </tr>\n",
       "  </tbody>\n",
       "</table>\n",
       "</div>"
      ],
      "text/plain": [
       "   seqname   source feature  start    end score strand frame  \\\n",
       "0        1   havana    gene  11869  14409     .      +     .   \n",
       "12       1   havana    gene  14404  29570     .      -     .   \n",
       "25       1  mirbase    gene  17369  17436     .      -     .   \n",
       "\n",
       "                                            attribute  lengths  \n",
       "0   gene_id \"ENSG00000223972\"; gene_version \"5\"; g...     2541  \n",
       "12  gene_id \"ENSG00000227232\"; gene_version \"5\"; g...    15167  \n",
       "25  gene_id \"ENSG00000278267\"; gene_version \"1\"; g...       68  "
      ]
     },
     "execution_count": 124,
     "metadata": {},
     "output_type": "execute_result"
    }
   ],
   "source": [
    "gene_df.head(3)"
   ]
  },
  {
   "cell_type": "code",
   "execution_count": 146,
   "metadata": {
    "collapsed": true,
    "slideshow": {
     "slide_type": "subslide"
    }
   },
   "outputs": [],
   "source": [
    "import re\n",
    "def get_id(string):\n",
    "    regexp = re.compile(r\"ENSG[0-9]+\")\n",
    "    match = regexp.search(string)\n",
    "    start, end = match.start(), match.end()\n",
    "    return string[start:end]"
   ]
  },
  {
   "cell_type": "code",
   "execution_count": 147,
   "metadata": {
    "collapsed": true,
    "slideshow": {
     "slide_type": "fragment"
    }
   },
   "outputs": [],
   "source": [
    "gene_df[\"ensembl_id\"] = gene_df[\"attribute\"].apply(get_id)"
   ]
  },
  {
   "cell_type": "code",
   "execution_count": 148,
   "metadata": {
    "slideshow": {
     "slide_type": "fragment"
    }
   },
   "outputs": [
    {
     "data": {
      "text/html": [
       "<div>\n",
       "<style scoped>\n",
       "    .dataframe tbody tr th:only-of-type {\n",
       "        vertical-align: middle;\n",
       "    }\n",
       "\n",
       "    .dataframe tbody tr th {\n",
       "        vertical-align: top;\n",
       "    }\n",
       "\n",
       "    .dataframe thead th {\n",
       "        text-align: right;\n",
       "    }\n",
       "</style>\n",
       "<table border=\"1\" class=\"dataframe\">\n",
       "  <thead>\n",
       "    <tr style=\"text-align: right;\">\n",
       "      <th></th>\n",
       "      <th>seqname</th>\n",
       "      <th>source</th>\n",
       "      <th>feature</th>\n",
       "      <th>start</th>\n",
       "      <th>end</th>\n",
       "      <th>score</th>\n",
       "      <th>strand</th>\n",
       "      <th>frame</th>\n",
       "      <th>attribute</th>\n",
       "      <th>lengths</th>\n",
       "      <th>ensembl_id</th>\n",
       "    </tr>\n",
       "  </thead>\n",
       "  <tbody>\n",
       "    <tr>\n",
       "      <th>0</th>\n",
       "      <td>1</td>\n",
       "      <td>havana</td>\n",
       "      <td>gene</td>\n",
       "      <td>11869</td>\n",
       "      <td>14409</td>\n",
       "      <td>.</td>\n",
       "      <td>+</td>\n",
       "      <td>.</td>\n",
       "      <td>gene_id \"ENSG00000223972\"; gene_version \"5\"; g...</td>\n",
       "      <td>2541</td>\n",
       "      <td>ENSG00000223972</td>\n",
       "    </tr>\n",
       "    <tr>\n",
       "      <th>12</th>\n",
       "      <td>1</td>\n",
       "      <td>havana</td>\n",
       "      <td>gene</td>\n",
       "      <td>14404</td>\n",
       "      <td>29570</td>\n",
       "      <td>.</td>\n",
       "      <td>-</td>\n",
       "      <td>.</td>\n",
       "      <td>gene_id \"ENSG00000227232\"; gene_version \"5\"; g...</td>\n",
       "      <td>15167</td>\n",
       "      <td>ENSG00000227232</td>\n",
       "    </tr>\n",
       "    <tr>\n",
       "      <th>25</th>\n",
       "      <td>1</td>\n",
       "      <td>mirbase</td>\n",
       "      <td>gene</td>\n",
       "      <td>17369</td>\n",
       "      <td>17436</td>\n",
       "      <td>.</td>\n",
       "      <td>-</td>\n",
       "      <td>.</td>\n",
       "      <td>gene_id \"ENSG00000278267\"; gene_version \"1\"; g...</td>\n",
       "      <td>68</td>\n",
       "      <td>ENSG00000278267</td>\n",
       "    </tr>\n",
       "  </tbody>\n",
       "</table>\n",
       "</div>"
      ],
      "text/plain": [
       "   seqname   source feature  start    end score strand frame  \\\n",
       "0        1   havana    gene  11869  14409     .      +     .   \n",
       "12       1   havana    gene  14404  29570     .      -     .   \n",
       "25       1  mirbase    gene  17369  17436     .      -     .   \n",
       "\n",
       "                                            attribute  lengths  \\\n",
       "0   gene_id \"ENSG00000223972\"; gene_version \"5\"; g...     2541   \n",
       "12  gene_id \"ENSG00000227232\"; gene_version \"5\"; g...    15167   \n",
       "25  gene_id \"ENSG00000278267\"; gene_version \"1\"; g...       68   \n",
       "\n",
       "         ensembl_id  \n",
       "0   ENSG00000223972  \n",
       "12  ENSG00000227232  \n",
       "25  ENSG00000278267  "
      ]
     },
     "execution_count": 148,
     "metadata": {},
     "output_type": "execute_result"
    }
   ],
   "source": [
    "gene_df.head(3)"
   ]
  },
  {
   "cell_type": "markdown",
   "metadata": {
    "slideshow": {
     "slide_type": "slide"
    }
   },
   "source": [
    "## Ещё несколько полезных функций "
   ]
  },
  {
   "cell_type": "markdown",
   "metadata": {
    "slideshow": {
     "slide_type": "fragment"
    }
   },
   "source": [
    "- gene_df.fillna(value=\"it was NaN\") - заменяет NaNы на одно значение\n",
    "- gene_df.drop_duplicates() - удаляет дубликаты\n",
    "- gene_df.replace(to_replace, value) - заменяет все to_replace на value\n",
    "- gene_df.sample(n) - случайно выбирает n строк из DataFrame\n",
    "- gene_df.groupby(by) - группирует значения по столбцу by\n",
    "- pd.merge - склеивает две таблицы по столбцу\n",
    "- и ещё тысячи их"
   ]
  },
  {
   "cell_type": "markdown",
   "metadata": {
    "slideshow": {
     "slide_type": "slide"
    }
   },
   "source": [
    "## Ключевые моменты по Pandas"
   ]
  },
  {
   "cell_type": "markdown",
   "metadata": {
    "slideshow": {
     "slide_type": "fragment"
    }
   },
   "source": [
    "- Pandas основан на NumPy: индексация, векторизация и т.д.\n",
    "- Можно читать данные кучи форматов: pd.read_csv, _json, _pickle, _excel и т.д.\n",
    "- Выравнивание по индексу - следите за этим\n",
    "- Удобная описательная статистика и базовая визуализация\n",
    "- .apply вместо векторизованных функций\n",
    "- Но можно использовать функции NumPy\n",
    "- Pandas огромный и очень мощный!"
   ]
  }
 ],
 "metadata": {
  "celltoolbar": "Slideshow",
  "kernelspec": {
   "display_name": "Python 3",
   "language": "python",
   "name": "python3"
  },
  "language_info": {
   "codemirror_mode": {
    "name": "ipython",
    "version": 3
   },
   "file_extension": ".py",
   "mimetype": "text/x-python",
   "name": "python",
   "nbconvert_exporter": "python",
   "pygments_lexer": "ipython3",
   "version": "3.7.3"
  }
 },
 "nbformat": 4,
 "nbformat_minor": 1
}
