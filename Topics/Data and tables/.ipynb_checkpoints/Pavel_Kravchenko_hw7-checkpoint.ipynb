{
 "cells": [
  {
   "cell_type": "code",
   "execution_count": 1,
   "metadata": {
    "collapsed": true
   },
   "outputs": [],
   "source": [
    "import numpy as np\n",
    "import pandas as pd\n",
    "import scipy.stats as st\n",
    "from __future__ import print_function\n",
    "import scipy.stats as st\n",
    "from pylab import *"
   ]
  },
  {
   "cell_type": "markdown",
   "metadata": {},
   "source": [
    "Вам предоставлено 2 таблички - uniprot.tab и tfs.txt. В первой табличке сопоставлены символы генов (Ensembl ID) и наборы идентификаторов Uniprot (Uniprot IDs), одному гену соответствует несколько белковых продуктов - идентификаторы записаны через пробел. Для каждого гена (не белкового продукта) указана длина в нуклеотидах (length). Во втором файле указаны идентификаторы Uniprot, соответствующие транскрипционным факторам, остальные столбцы не нужны."
   ]
  },
  {
   "cell_type": "markdown",
   "metadata": {},
   "source": [
    "Прочитайте таблички в pandas DataFrame'ы, удалите ненужные столбцы ** (0.5 балла) **"
   ]
  },
  {
   "cell_type": "code",
   "execution_count": 2,
   "metadata": {},
   "outputs": [
    {
     "name": "stdout",
     "output_type": "stream",
     "text": [
      "[['ENSG00000000003' 'A0A087WYV6_HUMAN A0A087WZU5_HUMAN TSN6_HUMAN'\n",
      "  17.790000339114584]\n",
      " ['ENSG00000000005' 'TNMD_HUMAN' 17.222239796120387]\n",
      " ['ENSG00000000419' 'H0Y368_HUMAN DPM1_HUMAN Q5QPJ9_HUMAN Q5QPK2_HUMAN'\n",
      "  21.94966357899811]\n",
      " ...\n",
      " ['ENSG00000284723' 'A0A286YFL9_HUMAN OR8S1_HUMAN' nan]\n",
      " ['ENSG00000284725' 'A0A286YF77_HUMAN' nan]\n",
      " ['ENSG00000284732' 'A0A286YEX6_HUMAN A0A286YF13_HUMAN' 6.592141490833582]]\n"
     ]
    },
    {
     "data": {
      "text/html": [
       "<div>\n",
       "<style>\n",
       "    .dataframe thead tr:only-child th {\n",
       "        text-align: right;\n",
       "    }\n",
       "\n",
       "    .dataframe thead th {\n",
       "        text-align: left;\n",
       "    }\n",
       "\n",
       "    .dataframe tbody tr th {\n",
       "        vertical-align: top;\n",
       "    }\n",
       "</style>\n",
       "<table border=\"1\" class=\"dataframe\">\n",
       "  <thead>\n",
       "    <tr style=\"text-align: right;\">\n",
       "      <th></th>\n",
       "      <th>1</th>\n",
       "    </tr>\n",
       "  </thead>\n",
       "  <tbody>\n",
       "    <tr>\n",
       "      <th>0</th>\n",
       "      <td>CMTA1_HUMAN</td>\n",
       "    </tr>\n",
       "    <tr>\n",
       "      <th>1</th>\n",
       "      <td>ZHX2_HUMAN</td>\n",
       "    </tr>\n",
       "    <tr>\n",
       "      <th>2</th>\n",
       "      <td>ZFP37_HUMAN</td>\n",
       "    </tr>\n",
       "    <tr>\n",
       "      <th>3</th>\n",
       "      <td>GMEB1_HUMAN</td>\n",
       "    </tr>\n",
       "    <tr>\n",
       "      <th>4</th>\n",
       "      <td>SOX21_HUMAN</td>\n",
       "    </tr>\n",
       "  </tbody>\n",
       "</table>\n",
       "</div>"
      ],
      "text/plain": [
       "             1\n",
       "0  CMTA1_HUMAN\n",
       "1   ZHX2_HUMAN\n",
       "2  ZFP37_HUMAN\n",
       "3  GMEB1_HUMAN\n",
       "4  SOX21_HUMAN"
      ]
     },
     "execution_count": 2,
     "metadata": {},
     "output_type": "execute_result"
    }
   ],
   "source": [
    "uniprot = pd.read_csv(\"uniprot.tab\", comment=\"#\", sep=\"\\t\")\n",
    "tfs = pd.read_csv(\"tfs.txt\", comment=\"#\", sep=\"\\t\", header=None)\n",
    "uniprot.columns = [\"Ensembl ID\", \"Uniprot IDs\", \"Length\"]\n",
    "\n",
    "uniprot_arr = np.array(uniprot)\n",
    "tfs_arr = np.array(tfs)\n",
    "\n",
    "\n",
    "print(uniprot_arr)\n",
    "#print(tfs_arr[:, 0])\n",
    "\n",
    "\n",
    "\n",
    "del tfs[2]\n",
    "del tfs[0]\n",
    "tfs.head(5)"
   ]
  },
  {
   "cell_type": "markdown",
   "metadata": {},
   "source": [
    "В столбце lengths есть пропущенные значения. Сделайте с ними что-то одно из следующего: удалите соответствующие строки **(0.5 балла)**, замените средним **(1 балл)**, медианой **(1 балл)** или модой **(1 балл)** непропущенных значений. За это задание можно получить **максимум 1 балл**."
   ]
  },
  {
   "cell_type": "code",
   "execution_count": 309,
   "metadata": {},
   "outputs": [
    {
     "data": {
      "text/html": [
       "<div>\n",
       "<style>\n",
       "    .dataframe thead tr:only-child th {\n",
       "        text-align: right;\n",
       "    }\n",
       "\n",
       "    .dataframe thead th {\n",
       "        text-align: left;\n",
       "    }\n",
       "\n",
       "    .dataframe tbody tr th {\n",
       "        vertical-align: top;\n",
       "    }\n",
       "</style>\n",
       "<table border=\"1\" class=\"dataframe\">\n",
       "  <thead>\n",
       "    <tr style=\"text-align: right;\">\n",
       "      <th></th>\n",
       "      <th>Ensembl ID</th>\n",
       "      <th>Uniprot IDs</th>\n",
       "      <th>Length</th>\n",
       "    </tr>\n",
       "  </thead>\n",
       "  <tbody>\n",
       "    <tr>\n",
       "      <th>0</th>\n",
       "      <td>ENSG00000000003</td>\n",
       "      <td>A0A087WYV6_HUMAN A0A087WZU5_HUMAN TSN6_HUMAN</td>\n",
       "      <td>17.790000</td>\n",
       "    </tr>\n",
       "    <tr>\n",
       "      <th>1</th>\n",
       "      <td>ENSG00000000005</td>\n",
       "      <td>TNMD_HUMAN</td>\n",
       "      <td>17.222240</td>\n",
       "    </tr>\n",
       "    <tr>\n",
       "      <th>2</th>\n",
       "      <td>ENSG00000000419</td>\n",
       "      <td>H0Y368_HUMAN DPM1_HUMAN Q5QPJ9_HUMAN Q5QPK2_HUMAN</td>\n",
       "      <td>21.949664</td>\n",
       "    </tr>\n",
       "    <tr>\n",
       "      <th>3</th>\n",
       "      <td>ENSG00000000457</td>\n",
       "      <td>PACE1_HUMAN X6RHX1_HUMAN</td>\n",
       "      <td>19.466659</td>\n",
       "    </tr>\n",
       "    <tr>\n",
       "      <th>4</th>\n",
       "      <td>ENSG00000000460</td>\n",
       "      <td>A0A1B0GTJ9_HUMAN A0A1B0GUP7_HUMAN A0A1B0GV14_H...</td>\n",
       "      <td>19.389773</td>\n",
       "    </tr>\n",
       "  </tbody>\n",
       "</table>\n",
       "</div>"
      ],
      "text/plain": [
       "        Ensembl ID                                        Uniprot IDs  \\\n",
       "0  ENSG00000000003       A0A087WYV6_HUMAN A0A087WZU5_HUMAN TSN6_HUMAN   \n",
       "1  ENSG00000000005                                         TNMD_HUMAN   \n",
       "2  ENSG00000000419  H0Y368_HUMAN DPM1_HUMAN Q5QPJ9_HUMAN Q5QPK2_HUMAN   \n",
       "3  ENSG00000000457                           PACE1_HUMAN X6RHX1_HUMAN   \n",
       "4  ENSG00000000460  A0A1B0GTJ9_HUMAN A0A1B0GUP7_HUMAN A0A1B0GV14_H...   \n",
       "\n",
       "      Length  \n",
       "0  17.790000  \n",
       "1  17.222240  \n",
       "2  21.949664  \n",
       "3  19.466659  \n",
       "4  19.389773  "
      ]
     },
     "execution_count": 309,
     "metadata": {},
     "output_type": "execute_result"
    }
   ],
   "source": [
    "uniprot.head(5)"
   ]
  },
  {
   "cell_type": "code",
   "execution_count": 3,
   "metadata": {},
   "outputs": [
    {
     "name": "stdout",
     "output_type": "stream",
     "text": [
      "[17.79000034 17.2222398  21.94966358 ...         nan         nan\n",
      "  6.59214149]\n",
      "0\n",
      "[17.79000034         nan 21.94966358 ...         nan         nan\n",
      "  6.59214149]\n",
      "1001\n",
      "[17.79000034 19.92204537 21.94966358 ... 19.92204537 19.92204537\n",
      "  6.59214149]\n"
     ]
    }
   ],
   "source": [
    "def nan_to_mean(arr):\n",
    "    nan_ind = np.isnan(arr)\n",
    "    print(sum(nan_ind))\n",
    "    arr[nan_ind] = np.mean(arr[~nan_ind])\n",
    "\n",
    "ar = uniprot_arr[:, 2].astype(np.float)\n",
    "print(ar)\n",
    "print(sum(ar == np.nan))\n",
    "#There are no nan in the arrow \n",
    "\n",
    "ar[1] = \"nan\"\n",
    "print(ar)\n",
    "\n",
    "nan_to_mean(ar)\n",
    "print(ar)"
   ]
  },
  {
   "cell_type": "markdown",
   "metadata": {},
   "source": [
    "Приведите разумный аргумент за то, что каким-то из этих способов правильно было избавиться от пропущенных значений **(от 0.5 до 1 балла) **"
   ]
  },
  {
   "cell_type": "markdown",
   "metadata": {
    "collapsed": true
   },
   "source": [
    "Лучше всего заменять медианой, так как в данных могут присутствовать выбросы, портящие среднее. Мод может быть несколько, если распределение отклоняется от близкого к нормальному."
   ]
  },
  {
   "cell_type": "markdown",
   "metadata": {},
   "source": [
    "Некто (видимо, Гринч) изменил значения длин генов на (квадраты десятичных логарифмов длин + 0.33), измените столбец с длинами так, чтобы в нём были записаны действительно длины. **(1 балл)**"
   ]
  },
  {
   "cell_type": "code",
   "execution_count": 4,
   "metadata": {},
   "outputs": [
    {
     "name": "stdout",
     "output_type": "stream",
     "text": [
      "[17.79000034 19.92204537 21.94966358 ... 19.92204537 19.92204537\n",
      "  6.59214149]\n",
      "[11.28654822 11.95102836 12.54038776 ... 11.95102836 11.95102836\n",
      "  6.5565368 ]\n"
     ]
    }
   ],
   "source": [
    "print(ar)\n",
    "\n",
    "lengths = (np.log(ar)**2) + 3\n",
    "\n",
    "print(lengths)"
   ]
  },
  {
   "cell_type": "markdown",
   "metadata": {},
   "source": [
    "Также Гринч (или, возможно, коллабораторы или научный руководитель) поменял местами длины нечётных по счёту генов на длины чётных и наоборот, поменяйте их, пожалуйста, обратно. **(1.5 балла)**"
   ]
  },
  {
   "cell_type": "code",
   "execution_count": 21,
   "metadata": {},
   "outputs": [
    {
     "name": "stdout",
     "output_type": "stream",
     "text": [
      "0\n"
     ]
    }
   ],
   "source": [
    "\n",
    "lengths = list(lengths)\n",
    "#print(uniprot[\"Length\"][1:])\n",
    "even_number = lengths[::2]\n",
    "#print(even_number)\n",
    "even = pd.Series(even_number, index=range(1, len(lengths), 2))\n",
    "#print(1, even)\n",
    "odd_number = lengths[1::2]\n",
    "#print(odd_number)\n",
    "odd = pd.Series(odd_number, index=range(0, len(lengths), 2))\n",
    "#print(2, odd)\n",
    "modif = odd.combine(even, lambda x, y: x if pd.isnull(y) else y)\n",
    "\n",
    "del uniprot[\"Length\"]\n",
    "uniprot[\"Length\"] = modif\n",
    "\n",
    "print(sum(uniprot[\"Length\"] == np.nan))\n"
   ]
  },
  {
   "cell_type": "code",
   "execution_count": 338,
   "metadata": {},
   "outputs": [
    {
     "data": {
      "text/html": [
       "<div>\n",
       "<style>\n",
       "    .dataframe thead tr:only-child th {\n",
       "        text-align: right;\n",
       "    }\n",
       "\n",
       "    .dataframe thead th {\n",
       "        text-align: left;\n",
       "    }\n",
       "\n",
       "    .dataframe tbody tr th {\n",
       "        vertical-align: top;\n",
       "    }\n",
       "</style>\n",
       "<table border=\"1\" class=\"dataframe\">\n",
       "  <thead>\n",
       "    <tr style=\"text-align: right;\">\n",
       "      <th></th>\n",
       "      <th>Ensembl ID</th>\n",
       "      <th>Uniprot IDs</th>\n",
       "      <th>Length</th>\n",
       "    </tr>\n",
       "  </thead>\n",
       "  <tbody>\n",
       "    <tr>\n",
       "      <th>0</th>\n",
       "      <td>ENSG00000000003</td>\n",
       "      <td>A0A087WYV6_HUMAN A0A087WZU5_HUMAN TSN6_HUMAN</td>\n",
       "      <td>11.951028</td>\n",
       "    </tr>\n",
       "    <tr>\n",
       "      <th>1</th>\n",
       "      <td>ENSG00000000005</td>\n",
       "      <td>TNMD_HUMAN</td>\n",
       "      <td>11.286548</td>\n",
       "    </tr>\n",
       "    <tr>\n",
       "      <th>2</th>\n",
       "      <td>ENSG00000000419</td>\n",
       "      <td>H0Y368_HUMAN DPM1_HUMAN Q5QPJ9_HUMAN Q5QPK2_HUMAN</td>\n",
       "      <td>11.813199</td>\n",
       "    </tr>\n",
       "    <tr>\n",
       "      <th>3</th>\n",
       "      <td>ENSG00000000457</td>\n",
       "      <td>PACE1_HUMAN X6RHX1_HUMAN</td>\n",
       "      <td>12.540388</td>\n",
       "    </tr>\n",
       "    <tr>\n",
       "      <th>4</th>\n",
       "      <td>ENSG00000000460</td>\n",
       "      <td>A0A1B0GTJ9_HUMAN A0A1B0GUP7_HUMAN A0A1B0GV14_H...</td>\n",
       "      <td>14.161732</td>\n",
       "    </tr>\n",
       "    <tr>\n",
       "      <th>5</th>\n",
       "      <td>ENSG00000000938</td>\n",
       "      <td>FGR_HUMAN Q5TGY6_HUMAN</td>\n",
       "      <td>11.789717</td>\n",
       "    </tr>\n",
       "    <tr>\n",
       "      <th>6</th>\n",
       "      <td>ENSG00000000971</td>\n",
       "      <td>A0A0D9SG88_HUMAN CFAH_HUMAN Q5TFM2_HUMAN</td>\n",
       "      <td>13.396164</td>\n",
       "    </tr>\n",
       "    <tr>\n",
       "      <th>7</th>\n",
       "      <td>ENSG00000001036</td>\n",
       "      <td>Q7Z6V2_HUMAN FUCO2_HUMAN</td>\n",
       "      <td>11.418463</td>\n",
       "    </tr>\n",
       "    <tr>\n",
       "      <th>8</th>\n",
       "      <td>ENSG00000001084</td>\n",
       "      <td>A0A0C4DGB2_HUMAN D6R959_HUMAN D6REX4_HUMAN D6R...</td>\n",
       "      <td>13.643836</td>\n",
       "    </tr>\n",
       "    <tr>\n",
       "      <th>9</th>\n",
       "      <td>ENSG00000001167</td>\n",
       "      <td>NFYA_HUMAN</td>\n",
       "      <td>11.965883</td>\n",
       "    </tr>\n",
       "    <tr>\n",
       "      <th>10</th>\n",
       "      <td>ENSG00000001460</td>\n",
       "      <td>H0Y4J3_HUMAN STPG1_HUMAN Q5TH77_HUMAN</td>\n",
       "      <td>12.873841</td>\n",
       "    </tr>\n",
       "    <tr>\n",
       "      <th>11</th>\n",
       "      <td>ENSG00000001461</td>\n",
       "      <td>A6NN97_HUMAN H0Y4I9_HUMAN NPAL3_HUMAN</td>\n",
       "      <td>12.820845</td>\n",
       "    </tr>\n",
       "    <tr>\n",
       "      <th>12</th>\n",
       "      <td>ENSG00000001497</td>\n",
       "      <td>LAS1L_HUMAN R4GNF7_HUMAN</td>\n",
       "      <td>11.951028</td>\n",
       "    </tr>\n",
       "    <tr>\n",
       "      <th>13</th>\n",
       "      <td>ENSG00000001561</td>\n",
       "      <td>ENPP4_HUMAN</td>\n",
       "      <td>11.406401</td>\n",
       "    </tr>\n",
       "    <tr>\n",
       "      <th>14</th>\n",
       "      <td>ENSG00000001617</td>\n",
       "      <td>C9IYS6_HUMAN C9J1V2_HUMAN C9J4H5_HUMAN C9JPG5_...</td>\n",
       "      <td>12.230729</td>\n",
       "    </tr>\n",
       "    <tr>\n",
       "      <th>15</th>\n",
       "      <td>ENSG00000001626</td>\n",
       "      <td>C9J6L5_HUMAN E7EPB6_HUMAN H0Y8A9_HUMAN M0QYZ3_...</td>\n",
       "      <td>14.447506</td>\n",
       "    </tr>\n",
       "    <tr>\n",
       "      <th>16</th>\n",
       "      <td>ENSG00000001629</td>\n",
       "      <td>C9JZ63_HUMAN H7C0S0_HUMAN H7C2L9_HUMAN H7C2V2_...</td>\n",
       "      <td>13.929183</td>\n",
       "    </tr>\n",
       "    <tr>\n",
       "      <th>17</th>\n",
       "      <td>ENSG00000001630</td>\n",
       "      <td>A0A0C4DFL7_HUMAN C9IYR8_HUMAN H7C0D0_HUMAN CP5...</td>\n",
       "      <td>12.116287</td>\n",
       "    </tr>\n",
       "    <tr>\n",
       "      <th>18</th>\n",
       "      <td>ENSG00000001631</td>\n",
       "      <td>A0A0C4DG23_HUMAN C9J3W7_HUMAN C9J718_HUMAN C9J...</td>\n",
       "      <td>12.603744</td>\n",
       "    </tr>\n",
       "    <tr>\n",
       "      <th>19</th>\n",
       "      <td>ENSG00000002016</td>\n",
       "      <td>E9PF95_HUMAN F5GX32_HUMAN F5GX95_HUMAN F5H1K5_...</td>\n",
       "      <td>11.951028</td>\n",
       "    </tr>\n",
       "    <tr>\n",
       "      <th>20</th>\n",
       "      <td>ENSG00000002330</td>\n",
       "      <td>A8MXU7_HUMAN F5GYS3_HUMAN F5H1R6_HUMAN F5H3B1_...</td>\n",
       "      <td>11.270157</td>\n",
       "    </tr>\n",
       "    <tr>\n",
       "      <th>21</th>\n",
       "      <td>ENSG00000002549</td>\n",
       "      <td>H0Y983_HUMAN H0Y9Q1_HUMAN AMPL_HUMAN</td>\n",
       "      <td>12.115503</td>\n",
       "    </tr>\n",
       "    <tr>\n",
       "      <th>22</th>\n",
       "      <td>ENSG00000002586</td>\n",
       "      <td>A0A096LP69_HUMAN A6NGF6_HUMAN A6NJT9_HUMAN A8M...</td>\n",
       "      <td>12.672088</td>\n",
       "    </tr>\n",
       "    <tr>\n",
       "      <th>23</th>\n",
       "      <td>ENSG00000002587</td>\n",
       "      <td>E9PDE3_HUMAN HS3S1_HUMAN</td>\n",
       "      <td>12.314552</td>\n",
       "    </tr>\n",
       "    <tr>\n",
       "      <th>24</th>\n",
       "      <td>ENSG00000002726</td>\n",
       "      <td>C9J0G8_HUMAN C9J2J4_HUMAN AOC1_HUMAN</td>\n",
       "      <td>12.322705</td>\n",
       "    </tr>\n",
       "    <tr>\n",
       "      <th>25</th>\n",
       "      <td>ENSG00000002745</td>\n",
       "      <td>E9PH60_HUMAN WNT16_HUMAN</td>\n",
       "      <td>11.336370</td>\n",
       "    </tr>\n",
       "    <tr>\n",
       "      <th>26</th>\n",
       "      <td>ENSG00000002746</td>\n",
       "      <td>H7C3Q2_HUMAN HECW1_HUMAN</td>\n",
       "      <td>15.081646</td>\n",
       "    </tr>\n",
       "    <tr>\n",
       "      <th>27</th>\n",
       "      <td>ENSG00000002822</td>\n",
       "      <td>C9J9H5_HUMAN C9JIR0_HUMAN C9JJ38_HUMAN C9JKI7_...</td>\n",
       "      <td>14.994243</td>\n",
       "    </tr>\n",
       "    <tr>\n",
       "      <th>28</th>\n",
       "      <td>ENSG00000002834</td>\n",
       "      <td>C9J9W2_HUMAN F6S2S5_HUMAN J3KSN1_HUMAN K7ESD6_...</td>\n",
       "      <td>12.711604</td>\n",
       "    </tr>\n",
       "    <tr>\n",
       "      <th>29</th>\n",
       "      <td>ENSG00000002919</td>\n",
       "      <td>B4DJI7_HUMAN J3KTN6_HUMAN J3QKV3_HUMAN J3QLV8_...</td>\n",
       "      <td>11.599974</td>\n",
       "    </tr>\n",
       "    <tr>\n",
       "      <th>...</th>\n",
       "      <td>...</td>\n",
       "      <td>...</td>\n",
       "      <td>...</td>\n",
       "    </tr>\n",
       "    <tr>\n",
       "      <th>19968</th>\n",
       "      <td>ENSG00000284505</td>\n",
       "      <td>G3V0Z9_HUMAN</td>\n",
       "      <td>11.951028</td>\n",
       "    </tr>\n",
       "    <tr>\n",
       "      <th>19969</th>\n",
       "      <td>ENSG00000284512</td>\n",
       "      <td>A0A1W2PQF2_HUMAN A0A1W2PS29_HUMAN</td>\n",
       "      <td>13.109991</td>\n",
       "    </tr>\n",
       "    <tr>\n",
       "      <th>19970</th>\n",
       "      <td>ENSG00000284526</td>\n",
       "      <td>A0A1W2PNU3_HUMAN</td>\n",
       "      <td>10.346243</td>\n",
       "    </tr>\n",
       "    <tr>\n",
       "      <th>19971</th>\n",
       "      <td>ENSG00000284546</td>\n",
       "      <td>A0A1W2PQJ5_HUMAN</td>\n",
       "      <td>7.317395</td>\n",
       "    </tr>\n",
       "    <tr>\n",
       "      <th>19972</th>\n",
       "      <td>ENSG00000284552</td>\n",
       "      <td>A0A1W2PRN6_HUMAN</td>\n",
       "      <td>7.346970</td>\n",
       "    </tr>\n",
       "    <tr>\n",
       "      <th>19973</th>\n",
       "      <td>ENSG00000284554</td>\n",
       "      <td>A0A087WX48_HUMAN</td>\n",
       "      <td>11.551433</td>\n",
       "    </tr>\n",
       "    <tr>\n",
       "      <th>19974</th>\n",
       "      <td>ENSG00000284609</td>\n",
       "      <td>OR8B3_HUMAN</td>\n",
       "      <td>9.532468</td>\n",
       "    </tr>\n",
       "    <tr>\n",
       "      <th>19975</th>\n",
       "      <td>ENSG00000284622</td>\n",
       "      <td>A0A286YEX9_HUMAN</td>\n",
       "      <td>5.582902</td>\n",
       "    </tr>\n",
       "    <tr>\n",
       "      <th>19976</th>\n",
       "      <td>ENSG00000284626</td>\n",
       "      <td>A0A286YET3_HUMAN</td>\n",
       "      <td>12.133363</td>\n",
       "    </tr>\n",
       "    <tr>\n",
       "      <th>19977</th>\n",
       "      <td>ENSG00000284629</td>\n",
       "      <td>A0A286YEY9_HUMAN</td>\n",
       "      <td>6.339542</td>\n",
       "    </tr>\n",
       "    <tr>\n",
       "      <th>19978</th>\n",
       "      <td>ENSG00000284631</td>\n",
       "      <td>A0A286YEV6_HUMAN</td>\n",
       "      <td>8.616161</td>\n",
       "    </tr>\n",
       "    <tr>\n",
       "      <th>19979</th>\n",
       "      <td>ENSG00000284635</td>\n",
       "      <td>A0A286YFG1_HUMAN</td>\n",
       "      <td>7.765213</td>\n",
       "    </tr>\n",
       "    <tr>\n",
       "      <th>19980</th>\n",
       "      <td>ENSG00000284638</td>\n",
       "      <td>A0A286YF18_HUMAN</td>\n",
       "      <td>7.435613</td>\n",
       "    </tr>\n",
       "    <tr>\n",
       "      <th>19981</th>\n",
       "      <td>ENSG00000284643</td>\n",
       "      <td>A0A286YFB4_HUMAN</td>\n",
       "      <td>6.721320</td>\n",
       "    </tr>\n",
       "    <tr>\n",
       "      <th>19982</th>\n",
       "      <td>ENSG00000284667</td>\n",
       "      <td>A0A286YF46_HUMAN</td>\n",
       "      <td>6.297082</td>\n",
       "    </tr>\n",
       "    <tr>\n",
       "      <th>19983</th>\n",
       "      <td>ENSG00000284672</td>\n",
       "      <td>A0A286YF32_HUMAN</td>\n",
       "      <td>13.055683</td>\n",
       "    </tr>\n",
       "    <tr>\n",
       "      <th>19984</th>\n",
       "      <td>ENSG00000284680</td>\n",
       "      <td>OR8B2_HUMAN</td>\n",
       "      <td>8.890077</td>\n",
       "    </tr>\n",
       "    <tr>\n",
       "      <th>19985</th>\n",
       "      <td>ENSG00000284681</td>\n",
       "      <td>A0A286YFD6_HUMAN</td>\n",
       "      <td>13.148344</td>\n",
       "    </tr>\n",
       "    <tr>\n",
       "      <th>19986</th>\n",
       "      <td>ENSG00000284684</td>\n",
       "      <td>A0A1B0GUZ9_HUMAN</td>\n",
       "      <td>10.013487</td>\n",
       "    </tr>\n",
       "    <tr>\n",
       "      <th>19987</th>\n",
       "      <td>ENSG00000284686</td>\n",
       "      <td>A0A286YER9_HUMAN A0A286YES4_HUMAN A0A286YEZ7_H...</td>\n",
       "      <td>14.810262</td>\n",
       "    </tr>\n",
       "    <tr>\n",
       "      <th>19988</th>\n",
       "      <td>ENSG00000284690</td>\n",
       "      <td>A0A0K2S4Q6_HUMAN A0A286YF48_HUMAN</td>\n",
       "      <td>10.312014</td>\n",
       "    </tr>\n",
       "    <tr>\n",
       "      <th>19989</th>\n",
       "      <td>ENSG00000284691</td>\n",
       "      <td>A0A286YF50_HUMAN B7ZLF3_HUMAN</td>\n",
       "      <td>10.994010</td>\n",
       "    </tr>\n",
       "    <tr>\n",
       "      <th>19990</th>\n",
       "      <td>ENSG00000284695</td>\n",
       "      <td>H0Y8G0_HUMAN</td>\n",
       "      <td>12.326698</td>\n",
       "    </tr>\n",
       "    <tr>\n",
       "      <th>19991</th>\n",
       "      <td>ENSG00000284701</td>\n",
       "      <td>TM247_HUMAN</td>\n",
       "      <td>9.935145</td>\n",
       "    </tr>\n",
       "    <tr>\n",
       "      <th>19992</th>\n",
       "      <td>ENSG00000284704</td>\n",
       "      <td>A0A286YF60_HUMAN</td>\n",
       "      <td>6.496474</td>\n",
       "    </tr>\n",
       "    <tr>\n",
       "      <th>19993</th>\n",
       "      <td>ENSG00000284713</td>\n",
       "      <td>A0A286YFK9_HUMAN</td>\n",
       "      <td>9.779273</td>\n",
       "    </tr>\n",
       "    <tr>\n",
       "      <th>19994</th>\n",
       "      <td>ENSG00000284718</td>\n",
       "      <td>A0A286YF01_HUMAN</td>\n",
       "      <td>11.951028</td>\n",
       "    </tr>\n",
       "    <tr>\n",
       "      <th>19995</th>\n",
       "      <td>ENSG00000284723</td>\n",
       "      <td>A0A286YFL9_HUMAN OR8S1_HUMAN</td>\n",
       "      <td>9.109391</td>\n",
       "    </tr>\n",
       "    <tr>\n",
       "      <th>19996</th>\n",
       "      <td>ENSG00000284725</td>\n",
       "      <td>A0A286YF77_HUMAN</td>\n",
       "      <td>6.556537</td>\n",
       "    </tr>\n",
       "    <tr>\n",
       "      <th>19997</th>\n",
       "      <td>ENSG00000284732</td>\n",
       "      <td>A0A286YEX6_HUMAN A0A286YF13_HUMAN</td>\n",
       "      <td>11.951028</td>\n",
       "    </tr>\n",
       "  </tbody>\n",
       "</table>\n",
       "<p>19998 rows × 3 columns</p>\n",
       "</div>"
      ],
      "text/plain": [
       "            Ensembl ID                                        Uniprot IDs  \\\n",
       "0      ENSG00000000003       A0A087WYV6_HUMAN A0A087WZU5_HUMAN TSN6_HUMAN   \n",
       "1      ENSG00000000005                                         TNMD_HUMAN   \n",
       "2      ENSG00000000419  H0Y368_HUMAN DPM1_HUMAN Q5QPJ9_HUMAN Q5QPK2_HUMAN   \n",
       "3      ENSG00000000457                           PACE1_HUMAN X6RHX1_HUMAN   \n",
       "4      ENSG00000000460  A0A1B0GTJ9_HUMAN A0A1B0GUP7_HUMAN A0A1B0GV14_H...   \n",
       "5      ENSG00000000938                             FGR_HUMAN Q5TGY6_HUMAN   \n",
       "6      ENSG00000000971           A0A0D9SG88_HUMAN CFAH_HUMAN Q5TFM2_HUMAN   \n",
       "7      ENSG00000001036                           Q7Z6V2_HUMAN FUCO2_HUMAN   \n",
       "8      ENSG00000001084  A0A0C4DGB2_HUMAN D6R959_HUMAN D6REX4_HUMAN D6R...   \n",
       "9      ENSG00000001167                                         NFYA_HUMAN   \n",
       "10     ENSG00000001460              H0Y4J3_HUMAN STPG1_HUMAN Q5TH77_HUMAN   \n",
       "11     ENSG00000001461              A6NN97_HUMAN H0Y4I9_HUMAN NPAL3_HUMAN   \n",
       "12     ENSG00000001497                           LAS1L_HUMAN R4GNF7_HUMAN   \n",
       "13     ENSG00000001561                                        ENPP4_HUMAN   \n",
       "14     ENSG00000001617  C9IYS6_HUMAN C9J1V2_HUMAN C9J4H5_HUMAN C9JPG5_...   \n",
       "15     ENSG00000001626  C9J6L5_HUMAN E7EPB6_HUMAN H0Y8A9_HUMAN M0QYZ3_...   \n",
       "16     ENSG00000001629  C9JZ63_HUMAN H7C0S0_HUMAN H7C2L9_HUMAN H7C2V2_...   \n",
       "17     ENSG00000001630  A0A0C4DFL7_HUMAN C9IYR8_HUMAN H7C0D0_HUMAN CP5...   \n",
       "18     ENSG00000001631  A0A0C4DG23_HUMAN C9J3W7_HUMAN C9J718_HUMAN C9J...   \n",
       "19     ENSG00000002016  E9PF95_HUMAN F5GX32_HUMAN F5GX95_HUMAN F5H1K5_...   \n",
       "20     ENSG00000002330  A8MXU7_HUMAN F5GYS3_HUMAN F5H1R6_HUMAN F5H3B1_...   \n",
       "21     ENSG00000002549               H0Y983_HUMAN H0Y9Q1_HUMAN AMPL_HUMAN   \n",
       "22     ENSG00000002586  A0A096LP69_HUMAN A6NGF6_HUMAN A6NJT9_HUMAN A8M...   \n",
       "23     ENSG00000002587                           E9PDE3_HUMAN HS3S1_HUMAN   \n",
       "24     ENSG00000002726               C9J0G8_HUMAN C9J2J4_HUMAN AOC1_HUMAN   \n",
       "25     ENSG00000002745                           E9PH60_HUMAN WNT16_HUMAN   \n",
       "26     ENSG00000002746                           H7C3Q2_HUMAN HECW1_HUMAN   \n",
       "27     ENSG00000002822  C9J9H5_HUMAN C9JIR0_HUMAN C9JJ38_HUMAN C9JKI7_...   \n",
       "28     ENSG00000002834  C9J9W2_HUMAN F6S2S5_HUMAN J3KSN1_HUMAN K7ESD6_...   \n",
       "29     ENSG00000002919  B4DJI7_HUMAN J3KTN6_HUMAN J3QKV3_HUMAN J3QLV8_...   \n",
       "...                ...                                                ...   \n",
       "19968  ENSG00000284505                                       G3V0Z9_HUMAN   \n",
       "19969  ENSG00000284512                  A0A1W2PQF2_HUMAN A0A1W2PS29_HUMAN   \n",
       "19970  ENSG00000284526                                   A0A1W2PNU3_HUMAN   \n",
       "19971  ENSG00000284546                                   A0A1W2PQJ5_HUMAN   \n",
       "19972  ENSG00000284552                                   A0A1W2PRN6_HUMAN   \n",
       "19973  ENSG00000284554                                   A0A087WX48_HUMAN   \n",
       "19974  ENSG00000284609                                        OR8B3_HUMAN   \n",
       "19975  ENSG00000284622                                   A0A286YEX9_HUMAN   \n",
       "19976  ENSG00000284626                                   A0A286YET3_HUMAN   \n",
       "19977  ENSG00000284629                                   A0A286YEY9_HUMAN   \n",
       "19978  ENSG00000284631                                   A0A286YEV6_HUMAN   \n",
       "19979  ENSG00000284635                                   A0A286YFG1_HUMAN   \n",
       "19980  ENSG00000284638                                   A0A286YF18_HUMAN   \n",
       "19981  ENSG00000284643                                   A0A286YFB4_HUMAN   \n",
       "19982  ENSG00000284667                                   A0A286YF46_HUMAN   \n",
       "19983  ENSG00000284672                                   A0A286YF32_HUMAN   \n",
       "19984  ENSG00000284680                                        OR8B2_HUMAN   \n",
       "19985  ENSG00000284681                                   A0A286YFD6_HUMAN   \n",
       "19986  ENSG00000284684                                   A0A1B0GUZ9_HUMAN   \n",
       "19987  ENSG00000284686  A0A286YER9_HUMAN A0A286YES4_HUMAN A0A286YEZ7_H...   \n",
       "19988  ENSG00000284690                  A0A0K2S4Q6_HUMAN A0A286YF48_HUMAN   \n",
       "19989  ENSG00000284691                      A0A286YF50_HUMAN B7ZLF3_HUMAN   \n",
       "19990  ENSG00000284695                                       H0Y8G0_HUMAN   \n",
       "19991  ENSG00000284701                                        TM247_HUMAN   \n",
       "19992  ENSG00000284704                                   A0A286YF60_HUMAN   \n",
       "19993  ENSG00000284713                                   A0A286YFK9_HUMAN   \n",
       "19994  ENSG00000284718                                   A0A286YF01_HUMAN   \n",
       "19995  ENSG00000284723                       A0A286YFL9_HUMAN OR8S1_HUMAN   \n",
       "19996  ENSG00000284725                                   A0A286YF77_HUMAN   \n",
       "19997  ENSG00000284732                  A0A286YEX6_HUMAN A0A286YF13_HUMAN   \n",
       "\n",
       "          Length  \n",
       "0      11.951028  \n",
       "1      11.286548  \n",
       "2      11.813199  \n",
       "3      12.540388  \n",
       "4      14.161732  \n",
       "5      11.789717  \n",
       "6      13.396164  \n",
       "7      11.418463  \n",
       "8      13.643836  \n",
       "9      11.965883  \n",
       "10     12.873841  \n",
       "11     12.820845  \n",
       "12     11.951028  \n",
       "13     11.406401  \n",
       "14     12.230729  \n",
       "15     14.447506  \n",
       "16     13.929183  \n",
       "17     12.116287  \n",
       "18     12.603744  \n",
       "19     11.951028  \n",
       "20     11.270157  \n",
       "21     12.115503  \n",
       "22     12.672088  \n",
       "23     12.314552  \n",
       "24     12.322705  \n",
       "25     11.336370  \n",
       "26     15.081646  \n",
       "27     14.994243  \n",
       "28     12.711604  \n",
       "29     11.599974  \n",
       "...          ...  \n",
       "19968  11.951028  \n",
       "19969  13.109991  \n",
       "19970  10.346243  \n",
       "19971   7.317395  \n",
       "19972   7.346970  \n",
       "19973  11.551433  \n",
       "19974   9.532468  \n",
       "19975   5.582902  \n",
       "19976  12.133363  \n",
       "19977   6.339542  \n",
       "19978   8.616161  \n",
       "19979   7.765213  \n",
       "19980   7.435613  \n",
       "19981   6.721320  \n",
       "19982   6.297082  \n",
       "19983  13.055683  \n",
       "19984   8.890077  \n",
       "19985  13.148344  \n",
       "19986  10.013487  \n",
       "19987  14.810262  \n",
       "19988  10.312014  \n",
       "19989  10.994010  \n",
       "19990  12.326698  \n",
       "19991   9.935145  \n",
       "19992   6.496474  \n",
       "19993   9.779273  \n",
       "19994  11.951028  \n",
       "19995   9.109391  \n",
       "19996   6.556537  \n",
       "19997  11.951028  \n",
       "\n",
       "[19998 rows x 3 columns]"
      ]
     },
     "execution_count": 338,
     "metadata": {},
     "output_type": "execute_result"
    }
   ],
   "source": [
    "uniprot"
   ]
  },
  {
   "cell_type": "markdown",
   "metadata": {},
   "source": [
    "Создайте новый DataFrame, в котором будут записи только для генов, имеющих более одного белкового продукта, добавьте в него столбец с количеством белковых продуктов для каждого гена. **(1.5 балла)**"
   ]
  },
  {
   "cell_type": "code",
   "execution_count": 6,
   "metadata": {},
   "outputs": [
    {
     "name": "stdout",
     "output_type": "stream",
     "text": [
      "[3 4 2 ... 2 2 2]\n",
      "['A0A087WYV6_HUMAN A0A087WZU5_HUMAN TSN6_HUMAN'\n",
      " 'H0Y368_HUMAN DPM1_HUMAN Q5QPJ9_HUMAN Q5QPK2_HUMAN'\n",
      " 'PACE1_HUMAN X6RHX1_HUMAN' ... 'A0A286YF50_HUMAN B7ZLF3_HUMAN'\n",
      " 'A0A286YFL9_HUMAN OR8S1_HUMAN' 'A0A286YEX6_HUMAN A0A286YF13_HUMAN']\n"
     ]
    },
    {
     "data": {
      "text/html": [
       "<div>\n",
       "<style>\n",
       "    .dataframe thead tr:only-child th {\n",
       "        text-align: right;\n",
       "    }\n",
       "\n",
       "    .dataframe thead th {\n",
       "        text-align: left;\n",
       "    }\n",
       "\n",
       "    .dataframe tbody tr th {\n",
       "        vertical-align: top;\n",
       "    }\n",
       "</style>\n",
       "<table border=\"1\" class=\"dataframe\">\n",
       "  <thead>\n",
       "    <tr style=\"text-align: right;\">\n",
       "      <th></th>\n",
       "      <th>x</th>\n",
       "      <th>y</th>\n",
       "    </tr>\n",
       "  </thead>\n",
       "  <tbody>\n",
       "    <tr>\n",
       "      <th>0</th>\n",
       "      <td>A0A087WYV6_HUMAN A0A087WZU5_HUMAN TSN6_HUMAN</td>\n",
       "      <td>3</td>\n",
       "    </tr>\n",
       "    <tr>\n",
       "      <th>1</th>\n",
       "      <td>H0Y368_HUMAN DPM1_HUMAN Q5QPJ9_HUMAN Q5QPK2_HUMAN</td>\n",
       "      <td>4</td>\n",
       "    </tr>\n",
       "    <tr>\n",
       "      <th>2</th>\n",
       "      <td>PACE1_HUMAN X6RHX1_HUMAN</td>\n",
       "      <td>2</td>\n",
       "    </tr>\n",
       "    <tr>\n",
       "      <th>3</th>\n",
       "      <td>A0A1B0GTJ9_HUMAN A0A1B0GUP7_HUMAN A0A1B0GV14_H...</td>\n",
       "      <td>4</td>\n",
       "    </tr>\n",
       "    <tr>\n",
       "      <th>4</th>\n",
       "      <td>FGR_HUMAN Q5TGY6_HUMAN</td>\n",
       "      <td>2</td>\n",
       "    </tr>\n",
       "    <tr>\n",
       "      <th>5</th>\n",
       "      <td>A0A0D9SG88_HUMAN CFAH_HUMAN Q5TFM2_HUMAN</td>\n",
       "      <td>3</td>\n",
       "    </tr>\n",
       "    <tr>\n",
       "      <th>6</th>\n",
       "      <td>Q7Z6V2_HUMAN FUCO2_HUMAN</td>\n",
       "      <td>2</td>\n",
       "    </tr>\n",
       "    <tr>\n",
       "      <th>7</th>\n",
       "      <td>A0A0C4DGB2_HUMAN D6R959_HUMAN D6REX4_HUMAN D6R...</td>\n",
       "      <td>9</td>\n",
       "    </tr>\n",
       "    <tr>\n",
       "      <th>8</th>\n",
       "      <td>H0Y4J3_HUMAN STPG1_HUMAN Q5TH77_HUMAN</td>\n",
       "      <td>3</td>\n",
       "    </tr>\n",
       "    <tr>\n",
       "      <th>9</th>\n",
       "      <td>A6NN97_HUMAN H0Y4I9_HUMAN NPAL3_HUMAN</td>\n",
       "      <td>3</td>\n",
       "    </tr>\n",
       "  </tbody>\n",
       "</table>\n",
       "</div>"
      ],
      "text/plain": [
       "                                                   x  y\n",
       "0       A0A087WYV6_HUMAN A0A087WZU5_HUMAN TSN6_HUMAN  3\n",
       "1  H0Y368_HUMAN DPM1_HUMAN Q5QPJ9_HUMAN Q5QPK2_HUMAN  4\n",
       "2                           PACE1_HUMAN X6RHX1_HUMAN  2\n",
       "3  A0A1B0GTJ9_HUMAN A0A1B0GUP7_HUMAN A0A1B0GV14_H...  4\n",
       "4                             FGR_HUMAN Q5TGY6_HUMAN  2\n",
       "5           A0A0D9SG88_HUMAN CFAH_HUMAN Q5TFM2_HUMAN  3\n",
       "6                           Q7Z6V2_HUMAN FUCO2_HUMAN  2\n",
       "7  A0A0C4DGB2_HUMAN D6R959_HUMAN D6REX4_HUMAN D6R...  9\n",
       "8              H0Y4J3_HUMAN STPG1_HUMAN Q5TH77_HUMAN  3\n",
       "9              A6NN97_HUMAN H0Y4I9_HUMAN NPAL3_HUMAN  3"
      ]
     },
     "execution_count": 6,
     "metadata": {},
     "output_type": "execute_result"
    }
   ],
   "source": [
    "arr = uniprot_arr[:, 1]\n",
    "#print(arr)\n",
    "sizes = [len(i.split()) for i in arr]\n",
    "sizes_arr_len = np.array(sizes)\n",
    "#print(sizes_arr_len)\n",
    "\n",
    "sizes_bul = [True if i > 1 else False for i in sizes]\n",
    "sizes_arr_bul = np.array(sizes_bul)\n",
    "#print(sizes_arr_bul)\n",
    "\n",
    "sizes_out1 = arr[sizes_arr_bul]\n",
    "sizes_out2 = sizes_arr_len[sizes_arr_bul]\n",
    "print(sizes_out2)\n",
    "print(sizes_out1)\n",
    "\n",
    "\n",
    "df = pd.DataFrame({'x':sizes_out1, 'y':sizes_out2})\n",
    "df.head(10)\n",
    "\n"
   ]
  },
  {
   "cell_type": "markdown",
   "metadata": {},
   "source": [
    "Сравните длины генов транскрипционных факторов с длинами других генов с помощью среднего, медианы, верхнего и нижнего квартилей **(2.5 балла)**, постройте гистограммы этих двух распределений длин генов или каких-нибудь функций от длин генов так, чтобы было понятно, сколько у плотности вероятности этого распределения пиков и где они. **(2.5 балла)**"
   ]
  },
  {
   "cell_type": "code",
   "execution_count": 33,
   "metadata": {
    "scrolled": true
   },
   "outputs": [
    {
     "name": "stdout",
     "output_type": "stream",
     "text": [
      "0\n"
     ]
    }
   ],
   "source": [
    "uniprot\n",
    "test = uniprot[\"Uniprot IDs\"].str.split(\" \", expand=True)\n",
    "test = test.fillna(value=\"nan\")\n",
    "#print(test)\n",
    "\n",
    "tfs_list = tfs[1].tolist()\n",
    "#print(tfs_list)\n",
    "\n",
    "\n",
    "index = test.isin(tfs_list).transpose().any()\n",
    "#print(uniprot[\"Length\"])\n",
    "tf = uniprot[\"Length\"][index]\n",
    "notf = uniprot[\"Length\"][~index]\n",
    "#print(tf)\n",
    "#print(notf)\n",
    "#print(sum(tf == np.nan))\n"
   ]
  },
  {
   "cell_type": "code",
   "execution_count": 34,
   "metadata": {},
   "outputs": [
    {
     "data": {
      "text/plain": [
       "count    18683.000000\n",
       "mean        11.779689\n",
       "std          1.801153\n",
       "min          3.374470\n",
       "25%         10.771563\n",
       "50%         11.951028\n",
       "75%         12.978269\n",
       "max         16.827599\n",
       "Name: Length, dtype: float64"
      ]
     },
     "execution_count": 34,
     "metadata": {},
     "output_type": "execute_result"
    }
   ],
   "source": [
    "notf.describe()"
   ]
  },
  {
   "cell_type": "code",
   "execution_count": 35,
   "metadata": {},
   "outputs": [
    {
     "data": {
      "text/plain": [
       "count    1315.000000\n",
       "mean       11.776052\n",
       "std         1.533937\n",
       "min         7.416012\n",
       "25%        10.718045\n",
       "50%        11.906251\n",
       "75%        12.766093\n",
       "max        16.108784\n",
       "Name: Length, dtype: float64"
      ]
     },
     "execution_count": 35,
     "metadata": {},
     "output_type": "execute_result"
    }
   ],
   "source": [
    "tf.describe()"
   ]
  },
  {
   "cell_type": "code",
   "execution_count": 36,
   "metadata": {},
   "outputs": [
    {
     "name": "stdout",
     "output_type": "stream",
     "text": [
      "(1315, 11.776052334707023, (7.416011569173325, 16.108784416821763), 1.533353759029656, 857.5972715077598, (10.718044952498268, 11.906251255466367, 12.76609346526066), ModeResult(mode=array([11.95102836]), count=array([74])), array([1.99726383e-04, 3.70913761e-04, 6.35075097e-04, 1.00781291e-03,\n",
      "       1.49316917e-03, 2.08552425e-03, 2.77909578e-03, 3.58124151e-03,\n",
      "       4.52303287e-03, 5.66348646e-03, 7.09026386e-03, 8.92264082e-03,\n",
      "       1.13171432e-02, 1.44657461e-02, 1.85710778e-02, 2.37911092e-02,\n",
      "       3.01661167e-02, 3.75614013e-02, 4.56642712e-02, 5.40536877e-02,\n",
      "       6.23227069e-02, 7.02008694e-02, 7.76204998e-02, 8.47012814e-02,\n",
      "       9.16690648e-02, 9.87492274e-02, 1.06073488e-01, 1.13625791e-01,\n",
      "       1.21242129e-01, 1.28668742e-01, 1.35663078e-01, 1.42096309e-01,\n",
      "       1.48006375e-01, 1.53573697e-01, 1.59038215e-01, 1.64614487e-01,\n",
      "       1.70463886e-01, 1.76747871e-01, 1.83735405e-01, 1.91896657e-01,\n",
      "       2.01900156e-01, 2.14448062e-01, 2.29938230e-01, 2.48033001e-01,\n",
      "       2.67320424e-01, 2.85308574e-01, 2.98913454e-01, 3.05364617e-01,\n",
      "       3.03173580e-01, 2.92692722e-01, 2.75965760e-01, 2.55949036e-01,\n",
      "       2.35510028e-01, 2.16669036e-01, 2.00336684e-01, 1.86498871e-01,\n",
      "       1.74615735e-01, 1.64003128e-01, 1.54081084e-01, 1.44485313e-01,\n",
      "       1.35081502e-01, 1.25914615e-01, 1.17114640e-01, 1.08789253e-01,\n",
      "       1.00947243e-01, 9.34890739e-02, 8.62680965e-02, 7.91864441e-02,\n",
      "       7.22687126e-02, 6.56678654e-02, 5.95957766e-02, 5.42137011e-02,\n",
      "       4.95404740e-02, 4.54259042e-02, 4.16016626e-02, 3.77835883e-02,\n",
      "       3.37776305e-02, 2.95443653e-02, 2.51991888e-02, 2.09547450e-02,\n",
      "       1.70355960e-02, 1.36030357e-02, 1.07181821e-02, 8.35035532e-03,\n",
      "       6.41666977e-03, 4.82796265e-03, 3.51935125e-03, 2.45671795e-03,\n",
      "       1.62459865e-03, 1.00854931e-03, 5.83585855e-04, 3.13042364e-04,\n",
      "       1.55029446e-04, 7.06650133e-05, 2.95779913e-05, 1.13486129e-05,\n",
      "       3.98602742e-06, 1.28028513e-06, 3.75739398e-07, 1.00693266e-07]))\n",
      " \n",
      " \n",
      "(18683, 11.779688647811767, (3.3744700637362386, 16.82759897906036), 1.8011051495366774, 10373.075666796067, (10.771563213556572, 11.95102835721468, 12.978268835294127), ModeResult(mode=array([11.95102836]), count=array([927])), array([6.59579352e-05, 1.61705562e-04, 2.98537148e-04, 4.45869716e-04,\n",
      "       6.18300940e-04, 9.37859557e-04, 1.62909307e-03, 2.91082092e-03,\n",
      "       4.65541297e-03, 6.04494674e-03, 6.02014818e-03, 4.45130304e-03,\n",
      "       2.41369600e-03, 1.00659405e-03, 4.43571818e-04, 3.75334116e-04,\n",
      "       4.92816652e-04, 6.72124472e-04, 8.76461326e-04, 1.14236904e-03,\n",
      "       1.58267391e-03, 2.29337270e-03, 3.44947453e-03, 5.65442252e-03,\n",
      "       9.68436902e-03, 1.51625379e-02, 1.99043395e-02, 2.18636304e-02,\n",
      "       2.17089768e-02, 2.23589303e-02, 2.57909758e-02, 3.06549543e-02,\n",
      "       3.37893193e-02, 3.43126958e-02, 3.44193304e-02, 3.62060868e-02,\n",
      "       4.00126029e-02, 4.52914821e-02, 5.13453039e-02, 5.76904773e-02,\n",
      "       6.44393526e-02, 7.21269709e-02, 8.09915476e-02, 9.05798009e-02,\n",
      "       1.00248762e-01, 1.09900430e-01, 1.19994102e-01, 1.31099781e-01,\n",
      "       1.43429540e-01, 1.56336403e-01, 1.68408399e-01, 1.78349681e-01,\n",
      "       1.86100713e-01, 1.94141497e-01, 2.08433220e-01, 2.35129653e-01,\n",
      "       2.69220980e-01, 2.89814402e-01, 2.81832185e-01, 2.56493606e-01,\n",
      "       2.34640054e-01, 2.22250925e-01, 2.13048447e-01, 2.02209555e-01,\n",
      "       1.90103985e-01, 1.78636738e-01, 1.68313366e-01, 1.57917464e-01,\n",
      "       1.45741189e-01, 1.31056175e-01, 1.14713221e-01, 9.84986719e-02,\n",
      "       8.38778142e-02, 7.13534968e-02, 6.07498496e-02, 5.15639154e-02,\n",
      "       4.31218600e-02, 3.49869791e-02, 2.73613424e-02, 2.08751312e-02,\n",
      "       1.59608988e-02, 1.24460905e-02, 9.77825246e-03, 7.55835457e-03,\n",
      "       5.64235219e-03, 3.97269632e-03, 2.59031964e-03, 1.57748538e-03,\n",
      "       9.00500558e-04, 4.57084457e-04, 1.89095808e-04, 5.94265612e-05,\n",
      "       1.36122326e-05, 2.22260731e-06, 2.55464657e-07, 2.05083330e-08,\n",
      "       1.14370189e-09, 4.41300540e-11, 1.17446248e-12, 2.15052083e-14]))\n"
     ]
    }
   ],
   "source": [
    "def descriptive1d(x):\n",
    "    _x = x  # Для возможности предобработки данных (например, исключения нечисловых значений) \n",
    "    result = []\n",
    "    result.append(len(x)) # Чисо элементов выборки\n",
    "    result.append(np.mean(_x)) # Среднее\n",
    "    result.append((np.min(_x), np.max(_x)))\n",
    "    result.append(np.std(_x))\n",
    "    result.append(result[0]/result[-1])\n",
    "    result.append((np.percentile(_x, 25), np.percentile(_x, 50), np.percentile(_x, 75)))\n",
    "    result.append(st.mode(_x)) \n",
    "    _range = np.linspace(0.9 * np.min(_x), 1.1 * np.max(_x), 100)\n",
    "    result.append(st.gaussian_kde(_x)(_range))  # оценка плотности распределения\n",
    "    return tuple(result)\n",
    "first = descriptive1d(tf.astype(np.float))\n",
    "second = descriptive1d(notf.astype(np.float))\n",
    "print(first)\n",
    "print(\" \")\n",
    "print(\" \")\n",
    "print(second)"
   ]
  },
  {
   "cell_type": "code",
   "execution_count": 37,
   "metadata": {},
   "outputs": [
    {
     "name": "stdout",
     "output_type": "stream",
     "text": [
      "Для транскрипционных факторов\n",
      "Число транскрипционных факторов: 1315\n",
      "Среднее значение длин генов транскрипционных факторов: 11.7761\n",
      "Минимальное и максимальное значения длин генов транскрипционных факторов: (7.4160, 16.1088)\n",
      "Стандартное отклонение: 1.5334\n",
      "Коэффициент вариации (Пирсона): 857.5973\n",
      "Квартили: (25%) = 10.7180, (50%) = 11.9063, (75%) = 12.7661\n"
     ]
    }
   ],
   "source": [
    "print(\"Для транскрипционных факторов\")\n",
    "print('Число транскрипционных факторов: {0:d}'.format(first[0]))\n",
    "print('Среднее значение длин генов транскрипционных факторов: {0:.4f}'.format(first[1]))\n",
    "print('Минимальное и максимальное значения длин генов транскрипционных факторов: ({0:.4f}, {1:.4f})'.format(*first[2]))\n",
    "print('Стандартное отклонение: {0:.4f}'.format(first[3]))\n",
    "print('Коэффициент вариации (Пирсона): {0:.4f}'.format(first[4]))\n",
    "print('Квартили: (25%) = {0:.4f}, (50%) = {1:.4f}, (75%) = {2:.4f}'.format(*first[5]))\n"
   ]
  },
  {
   "cell_type": "code",
   "execution_count": 38,
   "metadata": {},
   "outputs": [
    {
     "name": "stdout",
     "output_type": "stream",
     "text": [
      "Для других генов\n",
      "Число остальных генов: 18683\n",
      "Среднее значение длин остальных генов: 11.7797\n",
      "Минимальное и максимальное значения длин остальных генов: (3.3745, 16.8276)\n",
      "Стандартное отклонение: 1.8011\n",
      "Коэффициент вариации (Пирсона): 10373.0757\n",
      "Квартили: (25%) = 10.7716, (50%) = 11.9510, (75%) = 12.9783\n"
     ]
    }
   ],
   "source": [
    "print(\"Для других генов\")\n",
    "print('Число остальных генов: {0:d}'.format(second[0]))\n",
    "print('Среднее значение длин остальных генов: {0:.4f}'.format(second[1]))\n",
    "print('Минимальное и максимальное значения длин остальных генов: ({0:.4f}, {1:.4f})'.format(*second[2]))\n",
    "print('Стандартное отклонение: {0:.4f}'.format(second[3]))\n",
    "print('Коэффициент вариации (Пирсона): {0:.4f}'.format(second[4]))\n",
    "print('Квартили: (25%) = {0:.4f}, (50%) = {1:.4f}, (75%) = {2:.4f}'.format(*second[5]))\n"
   ]
  },
  {
   "cell_type": "markdown",
   "metadata": {},
   "source": [
    "# Транскрипционные факторы"
   ]
  },
  {
   "cell_type": "code",
   "execution_count": 39,
   "metadata": {},
   "outputs": [
    {
     "data": {
      "image/png": "[encoded data removed]",
      "text/plain": [
       "<Figure size 432x288 with 1 Axes>"
      ]
     },
     "metadata": {},
     "output_type": "display_data"
    }
   ],
   "source": [
    "tf = tf.astype(np.float)\n",
    "\n",
    "plt.xlim([min(tf)-5, max(tf)+5])\n",
    "\n",
    "plt.hist(tf, bins=100, alpha=0.5)\n",
    "plt.title('Histogram of transcription factors gene length')\n",
    "plt.xlabel('variable X (bin size = 100)')\n",
    "plt.ylabel('count')\n",
    "\n",
    "plt.show()"
   ]
  },
  {
   "cell_type": "code",
   "execution_count": 40,
   "metadata": {},
   "outputs": [
    {
     "data": {
      "image/png": "[encoded data removed]",
      "text/plain": [
       "<Figure size 432x288 with 1 Axes>"
      ]
     },
     "metadata": {},
     "output_type": "display_data"
    }
   ],
   "source": [
    "log_lengths = pd.Series(np.log10(tf))\n",
    "#print(log_lengths)\n",
    "\n",
    "plt.xlim([min(log_lengths)-5, max(log_lengths)+5])\n",
    "\n",
    "plt.hist(log_lengths, bins=100, alpha=0.5)\n",
    "plt.title('Log histogram of transcription factors gene length')\n",
    "plt.ylabel('count')\n",
    "plt.xlabel('variable X (bin size = 100)')\n",
    "\n",
    "plt.show()\n"
   ]
  },
  {
   "cell_type": "code",
   "execution_count": 41,
   "metadata": {},
   "outputs": [
    {
     "data": {
      "image/png": "[encoded data removed]",
      "text/plain": [
       "<Figure size 432x288 with 1 Axes>"
      ]
     },
     "metadata": {},
     "output_type": "display_data"
    }
   ],
   "source": [
    "log_lengths = pd.Series(np.log2(tf))\n",
    "#print(log_lengths)\n",
    "\n",
    "plt.xlim([min(log_lengths)-5, max(log_lengths)+5])\n",
    "\n",
    "plt.hist(log_lengths, bins=100, alpha=0.5)\n",
    "plt.title('Log histogram of transcription factors gene length')\n",
    "plt.ylabel('count')\n",
    "plt.xlabel('variable X (bin size = 100)')\n",
    "\n",
    "plt.show()\n"
   ]
  },
  {
   "cell_type": "code",
   "execution_count": 42,
   "metadata": {},
   "outputs": [
    {
     "data": {
      "image/png": "[encoded data removed]",
      "text/plain": [
       "<Figure size 432x288 with 1 Axes>"
      ]
     },
     "metadata": {},
     "output_type": "display_data"
    }
   ],
   "source": [
    "#print(first[7])\n",
    "\n",
    "figure()\n",
    "plot(first[7])\n",
    "title('Оценка плотности распределения длин генов транскрипционных фактроов')\n",
    "show()"
   ]
  },
  {
   "cell_type": "markdown",
   "metadata": {},
   "source": [
    "# Остальные гены"
   ]
  },
  {
   "cell_type": "code",
   "execution_count": 43,
   "metadata": {},
   "outputs": [
    {
     "data": {
      "image/png": "[encoded data removed]",
      "text/plain": [
       "<Figure size 432x288 with 1 Axes>"
      ]
     },
     "metadata": {},
     "output_type": "display_data"
    }
   ],
   "source": [
    "notf = notf.astype(np.float)\n",
    "\n",
    "plt.xlim([min(notf)-5, max(notf)+5])\n",
    "\n",
    "plt.hist(notf, bins=100, alpha=0.5)\n",
    "plt.title('Histogram of no-transcription factors gene length')\n",
    "plt.xlabel('variable X (bin size = 100)')\n",
    "plt.ylabel('count')\n",
    "\n",
    "plt.show()"
   ]
  },
  {
   "cell_type": "code",
   "execution_count": 44,
   "metadata": {},
   "outputs": [
    {
     "data": {
      "image/png": "[encoded data removed]",
      "text/plain": [
       "<Figure size 432x288 with 1 Axes>"
      ]
     },
     "metadata": {},
     "output_type": "display_data"
    }
   ],
   "source": [
    "log_lengths = pd.Series(np.log10(notf))\n",
    "#print(log_lengths)\n",
    "\n",
    "plt.xlim([min(log_lengths)-5, max(log_lengths)+5])\n",
    "\n",
    "plt.hist(log_lengths, bins=100, alpha=0.5)\n",
    "plt.title('Log histogram of no-transcription factors gene length')\n",
    "plt.ylabel('count')\n",
    "plt.xlabel('variable X (bin size = 100)')\n",
    "\n",
    "plt.show()\n"
   ]
  },
  {
   "cell_type": "code",
   "execution_count": 45,
   "metadata": {},
   "outputs": [
    {
     "data": {
      "image/png": "[encoded data removed]",
      "text/plain": [
       "<Figure size 432x288 with 1 Axes>"
      ]
     },
     "metadata": {},
     "output_type": "display_data"
    }
   ],
   "source": [
    "log_lengths = pd.Series(np.log2(notf))\n",
    "#print(log_lengths)\n",
    "\n",
    "plt.xlim([min(log_lengths)-5, max(log_lengths)+5])\n",
    "\n",
    "plt.hist(log_lengths, bins=100, alpha=0.5)\n",
    "plt.title('Log histogram of no-transcription factors gene length')\n",
    "plt.ylabel('count')\n",
    "plt.xlabel('variable X (bin size = 100)')\n",
    "\n",
    "plt.show()\n"
   ]
  },
  {
   "cell_type": "code",
   "execution_count": 46,
   "metadata": {},
   "outputs": [
    {
     "data": {
      "image/png": "[encoded data removed]",
      "text/plain": [
       "<Figure size 432x288 with 1 Axes>"
      ]
     },
     "metadata": {},
     "output_type": "display_data"
    }
   ],
   "source": [
    "#print(first[7])\n",
    "\n",
    "figure()\n",
    "plot(second[7])\n",
    "title('Оценка плотности распределения длин остальных генов')\n",
    "show()"
   ]
  }
 ],
 "metadata": {
  "kernelspec": {
   "display_name": "Python 3",
   "language": "python",
   "name": "python3"
  },
  "language_info": {
   "codemirror_mode": {
    "name": "ipython",
    "version": 3
   },
   "file_extension": ".py",
   "mimetype": "text/x-python",
   "name": "python",
   "nbconvert_exporter": "python",
   "pygments_lexer": "ipython3",
   "version": "3.6.1"
  }
 },
 "nbformat": 4,
 "nbformat_minor": 2
}
