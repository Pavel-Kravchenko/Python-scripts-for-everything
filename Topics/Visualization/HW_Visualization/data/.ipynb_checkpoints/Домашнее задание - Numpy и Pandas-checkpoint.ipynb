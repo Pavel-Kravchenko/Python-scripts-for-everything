{
 "cells": [
  {
   "cell_type": "code",
   "execution_count": 1,
   "metadata": {},
   "outputs": [],
   "source": [
    "import numpy as np\n",
    "import pandas as pd"
   ]
  },
  {
   "cell_type": "markdown",
   "metadata": {},
   "source": [
    "Вам предоставлено 2 таблички - uniprot.tab и tfs.txt. В первой табличке сопоставлены символы генов (Ensembl ID) и наборы идентификаторов Uniprot (Uniprot IDs), одному гену соответствует несколько белковых продуктов - идентификаторы записаны через пробел. Для каждого гена (не белкового продукта) указана длина в нуклеотидах (length). Во втором файле указаны идентификаторы Uniprot, соответствующие транскрипционным факторам, остальные столбцы не нужны."
   ]
  },
  {
   "cell_type": "markdown",
   "metadata": {},
   "source": [
    "Прочитайте таблички в pandas DataFrame'ы, удалите ненужные столбцы ** (0.5 балла) **"
   ]
  },
  {
   "cell_type": "code",
   "execution_count": null,
   "metadata": {},
   "outputs": [],
   "source": []
  },
  {
   "cell_type": "markdown",
   "metadata": {},
   "source": [
    "В столбце lengths есть пропущенные значения. Сделайте с ними что-то одно из следующего: удалите соответствующие строки **(0.5 балла)**, замените средним **(1 балл)**, медианой **(1 балл)** или модой **(1 балл)** непропущенных значений. За это задание можно получить **максимум 1 балл**."
   ]
  },
  {
   "cell_type": "code",
   "execution_count": null,
   "metadata": {},
   "outputs": [],
   "source": []
  },
  {
   "cell_type": "markdown",
   "metadata": {},
   "source": [
    "Приведите разумный аргумент за то, что каким-то из этих способов правильно было избавиться от пропущенных значений **(от 0.5 до 1 балла) **"
   ]
  },
  {
   "cell_type": "code",
   "execution_count": null,
   "metadata": {},
   "outputs": [],
   "source": []
  },
  {
   "cell_type": "markdown",
   "metadata": {},
   "source": [
    "Некто (видимо, Гринч) изменил значения длин генов на (квадраты десятичных логарифмов длин + 0.33), измените столбец с длинами так, чтобы в нём были записаны действительно длины. **(1 балл)**"
   ]
  },
  {
   "cell_type": "code",
   "execution_count": null,
   "metadata": {},
   "outputs": [],
   "source": []
  },
  {
   "cell_type": "markdown",
   "metadata": {},
   "source": [
    "Также Гринч (или, возможно, коллабораторы или научный руководитель) поменял местами длины нечётных по счёту генов на длины чётных и наоборот, поменяйте их, пожалуйста, обратно. **(1.5 балла)**"
   ]
  },
  {
   "cell_type": "code",
   "execution_count": null,
   "metadata": {},
   "outputs": [],
   "source": []
  },
  {
   "cell_type": "markdown",
   "metadata": {},
   "source": [
    "Создайте новый DataFrame, в котором будут записи только для генов, имеющих более одного белкового продукта, добавьте в него столбец с количеством белковых продуктов для каждого гена. **(1.5 балла)**"
   ]
  },
  {
   "cell_type": "code",
   "execution_count": null,
   "metadata": {},
   "outputs": [],
   "source": []
  },
  {
   "cell_type": "markdown",
   "metadata": {},
   "source": [
    "Сравните длины генов транскрипционных факторов с длинами других генов с помощью среднего, медианы, верхнего и нижнего квартилей **(2.5 балла)**, постройте гистограммы этих двух распределений длин генов или каких-нибудь функций от длин генов так, чтобы было понятно, сколько у плотности вероятности этого распределения пиков и где они. **(2.5 балла)**"
   ]
  },
  {
   "cell_type": "code",
   "execution_count": null,
   "metadata": {},
   "outputs": [],
   "source": []
  }
 ],
 "metadata": {
  "kernelspec": {
   "display_name": "Python 3",
   "language": "python",
   "name": "python3"
  },
  "language_info": {
   "codemirror_mode": {
    "name": "ipython",
    "version": 3
   },
   "file_extension": ".py",
   "mimetype": "text/x-python",
   "name": "python",
   "nbconvert_exporter": "python",
   "pygments_lexer": "ipython3",
   "version": "3.6.5rc1"
  }
 },
 "nbformat": 4,
 "nbformat_minor": 2
}
