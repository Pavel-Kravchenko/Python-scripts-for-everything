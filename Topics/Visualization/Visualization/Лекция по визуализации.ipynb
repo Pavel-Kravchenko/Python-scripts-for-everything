{
 "cells": [
  {
   "cell_type": "markdown",
   "metadata": {
    "slideshow": {
     "slide_type": "slide"
    }
   },
   "source": [
    "# Данные"
   ]
  },
  {
   "cell_type": "code",
   "execution_count": 1,
   "metadata": {
    "slideshow": {
     "slide_type": "fragment"
    }
   },
   "outputs": [],
   "source": [
    "import numpy as np\n",
    "import pandas as pd\n",
    "import seaborn as sns"
   ]
  },
  {
   "cell_type": "code",
   "execution_count": 2,
   "metadata": {
    "slideshow": {
     "slide_type": "fragment"
    }
   },
   "outputs": [],
   "source": [
    "df = pd.read_csv(\"data/primary.tsv\", sep=\"\\t\")"
   ]
  },
  {
   "cell_type": "code",
   "execution_count": 3,
   "metadata": {
    "slideshow": {
     "slide_type": "fragment"
    }
   },
   "outputs": [
    {
     "data": {
      "text/html": [
       "<div>\n",
       "<style scoped>\n",
       "    .dataframe tbody tr th:only-of-type {\n",
       "        vertical-align: middle;\n",
       "    }\n",
       "\n",
       "    .dataframe tbody tr th {\n",
       "        vertical-align: top;\n",
       "    }\n",
       "\n",
       "    .dataframe thead th {\n",
       "        text-align: right;\n",
       "    }\n",
       "</style>\n",
       "<table border=\"1\" class=\"dataframe\">\n",
       "  <thead>\n",
       "    <tr style=\"text-align: right;\">\n",
       "      <th></th>\n",
       "      <th>Ensembl ID</th>\n",
       "      <th>Uniprot IDs</th>\n",
       "      <th>Length</th>\n",
       "      <th>Symbol</th>\n",
       "      <th>Degree</th>\n",
       "      <th>mitochondrion organization</th>\n",
       "      <th>cell adhesion</th>\n",
       "      <th>signal transduction</th>\n",
       "      <th>B cell FPKM</th>\n",
       "      <th>Neuron FPKM</th>\n",
       "    </tr>\n",
       "  </thead>\n",
       "  <tbody>\n",
       "    <tr>\n",
       "      <th>0</th>\n",
       "      <td>ENSG00000000003</td>\n",
       "      <td>A0A087WYV6_HUMAN A0A087WZU5_HUMAN TSN6_HUMAN</td>\n",
       "      <td>15084.0</td>\n",
       "      <td>TSPAN6</td>\n",
       "      <td>5</td>\n",
       "      <td>0</td>\n",
       "      <td>0</td>\n",
       "      <td>0</td>\n",
       "      <td>0.08</td>\n",
       "      <td>19.70</td>\n",
       "    </tr>\n",
       "    <tr>\n",
       "      <th>1</th>\n",
       "      <td>ENSG00000000005</td>\n",
       "      <td>TNMD_HUMAN</td>\n",
       "      <td>12883.0</td>\n",
       "      <td>TNMD</td>\n",
       "      <td>1</td>\n",
       "      <td>0</td>\n",
       "      <td>0</td>\n",
       "      <td>0</td>\n",
       "      <td>0.00</td>\n",
       "      <td>0.00</td>\n",
       "    </tr>\n",
       "    <tr>\n",
       "      <th>2</th>\n",
       "      <td>ENSG00000000419</td>\n",
       "      <td>H0Y368_HUMAN DPM1_HUMAN Q5QPJ9_HUMAN Q5QPK2_HUMAN</td>\n",
       "      <td>44637.0</td>\n",
       "      <td>DPM1</td>\n",
       "      <td>15</td>\n",
       "      <td>0</td>\n",
       "      <td>0</td>\n",
       "      <td>0</td>\n",
       "      <td>9.55</td>\n",
       "      <td>44.89</td>\n",
       "    </tr>\n",
       "  </tbody>\n",
       "</table>\n",
       "</div>"
      ],
      "text/plain": [
       "        Ensembl ID                                        Uniprot IDs  \\\n",
       "0  ENSG00000000003       A0A087WYV6_HUMAN A0A087WZU5_HUMAN TSN6_HUMAN   \n",
       "1  ENSG00000000005                                         TNMD_HUMAN   \n",
       "2  ENSG00000000419  H0Y368_HUMAN DPM1_HUMAN Q5QPJ9_HUMAN Q5QPK2_HUMAN   \n",
       "\n",
       "    Length  Symbol  Degree  mitochondrion organization  cell adhesion  \\\n",
       "0  15084.0  TSPAN6       5                           0              0   \n",
       "1  12883.0    TNMD       1                           0              0   \n",
       "2  44637.0    DPM1      15                           0              0   \n",
       "\n",
       "   signal transduction  B cell FPKM  Neuron FPKM  \n",
       "0                    0         0.08        19.70  \n",
       "1                    0         0.00         0.00  \n",
       "2                    0         9.55        44.89  "
      ]
     },
     "execution_count": 3,
     "metadata": {},
     "output_type": "execute_result"
    }
   ],
   "source": [
    "df.head(3)"
   ]
  },
  {
   "cell_type": "code",
   "execution_count": 5,
   "metadata": {
    "slideshow": {
     "slide_type": "skip"
    }
   },
   "outputs": [
    {
     "name": "stderr",
     "output_type": "stream",
     "text": [
      "/home/pavel/anaconda3/lib/python3.6/site-packages/pandas/core/frame.py:3137: SettingWithCopyWarning: \n",
      "A value is trying to be set on a copy of a slice from a DataFrame.\n",
      "Try using .loc[row_indexer,col_indexer] = value instead\n",
      "\n",
      "See the caveats in the documentation: http://pandas.pydata.org/pandas-docs/stable/indexing.html#indexing-view-versus-copy\n",
      "  self[k1] = value[k2]\n"
     ]
    }
   ],
   "source": [
    "new_df = df[(df[\"Degree\"] != 0)]\n",
    "new_df[[\"Length\", \"Degree\"]] = np.log10(new_df[[\"Length\", \"Degree\"]])\n",
    "new_df[[\"B cell FPKM\", \"Neuron FPKM\"]] = np.log10(new_df[[\"B cell FPKM\", \"Neuron FPKM\"]] + 1e-2)"
   ]
  },
  {
   "cell_type": "code",
   "execution_count": 6,
   "metadata": {
    "slideshow": {
     "slide_type": "skip"
    }
   },
   "outputs": [],
   "source": [
    "cols = list(new_df.columns)\n",
    "cols[2] = \"Log10 length\"\n",
    "cols[4] = \"Log10 degree\"\n",
    "cols[8] = \"B cell log10 FPKM\"\n",
    "cols[9] = \"Neuron log10 FPKM\"\n",
    "new_df.columns = cols"
   ]
  },
  {
   "cell_type": "code",
   "execution_count": 7,
   "metadata": {
    "slideshow": {
     "slide_type": "skip"
    }
   },
   "outputs": [],
   "source": [
    "df = new_df"
   ]
  },
  {
   "cell_type": "markdown",
   "metadata": {
    "slideshow": {
     "slide_type": "slide"
    }
   },
   "source": [
    "# Seaborn - рецепты"
   ]
  },
  {
   "cell_type": "code",
   "execution_count": 8,
   "metadata": {
    "slideshow": {
     "slide_type": "fragment"
    }
   },
   "outputs": [],
   "source": [
    "import seaborn as sns"
   ]
  },
  {
   "cell_type": "markdown",
   "metadata": {
    "slideshow": {
     "slide_type": "fragment"
    }
   },
   "source": [
    "## Распределение - sns.distplot"
   ]
  },
  {
   "cell_type": "code",
   "execution_count": 9,
   "metadata": {
    "slideshow": {
     "slide_type": "fragment"
    }
   },
   "outputs": [
    {
     "data": {
      "text/plain": [
       "<matplotlib.axes._subplots.AxesSubplot at 0x7f7acbbee898>"
      ]
     },
     "execution_count": 9,
     "metadata": {},
     "output_type": "execute_result"
    },
    {
     "data": {
      "image/png": "[encoded data removed]",
      "text/plain": [
       "<Figure size 432x288 with 1 Axes>"
      ]
     },
     "metadata": {},
     "output_type": "display_data"
    }
   ],
   "source": [
    "sns.distplot(df[\"Neuron log10 FPKM\"])"
   ]
  },
  {
   "cell_type": "markdown",
   "metadata": {
    "slideshow": {
     "slide_type": "slide"
    }
   },
   "source": [
    "## Стиль, палитра"
   ]
  },
  {
   "cell_type": "code",
   "execution_count": 10,
   "metadata": {
    "slideshow": {
     "slide_type": "fragment"
    }
   },
   "outputs": [],
   "source": [
    "sns.set_style(\"darkgrid\")\n",
    "sns.set_palette(\"muted\")"
   ]
  },
  {
   "cell_type": "code",
   "execution_count": 11,
   "metadata": {
    "slideshow": {
     "slide_type": "fragment"
    }
   },
   "outputs": [
    {
     "data": {
      "text/plain": [
       "<matplotlib.axes._subplots.AxesSubplot at 0x7f7acbbc0198>"
      ]
     },
     "execution_count": 11,
     "metadata": {},
     "output_type": "execute_result"
    },
    {
     "data": {
      "image/png": "[encoded data removed]",
      "text/plain": [
       "<Figure size 432x288 with 1 Axes>"
      ]
     },
     "metadata": {},
     "output_type": "display_data"
    }
   ],
   "source": [
    "sns.distplot(df[\"Neuron log10 FPKM\"])"
   ]
  },
  {
   "cell_type": "markdown",
   "metadata": {
    "slideshow": {
     "slide_type": "slide"
    }
   },
   "source": [
    "![title](matplotlib_seaborn.jpg)"
   ]
  },
  {
   "cell_type": "markdown",
   "metadata": {
    "slideshow": {
     "slide_type": "slide"
    }
   },
   "source": [
    "## Глобальные параметры - matplotlib.rcParams"
   ]
  },
  {
   "cell_type": "code",
   "execution_count": 12,
   "metadata": {
    "slideshow": {
     "slide_type": "fragment"
    }
   },
   "outputs": [],
   "source": [
    "import matplotlib as mpl"
   ]
  },
  {
   "cell_type": "code",
   "execution_count": 13,
   "metadata": {
    "slideshow": {
     "slide_type": "fragment"
    }
   },
   "outputs": [],
   "source": [
    "width, height = 10, 6\n",
    "mpl.rcParams['figure.figsize'] = [width, height]"
   ]
  },
  {
   "cell_type": "code",
   "execution_count": 14,
   "metadata": {
    "slideshow": {
     "slide_type": "fragment"
    }
   },
   "outputs": [
    {
     "data": {
      "text/plain": [
       "<matplotlib.axes._subplots.AxesSubplot at 0x7f7acbda8438>"
      ]
     },
     "execution_count": 14,
     "metadata": {},
     "output_type": "execute_result"
    },
    {
     "data": {
      "image/png": "[encoded data removed]",
      "text/plain": [
       "<Figure size 720x432 with 1 Axes>"
      ]
     },
     "metadata": {},
     "output_type": "display_data"
    }
   ],
   "source": [
    "sns.distplot(df[\"Neuron log10 FPKM\"])"
   ]
  },
  {
   "cell_type": "markdown",
   "metadata": {
    "slideshow": {
     "slide_type": "slide"
    }
   },
   "source": [
    "## Подписи по осям"
   ]
  },
  {
   "cell_type": "code",
   "execution_count": 15,
   "metadata": {
    "slideshow": {
     "slide_type": "fragment"
    }
   },
   "outputs": [
    {
     "ename": "NameError",
     "evalue": "name 'plt' is not defined",
     "output_type": "error",
     "traceback": [
      "\u001b[0;31m---------------------------------------------------------------------------\u001b[0m",
      "\u001b[0;31mNameError\u001b[0m                                 Traceback (most recent call last)",
      "\u001b[0;32m<ipython-input-15-89d373d75849>\u001b[0m in \u001b[0;36m<module>\u001b[0;34m()\u001b[0m\n\u001b[1;32m      1\u001b[0m \u001b[0msns\u001b[0m\u001b[0;34m.\u001b[0m\u001b[0mdistplot\u001b[0m\u001b[0;34m(\u001b[0m\u001b[0mdf\u001b[0m\u001b[0;34m[\u001b[0m\u001b[0;34m\"Neuron log10 FPKM\"\u001b[0m\u001b[0;34m]\u001b[0m\u001b[0;34m)\u001b[0m\u001b[0;34m\u001b[0m\u001b[0m\n\u001b[0;32m----> 2\u001b[0;31m \u001b[0mplt\u001b[0m\u001b[0;34m.\u001b[0m\u001b[0mtitle\u001b[0m\u001b[0;34m(\u001b[0m\u001b[0;34m\"FPKM distribution\"\u001b[0m\u001b[0;34m,\u001b[0m \u001b[0msize\u001b[0m\u001b[0;34m=\u001b[0m\u001b[0;36m18\u001b[0m\u001b[0;34m)\u001b[0m\u001b[0;34m\u001b[0m\u001b[0m\n\u001b[0m\u001b[1;32m      3\u001b[0m \u001b[0mplt\u001b[0m\u001b[0;34m.\u001b[0m\u001b[0mxlabel\u001b[0m\u001b[0;34m(\u001b[0m\u001b[0;34m\"B cell log10 FPKM\"\u001b[0m\u001b[0;34m,\u001b[0m \u001b[0msize\u001b[0m\u001b[0;34m=\u001b[0m\u001b[0;36m15\u001b[0m\u001b[0;34m)\u001b[0m\u001b[0;34m\u001b[0m\u001b[0m\n\u001b[1;32m      4\u001b[0m \u001b[0mplt\u001b[0m\u001b[0;34m.\u001b[0m\u001b[0mylabel\u001b[0m\u001b[0;34m(\u001b[0m\u001b[0;34m\"Density\"\u001b[0m\u001b[0;34m,\u001b[0m \u001b[0msize\u001b[0m\u001b[0;34m=\u001b[0m\u001b[0;36m15\u001b[0m\u001b[0;34m)\u001b[0m\u001b[0;34m\u001b[0m\u001b[0m\n",
      "\u001b[0;31mNameError\u001b[0m: name 'plt' is not defined"
     ]
    },
    {
     "data": {
      "image/png": "[encoded data removed]",
      "text/plain": [
       "<Figure size 720x432 with 1 Axes>"
      ]
     },
     "metadata": {},
     "output_type": "display_data"
    }
   ],
   "source": [
    "sns.distplot(df[\"Neuron log10 FPKM\"])\n",
    "plt.title(\"FPKM distribution\", size=18)\n",
    "plt.xlabel(\"B cell log10 FPKM\", size=15)\n",
    "plt.ylabel(\"Density\", size=15)"
   ]
  },
  {
   "cell_type": "markdown",
   "metadata": {
    "slideshow": {
     "slide_type": "slide"
    }
   },
   "source": [
    "## Отметки по осям"
   ]
  },
  {
   "cell_type": "code",
   "execution_count": 16,
   "metadata": {
    "slideshow": {
     "slide_type": "fragment"
    }
   },
   "outputs": [
    {
     "ename": "NameError",
     "evalue": "name 'b_cell_expr_logs' is not defined",
     "output_type": "error",
     "traceback": [
      "\u001b[0;31m---------------------------------------------------------------------------\u001b[0m",
      "\u001b[0;31mNameError\u001b[0m                                 Traceback (most recent call last)",
      "\u001b[0;32m<ipython-input-16-8bd195e2594d>\u001b[0m in \u001b[0;36m<module>\u001b[0;34m()\u001b[0m\n\u001b[0;32m----> 1\u001b[0;31m \u001b[0msns\u001b[0m\u001b[0;34m.\u001b[0m\u001b[0mdistplot\u001b[0m\u001b[0;34m(\u001b[0m\u001b[0mb_cell_expr_logs\u001b[0m\u001b[0;34m)\u001b[0m\u001b[0;34m\u001b[0m\u001b[0m\n\u001b[0m\u001b[1;32m      2\u001b[0m \u001b[0mplt\u001b[0m\u001b[0;34m.\u001b[0m\u001b[0mtitle\u001b[0m\u001b[0;34m(\u001b[0m\u001b[0;34m\"FPKM distribution\"\u001b[0m\u001b[0;34m,\u001b[0m \u001b[0msize\u001b[0m\u001b[0;34m=\u001b[0m\u001b[0;36m18\u001b[0m\u001b[0;34m)\u001b[0m\u001b[0;34m\u001b[0m\u001b[0m\n\u001b[1;32m      3\u001b[0m \u001b[0mplt\u001b[0m\u001b[0;34m.\u001b[0m\u001b[0mxticks\u001b[0m\u001b[0;34m(\u001b[0m\u001b[0msize\u001b[0m\u001b[0;34m=\u001b[0m\u001b[0;36m15\u001b[0m\u001b[0;34m)\u001b[0m\u001b[0;34m\u001b[0m\u001b[0m\n\u001b[1;32m      4\u001b[0m \u001b[0mplt\u001b[0m\u001b[0;34m.\u001b[0m\u001b[0myticks\u001b[0m\u001b[0;34m(\u001b[0m\u001b[0msize\u001b[0m\u001b[0;34m=\u001b[0m\u001b[0;36m15\u001b[0m\u001b[0;34m)\u001b[0m\u001b[0;34m\u001b[0m\u001b[0m\n",
      "\u001b[0;31mNameError\u001b[0m: name 'b_cell_expr_logs' is not defined"
     ]
    }
   ],
   "source": [
    "sns.distplot(b_cell_expr_logs)\n",
    "plt.title(\"FPKM distribution\", size=18)\n",
    "plt.xticks(size=15)\n",
    "plt.yticks(size=15)"
   ]
  },
  {
   "cell_type": "markdown",
   "metadata": {
    "slideshow": {
     "slide_type": "slide"
    }
   },
   "source": [
    "## Совместное распределение - sns.jointplot"
   ]
  },
  {
   "cell_type": "code",
   "execution_count": 17,
   "metadata": {
    "slideshow": {
     "slide_type": "skip"
    }
   },
   "outputs": [],
   "source": [
    "width, height = 6, 6\n",
    "mpl.rcParams['figure.figsize'] = [width, height]"
   ]
  },
  {
   "cell_type": "code",
   "execution_count": 18,
   "metadata": {
    "slideshow": {
     "slide_type": "fragment"
    }
   },
   "outputs": [
    {
     "data": {
      "text/plain": [
       "<seaborn.axisgrid.JointGrid at 0x7f7ac26e1320>"
      ]
     },
     "execution_count": 18,
     "metadata": {},
     "output_type": "execute_result"
    },
    {
     "data": {
      "image/png": "[encoded data removed]",
      "text/plain": [
       "<Figure size 432x432 with 3 Axes>"
      ]
     },
     "metadata": {},
     "output_type": "display_data"
    }
   ],
   "source": [
    "sns.jointplot(\"B cell log10 FPKM\", \"Neuron log10 FPKM\", \n",
    "              data=df, kind=\"scatter\")"
   ]
  },
  {
   "cell_type": "markdown",
   "metadata": {
    "slideshow": {
     "slide_type": "subslide"
    }
   },
   "source": [
    "## Плотность совместного распределения"
   ]
  },
  {
   "cell_type": "code",
   "execution_count": 19,
   "metadata": {
    "slideshow": {
     "slide_type": "fragment"
    }
   },
   "outputs": [
    {
     "data": {
      "text/plain": [
       "<seaborn.axisgrid.JointGrid at 0x7f7ac2595e80>"
      ]
     },
     "execution_count": 19,
     "metadata": {},
     "output_type": "execute_result"
    },
    {
     "data": {
      "image/png": "[encoded data removed]",
      "text/plain": [
       "<Figure size 432x432 with 3 Axes>"
      ]
     },
     "metadata": {},
     "output_type": "display_data"
    }
   ],
   "source": [
    "sns.jointplot(\"B cell log10 FPKM\", \"Neuron log10 FPKM\", data=df, kind=\"kde\") "
   ]
  },
  {
   "cell_type": "markdown",
   "metadata": {
    "slideshow": {
     "slide_type": "subslide"
    }
   },
   "source": [
    "## Оптимальный вариант"
   ]
  },
  {
   "cell_type": "code",
   "execution_count": 20,
   "metadata": {
    "slideshow": {
     "slide_type": "fragment"
    }
   },
   "outputs": [
    {
     "data": {
      "text/plain": [
       "<seaborn.axisgrid.JointGrid at 0x7f7ac23e0668>"
      ]
     },
     "execution_count": 20,
     "metadata": {},
     "output_type": "execute_result"
    },
    {
     "data": {
      "image/png": "[encoded data removed]",
      "text/plain": [
       "<Figure size 432x432 with 3 Axes>"
      ]
     },
     "metadata": {},
     "output_type": "display_data"
    }
   ],
   "source": [
    "sns.jointplot(\"B cell log10 FPKM\", \"Neuron log10 FPKM\", data=df, kind=\"scatter\", alpha=0.1) "
   ]
  },
  {
   "cell_type": "markdown",
   "metadata": {
    "slideshow": {
     "slide_type": "slide"
    }
   },
   "source": [
    "## Ящики с усами - sns.boxplot"
   ]
  },
  {
   "cell_type": "code",
   "execution_count": 21,
   "metadata": {
    "slideshow": {
     "slide_type": "fragment"
    }
   },
   "outputs": [],
   "source": [
    "expr_df = pd.DataFrame()\n",
    "expr_df[\"Log10 FPKM\"] = pd.concat([df[\"B cell log10 FPKM\"], \n",
    "                                   df[\"Neuron log10 FPKM\"]])\n",
    "expr_df[\"Cell adhesion\"] = pd.concat([df[\"cell adhesion\"], \n",
    "                                      df[\"cell adhesion\"]])\n",
    "expr_df[\"Cell type\"] = [\"B cells\" for _ in range(len(df))] + [\"Neurons\" for _ in range(len(df))]"
   ]
  },
  {
   "cell_type": "code",
   "execution_count": 20,
   "metadata": {
    "slideshow": {
     "slide_type": "fragment"
    }
   },
   "outputs": [
    {
     "data": {
      "text/html": [
       "<div>\n",
       "<style scoped>\n",
       "    .dataframe tbody tr th:only-of-type {\n",
       "        vertical-align: middle;\n",
       "    }\n",
       "\n",
       "    .dataframe tbody tr th {\n",
       "        vertical-align: top;\n",
       "    }\n",
       "\n",
       "    .dataframe thead th {\n",
       "        text-align: right;\n",
       "    }\n",
       "</style>\n",
       "<table border=\"1\" class=\"dataframe\">\n",
       "  <thead>\n",
       "    <tr style=\"text-align: right;\">\n",
       "      <th></th>\n",
       "      <th>Log10 FPKM</th>\n",
       "      <th>Cell adhesion</th>\n",
       "      <th>Cell type</th>\n",
       "    </tr>\n",
       "  </thead>\n",
       "  <tbody>\n",
       "    <tr>\n",
       "      <th>8355</th>\n",
       "      <td>-2.000000</td>\n",
       "      <td>0</td>\n",
       "      <td>B cells</td>\n",
       "    </tr>\n",
       "    <tr>\n",
       "      <th>13268</th>\n",
       "      <td>2.016197</td>\n",
       "      <td>0</td>\n",
       "      <td>Neurons</td>\n",
       "    </tr>\n",
       "    <tr>\n",
       "      <th>5047</th>\n",
       "      <td>1.877544</td>\n",
       "      <td>0</td>\n",
       "      <td>Neurons</td>\n",
       "    </tr>\n",
       "  </tbody>\n",
       "</table>\n",
       "</div>"
      ],
      "text/plain": [
       "       Log10 FPKM  Cell adhesion Cell type\n",
       "8355    -2.000000              0   B cells\n",
       "13268    2.016197              0   Neurons\n",
       "5047     1.877544              0   Neurons"
      ]
     },
     "execution_count": 20,
     "metadata": {},
     "output_type": "execute_result"
    }
   ],
   "source": [
    "expr_df.sample(3)"
   ]
  },
  {
   "cell_type": "code",
   "execution_count": 21,
   "metadata": {
    "slideshow": {
     "slide_type": "skip"
    }
   },
   "outputs": [],
   "source": [
    "height, width = 5, 8\n",
    "sns.set(rc={\"figure.figsize\": (width, height)})"
   ]
  },
  {
   "cell_type": "code",
   "execution_count": 22,
   "metadata": {
    "slideshow": {
     "slide_type": "subslide"
    }
   },
   "outputs": [
    {
     "data": {
      "text/plain": [
       "<matplotlib.axes._subplots.AxesSubplot at 0x7f7ac225d6d8>"
      ]
     },
     "execution_count": 22,
     "metadata": {},
     "output_type": "execute_result"
    },
    {
     "data": {
      "image/png": "[encoded data removed]",
      "text/plain": [
       "<Figure size 432x432 with 1 Axes>"
      ]
     },
     "metadata": {},
     "output_type": "display_data"
    }
   ],
   "source": [
    "sns.boxplot(\"Cell type\", \"Log10 FPKM\", hue=\"Cell adhesion\", data=expr_df)"
   ]
  },
  {
   "cell_type": "markdown",
   "metadata": {
    "slideshow": {
     "slide_type": "subslide"
    }
   },
   "source": [
    "## А если посмотреть на митохондрии?"
   ]
  },
  {
   "cell_type": "code",
   "execution_count": 23,
   "metadata": {
    "slideshow": {
     "slide_type": "skip"
    }
   },
   "outputs": [],
   "source": [
    "expr_df = pd.DataFrame()\n",
    "expr_df[\"Log10 FPKM\"] = pd.concat([df[\"B cell log10 FPKM\"], \n",
    "                                   df[\"Neuron log10 FPKM\"]])\n",
    "expr_df[\"Mitochondrion organization\"] = pd.concat([df[\"mitochondrion organization\"], \n",
    "                                      df[\"mitochondrion organization\"]])\n",
    "expr_df[\"Cell type\"] = [\"B cells\" for _ in range(len(df))] + [\"Neurons\" for _ in range(len(df))]"
   ]
  },
  {
   "cell_type": "code",
   "execution_count": 24,
   "metadata": {
    "slideshow": {
     "slide_type": "fragment"
    }
   },
   "outputs": [
    {
     "data": {
      "text/plain": [
       "<matplotlib.axes._subplots.AxesSubplot at 0x7f7ac81382e8>"
      ]
     },
     "execution_count": 24,
     "metadata": {},
     "output_type": "execute_result"
    },
    {
     "data": {
      "image/png": "[encoded data removed]",
      "text/plain": [
       "<Figure size 432x432 with 1 Axes>"
      ]
     },
     "metadata": {},
     "output_type": "display_data"
    }
   ],
   "source": [
    "sns.boxplot(\"Cell type\", \"Log10 FPKM\", hue=\"Mitochondrion organization\", data=expr_df)"
   ]
  },
  {
   "cell_type": "markdown",
   "metadata": {
    "slideshow": {
     "slide_type": "slide"
    }
   },
   "source": [
    "## Тепловая карта - sns.heatmap"
   ]
  },
  {
   "cell_type": "code",
   "execution_count": 25,
   "metadata": {
    "slideshow": {
     "slide_type": "fragment"
    }
   },
   "outputs": [
    {
     "data": {
      "text/plain": [
       "<matplotlib.axes._subplots.AxesSubplot at 0x7f7ac09ef6a0>"
      ]
     },
     "execution_count": 25,
     "metadata": {},
     "output_type": "execute_result"
    },
    {
     "data": {
      "image/png": "[encoded data removed]",
      "text/plain": [
       "<Figure size 432x432 with 2 Axes>"
      ]
     },
     "metadata": {},
     "output_type": "display_data"
    }
   ],
   "source": [
    "sns.heatmap(df[[\"Neuron log10 FPKM\", \"B cell log10 FPKM\"]])"
   ]
  },
  {
   "cell_type": "markdown",
   "metadata": {
    "slideshow": {
     "slide_type": "slide"
    }
   },
   "source": [
    "## Скластеризованная тепловая карта - sns.clustermap"
   ]
  },
  {
   "cell_type": "code",
   "execution_count": null,
   "metadata": {
    "slideshow": {
     "slide_type": "fragment"
    }
   },
   "outputs": [],
   "source": [
    "sns.clustermap(df[[\"Neuron log10 FPKM\", \"B cell log10 FPKM\"]], cmap=\"spring\", figsize=(6, 5))"
   ]
  },
  {
   "cell_type": "code",
   "execution_count": 53,
   "metadata": {
    "scrolled": true
   },
   "outputs": [
    {
     "name": "stdout",
     "output_type": "stream",
     "text": [
      "       Neuron log10 FPKM  B cell log10 FPKM\n",
      "0               1.294687          -1.045757\n",
      "1              -2.000000          -2.000000\n",
      "2               1.652246           0.980458\n",
      "3               0.575188           1.007748\n",
      "4              -2.000000           2.324015\n",
      "5              -2.000000          -2.000000\n",
      "6               0.818226           0.414973\n",
      "7               0.774517           0.866287\n",
      "8               1.142389           1.222456\n",
      "9               1.098644           1.230449\n",
      "10              1.141450           1.223496\n",
      "11              1.269279          -2.000000\n",
      "12             -1.698970          -2.000000\n",
      "13              1.263873           1.071514\n",
      "14              2.256092           0.654177\n",
      "15              1.151982           1.264818\n",
      "16              0.822822           1.296884\n",
      "17              1.635986           1.447003\n",
      "18              1.269513           1.118926\n",
      "19              1.158965           1.638489\n",
      "20             -0.886057           1.102091\n",
      "21             -2.000000          -1.221849\n",
      "22             -1.045757           0.480007\n",
      "23              1.245019          -2.000000\n",
      "24              1.516535           1.792322\n",
      "25              1.410946           1.568554\n",
      "26              1.061829           1.262451\n",
      "27             -0.481486          -0.107905\n",
      "28              1.570193           1.624282\n",
      "29              1.232488          -1.397940\n",
      "...                  ...                ...\n",
      "14420          -2.000000          -2.000000\n",
      "14421           0.113943          -2.000000\n",
      "14422          -2.000000          -2.000000\n",
      "14423           1.168792          -2.000000\n",
      "14424           0.635484          -1.301030\n",
      "14425           0.480007          -0.086186\n",
      "14426           2.357401           1.083861\n",
      "14427           0.781755          -0.200659\n",
      "14428          -2.000000          -1.301030\n",
      "14429           2.452201          -2.000000\n",
      "14430          -2.000000           1.350054\n",
      "14431          -2.000000           0.990339\n",
      "14432           2.013132           2.119652\n",
      "14433          -2.000000          -2.000000\n",
      "14434          -0.481486          -1.397940\n",
      "14435           1.283753           0.613842\n",
      "14436          -2.000000          -2.000000\n",
      "14437           0.992111           0.389166\n",
      "14438          -1.000000          -0.142668\n",
      "14439          -1.154902          -2.000000\n",
      "14440           1.427486           1.883718\n",
      "14441           1.391288           0.534026\n",
      "14442          -1.397940          -2.000000\n",
      "14443          -0.107905           0.812913\n",
      "14444           1.422261           0.973128\n",
      "14445          -2.000000          -2.000000\n",
      "14446          -2.000000          -2.000000\n",
      "14447           1.529943           1.105169\n",
      "14448          -2.000000          -2.000000\n",
      "14449           1.376942           1.417139\n",
      "\n",
      "[14448 rows x 2 columns]\n",
      "0\n",
      "0\n"
     ]
    }
   ],
   "source": [
    "print(df[[\"Neuron log10 FPKM\", \"B cell log10 FPKM\"]])\n",
    "print(sum(df[[\"Neuron log10 FPKM\", \"B cell log10 FPKM\"]][\"Neuron log10 FPKM\"] == np.nan))\n",
    "print(sum(df[[\"Neuron log10 FPKM\", \"B cell log10 FPKM\"]][\"B cell log10 FPKM\"] == np.nan))\n"
   ]
  },
  {
   "cell_type": "code",
   "execution_count": 28,
   "metadata": {},
   "outputs": [
    {
     "data": {
      "image/png": "[encoded data removed]",
      "text/plain": [
       "<Figure size 720x720 with 4 Axes>"
      ]
     },
     "metadata": {},
     "output_type": "display_data"
    }
   ],
   "source": [
    "import seaborn as sns; sns.set(color_codes=True)\n",
    "iris = sns.load_dataset(\"iris\")\n",
    "species = iris.pop(\"species\")\n",
    "g = sns.clustermap(iris)"
   ]
  },
  {
   "cell_type": "markdown",
   "metadata": {
    "slideshow": {
     "slide_type": "slide"
    }
   },
   "source": [
    "## Когда приходится использовать matplotlib"
   ]
  },
  {
   "cell_type": "code",
   "execution_count": 29,
   "metadata": {
    "slideshow": {
     "slide_type": "fragment"
    }
   },
   "outputs": [],
   "source": [
    "import matplotlib.pyplot as plt\n",
    "import numpy as np"
   ]
  },
  {
   "cell_type": "code",
   "execution_count": 30,
   "metadata": {
    "slideshow": {
     "slide_type": "fragment"
    }
   },
   "outputs": [],
   "source": [
    "x = np.arange(200)\n",
    "sqr_x = x ** 2 / 100"
   ]
  },
  {
   "cell_type": "markdown",
   "metadata": {
    "slideshow": {
     "slide_type": "subslide"
    }
   },
   "source": [
    "## Легенда"
   ]
  },
  {
   "cell_type": "code",
   "execution_count": 31,
   "metadata": {
    "slideshow": {
     "slide_type": "skip"
    }
   },
   "outputs": [],
   "source": [
    "height, width = 4.5, 4.5\n",
    "sns.set(rc={\"figure.figsize\": (width, height)})"
   ]
  },
  {
   "cell_type": "code",
   "execution_count": 32,
   "metadata": {
    "slideshow": {
     "slide_type": "fragment"
    }
   },
   "outputs": [
    {
     "data": {
      "text/plain": [
       "<matplotlib.legend.Legend at 0x7f2727986d68>"
      ]
     },
     "execution_count": 32,
     "metadata": {},
     "output_type": "execute_result"
    },
    {
     "data": {
      "image/png": "[encoded data removed]",
      "text/plain": [
       "<Figure size 324x324 with 1 Axes>"
      ]
     },
     "metadata": {},
     "output_type": "display_data"
    }
   ],
   "source": [
    "plt.plot(x, sqr_x, color=\"red\")\n",
    "plt.plot(x, x, color=\"blue\")\n",
    "plt.legend([\"quadratic\", \"linear\"], loc=\"upper center\")"
   ]
  },
  {
   "cell_type": "markdown",
   "metadata": {
    "slideshow": {
     "slide_type": "slide"
    }
   },
   "source": [
    "## Ключевые вещи по seaborn и matplotlib"
   ]
  },
  {
   "cell_type": "markdown",
   "metadata": {
    "slideshow": {
     "slide_type": "fragment"
    }
   },
   "source": [
    "* Seaborn написан на matplotlib\n",
    "* Seaborn создан для того, чтобы сделать всё хорошо :)\n",
    "* sns.distplot - распределение\n",
    "* sns.jointplot - двумерное распределение\n",
    "* sns.boxplot - ящики с усами\n",
    "* sns.clustermap - кластеризованная теплокарта\n",
    "* mpl.rcParams - глобальные параметры отрисовки графиков\n",
    "* plt.xlabel, plt.ylabel - подписи по осям\n",
    "* plt.xticks, plt.yticks - отметки по осям\n",
    "* plt.title - название наверху\n",
    "* plt.legend - легенда"
   ]
  },
  {
   "cell_type": "markdown",
   "metadata": {
    "slideshow": {
     "slide_type": "slide"
    }
   },
   "source": [
    "# Altair"
   ]
  },
  {
   "cell_type": "code",
   "execution_count": 59,
   "metadata": {
    "slideshow": {
     "slide_type": "fragment"
    }
   },
   "outputs": [],
   "source": [
    "import altair as alt"
   ]
  },
  {
   "cell_type": "code",
   "execution_count": 60,
   "metadata": {
    "slideshow": {
     "slide_type": "fragment"
    }
   },
   "outputs": [],
   "source": [
    "chart = alt.Chart(df, max_rows=20000)"
   ]
  },
  {
   "cell_type": "markdown",
   "metadata": {
    "slideshow": {
     "slide_type": "slide"
    }
   },
   "source": [
    "## Гистограмма"
   ]
  },
  {
   "cell_type": "code",
   "execution_count": 61,
   "metadata": {
    "slideshow": {
     "slide_type": "fragment"
    }
   },
   "outputs": [
    {
     "ename": "MaxRowsError",
     "evalue": "The number of rows in your dataset is greater than the max of 5000",
     "output_type": "error",
     "traceback": [
      "\u001b[0;31m---------------------------------------------------------------------------\u001b[0m",
      "\u001b[0;31mMaxRowsError\u001b[0m                              Traceback (most recent call last)",
      "\u001b[0;32m~/anaconda3/lib/python3.6/site-packages/altair/vegalite/v2/api.py\u001b[0m in \u001b[0;36mto_dict\u001b[0;34m(self, *args, **kwargs)\u001b[0m\n\u001b[1;32m    310\u001b[0m         \u001b[0mcopy\u001b[0m \u001b[0;34m=\u001b[0m \u001b[0mself\u001b[0m\u001b[0;34m.\u001b[0m\u001b[0mcopy\u001b[0m\u001b[0;34m(\u001b[0m\u001b[0;34m)\u001b[0m\u001b[0;34m\u001b[0m\u001b[0m\n\u001b[1;32m    311\u001b[0m         \u001b[0moriginal_data\u001b[0m \u001b[0;34m=\u001b[0m \u001b[0mgetattr\u001b[0m\u001b[0;34m(\u001b[0m\u001b[0mcopy\u001b[0m\u001b[0;34m,\u001b[0m \u001b[0;34m'data'\u001b[0m\u001b[0;34m,\u001b[0m \u001b[0mUndefined\u001b[0m\u001b[0;34m)\u001b[0m\u001b[0;34m\u001b[0m\u001b[0m\n\u001b[0;32m--> 312\u001b[0;31m         \u001b[0mcopy\u001b[0m\u001b[0;34m.\u001b[0m\u001b[0mdata\u001b[0m \u001b[0;34m=\u001b[0m \u001b[0m_prepare_data\u001b[0m\u001b[0;34m(\u001b[0m\u001b[0moriginal_data\u001b[0m\u001b[0;34m)\u001b[0m\u001b[0;34m\u001b[0m\u001b[0m\n\u001b[0m\u001b[1;32m    313\u001b[0m \u001b[0;34m\u001b[0m\u001b[0m\n\u001b[1;32m    314\u001b[0m         \u001b[0;31m# We make use of two context markers:\u001b[0m\u001b[0;34m\u001b[0m\u001b[0;34m\u001b[0m\u001b[0m\n",
      "\u001b[0;32m~/anaconda3/lib/python3.6/site-packages/altair/vegalite/v2/api.py\u001b[0m in \u001b[0;36m_prepare_data\u001b[0;34m(data)\u001b[0m\n\u001b[1;32m     22\u001b[0m         \u001b[0;32mreturn\u001b[0m \u001b[0mdata\u001b[0m\u001b[0;34m\u001b[0m\u001b[0m\n\u001b[1;32m     23\u001b[0m     \u001b[0;32melif\u001b[0m \u001b[0misinstance\u001b[0m\u001b[0;34m(\u001b[0m\u001b[0mdata\u001b[0m\u001b[0;34m,\u001b[0m \u001b[0mpd\u001b[0m\u001b[0;34m.\u001b[0m\u001b[0mDataFrame\u001b[0m\u001b[0;34m)\u001b[0m\u001b[0;34m:\u001b[0m\u001b[0;34m\u001b[0m\u001b[0m\n\u001b[0;32m---> 24\u001b[0;31m         \u001b[0;32mreturn\u001b[0m \u001b[0mpipe\u001b[0m\u001b[0;34m(\u001b[0m\u001b[0mdata\u001b[0m\u001b[0;34m,\u001b[0m \u001b[0mdata_transformers\u001b[0m\u001b[0;34m.\u001b[0m\u001b[0mget\u001b[0m\u001b[0;34m(\u001b[0m\u001b[0;34m)\u001b[0m\u001b[0;34m)\u001b[0m\u001b[0;34m\u001b[0m\u001b[0m\n\u001b[0m\u001b[1;32m     25\u001b[0m     \u001b[0;32melif\u001b[0m \u001b[0misinstance\u001b[0m\u001b[0;34m(\u001b[0m\u001b[0mdata\u001b[0m\u001b[0;34m,\u001b[0m \u001b[0msix\u001b[0m\u001b[0;34m.\u001b[0m\u001b[0mstring_types\u001b[0m\u001b[0;34m)\u001b[0m\u001b[0;34m:\u001b[0m\u001b[0;34m\u001b[0m\u001b[0m\n\u001b[1;32m     26\u001b[0m         \u001b[0;32mreturn\u001b[0m \u001b[0mcore\u001b[0m\u001b[0;34m.\u001b[0m\u001b[0mUrlData\u001b[0m\u001b[0;34m(\u001b[0m\u001b[0mdata\u001b[0m\u001b[0;34m)\u001b[0m\u001b[0;34m\u001b[0m\u001b[0m\n",
      "\u001b[0;32m~/anaconda3/lib/python3.6/site-packages/toolz/functoolz.py\u001b[0m in \u001b[0;36mpipe\u001b[0;34m(data, *funcs)\u001b[0m\n\u001b[1;32m    550\u001b[0m     \"\"\"\n\u001b[1;32m    551\u001b[0m     \u001b[0;32mfor\u001b[0m \u001b[0mfunc\u001b[0m \u001b[0;32min\u001b[0m \u001b[0mfuncs\u001b[0m\u001b[0;34m:\u001b[0m\u001b[0;34m\u001b[0m\u001b[0m\n\u001b[0;32m--> 552\u001b[0;31m         \u001b[0mdata\u001b[0m \u001b[0;34m=\u001b[0m \u001b[0mfunc\u001b[0m\u001b[0;34m(\u001b[0m\u001b[0mdata\u001b[0m\u001b[0;34m)\u001b[0m\u001b[0;34m\u001b[0m\u001b[0m\n\u001b[0m\u001b[1;32m    553\u001b[0m     \u001b[0;32mreturn\u001b[0m \u001b[0mdata\u001b[0m\u001b[0;34m\u001b[0m\u001b[0m\n\u001b[1;32m    554\u001b[0m \u001b[0;34m\u001b[0m\u001b[0m\n",
      "\u001b[0;32m~/anaconda3/lib/python3.6/site-packages/toolz/functoolz.py\u001b[0m in \u001b[0;36m__call__\u001b[0;34m(self, *args, **kwargs)\u001b[0m\n\u001b[1;32m    281\u001b[0m     \u001b[0;32mdef\u001b[0m \u001b[0m__call__\u001b[0m\u001b[0;34m(\u001b[0m\u001b[0mself\u001b[0m\u001b[0;34m,\u001b[0m \u001b[0;34m*\u001b[0m\u001b[0margs\u001b[0m\u001b[0;34m,\u001b[0m \u001b[0;34m**\u001b[0m\u001b[0mkwargs\u001b[0m\u001b[0;34m)\u001b[0m\u001b[0;34m:\u001b[0m\u001b[0;34m\u001b[0m\u001b[0m\n\u001b[1;32m    282\u001b[0m         \u001b[0;32mtry\u001b[0m\u001b[0;34m:\u001b[0m\u001b[0;34m\u001b[0m\u001b[0m\n\u001b[0;32m--> 283\u001b[0;31m             \u001b[0;32mreturn\u001b[0m \u001b[0mself\u001b[0m\u001b[0;34m.\u001b[0m\u001b[0m_partial\u001b[0m\u001b[0;34m(\u001b[0m\u001b[0;34m*\u001b[0m\u001b[0margs\u001b[0m\u001b[0;34m,\u001b[0m \u001b[0;34m**\u001b[0m\u001b[0mkwargs\u001b[0m\u001b[0;34m)\u001b[0m\u001b[0;34m\u001b[0m\u001b[0m\n\u001b[0m\u001b[1;32m    284\u001b[0m         \u001b[0;32mexcept\u001b[0m \u001b[0mTypeError\u001b[0m \u001b[0;32mas\u001b[0m \u001b[0mexc\u001b[0m\u001b[0;34m:\u001b[0m\u001b[0;34m\u001b[0m\u001b[0m\n\u001b[1;32m    285\u001b[0m             \u001b[0;32mif\u001b[0m \u001b[0mself\u001b[0m\u001b[0;34m.\u001b[0m\u001b[0m_should_curry\u001b[0m\u001b[0;34m(\u001b[0m\u001b[0margs\u001b[0m\u001b[0;34m,\u001b[0m \u001b[0mkwargs\u001b[0m\u001b[0;34m,\u001b[0m \u001b[0mexc\u001b[0m\u001b[0;34m)\u001b[0m\u001b[0;34m:\u001b[0m\u001b[0;34m\u001b[0m\u001b[0m\n",
      "\u001b[0;32m~/anaconda3/lib/python3.6/site-packages/altair/vegalite/data.py\u001b[0m in \u001b[0;36mdefault_data_transformer\u001b[0;34m(data)\u001b[0m\n\u001b[1;32m      9\u001b[0m \u001b[0;34m@\u001b[0m\u001b[0mcurry\u001b[0m\u001b[0;34m\u001b[0m\u001b[0m\n\u001b[1;32m     10\u001b[0m \u001b[0;32mdef\u001b[0m \u001b[0mdefault_data_transformer\u001b[0m\u001b[0;34m(\u001b[0m\u001b[0mdata\u001b[0m\u001b[0;34m)\u001b[0m\u001b[0;34m:\u001b[0m\u001b[0;34m\u001b[0m\u001b[0m\n\u001b[0;32m---> 11\u001b[0;31m     \u001b[0;32mreturn\u001b[0m \u001b[0mpipe\u001b[0m\u001b[0;34m(\u001b[0m\u001b[0mdata\u001b[0m\u001b[0;34m,\u001b[0m \u001b[0mlimit_rows\u001b[0m\u001b[0;34m,\u001b[0m \u001b[0mto_values\u001b[0m\u001b[0;34m)\u001b[0m\u001b[0;34m\u001b[0m\u001b[0m\n\u001b[0m\u001b[1;32m     12\u001b[0m \u001b[0;34m\u001b[0m\u001b[0m\n\u001b[1;32m     13\u001b[0m \u001b[0;34m\u001b[0m\u001b[0m\n",
      "\u001b[0;32m~/anaconda3/lib/python3.6/site-packages/toolz/functoolz.py\u001b[0m in \u001b[0;36mpipe\u001b[0;34m(data, *funcs)\u001b[0m\n\u001b[1;32m    550\u001b[0m     \"\"\"\n\u001b[1;32m    551\u001b[0m     \u001b[0;32mfor\u001b[0m \u001b[0mfunc\u001b[0m \u001b[0;32min\u001b[0m \u001b[0mfuncs\u001b[0m\u001b[0;34m:\u001b[0m\u001b[0;34m\u001b[0m\u001b[0m\n\u001b[0;32m--> 552\u001b[0;31m         \u001b[0mdata\u001b[0m \u001b[0;34m=\u001b[0m \u001b[0mfunc\u001b[0m\u001b[0;34m(\u001b[0m\u001b[0mdata\u001b[0m\u001b[0;34m)\u001b[0m\u001b[0;34m\u001b[0m\u001b[0m\n\u001b[0m\u001b[1;32m    553\u001b[0m     \u001b[0;32mreturn\u001b[0m \u001b[0mdata\u001b[0m\u001b[0;34m\u001b[0m\u001b[0m\n\u001b[1;32m    554\u001b[0m \u001b[0;34m\u001b[0m\u001b[0m\n",
      "\u001b[0;32m~/anaconda3/lib/python3.6/site-packages/toolz/functoolz.py\u001b[0m in \u001b[0;36m__call__\u001b[0;34m(self, *args, **kwargs)\u001b[0m\n\u001b[1;32m    281\u001b[0m     \u001b[0;32mdef\u001b[0m \u001b[0m__call__\u001b[0m\u001b[0;34m(\u001b[0m\u001b[0mself\u001b[0m\u001b[0;34m,\u001b[0m \u001b[0;34m*\u001b[0m\u001b[0margs\u001b[0m\u001b[0;34m,\u001b[0m \u001b[0;34m**\u001b[0m\u001b[0mkwargs\u001b[0m\u001b[0;34m)\u001b[0m\u001b[0;34m:\u001b[0m\u001b[0;34m\u001b[0m\u001b[0m\n\u001b[1;32m    282\u001b[0m         \u001b[0;32mtry\u001b[0m\u001b[0;34m:\u001b[0m\u001b[0;34m\u001b[0m\u001b[0m\n\u001b[0;32m--> 283\u001b[0;31m             \u001b[0;32mreturn\u001b[0m \u001b[0mself\u001b[0m\u001b[0;34m.\u001b[0m\u001b[0m_partial\u001b[0m\u001b[0;34m(\u001b[0m\u001b[0;34m*\u001b[0m\u001b[0margs\u001b[0m\u001b[0;34m,\u001b[0m \u001b[0;34m**\u001b[0m\u001b[0mkwargs\u001b[0m\u001b[0;34m)\u001b[0m\u001b[0;34m\u001b[0m\u001b[0m\n\u001b[0m\u001b[1;32m    284\u001b[0m         \u001b[0;32mexcept\u001b[0m \u001b[0mTypeError\u001b[0m \u001b[0;32mas\u001b[0m \u001b[0mexc\u001b[0m\u001b[0;34m:\u001b[0m\u001b[0;34m\u001b[0m\u001b[0m\n\u001b[1;32m    285\u001b[0m             \u001b[0;32mif\u001b[0m \u001b[0mself\u001b[0m\u001b[0;34m.\u001b[0m\u001b[0m_should_curry\u001b[0m\u001b[0;34m(\u001b[0m\u001b[0margs\u001b[0m\u001b[0;34m,\u001b[0m \u001b[0mkwargs\u001b[0m\u001b[0;34m,\u001b[0m \u001b[0mexc\u001b[0m\u001b[0;34m)\u001b[0m\u001b[0;34m:\u001b[0m\u001b[0;34m\u001b[0m\u001b[0m\n",
      "\u001b[0;32m~/anaconda3/lib/python3.6/site-packages/altair/utils/data.py\u001b[0m in \u001b[0;36mlimit_rows\u001b[0;34m(data, max_rows)\u001b[0m\n\u001b[1;32m     45\u001b[0m             \u001b[0;32mreturn\u001b[0m \u001b[0mdata\u001b[0m\u001b[0;34m\u001b[0m\u001b[0m\n\u001b[1;32m     46\u001b[0m     \u001b[0;32mif\u001b[0m \u001b[0mlen\u001b[0m\u001b[0;34m(\u001b[0m\u001b[0mvalues\u001b[0m\u001b[0;34m)\u001b[0m \u001b[0;34m>\u001b[0m \u001b[0mmax_rows\u001b[0m\u001b[0;34m:\u001b[0m\u001b[0;34m\u001b[0m\u001b[0m\n\u001b[0;32m---> 47\u001b[0;31m         \u001b[0;32mraise\u001b[0m \u001b[0mMaxRowsError\u001b[0m\u001b[0;34m(\u001b[0m\u001b[0;34m'The number of rows in your dataset is greater than the max of {}'\u001b[0m\u001b[0;34m.\u001b[0m\u001b[0mformat\u001b[0m\u001b[0;34m(\u001b[0m\u001b[0mmax_rows\u001b[0m\u001b[0;34m)\u001b[0m\u001b[0;34m)\u001b[0m\u001b[0;34m\u001b[0m\u001b[0m\n\u001b[0m\u001b[1;32m     48\u001b[0m     \u001b[0;32mreturn\u001b[0m \u001b[0mdata\u001b[0m\u001b[0;34m\u001b[0m\u001b[0m\n\u001b[1;32m     49\u001b[0m \u001b[0;34m\u001b[0m\u001b[0m\n",
      "\u001b[0;31mMaxRowsError\u001b[0m: The number of rows in your dataset is greater than the max of 5000"
     ]
    },
    {
     "data": {
      "text/plain": [
       "Chart({\n",
       "  data:             Ensembl ID                                        Uniprot IDs  \\\n",
       "  0      ENSG00000000003       A0A087WYV6_HUMAN A0A087WZU5_HUMAN TSN6_HUMAN   \n",
       "  1      ENSG00000000005                                         TNMD_HUMAN   \n",
       "  2      ENSG00000000419  H0Y368_HUMAN DPM1_HUMAN Q5QPJ9_HUMAN Q5QPK2_HUMAN   \n",
       "  3      ENSG00000000457                           PACE1_HUMAN X6RHX1_HUMAN   \n",
       "  4      ENSG00000000938                             FGR_HUMAN Q5TGY6_HUMAN   \n",
       "  5      ENSG00000000971           A0A0D9SG88_HUMAN CFAH_HUMAN Q5TFM2_HUMAN   \n",
       "  6      ENSG00000001036                           Q7Z6V2_HUMAN FUCO2_HUMAN   \n",
       "  7      ENSG00000001084  A0A0C4DGB2_HUMAN D6R959_HUMAN D6REX4_HUMAN D6R...   \n",
       "  8      ENSG00000001167                                         NFYA_HUMAN   \n",
       "  9      ENSG00000001461              A6NN97_HUMAN H0Y4I9_HUMAN NPAL3_HUMAN   \n",
       "  10     ENSG00000001497                           LAS1L_HUMAN R4GNF7_HUMAN   \n",
       "  11     ENSG00000001617  C9IYS6_HUMAN C9J1V2_HUMAN C9J4H5_HUMAN C9JPG5_...   \n",
       "  12     ENSG00000001626  C9J6L5_HUMAN E7EPB6_HUMAN H0Y8A9_HUMAN M0QYZ3_...   \n",
       "  13     ENSG00000001629  C9JZ63_HUMAN H7C0S0_HUMAN H7C2L9_HUMAN H7C2V2_...   \n",
       "  14     ENSG00000001630  A0A0C4DFL7_HUMAN C9IYR8_HUMAN H7C0D0_HUMAN CP5...   \n",
       "  15     ENSG00000001631  A0A0C4DG23_HUMAN C9J3W7_HUMAN C9J718_HUMAN C9J...   \n",
       "  16     ENSG00000002016  E9PF95_HUMAN F5GX32_HUMAN F5GX95_HUMAN F5H1K5_...   \n",
       "  17     ENSG00000002330  A8MXU7_HUMAN F5GYS3_HUMAN F5H1R6_HUMAN F5H3B1_...   \n",
       "  18     ENSG00000002549               H0Y983_HUMAN H0Y9Q1_HUMAN AMPL_HUMAN   \n",
       "  19     ENSG00000002586  A0A096LP69_HUMAN A6NGF6_HUMAN A6NJT9_HUMAN A8M...   \n",
       "  20     ENSG00000002587                           E9PDE3_HUMAN HS3S1_HUMAN   \n",
       "  21     ENSG00000002726               C9J0G8_HUMAN C9J2J4_HUMAN AOC1_HUMAN   \n",
       "  22     ENSG00000002745                           E9PH60_HUMAN WNT16_HUMAN   \n",
       "  23     ENSG00000002746                           H7C3Q2_HUMAN HECW1_HUMAN   \n",
       "  24     ENSG00000002822  C9J9H5_HUMAN C9JIR0_HUMAN C9JJ38_HUMAN C9JKI7_...   \n",
       "  25     ENSG00000002834  C9J9W2_HUMAN F6S2S5_HUMAN J3KSN1_HUMAN K7ESD6_...   \n",
       "  26     ENSG00000002919  B4DJI7_HUMAN J3KTN6_HUMAN J3QKV3_HUMAN J3QLV8_...   \n",
       "  27     ENSG00000002933  C9JJ63_HUMAN C9JRT9_HUMAN H7C4P5_HUMAN T176A_H...   \n",
       "  28     ENSG00000003056  F5GX30_HUMAN F5GXE0_HUMAN F5GXU0_HUMAN F5H4U1_...   \n",
       "  29     ENSG00000003096  A0A0C4DG80_HUMAN A0A0C4DG99_HUMAN C9JTS9_HUMAN...   \n",
       "  ...                ...                                                ...   \n",
       "  14420  ENSG00000276409      A0A087X089_HUMAN A0A0B4J2G5_HUMAN CCL14_HUMAN   \n",
       "  14421  ENSG00000276410                                        H2B1B_HUMAN   \n",
       "  14422  ENSG00000276600      A0A096LP44_HUMAN A0A096LPF0_HUMAN RAB7B_HUMAN   \n",
       "  14423  ENSG00000276644  A0A087WY66_HUMAN A0A087WZA7_HUMAN A0A087WZP2_H...   \n",
       "  14424  ENSG00000277258  A0A087X0Y6_HUMAN A0A087X259_HUMAN J3KT13_HUMAN...   \n",
       "  14425  ENSG00000277363  A0A087WTE6_HUMAN A0A087WU33_HUMAN A0A087WVV7_H...   \n",
       "  14426  ENSG00000277443                                        MARCS_HUMAN   \n",
       "  14427  ENSG00000277462                                        ZN670_HUMAN   \n",
       "  14428  ENSG00000277481                                        PK1L3_HUMAN   \n",
       "  14429  ENSG00000277586        A0A087X0W2_HUMAN A0A0S2Z436_HUMAN NFL_HUMAN   \n",
       "  14430  ENSG00000277632                                         CCL3_HUMAN   \n",
       "  14431  ENSG00000277734                                   A0A087WWC6_HUMAN   \n",
       "  14432  ENSG00000277791  A0A087WUL2_HUMAN A0A087WXQ8_HUMAN A0A087WY10_H...   \n",
       "  14433  ENSG00000277893                                         S5A2_HUMAN   \n",
       "  14434  ENSG00000278023                            B4DZ74_HUMAN RDM1_HUMAN   \n",
       "  14435  ENSG00000278053  A0A087WTD6_HUMAN A0A087X069_HUMAN A0A087X121_H...   \n",
       "  14436  ENSG00000278057                                        TEX28_HUMAN   \n",
       "  14437  ENSG00000278129                                         ZNF8_HUMAN   \n",
       "  14438  ENSG00000278195                                         SSR3_HUMAN   \n",
       "  14439  ENSG00000278299                                        TBC3C_HUMAN   \n",
       "  14440  ENSG00000278311  A0A087X0E5_HUMAN A0A087X1D7_HUMAN A0A087X1N0_H...   \n",
       "  14441  ENSG00000278540  A0A087WVR6_HUMAN A0A087WWN5_HUMAN A0A087WYK6_H...   \n",
       "  14442  ENSG00000278570                           Q8IVZ9_HUMAN NR2E3_HUMAN   \n",
       "  14443  ENSG00000278619                        A0A087WZC1_HUMAN MRM1_HUMAN   \n",
       "  14444  ENSG00000278845                  A0A087WU62_HUMAN A0A087X2D5_HUMAN   \n",
       "  14445  ENSG00000279116                                        OR8D2_HUMAN   \n",
       "  14446  ENSG00000279486                                        O2AG1_HUMAN   \n",
       "  14447  ENSG00000280789                                        PAGR1_HUMAN   \n",
       "  14448  ENSG00000280969                                        RS4Y2_HUMAN   \n",
       "  14449  ENSG00000284194                  A0A1W2PP80_HUMAN A0A1W2PQK0_HUMAN   \n",
       "  \n",
       "         Log10 length     Symbol  Log10 degree  mitochondrion organization  \\\n",
       "  0          4.178517     TSPAN6      0.698970                           0   \n",
       "  1          4.110017       TNMD      0.000000                           0   \n",
       "  2          4.649695       DPM1      1.176091                           0   \n",
       "  3          4.374547      SCYL3      0.698970                           0   \n",
       "  4          5.283469        FGR      1.568202                           0   \n",
       "  5          4.227372        CFH      1.079181                           0   \n",
       "  6          4.980581      FUCA2      0.477121                           0   \n",
       "  7          4.431878       GCLC      0.301030                           0   \n",
       "  8          5.077840       NFYA      1.698970                           0   \n",
       "  9          4.777688     NIPAL3      0.000000                           0   \n",
       "  10         4.222898      LAS1L      2.037426                           0   \n",
       "  11         5.398266     SEMA3F      0.778151                           0   \n",
       "  12         4.531875       CFTR      2.206826                           0   \n",
       "  13         4.488579     ANKIB1      0.000000                           0   \n",
       "  14         5.190755    CYP51A1      1.462398                           0   \n",
       "  15              NaN      KRIT1      0.778151                           0   \n",
       "  16         4.673924      RAD52      1.255273                           0   \n",
       "  17         4.488283        BAD      1.732394                           0   \n",
       "  18         4.172457       LAP3      0.477121                           0   \n",
       "  19         4.563671       CD99      0.954243                           0   \n",
       "  20         4.700106     HS3ST1      0.778151                           0   \n",
       "  21         4.196950       AOC1      1.653213                           0   \n",
       "  22         4.566767      WNT16      0.000000                           0   \n",
       "  23         5.620606      HECW1      0.903090                           0   \n",
       "  24         5.656484     MAD1L1      1.623249                           0   \n",
       "  25         4.294863      LASP1      1.505150                           0   \n",
       "  26         4.715268      SNX11      0.301030                           0   \n",
       "  27         3.981954   TMEM176A      0.000000                           0   \n",
       "  28         3.673758       M6PR      0.698970                           0   \n",
       "  29         4.274181     KLHL13      1.113943                           0   \n",
       "  ...             ...        ...           ...                         ...   \n",
       "  14420      2.684845      CCL14      0.778151                           0   \n",
       "  14421      5.209290  HIST1H2BB      1.278754                           0   \n",
       "  14422      2.683947      RAB7B      1.041393                           0   \n",
       "  14423      4.242119      DACH1      1.278754                           0   \n",
       "  14424      2.639486      PCGF2      1.278754                           0   \n",
       "  14425      4.262878     SRCIN1      0.477121                           0   \n",
       "  14426      4.622960     MARCKS      1.322219                           0   \n",
       "  14427      3.786041     ZNF670      1.176091                           0   \n",
       "  14428      3.599665     PKD1L3      0.000000                           0   \n",
       "  14429      2.980912       NEFL      1.556303                           0   \n",
       "  14430      4.467282       CCL3      1.113943                           0   \n",
       "  14431      4.252052       TRAC      0.000000                           0   \n",
       "  14432      4.104794      PSMB3      1.819544                           0   \n",
       "  14433      2.865104     SRD5A2      1.301030                           0   \n",
       "  14434      2.674861       RDM1      0.000000                           0   \n",
       "  14435      4.390741      DDX52      0.602060                           0   \n",
       "  14436      4.527965      TEX28      0.000000                           0   \n",
       "  14437      3.905256       ZNF8      1.230449                           0   \n",
       "  14438      5.123290      SSTR3      1.079181                           0   \n",
       "  14439      3.900422    TBC1D3C      0.000000                           0   \n",
       "  14440      4.492201     GGNBP2      0.000000                           0   \n",
       "  14441      3.442793      ACACA      1.342423                           0   \n",
       "  14442      4.037904      NR2E3      1.431364                           0   \n",
       "  14443      3.380573       MRM1      0.000000                           0   \n",
       "  14444      4.165066     MRPL45      1.903090                           0   \n",
       "  14445      2.991669      OR8D2      0.301030                           0   \n",
       "  14446      3.077731     OR2AG1      0.000000                           0   \n",
       "  14447      4.703756      PAGR1      1.176091                           0   \n",
       "  14448      3.893873     RPS4Y2      1.903090                           0   \n",
       "  14449      2.775974       SCO2      0.301030                           0   \n",
       "  \n",
       "         cell adhesion  signal transduction  B cell log10 FPKM  \\\n",
       "  0                  0                    0          -1.045757   \n",
       "  1                  0                    0          -2.000000   \n",
       "  2                  0                    0           0.980458   \n",
       "  3                  0                    0           1.007748   \n",
       "  4                  0                    0           2.324015   \n",
       "  5                  0                    0          -2.000000   \n",
       "  6                  0                    0           0.414973   \n",
       "  7                  0                    0           0.866287   \n",
       "  8                  0                    0           1.222456   \n",
       "  9                  0                    0           1.230449   \n",
       "  10                 0                    0           1.223496   \n",
       "  11                 0                    0          -2.000000   \n",
       "  12                 0                    0          -2.000000   \n",
       "  13                 0                    0           1.071514   \n",
       "  14                 0                    0           0.654177   \n",
       "  15                 0                    0           1.264818   \n",
       "  16                 0                    0           1.296884   \n",
       "  17                 0                    0           1.447003   \n",
       "  18                 0                    0           1.118926   \n",
       "  19                 1                    0           1.638489   \n",
       "  20                 0                    0           1.102091   \n",
       "  21                 0                    1          -1.221849   \n",
       "  22                 0                    0           0.480007   \n",
       "  23                 0                    0          -2.000000   \n",
       "  24                 0                    0           1.792322   \n",
       "  25                 0                    0           1.568554   \n",
       "  26                 0                    0           1.262451   \n",
       "  27                 0                    0          -0.107905   \n",
       "  28                 0                    1           1.624282   \n",
       "  29                 0                    0          -1.397940   \n",
       "  ...              ...                  ...                ...   \n",
       "  14420              0                    0          -2.000000   \n",
       "  14421              0                    0          -2.000000   \n",
       "  14422              0                    0          -2.000000   \n",
       "  14423              0                    0          -2.000000   \n",
       "  14424              0                    0          -1.301030   \n",
       "  14425              0                    0          -0.086186   \n",
       "  14426              0                    0           1.083861   \n",
       "  14427              0                    0          -0.200659   \n",
       "  14428              0                    0          -1.301030   \n",
       "  14429              0                    0          -2.000000   \n",
       "  14430              0                    0           1.350054   \n",
       "  14431              0                    0           0.990339   \n",
       "  14432              0                    0           2.119652   \n",
       "  14433              0                    0          -2.000000   \n",
       "  14434              0                    0          -1.397940   \n",
       "  14435              0                    0           0.613842   \n",
       "  14436              0                    0          -2.000000   \n",
       "  14437              0                    0           0.389166   \n",
       "  14438              0                    0          -0.142668   \n",
       "  14439              0                    0          -2.000000   \n",
       "  14440              0                    0           1.883718   \n",
       "  14441              0                    0           0.534026   \n",
       "  14442              0                    1          -2.000000   \n",
       "  14443              0                    0           0.812913   \n",
       "  14444              0                    0           0.973128   \n",
       "  14445              0                    0          -2.000000   \n",
       "  14446              0                    0          -2.000000   \n",
       "  14447              0                    0           1.105169   \n",
       "  14448              0                    0          -2.000000   \n",
       "  14449              0                    0           1.417139   \n",
       "  \n",
       "         Neuron log10 FPKM  \n",
       "  0               1.294687  \n",
       "  1              -2.000000  \n",
       "  2               1.652246  \n",
       "  3               0.575188  \n",
       "  4              -2.000000  \n",
       "  5              -2.000000  \n",
       "  6               0.818226  \n",
       "  7               0.774517  \n",
       "  8               1.142389  \n",
       "  9               1.098644  \n",
       "  10              1.141450  \n",
       "  11              1.269279  \n",
       "  12             -1.698970  \n",
       "  13              1.263873  \n",
       "  14              2.256092  \n",
       "  15              1.151982  \n",
       "  16              0.822822  \n",
       "  17              1.635986  \n",
       "  18              1.269513  \n",
       "  19              1.158965  \n",
       "  20             -0.886057  \n",
       "  21             -2.000000  \n",
       "  22             -1.045757  \n",
       "  23              1.245019  \n",
       "  24              1.516535  \n",
       "  25              1.410946  \n",
       "  26              1.061829  \n",
       "  27             -0.481486  \n",
       "  28              1.570193  \n",
       "  29              1.232488  \n",
       "  ...                  ...  \n",
       "  14420          -2.000000  \n",
       "  14421           0.113943  \n",
       "  14422          -2.000000  \n",
       "  14423           1.168792  \n",
       "  14424           0.635484  \n",
       "  14425           0.480007  \n",
       "  14426           2.357401  \n",
       "  14427           0.781755  \n",
       "  14428          -2.000000  \n",
       "  14429           2.452201  \n",
       "  14430          -2.000000  \n",
       "  14431          -2.000000  \n",
       "  14432           2.013132  \n",
       "  14433          -2.000000  \n",
       "  14434          -0.481486  \n",
       "  14435           1.283753  \n",
       "  14436          -2.000000  \n",
       "  14437           0.992111  \n",
       "  14438          -1.000000  \n",
       "  14439          -1.154902  \n",
       "  14440           1.427486  \n",
       "  14441           1.391288  \n",
       "  14442          -1.397940  \n",
       "  14443          -0.107905  \n",
       "  14444           1.422261  \n",
       "  14445          -2.000000  \n",
       "  14446          -2.000000  \n",
       "  14447           1.529943  \n",
       "  14448          -2.000000  \n",
       "  14449           1.376942  \n",
       "  \n",
       "  [14448 rows x 10 columns],\n",
       "  encoding: EncodingWithFacet({\n",
       "    x: X({\n",
       "      bin: True,\n",
       "      shorthand: 'Neuron log10 FPKM:Q'\n",
       "    }),\n",
       "    y: Y({\n",
       "      shorthand: 'count(*):Q'\n",
       "    })\n",
       "  }),\n",
       "  mark: 'bar',\n",
       "  max_rows: 20000\n",
       "})"
      ]
     },
     "execution_count": 61,
     "metadata": {},
     "output_type": "execute_result"
    }
   ],
   "source": [
    "chart.mark_bar().encode(\n",
    "    x=alt.X(\"Neuron log10 FPKM:Q\", bin=True),\n",
    "    y=alt.Y(\"count(*):Q\")\n",
    ")"
   ]
  },
  {
   "cell_type": "markdown",
   "metadata": {
    "slideshow": {
     "slide_type": "slide"
    }
   },
   "source": [
    "## Совместное распределение "
   ]
  },
  {
   "cell_type": "code",
   "execution_count": 62,
   "metadata": {
    "slideshow": {
     "slide_type": "fragment"
    }
   },
   "outputs": [
    {
     "ename": "MaxRowsError",
     "evalue": "The number of rows in your dataset is greater than the max of 5000",
     "output_type": "error",
     "traceback": [
      "\u001b[0;31m---------------------------------------------------------------------------\u001b[0m",
      "\u001b[0;31mMaxRowsError\u001b[0m                              Traceback (most recent call last)",
      "\u001b[0;32m~/anaconda3/lib/python3.6/site-packages/altair/vegalite/v2/api.py\u001b[0m in \u001b[0;36mto_dict\u001b[0;34m(self, *args, **kwargs)\u001b[0m\n\u001b[1;32m    310\u001b[0m         \u001b[0mcopy\u001b[0m \u001b[0;34m=\u001b[0m \u001b[0mself\u001b[0m\u001b[0;34m.\u001b[0m\u001b[0mcopy\u001b[0m\u001b[0;34m(\u001b[0m\u001b[0;34m)\u001b[0m\u001b[0;34m\u001b[0m\u001b[0m\n\u001b[1;32m    311\u001b[0m         \u001b[0moriginal_data\u001b[0m \u001b[0;34m=\u001b[0m \u001b[0mgetattr\u001b[0m\u001b[0;34m(\u001b[0m\u001b[0mcopy\u001b[0m\u001b[0;34m,\u001b[0m \u001b[0;34m'data'\u001b[0m\u001b[0;34m,\u001b[0m \u001b[0mUndefined\u001b[0m\u001b[0;34m)\u001b[0m\u001b[0;34m\u001b[0m\u001b[0m\n\u001b[0;32m--> 312\u001b[0;31m         \u001b[0mcopy\u001b[0m\u001b[0;34m.\u001b[0m\u001b[0mdata\u001b[0m \u001b[0;34m=\u001b[0m \u001b[0m_prepare_data\u001b[0m\u001b[0;34m(\u001b[0m\u001b[0moriginal_data\u001b[0m\u001b[0;34m)\u001b[0m\u001b[0;34m\u001b[0m\u001b[0m\n\u001b[0m\u001b[1;32m    313\u001b[0m \u001b[0;34m\u001b[0m\u001b[0m\n\u001b[1;32m    314\u001b[0m         \u001b[0;31m# We make use of two context markers:\u001b[0m\u001b[0;34m\u001b[0m\u001b[0;34m\u001b[0m\u001b[0m\n",
      "\u001b[0;32m~/anaconda3/lib/python3.6/site-packages/altair/vegalite/v2/api.py\u001b[0m in \u001b[0;36m_prepare_data\u001b[0;34m(data)\u001b[0m\n\u001b[1;32m     22\u001b[0m         \u001b[0;32mreturn\u001b[0m \u001b[0mdata\u001b[0m\u001b[0;34m\u001b[0m\u001b[0m\n\u001b[1;32m     23\u001b[0m     \u001b[0;32melif\u001b[0m \u001b[0misinstance\u001b[0m\u001b[0;34m(\u001b[0m\u001b[0mdata\u001b[0m\u001b[0;34m,\u001b[0m \u001b[0mpd\u001b[0m\u001b[0;34m.\u001b[0m\u001b[0mDataFrame\u001b[0m\u001b[0;34m)\u001b[0m\u001b[0;34m:\u001b[0m\u001b[0;34m\u001b[0m\u001b[0m\n\u001b[0;32m---> 24\u001b[0;31m         \u001b[0;32mreturn\u001b[0m \u001b[0mpipe\u001b[0m\u001b[0;34m(\u001b[0m\u001b[0mdata\u001b[0m\u001b[0;34m,\u001b[0m \u001b[0mdata_transformers\u001b[0m\u001b[0;34m.\u001b[0m\u001b[0mget\u001b[0m\u001b[0;34m(\u001b[0m\u001b[0;34m)\u001b[0m\u001b[0;34m)\u001b[0m\u001b[0;34m\u001b[0m\u001b[0m\n\u001b[0m\u001b[1;32m     25\u001b[0m     \u001b[0;32melif\u001b[0m \u001b[0misinstance\u001b[0m\u001b[0;34m(\u001b[0m\u001b[0mdata\u001b[0m\u001b[0;34m,\u001b[0m \u001b[0msix\u001b[0m\u001b[0;34m.\u001b[0m\u001b[0mstring_types\u001b[0m\u001b[0;34m)\u001b[0m\u001b[0;34m:\u001b[0m\u001b[0;34m\u001b[0m\u001b[0m\n\u001b[1;32m     26\u001b[0m         \u001b[0;32mreturn\u001b[0m \u001b[0mcore\u001b[0m\u001b[0;34m.\u001b[0m\u001b[0mUrlData\u001b[0m\u001b[0;34m(\u001b[0m\u001b[0mdata\u001b[0m\u001b[0;34m)\u001b[0m\u001b[0;34m\u001b[0m\u001b[0m\n",
      "\u001b[0;32m~/anaconda3/lib/python3.6/site-packages/toolz/functoolz.py\u001b[0m in \u001b[0;36mpipe\u001b[0;34m(data, *funcs)\u001b[0m\n\u001b[1;32m    550\u001b[0m     \"\"\"\n\u001b[1;32m    551\u001b[0m     \u001b[0;32mfor\u001b[0m \u001b[0mfunc\u001b[0m \u001b[0;32min\u001b[0m \u001b[0mfuncs\u001b[0m\u001b[0;34m:\u001b[0m\u001b[0;34m\u001b[0m\u001b[0m\n\u001b[0;32m--> 552\u001b[0;31m         \u001b[0mdata\u001b[0m \u001b[0;34m=\u001b[0m \u001b[0mfunc\u001b[0m\u001b[0;34m(\u001b[0m\u001b[0mdata\u001b[0m\u001b[0;34m)\u001b[0m\u001b[0;34m\u001b[0m\u001b[0m\n\u001b[0m\u001b[1;32m    553\u001b[0m     \u001b[0;32mreturn\u001b[0m \u001b[0mdata\u001b[0m\u001b[0;34m\u001b[0m\u001b[0m\n\u001b[1;32m    554\u001b[0m \u001b[0;34m\u001b[0m\u001b[0m\n",
      "\u001b[0;32m~/anaconda3/lib/python3.6/site-packages/toolz/functoolz.py\u001b[0m in \u001b[0;36m__call__\u001b[0;34m(self, *args, **kwargs)\u001b[0m\n\u001b[1;32m    281\u001b[0m     \u001b[0;32mdef\u001b[0m \u001b[0m__call__\u001b[0m\u001b[0;34m(\u001b[0m\u001b[0mself\u001b[0m\u001b[0;34m,\u001b[0m \u001b[0;34m*\u001b[0m\u001b[0margs\u001b[0m\u001b[0;34m,\u001b[0m \u001b[0;34m**\u001b[0m\u001b[0mkwargs\u001b[0m\u001b[0;34m)\u001b[0m\u001b[0;34m:\u001b[0m\u001b[0;34m\u001b[0m\u001b[0m\n\u001b[1;32m    282\u001b[0m         \u001b[0;32mtry\u001b[0m\u001b[0;34m:\u001b[0m\u001b[0;34m\u001b[0m\u001b[0m\n\u001b[0;32m--> 283\u001b[0;31m             \u001b[0;32mreturn\u001b[0m \u001b[0mself\u001b[0m\u001b[0;34m.\u001b[0m\u001b[0m_partial\u001b[0m\u001b[0;34m(\u001b[0m\u001b[0;34m*\u001b[0m\u001b[0margs\u001b[0m\u001b[0;34m,\u001b[0m \u001b[0;34m**\u001b[0m\u001b[0mkwargs\u001b[0m\u001b[0;34m)\u001b[0m\u001b[0;34m\u001b[0m\u001b[0m\n\u001b[0m\u001b[1;32m    284\u001b[0m         \u001b[0;32mexcept\u001b[0m \u001b[0mTypeError\u001b[0m \u001b[0;32mas\u001b[0m \u001b[0mexc\u001b[0m\u001b[0;34m:\u001b[0m\u001b[0;34m\u001b[0m\u001b[0m\n\u001b[1;32m    285\u001b[0m             \u001b[0;32mif\u001b[0m \u001b[0mself\u001b[0m\u001b[0;34m.\u001b[0m\u001b[0m_should_curry\u001b[0m\u001b[0;34m(\u001b[0m\u001b[0margs\u001b[0m\u001b[0;34m,\u001b[0m \u001b[0mkwargs\u001b[0m\u001b[0;34m,\u001b[0m \u001b[0mexc\u001b[0m\u001b[0;34m)\u001b[0m\u001b[0;34m:\u001b[0m\u001b[0;34m\u001b[0m\u001b[0m\n",
      "\u001b[0;32m~/anaconda3/lib/python3.6/site-packages/altair/vegalite/data.py\u001b[0m in \u001b[0;36mdefault_data_transformer\u001b[0;34m(data)\u001b[0m\n\u001b[1;32m      9\u001b[0m \u001b[0;34m@\u001b[0m\u001b[0mcurry\u001b[0m\u001b[0;34m\u001b[0m\u001b[0m\n\u001b[1;32m     10\u001b[0m \u001b[0;32mdef\u001b[0m \u001b[0mdefault_data_transformer\u001b[0m\u001b[0;34m(\u001b[0m\u001b[0mdata\u001b[0m\u001b[0;34m)\u001b[0m\u001b[0;34m:\u001b[0m\u001b[0;34m\u001b[0m\u001b[0m\n\u001b[0;32m---> 11\u001b[0;31m     \u001b[0;32mreturn\u001b[0m \u001b[0mpipe\u001b[0m\u001b[0;34m(\u001b[0m\u001b[0mdata\u001b[0m\u001b[0;34m,\u001b[0m \u001b[0mlimit_rows\u001b[0m\u001b[0;34m,\u001b[0m \u001b[0mto_values\u001b[0m\u001b[0;34m)\u001b[0m\u001b[0;34m\u001b[0m\u001b[0m\n\u001b[0m\u001b[1;32m     12\u001b[0m \u001b[0;34m\u001b[0m\u001b[0m\n\u001b[1;32m     13\u001b[0m \u001b[0;34m\u001b[0m\u001b[0m\n",
      "\u001b[0;32m~/anaconda3/lib/python3.6/site-packages/toolz/functoolz.py\u001b[0m in \u001b[0;36mpipe\u001b[0;34m(data, *funcs)\u001b[0m\n\u001b[1;32m    550\u001b[0m     \"\"\"\n\u001b[1;32m    551\u001b[0m     \u001b[0;32mfor\u001b[0m \u001b[0mfunc\u001b[0m \u001b[0;32min\u001b[0m \u001b[0mfuncs\u001b[0m\u001b[0;34m:\u001b[0m\u001b[0;34m\u001b[0m\u001b[0m\n\u001b[0;32m--> 552\u001b[0;31m         \u001b[0mdata\u001b[0m \u001b[0;34m=\u001b[0m \u001b[0mfunc\u001b[0m\u001b[0;34m(\u001b[0m\u001b[0mdata\u001b[0m\u001b[0;34m)\u001b[0m\u001b[0;34m\u001b[0m\u001b[0m\n\u001b[0m\u001b[1;32m    553\u001b[0m     \u001b[0;32mreturn\u001b[0m \u001b[0mdata\u001b[0m\u001b[0;34m\u001b[0m\u001b[0m\n\u001b[1;32m    554\u001b[0m \u001b[0;34m\u001b[0m\u001b[0m\n",
      "\u001b[0;32m~/anaconda3/lib/python3.6/site-packages/toolz/functoolz.py\u001b[0m in \u001b[0;36m__call__\u001b[0;34m(self, *args, **kwargs)\u001b[0m\n\u001b[1;32m    281\u001b[0m     \u001b[0;32mdef\u001b[0m \u001b[0m__call__\u001b[0m\u001b[0;34m(\u001b[0m\u001b[0mself\u001b[0m\u001b[0;34m,\u001b[0m \u001b[0;34m*\u001b[0m\u001b[0margs\u001b[0m\u001b[0;34m,\u001b[0m \u001b[0;34m**\u001b[0m\u001b[0mkwargs\u001b[0m\u001b[0;34m)\u001b[0m\u001b[0;34m:\u001b[0m\u001b[0;34m\u001b[0m\u001b[0m\n\u001b[1;32m    282\u001b[0m         \u001b[0;32mtry\u001b[0m\u001b[0;34m:\u001b[0m\u001b[0;34m\u001b[0m\u001b[0m\n\u001b[0;32m--> 283\u001b[0;31m             \u001b[0;32mreturn\u001b[0m \u001b[0mself\u001b[0m\u001b[0;34m.\u001b[0m\u001b[0m_partial\u001b[0m\u001b[0;34m(\u001b[0m\u001b[0;34m*\u001b[0m\u001b[0margs\u001b[0m\u001b[0;34m,\u001b[0m \u001b[0;34m**\u001b[0m\u001b[0mkwargs\u001b[0m\u001b[0;34m)\u001b[0m\u001b[0;34m\u001b[0m\u001b[0m\n\u001b[0m\u001b[1;32m    284\u001b[0m         \u001b[0;32mexcept\u001b[0m \u001b[0mTypeError\u001b[0m \u001b[0;32mas\u001b[0m \u001b[0mexc\u001b[0m\u001b[0;34m:\u001b[0m\u001b[0;34m\u001b[0m\u001b[0m\n\u001b[1;32m    285\u001b[0m             \u001b[0;32mif\u001b[0m \u001b[0mself\u001b[0m\u001b[0;34m.\u001b[0m\u001b[0m_should_curry\u001b[0m\u001b[0;34m(\u001b[0m\u001b[0margs\u001b[0m\u001b[0;34m,\u001b[0m \u001b[0mkwargs\u001b[0m\u001b[0;34m,\u001b[0m \u001b[0mexc\u001b[0m\u001b[0;34m)\u001b[0m\u001b[0;34m:\u001b[0m\u001b[0;34m\u001b[0m\u001b[0m\n",
      "\u001b[0;32m~/anaconda3/lib/python3.6/site-packages/altair/utils/data.py\u001b[0m in \u001b[0;36mlimit_rows\u001b[0;34m(data, max_rows)\u001b[0m\n\u001b[1;32m     45\u001b[0m             \u001b[0;32mreturn\u001b[0m \u001b[0mdata\u001b[0m\u001b[0;34m\u001b[0m\u001b[0m\n\u001b[1;32m     46\u001b[0m     \u001b[0;32mif\u001b[0m \u001b[0mlen\u001b[0m\u001b[0;34m(\u001b[0m\u001b[0mvalues\u001b[0m\u001b[0;34m)\u001b[0m \u001b[0;34m>\u001b[0m \u001b[0mmax_rows\u001b[0m\u001b[0;34m:\u001b[0m\u001b[0;34m\u001b[0m\u001b[0m\n\u001b[0;32m---> 47\u001b[0;31m         \u001b[0;32mraise\u001b[0m \u001b[0mMaxRowsError\u001b[0m\u001b[0;34m(\u001b[0m\u001b[0;34m'The number of rows in your dataset is greater than the max of {}'\u001b[0m\u001b[0;34m.\u001b[0m\u001b[0mformat\u001b[0m\u001b[0;34m(\u001b[0m\u001b[0mmax_rows\u001b[0m\u001b[0;34m)\u001b[0m\u001b[0;34m)\u001b[0m\u001b[0;34m\u001b[0m\u001b[0m\n\u001b[0m\u001b[1;32m     48\u001b[0m     \u001b[0;32mreturn\u001b[0m \u001b[0mdata\u001b[0m\u001b[0;34m\u001b[0m\u001b[0m\n\u001b[1;32m     49\u001b[0m \u001b[0;34m\u001b[0m\u001b[0m\n",
      "\u001b[0;31mMaxRowsError\u001b[0m: The number of rows in your dataset is greater than the max of 5000"
     ]
    },
    {
     "data": {
      "text/plain": [
       "Chart({\n",
       "  data:             Ensembl ID                                        Uniprot IDs  \\\n",
       "  0      ENSG00000000003       A0A087WYV6_HUMAN A0A087WZU5_HUMAN TSN6_HUMAN   \n",
       "  1      ENSG00000000005                                         TNMD_HUMAN   \n",
       "  2      ENSG00000000419  H0Y368_HUMAN DPM1_HUMAN Q5QPJ9_HUMAN Q5QPK2_HUMAN   \n",
       "  3      ENSG00000000457                           PACE1_HUMAN X6RHX1_HUMAN   \n",
       "  4      ENSG00000000938                             FGR_HUMAN Q5TGY6_HUMAN   \n",
       "  5      ENSG00000000971           A0A0D9SG88_HUMAN CFAH_HUMAN Q5TFM2_HUMAN   \n",
       "  6      ENSG00000001036                           Q7Z6V2_HUMAN FUCO2_HUMAN   \n",
       "  7      ENSG00000001084  A0A0C4DGB2_HUMAN D6R959_HUMAN D6REX4_HUMAN D6R...   \n",
       "  8      ENSG00000001167                                         NFYA_HUMAN   \n",
       "  9      ENSG00000001461              A6NN97_HUMAN H0Y4I9_HUMAN NPAL3_HUMAN   \n",
       "  10     ENSG00000001497                           LAS1L_HUMAN R4GNF7_HUMAN   \n",
       "  11     ENSG00000001617  C9IYS6_HUMAN C9J1V2_HUMAN C9J4H5_HUMAN C9JPG5_...   \n",
       "  12     ENSG00000001626  C9J6L5_HUMAN E7EPB6_HUMAN H0Y8A9_HUMAN M0QYZ3_...   \n",
       "  13     ENSG00000001629  C9JZ63_HUMAN H7C0S0_HUMAN H7C2L9_HUMAN H7C2V2_...   \n",
       "  14     ENSG00000001630  A0A0C4DFL7_HUMAN C9IYR8_HUMAN H7C0D0_HUMAN CP5...   \n",
       "  15     ENSG00000001631  A0A0C4DG23_HUMAN C9J3W7_HUMAN C9J718_HUMAN C9J...   \n",
       "  16     ENSG00000002016  E9PF95_HUMAN F5GX32_HUMAN F5GX95_HUMAN F5H1K5_...   \n",
       "  17     ENSG00000002330  A8MXU7_HUMAN F5GYS3_HUMAN F5H1R6_HUMAN F5H3B1_...   \n",
       "  18     ENSG00000002549               H0Y983_HUMAN H0Y9Q1_HUMAN AMPL_HUMAN   \n",
       "  19     ENSG00000002586  A0A096LP69_HUMAN A6NGF6_HUMAN A6NJT9_HUMAN A8M...   \n",
       "  20     ENSG00000002587                           E9PDE3_HUMAN HS3S1_HUMAN   \n",
       "  21     ENSG00000002726               C9J0G8_HUMAN C9J2J4_HUMAN AOC1_HUMAN   \n",
       "  22     ENSG00000002745                           E9PH60_HUMAN WNT16_HUMAN   \n",
       "  23     ENSG00000002746                           H7C3Q2_HUMAN HECW1_HUMAN   \n",
       "  24     ENSG00000002822  C9J9H5_HUMAN C9JIR0_HUMAN C9JJ38_HUMAN C9JKI7_...   \n",
       "  25     ENSG00000002834  C9J9W2_HUMAN F6S2S5_HUMAN J3KSN1_HUMAN K7ESD6_...   \n",
       "  26     ENSG00000002919  B4DJI7_HUMAN J3KTN6_HUMAN J3QKV3_HUMAN J3QLV8_...   \n",
       "  27     ENSG00000002933  C9JJ63_HUMAN C9JRT9_HUMAN H7C4P5_HUMAN T176A_H...   \n",
       "  28     ENSG00000003056  F5GX30_HUMAN F5GXE0_HUMAN F5GXU0_HUMAN F5H4U1_...   \n",
       "  29     ENSG00000003096  A0A0C4DG80_HUMAN A0A0C4DG99_HUMAN C9JTS9_HUMAN...   \n",
       "  ...                ...                                                ...   \n",
       "  14420  ENSG00000276409      A0A087X089_HUMAN A0A0B4J2G5_HUMAN CCL14_HUMAN   \n",
       "  14421  ENSG00000276410                                        H2B1B_HUMAN   \n",
       "  14422  ENSG00000276600      A0A096LP44_HUMAN A0A096LPF0_HUMAN RAB7B_HUMAN   \n",
       "  14423  ENSG00000276644  A0A087WY66_HUMAN A0A087WZA7_HUMAN A0A087WZP2_H...   \n",
       "  14424  ENSG00000277258  A0A087X0Y6_HUMAN A0A087X259_HUMAN J3KT13_HUMAN...   \n",
       "  14425  ENSG00000277363  A0A087WTE6_HUMAN A0A087WU33_HUMAN A0A087WVV7_H...   \n",
       "  14426  ENSG00000277443                                        MARCS_HUMAN   \n",
       "  14427  ENSG00000277462                                        ZN670_HUMAN   \n",
       "  14428  ENSG00000277481                                        PK1L3_HUMAN   \n",
       "  14429  ENSG00000277586        A0A087X0W2_HUMAN A0A0S2Z436_HUMAN NFL_HUMAN   \n",
       "  14430  ENSG00000277632                                         CCL3_HUMAN   \n",
       "  14431  ENSG00000277734                                   A0A087WWC6_HUMAN   \n",
       "  14432  ENSG00000277791  A0A087WUL2_HUMAN A0A087WXQ8_HUMAN A0A087WY10_H...   \n",
       "  14433  ENSG00000277893                                         S5A2_HUMAN   \n",
       "  14434  ENSG00000278023                            B4DZ74_HUMAN RDM1_HUMAN   \n",
       "  14435  ENSG00000278053  A0A087WTD6_HUMAN A0A087X069_HUMAN A0A087X121_H...   \n",
       "  14436  ENSG00000278057                                        TEX28_HUMAN   \n",
       "  14437  ENSG00000278129                                         ZNF8_HUMAN   \n",
       "  14438  ENSG00000278195                                         SSR3_HUMAN   \n",
       "  14439  ENSG00000278299                                        TBC3C_HUMAN   \n",
       "  14440  ENSG00000278311  A0A087X0E5_HUMAN A0A087X1D7_HUMAN A0A087X1N0_H...   \n",
       "  14441  ENSG00000278540  A0A087WVR6_HUMAN A0A087WWN5_HUMAN A0A087WYK6_H...   \n",
       "  14442  ENSG00000278570                           Q8IVZ9_HUMAN NR2E3_HUMAN   \n",
       "  14443  ENSG00000278619                        A0A087WZC1_HUMAN MRM1_HUMAN   \n",
       "  14444  ENSG00000278845                  A0A087WU62_HUMAN A0A087X2D5_HUMAN   \n",
       "  14445  ENSG00000279116                                        OR8D2_HUMAN   \n",
       "  14446  ENSG00000279486                                        O2AG1_HUMAN   \n",
       "  14447  ENSG00000280789                                        PAGR1_HUMAN   \n",
       "  14448  ENSG00000280969                                        RS4Y2_HUMAN   \n",
       "  14449  ENSG00000284194                  A0A1W2PP80_HUMAN A0A1W2PQK0_HUMAN   \n",
       "  \n",
       "         Log10 length     Symbol  Log10 degree  mitochondrion organization  \\\n",
       "  0          4.178517     TSPAN6      0.698970                           0   \n",
       "  1          4.110017       TNMD      0.000000                           0   \n",
       "  2          4.649695       DPM1      1.176091                           0   \n",
       "  3          4.374547      SCYL3      0.698970                           0   \n",
       "  4          5.283469        FGR      1.568202                           0   \n",
       "  5          4.227372        CFH      1.079181                           0   \n",
       "  6          4.980581      FUCA2      0.477121                           0   \n",
       "  7          4.431878       GCLC      0.301030                           0   \n",
       "  8          5.077840       NFYA      1.698970                           0   \n",
       "  9          4.777688     NIPAL3      0.000000                           0   \n",
       "  10         4.222898      LAS1L      2.037426                           0   \n",
       "  11         5.398266     SEMA3F      0.778151                           0   \n",
       "  12         4.531875       CFTR      2.206826                           0   \n",
       "  13         4.488579     ANKIB1      0.000000                           0   \n",
       "  14         5.190755    CYP51A1      1.462398                           0   \n",
       "  15              NaN      KRIT1      0.778151                           0   \n",
       "  16         4.673924      RAD52      1.255273                           0   \n",
       "  17         4.488283        BAD      1.732394                           0   \n",
       "  18         4.172457       LAP3      0.477121                           0   \n",
       "  19         4.563671       CD99      0.954243                           0   \n",
       "  20         4.700106     HS3ST1      0.778151                           0   \n",
       "  21         4.196950       AOC1      1.653213                           0   \n",
       "  22         4.566767      WNT16      0.000000                           0   \n",
       "  23         5.620606      HECW1      0.903090                           0   \n",
       "  24         5.656484     MAD1L1      1.623249                           0   \n",
       "  25         4.294863      LASP1      1.505150                           0   \n",
       "  26         4.715268      SNX11      0.301030                           0   \n",
       "  27         3.981954   TMEM176A      0.000000                           0   \n",
       "  28         3.673758       M6PR      0.698970                           0   \n",
       "  29         4.274181     KLHL13      1.113943                           0   \n",
       "  ...             ...        ...           ...                         ...   \n",
       "  14420      2.684845      CCL14      0.778151                           0   \n",
       "  14421      5.209290  HIST1H2BB      1.278754                           0   \n",
       "  14422      2.683947      RAB7B      1.041393                           0   \n",
       "  14423      4.242119      DACH1      1.278754                           0   \n",
       "  14424      2.639486      PCGF2      1.278754                           0   \n",
       "  14425      4.262878     SRCIN1      0.477121                           0   \n",
       "  14426      4.622960     MARCKS      1.322219                           0   \n",
       "  14427      3.786041     ZNF670      1.176091                           0   \n",
       "  14428      3.599665     PKD1L3      0.000000                           0   \n",
       "  14429      2.980912       NEFL      1.556303                           0   \n",
       "  14430      4.467282       CCL3      1.113943                           0   \n",
       "  14431      4.252052       TRAC      0.000000                           0   \n",
       "  14432      4.104794      PSMB3      1.819544                           0   \n",
       "  14433      2.865104     SRD5A2      1.301030                           0   \n",
       "  14434      2.674861       RDM1      0.000000                           0   \n",
       "  14435      4.390741      DDX52      0.602060                           0   \n",
       "  14436      4.527965      TEX28      0.000000                           0   \n",
       "  14437      3.905256       ZNF8      1.230449                           0   \n",
       "  14438      5.123290      SSTR3      1.079181                           0   \n",
       "  14439      3.900422    TBC1D3C      0.000000                           0   \n",
       "  14440      4.492201     GGNBP2      0.000000                           0   \n",
       "  14441      3.442793      ACACA      1.342423                           0   \n",
       "  14442      4.037904      NR2E3      1.431364                           0   \n",
       "  14443      3.380573       MRM1      0.000000                           0   \n",
       "  14444      4.165066     MRPL45      1.903090                           0   \n",
       "  14445      2.991669      OR8D2      0.301030                           0   \n",
       "  14446      3.077731     OR2AG1      0.000000                           0   \n",
       "  14447      4.703756      PAGR1      1.176091                           0   \n",
       "  14448      3.893873     RPS4Y2      1.903090                           0   \n",
       "  14449      2.775974       SCO2      0.301030                           0   \n",
       "  \n",
       "         cell adhesion  signal transduction  B cell log10 FPKM  \\\n",
       "  0                  0                    0          -1.045757   \n",
       "  1                  0                    0          -2.000000   \n",
       "  2                  0                    0           0.980458   \n",
       "  3                  0                    0           1.007748   \n",
       "  4                  0                    0           2.324015   \n",
       "  5                  0                    0          -2.000000   \n",
       "  6                  0                    0           0.414973   \n",
       "  7                  0                    0           0.866287   \n",
       "  8                  0                    0           1.222456   \n",
       "  9                  0                    0           1.230449   \n",
       "  10                 0                    0           1.223496   \n",
       "  11                 0                    0          -2.000000   \n",
       "  12                 0                    0          -2.000000   \n",
       "  13                 0                    0           1.071514   \n",
       "  14                 0                    0           0.654177   \n",
       "  15                 0                    0           1.264818   \n",
       "  16                 0                    0           1.296884   \n",
       "  17                 0                    0           1.447003   \n",
       "  18                 0                    0           1.118926   \n",
       "  19                 1                    0           1.638489   \n",
       "  20                 0                    0           1.102091   \n",
       "  21                 0                    1          -1.221849   \n",
       "  22                 0                    0           0.480007   \n",
       "  23                 0                    0          -2.000000   \n",
       "  24                 0                    0           1.792322   \n",
       "  25                 0                    0           1.568554   \n",
       "  26                 0                    0           1.262451   \n",
       "  27                 0                    0          -0.107905   \n",
       "  28                 0                    1           1.624282   \n",
       "  29                 0                    0          -1.397940   \n",
       "  ...              ...                  ...                ...   \n",
       "  14420              0                    0          -2.000000   \n",
       "  14421              0                    0          -2.000000   \n",
       "  14422              0                    0          -2.000000   \n",
       "  14423              0                    0          -2.000000   \n",
       "  14424              0                    0          -1.301030   \n",
       "  14425              0                    0          -0.086186   \n",
       "  14426              0                    0           1.083861   \n",
       "  14427              0                    0          -0.200659   \n",
       "  14428              0                    0          -1.301030   \n",
       "  14429              0                    0          -2.000000   \n",
       "  14430              0                    0           1.350054   \n",
       "  14431              0                    0           0.990339   \n",
       "  14432              0                    0           2.119652   \n",
       "  14433              0                    0          -2.000000   \n",
       "  14434              0                    0          -1.397940   \n",
       "  14435              0                    0           0.613842   \n",
       "  14436              0                    0          -2.000000   \n",
       "  14437              0                    0           0.389166   \n",
       "  14438              0                    0          -0.142668   \n",
       "  14439              0                    0          -2.000000   \n",
       "  14440              0                    0           1.883718   \n",
       "  14441              0                    0           0.534026   \n",
       "  14442              0                    1          -2.000000   \n",
       "  14443              0                    0           0.812913   \n",
       "  14444              0                    0           0.973128   \n",
       "  14445              0                    0          -2.000000   \n",
       "  14446              0                    0          -2.000000   \n",
       "  14447              0                    0           1.105169   \n",
       "  14448              0                    0          -2.000000   \n",
       "  14449              0                    0           1.417139   \n",
       "  \n",
       "         Neuron log10 FPKM  \n",
       "  0               1.294687  \n",
       "  1              -2.000000  \n",
       "  2               1.652246  \n",
       "  3               0.575188  \n",
       "  4              -2.000000  \n",
       "  5              -2.000000  \n",
       "  6               0.818226  \n",
       "  7               0.774517  \n",
       "  8               1.142389  \n",
       "  9               1.098644  \n",
       "  10              1.141450  \n",
       "  11              1.269279  \n",
       "  12             -1.698970  \n",
       "  13              1.263873  \n",
       "  14              2.256092  \n",
       "  15              1.151982  \n",
       "  16              0.822822  \n",
       "  17              1.635986  \n",
       "  18              1.269513  \n",
       "  19              1.158965  \n",
       "  20             -0.886057  \n",
       "  21             -2.000000  \n",
       "  22             -1.045757  \n",
       "  23              1.245019  \n",
       "  24              1.516535  \n",
       "  25              1.410946  \n",
       "  26              1.061829  \n",
       "  27             -0.481486  \n",
       "  28              1.570193  \n",
       "  29              1.232488  \n",
       "  ...                  ...  \n",
       "  14420          -2.000000  \n",
       "  14421           0.113943  \n",
       "  14422          -2.000000  \n",
       "  14423           1.168792  \n",
       "  14424           0.635484  \n",
       "  14425           0.480007  \n",
       "  14426           2.357401  \n",
       "  14427           0.781755  \n",
       "  14428          -2.000000  \n",
       "  14429           2.452201  \n",
       "  14430          -2.000000  \n",
       "  14431          -2.000000  \n",
       "  14432           2.013132  \n",
       "  14433          -2.000000  \n",
       "  14434          -0.481486  \n",
       "  14435           1.283753  \n",
       "  14436          -2.000000  \n",
       "  14437           0.992111  \n",
       "  14438          -1.000000  \n",
       "  14439          -1.154902  \n",
       "  14440           1.427486  \n",
       "  14441           1.391288  \n",
       "  14442          -1.397940  \n",
       "  14443          -0.107905  \n",
       "  14444           1.422261  \n",
       "  14445          -2.000000  \n",
       "  14446          -2.000000  \n",
       "  14447           1.529943  \n",
       "  14448          -2.000000  \n",
       "  14449           1.376942  \n",
       "  \n",
       "  [14448 rows x 10 columns],\n",
       "  encoding: EncodingWithFacet({\n",
       "    x: X({\n",
       "      shorthand: 'Neuron log10 FPKM'\n",
       "    }),\n",
       "    y: Y({\n",
       "      shorthand: 'B cell log10 FPKM'\n",
       "    })\n",
       "  }),\n",
       "  mark: MarkDef({\n",
       "    color: 'blue',\n",
       "    fillOpacity: 0.2,\n",
       "    type: 'circle'\n",
       "  }),\n",
       "  max_rows: 20000\n",
       "})"
      ]
     },
     "execution_count": 62,
     "metadata": {},
     "output_type": "execute_result"
    }
   ],
   "source": [
    "alt.Chart(df, max_rows=20000).mark_circle(color=\"blue\", fillOpacity=0.2).encode(\n",
    "    x=alt.X(\"Neuron log10 FPKM\"),\n",
    "    y=alt.Y(\"B cell log10 FPKM\"),\n",
    ")"
   ]
  },
  {
   "cell_type": "markdown",
   "metadata": {
    "slideshow": {
     "slide_type": "slide"
    }
   },
   "source": [
    "## Аггрегаторные функции"
   ]
  },
  {
   "cell_type": "code",
   "execution_count": 63,
   "metadata": {
    "slideshow": {
     "slide_type": "fragment"
    }
   },
   "outputs": [
    {
     "ename": "MaxRowsError",
     "evalue": "The number of rows in your dataset is greater than the max of 5000",
     "output_type": "error",
     "traceback": [
      "\u001b[0;31m---------------------------------------------------------------------------\u001b[0m",
      "\u001b[0;31mMaxRowsError\u001b[0m                              Traceback (most recent call last)",
      "\u001b[0;32m~/anaconda3/lib/python3.6/site-packages/altair/vegalite/v2/api.py\u001b[0m in \u001b[0;36mto_dict\u001b[0;34m(self, *args, **kwargs)\u001b[0m\n\u001b[1;32m    310\u001b[0m         \u001b[0mcopy\u001b[0m \u001b[0;34m=\u001b[0m \u001b[0mself\u001b[0m\u001b[0;34m.\u001b[0m\u001b[0mcopy\u001b[0m\u001b[0;34m(\u001b[0m\u001b[0;34m)\u001b[0m\u001b[0;34m\u001b[0m\u001b[0m\n\u001b[1;32m    311\u001b[0m         \u001b[0moriginal_data\u001b[0m \u001b[0;34m=\u001b[0m \u001b[0mgetattr\u001b[0m\u001b[0;34m(\u001b[0m\u001b[0mcopy\u001b[0m\u001b[0;34m,\u001b[0m \u001b[0;34m'data'\u001b[0m\u001b[0;34m,\u001b[0m \u001b[0mUndefined\u001b[0m\u001b[0;34m)\u001b[0m\u001b[0;34m\u001b[0m\u001b[0m\n\u001b[0;32m--> 312\u001b[0;31m         \u001b[0mcopy\u001b[0m\u001b[0;34m.\u001b[0m\u001b[0mdata\u001b[0m \u001b[0;34m=\u001b[0m \u001b[0m_prepare_data\u001b[0m\u001b[0;34m(\u001b[0m\u001b[0moriginal_data\u001b[0m\u001b[0;34m)\u001b[0m\u001b[0;34m\u001b[0m\u001b[0m\n\u001b[0m\u001b[1;32m    313\u001b[0m \u001b[0;34m\u001b[0m\u001b[0m\n\u001b[1;32m    314\u001b[0m         \u001b[0;31m# We make use of two context markers:\u001b[0m\u001b[0;34m\u001b[0m\u001b[0;34m\u001b[0m\u001b[0m\n",
      "\u001b[0;32m~/anaconda3/lib/python3.6/site-packages/altair/vegalite/v2/api.py\u001b[0m in \u001b[0;36m_prepare_data\u001b[0;34m(data)\u001b[0m\n\u001b[1;32m     22\u001b[0m         \u001b[0;32mreturn\u001b[0m \u001b[0mdata\u001b[0m\u001b[0;34m\u001b[0m\u001b[0m\n\u001b[1;32m     23\u001b[0m     \u001b[0;32melif\u001b[0m \u001b[0misinstance\u001b[0m\u001b[0;34m(\u001b[0m\u001b[0mdata\u001b[0m\u001b[0;34m,\u001b[0m \u001b[0mpd\u001b[0m\u001b[0;34m.\u001b[0m\u001b[0mDataFrame\u001b[0m\u001b[0;34m)\u001b[0m\u001b[0;34m:\u001b[0m\u001b[0;34m\u001b[0m\u001b[0m\n\u001b[0;32m---> 24\u001b[0;31m         \u001b[0;32mreturn\u001b[0m \u001b[0mpipe\u001b[0m\u001b[0;34m(\u001b[0m\u001b[0mdata\u001b[0m\u001b[0;34m,\u001b[0m \u001b[0mdata_transformers\u001b[0m\u001b[0;34m.\u001b[0m\u001b[0mget\u001b[0m\u001b[0;34m(\u001b[0m\u001b[0;34m)\u001b[0m\u001b[0;34m)\u001b[0m\u001b[0;34m\u001b[0m\u001b[0m\n\u001b[0m\u001b[1;32m     25\u001b[0m     \u001b[0;32melif\u001b[0m \u001b[0misinstance\u001b[0m\u001b[0;34m(\u001b[0m\u001b[0mdata\u001b[0m\u001b[0;34m,\u001b[0m \u001b[0msix\u001b[0m\u001b[0;34m.\u001b[0m\u001b[0mstring_types\u001b[0m\u001b[0;34m)\u001b[0m\u001b[0;34m:\u001b[0m\u001b[0;34m\u001b[0m\u001b[0m\n\u001b[1;32m     26\u001b[0m         \u001b[0;32mreturn\u001b[0m \u001b[0mcore\u001b[0m\u001b[0;34m.\u001b[0m\u001b[0mUrlData\u001b[0m\u001b[0;34m(\u001b[0m\u001b[0mdata\u001b[0m\u001b[0;34m)\u001b[0m\u001b[0;34m\u001b[0m\u001b[0m\n",
      "\u001b[0;32m~/anaconda3/lib/python3.6/site-packages/toolz/functoolz.py\u001b[0m in \u001b[0;36mpipe\u001b[0;34m(data, *funcs)\u001b[0m\n\u001b[1;32m    550\u001b[0m     \"\"\"\n\u001b[1;32m    551\u001b[0m     \u001b[0;32mfor\u001b[0m \u001b[0mfunc\u001b[0m \u001b[0;32min\u001b[0m \u001b[0mfuncs\u001b[0m\u001b[0;34m:\u001b[0m\u001b[0;34m\u001b[0m\u001b[0m\n\u001b[0;32m--> 552\u001b[0;31m         \u001b[0mdata\u001b[0m \u001b[0;34m=\u001b[0m \u001b[0mfunc\u001b[0m\u001b[0;34m(\u001b[0m\u001b[0mdata\u001b[0m\u001b[0;34m)\u001b[0m\u001b[0;34m\u001b[0m\u001b[0m\n\u001b[0m\u001b[1;32m    553\u001b[0m     \u001b[0;32mreturn\u001b[0m \u001b[0mdata\u001b[0m\u001b[0;34m\u001b[0m\u001b[0m\n\u001b[1;32m    554\u001b[0m \u001b[0;34m\u001b[0m\u001b[0m\n",
      "\u001b[0;32m~/anaconda3/lib/python3.6/site-packages/toolz/functoolz.py\u001b[0m in \u001b[0;36m__call__\u001b[0;34m(self, *args, **kwargs)\u001b[0m\n\u001b[1;32m    281\u001b[0m     \u001b[0;32mdef\u001b[0m \u001b[0m__call__\u001b[0m\u001b[0;34m(\u001b[0m\u001b[0mself\u001b[0m\u001b[0;34m,\u001b[0m \u001b[0;34m*\u001b[0m\u001b[0margs\u001b[0m\u001b[0;34m,\u001b[0m \u001b[0;34m**\u001b[0m\u001b[0mkwargs\u001b[0m\u001b[0;34m)\u001b[0m\u001b[0;34m:\u001b[0m\u001b[0;34m\u001b[0m\u001b[0m\n\u001b[1;32m    282\u001b[0m         \u001b[0;32mtry\u001b[0m\u001b[0;34m:\u001b[0m\u001b[0;34m\u001b[0m\u001b[0m\n\u001b[0;32m--> 283\u001b[0;31m             \u001b[0;32mreturn\u001b[0m \u001b[0mself\u001b[0m\u001b[0;34m.\u001b[0m\u001b[0m_partial\u001b[0m\u001b[0;34m(\u001b[0m\u001b[0;34m*\u001b[0m\u001b[0margs\u001b[0m\u001b[0;34m,\u001b[0m \u001b[0;34m**\u001b[0m\u001b[0mkwargs\u001b[0m\u001b[0;34m)\u001b[0m\u001b[0;34m\u001b[0m\u001b[0m\n\u001b[0m\u001b[1;32m    284\u001b[0m         \u001b[0;32mexcept\u001b[0m \u001b[0mTypeError\u001b[0m \u001b[0;32mas\u001b[0m \u001b[0mexc\u001b[0m\u001b[0;34m:\u001b[0m\u001b[0;34m\u001b[0m\u001b[0m\n\u001b[1;32m    285\u001b[0m             \u001b[0;32mif\u001b[0m \u001b[0mself\u001b[0m\u001b[0;34m.\u001b[0m\u001b[0m_should_curry\u001b[0m\u001b[0;34m(\u001b[0m\u001b[0margs\u001b[0m\u001b[0;34m,\u001b[0m \u001b[0mkwargs\u001b[0m\u001b[0;34m,\u001b[0m \u001b[0mexc\u001b[0m\u001b[0;34m)\u001b[0m\u001b[0;34m:\u001b[0m\u001b[0;34m\u001b[0m\u001b[0m\n",
      "\u001b[0;32m~/anaconda3/lib/python3.6/site-packages/altair/vegalite/data.py\u001b[0m in \u001b[0;36mdefault_data_transformer\u001b[0;34m(data)\u001b[0m\n\u001b[1;32m      9\u001b[0m \u001b[0;34m@\u001b[0m\u001b[0mcurry\u001b[0m\u001b[0;34m\u001b[0m\u001b[0m\n\u001b[1;32m     10\u001b[0m \u001b[0;32mdef\u001b[0m \u001b[0mdefault_data_transformer\u001b[0m\u001b[0;34m(\u001b[0m\u001b[0mdata\u001b[0m\u001b[0;34m)\u001b[0m\u001b[0;34m:\u001b[0m\u001b[0;34m\u001b[0m\u001b[0m\n\u001b[0;32m---> 11\u001b[0;31m     \u001b[0;32mreturn\u001b[0m \u001b[0mpipe\u001b[0m\u001b[0;34m(\u001b[0m\u001b[0mdata\u001b[0m\u001b[0;34m,\u001b[0m \u001b[0mlimit_rows\u001b[0m\u001b[0;34m,\u001b[0m \u001b[0mto_values\u001b[0m\u001b[0;34m)\u001b[0m\u001b[0;34m\u001b[0m\u001b[0m\n\u001b[0m\u001b[1;32m     12\u001b[0m \u001b[0;34m\u001b[0m\u001b[0m\n\u001b[1;32m     13\u001b[0m \u001b[0;34m\u001b[0m\u001b[0m\n",
      "\u001b[0;32m~/anaconda3/lib/python3.6/site-packages/toolz/functoolz.py\u001b[0m in \u001b[0;36mpipe\u001b[0;34m(data, *funcs)\u001b[0m\n\u001b[1;32m    550\u001b[0m     \"\"\"\n\u001b[1;32m    551\u001b[0m     \u001b[0;32mfor\u001b[0m \u001b[0mfunc\u001b[0m \u001b[0;32min\u001b[0m \u001b[0mfuncs\u001b[0m\u001b[0;34m:\u001b[0m\u001b[0;34m\u001b[0m\u001b[0m\n\u001b[0;32m--> 552\u001b[0;31m         \u001b[0mdata\u001b[0m \u001b[0;34m=\u001b[0m \u001b[0mfunc\u001b[0m\u001b[0;34m(\u001b[0m\u001b[0mdata\u001b[0m\u001b[0;34m)\u001b[0m\u001b[0;34m\u001b[0m\u001b[0m\n\u001b[0m\u001b[1;32m    553\u001b[0m     \u001b[0;32mreturn\u001b[0m \u001b[0mdata\u001b[0m\u001b[0;34m\u001b[0m\u001b[0m\n\u001b[1;32m    554\u001b[0m \u001b[0;34m\u001b[0m\u001b[0m\n",
      "\u001b[0;32m~/anaconda3/lib/python3.6/site-packages/toolz/functoolz.py\u001b[0m in \u001b[0;36m__call__\u001b[0;34m(self, *args, **kwargs)\u001b[0m\n\u001b[1;32m    281\u001b[0m     \u001b[0;32mdef\u001b[0m \u001b[0m__call__\u001b[0m\u001b[0;34m(\u001b[0m\u001b[0mself\u001b[0m\u001b[0;34m,\u001b[0m \u001b[0;34m*\u001b[0m\u001b[0margs\u001b[0m\u001b[0;34m,\u001b[0m \u001b[0;34m**\u001b[0m\u001b[0mkwargs\u001b[0m\u001b[0;34m)\u001b[0m\u001b[0;34m:\u001b[0m\u001b[0;34m\u001b[0m\u001b[0m\n\u001b[1;32m    282\u001b[0m         \u001b[0;32mtry\u001b[0m\u001b[0;34m:\u001b[0m\u001b[0;34m\u001b[0m\u001b[0m\n\u001b[0;32m--> 283\u001b[0;31m             \u001b[0;32mreturn\u001b[0m \u001b[0mself\u001b[0m\u001b[0;34m.\u001b[0m\u001b[0m_partial\u001b[0m\u001b[0;34m(\u001b[0m\u001b[0;34m*\u001b[0m\u001b[0margs\u001b[0m\u001b[0;34m,\u001b[0m \u001b[0;34m**\u001b[0m\u001b[0mkwargs\u001b[0m\u001b[0;34m)\u001b[0m\u001b[0;34m\u001b[0m\u001b[0m\n\u001b[0m\u001b[1;32m    284\u001b[0m         \u001b[0;32mexcept\u001b[0m \u001b[0mTypeError\u001b[0m \u001b[0;32mas\u001b[0m \u001b[0mexc\u001b[0m\u001b[0;34m:\u001b[0m\u001b[0;34m\u001b[0m\u001b[0m\n\u001b[1;32m    285\u001b[0m             \u001b[0;32mif\u001b[0m \u001b[0mself\u001b[0m\u001b[0;34m.\u001b[0m\u001b[0m_should_curry\u001b[0m\u001b[0;34m(\u001b[0m\u001b[0margs\u001b[0m\u001b[0;34m,\u001b[0m \u001b[0mkwargs\u001b[0m\u001b[0;34m,\u001b[0m \u001b[0mexc\u001b[0m\u001b[0;34m)\u001b[0m\u001b[0;34m:\u001b[0m\u001b[0;34m\u001b[0m\u001b[0m\n",
      "\u001b[0;32m~/anaconda3/lib/python3.6/site-packages/altair/utils/data.py\u001b[0m in \u001b[0;36mlimit_rows\u001b[0;34m(data, max_rows)\u001b[0m\n\u001b[1;32m     45\u001b[0m             \u001b[0;32mreturn\u001b[0m \u001b[0mdata\u001b[0m\u001b[0;34m\u001b[0m\u001b[0m\n\u001b[1;32m     46\u001b[0m     \u001b[0;32mif\u001b[0m \u001b[0mlen\u001b[0m\u001b[0;34m(\u001b[0m\u001b[0mvalues\u001b[0m\u001b[0;34m)\u001b[0m \u001b[0;34m>\u001b[0m \u001b[0mmax_rows\u001b[0m\u001b[0;34m:\u001b[0m\u001b[0;34m\u001b[0m\u001b[0m\n\u001b[0;32m---> 47\u001b[0;31m         \u001b[0;32mraise\u001b[0m \u001b[0mMaxRowsError\u001b[0m\u001b[0;34m(\u001b[0m\u001b[0;34m'The number of rows in your dataset is greater than the max of {}'\u001b[0m\u001b[0;34m.\u001b[0m\u001b[0mformat\u001b[0m\u001b[0;34m(\u001b[0m\u001b[0mmax_rows\u001b[0m\u001b[0;34m)\u001b[0m\u001b[0;34m)\u001b[0m\u001b[0;34m\u001b[0m\u001b[0m\n\u001b[0m\u001b[1;32m     48\u001b[0m     \u001b[0;32mreturn\u001b[0m \u001b[0mdata\u001b[0m\u001b[0;34m\u001b[0m\u001b[0m\n\u001b[1;32m     49\u001b[0m \u001b[0;34m\u001b[0m\u001b[0m\n",
      "\u001b[0;31mMaxRowsError\u001b[0m: The number of rows in your dataset is greater than the max of 5000"
     ]
    },
    {
     "data": {
      "text/plain": [
       "Chart({\n",
       "  data:             Ensembl ID                                        Uniprot IDs  \\\n",
       "  0      ENSG00000000003       A0A087WYV6_HUMAN A0A087WZU5_HUMAN TSN6_HUMAN   \n",
       "  1      ENSG00000000005                                         TNMD_HUMAN   \n",
       "  2      ENSG00000000419  H0Y368_HUMAN DPM1_HUMAN Q5QPJ9_HUMAN Q5QPK2_HUMAN   \n",
       "  3      ENSG00000000457                           PACE1_HUMAN X6RHX1_HUMAN   \n",
       "  4      ENSG00000000938                             FGR_HUMAN Q5TGY6_HUMAN   \n",
       "  5      ENSG00000000971           A0A0D9SG88_HUMAN CFAH_HUMAN Q5TFM2_HUMAN   \n",
       "  6      ENSG00000001036                           Q7Z6V2_HUMAN FUCO2_HUMAN   \n",
       "  7      ENSG00000001084  A0A0C4DGB2_HUMAN D6R959_HUMAN D6REX4_HUMAN D6R...   \n",
       "  8      ENSG00000001167                                         NFYA_HUMAN   \n",
       "  9      ENSG00000001461              A6NN97_HUMAN H0Y4I9_HUMAN NPAL3_HUMAN   \n",
       "  10     ENSG00000001497                           LAS1L_HUMAN R4GNF7_HUMAN   \n",
       "  11     ENSG00000001617  C9IYS6_HUMAN C9J1V2_HUMAN C9J4H5_HUMAN C9JPG5_...   \n",
       "  12     ENSG00000001626  C9J6L5_HUMAN E7EPB6_HUMAN H0Y8A9_HUMAN M0QYZ3_...   \n",
       "  13     ENSG00000001629  C9JZ63_HUMAN H7C0S0_HUMAN H7C2L9_HUMAN H7C2V2_...   \n",
       "  14     ENSG00000001630  A0A0C4DFL7_HUMAN C9IYR8_HUMAN H7C0D0_HUMAN CP5...   \n",
       "  15     ENSG00000001631  A0A0C4DG23_HUMAN C9J3W7_HUMAN C9J718_HUMAN C9J...   \n",
       "  16     ENSG00000002016  E9PF95_HUMAN F5GX32_HUMAN F5GX95_HUMAN F5H1K5_...   \n",
       "  17     ENSG00000002330  A8MXU7_HUMAN F5GYS3_HUMAN F5H1R6_HUMAN F5H3B1_...   \n",
       "  18     ENSG00000002549               H0Y983_HUMAN H0Y9Q1_HUMAN AMPL_HUMAN   \n",
       "  19     ENSG00000002586  A0A096LP69_HUMAN A6NGF6_HUMAN A6NJT9_HUMAN A8M...   \n",
       "  20     ENSG00000002587                           E9PDE3_HUMAN HS3S1_HUMAN   \n",
       "  21     ENSG00000002726               C9J0G8_HUMAN C9J2J4_HUMAN AOC1_HUMAN   \n",
       "  22     ENSG00000002745                           E9PH60_HUMAN WNT16_HUMAN   \n",
       "  23     ENSG00000002746                           H7C3Q2_HUMAN HECW1_HUMAN   \n",
       "  24     ENSG00000002822  C9J9H5_HUMAN C9JIR0_HUMAN C9JJ38_HUMAN C9JKI7_...   \n",
       "  25     ENSG00000002834  C9J9W2_HUMAN F6S2S5_HUMAN J3KSN1_HUMAN K7ESD6_...   \n",
       "  26     ENSG00000002919  B4DJI7_HUMAN J3KTN6_HUMAN J3QKV3_HUMAN J3QLV8_...   \n",
       "  27     ENSG00000002933  C9JJ63_HUMAN C9JRT9_HUMAN H7C4P5_HUMAN T176A_H...   \n",
       "  28     ENSG00000003056  F5GX30_HUMAN F5GXE0_HUMAN F5GXU0_HUMAN F5H4U1_...   \n",
       "  29     ENSG00000003096  A0A0C4DG80_HUMAN A0A0C4DG99_HUMAN C9JTS9_HUMAN...   \n",
       "  ...                ...                                                ...   \n",
       "  14420  ENSG00000276409      A0A087X089_HUMAN A0A0B4J2G5_HUMAN CCL14_HUMAN   \n",
       "  14421  ENSG00000276410                                        H2B1B_HUMAN   \n",
       "  14422  ENSG00000276600      A0A096LP44_HUMAN A0A096LPF0_HUMAN RAB7B_HUMAN   \n",
       "  14423  ENSG00000276644  A0A087WY66_HUMAN A0A087WZA7_HUMAN A0A087WZP2_H...   \n",
       "  14424  ENSG00000277258  A0A087X0Y6_HUMAN A0A087X259_HUMAN J3KT13_HUMAN...   \n",
       "  14425  ENSG00000277363  A0A087WTE6_HUMAN A0A087WU33_HUMAN A0A087WVV7_H...   \n",
       "  14426  ENSG00000277443                                        MARCS_HUMAN   \n",
       "  14427  ENSG00000277462                                        ZN670_HUMAN   \n",
       "  14428  ENSG00000277481                                        PK1L3_HUMAN   \n",
       "  14429  ENSG00000277586        A0A087X0W2_HUMAN A0A0S2Z436_HUMAN NFL_HUMAN   \n",
       "  14430  ENSG00000277632                                         CCL3_HUMAN   \n",
       "  14431  ENSG00000277734                                   A0A087WWC6_HUMAN   \n",
       "  14432  ENSG00000277791  A0A087WUL2_HUMAN A0A087WXQ8_HUMAN A0A087WY10_H...   \n",
       "  14433  ENSG00000277893                                         S5A2_HUMAN   \n",
       "  14434  ENSG00000278023                            B4DZ74_HUMAN RDM1_HUMAN   \n",
       "  14435  ENSG00000278053  A0A087WTD6_HUMAN A0A087X069_HUMAN A0A087X121_H...   \n",
       "  14436  ENSG00000278057                                        TEX28_HUMAN   \n",
       "  14437  ENSG00000278129                                         ZNF8_HUMAN   \n",
       "  14438  ENSG00000278195                                         SSR3_HUMAN   \n",
       "  14439  ENSG00000278299                                        TBC3C_HUMAN   \n",
       "  14440  ENSG00000278311  A0A087X0E5_HUMAN A0A087X1D7_HUMAN A0A087X1N0_H...   \n",
       "  14441  ENSG00000278540  A0A087WVR6_HUMAN A0A087WWN5_HUMAN A0A087WYK6_H...   \n",
       "  14442  ENSG00000278570                           Q8IVZ9_HUMAN NR2E3_HUMAN   \n",
       "  14443  ENSG00000278619                        A0A087WZC1_HUMAN MRM1_HUMAN   \n",
       "  14444  ENSG00000278845                  A0A087WU62_HUMAN A0A087X2D5_HUMAN   \n",
       "  14445  ENSG00000279116                                        OR8D2_HUMAN   \n",
       "  14446  ENSG00000279486                                        O2AG1_HUMAN   \n",
       "  14447  ENSG00000280789                                        PAGR1_HUMAN   \n",
       "  14448  ENSG00000280969                                        RS4Y2_HUMAN   \n",
       "  14449  ENSG00000284194                  A0A1W2PP80_HUMAN A0A1W2PQK0_HUMAN   \n",
       "  \n",
       "         Log10 length     Symbol  Log10 degree  mitochondrion organization  \\\n",
       "  0          4.178517     TSPAN6      0.698970                           0   \n",
       "  1          4.110017       TNMD      0.000000                           0   \n",
       "  2          4.649695       DPM1      1.176091                           0   \n",
       "  3          4.374547      SCYL3      0.698970                           0   \n",
       "  4          5.283469        FGR      1.568202                           0   \n",
       "  5          4.227372        CFH      1.079181                           0   \n",
       "  6          4.980581      FUCA2      0.477121                           0   \n",
       "  7          4.431878       GCLC      0.301030                           0   \n",
       "  8          5.077840       NFYA      1.698970                           0   \n",
       "  9          4.777688     NIPAL3      0.000000                           0   \n",
       "  10         4.222898      LAS1L      2.037426                           0   \n",
       "  11         5.398266     SEMA3F      0.778151                           0   \n",
       "  12         4.531875       CFTR      2.206826                           0   \n",
       "  13         4.488579     ANKIB1      0.000000                           0   \n",
       "  14         5.190755    CYP51A1      1.462398                           0   \n",
       "  15              NaN      KRIT1      0.778151                           0   \n",
       "  16         4.673924      RAD52      1.255273                           0   \n",
       "  17         4.488283        BAD      1.732394                           0   \n",
       "  18         4.172457       LAP3      0.477121                           0   \n",
       "  19         4.563671       CD99      0.954243                           0   \n",
       "  20         4.700106     HS3ST1      0.778151                           0   \n",
       "  21         4.196950       AOC1      1.653213                           0   \n",
       "  22         4.566767      WNT16      0.000000                           0   \n",
       "  23         5.620606      HECW1      0.903090                           0   \n",
       "  24         5.656484     MAD1L1      1.623249                           0   \n",
       "  25         4.294863      LASP1      1.505150                           0   \n",
       "  26         4.715268      SNX11      0.301030                           0   \n",
       "  27         3.981954   TMEM176A      0.000000                           0   \n",
       "  28         3.673758       M6PR      0.698970                           0   \n",
       "  29         4.274181     KLHL13      1.113943                           0   \n",
       "  ...             ...        ...           ...                         ...   \n",
       "  14420      2.684845      CCL14      0.778151                           0   \n",
       "  14421      5.209290  HIST1H2BB      1.278754                           0   \n",
       "  14422      2.683947      RAB7B      1.041393                           0   \n",
       "  14423      4.242119      DACH1      1.278754                           0   \n",
       "  14424      2.639486      PCGF2      1.278754                           0   \n",
       "  14425      4.262878     SRCIN1      0.477121                           0   \n",
       "  14426      4.622960     MARCKS      1.322219                           0   \n",
       "  14427      3.786041     ZNF670      1.176091                           0   \n",
       "  14428      3.599665     PKD1L3      0.000000                           0   \n",
       "  14429      2.980912       NEFL      1.556303                           0   \n",
       "  14430      4.467282       CCL3      1.113943                           0   \n",
       "  14431      4.252052       TRAC      0.000000                           0   \n",
       "  14432      4.104794      PSMB3      1.819544                           0   \n",
       "  14433      2.865104     SRD5A2      1.301030                           0   \n",
       "  14434      2.674861       RDM1      0.000000                           0   \n",
       "  14435      4.390741      DDX52      0.602060                           0   \n",
       "  14436      4.527965      TEX28      0.000000                           0   \n",
       "  14437      3.905256       ZNF8      1.230449                           0   \n",
       "  14438      5.123290      SSTR3      1.079181                           0   \n",
       "  14439      3.900422    TBC1D3C      0.000000                           0   \n",
       "  14440      4.492201     GGNBP2      0.000000                           0   \n",
       "  14441      3.442793      ACACA      1.342423                           0   \n",
       "  14442      4.037904      NR2E3      1.431364                           0   \n",
       "  14443      3.380573       MRM1      0.000000                           0   \n",
       "  14444      4.165066     MRPL45      1.903090                           0   \n",
       "  14445      2.991669      OR8D2      0.301030                           0   \n",
       "  14446      3.077731     OR2AG1      0.000000                           0   \n",
       "  14447      4.703756      PAGR1      1.176091                           0   \n",
       "  14448      3.893873     RPS4Y2      1.903090                           0   \n",
       "  14449      2.775974       SCO2      0.301030                           0   \n",
       "  \n",
       "         cell adhesion  signal transduction  B cell log10 FPKM  \\\n",
       "  0                  0                    0          -1.045757   \n",
       "  1                  0                    0          -2.000000   \n",
       "  2                  0                    0           0.980458   \n",
       "  3                  0                    0           1.007748   \n",
       "  4                  0                    0           2.324015   \n",
       "  5                  0                    0          -2.000000   \n",
       "  6                  0                    0           0.414973   \n",
       "  7                  0                    0           0.866287   \n",
       "  8                  0                    0           1.222456   \n",
       "  9                  0                    0           1.230449   \n",
       "  10                 0                    0           1.223496   \n",
       "  11                 0                    0          -2.000000   \n",
       "  12                 0                    0          -2.000000   \n",
       "  13                 0                    0           1.071514   \n",
       "  14                 0                    0           0.654177   \n",
       "  15                 0                    0           1.264818   \n",
       "  16                 0                    0           1.296884   \n",
       "  17                 0                    0           1.447003   \n",
       "  18                 0                    0           1.118926   \n",
       "  19                 1                    0           1.638489   \n",
       "  20                 0                    0           1.102091   \n",
       "  21                 0                    1          -1.221849   \n",
       "  22                 0                    0           0.480007   \n",
       "  23                 0                    0          -2.000000   \n",
       "  24                 0                    0           1.792322   \n",
       "  25                 0                    0           1.568554   \n",
       "  26                 0                    0           1.262451   \n",
       "  27                 0                    0          -0.107905   \n",
       "  28                 0                    1           1.624282   \n",
       "  29                 0                    0          -1.397940   \n",
       "  ...              ...                  ...                ...   \n",
       "  14420              0                    0          -2.000000   \n",
       "  14421              0                    0          -2.000000   \n",
       "  14422              0                    0          -2.000000   \n",
       "  14423              0                    0          -2.000000   \n",
       "  14424              0                    0          -1.301030   \n",
       "  14425              0                    0          -0.086186   \n",
       "  14426              0                    0           1.083861   \n",
       "  14427              0                    0          -0.200659   \n",
       "  14428              0                    0          -1.301030   \n",
       "  14429              0                    0          -2.000000   \n",
       "  14430              0                    0           1.350054   \n",
       "  14431              0                    0           0.990339   \n",
       "  14432              0                    0           2.119652   \n",
       "  14433              0                    0          -2.000000   \n",
       "  14434              0                    0          -1.397940   \n",
       "  14435              0                    0           0.613842   \n",
       "  14436              0                    0          -2.000000   \n",
       "  14437              0                    0           0.389166   \n",
       "  14438              0                    0          -0.142668   \n",
       "  14439              0                    0          -2.000000   \n",
       "  14440              0                    0           1.883718   \n",
       "  14441              0                    0           0.534026   \n",
       "  14442              0                    1          -2.000000   \n",
       "  14443              0                    0           0.812913   \n",
       "  14444              0                    0           0.973128   \n",
       "  14445              0                    0          -2.000000   \n",
       "  14446              0                    0          -2.000000   \n",
       "  14447              0                    0           1.105169   \n",
       "  14448              0                    0          -2.000000   \n",
       "  14449              0                    0           1.417139   \n",
       "  \n",
       "         Neuron log10 FPKM  \n",
       "  0               1.294687  \n",
       "  1              -2.000000  \n",
       "  2               1.652246  \n",
       "  3               0.575188  \n",
       "  4              -2.000000  \n",
       "  5              -2.000000  \n",
       "  6               0.818226  \n",
       "  7               0.774517  \n",
       "  8               1.142389  \n",
       "  9               1.098644  \n",
       "  10              1.141450  \n",
       "  11              1.269279  \n",
       "  12             -1.698970  \n",
       "  13              1.263873  \n",
       "  14              2.256092  \n",
       "  15              1.151982  \n",
       "  16              0.822822  \n",
       "  17              1.635986  \n",
       "  18              1.269513  \n",
       "  19              1.158965  \n",
       "  20             -0.886057  \n",
       "  21             -2.000000  \n",
       "  22             -1.045757  \n",
       "  23              1.245019  \n",
       "  24              1.516535  \n",
       "  25              1.410946  \n",
       "  26              1.061829  \n",
       "  27             -0.481486  \n",
       "  28              1.570193  \n",
       "  29              1.232488  \n",
       "  ...                  ...  \n",
       "  14420          -2.000000  \n",
       "  14421           0.113943  \n",
       "  14422          -2.000000  \n",
       "  14423           1.168792  \n",
       "  14424           0.635484  \n",
       "  14425           0.480007  \n",
       "  14426           2.357401  \n",
       "  14427           0.781755  \n",
       "  14428          -2.000000  \n",
       "  14429           2.452201  \n",
       "  14430          -2.000000  \n",
       "  14431          -2.000000  \n",
       "  14432           2.013132  \n",
       "  14433          -2.000000  \n",
       "  14434          -0.481486  \n",
       "  14435           1.283753  \n",
       "  14436          -2.000000  \n",
       "  14437           0.992111  \n",
       "  14438          -1.000000  \n",
       "  14439          -1.154902  \n",
       "  14440           1.427486  \n",
       "  14441           1.391288  \n",
       "  14442          -1.397940  \n",
       "  14443          -0.107905  \n",
       "  14444           1.422261  \n",
       "  14445          -2.000000  \n",
       "  14446          -2.000000  \n",
       "  14447           1.529943  \n",
       "  14448          -2.000000  \n",
       "  14449           1.376942  \n",
       "  \n",
       "  [14448 rows x 10 columns],\n",
       "  encoding: EncodingWithFacet({\n",
       "    x: X({\n",
       "      bin: BinParams({\n",
       "        maxbins: 15\n",
       "      }),\n",
       "      shorthand: 'Log10 degree:Q'\n",
       "    }),\n",
       "    y: Y({\n",
       "      shorthand: 'average(B cell log10 FPKM):Q'\n",
       "    })\n",
       "  }),\n",
       "  mark: MarkDef({\n",
       "    color: 'blue',\n",
       "    type: 'bar'\n",
       "  }),\n",
       "  max_rows: 20000\n",
       "})"
      ]
     },
     "execution_count": 63,
     "metadata": {},
     "output_type": "execute_result"
    }
   ],
   "source": [
    "alt.Chart(df, max_rows=20000).mark_bar(color=\"blue\").encode(\n",
    "    x=alt.X(\"Log10 degree:Q\", bin=alt.Bin(maxbins=15)),\n",
    "    y=alt.Y(\"average(B cell log10 FPKM):Q\"),\n",
    ")"
   ]
  },
  {
   "cell_type": "markdown",
   "metadata": {
    "slideshow": {
     "slide_type": "slide"
    }
   },
   "source": [
    "## Размер"
   ]
  },
  {
   "cell_type": "code",
   "execution_count": 64,
   "metadata": {
    "slideshow": {
     "slide_type": "fragment"
    }
   },
   "outputs": [
    {
     "ename": "MaxRowsError",
     "evalue": "The number of rows in your dataset is greater than the max of 5000",
     "output_type": "error",
     "traceback": [
      "\u001b[0;31m---------------------------------------------------------------------------\u001b[0m",
      "\u001b[0;31mMaxRowsError\u001b[0m                              Traceback (most recent call last)",
      "\u001b[0;32m~/anaconda3/lib/python3.6/site-packages/altair/vegalite/v2/api.py\u001b[0m in \u001b[0;36mto_dict\u001b[0;34m(self, *args, **kwargs)\u001b[0m\n\u001b[1;32m    310\u001b[0m         \u001b[0mcopy\u001b[0m \u001b[0;34m=\u001b[0m \u001b[0mself\u001b[0m\u001b[0;34m.\u001b[0m\u001b[0mcopy\u001b[0m\u001b[0;34m(\u001b[0m\u001b[0;34m)\u001b[0m\u001b[0;34m\u001b[0m\u001b[0m\n\u001b[1;32m    311\u001b[0m         \u001b[0moriginal_data\u001b[0m \u001b[0;34m=\u001b[0m \u001b[0mgetattr\u001b[0m\u001b[0;34m(\u001b[0m\u001b[0mcopy\u001b[0m\u001b[0;34m,\u001b[0m \u001b[0;34m'data'\u001b[0m\u001b[0;34m,\u001b[0m \u001b[0mUndefined\u001b[0m\u001b[0;34m)\u001b[0m\u001b[0;34m\u001b[0m\u001b[0m\n\u001b[0;32m--> 312\u001b[0;31m         \u001b[0mcopy\u001b[0m\u001b[0;34m.\u001b[0m\u001b[0mdata\u001b[0m \u001b[0;34m=\u001b[0m \u001b[0m_prepare_data\u001b[0m\u001b[0;34m(\u001b[0m\u001b[0moriginal_data\u001b[0m\u001b[0;34m)\u001b[0m\u001b[0;34m\u001b[0m\u001b[0m\n\u001b[0m\u001b[1;32m    313\u001b[0m \u001b[0;34m\u001b[0m\u001b[0m\n\u001b[1;32m    314\u001b[0m         \u001b[0;31m# We make use of two context markers:\u001b[0m\u001b[0;34m\u001b[0m\u001b[0;34m\u001b[0m\u001b[0m\n",
      "\u001b[0;32m~/anaconda3/lib/python3.6/site-packages/altair/vegalite/v2/api.py\u001b[0m in \u001b[0;36m_prepare_data\u001b[0;34m(data)\u001b[0m\n\u001b[1;32m     22\u001b[0m         \u001b[0;32mreturn\u001b[0m \u001b[0mdata\u001b[0m\u001b[0;34m\u001b[0m\u001b[0m\n\u001b[1;32m     23\u001b[0m     \u001b[0;32melif\u001b[0m \u001b[0misinstance\u001b[0m\u001b[0;34m(\u001b[0m\u001b[0mdata\u001b[0m\u001b[0;34m,\u001b[0m \u001b[0mpd\u001b[0m\u001b[0;34m.\u001b[0m\u001b[0mDataFrame\u001b[0m\u001b[0;34m)\u001b[0m\u001b[0;34m:\u001b[0m\u001b[0;34m\u001b[0m\u001b[0m\n\u001b[0;32m---> 24\u001b[0;31m         \u001b[0;32mreturn\u001b[0m \u001b[0mpipe\u001b[0m\u001b[0;34m(\u001b[0m\u001b[0mdata\u001b[0m\u001b[0;34m,\u001b[0m \u001b[0mdata_transformers\u001b[0m\u001b[0;34m.\u001b[0m\u001b[0mget\u001b[0m\u001b[0;34m(\u001b[0m\u001b[0;34m)\u001b[0m\u001b[0;34m)\u001b[0m\u001b[0;34m\u001b[0m\u001b[0m\n\u001b[0m\u001b[1;32m     25\u001b[0m     \u001b[0;32melif\u001b[0m \u001b[0misinstance\u001b[0m\u001b[0;34m(\u001b[0m\u001b[0mdata\u001b[0m\u001b[0;34m,\u001b[0m \u001b[0msix\u001b[0m\u001b[0;34m.\u001b[0m\u001b[0mstring_types\u001b[0m\u001b[0;34m)\u001b[0m\u001b[0;34m:\u001b[0m\u001b[0;34m\u001b[0m\u001b[0m\n\u001b[1;32m     26\u001b[0m         \u001b[0;32mreturn\u001b[0m \u001b[0mcore\u001b[0m\u001b[0;34m.\u001b[0m\u001b[0mUrlData\u001b[0m\u001b[0;34m(\u001b[0m\u001b[0mdata\u001b[0m\u001b[0;34m)\u001b[0m\u001b[0;34m\u001b[0m\u001b[0m\n",
      "\u001b[0;32m~/anaconda3/lib/python3.6/site-packages/toolz/functoolz.py\u001b[0m in \u001b[0;36mpipe\u001b[0;34m(data, *funcs)\u001b[0m\n\u001b[1;32m    550\u001b[0m     \"\"\"\n\u001b[1;32m    551\u001b[0m     \u001b[0;32mfor\u001b[0m \u001b[0mfunc\u001b[0m \u001b[0;32min\u001b[0m \u001b[0mfuncs\u001b[0m\u001b[0;34m:\u001b[0m\u001b[0;34m\u001b[0m\u001b[0m\n\u001b[0;32m--> 552\u001b[0;31m         \u001b[0mdata\u001b[0m \u001b[0;34m=\u001b[0m \u001b[0mfunc\u001b[0m\u001b[0;34m(\u001b[0m\u001b[0mdata\u001b[0m\u001b[0;34m)\u001b[0m\u001b[0;34m\u001b[0m\u001b[0m\n\u001b[0m\u001b[1;32m    553\u001b[0m     \u001b[0;32mreturn\u001b[0m \u001b[0mdata\u001b[0m\u001b[0;34m\u001b[0m\u001b[0m\n\u001b[1;32m    554\u001b[0m \u001b[0;34m\u001b[0m\u001b[0m\n",
      "\u001b[0;32m~/anaconda3/lib/python3.6/site-packages/toolz/functoolz.py\u001b[0m in \u001b[0;36m__call__\u001b[0;34m(self, *args, **kwargs)\u001b[0m\n\u001b[1;32m    281\u001b[0m     \u001b[0;32mdef\u001b[0m \u001b[0m__call__\u001b[0m\u001b[0;34m(\u001b[0m\u001b[0mself\u001b[0m\u001b[0;34m,\u001b[0m \u001b[0;34m*\u001b[0m\u001b[0margs\u001b[0m\u001b[0;34m,\u001b[0m \u001b[0;34m**\u001b[0m\u001b[0mkwargs\u001b[0m\u001b[0;34m)\u001b[0m\u001b[0;34m:\u001b[0m\u001b[0;34m\u001b[0m\u001b[0m\n\u001b[1;32m    282\u001b[0m         \u001b[0;32mtry\u001b[0m\u001b[0;34m:\u001b[0m\u001b[0;34m\u001b[0m\u001b[0m\n\u001b[0;32m--> 283\u001b[0;31m             \u001b[0;32mreturn\u001b[0m \u001b[0mself\u001b[0m\u001b[0;34m.\u001b[0m\u001b[0m_partial\u001b[0m\u001b[0;34m(\u001b[0m\u001b[0;34m*\u001b[0m\u001b[0margs\u001b[0m\u001b[0;34m,\u001b[0m \u001b[0;34m**\u001b[0m\u001b[0mkwargs\u001b[0m\u001b[0;34m)\u001b[0m\u001b[0;34m\u001b[0m\u001b[0m\n\u001b[0m\u001b[1;32m    284\u001b[0m         \u001b[0;32mexcept\u001b[0m \u001b[0mTypeError\u001b[0m \u001b[0;32mas\u001b[0m \u001b[0mexc\u001b[0m\u001b[0;34m:\u001b[0m\u001b[0;34m\u001b[0m\u001b[0m\n\u001b[1;32m    285\u001b[0m             \u001b[0;32mif\u001b[0m \u001b[0mself\u001b[0m\u001b[0;34m.\u001b[0m\u001b[0m_should_curry\u001b[0m\u001b[0;34m(\u001b[0m\u001b[0margs\u001b[0m\u001b[0;34m,\u001b[0m \u001b[0mkwargs\u001b[0m\u001b[0;34m,\u001b[0m \u001b[0mexc\u001b[0m\u001b[0;34m)\u001b[0m\u001b[0;34m:\u001b[0m\u001b[0;34m\u001b[0m\u001b[0m\n",
      "\u001b[0;32m~/anaconda3/lib/python3.6/site-packages/altair/vegalite/data.py\u001b[0m in \u001b[0;36mdefault_data_transformer\u001b[0;34m(data)\u001b[0m\n\u001b[1;32m      9\u001b[0m \u001b[0;34m@\u001b[0m\u001b[0mcurry\u001b[0m\u001b[0;34m\u001b[0m\u001b[0m\n\u001b[1;32m     10\u001b[0m \u001b[0;32mdef\u001b[0m \u001b[0mdefault_data_transformer\u001b[0m\u001b[0;34m(\u001b[0m\u001b[0mdata\u001b[0m\u001b[0;34m)\u001b[0m\u001b[0;34m:\u001b[0m\u001b[0;34m\u001b[0m\u001b[0m\n\u001b[0;32m---> 11\u001b[0;31m     \u001b[0;32mreturn\u001b[0m \u001b[0mpipe\u001b[0m\u001b[0;34m(\u001b[0m\u001b[0mdata\u001b[0m\u001b[0;34m,\u001b[0m \u001b[0mlimit_rows\u001b[0m\u001b[0;34m,\u001b[0m \u001b[0mto_values\u001b[0m\u001b[0;34m)\u001b[0m\u001b[0;34m\u001b[0m\u001b[0m\n\u001b[0m\u001b[1;32m     12\u001b[0m \u001b[0;34m\u001b[0m\u001b[0m\n\u001b[1;32m     13\u001b[0m \u001b[0;34m\u001b[0m\u001b[0m\n",
      "\u001b[0;32m~/anaconda3/lib/python3.6/site-packages/toolz/functoolz.py\u001b[0m in \u001b[0;36mpipe\u001b[0;34m(data, *funcs)\u001b[0m\n\u001b[1;32m    550\u001b[0m     \"\"\"\n\u001b[1;32m    551\u001b[0m     \u001b[0;32mfor\u001b[0m \u001b[0mfunc\u001b[0m \u001b[0;32min\u001b[0m \u001b[0mfuncs\u001b[0m\u001b[0;34m:\u001b[0m\u001b[0;34m\u001b[0m\u001b[0m\n\u001b[0;32m--> 552\u001b[0;31m         \u001b[0mdata\u001b[0m \u001b[0;34m=\u001b[0m \u001b[0mfunc\u001b[0m\u001b[0;34m(\u001b[0m\u001b[0mdata\u001b[0m\u001b[0;34m)\u001b[0m\u001b[0;34m\u001b[0m\u001b[0m\n\u001b[0m\u001b[1;32m    553\u001b[0m     \u001b[0;32mreturn\u001b[0m \u001b[0mdata\u001b[0m\u001b[0;34m\u001b[0m\u001b[0m\n\u001b[1;32m    554\u001b[0m \u001b[0;34m\u001b[0m\u001b[0m\n",
      "\u001b[0;32m~/anaconda3/lib/python3.6/site-packages/toolz/functoolz.py\u001b[0m in \u001b[0;36m__call__\u001b[0;34m(self, *args, **kwargs)\u001b[0m\n\u001b[1;32m    281\u001b[0m     \u001b[0;32mdef\u001b[0m \u001b[0m__call__\u001b[0m\u001b[0;34m(\u001b[0m\u001b[0mself\u001b[0m\u001b[0;34m,\u001b[0m \u001b[0;34m*\u001b[0m\u001b[0margs\u001b[0m\u001b[0;34m,\u001b[0m \u001b[0;34m**\u001b[0m\u001b[0mkwargs\u001b[0m\u001b[0;34m)\u001b[0m\u001b[0;34m:\u001b[0m\u001b[0;34m\u001b[0m\u001b[0m\n\u001b[1;32m    282\u001b[0m         \u001b[0;32mtry\u001b[0m\u001b[0;34m:\u001b[0m\u001b[0;34m\u001b[0m\u001b[0m\n\u001b[0;32m--> 283\u001b[0;31m             \u001b[0;32mreturn\u001b[0m \u001b[0mself\u001b[0m\u001b[0;34m.\u001b[0m\u001b[0m_partial\u001b[0m\u001b[0;34m(\u001b[0m\u001b[0;34m*\u001b[0m\u001b[0margs\u001b[0m\u001b[0;34m,\u001b[0m \u001b[0;34m**\u001b[0m\u001b[0mkwargs\u001b[0m\u001b[0;34m)\u001b[0m\u001b[0;34m\u001b[0m\u001b[0m\n\u001b[0m\u001b[1;32m    284\u001b[0m         \u001b[0;32mexcept\u001b[0m \u001b[0mTypeError\u001b[0m \u001b[0;32mas\u001b[0m \u001b[0mexc\u001b[0m\u001b[0;34m:\u001b[0m\u001b[0;34m\u001b[0m\u001b[0m\n\u001b[1;32m    285\u001b[0m             \u001b[0;32mif\u001b[0m \u001b[0mself\u001b[0m\u001b[0;34m.\u001b[0m\u001b[0m_should_curry\u001b[0m\u001b[0;34m(\u001b[0m\u001b[0margs\u001b[0m\u001b[0;34m,\u001b[0m \u001b[0mkwargs\u001b[0m\u001b[0;34m,\u001b[0m \u001b[0mexc\u001b[0m\u001b[0;34m)\u001b[0m\u001b[0;34m:\u001b[0m\u001b[0;34m\u001b[0m\u001b[0m\n",
      "\u001b[0;32m~/anaconda3/lib/python3.6/site-packages/altair/utils/data.py\u001b[0m in \u001b[0;36mlimit_rows\u001b[0;34m(data, max_rows)\u001b[0m\n\u001b[1;32m     45\u001b[0m             \u001b[0;32mreturn\u001b[0m \u001b[0mdata\u001b[0m\u001b[0;34m\u001b[0m\u001b[0m\n\u001b[1;32m     46\u001b[0m     \u001b[0;32mif\u001b[0m \u001b[0mlen\u001b[0m\u001b[0;34m(\u001b[0m\u001b[0mvalues\u001b[0m\u001b[0;34m)\u001b[0m \u001b[0;34m>\u001b[0m \u001b[0mmax_rows\u001b[0m\u001b[0;34m:\u001b[0m\u001b[0;34m\u001b[0m\u001b[0m\n\u001b[0;32m---> 47\u001b[0;31m         \u001b[0;32mraise\u001b[0m \u001b[0mMaxRowsError\u001b[0m\u001b[0;34m(\u001b[0m\u001b[0;34m'The number of rows in your dataset is greater than the max of {}'\u001b[0m\u001b[0;34m.\u001b[0m\u001b[0mformat\u001b[0m\u001b[0;34m(\u001b[0m\u001b[0mmax_rows\u001b[0m\u001b[0;34m)\u001b[0m\u001b[0;34m)\u001b[0m\u001b[0;34m\u001b[0m\u001b[0m\n\u001b[0m\u001b[1;32m     48\u001b[0m     \u001b[0;32mreturn\u001b[0m \u001b[0mdata\u001b[0m\u001b[0;34m\u001b[0m\u001b[0m\n\u001b[1;32m     49\u001b[0m \u001b[0;34m\u001b[0m\u001b[0m\n",
      "\u001b[0;31mMaxRowsError\u001b[0m: The number of rows in your dataset is greater than the max of 5000"
     ]
    },
    {
     "data": {
      "text/plain": [
       "Chart({\n",
       "  data:             Ensembl ID                                        Uniprot IDs  \\\n",
       "  0      ENSG00000000003       A0A087WYV6_HUMAN A0A087WZU5_HUMAN TSN6_HUMAN   \n",
       "  1      ENSG00000000005                                         TNMD_HUMAN   \n",
       "  2      ENSG00000000419  H0Y368_HUMAN DPM1_HUMAN Q5QPJ9_HUMAN Q5QPK2_HUMAN   \n",
       "  3      ENSG00000000457                           PACE1_HUMAN X6RHX1_HUMAN   \n",
       "  4      ENSG00000000938                             FGR_HUMAN Q5TGY6_HUMAN   \n",
       "  5      ENSG00000000971           A0A0D9SG88_HUMAN CFAH_HUMAN Q5TFM2_HUMAN   \n",
       "  6      ENSG00000001036                           Q7Z6V2_HUMAN FUCO2_HUMAN   \n",
       "  7      ENSG00000001084  A0A0C4DGB2_HUMAN D6R959_HUMAN D6REX4_HUMAN D6R...   \n",
       "  8      ENSG00000001167                                         NFYA_HUMAN   \n",
       "  9      ENSG00000001461              A6NN97_HUMAN H0Y4I9_HUMAN NPAL3_HUMAN   \n",
       "  10     ENSG00000001497                           LAS1L_HUMAN R4GNF7_HUMAN   \n",
       "  11     ENSG00000001617  C9IYS6_HUMAN C9J1V2_HUMAN C9J4H5_HUMAN C9JPG5_...   \n",
       "  12     ENSG00000001626  C9J6L5_HUMAN E7EPB6_HUMAN H0Y8A9_HUMAN M0QYZ3_...   \n",
       "  13     ENSG00000001629  C9JZ63_HUMAN H7C0S0_HUMAN H7C2L9_HUMAN H7C2V2_...   \n",
       "  14     ENSG00000001630  A0A0C4DFL7_HUMAN C9IYR8_HUMAN H7C0D0_HUMAN CP5...   \n",
       "  15     ENSG00000001631  A0A0C4DG23_HUMAN C9J3W7_HUMAN C9J718_HUMAN C9J...   \n",
       "  16     ENSG00000002016  E9PF95_HUMAN F5GX32_HUMAN F5GX95_HUMAN F5H1K5_...   \n",
       "  17     ENSG00000002330  A8MXU7_HUMAN F5GYS3_HUMAN F5H1R6_HUMAN F5H3B1_...   \n",
       "  18     ENSG00000002549               H0Y983_HUMAN H0Y9Q1_HUMAN AMPL_HUMAN   \n",
       "  19     ENSG00000002586  A0A096LP69_HUMAN A6NGF6_HUMAN A6NJT9_HUMAN A8M...   \n",
       "  20     ENSG00000002587                           E9PDE3_HUMAN HS3S1_HUMAN   \n",
       "  21     ENSG00000002726               C9J0G8_HUMAN C9J2J4_HUMAN AOC1_HUMAN   \n",
       "  22     ENSG00000002745                           E9PH60_HUMAN WNT16_HUMAN   \n",
       "  23     ENSG00000002746                           H7C3Q2_HUMAN HECW1_HUMAN   \n",
       "  24     ENSG00000002822  C9J9H5_HUMAN C9JIR0_HUMAN C9JJ38_HUMAN C9JKI7_...   \n",
       "  25     ENSG00000002834  C9J9W2_HUMAN F6S2S5_HUMAN J3KSN1_HUMAN K7ESD6_...   \n",
       "  26     ENSG00000002919  B4DJI7_HUMAN J3KTN6_HUMAN J3QKV3_HUMAN J3QLV8_...   \n",
       "  27     ENSG00000002933  C9JJ63_HUMAN C9JRT9_HUMAN H7C4P5_HUMAN T176A_H...   \n",
       "  28     ENSG00000003056  F5GX30_HUMAN F5GXE0_HUMAN F5GXU0_HUMAN F5H4U1_...   \n",
       "  29     ENSG00000003096  A0A0C4DG80_HUMAN A0A0C4DG99_HUMAN C9JTS9_HUMAN...   \n",
       "  ...                ...                                                ...   \n",
       "  14420  ENSG00000276409      A0A087X089_HUMAN A0A0B4J2G5_HUMAN CCL14_HUMAN   \n",
       "  14421  ENSG00000276410                                        H2B1B_HUMAN   \n",
       "  14422  ENSG00000276600      A0A096LP44_HUMAN A0A096LPF0_HUMAN RAB7B_HUMAN   \n",
       "  14423  ENSG00000276644  A0A087WY66_HUMAN A0A087WZA7_HUMAN A0A087WZP2_H...   \n",
       "  14424  ENSG00000277258  A0A087X0Y6_HUMAN A0A087X259_HUMAN J3KT13_HUMAN...   \n",
       "  14425  ENSG00000277363  A0A087WTE6_HUMAN A0A087WU33_HUMAN A0A087WVV7_H...   \n",
       "  14426  ENSG00000277443                                        MARCS_HUMAN   \n",
       "  14427  ENSG00000277462                                        ZN670_HUMAN   \n",
       "  14428  ENSG00000277481                                        PK1L3_HUMAN   \n",
       "  14429  ENSG00000277586        A0A087X0W2_HUMAN A0A0S2Z436_HUMAN NFL_HUMAN   \n",
       "  14430  ENSG00000277632                                         CCL3_HUMAN   \n",
       "  14431  ENSG00000277734                                   A0A087WWC6_HUMAN   \n",
       "  14432  ENSG00000277791  A0A087WUL2_HUMAN A0A087WXQ8_HUMAN A0A087WY10_H...   \n",
       "  14433  ENSG00000277893                                         S5A2_HUMAN   \n",
       "  14434  ENSG00000278023                            B4DZ74_HUMAN RDM1_HUMAN   \n",
       "  14435  ENSG00000278053  A0A087WTD6_HUMAN A0A087X069_HUMAN A0A087X121_H...   \n",
       "  14436  ENSG00000278057                                        TEX28_HUMAN   \n",
       "  14437  ENSG00000278129                                         ZNF8_HUMAN   \n",
       "  14438  ENSG00000278195                                         SSR3_HUMAN   \n",
       "  14439  ENSG00000278299                                        TBC3C_HUMAN   \n",
       "  14440  ENSG00000278311  A0A087X0E5_HUMAN A0A087X1D7_HUMAN A0A087X1N0_H...   \n",
       "  14441  ENSG00000278540  A0A087WVR6_HUMAN A0A087WWN5_HUMAN A0A087WYK6_H...   \n",
       "  14442  ENSG00000278570                           Q8IVZ9_HUMAN NR2E3_HUMAN   \n",
       "  14443  ENSG00000278619                        A0A087WZC1_HUMAN MRM1_HUMAN   \n",
       "  14444  ENSG00000278845                  A0A087WU62_HUMAN A0A087X2D5_HUMAN   \n",
       "  14445  ENSG00000279116                                        OR8D2_HUMAN   \n",
       "  14446  ENSG00000279486                                        O2AG1_HUMAN   \n",
       "  14447  ENSG00000280789                                        PAGR1_HUMAN   \n",
       "  14448  ENSG00000280969                                        RS4Y2_HUMAN   \n",
       "  14449  ENSG00000284194                  A0A1W2PP80_HUMAN A0A1W2PQK0_HUMAN   \n",
       "  \n",
       "         Log10 length     Symbol  Log10 degree  mitochondrion organization  \\\n",
       "  0          4.178517     TSPAN6      0.698970                           0   \n",
       "  1          4.110017       TNMD      0.000000                           0   \n",
       "  2          4.649695       DPM1      1.176091                           0   \n",
       "  3          4.374547      SCYL3      0.698970                           0   \n",
       "  4          5.283469        FGR      1.568202                           0   \n",
       "  5          4.227372        CFH      1.079181                           0   \n",
       "  6          4.980581      FUCA2      0.477121                           0   \n",
       "  7          4.431878       GCLC      0.301030                           0   \n",
       "  8          5.077840       NFYA      1.698970                           0   \n",
       "  9          4.777688     NIPAL3      0.000000                           0   \n",
       "  10         4.222898      LAS1L      2.037426                           0   \n",
       "  11         5.398266     SEMA3F      0.778151                           0   \n",
       "  12         4.531875       CFTR      2.206826                           0   \n",
       "  13         4.488579     ANKIB1      0.000000                           0   \n",
       "  14         5.190755    CYP51A1      1.462398                           0   \n",
       "  15              NaN      KRIT1      0.778151                           0   \n",
       "  16         4.673924      RAD52      1.255273                           0   \n",
       "  17         4.488283        BAD      1.732394                           0   \n",
       "  18         4.172457       LAP3      0.477121                           0   \n",
       "  19         4.563671       CD99      0.954243                           0   \n",
       "  20         4.700106     HS3ST1      0.778151                           0   \n",
       "  21         4.196950       AOC1      1.653213                           0   \n",
       "  22         4.566767      WNT16      0.000000                           0   \n",
       "  23         5.620606      HECW1      0.903090                           0   \n",
       "  24         5.656484     MAD1L1      1.623249                           0   \n",
       "  25         4.294863      LASP1      1.505150                           0   \n",
       "  26         4.715268      SNX11      0.301030                           0   \n",
       "  27         3.981954   TMEM176A      0.000000                           0   \n",
       "  28         3.673758       M6PR      0.698970                           0   \n",
       "  29         4.274181     KLHL13      1.113943                           0   \n",
       "  ...             ...        ...           ...                         ...   \n",
       "  14420      2.684845      CCL14      0.778151                           0   \n",
       "  14421      5.209290  HIST1H2BB      1.278754                           0   \n",
       "  14422      2.683947      RAB7B      1.041393                           0   \n",
       "  14423      4.242119      DACH1      1.278754                           0   \n",
       "  14424      2.639486      PCGF2      1.278754                           0   \n",
       "  14425      4.262878     SRCIN1      0.477121                           0   \n",
       "  14426      4.622960     MARCKS      1.322219                           0   \n",
       "  14427      3.786041     ZNF670      1.176091                           0   \n",
       "  14428      3.599665     PKD1L3      0.000000                           0   \n",
       "  14429      2.980912       NEFL      1.556303                           0   \n",
       "  14430      4.467282       CCL3      1.113943                           0   \n",
       "  14431      4.252052       TRAC      0.000000                           0   \n",
       "  14432      4.104794      PSMB3      1.819544                           0   \n",
       "  14433      2.865104     SRD5A2      1.301030                           0   \n",
       "  14434      2.674861       RDM1      0.000000                           0   \n",
       "  14435      4.390741      DDX52      0.602060                           0   \n",
       "  14436      4.527965      TEX28      0.000000                           0   \n",
       "  14437      3.905256       ZNF8      1.230449                           0   \n",
       "  14438      5.123290      SSTR3      1.079181                           0   \n",
       "  14439      3.900422    TBC1D3C      0.000000                           0   \n",
       "  14440      4.492201     GGNBP2      0.000000                           0   \n",
       "  14441      3.442793      ACACA      1.342423                           0   \n",
       "  14442      4.037904      NR2E3      1.431364                           0   \n",
       "  14443      3.380573       MRM1      0.000000                           0   \n",
       "  14444      4.165066     MRPL45      1.903090                           0   \n",
       "  14445      2.991669      OR8D2      0.301030                           0   \n",
       "  14446      3.077731     OR2AG1      0.000000                           0   \n",
       "  14447      4.703756      PAGR1      1.176091                           0   \n",
       "  14448      3.893873     RPS4Y2      1.903090                           0   \n",
       "  14449      2.775974       SCO2      0.301030                           0   \n",
       "  \n",
       "         cell adhesion  signal transduction  B cell log10 FPKM  \\\n",
       "  0                  0                    0          -1.045757   \n",
       "  1                  0                    0          -2.000000   \n",
       "  2                  0                    0           0.980458   \n",
       "  3                  0                    0           1.007748   \n",
       "  4                  0                    0           2.324015   \n",
       "  5                  0                    0          -2.000000   \n",
       "  6                  0                    0           0.414973   \n",
       "  7                  0                    0           0.866287   \n",
       "  8                  0                    0           1.222456   \n",
       "  9                  0                    0           1.230449   \n",
       "  10                 0                    0           1.223496   \n",
       "  11                 0                    0          -2.000000   \n",
       "  12                 0                    0          -2.000000   \n",
       "  13                 0                    0           1.071514   \n",
       "  14                 0                    0           0.654177   \n",
       "  15                 0                    0           1.264818   \n",
       "  16                 0                    0           1.296884   \n",
       "  17                 0                    0           1.447003   \n",
       "  18                 0                    0           1.118926   \n",
       "  19                 1                    0           1.638489   \n",
       "  20                 0                    0           1.102091   \n",
       "  21                 0                    1          -1.221849   \n",
       "  22                 0                    0           0.480007   \n",
       "  23                 0                    0          -2.000000   \n",
       "  24                 0                    0           1.792322   \n",
       "  25                 0                    0           1.568554   \n",
       "  26                 0                    0           1.262451   \n",
       "  27                 0                    0          -0.107905   \n",
       "  28                 0                    1           1.624282   \n",
       "  29                 0                    0          -1.397940   \n",
       "  ...              ...                  ...                ...   \n",
       "  14420              0                    0          -2.000000   \n",
       "  14421              0                    0          -2.000000   \n",
       "  14422              0                    0          -2.000000   \n",
       "  14423              0                    0          -2.000000   \n",
       "  14424              0                    0          -1.301030   \n",
       "  14425              0                    0          -0.086186   \n",
       "  14426              0                    0           1.083861   \n",
       "  14427              0                    0          -0.200659   \n",
       "  14428              0                    0          -1.301030   \n",
       "  14429              0                    0          -2.000000   \n",
       "  14430              0                    0           1.350054   \n",
       "  14431              0                    0           0.990339   \n",
       "  14432              0                    0           2.119652   \n",
       "  14433              0                    0          -2.000000   \n",
       "  14434              0                    0          -1.397940   \n",
       "  14435              0                    0           0.613842   \n",
       "  14436              0                    0          -2.000000   \n",
       "  14437              0                    0           0.389166   \n",
       "  14438              0                    0          -0.142668   \n",
       "  14439              0                    0          -2.000000   \n",
       "  14440              0                    0           1.883718   \n",
       "  14441              0                    0           0.534026   \n",
       "  14442              0                    1          -2.000000   \n",
       "  14443              0                    0           0.812913   \n",
       "  14444              0                    0           0.973128   \n",
       "  14445              0                    0          -2.000000   \n",
       "  14446              0                    0          -2.000000   \n",
       "  14447              0                    0           1.105169   \n",
       "  14448              0                    0          -2.000000   \n",
       "  14449              0                    0           1.417139   \n",
       "  \n",
       "         Neuron log10 FPKM  \n",
       "  0               1.294687  \n",
       "  1              -2.000000  \n",
       "  2               1.652246  \n",
       "  3               0.575188  \n",
       "  4              -2.000000  \n",
       "  5              -2.000000  \n",
       "  6               0.818226  \n",
       "  7               0.774517  \n",
       "  8               1.142389  \n",
       "  9               1.098644  \n",
       "  10              1.141450  \n",
       "  11              1.269279  \n",
       "  12             -1.698970  \n",
       "  13              1.263873  \n",
       "  14              2.256092  \n",
       "  15              1.151982  \n",
       "  16              0.822822  \n",
       "  17              1.635986  \n",
       "  18              1.269513  \n",
       "  19              1.158965  \n",
       "  20             -0.886057  \n",
       "  21             -2.000000  \n",
       "  22             -1.045757  \n",
       "  23              1.245019  \n",
       "  24              1.516535  \n",
       "  25              1.410946  \n",
       "  26              1.061829  \n",
       "  27             -0.481486  \n",
       "  28              1.570193  \n",
       "  29              1.232488  \n",
       "  ...                  ...  \n",
       "  14420          -2.000000  \n",
       "  14421           0.113943  \n",
       "  14422          -2.000000  \n",
       "  14423           1.168792  \n",
       "  14424           0.635484  \n",
       "  14425           0.480007  \n",
       "  14426           2.357401  \n",
       "  14427           0.781755  \n",
       "  14428          -2.000000  \n",
       "  14429           2.452201  \n",
       "  14430          -2.000000  \n",
       "  14431          -2.000000  \n",
       "  14432           2.013132  \n",
       "  14433          -2.000000  \n",
       "  14434          -0.481486  \n",
       "  14435           1.283753  \n",
       "  14436          -2.000000  \n",
       "  14437           0.992111  \n",
       "  14438          -1.000000  \n",
       "  14439          -1.154902  \n",
       "  14440           1.427486  \n",
       "  14441           1.391288  \n",
       "  14442          -1.397940  \n",
       "  14443          -0.107905  \n",
       "  14444           1.422261  \n",
       "  14445          -2.000000  \n",
       "  14446          -2.000000  \n",
       "  14447           1.529943  \n",
       "  14448          -2.000000  \n",
       "  14449           1.376942  \n",
       "  \n",
       "  [14448 rows x 10 columns],\n",
       "  encoding: EncodingWithFacet({\n",
       "    size: Size({\n",
       "      shorthand: 'count(*):Q'\n",
       "    }),\n",
       "    x: X({\n",
       "      bin: BinParams({\n",
       "        maxbins: 15\n",
       "      }),\n",
       "      shorthand: 'Log10 degree:Q'\n",
       "    }),\n",
       "    y: Y({\n",
       "      bin: BinParams({\n",
       "        maxbins: 40\n",
       "      }),\n",
       "      shorthand: 'B cell log10 FPKM:Q'\n",
       "    })\n",
       "  }),\n",
       "  mark: 'circle',\n",
       "  max_rows: 20000\n",
       "})"
      ]
     },
     "execution_count": 64,
     "metadata": {},
     "output_type": "execute_result"
    }
   ],
   "source": [
    "alt.Chart(df, max_rows=20000).mark_circle().encode(\n",
    "    x=alt.X(\"Log10 degree:Q\", bin=alt.Bin(maxbins=15)),\n",
    "    y=alt.Y(\"B cell log10 FPKM:Q\", bin=alt.Bin(maxbins=40)),\n",
    "    size=alt.Size(\"count(*):Q\")\n",
    ")"
   ]
  },
  {
   "cell_type": "markdown",
   "metadata": {
    "slideshow": {
     "slide_type": "slide"
    }
   },
   "source": [
    "## Цвет"
   ]
  },
  {
   "cell_type": "code",
   "execution_count": 65,
   "metadata": {
    "slideshow": {
     "slide_type": "fragment"
    }
   },
   "outputs": [
    {
     "ename": "MaxRowsError",
     "evalue": "The number of rows in your dataset is greater than the max of 5000",
     "output_type": "error",
     "traceback": [
      "\u001b[0;31m---------------------------------------------------------------------------\u001b[0m",
      "\u001b[0;31mMaxRowsError\u001b[0m                              Traceback (most recent call last)",
      "\u001b[0;32m~/anaconda3/lib/python3.6/site-packages/altair/vegalite/v2/api.py\u001b[0m in \u001b[0;36mto_dict\u001b[0;34m(self, *args, **kwargs)\u001b[0m\n\u001b[1;32m    310\u001b[0m         \u001b[0mcopy\u001b[0m \u001b[0;34m=\u001b[0m \u001b[0mself\u001b[0m\u001b[0;34m.\u001b[0m\u001b[0mcopy\u001b[0m\u001b[0;34m(\u001b[0m\u001b[0;34m)\u001b[0m\u001b[0;34m\u001b[0m\u001b[0m\n\u001b[1;32m    311\u001b[0m         \u001b[0moriginal_data\u001b[0m \u001b[0;34m=\u001b[0m \u001b[0mgetattr\u001b[0m\u001b[0;34m(\u001b[0m\u001b[0mcopy\u001b[0m\u001b[0;34m,\u001b[0m \u001b[0;34m'data'\u001b[0m\u001b[0;34m,\u001b[0m \u001b[0mUndefined\u001b[0m\u001b[0;34m)\u001b[0m\u001b[0;34m\u001b[0m\u001b[0m\n\u001b[0;32m--> 312\u001b[0;31m         \u001b[0mcopy\u001b[0m\u001b[0;34m.\u001b[0m\u001b[0mdata\u001b[0m \u001b[0;34m=\u001b[0m \u001b[0m_prepare_data\u001b[0m\u001b[0;34m(\u001b[0m\u001b[0moriginal_data\u001b[0m\u001b[0;34m)\u001b[0m\u001b[0;34m\u001b[0m\u001b[0m\n\u001b[0m\u001b[1;32m    313\u001b[0m \u001b[0;34m\u001b[0m\u001b[0m\n\u001b[1;32m    314\u001b[0m         \u001b[0;31m# We make use of two context markers:\u001b[0m\u001b[0;34m\u001b[0m\u001b[0;34m\u001b[0m\u001b[0m\n",
      "\u001b[0;32m~/anaconda3/lib/python3.6/site-packages/altair/vegalite/v2/api.py\u001b[0m in \u001b[0;36m_prepare_data\u001b[0;34m(data)\u001b[0m\n\u001b[1;32m     22\u001b[0m         \u001b[0;32mreturn\u001b[0m \u001b[0mdata\u001b[0m\u001b[0;34m\u001b[0m\u001b[0m\n\u001b[1;32m     23\u001b[0m     \u001b[0;32melif\u001b[0m \u001b[0misinstance\u001b[0m\u001b[0;34m(\u001b[0m\u001b[0mdata\u001b[0m\u001b[0;34m,\u001b[0m \u001b[0mpd\u001b[0m\u001b[0;34m.\u001b[0m\u001b[0mDataFrame\u001b[0m\u001b[0;34m)\u001b[0m\u001b[0;34m:\u001b[0m\u001b[0;34m\u001b[0m\u001b[0m\n\u001b[0;32m---> 24\u001b[0;31m         \u001b[0;32mreturn\u001b[0m \u001b[0mpipe\u001b[0m\u001b[0;34m(\u001b[0m\u001b[0mdata\u001b[0m\u001b[0;34m,\u001b[0m \u001b[0mdata_transformers\u001b[0m\u001b[0;34m.\u001b[0m\u001b[0mget\u001b[0m\u001b[0;34m(\u001b[0m\u001b[0;34m)\u001b[0m\u001b[0;34m)\u001b[0m\u001b[0;34m\u001b[0m\u001b[0m\n\u001b[0m\u001b[1;32m     25\u001b[0m     \u001b[0;32melif\u001b[0m \u001b[0misinstance\u001b[0m\u001b[0;34m(\u001b[0m\u001b[0mdata\u001b[0m\u001b[0;34m,\u001b[0m \u001b[0msix\u001b[0m\u001b[0;34m.\u001b[0m\u001b[0mstring_types\u001b[0m\u001b[0;34m)\u001b[0m\u001b[0;34m:\u001b[0m\u001b[0;34m\u001b[0m\u001b[0m\n\u001b[1;32m     26\u001b[0m         \u001b[0;32mreturn\u001b[0m \u001b[0mcore\u001b[0m\u001b[0;34m.\u001b[0m\u001b[0mUrlData\u001b[0m\u001b[0;34m(\u001b[0m\u001b[0mdata\u001b[0m\u001b[0;34m)\u001b[0m\u001b[0;34m\u001b[0m\u001b[0m\n",
      "\u001b[0;32m~/anaconda3/lib/python3.6/site-packages/toolz/functoolz.py\u001b[0m in \u001b[0;36mpipe\u001b[0;34m(data, *funcs)\u001b[0m\n\u001b[1;32m    550\u001b[0m     \"\"\"\n\u001b[1;32m    551\u001b[0m     \u001b[0;32mfor\u001b[0m \u001b[0mfunc\u001b[0m \u001b[0;32min\u001b[0m \u001b[0mfuncs\u001b[0m\u001b[0;34m:\u001b[0m\u001b[0;34m\u001b[0m\u001b[0m\n\u001b[0;32m--> 552\u001b[0;31m         \u001b[0mdata\u001b[0m \u001b[0;34m=\u001b[0m \u001b[0mfunc\u001b[0m\u001b[0;34m(\u001b[0m\u001b[0mdata\u001b[0m\u001b[0;34m)\u001b[0m\u001b[0;34m\u001b[0m\u001b[0m\n\u001b[0m\u001b[1;32m    553\u001b[0m     \u001b[0;32mreturn\u001b[0m \u001b[0mdata\u001b[0m\u001b[0;34m\u001b[0m\u001b[0m\n\u001b[1;32m    554\u001b[0m \u001b[0;34m\u001b[0m\u001b[0m\n",
      "\u001b[0;32m~/anaconda3/lib/python3.6/site-packages/toolz/functoolz.py\u001b[0m in \u001b[0;36m__call__\u001b[0;34m(self, *args, **kwargs)\u001b[0m\n\u001b[1;32m    281\u001b[0m     \u001b[0;32mdef\u001b[0m \u001b[0m__call__\u001b[0m\u001b[0;34m(\u001b[0m\u001b[0mself\u001b[0m\u001b[0;34m,\u001b[0m \u001b[0;34m*\u001b[0m\u001b[0margs\u001b[0m\u001b[0;34m,\u001b[0m \u001b[0;34m**\u001b[0m\u001b[0mkwargs\u001b[0m\u001b[0;34m)\u001b[0m\u001b[0;34m:\u001b[0m\u001b[0;34m\u001b[0m\u001b[0m\n\u001b[1;32m    282\u001b[0m         \u001b[0;32mtry\u001b[0m\u001b[0;34m:\u001b[0m\u001b[0;34m\u001b[0m\u001b[0m\n\u001b[0;32m--> 283\u001b[0;31m             \u001b[0;32mreturn\u001b[0m \u001b[0mself\u001b[0m\u001b[0;34m.\u001b[0m\u001b[0m_partial\u001b[0m\u001b[0;34m(\u001b[0m\u001b[0;34m*\u001b[0m\u001b[0margs\u001b[0m\u001b[0;34m,\u001b[0m \u001b[0;34m**\u001b[0m\u001b[0mkwargs\u001b[0m\u001b[0;34m)\u001b[0m\u001b[0;34m\u001b[0m\u001b[0m\n\u001b[0m\u001b[1;32m    284\u001b[0m         \u001b[0;32mexcept\u001b[0m \u001b[0mTypeError\u001b[0m \u001b[0;32mas\u001b[0m \u001b[0mexc\u001b[0m\u001b[0;34m:\u001b[0m\u001b[0;34m\u001b[0m\u001b[0m\n\u001b[1;32m    285\u001b[0m             \u001b[0;32mif\u001b[0m \u001b[0mself\u001b[0m\u001b[0;34m.\u001b[0m\u001b[0m_should_curry\u001b[0m\u001b[0;34m(\u001b[0m\u001b[0margs\u001b[0m\u001b[0;34m,\u001b[0m \u001b[0mkwargs\u001b[0m\u001b[0;34m,\u001b[0m \u001b[0mexc\u001b[0m\u001b[0;34m)\u001b[0m\u001b[0;34m:\u001b[0m\u001b[0;34m\u001b[0m\u001b[0m\n",
      "\u001b[0;32m~/anaconda3/lib/python3.6/site-packages/altair/vegalite/data.py\u001b[0m in \u001b[0;36mdefault_data_transformer\u001b[0;34m(data)\u001b[0m\n\u001b[1;32m      9\u001b[0m \u001b[0;34m@\u001b[0m\u001b[0mcurry\u001b[0m\u001b[0;34m\u001b[0m\u001b[0m\n\u001b[1;32m     10\u001b[0m \u001b[0;32mdef\u001b[0m \u001b[0mdefault_data_transformer\u001b[0m\u001b[0;34m(\u001b[0m\u001b[0mdata\u001b[0m\u001b[0;34m)\u001b[0m\u001b[0;34m:\u001b[0m\u001b[0;34m\u001b[0m\u001b[0m\n\u001b[0;32m---> 11\u001b[0;31m     \u001b[0;32mreturn\u001b[0m \u001b[0mpipe\u001b[0m\u001b[0;34m(\u001b[0m\u001b[0mdata\u001b[0m\u001b[0;34m,\u001b[0m \u001b[0mlimit_rows\u001b[0m\u001b[0;34m,\u001b[0m \u001b[0mto_values\u001b[0m\u001b[0;34m)\u001b[0m\u001b[0;34m\u001b[0m\u001b[0m\n\u001b[0m\u001b[1;32m     12\u001b[0m \u001b[0;34m\u001b[0m\u001b[0m\n\u001b[1;32m     13\u001b[0m \u001b[0;34m\u001b[0m\u001b[0m\n",
      "\u001b[0;32m~/anaconda3/lib/python3.6/site-packages/toolz/functoolz.py\u001b[0m in \u001b[0;36mpipe\u001b[0;34m(data, *funcs)\u001b[0m\n\u001b[1;32m    550\u001b[0m     \"\"\"\n\u001b[1;32m    551\u001b[0m     \u001b[0;32mfor\u001b[0m \u001b[0mfunc\u001b[0m \u001b[0;32min\u001b[0m \u001b[0mfuncs\u001b[0m\u001b[0;34m:\u001b[0m\u001b[0;34m\u001b[0m\u001b[0m\n\u001b[0;32m--> 552\u001b[0;31m         \u001b[0mdata\u001b[0m \u001b[0;34m=\u001b[0m \u001b[0mfunc\u001b[0m\u001b[0;34m(\u001b[0m\u001b[0mdata\u001b[0m\u001b[0;34m)\u001b[0m\u001b[0;34m\u001b[0m\u001b[0m\n\u001b[0m\u001b[1;32m    553\u001b[0m     \u001b[0;32mreturn\u001b[0m \u001b[0mdata\u001b[0m\u001b[0;34m\u001b[0m\u001b[0m\n\u001b[1;32m    554\u001b[0m \u001b[0;34m\u001b[0m\u001b[0m\n",
      "\u001b[0;32m~/anaconda3/lib/python3.6/site-packages/toolz/functoolz.py\u001b[0m in \u001b[0;36m__call__\u001b[0;34m(self, *args, **kwargs)\u001b[0m\n\u001b[1;32m    281\u001b[0m     \u001b[0;32mdef\u001b[0m \u001b[0m__call__\u001b[0m\u001b[0;34m(\u001b[0m\u001b[0mself\u001b[0m\u001b[0;34m,\u001b[0m \u001b[0;34m*\u001b[0m\u001b[0margs\u001b[0m\u001b[0;34m,\u001b[0m \u001b[0;34m**\u001b[0m\u001b[0mkwargs\u001b[0m\u001b[0;34m)\u001b[0m\u001b[0;34m:\u001b[0m\u001b[0;34m\u001b[0m\u001b[0m\n\u001b[1;32m    282\u001b[0m         \u001b[0;32mtry\u001b[0m\u001b[0;34m:\u001b[0m\u001b[0;34m\u001b[0m\u001b[0m\n\u001b[0;32m--> 283\u001b[0;31m             \u001b[0;32mreturn\u001b[0m \u001b[0mself\u001b[0m\u001b[0;34m.\u001b[0m\u001b[0m_partial\u001b[0m\u001b[0;34m(\u001b[0m\u001b[0;34m*\u001b[0m\u001b[0margs\u001b[0m\u001b[0;34m,\u001b[0m \u001b[0;34m**\u001b[0m\u001b[0mkwargs\u001b[0m\u001b[0;34m)\u001b[0m\u001b[0;34m\u001b[0m\u001b[0m\n\u001b[0m\u001b[1;32m    284\u001b[0m         \u001b[0;32mexcept\u001b[0m \u001b[0mTypeError\u001b[0m \u001b[0;32mas\u001b[0m \u001b[0mexc\u001b[0m\u001b[0;34m:\u001b[0m\u001b[0;34m\u001b[0m\u001b[0m\n\u001b[1;32m    285\u001b[0m             \u001b[0;32mif\u001b[0m \u001b[0mself\u001b[0m\u001b[0;34m.\u001b[0m\u001b[0m_should_curry\u001b[0m\u001b[0;34m(\u001b[0m\u001b[0margs\u001b[0m\u001b[0;34m,\u001b[0m \u001b[0mkwargs\u001b[0m\u001b[0;34m,\u001b[0m \u001b[0mexc\u001b[0m\u001b[0;34m)\u001b[0m\u001b[0;34m:\u001b[0m\u001b[0;34m\u001b[0m\u001b[0m\n",
      "\u001b[0;32m~/anaconda3/lib/python3.6/site-packages/altair/utils/data.py\u001b[0m in \u001b[0;36mlimit_rows\u001b[0;34m(data, max_rows)\u001b[0m\n\u001b[1;32m     45\u001b[0m             \u001b[0;32mreturn\u001b[0m \u001b[0mdata\u001b[0m\u001b[0;34m\u001b[0m\u001b[0m\n\u001b[1;32m     46\u001b[0m     \u001b[0;32mif\u001b[0m \u001b[0mlen\u001b[0m\u001b[0;34m(\u001b[0m\u001b[0mvalues\u001b[0m\u001b[0;34m)\u001b[0m \u001b[0;34m>\u001b[0m \u001b[0mmax_rows\u001b[0m\u001b[0;34m:\u001b[0m\u001b[0;34m\u001b[0m\u001b[0m\n\u001b[0;32m---> 47\u001b[0;31m         \u001b[0;32mraise\u001b[0m \u001b[0mMaxRowsError\u001b[0m\u001b[0;34m(\u001b[0m\u001b[0;34m'The number of rows in your dataset is greater than the max of {}'\u001b[0m\u001b[0;34m.\u001b[0m\u001b[0mformat\u001b[0m\u001b[0;34m(\u001b[0m\u001b[0mmax_rows\u001b[0m\u001b[0;34m)\u001b[0m\u001b[0;34m)\u001b[0m\u001b[0;34m\u001b[0m\u001b[0m\n\u001b[0m\u001b[1;32m     48\u001b[0m     \u001b[0;32mreturn\u001b[0m \u001b[0mdata\u001b[0m\u001b[0;34m\u001b[0m\u001b[0m\n\u001b[1;32m     49\u001b[0m \u001b[0;34m\u001b[0m\u001b[0m\n",
      "\u001b[0;31mMaxRowsError\u001b[0m: The number of rows in your dataset is greater than the max of 5000"
     ]
    },
    {
     "data": {
      "text/plain": [
       "Chart({\n",
       "  data:             Ensembl ID                                        Uniprot IDs  \\\n",
       "  0      ENSG00000000003       A0A087WYV6_HUMAN A0A087WZU5_HUMAN TSN6_HUMAN   \n",
       "  1      ENSG00000000005                                         TNMD_HUMAN   \n",
       "  2      ENSG00000000419  H0Y368_HUMAN DPM1_HUMAN Q5QPJ9_HUMAN Q5QPK2_HUMAN   \n",
       "  3      ENSG00000000457                           PACE1_HUMAN X6RHX1_HUMAN   \n",
       "  4      ENSG00000000938                             FGR_HUMAN Q5TGY6_HUMAN   \n",
       "  5      ENSG00000000971           A0A0D9SG88_HUMAN CFAH_HUMAN Q5TFM2_HUMAN   \n",
       "  6      ENSG00000001036                           Q7Z6V2_HUMAN FUCO2_HUMAN   \n",
       "  7      ENSG00000001084  A0A0C4DGB2_HUMAN D6R959_HUMAN D6REX4_HUMAN D6R...   \n",
       "  8      ENSG00000001167                                         NFYA_HUMAN   \n",
       "  9      ENSG00000001461              A6NN97_HUMAN H0Y4I9_HUMAN NPAL3_HUMAN   \n",
       "  10     ENSG00000001497                           LAS1L_HUMAN R4GNF7_HUMAN   \n",
       "  11     ENSG00000001617  C9IYS6_HUMAN C9J1V2_HUMAN C9J4H5_HUMAN C9JPG5_...   \n",
       "  12     ENSG00000001626  C9J6L5_HUMAN E7EPB6_HUMAN H0Y8A9_HUMAN M0QYZ3_...   \n",
       "  13     ENSG00000001629  C9JZ63_HUMAN H7C0S0_HUMAN H7C2L9_HUMAN H7C2V2_...   \n",
       "  14     ENSG00000001630  A0A0C4DFL7_HUMAN C9IYR8_HUMAN H7C0D0_HUMAN CP5...   \n",
       "  15     ENSG00000001631  A0A0C4DG23_HUMAN C9J3W7_HUMAN C9J718_HUMAN C9J...   \n",
       "  16     ENSG00000002016  E9PF95_HUMAN F5GX32_HUMAN F5GX95_HUMAN F5H1K5_...   \n",
       "  17     ENSG00000002330  A8MXU7_HUMAN F5GYS3_HUMAN F5H1R6_HUMAN F5H3B1_...   \n",
       "  18     ENSG00000002549               H0Y983_HUMAN H0Y9Q1_HUMAN AMPL_HUMAN   \n",
       "  19     ENSG00000002586  A0A096LP69_HUMAN A6NGF6_HUMAN A6NJT9_HUMAN A8M...   \n",
       "  20     ENSG00000002587                           E9PDE3_HUMAN HS3S1_HUMAN   \n",
       "  21     ENSG00000002726               C9J0G8_HUMAN C9J2J4_HUMAN AOC1_HUMAN   \n",
       "  22     ENSG00000002745                           E9PH60_HUMAN WNT16_HUMAN   \n",
       "  23     ENSG00000002746                           H7C3Q2_HUMAN HECW1_HUMAN   \n",
       "  24     ENSG00000002822  C9J9H5_HUMAN C9JIR0_HUMAN C9JJ38_HUMAN C9JKI7_...   \n",
       "  25     ENSG00000002834  C9J9W2_HUMAN F6S2S5_HUMAN J3KSN1_HUMAN K7ESD6_...   \n",
       "  26     ENSG00000002919  B4DJI7_HUMAN J3KTN6_HUMAN J3QKV3_HUMAN J3QLV8_...   \n",
       "  27     ENSG00000002933  C9JJ63_HUMAN C9JRT9_HUMAN H7C4P5_HUMAN T176A_H...   \n",
       "  28     ENSG00000003056  F5GX30_HUMAN F5GXE0_HUMAN F5GXU0_HUMAN F5H4U1_...   \n",
       "  29     ENSG00000003096  A0A0C4DG80_HUMAN A0A0C4DG99_HUMAN C9JTS9_HUMAN...   \n",
       "  ...                ...                                                ...   \n",
       "  14420  ENSG00000276409      A0A087X089_HUMAN A0A0B4J2G5_HUMAN CCL14_HUMAN   \n",
       "  14421  ENSG00000276410                                        H2B1B_HUMAN   \n",
       "  14422  ENSG00000276600      A0A096LP44_HUMAN A0A096LPF0_HUMAN RAB7B_HUMAN   \n",
       "  14423  ENSG00000276644  A0A087WY66_HUMAN A0A087WZA7_HUMAN A0A087WZP2_H...   \n",
       "  14424  ENSG00000277258  A0A087X0Y6_HUMAN A0A087X259_HUMAN J3KT13_HUMAN...   \n",
       "  14425  ENSG00000277363  A0A087WTE6_HUMAN A0A087WU33_HUMAN A0A087WVV7_H...   \n",
       "  14426  ENSG00000277443                                        MARCS_HUMAN   \n",
       "  14427  ENSG00000277462                                        ZN670_HUMAN   \n",
       "  14428  ENSG00000277481                                        PK1L3_HUMAN   \n",
       "  14429  ENSG00000277586        A0A087X0W2_HUMAN A0A0S2Z436_HUMAN NFL_HUMAN   \n",
       "  14430  ENSG00000277632                                         CCL3_HUMAN   \n",
       "  14431  ENSG00000277734                                   A0A087WWC6_HUMAN   \n",
       "  14432  ENSG00000277791  A0A087WUL2_HUMAN A0A087WXQ8_HUMAN A0A087WY10_H...   \n",
       "  14433  ENSG00000277893                                         S5A2_HUMAN   \n",
       "  14434  ENSG00000278023                            B4DZ74_HUMAN RDM1_HUMAN   \n",
       "  14435  ENSG00000278053  A0A087WTD6_HUMAN A0A087X069_HUMAN A0A087X121_H...   \n",
       "  14436  ENSG00000278057                                        TEX28_HUMAN   \n",
       "  14437  ENSG00000278129                                         ZNF8_HUMAN   \n",
       "  14438  ENSG00000278195                                         SSR3_HUMAN   \n",
       "  14439  ENSG00000278299                                        TBC3C_HUMAN   \n",
       "  14440  ENSG00000278311  A0A087X0E5_HUMAN A0A087X1D7_HUMAN A0A087X1N0_H...   \n",
       "  14441  ENSG00000278540  A0A087WVR6_HUMAN A0A087WWN5_HUMAN A0A087WYK6_H...   \n",
       "  14442  ENSG00000278570                           Q8IVZ9_HUMAN NR2E3_HUMAN   \n",
       "  14443  ENSG00000278619                        A0A087WZC1_HUMAN MRM1_HUMAN   \n",
       "  14444  ENSG00000278845                  A0A087WU62_HUMAN A0A087X2D5_HUMAN   \n",
       "  14445  ENSG00000279116                                        OR8D2_HUMAN   \n",
       "  14446  ENSG00000279486                                        O2AG1_HUMAN   \n",
       "  14447  ENSG00000280789                                        PAGR1_HUMAN   \n",
       "  14448  ENSG00000280969                                        RS4Y2_HUMAN   \n",
       "  14449  ENSG00000284194                  A0A1W2PP80_HUMAN A0A1W2PQK0_HUMAN   \n",
       "  \n",
       "         Log10 length     Symbol  Log10 degree  mitochondrion organization  \\\n",
       "  0          4.178517     TSPAN6      0.698970                           0   \n",
       "  1          4.110017       TNMD      0.000000                           0   \n",
       "  2          4.649695       DPM1      1.176091                           0   \n",
       "  3          4.374547      SCYL3      0.698970                           0   \n",
       "  4          5.283469        FGR      1.568202                           0   \n",
       "  5          4.227372        CFH      1.079181                           0   \n",
       "  6          4.980581      FUCA2      0.477121                           0   \n",
       "  7          4.431878       GCLC      0.301030                           0   \n",
       "  8          5.077840       NFYA      1.698970                           0   \n",
       "  9          4.777688     NIPAL3      0.000000                           0   \n",
       "  10         4.222898      LAS1L      2.037426                           0   \n",
       "  11         5.398266     SEMA3F      0.778151                           0   \n",
       "  12         4.531875       CFTR      2.206826                           0   \n",
       "  13         4.488579     ANKIB1      0.000000                           0   \n",
       "  14         5.190755    CYP51A1      1.462398                           0   \n",
       "  15              NaN      KRIT1      0.778151                           0   \n",
       "  16         4.673924      RAD52      1.255273                           0   \n",
       "  17         4.488283        BAD      1.732394                           0   \n",
       "  18         4.172457       LAP3      0.477121                           0   \n",
       "  19         4.563671       CD99      0.954243                           0   \n",
       "  20         4.700106     HS3ST1      0.778151                           0   \n",
       "  21         4.196950       AOC1      1.653213                           0   \n",
       "  22         4.566767      WNT16      0.000000                           0   \n",
       "  23         5.620606      HECW1      0.903090                           0   \n",
       "  24         5.656484     MAD1L1      1.623249                           0   \n",
       "  25         4.294863      LASP1      1.505150                           0   \n",
       "  26         4.715268      SNX11      0.301030                           0   \n",
       "  27         3.981954   TMEM176A      0.000000                           0   \n",
       "  28         3.673758       M6PR      0.698970                           0   \n",
       "  29         4.274181     KLHL13      1.113943                           0   \n",
       "  ...             ...        ...           ...                         ...   \n",
       "  14420      2.684845      CCL14      0.778151                           0   \n",
       "  14421      5.209290  HIST1H2BB      1.278754                           0   \n",
       "  14422      2.683947      RAB7B      1.041393                           0   \n",
       "  14423      4.242119      DACH1      1.278754                           0   \n",
       "  14424      2.639486      PCGF2      1.278754                           0   \n",
       "  14425      4.262878     SRCIN1      0.477121                           0   \n",
       "  14426      4.622960     MARCKS      1.322219                           0   \n",
       "  14427      3.786041     ZNF670      1.176091                           0   \n",
       "  14428      3.599665     PKD1L3      0.000000                           0   \n",
       "  14429      2.980912       NEFL      1.556303                           0   \n",
       "  14430      4.467282       CCL3      1.113943                           0   \n",
       "  14431      4.252052       TRAC      0.000000                           0   \n",
       "  14432      4.104794      PSMB3      1.819544                           0   \n",
       "  14433      2.865104     SRD5A2      1.301030                           0   \n",
       "  14434      2.674861       RDM1      0.000000                           0   \n",
       "  14435      4.390741      DDX52      0.602060                           0   \n",
       "  14436      4.527965      TEX28      0.000000                           0   \n",
       "  14437      3.905256       ZNF8      1.230449                           0   \n",
       "  14438      5.123290      SSTR3      1.079181                           0   \n",
       "  14439      3.900422    TBC1D3C      0.000000                           0   \n",
       "  14440      4.492201     GGNBP2      0.000000                           0   \n",
       "  14441      3.442793      ACACA      1.342423                           0   \n",
       "  14442      4.037904      NR2E3      1.431364                           0   \n",
       "  14443      3.380573       MRM1      0.000000                           0   \n",
       "  14444      4.165066     MRPL45      1.903090                           0   \n",
       "  14445      2.991669      OR8D2      0.301030                           0   \n",
       "  14446      3.077731     OR2AG1      0.000000                           0   \n",
       "  14447      4.703756      PAGR1      1.176091                           0   \n",
       "  14448      3.893873     RPS4Y2      1.903090                           0   \n",
       "  14449      2.775974       SCO2      0.301030                           0   \n",
       "  \n",
       "         cell adhesion  signal transduction  B cell log10 FPKM  \\\n",
       "  0                  0                    0          -1.045757   \n",
       "  1                  0                    0          -2.000000   \n",
       "  2                  0                    0           0.980458   \n",
       "  3                  0                    0           1.007748   \n",
       "  4                  0                    0           2.324015   \n",
       "  5                  0                    0          -2.000000   \n",
       "  6                  0                    0           0.414973   \n",
       "  7                  0                    0           0.866287   \n",
       "  8                  0                    0           1.222456   \n",
       "  9                  0                    0           1.230449   \n",
       "  10                 0                    0           1.223496   \n",
       "  11                 0                    0          -2.000000   \n",
       "  12                 0                    0          -2.000000   \n",
       "  13                 0                    0           1.071514   \n",
       "  14                 0                    0           0.654177   \n",
       "  15                 0                    0           1.264818   \n",
       "  16                 0                    0           1.296884   \n",
       "  17                 0                    0           1.447003   \n",
       "  18                 0                    0           1.118926   \n",
       "  19                 1                    0           1.638489   \n",
       "  20                 0                    0           1.102091   \n",
       "  21                 0                    1          -1.221849   \n",
       "  22                 0                    0           0.480007   \n",
       "  23                 0                    0          -2.000000   \n",
       "  24                 0                    0           1.792322   \n",
       "  25                 0                    0           1.568554   \n",
       "  26                 0                    0           1.262451   \n",
       "  27                 0                    0          -0.107905   \n",
       "  28                 0                    1           1.624282   \n",
       "  29                 0                    0          -1.397940   \n",
       "  ...              ...                  ...                ...   \n",
       "  14420              0                    0          -2.000000   \n",
       "  14421              0                    0          -2.000000   \n",
       "  14422              0                    0          -2.000000   \n",
       "  14423              0                    0          -2.000000   \n",
       "  14424              0                    0          -1.301030   \n",
       "  14425              0                    0          -0.086186   \n",
       "  14426              0                    0           1.083861   \n",
       "  14427              0                    0          -0.200659   \n",
       "  14428              0                    0          -1.301030   \n",
       "  14429              0                    0          -2.000000   \n",
       "  14430              0                    0           1.350054   \n",
       "  14431              0                    0           0.990339   \n",
       "  14432              0                    0           2.119652   \n",
       "  14433              0                    0          -2.000000   \n",
       "  14434              0                    0          -1.397940   \n",
       "  14435              0                    0           0.613842   \n",
       "  14436              0                    0          -2.000000   \n",
       "  14437              0                    0           0.389166   \n",
       "  14438              0                    0          -0.142668   \n",
       "  14439              0                    0          -2.000000   \n",
       "  14440              0                    0           1.883718   \n",
       "  14441              0                    0           0.534026   \n",
       "  14442              0                    1          -2.000000   \n",
       "  14443              0                    0           0.812913   \n",
       "  14444              0                    0           0.973128   \n",
       "  14445              0                    0          -2.000000   \n",
       "  14446              0                    0          -2.000000   \n",
       "  14447              0                    0           1.105169   \n",
       "  14448              0                    0          -2.000000   \n",
       "  14449              0                    0           1.417139   \n",
       "  \n",
       "         Neuron log10 FPKM  \n",
       "  0               1.294687  \n",
       "  1              -2.000000  \n",
       "  2               1.652246  \n",
       "  3               0.575188  \n",
       "  4              -2.000000  \n",
       "  5              -2.000000  \n",
       "  6               0.818226  \n",
       "  7               0.774517  \n",
       "  8               1.142389  \n",
       "  9               1.098644  \n",
       "  10              1.141450  \n",
       "  11              1.269279  \n",
       "  12             -1.698970  \n",
       "  13              1.263873  \n",
       "  14              2.256092  \n",
       "  15              1.151982  \n",
       "  16              0.822822  \n",
       "  17              1.635986  \n",
       "  18              1.269513  \n",
       "  19              1.158965  \n",
       "  20             -0.886057  \n",
       "  21             -2.000000  \n",
       "  22             -1.045757  \n",
       "  23              1.245019  \n",
       "  24              1.516535  \n",
       "  25              1.410946  \n",
       "  26              1.061829  \n",
       "  27             -0.481486  \n",
       "  28              1.570193  \n",
       "  29              1.232488  \n",
       "  ...                  ...  \n",
       "  14420          -2.000000  \n",
       "  14421           0.113943  \n",
       "  14422          -2.000000  \n",
       "  14423           1.168792  \n",
       "  14424           0.635484  \n",
       "  14425           0.480007  \n",
       "  14426           2.357401  \n",
       "  14427           0.781755  \n",
       "  14428          -2.000000  \n",
       "  14429           2.452201  \n",
       "  14430          -2.000000  \n",
       "  14431          -2.000000  \n",
       "  14432           2.013132  \n",
       "  14433          -2.000000  \n",
       "  14434          -0.481486  \n",
       "  14435           1.283753  \n",
       "  14436          -2.000000  \n",
       "  14437           0.992111  \n",
       "  14438          -1.000000  \n",
       "  14439          -1.154902  \n",
       "  14440           1.427486  \n",
       "  14441           1.391288  \n",
       "  14442          -1.397940  \n",
       "  14443          -0.107905  \n",
       "  14444           1.422261  \n",
       "  14445          -2.000000  \n",
       "  14446          -2.000000  \n",
       "  14447           1.529943  \n",
       "  14448          -2.000000  \n",
       "  14449           1.376942  \n",
       "  \n",
       "  [14448 rows x 10 columns],\n",
       "  encoding: EncodingWithFacet({\n",
       "    color: Color({\n",
       "      shorthand: 'average(Neuron log10 FPKM):Q'\n",
       "    }),\n",
       "    size: Size({\n",
       "      shorthand: 'count(*):Q'\n",
       "    }),\n",
       "    x: X({\n",
       "      bin: BinParams({\n",
       "        maxbins: 15\n",
       "      }),\n",
       "      shorthand: 'Log10 degree:Q'\n",
       "    }),\n",
       "    y: Y({\n",
       "      bin: BinParams({\n",
       "        maxbins: 40\n",
       "      }),\n",
       "      shorthand: 'B cell log10 FPKM:Q'\n",
       "    })\n",
       "  }),\n",
       "  mark: 'circle',\n",
       "  max_rows: 20000\n",
       "})"
      ]
     },
     "execution_count": 65,
     "metadata": {},
     "output_type": "execute_result"
    }
   ],
   "source": [
    "alt.Chart(df, max_rows=20000).mark_circle().encode(\n",
    "    x=alt.X(\"Log10 degree:Q\", bin=alt.Bin(maxbins=15)),\n",
    "    y=alt.Y(\"B cell log10 FPKM:Q\", bin=alt.Bin(maxbins=40)),\n",
    "    size=alt.Size(\"count(*):Q\"),\n",
    "    color=alt.Color(\"average(Neuron log10 FPKM):Q\")\n",
    ")"
   ]
  },
  {
   "cell_type": "markdown",
   "metadata": {
    "slideshow": {
     "slide_type": "slide"
    }
   },
   "source": [
    "## Ключевые моменты по Altair"
   ]
  },
  {
   "cell_type": "markdown",
   "metadata": {
    "slideshow": {
     "slide_type": "fragment"
    }
   },
   "source": [
    "* Основан на графической грамматике vega-lite\n",
    "* Основной класс - Chart, на вход которому подаётся pd.DataFrame\n",
    "* Потом с помощью методов Chart можно по-разному визуализировать DataFrame\n",
    "* Задаёте, чем рисуете (mark.circle, mark_point, mark_bar, etc.)\n",
    "* Задаёте, что по осям\n",
    "* Можно задавать различные аггрегаторные функции от столбцов\n",
    "* Можно задать цвет и размер меток, как такую функцию"
   ]
  },
  {
   "cell_type": "markdown",
   "metadata": {
    "slideshow": {
     "slide_type": "slide"
    }
   },
   "source": [
    "# Ключевые моменты вообще"
   ]
  },
  {
   "cell_type": "markdown",
   "metadata": {
    "slideshow": {
     "slide_type": "fragment"
    }
   },
   "source": [
    "* Seaborn рисует красиво и всё делает за вас, но недостаточно гибкий\n",
    "* Если можете, используйте seaborn\n",
    "* Но будущее за библиотеками, основанными на графических грамматиках, как Altair\n",
    "* Кстати, он тоже всё делает за вас"
   ]
  },
  {
   "cell_type": "code",
   "execution_count": 66,
   "metadata": {},
   "outputs": [
    {
     "ename": "SyntaxError",
     "evalue": "invalid syntax (<ipython-input-66-d51099504b56>, line 1)",
     "output_type": "error",
     "traceback": [
      "\u001b[0;36m  File \u001b[0;32m\"<ipython-input-66-d51099504b56>\"\u001b[0;36m, line \u001b[0;32m1\u001b[0m\n\u001b[0;31m    1\t 3463.0\u001b[0m\n\u001b[0m     \t      ^\u001b[0m\n\u001b[0;31mSyntaxError\u001b[0m\u001b[0;31m:\u001b[0m invalid syntax\n"
     ]
    }
   ],
   "source": [
    "1\t 3463.0\n",
    "2\t 3459.1\n",
    "3\t 3312.6\n",
    "4\t 3306.8\n",
    "5\t 3257.6\n",
    "6\t 3233.6\n",
    "7\t 3097.7\n",
    "8\t 3049.7\n",
    "9\t 3024.9\n",
    "10\t 2994.8\n",
    "11\t 2983.0\n",
    "12\t 2979.4\n",
    "13\t 2566.5\n",
    "14\t 2028.2\n",
    "15\t 2018.8\n",
    "16\t 2012.9\n",
    "17\t 2008.6\n",
    "18\t 2008.3\n",
    "19\t 2005.6\n",
    "20\t 1791.1\n",
    "21\t 1723.3\n",
    "22\t 1718.5\n",
    "23\t 1689.3\n",
    "24\t 1686.0\n",
    "25\t 1588.6\n",
    "26\t 1545.8\n",
    "27\t 1525.3\n",
    "28\t 1339.2\n",
    "29\t 1177.0\n",
    "30\t  324.7\n",
    "31\t -401.0\n",
    "32\t -500.4\n",
    "33\t -510.4\n",
    "34\t -521.2\n",
    "35\t -522.5\n",
    "36\t -523.9\n",
    "37\t -524.3\n",
    "38\t -525.0\n",
    "39\t -525.0\n",
    "40\t -539.7\n",
    "41\t -539.8\n",
    "42\t -549.5\n",
    "43\t -549.6\n",
    "44\t -550.8\n",
    "45\t -590.9\n",
    "46\t -595.0\n",
    "47\t -598.8\n",
    "48\t -601.8\n",
    "49\t -602.9\n",
    "50\t -618.8\n",
    "51\t -619.8\n",
    "52\t -627.5\n",
    "53\t -640.0\n",
    "54\t -645.0\n",
    "55\t -645.4\n"
   ]
  }
 ],
 "metadata": {
  "celltoolbar": "Slideshow",
  "kernelspec": {
   "display_name": "Python 3",
   "language": "python",
   "name": "python3"
  },
  "language_info": {
   "codemirror_mode": {
    "name": "ipython",
    "version": 3
   },
   "file_extension": ".py",
   "mimetype": "text/x-python",
   "name": "python",
   "nbconvert_exporter": "python",
   "pygments_lexer": "ipython3",
   "version": "3.6.5"
  }
 },
 "nbformat": 4,
 "nbformat_minor": 1
}
