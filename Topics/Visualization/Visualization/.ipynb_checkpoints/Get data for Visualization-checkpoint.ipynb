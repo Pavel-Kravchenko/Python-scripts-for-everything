{
 "cells": [
  {
   "cell_type": "markdown",
   "metadata": {},
   "source": [
    "* Символы генов **done**\n",
    "* Степени генов в интерактоме **done**\n",
    "* Длины генов **done**\n",
    "* Generic GO slim теги **done**\n",
    "* Экспрессия в биполярном нейроне\n",
    "* Экспрессия в B-клетке"
   ]
  },
  {
   "cell_type": "code",
   "execution_count": 1,
   "metadata": {},
   "outputs": [],
   "source": [
    "import pandas as pd\n",
    "import numpy as np"
   ]
  },
  {
   "cell_type": "code",
   "execution_count": 2,
   "metadata": {},
   "outputs": [],
   "source": [
    "lol_df = pd.read_csv(\"data/uniprot.tab\", sep=\"\\t\")"
   ]
  },
  {
   "cell_type": "markdown",
   "metadata": {},
   "source": [
    "## Get gene symbols"
   ]
  },
  {
   "cell_type": "code",
   "execution_count": 186,
   "metadata": {},
   "outputs": [],
   "source": [
    "from mygene import MyGeneInfo"
   ]
  },
  {
   "cell_type": "code",
   "execution_count": 211,
   "metadata": {},
   "outputs": [],
   "source": [
    "def get_symbols(ensembl_ids, scopes):\n",
    "    mg = MyGeneInfo()\n",
    "    def get_id(ens_id):\n",
    "        return ens_id.split(\".\")[0]\n",
    "    ensembl_ids = ensembl_ids.apply(get_id)\n",
    "    \n",
    "    rev_ens_ids = pd.Series(data=ensembl_ids.index, \n",
    "                            index=ensembl_ids.values)\n",
    "    resp = mg.querymany(ensembl_ids, scopes=scopes)\n",
    "    symbols, index = zip(*[(hit.get(\"symbol\", np.nan), rev_ens_ids[hit[\"query\"]])\n",
    "                           for hit in resp])\n",
    "    symbols = pd.Series(data=symbols, index=index)\n",
    "    return symbols"
   ]
  },
  {
   "cell_type": "markdown",
   "metadata": {
    "heading_collapsed": true
   },
   "source": [
    "## Get degrees"
   ]
  },
  {
   "cell_type": "code",
   "execution_count": 3,
   "metadata": {
    "hidden": true
   },
   "outputs": [],
   "source": [
    "import igraph as ig"
   ]
  },
  {
   "cell_type": "code",
   "execution_count": 4,
   "metadata": {
    "hidden": true
   },
   "outputs": [],
   "source": [
    "iome = ig.Graph.Read_Pickle(\"data/graph.pkl\")"
   ]
  },
  {
   "cell_type": "code",
   "execution_count": 5,
   "metadata": {
    "hidden": true
   },
   "outputs": [],
   "source": [
    "def get_symb_closure(symbs):\n",
    "    def get_by_symbs(vertex):\n",
    "        return vertex[\"symbol\"] in symbs\n",
    "    return get_by_symbs\n",
    "get_by_symbs = get_symb_closure(set(lol_df[\"Symbol\"].values))"
   ]
  },
  {
   "cell_type": "code",
   "execution_count": 6,
   "metadata": {
    "hidden": true
   },
   "outputs": [],
   "source": [
    "genes = iome.vs.select(get_by_symbs)"
   ]
  },
  {
   "cell_type": "code",
   "execution_count": 8,
   "metadata": {
    "hidden": true
   },
   "outputs": [],
   "source": [
    "def get_degree_df(genes):\n",
    "    res_df = pd.DataFrame()\n",
    "    res_df[\"Symbol\"] = genes[\"symbol\"]\n",
    "    res_df[\"Degree\"] = genes.degree()\n",
    "    return res_df"
   ]
  },
  {
   "cell_type": "code",
   "execution_count": 9,
   "metadata": {
    "hidden": true
   },
   "outputs": [],
   "source": [
    "degree_df = get_degree_df(genes)"
   ]
  },
  {
   "cell_type": "code",
   "execution_count": 14,
   "metadata": {
    "hidden": true
   },
   "outputs": [],
   "source": [
    "# add 'em finally\n",
    "lol_df = pd.merge(lol_df, degree_df, on=\"Symbol\")"
   ]
  },
  {
   "cell_type": "markdown",
   "metadata": {
    "heading_collapsed": true
   },
   "source": [
    "## Get GO SLIMs"
   ]
  },
  {
   "cell_type": "code",
   "execution_count": 25,
   "metadata": {
    "hidden": true
   },
   "outputs": [],
   "source": [
    "import re"
   ]
  },
  {
   "cell_type": "code",
   "execution_count": 21,
   "metadata": {
    "hidden": true
   },
   "outputs": [],
   "source": [
    "go_df = pd.read_csv(\"data/total_go.tsv\", sep=\"\\t\", \n",
    "                    header=None)\n",
    "go_df.columns = [\"Symbol\", \"IDs\"]"
   ]
  },
  {
   "cell_type": "code",
   "execution_count": 69,
   "metadata": {
    "hidden": true
   },
   "outputs": [],
   "source": [
    "id_re = r\"(?<=id: )GO:[0-9]+\"\n",
    "name_re = r\"(?<=name: ).+\"\n",
    "namespace_re = r\"(?<=namespace: ).+\""
   ]
  },
  {
   "cell_type": "code",
   "execution_count": 74,
   "metadata": {
    "hidden": true
   },
   "outputs": [],
   "source": [
    "IDs = list()\n",
    "names = list()\n",
    "namespaces = list()\n",
    "prev = None\n",
    "with open(\"data/goslim_generic.obo.txt\", \"r\") as goslim_file:\n",
    "    for line in goslim_file:\n",
    "        ID_match = re.search(id_re, line)\n",
    "        name_match = re.search(name_re, line)\n",
    "        namespace_match = re.search(namespace_re, line)\n",
    "        if line == \"[Term]\\n\":\n",
    "            prevprev = prev\n",
    "            prev = \"Term\"\n",
    "        elif ID_match and (prev == \"Term\"):\n",
    "            IDs.append(ID_match.group())\n",
    "            prevprev = prev\n",
    "            prev = \"ID\"\n",
    "        elif name_match and (prev == \"ID\"):\n",
    "            names.append(name_match.group())\n",
    "            prev = \"name\"\n",
    "        elif namespace_match and (prev == \"name\"):\n",
    "            namespaces.append(namespace_match.group())\n",
    "        else:\n",
    "            prev = None"
   ]
  },
  {
   "cell_type": "code",
   "execution_count": 163,
   "metadata": {
    "hidden": true
   },
   "outputs": [],
   "source": [
    "go_slim_df = pd.DataFrame()\n",
    "go_slim_df[\"ID\"] = IDs\n",
    "go_slim_df[\"Name\"] = names\n",
    "go_slim_df[\"Namespace\"] = namespaces\n",
    "go_slim_df = go_slim_df[go_slim_df[\"Namespace\"] == \"molecular_function\"]"
   ]
  },
  {
   "cell_type": "code",
   "execution_count": 164,
   "metadata": {
    "hidden": true
   },
   "outputs": [
    {
     "data": {
      "text/plain": [
       "Counter({'molecular_function': 43})"
      ]
     },
     "execution_count": 164,
     "metadata": {},
     "output_type": "execute_result"
    }
   ],
   "source": [
    "Counter(go_slim_df[\"Namespace\"])"
   ]
  },
  {
   "cell_type": "code",
   "execution_count": 127,
   "metadata": {
    "hidden": true
   },
   "outputs": [],
   "source": [
    "id_name_mapping = pd.Series(data=go_slim_df[\"Name\"].values, index=go_slim_df[\"ID\"].values)"
   ]
  },
  {
   "cell_type": "code",
   "execution_count": 157,
   "metadata": {
    "hidden": true
   },
   "outputs": [],
   "source": [
    "chosen_mapping = id_name_mapping[(id_name_mapping == \"mitochondrion organization\") | \n",
    "                                 (id_name_mapping == \"cell adhesion\") |\n",
    "                                 (id_name_mapping == \"signal transduction\")]"
   ]
  },
  {
   "cell_type": "code",
   "execution_count": 158,
   "metadata": {
    "hidden": true
   },
   "outputs": [
    {
     "data": {
      "text/plain": [
       "GO:0007005    mitochondrion organization\n",
       "GO:0007155                 cell adhesion\n",
       "GO:0007165           signal transduction\n",
       "dtype: object"
      ]
     },
     "execution_count": 158,
     "metadata": {},
     "output_type": "execute_result"
    }
   ],
   "source": [
    "chosen_mapping"
   ]
  },
  {
   "cell_type": "code",
   "execution_count": 159,
   "metadata": {
    "hidden": true
   },
   "outputs": [],
   "source": [
    "def get_slim_closure(id_name_mapping):\n",
    "    def get_slim(id_list_str):\n",
    "        id_list = id_list_str.split(\";\")\n",
    "        name_dict = [int(ID in id_list)\n",
    "                     for ID in id_name_mapping.index]\n",
    "        return name_dict\n",
    "    return get_slim \n",
    "get_slim = get_slim_closure(chosen_mapping)"
   ]
  },
  {
   "cell_type": "code",
   "execution_count": 160,
   "metadata": {
    "hidden": true
   },
   "outputs": [],
   "source": [
    "slims = go_df[\"IDs\"].apply(get_slim)"
   ]
  },
  {
   "cell_type": "code",
   "execution_count": 161,
   "metadata": {
    "hidden": true
   },
   "outputs": [],
   "source": [
    "sparse_bioproc = np.array(list(slims.values))"
   ]
  },
  {
   "cell_type": "code",
   "execution_count": 170,
   "metadata": {
    "hidden": true
   },
   "outputs": [
    {
     "data": {
      "text/plain": [
       "Counter({0: 18527, 1: 1633, 2: 66})"
      ]
     },
     "execution_count": 170,
     "metadata": {},
     "output_type": "execute_result"
    }
   ],
   "source": [
    "Counter(sparse_bioproc.sum(axis=1))"
   ]
  },
  {
   "cell_type": "code",
   "execution_count": 162,
   "metadata": {
    "hidden": true
   },
   "outputs": [
    {
     "data": {
      "text/plain": [
       "array([  89,  465, 1211])"
      ]
     },
     "execution_count": 162,
     "metadata": {},
     "output_type": "execute_result"
    }
   ],
   "source": [
    "sparse_bioproc.sum(axis=0)"
   ]
  },
  {
   "cell_type": "code",
   "execution_count": 167,
   "metadata": {
    "hidden": true
   },
   "outputs": [],
   "source": [
    "go_df[\"mitochondrion organization\"], go_df[\"cell adhesion\"], go_df[\"signal transduction\"] = sparse_bioproc[:,0], sparse_bioproc[:,1], sparse_bioproc[:,2]"
   ]
  },
  {
   "cell_type": "code",
   "execution_count": 176,
   "metadata": {
    "hidden": true
   },
   "outputs": [],
   "source": [
    "lol_df = pd.merge(lol_df, go_df[[\"Symbol\", \"mitochondrion organization\", \"cell adhesion\", \"signal transduction\"]],\n",
    "                  on=\"Symbol\")"
   ]
  },
  {
   "cell_type": "markdown",
   "metadata": {},
   "source": [
    "## Get expression"
   ]
  },
  {
   "cell_type": "code",
   "execution_count": 235,
   "metadata": {},
   "outputs": [],
   "source": [
    "neuro_expr = pd.read_csv(\"data/bipolar_neuron_expr.tsv\", sep=\"\\t\")"
   ]
  },
  {
   "cell_type": "code",
   "execution_count": 182,
   "metadata": {},
   "outputs": [],
   "source": [
    "b_expr = pd.read_csv(\"data/B_cell_expr.tsv\", sep=\"\\t\")"
   ]
  },
  {
   "cell_type": "code",
   "execution_count": 218,
   "metadata": {},
   "outputs": [
    {
     "name": "stdout",
     "output_type": "stream",
     "text": [
      "querying 1-1000...done.\n",
      "querying 1001-2000...done.\n",
      "querying 2001-3000...done.\n",
      "querying 3001-4000...done.\n",
      "querying 4001-5000...done.\n",
      "querying 5001-6000...done.\n",
      "querying 6001-7000...done.\n",
      "querying 7001-8000...done.\n",
      "querying 8001-9000...done.\n",
      "querying 9001-10000...done.\n",
      "querying 10001-11000...done.\n",
      "querying 11001-12000...done.\n",
      "querying 12001-13000...done.\n",
      "querying 13001-14000...done.\n",
      "querying 14001-15000...done.\n",
      "querying 15001-16000...done.\n",
      "querying 16001-17000...done.\n",
      "querying 17001-18000...done.\n",
      "querying 18001-19000...done.\n",
      "querying 19001-20000...done.\n",
      "querying 20001-21000...done.\n",
      "querying 21001-22000...done.\n",
      "querying 22001-23000...done.\n",
      "querying 23001-24000...done.\n",
      "querying 24001-25000...done.\n",
      "querying 25001-26000...done.\n",
      "querying 26001-27000...done.\n",
      "querying 27001-28000...done.\n",
      "querying 28001-29000...done.\n",
      "querying 29001-30000...done.\n",
      "querying 30001-31000...done.\n",
      "querying 31001-32000...done.\n",
      "querying 32001-33000...done.\n",
      "querying 33001-34000...done.\n",
      "querying 34001-35000...done.\n",
      "querying 35001-36000...done.\n",
      "querying 36001-37000...done.\n",
      "querying 37001-38000...done.\n",
      "querying 38001-39000...done.\n",
      "querying 39001-40000...done.\n",
      "querying 40001-41000...done.\n",
      "querying 41001-42000...done.\n",
      "querying 42001-43000...done.\n",
      "querying 43001-44000...done.\n",
      "querying 44001-45000...done.\n",
      "querying 45001-46000...done.\n",
      "querying 46001-47000...done.\n",
      "querying 47001-48000...done.\n",
      "querying 48001-49000...done.\n",
      "querying 49001-50000...done.\n",
      "querying 50001-51000...done.\n",
      "querying 51001-52000...done.\n",
      "querying 52001-53000...done.\n",
      "querying 53001-54000...done.\n",
      "querying 54001-55000...done.\n",
      "querying 55001-56000...done.\n",
      "querying 56001-57000...done.\n",
      "querying 57001-58000...done.\n",
      "querying 58001-59000...done.\n",
      "querying 59001-60000...done.\n",
      "querying 60001-61000...done.\n",
      "querying 61001-61471...done.\n",
      "Finished.\n",
      "267 input query terms found dup hits:\n",
      "\t[('ENSG00000004866', 2), ('ENSG00000011454', 2), ('ENSG00000013297', 2), ('ENSG00000023171', 2), ('E\n",
      "4194 input query terms found no hit:\n",
      "\t['10904', '12954', '12956', '12958', '12960', '12962', '12964', '12965', '12967', '12969', '12971', \n",
      "Pass \"returnall=True\" to return complete lists of duplicate or missing query terms.\n"
     ]
    }
   ],
   "source": [
    "neuro_symb = get_symbols(neuro_expr[\"gene_id\"], scopes=[\"ensembl.gene\"])"
   ]
  },
  {
   "cell_type": "code",
   "execution_count": 231,
   "metadata": {},
   "outputs": [],
   "source": [
    "neuro_symb = neuro_symb[~neuro_symb.index.duplicated(keep=\"first\")]"
   ]
  },
  {
   "cell_type": "code",
   "execution_count": 238,
   "metadata": {},
   "outputs": [],
   "source": [
    "neuro_expr[\"Symbol\"] = neuro_symb"
   ]
  },
  {
   "cell_type": "code",
   "execution_count": 239,
   "metadata": {},
   "outputs": [],
   "source": [
    "b_expr[\"Symbol\"] = neuro_symb"
   ]
  },
  {
   "cell_type": "code",
   "execution_count": 241,
   "metadata": {},
   "outputs": [],
   "source": [
    "b_expr.dropna(inplace=True)"
   ]
  },
  {
   "cell_type": "code",
   "execution_count": 243,
   "metadata": {},
   "outputs": [],
   "source": [
    "neuro_expr.dropna(inplace=True)"
   ]
  },
  {
   "cell_type": "code",
   "execution_count": 248,
   "metadata": {},
   "outputs": [],
   "source": [
    "lol_df = pd.merge(lol_df, b_expr[[\"Symbol\", \"FPKM\"]], on=\"Symbol\")\n",
    "lol_df[\"B cell FPKM\"] = lol_df[\"FPKM\"]"
   ]
  },
  {
   "cell_type": "code",
   "execution_count": 256,
   "metadata": {},
   "outputs": [],
   "source": [
    "lol_df = pd.merge(lol_df, neuro_expr[[\"Symbol\", \"FPKM\"]], on=\"Symbol\")\n",
    "lol_df[\"Neuron FPKM\"] = lol_df[\"FPKM\"]\n",
    "del(lol_df[\"FPKM\"])"
   ]
  },
  {
   "cell_type": "code",
   "execution_count": 254,
   "metadata": {},
   "outputs": [],
   "source": [
    "del lol_df[\"FPKM\"]"
   ]
  },
  {
   "cell_type": "code",
   "execution_count": 260,
   "metadata": {},
   "outputs": [],
   "source": [
    "lol_df.to_csv(\"data/primary.tsv\", sep=\"\\t\", index=False)"
   ]
  },
  {
   "cell_type": "code",
   "execution_count": null,
   "metadata": {},
   "outputs": [],
   "source": []
  }
 ],
 "metadata": {
  "kernelspec": {
   "display_name": "Python 3",
   "language": "python",
   "name": "python3"
  },
  "language_info": {
   "codemirror_mode": {
    "name": "ipython",
    "version": 3
   },
   "file_extension": ".py",
   "mimetype": "text/x-python",
   "name": "python",
   "nbconvert_exporter": "python",
   "pygments_lexer": "ipython3",
   "version": "3.6.5rc1"
  }
 },
 "nbformat": 4,
 "nbformat_minor": 2
}
