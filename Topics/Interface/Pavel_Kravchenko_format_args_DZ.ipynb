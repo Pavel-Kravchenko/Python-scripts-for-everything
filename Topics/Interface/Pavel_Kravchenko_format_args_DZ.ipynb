{
 "cells": [
  {
   "cell_type": "code",
   "execution_count": 2,
   "metadata": {},
   "outputs": [],
   "source": [
    "import math\n",
    "import random"
   ]
  },
  {
   "cell_type": "code",
   "execution_count": 6,
   "metadata": {},
   "outputs": [],
   "source": [
    "data = [\n",
    "    random.randint(0, random.randint(0, 100000)) for i in range(30)\n",
    "]"
   ]
  },
  {
   "cell_type": "markdown",
   "metadata": {},
   "source": [
    "Задание:\n",
    "1. Необходимо сделать, используя % и format по очереди.\n",
    "2. Напечатать построчно содержимое data по следующему принципу:\n",
    "    каждая строка должна быть размером 8 символов\n",
    "    при недостатке цифр заполнить нулями справа для четных чисел, 0 слева для нечетных\n",
    "    четное число - спереди +, нечетное - спереди -\n",
    "Пример:\n",
    "00000-33\n",
    "+4400000\n",
    "\n",
    "\n",
    "https://pyformat.info/\n"
   ]
  },
  {
   "cell_type": "code",
   "execution_count": 95,
   "metadata": {},
   "outputs": [
    {
     "name": "stdout",
     "output_type": "stream",
     "text": [
      "00-10981\n",
      "000-1379\n",
      "+7868000\n",
      "00-24907\n",
      "+2275400\n",
      "+4865800\n",
      "000-3241\n",
      "000-3385\n",
      "00-77615\n",
      "+1350800\n",
      "000-9295\n",
      "+1181400\n",
      "00-13093\n",
      "+4554000\n",
      "000-9713\n",
      "+1300000\n",
      "00-45457\n",
      "00-19743\n",
      "+3736000\n",
      "00-28805\n",
      "000-8307\n",
      "+3360000\n",
      "+2131400\n",
      "00-65713\n",
      "00-35173\n",
      "+1081000\n",
      "+4014000\n",
      "00-47573\n",
      "00-39267\n",
      "00-34835\n"
     ]
    }
   ],
   "source": [
    "for i in data:\n",
    "    # print(i%2)\n",
    "    if i%2 == 0:\n",
    "        #print('%+8d' % (i))\n",
    "        print('{:0<+8}'.format(+i))\n",
    "    else:\n",
    "        print('{:0>8}'.format(-i))"
   ]
  },
  {
   "cell_type": "code",
   "execution_count": 109,
   "metadata": {},
   "outputs": [
    {
     "name": "stdout",
     "output_type": "stream",
     "text": [
      "+1098100\n",
      "+1379000\n",
      "000-7868\n",
      "+2490700\n",
      "00-22754\n",
      "00-48658\n",
      "+3241000\n",
      "+3385000\n",
      "+7761500\n",
      "00-13508\n",
      "+9295000\n",
      "00-11814\n",
      "+1309300\n",
      "000-4554\n",
      "+9713000\n",
      "0000-130\n",
      "+4545700\n",
      "+1974300\n",
      "000-3736\n",
      "+2880500\n",
      "+8307000\n",
      "000-3360\n",
      "00-21314\n",
      "+6571300\n",
      "+3517300\n",
      "00-10810\n",
      "00-40140\n",
      "+4757300\n",
      "+3926700\n",
      "+3483500\n"
     ]
    }
   ],
   "source": [
    "for i in data:\n",
    "    nulls = (8 - len(str(i)) - 1)*\"0\"\n",
    "    if i%2 == 0:\n",
    "        print(nulls + \"-\" + str(i))\n",
    "    else:\n",
    "        print(\"+\" + str(i) + nulls)\n"
   ]
  },
  {
   "cell_type": "markdown",
   "metadata": {},
   "source": [
    "Задание:\n",
    "    1. Написать парсер, который принимает следующие аргументы:\n",
    "        n - обязательный аргумент, число, дефолтное - максимальное число, возможное в python3\n",
    "        l - обязательный аргумент, который можно указывать несколько раз\n",
    "        k - аргумент, который зависит от кол-ва введенных k\n",
    "        flag - флаг, по дефолту - 59, записывать его в перменную const_flag\n",
    "        trash - позиционный аргумент, дефолтное значение - папка, где запускался   скрипт\n",
    "    2. Проверить на введенных аргументах."
   ]
  },
  {
   "cell_type": "code",
   "execution_count": 172,
   "metadata": {},
   "outputs": [],
   "source": [
    "import sys\n",
    "maximum = sys.maxsize"
   ]
  },
  {
   "cell_type": "code",
   "execution_count": 138,
   "metadata": {},
   "outputs": [
    {
     "data": {
      "text/plain": [
       "'/home/pavel/Desktop/Python/L11'"
      ]
     },
     "execution_count": 138,
     "metadata": {},
     "output_type": "execute_result"
    }
   ],
   "source": [
    "import os\n",
    "os.getcwd()"
   ]
  },
  {
   "cell_type": "code",
   "execution_count": 315,
   "metadata": {},
   "outputs": [],
   "source": [
    "import argparse\n",
    "parser = argparse.ArgumentParser(description='My First Parser')"
   ]
  },
  {
   "cell_type": "code",
   "execution_count": 316,
   "metadata": {},
   "outputs": [
    {
     "data": {
      "text/plain": [
       "_StoreAction(option_strings=[], dest='trash', nargs=None, const=None, default='/home/pavel/Desktop/Python/L11', type=None, choices=None, help=None, metavar=None)"
      ]
     },
     "execution_count": 316,
     "metadata": {},
     "output_type": "execute_result"
    }
   ],
   "source": [
    "parser.add_argument('-n', action='store', dest='x', default=maximum, help='First value', required=True, nargs=1)\n",
    "parser.add_argument('--l', action='append', dest='y', help='Second value', required=True)\n",
    "parser.add_argument('-k', '-verbose', action='count', help='Third value')\n",
    "parser.add_argument('--flag', action='store_const', dest='const_flag', const=59, required=False)\n",
    "parser.add_argument(action='store', dest='trash', default=os.getcwd())"
   ]
  },
  {
   "cell_type": "code",
   "execution_count": 321,
   "metadata": {},
   "outputs": [
    {
     "name": "stdout",
     "output_type": "stream",
     "text": [
      "Namespace(const_flag=None, k=3, trash='trash', x=['1'], y=['4', '10', '20'])\n"
     ]
    }
   ],
   "source": [
    "print(parser.parse_args(['-n', '1', '--l', '4', '-kkk', '--l', '10',\n",
    "                         '--l', '20', 'trash']))\n"
   ]
  },
  {
   "cell_type": "code",
   "execution_count": 324,
   "metadata": {},
   "outputs": [
    {
     "name": "stdout",
     "output_type": "stream",
     "text": [
      "Namespace(const_flag=59, k=3, trash='trash', x=['1'], y=['4', '10', '20'])\n"
     ]
    }
   ],
   "source": [
    "print(parser.parse_args(['-n', '1', '--l', '4', '-kkk', '--l', '10',\n",
    "                         '--l', '20', '--flag', 'trash']))"
   ]
  },
  {
   "cell_type": "markdown",
   "metadata": {},
   "source": [
    "Задание:\n",
    "    1. Создать на github репозиторий с любым именем.\n",
    "    2. Сделать init, залить туда README.md \n",
    "    3. Склонировать себе его\n",
    "    4. Добавить файл file.txt с любыми текстом\n",
    "    5. Запушить\n",
    "    6. Отменить коммит\n",
    "    7. Создать новую ветку\n",
    "    8. Залить в неё файл file_branch.txt с любым текстом\n",
    "    9. Создать pull request\n",
    "    10. Прислать ссылку:\n",
    "    ССЫЛКУ СЮДА: \n",
    "    \n",
    "    https://github.com/Pavel-Kravchenko/my_temp_rep\n",
    "    "
   ]
  },
  {
   "cell_type": "markdown",
   "metadata": {},
   "source": [
    "# доп задачи"
   ]
  },
  {
   "cell_type": "code",
   "execution_count": 143,
   "metadata": {},
   "outputs": [],
   "source": [
    "x = [[1,2,3,4]] * 3\n",
    "x[0][1] = 99 #сделать, чтобы изменяло лишь для 1 элемента"
   ]
  },
  {
   "cell_type": "code",
   "execution_count": 144,
   "metadata": {},
   "outputs": [
    {
     "name": "stdout",
     "output_type": "stream",
     "text": [
      "0 15\n",
      "1 4\n",
      "2 5\n",
      "4 6\n",
      "6 11\n",
      "7 10\n",
      "9 12\n",
      "10 13\n"
     ]
    }
   ],
   "source": [
    "test_string = \"i am a test string\"\n",
    "for i in range(len(test_string)):\n",
    "    for j in range(i + 1, len(test_string)):\n",
    "        if test_string[i] == test_string[j]:\n",
    "            print(i, j)\n",
    "            break  \n",
    "            \n",
    "#написать решение через генератор\n",
    "#условие - найти первую пару одинаковых символов в строке"
   ]
  },
  {
   "cell_type": "code",
   "execution_count": 145,
   "metadata": {},
   "outputs": [],
   "source": [
    "test_list = [1, 2, 3, 4, 5, 6, 7, 5, 10]\n",
    "\n",
    "only_one_variable = 1\n",
    "\n",
    "#у вас есть одна переменная и один список, НУЖНО ЗА ОДИН ОБХОД найти элемент в листе, который представлен дважды"
   ]
  }
 ],
 "metadata": {
  "kernelspec": {
   "display_name": "Python [conda env:root]",
   "language": "python",
   "name": "conda-root-py"
  },
  "language_info": {
   "codemirror_mode": {
    "name": "ipython",
    "version": 3
   },
   "file_extension": ".py",
   "mimetype": "text/x-python",
   "name": "python",
   "nbconvert_exporter": "python",
   "pygments_lexer": "ipython3",
   "version": "3.7.3"
  }
 },
 "nbformat": 4,
 "nbformat_minor": 1
}
