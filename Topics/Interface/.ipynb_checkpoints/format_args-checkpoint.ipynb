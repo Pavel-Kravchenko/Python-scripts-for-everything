{
 "cells": [
  {
   "cell_type": "code",
   "execution_count": null,
   "metadata": {},
   "outputs": [],
   "source": [
    "class SimpleObject(object):\n",
    "    \n",
    "    def __init__(self, name):\n",
    "        self.name = name\n",
    "        \n",
    "    def __str__(self):\n",
    "        return '__str__ ' + self.name \n",
    "    \n",
    "    def __repr__(self):\n",
    "        return '__repr__ ' + self.name\n",
    "    \n",
    "    def __format__(self, format_spec):\n",
    "        return '__format__ ' + self.name"
   ]
  },
  {
   "cell_type": "code",
   "execution_count": null,
   "metadata": {},
   "outputs": [],
   "source": [
    "test_object_1 = SimpleObject('Dima Penzar')\n",
    "test_object_2 = SimpleObject('Roma Kudrin')"
   ]
  },
  {
   "cell_type": "markdown",
   "metadata": {},
   "source": [
    "## %"
   ]
  },
  {
   "cell_type": "code",
   "execution_count": null,
   "metadata": {},
   "outputs": [],
   "source": [
    "'%s %s' % ('one', 'two')"
   ]
  },
  {
   "cell_type": "code",
   "execution_count": null,
   "metadata": {},
   "outputs": [],
   "source": [
    "'%d %d' % (10, 20)"
   ]
  },
  {
   "cell_type": "code",
   "execution_count": null,
   "metadata": {},
   "outputs": [],
   "source": [
    "'%s %r' % (test_object_1, test_object_2)"
   ]
  },
  {
   "cell_type": "code",
   "execution_count": null,
   "metadata": {},
   "outputs": [],
   "source": [
    "'%30s' % (test_object_1)"
   ]
  },
  {
   "cell_type": "code",
   "execution_count": null,
   "metadata": {},
   "outputs": [],
   "source": [
    "'%-30s' % (test_object_1)"
   ]
  },
  {
   "cell_type": "code",
   "execution_count": null,
   "metadata": {},
   "outputs": [],
   "source": [
    "'%.5s' % (test_object_1)"
   ]
  },
  {
   "cell_type": "code",
   "execution_count": null,
   "metadata": {},
   "outputs": [],
   "source": [
    "print('%d' % (59))\n",
    "print('%f' % (2.71818123))\n",
    "print('%4d' % (30))\n",
    "print('%07.4f' % (9.393930))\n",
    "print('%+d' % (22))\n",
    "print('% d' % ( -49))\n",
    "\n",
    "object_data = {'name': 'Dima', 'surname': 'Penzar'}\n",
    "print('%(name)s %(surname)s' % object_data)"
   ]
  },
  {
   "cell_type": "markdown",
   "metadata": {},
   "source": [
    "## format"
   ]
  },
  {
   "cell_type": "code",
   "execution_count": null,
   "metadata": {},
   "outputs": [],
   "source": [
    "'{} {}'.format('three', 'four')"
   ]
  },
  {
   "cell_type": "code",
   "execution_count": null,
   "metadata": {},
   "outputs": [],
   "source": [
    "'{2} {1} {0}'.format(0, 1, 2)"
   ]
  },
  {
   "cell_type": "code",
   "execution_count": null,
   "metadata": {},
   "outputs": [],
   "source": [
    "'{0!s} {0!r}'.format(test_object_1)"
   ]
  },
  {
   "cell_type": "code",
   "execution_count": null,
   "metadata": {},
   "outputs": [],
   "source": [
    "print('{:>30}'.format(test_object.name))\n",
    "print('{:30}'.format(test_object.name))\n",
    "print('{:_<30}'.format(test_object.name))\n",
    "print('{:^30}'.format(test_object.name))\n",
    "print('{:.5}'.format(test_object.name))\n",
    "print('{:10.5}'.format(test_object.name))"
   ]
  },
  {
   "cell_type": "code",
   "execution_count": null,
   "metadata": {},
   "outputs": [],
   "source": [
    "print('{:d}'.format(100))\n",
    "print('{:f}'.format(130))\n",
    "print('{:06.6f}'.format(3.3333333))\n",
    "print('{:=+5d}'.format(33))"
   ]
  },
  {
   "cell_type": "code",
   "execution_count": null,
   "metadata": {},
   "outputs": [],
   "source": [
    "print('{name} {surname}'.format(**object_data))\n",
    "print('{o[name]} {o[surname]}'.format(o=object_data))\n",
    "print('{:.{prec}} = {:.{prec}f}'.format('DIMAS', 33.4444, prec=3))"
   ]
  },
  {
   "cell_type": "markdown",
   "metadata": {},
   "source": [
    "## template strings"
   ]
  },
  {
   "cell_type": "code",
   "execution_count": null,
   "metadata": {},
   "outputs": [],
   "source": [
    "from string import Template"
   ]
  },
  {
   "cell_type": "code",
   "execution_count": null,
   "metadata": {},
   "outputs": [],
   "source": [
    "s = Template('$when, $who $action $what.')\n",
    "s.substitute(when='In the summer', who='John', action='drinks', what='iced tea')"
   ]
  },
  {
   "cell_type": "markdown",
   "metadata": {},
   "source": [
    "## f format"
   ]
  },
  {
   "cell_type": "code",
   "execution_count": null,
   "metadata": {},
   "outputs": [],
   "source": [
    "name = 'Dima'\n",
    "course = 5\n",
    "\n",
    "print(f'{name} is on the {course} course')\n",
    "print(f'{name} is on the {course + 1} course')\n",
    "print(f'{name:.2} is on the {course + 1} course')"
   ]
  },
  {
   "cell_type": "code",
   "execution_count": null,
   "metadata": {},
   "outputs": [],
   "source": [
    "import timeit\n",
    "\n",
    "format = \"\"\"\n",
    "def format(name, age):\n",
    "    return f'He said his name is {name} and he is {age} years old.'\n",
    "\"\"\", \"\"\"\n",
    "def format(name, age):\n",
    "    return 'He said his name is %s and he is %s years old.' % (name, age)\n",
    "\"\"\", \"\"\"\n",
    "def format(name, age):\n",
    "    return 'He said his name is ' + name + ' and he is ' + str(\n",
    "        age) + ' years old.'\n",
    "\"\"\",  \"\"\"\n",
    "def format(name, age):\n",
    "    return 'He said his name is {} and he is {} years old.'.format(name, age)\n",
    "\"\"\", \"\"\"\n",
    "from string import Template\n",
    "\n",
    "template = Template('He said his name is $name and he is $age years old.')\n",
    "\n",
    "def format(name, age):\n",
    "    return template.substitute(name=name, age=age)\n",
    "\"\"\"\n",
    "\n",
    "test = \"\"\"\n",
    "def test():\n",
    "    for name in ('Fred', 'Barney', 'Gary', 'Rock', 'Perry', 'Jackie'):\n",
    "        for age in range (20, 200):\n",
    "            format(name, age)\n",
    "\"\"\"\n",
    "\n",
    "for fmt in format:\n",
    "    print(timeit.timeit('test()', fmt + test, number=10000))\n"
   ]
  },
  {
   "cell_type": "markdown",
   "metadata": {},
   "source": [
    "## parsing arguments"
   ]
  },
  {
   "cell_type": "code",
   "execution_count": null,
   "metadata": {},
   "outputs": [],
   "source": [
    "import argparse"
   ]
  },
  {
   "cell_type": "code",
   "execution_count": null,
   "metadata": {},
   "outputs": [],
   "source": [
    "parser = argparse.ArgumentParser(description='My First Parser')"
   ]
  },
  {
   "cell_type": "code",
   "execution_count": null,
   "metadata": {},
   "outputs": [],
   "source": [
    "parser.add_argument('-n', action='store', dest='z', help='First value')"
   ]
  },
  {
   "cell_type": "code",
   "execution_count": null,
   "metadata": {},
   "outputs": [],
   "source": [
    "print(parser.parse_args(['-n', '42']))"
   ]
  },
  {
   "cell_type": "code",
   "execution_count": null,
   "metadata": {},
   "outputs": [],
   "source": [
    "parser.add_argument('-d', action='store', dest='w', help='Second value',\n",
    "                    type=int, required=True)"
   ]
  },
  {
   "cell_type": "code",
   "execution_count": null,
   "metadata": {},
   "outputs": [],
   "source": [
    "print(parser.parse_args(['-n', '42']))"
   ]
  },
  {
   "cell_type": "code",
   "execution_count": null,
   "metadata": {},
   "outputs": [],
   "source": [
    "print(parser.parse_args(['-n', '42', '-d', '42']))"
   ]
  },
  {
   "cell_type": "code",
   "execution_count": null,
   "metadata": {},
   "outputs": [],
   "source": [
    "parser.add_argument('--checkConst', action='store_const', const=42)"
   ]
  },
  {
   "cell_type": "code",
   "execution_count": null,
   "metadata": {},
   "outputs": [],
   "source": [
    "parser.add_argument('--a', action='append')"
   ]
  },
  {
   "cell_type": "code",
   "execution_count": null,
   "metadata": {},
   "outputs": [],
   "source": [
    "parser.add_argument('--verbose', '-v', action='count')"
   ]
  },
  {
   "cell_type": "code",
   "execution_count": null,
   "metadata": {},
   "outputs": [],
   "source": [
    "print(parser.parse_args(['-n', '42', '-d', '42', '-vvvvv', \n",
    "                         '--a', 'a', '--a', 'b', '--checkConst']))"
   ]
  },
  {
   "cell_type": "code",
   "execution_count": null,
   "metadata": {},
   "outputs": [],
   "source": []
  }
 ],
 "metadata": {
  "kernelspec": {
   "display_name": "Python 3",
   "language": "python",
   "name": "python3"
  },
  "language_info": {
   "codemirror_mode": {
    "name": "ipython",
    "version": 3
   },
   "file_extension": ".py",
   "mimetype": "text/x-python",
   "name": "python",
   "nbconvert_exporter": "python",
   "pygments_lexer": "ipython3",
   "version": "3.6.5"
  }
 },
 "nbformat": 4,
 "nbformat_minor": 2
}
