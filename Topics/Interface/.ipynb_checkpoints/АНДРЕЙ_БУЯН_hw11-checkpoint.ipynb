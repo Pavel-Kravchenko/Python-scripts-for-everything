{
 "cells": [
  {
   "cell_type": "code",
   "execution_count": 46,
   "metadata": {},
   "outputs": [],
   "source": [
    "import math\n",
    "import random"
   ]
  },
  {
   "cell_type": "code",
   "execution_count": 47,
   "metadata": {},
   "outputs": [
    {
     "name": "stdout",
     "output_type": "stream",
     "text": [
      "9223372036854775807\n"
     ]
    }
   ],
   "source": [
    "data = [\n",
    "    random.randint(0, random.randint(0, 100000)) for i in range(30)\n",
    "]"
   ]
  },
  {
   "cell_type": "markdown",
   "metadata": {},
   "source": [
    "Задание:\n",
    "1. Необходимо сделать, используя % и format по очереди.\n",
    "2. Напечатать построчно содержимое data по следующему принципу:\n",
    "    каждая строка должна быть размером 8 символов\n",
    "    при недостатке цифр заполнить нулями справа для четных чисел, 0 слева для нечетных\n",
    "    четное число - спереди +, нечетное - спереди -\n",
    "Пример:\n",
    "00000-33\n",
    "+4400000"
   ]
  },
  {
   "cell_type": "code",
   "execution_count": 44,
   "metadata": {},
   "outputs": [
    {
     "name": "stdout",
     "output_type": "stream",
     "text": [
      "+2535800\n",
      "+2394000\n",
      "+3053000\n",
      "000-1987\n",
      "000-4531\n",
      "+7444000\n",
      "00-58811\n",
      "00-93399\n",
      "+7160000\n",
      "+6299600\n",
      "+1614200\n",
      "+4443000\n",
      "+5436600\n",
      "00-33281\n",
      "+3885000\n",
      "00-27633\n",
      "+6578000\n",
      "00-30381\n",
      "00-16455\n",
      "00-21897\n",
      "000-8421\n",
      "+1602400\n",
      "00-23675\n",
      "000-3529\n",
      "000-2011\n",
      "+3560000\n",
      "+4115800\n",
      "000-9215\n",
      "000-1775\n",
      "+5274000\n"
     ]
    }
   ],
   "source": [
    "for i in range(len(data)):\n",
    "    if i%2==0:\n",
    "        zero = ''\n",
    "        for k in range(len(str(data[i])), 7):\n",
    "            zero += '0'\n",
    "        if data[i]%2==0:\n",
    "            print('%-8s' % ('+' + str(data[i]) + zero))\n",
    "        if data[i]%2==1:\n",
    "            print('%8s' % (zero + '-' + str(data[i])))\n",
    "    else:\n",
    "        if data[i]%2==0:\n",
    "            print('{:0<+8d}'.format(data[i]))\n",
    "        if data[i]%2==1:\n",
    "            print('{:0> 8d}'.format(-data[i]))"
   ]
  },
  {
   "cell_type": "markdown",
   "metadata": {},
   "source": [
    "Задание:\n",
    "    1. Написать парсер, который принимает следующие аргументы:\n",
    "        n - обязательный аргумент, число, дефолтное - максимальное число, возможное в python3\n",
    "        l - обязательный аргумент, который можно указывать несколько раз\n",
    "        k - аргумент, который зависит от кол-ва введенных k\n",
    "        flag - флаг, по дефолту - 59, записывать его в перменную const_flag\n",
    "        trash - позиционный аргумент, дефолтное значение - папка, где запускался   скрипт\n",
    "    2. Проверить на введенных аргументах."
   ]
  },
  {
   "cell_type": "code",
   "execution_count": 59,
   "metadata": {},
   "outputs": [
    {
     "data": {
      "text/plain": [
       "_StoreAction(option_strings=['--trash'], dest='path_trash', nargs=None, const=None, default='C:\\\\Users\\\\Андрей', type=None, choices=None, help=None, metavar=None)"
      ]
     },
     "execution_count": 59,
     "metadata": {},
     "output_type": "execute_result"
    }
   ],
   "source": [
    "import argparse\n",
    "import sys\n",
    "import os\n",
    "\n",
    "maxint = sys.maxsize\n",
    "#maxint = ''\n",
    "#for i in range(sys.maxsize):\n",
    "#    maxint += '9'\n",
    "parser = argparse.ArgumentParser(description='My First Parser')\n",
    "parser.add_argument('-n', action='store', dest='x', default=int(maxint), help='First value', required=True)\n",
    "parser.add_argument('-l', action='append', dest='y', help='Second value', required=True)\n",
    "parser.add_argument('-k', '-k', action='count', dest='z', help='Third value')\n",
    "parser.add_argument('--flag', action='store_const', dest='const_flag', const=59)\n",
    "parser.add_argument('--trash', action='store', dest='path_trash', default=os.getcwd())"
   ]
  },
  {
   "cell_type": "code",
   "execution_count": 61,
   "metadata": {},
   "outputs": [
    {
     "name": "stdout",
     "output_type": "stream",
     "text": [
      "Namespace(const_flag=59, path_trash='C:\\\\Users\\\\Андрей', x='42', y=['22'], z=7)\n"
     ]
    }
   ],
   "source": [
    "print(parser.parse_args(['-n', '42', '-l', '22', '-kkkkkkk', \n",
    "                        '--flag']))"
   ]
  },
  {
   "cell_type": "markdown",
   "metadata": {},
   "source": [
    "Задание:\n",
    "    1. Создать на github репозиторий с любым именем.\n",
    "    2. Сделать init, залить туда README.md \n",
    "    3. Склонировать себе его\n",
    "    4. Добавить файл file.txt с любыми текстом\n",
    "    5. Запушить\n",
    "    6. Отменить коммит\n",
    "    7. Создать новую ветку\n",
    "    8. Залить в неё файл file_branch.txt с любым текстом\n",
    "    9. Создать pull request\n",
    "    10. Прислать ссылку:\n",
    "    ССЫЛКУ СЮДА: https://github.com/buyanchik/python_test"
   ]
  }
 ],
 "metadata": {
  "kernelspec": {
   "display_name": "Python 3",
   "language": "python",
   "name": "python3"
  },
  "language_info": {
   "codemirror_mode": {
    "name": "ipython",
    "version": 3
   },
   "file_extension": ".py",
   "mimetype": "text/x-python",
   "name": "python",
   "nbconvert_exporter": "python",
   "pygments_lexer": "ipython3",
   "version": "3.6.5"
  }
 },
 "nbformat": 4,
 "nbformat_minor": 1
}
