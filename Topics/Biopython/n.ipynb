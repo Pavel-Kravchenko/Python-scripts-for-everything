{
 "cells": [
  {
   "cell_type": "code",
   "execution_count": 2,
   "metadata": {},
   "outputs": [
    {
     "data": {
      "text/plain": [
       "4"
      ]
     },
     "execution_count": 2,
     "metadata": {},
     "output_type": "execute_result"
    }
   ],
   "source": [
    "from Bio import SeqIO\n",
    "\n",
    "seql = []\n",
    "file = open('in.txt', 'r')\n",
    "lines = list(file.readlines())\n",
    "for i in range(len(lines)):\n",
    "    if lines[i] == '\\n':\n",
    "        mark = i\n",
    "list_id = lines[:mark]\n",
    "with open('db.txt', 'w') as f:\n",
    "    f.write(''.join(lines[(mark+1):]))\n",
    "for j in list_id:\n",
    "    for i in SeqIO.parse(\"db.txt\", \"fasta\"):\n",
    "        if i.id == j.strip():\n",
    "            seql.append(i)\n",
    "SeqIO.write(seql, \"out.txt\", \"fasta\")\n"
   ]
  }
 ],
 "metadata": {
  "kernelspec": {
   "display_name": "Python 3",
   "language": "python",
   "name": "python3"
  },
  "language_info": {
   "codemirror_mode": {
    "name": "ipython",
    "version": 3
   },
   "file_extension": ".py",
   "mimetype": "text/x-python",
   "name": "python",
   "nbconvert_exporter": "python",
   "pygments_lexer": "ipython3",
   "version": "3.6.5"
  }
 },
 "nbformat": 4,
 "nbformat_minor": 2
}
