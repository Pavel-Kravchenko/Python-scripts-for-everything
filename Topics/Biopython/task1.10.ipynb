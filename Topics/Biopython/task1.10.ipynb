{
 "cells": [
  {
   "cell_type": "code",
   "execution_count": 36,
   "metadata": {},
   "outputs": [
    {
     "name": "stdout",
     "output_type": "stream",
     "text": [
      "{'thrL': SeqRecord(seq=Seq('ATGAAACGCATTAGCACCACCATTACCACCACCATCACCATTACCACAGGTAAC...TGA', SingleLetterAlphabet()), id='thrL', name='thrL', description='thrL <unknown description>', dbxrefs=[]), 'thrA': SeqRecord(seq=Seq('ATGCGAGTGTTGAAGTTCGGCGGTACATCAGTGGCAAATGCAGAACGTTTTCTG...TGA', SingleLetterAlphabet()), id='thrA', name='thrA', description='thrA <unknown description>', dbxrefs=[]), 'thrB': SeqRecord(seq=Seq('ATGGTTAAAGTTTATGCCCCGGCTTCCAGTGCCAATATGAGCGTCGGGTTTGAT...TAA', SingleLetterAlphabet()), id='thrB', name='thrB', description='thrB <unknown description>', dbxrefs=[]), 'thrC': SeqRecord(seq=Seq('ATGAAACTCTACAATCTGAAAGATCACAACGAGCAGGTCAGCTTTGCGCAAGCC...TAA', SingleLetterAlphabet()), id='thrC', name='thrC', description='thrC <unknown description>', dbxrefs=[]), 'yaaX': SeqRecord(seq=Seq('GTGAAAAAGATGCAATCTATCGTACTCGCACTTTCCCTGGTTCTGGTCGCTCCC...TAA', SingleLetterAlphabet()), id='yaaX', name='yaaX', description='yaaX <unknown description>', dbxrefs=[]), 'talB': SeqRecord(seq=Seq('ATGACGGACAAATTGACCTCCCTTCGTCAGTACACCACCGTAGTGGCCGACACT...TAA', SingleLetterAlphabet()), id='talB', name='talB', description='talB <unknown description>', dbxrefs=[]), 'mog': SeqRecord(seq=Seq('ATGAATACTTTACGTATTGGCTTAGTTTCCATCTCTGATCGCGCATCCAGCGGC...TAA', SingleLetterAlphabet()), id='mog', name='mog', description='mog <unknown description>', dbxrefs=[]), 'dnaK': SeqRecord(seq=Seq('ATGGGTAAAATAATTGGTATCGACCTGGGTACTACCAACTCTTGTGTAGCGATT...TAA', SingleLetterAlphabet()), id='dnaK', name='dnaK', description='dnaK <unknown description>', dbxrefs=[]), 'dnaJ': SeqRecord(seq=Seq('ATGGCTAAGCAAGATTATTACGAGATTTTAGGCGTTTCCAAAACAGCGGAAGAG...TAA', SingleLetterAlphabet()), id='dnaJ', name='dnaJ', description='dnaJ <unknown description>', dbxrefs=[]), 'insL1': SeqRecord(seq=Seq('ATGAATTACTCTCACGATAACTGGTCAGCAATTCTGGCCCATATTGGTAAGCCC...TAA', SingleLetterAlphabet()), id='insL1', name='insL1', description='insL1 <unknown description>', dbxrefs=[]), 'nhaA': SeqRecord(seq=Seq('GTGAAACATCTGCATCGATTCTTTAGCAGTGATGCCTCGGGAGGCATTATTCTT...TGA', SingleLetterAlphabet()), id='nhaA', name='nhaA', description='nhaA <unknown description>', dbxrefs=[]), 'nhaR': SeqRecord(seq=Seq('ATGAGCATGTCTCATATCAATTACAACCACTTGTATTACTTCTGGCATGTCTAT...TAA', SingleLetterAlphabet()), id='nhaR', name='nhaR', description='nhaR <unknown description>', dbxrefs=[]), 'yaaY': SeqRecord(seq=Seq('ATGTGCCGGCACTCGTTACGTAGTGATGGCGCAGGATTCTACCAGCTTGCGGGG...TGA', SingleLetterAlphabet()), id='yaaY', name='yaaY', description='yaaY <unknown description>', dbxrefs=[]), 'ribF': SeqRecord(seq=Seq('ATGAAGCTGATACGCGGCATACATAATCTCAGCCAGGCCCCGCAAGAAGGGTGT...TAA', SingleLetterAlphabet()), id='ribF', name='ribF', description='ribF <unknown description>', dbxrefs=[]), 'ileS': SeqRecord(seq=Seq('ATGAGTGACTATAAATCAACCCTGAATTTGCCGGAAACAGGGTTCCCGATGCGT...TGA', SingleLetterAlphabet()), id='ileS', name='ileS', description='ileS <unknown description>', dbxrefs=[]), 'lspA': SeqRecord(seq=Seq('ATGAGTCAATCGATCTGTTCAACAGGGCTACGCTGGCTGTGGCTGGTGGTAGTC...TAA', SingleLetterAlphabet()), id='lspA', name='lspA', description='lspA <unknown description>', dbxrefs=[]), 'fkpB': SeqRecord(seq=Seq('ATGTCTGAATCTGTACAGAGCAATAGCGCCGTCCTGGTGCACTTCACGCTAAAA...TAA', SingleLetterAlphabet()), id='fkpB', name='fkpB', description='fkpB <unknown description>', dbxrefs=[]), 'ispH': SeqRecord(seq=Seq('ATGCAGATCCTGTTGGCCAACCCGCGTGGTTTTTGTGCCGGGGTAGACCGCGCT...TAA', SingleLetterAlphabet()), id='ispH', name='ispH', description='ispH <unknown description>', dbxrefs=[]), 'rihC': SeqRecord(seq=Seq('ATGCGTTTACCTATCTTCCTCGATACTGACCCCGGCATTGACGATGCCGTCGCC...TAA', SingleLetterAlphabet()), id='rihC', name='rihC', description='rihC <unknown description>', dbxrefs=[]), 'dapB': SeqRecord(seq=Seq('ATGCATGATGCAAACATCCGCGTTGCCATCGCGGGAGCCGGGGGGCGTATGGGC...TAA', SingleLetterAlphabet()), id='dapB', name='dapB', description='dapB <unknown description>', dbxrefs=[])}\n",
      "{'thrL': SeqRecord(seq=Seq('TACTTTGCGTAATCGTGGTGGTAATGGTGGTGGTAGTGGTAATGGTGTCCATTG...ACT', SingleLetterAlphabet()), id='thrL', name='thrL', description='thrL <unknown description>', dbxrefs=[]), 'thrA': SeqRecord(seq=Seq('TACGCTCACAACTTCAAGCCGCCATGTAGTCACCGTTTACGTCTTGCAAAAGAC...ACT', SingleLetterAlphabet()), id='thrA', name='thrA', description='thrA <unknown description>', dbxrefs=[]), 'thrB': SeqRecord(seq=Seq('TACCAATTTCAAATACGGGGCCGAAGGTCACGGTTATACTCGCAGCCCAAACTA...ATT', SingleLetterAlphabet()), id='thrB', name='thrB', description='thrB <unknown description>', dbxrefs=[]), 'thrC': SeqRecord(seq=Seq('TACTTTGAGATGTTAGACTTTCTAGTGTTGCTCGTCCAGTCGAAACGCGTTCGG...ATT', SingleLetterAlphabet()), id='thrC', name='thrC', description='thrC <unknown description>', dbxrefs=[]), 'yaaX': SeqRecord(seq=Seq('CACTTTTTCTACGTTAGATAGCATGAGCGTGAAAGGGACCAAGACCAGCGAGGG...ATT', SingleLetterAlphabet()), id='yaaX', name='yaaX', description='yaaX <unknown description>', dbxrefs=[]), 'talB': SeqRecord(seq=Seq('TACTGCCTGTTTAACTGGAGGGAAGCAGTCATGTGGTGGCATCACCGGCTGTGA...ATT', SingleLetterAlphabet()), id='talB', name='talB', description='talB <unknown description>', dbxrefs=[]), 'mog': SeqRecord(seq=Seq('TACTTATGAAATGCATAACCGAATCAAAGGTAGAGACTAGCGCGTAGGTCGCCG...ATT', SingleLetterAlphabet()), id='mog', name='mog', description='mog <unknown description>', dbxrefs=[]), 'dnaK': SeqRecord(seq=Seq('TACCCATTTTATTAACCATAGCTGGACCCATGATGGTTGAGAACACATCGCTAA...ATT', SingleLetterAlphabet()), id='dnaK', name='dnaK', description='dnaK <unknown description>', dbxrefs=[]), 'dnaJ': SeqRecord(seq=Seq('TACCGATTCGTTCTAATAATGCTCTAAAATCCGCAAAGGTTTTGTCGCCTTCTC...ATT', SingleLetterAlphabet()), id='dnaJ', name='dnaJ', description='dnaJ <unknown description>', dbxrefs=[]), 'insL1': SeqRecord(seq=Seq('TACTTAATGAGAGTGCTATTGACCAGTCGTTAAGACCGGGTATAACCATTCGGG...ATT', SingleLetterAlphabet()), id='insL1', name='insL1', description='insL1 <unknown description>', dbxrefs=[]), 'nhaA': SeqRecord(seq=Seq('CACTTTGTAGACGTAGCTAAGAAATCGTCACTACGGAGCCCTCCGTAATAAGAA...ACT', SingleLetterAlphabet()), id='nhaA', name='nhaA', description='nhaA <unknown description>', dbxrefs=[]), 'nhaR': SeqRecord(seq=Seq('TACTCGTACAGAGTATAGTTAATGTTGGTGAACATAATGAAGACCGTACAGATA...ATT', SingleLetterAlphabet()), id='nhaR', name='nhaR', description='nhaR <unknown description>', dbxrefs=[]), 'yaaY': SeqRecord(seq=Seq('TACACGGCCGTGAGCAATGCATCACTACCGCGTCCTAAGATGGTCGAACGCCCC...ACT', SingleLetterAlphabet()), id='yaaY', name='yaaY', description='yaaY <unknown description>', dbxrefs=[]), 'ribF': SeqRecord(seq=Seq('TACTTCGACTATGCGCCGTATGTATTAGAGTCGGTCCGGGGCGTTCTTCCCACA...ATT', SingleLetterAlphabet()), id='ribF', name='ribF', description='ribF <unknown description>', dbxrefs=[]), 'ileS': SeqRecord(seq=Seq('TACTCACTGATATTTAGTTGGGACTTAAACGGCCTTTGTCCCAAGGGCTACGCA...ACT', SingleLetterAlphabet()), id='ileS', name='ileS', description='ileS <unknown description>', dbxrefs=[]), 'lspA': SeqRecord(seq=Seq('TACTCAGTTAGCTAGACAAGTTGTCCCGATGCGACCGACACCGACCACCATCAG...ATT', SingleLetterAlphabet()), id='lspA', name='lspA', description='lspA <unknown description>', dbxrefs=[]), 'fkpB': SeqRecord(seq=Seq('TACAGACTTAGACATGTCTCGTTATCGCGGCAGGACCACGTGAAGTGCGATTTT...ATT', SingleLetterAlphabet()), id='fkpB', name='fkpB', description='fkpB <unknown description>', dbxrefs=[]), 'ispH': SeqRecord(seq=Seq('TACGTCTAGGACAACCGGTTGGGCGCACCAAAAACACGGCCCCATCTGGCGCGA...ATT', SingleLetterAlphabet()), id='ispH', name='ispH', description='ispH <unknown description>', dbxrefs=[]), 'rihC': SeqRecord(seq=Seq('TACGCAAATGGATAGAAGGAGCTATGACTGGGGCCGTAACTGCTACGGCAGCGG...ATT', SingleLetterAlphabet()), id='rihC', name='rihC', description='rihC <unknown description>', dbxrefs=[]), 'dapB': SeqRecord(seq=Seq('TACGTACTACGTTTGTAGGCGCAACGGTAGCGCCCTCGGCCCCCCGCATACCCG...ATT', SingleLetterAlphabet()), id='dapB', name='dapB', description='dapB <unknown description>', dbxrefs=[])}\n"
     ]
    },
    {
     "data": {
      "text/plain": [
       "20"
      ]
     },
     "execution_count": 36,
     "metadata": {},
     "output_type": "execute_result"
    }
   ],
   "source": [
    "from Bio import SeqIO\n",
    "\n",
    "record_dict = SeqIO.to_dict(SeqIO.parse(\"in.txt\", \"fasta\"))\n",
    "#  print(record_dict)\n",
    "new_dict = record_dict.copy()\n",
    "for i in record_dict.keys():\n",
    "    new_seq = record_dict[i].seq.complement()\n",
    "    new_dict[i].seq = new_seq\n",
    "#  print(new_dict)\n",
    "SeqIO.write(new_dict.values(), \"out.txt\", \"fasta\")"
   ]
  }
 ],
 "metadata": {
  "kernelspec": {
   "display_name": "Python 3",
   "language": "python",
   "name": "python3"
  },
  "language_info": {
   "codemirror_mode": {
    "name": "ipython",
    "version": 3
   },
   "file_extension": ".py",
   "mimetype": "text/x-python",
   "name": "python",
   "nbconvert_exporter": "python",
   "pygments_lexer": "ipython3",
   "version": "3.6.5"
  }
 },
 "nbformat": 4,
 "nbformat_minor": 2
}
