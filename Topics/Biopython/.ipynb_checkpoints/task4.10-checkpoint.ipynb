{
 "cells": [
  {
   "cell_type": "code",
   "execution_count": 112,
   "metadata": {},
   "outputs": [
    {
     "data": {
      "text/plain": [
       "3"
      ]
     },
     "execution_count": 112,
     "metadata": {},
     "output_type": "execute_result"
    }
   ],
   "source": [
    "from Bio import SeqIO\n",
    "\n",
    "lines = []\n",
    "with open('in.txt', 'r') as f:\n",
    "    line = f.readline().strip()\n",
    "    while len(line) != 0:\n",
    "        lines.append(line)\n",
    "        line = f.readline().strip()\n",
    "records = SeqIO.parse(\"in.txt\", \"fasta\")\n",
    "sequence_list = []\n",
    "for i in lines:\n",
    "    for j in records:\n",
    "        if j.id == i:\n",
    "            sequence_list.append(j)\n",
    "            break\n",
    "        else:\n",
    "            pass\n",
    "SeqIO.write(sequence_list, \"out.txt\", \"fasta\")\n"
   ]
  }
 ],
 "metadata": {
  "kernelspec": {
   "display_name": "Python 3",
   "language": "python",
   "name": "python3"
  },
  "language_info": {
   "codemirror_mode": {
    "name": "ipython",
    "version": 3
   },
   "file_extension": ".py",
   "mimetype": "text/x-python",
   "name": "python",
   "nbconvert_exporter": "python",
   "pygments_lexer": "ipython3",
   "version": "3.6.5"
  }
 },
 "nbformat": 4,
 "nbformat_minor": 2
}
