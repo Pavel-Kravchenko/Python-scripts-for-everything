{
 "cells": [
  {
   "cell_type": "markdown",
   "metadata": {},
   "source": [
    "# Biopython: инструмент на все случаи жизни"
   ]
  },
  {
   "cell_type": "markdown",
   "metadata": {},
   "source": [
    "<img src=\"files/images/swiss.jpg\" alt=\"Drawing\" style=\"width: 800px;\" align=\"left\">"
   ]
  },
  {
   "cell_type": "markdown",
   "metadata": {},
   "source": [
    "Пакет Biopython предназначен для работы с биоинформатическими данными. В нем есть много полезных модулей для работы с **последовательностями**, **выравниваниями**, **структурами**, **филогенитическими деревьями**, **базами данных**, **графиками**, **методами машинного обучения** и пр. Здесь мы познакомимся только с некоторыми из его возможностей. Про всё  остальное можно прочитать в официальной документации:\n",
    "http://biopython.org/DIST/docs/tutorial/Tutorial.html"
   ]
  },
  {
   "cell_type": "markdown",
   "metadata": {},
   "source": [
    "# Seq"
   ]
  },
  {
   "cell_type": "markdown",
   "metadata": {},
   "source": [
    "Модуль для работы с последовательностями. В Biopython последовательности представлены в виде объектов класса **Seq**, которые содержат строку последовательности и алфавит, из которого составлена строка:"
   ]
  },
  {
   "cell_type": "code",
   "execution_count": 2,
   "metadata": {},
   "outputs": [
    {
     "data": {
      "text/plain": [
       "(Seq('AGTACACTGGT', Alphabet()), Alphabet())"
      ]
     },
     "execution_count": 2,
     "metadata": {},
     "output_type": "execute_result"
    }
   ],
   "source": [
    "from Bio.Seq import Seq\n",
    "\n",
    "my_seq = Seq(\"AGTACACTGGT\")\n",
    "\n",
    "my_seq, my_seq.alphabet"
   ]
  },
  {
   "cell_type": "markdown",
   "metadata": {},
   "source": [
    "Мы не задали алфавит при создании последовательности, поэтому в поле alphabet лежит алфавит по умолчанию. Можно при создании последовательности указать конкретный алфавит, например, ДНК, РНК или белковая последовательность:"
   ]
  },
  {
   "cell_type": "code",
   "execution_count": 10,
   "metadata": {},
   "outputs": [
    {
     "data": {
      "text/plain": [
       "(Seq('AGTACACTGGT', DNAAlphabet()), DNAAlphabet())"
      ]
     },
     "execution_count": 10,
     "metadata": {},
     "output_type": "execute_result"
    }
   ],
   "source": [
    "from Bio.Alphabet import generic_dna, generic_protein\n",
    "\n",
    "my_dna = Seq(\"AGTACACTGGT\", generic_dna)\n",
    "my_protein = Seq(\"AGTACACTGGT\", generic_protein)\n",
    "\n",
    "my_dna, my_dna.alphabet"
   ]
  },
  {
   "cell_type": "markdown",
   "metadata": {},
   "source": [
    "Использование алфавита - это дополнительный контроль, защита от ошибок."
   ]
  },
  {
   "cell_type": "code",
   "execution_count": 11,
   "metadata": {},
   "outputs": [
    {
     "ename": "TypeError",
     "evalue": "Incompatible alphabets ProteinAlphabet() and DNAAlphabet()",
     "output_type": "error",
     "traceback": [
      "\u001b[0;31m---------------------------------------------------------------------------\u001b[0m\n\u001b[0;31mTypeError\u001b[0m                                 Traceback (most recent call last)",
      "\u001b[0;32m<ipython-input-11-03a8871431e7>\u001b[0m in \u001b[0;36m<module>\u001b[0;34m()\u001b[0m\n\u001b[0;32m----> 1\u001b[0;31m \u001b[0mmy_protein\u001b[0m \u001b[0;34m+\u001b[0m \u001b[0mmy_dna\u001b[0m\u001b[0;34m\u001b[0m\u001b[0m\n\u001b[0m",
      "\u001b[0;32m/home/mouse/.local/lib/python3.5/site-packages/Bio/Seq.py\u001b[0m in \u001b[0;36m__add__\u001b[0;34m(self, other)\u001b[0m\n\u001b[1;32m    293\u001b[0m                 raise TypeError(\n\u001b[1;32m    294\u001b[0m                     \"Incompatible alphabets {0!r} and {1!r}\".format(\n\u001b[0;32m--> 295\u001b[0;31m                         self.alphabet, other.alphabet))\n\u001b[0m\u001b[1;32m    296\u001b[0m             \u001b[0;31m# They should be the same sequence type (or one of them is generic)\u001b[0m\u001b[0;34m\u001b[0m\u001b[0;34m\u001b[0m\u001b[0m\n\u001b[1;32m    297\u001b[0m             \u001b[0ma\u001b[0m \u001b[0;34m=\u001b[0m \u001b[0mAlphabet\u001b[0m\u001b[0;34m.\u001b[0m\u001b[0m_consensus_alphabet\u001b[0m\u001b[0;34m(\u001b[0m\u001b[0;34m[\u001b[0m\u001b[0mself\u001b[0m\u001b[0;34m.\u001b[0m\u001b[0malphabet\u001b[0m\u001b[0;34m,\u001b[0m \u001b[0mother\u001b[0m\u001b[0;34m.\u001b[0m\u001b[0malphabet\u001b[0m\u001b[0;34m]\u001b[0m\u001b[0;34m)\u001b[0m\u001b[0;34m\u001b[0m\u001b[0m\n",
      "\u001b[0;31mTypeError\u001b[0m: Incompatible alphabets ProteinAlphabet() and DNAAlphabet()"
     ]
    }
   ],
   "source": [
    "my_protein + my_dna"
   ]
  },
  {
   "cell_type": "markdown",
   "metadata": {},
   "source": [
    "## Методы работы с последовательностями"
   ]
  },
  {
   "cell_type": "markdown",
   "metadata": {},
   "source": [
    "В классе Seq есть ряд методов, аналогичных методам строк. Последовательности можно конкатенировать, в них можно искать подстроки. "
   ]
  },
  {
   "cell_type": "code",
   "execution_count": 15,
   "metadata": {},
   "outputs": [
    {
     "data": {
      "text/plain": [
       "5"
      ]
     },
     "execution_count": 15,
     "metadata": {},
     "output_type": "execute_result"
    }
   ],
   "source": [
    "my_dna = Seq(\"AGTACACTGGT\", generic_dna)\n",
    "my_dna.find(\"ACT\")"
   ]
  },
  {
   "cell_type": "code",
   "execution_count": 38,
   "metadata": {},
   "outputs": [
    {
     "data": {
      "text/plain": [
       "11"
      ]
     },
     "execution_count": 38,
     "metadata": {},
     "output_type": "execute_result"
    }
   ],
   "source": [
    "len(my_dna)"
   ]
  },
  {
   "cell_type": "code",
   "execution_count": 16,
   "metadata": {},
   "outputs": [
    {
     "data": {
      "text/plain": [
       "3"
      ]
     },
     "execution_count": 16,
     "metadata": {},
     "output_type": "execute_result"
    }
   ],
   "source": [
    "my_dna.count(\"A\")"
   ]
  },
  {
   "cell_type": "code",
   "execution_count": 17,
   "metadata": {},
   "outputs": [
    {
     "data": {
      "text/plain": [
       "2"
      ]
     },
     "execution_count": 17,
     "metadata": {},
     "output_type": "execute_result"
    }
   ],
   "source": [
    "Seq(\"AAAA\", generic_dna).count(\"AA\")"
   ]
  },
  {
   "cell_type": "markdown",
   "metadata": {},
   "source": [
    "Для нуклеотидных последовательностей можно получить **комплементарную** и **обратную комплементарную** последовательность, **транскрибировать**:"
   ]
  },
  {
   "cell_type": "code",
   "execution_count": 19,
   "metadata": {},
   "outputs": [
    {
     "data": {
      "text/plain": [
       "Seq('TCATGTGACCA', DNAAlphabet())"
      ]
     },
     "execution_count": 19,
     "metadata": {},
     "output_type": "execute_result"
    }
   ],
   "source": [
    "my_dna = Seq(\"AGTACACTGGT\", generic_dna)\n",
    "my_dna.complement()"
   ]
  },
  {
   "cell_type": "code",
   "execution_count": 20,
   "metadata": {},
   "outputs": [
    {
     "data": {
      "text/plain": [
       "Seq('ACCAGTGTACT', DNAAlphabet())"
      ]
     },
     "execution_count": 20,
     "metadata": {},
     "output_type": "execute_result"
    }
   ],
   "source": [
    "my_dna.reverse_complement()"
   ]
  },
  {
   "cell_type": "code",
   "execution_count": 21,
   "metadata": {},
   "outputs": [
    {
     "data": {
      "text/plain": [
       "Seq('AGUACACUGGU', RNAAlphabet())"
      ]
     },
     "execution_count": 21,
     "metadata": {},
     "output_type": "execute_result"
    }
   ],
   "source": [
    "my_dna.transcribe()"
   ]
  },
  {
   "cell_type": "markdown",
   "metadata": {},
   "source": [
    "Есть и обратная транскрипция:"
   ]
  },
  {
   "cell_type": "code",
   "execution_count": 22,
   "metadata": {},
   "outputs": [
    {
     "data": {
      "text/plain": [
       "Seq('AGTACACTGGT', DNAAlphabet())"
      ]
     },
     "execution_count": 22,
     "metadata": {},
     "output_type": "execute_result"
    }
   ],
   "source": [
    "my_rna = my_dna.transcribe()\n",
    "my_rna.back_transcribe()"
   ]
  },
  {
   "cell_type": "markdown",
   "metadata": {},
   "source": [
    "Конечно, есть и **трансляция**:"
   ]
  },
  {
   "cell_type": "code",
   "execution_count": 23,
   "metadata": {},
   "outputs": [
    {
     "data": {
      "text/plain": [
       "Seq('MAIVMGR*KGAR*', HasStopCodon(ExtendedIUPACProtein(), '*'))"
      ]
     },
     "execution_count": 23,
     "metadata": {},
     "output_type": "execute_result"
    }
   ],
   "source": [
    "coding_dna = Seq(\"ATGGCCATTGTAATGGGCCGCTGAAAGGGTGCCCGATAG\", generic_dna)\n",
    "coding_dna.translate()"
   ]
  },
  {
   "cell_type": "code",
   "execution_count": 24,
   "metadata": {},
   "outputs": [
    {
     "data": {
      "text/plain": [
       "Seq('MAIVMGR', ExtendedIUPACProtein())"
      ]
     },
     "execution_count": 24,
     "metadata": {},
     "output_type": "execute_result"
    }
   ],
   "source": [
    "coding_dna.translate(to_stop=True)"
   ]
  },
  {
   "cell_type": "markdown",
   "metadata": {},
   "source": [
    "Biopython не дает запутаться в этих процессех. Если мы попытаемся сделать что-то не то, вылетит ошибка. "
   ]
  },
  {
   "cell_type": "code",
   "execution_count": 25,
   "metadata": {},
   "outputs": [
    {
     "ename": "ValueError",
     "evalue": "Proteins do not have complements!",
     "output_type": "error",
     "traceback": [
      "\u001b[0;31m---------------------------------------------------------------------------\u001b[0m\n\u001b[0;31mValueError\u001b[0m                                Traceback (most recent call last)",
      "\u001b[0;32m<ipython-input-25-761237dc987a>\u001b[0m in \u001b[0;36m<module>\u001b[0;34m()\u001b[0m\n\u001b[0;32m----> 1\u001b[0;31m \u001b[0mmy_protein\u001b[0m\u001b[0;34m.\u001b[0m\u001b[0mcomplement\u001b[0m\u001b[0;34m(\u001b[0m\u001b[0;34m)\u001b[0m\u001b[0;34m\u001b[0m\u001b[0m\n\u001b[0m",
      "\u001b[0;32m/home/mouse/.local/lib/python3.5/site-packages/Bio/Seq.py\u001b[0m in \u001b[0;36mcomplement\u001b[0;34m(self)\u001b[0m\n\u001b[1;32m    771\u001b[0m         \u001b[0mbase\u001b[0m \u001b[0;34m=\u001b[0m \u001b[0mAlphabet\u001b[0m\u001b[0;34m.\u001b[0m\u001b[0m_get_base_alphabet\u001b[0m\u001b[0;34m(\u001b[0m\u001b[0mself\u001b[0m\u001b[0;34m.\u001b[0m\u001b[0malphabet\u001b[0m\u001b[0;34m)\u001b[0m\u001b[0;34m\u001b[0m\u001b[0m\n\u001b[1;32m    772\u001b[0m         \u001b[0;32mif\u001b[0m \u001b[0misinstance\u001b[0m\u001b[0;34m(\u001b[0m\u001b[0mbase\u001b[0m\u001b[0;34m,\u001b[0m \u001b[0mAlphabet\u001b[0m\u001b[0;34m.\u001b[0m\u001b[0mProteinAlphabet\u001b[0m\u001b[0;34m)\u001b[0m\u001b[0;34m:\u001b[0m\u001b[0;34m\u001b[0m\u001b[0m\n\u001b[0;32m--> 773\u001b[0;31m             \u001b[0;32mraise\u001b[0m \u001b[0mValueError\u001b[0m\u001b[0;34m(\u001b[0m\u001b[0;34m\"Proteins do not have complements!\"\u001b[0m\u001b[0;34m)\u001b[0m\u001b[0;34m\u001b[0m\u001b[0m\n\u001b[0m\u001b[1;32m    774\u001b[0m         \u001b[0;32mif\u001b[0m \u001b[0misinstance\u001b[0m\u001b[0;34m(\u001b[0m\u001b[0mbase\u001b[0m\u001b[0;34m,\u001b[0m \u001b[0mAlphabet\u001b[0m\u001b[0;34m.\u001b[0m\u001b[0mDNAAlphabet\u001b[0m\u001b[0;34m)\u001b[0m\u001b[0;34m:\u001b[0m\u001b[0;34m\u001b[0m\u001b[0m\n\u001b[1;32m    775\u001b[0m             \u001b[0mttable\u001b[0m \u001b[0;34m=\u001b[0m \u001b[0m_dna_complement_table\u001b[0m\u001b[0;34m\u001b[0m\u001b[0m\n",
      "\u001b[0;31mValueError\u001b[0m: Proteins do not have complements!"
     ]
    }
   ],
   "source": [
    "my_protein.complement()"
   ]
  },
  {
   "cell_type": "markdown",
   "metadata": {},
   "source": [
    "Класс **SeqRecord** - это расширенный **Seq**, у него есть все те же функции и ещё много своих. О нем мы подробнее поговорим позже."
   ]
  },
  {
   "cell_type": "code",
   "execution_count": 31,
   "metadata": {},
   "outputs": [
    {
     "data": {
      "text/plain": [
       "SeqRecord(seq='AAAAAAATTTTTCCCG', id='some_id', name='some_name', description='<unknown description>', dbxrefs=[])"
      ]
     },
     "execution_count": 31,
     "metadata": {},
     "output_type": "execute_result"
    }
   ],
   "source": [
    "from Bio.SeqRecord import SeqRecord\n",
    "\n",
    "dna_seq_record = SeqRecord(\"AAAAAAATTTTTCCCG\", id=\"some_id\")\n",
    "dna_seq_record.name = \"some_name\"\n",
    "\n",
    "dna_seq_record"
   ]
  },
  {
   "cell_type": "markdown",
   "metadata": {},
   "source": [
    "## SeqIO - чтение и запись последовательностей"
   ]
  },
  {
   "cell_type": "markdown",
   "metadata": {},
   "source": [
    "<img src=\"files/images/table.jpg\" alt=\"Drawing\" style=\"width: 700px;\" align=\"left\">"
   ]
  },
  {
   "cell_type": "markdown",
   "metadata": {},
   "source": [
    "Для загрузки последовательностей используется функция **SeqIO.parse()** которая берет на вход файл и имя формата, и возвращает итератор **SeqRecord**. Например:"
   ]
  },
  {
   "cell_type": "code",
   "execution_count": 28,
   "metadata": {},
   "outputs": [
    {
     "name": "stdout",
     "output_type": "stream",
     "text": [
      "CP009459.1\n",
      "CP012264.1\n",
      "CP018628.1\n",
      "CP024545.1\n",
      "CP022823.1\n",
      "CP022139.1\n",
      "CP022062.1\n",
      "CP022069.1\n",
      "CP001113.1\n",
      "CP017177.1\n",
      "FN543502.1\n",
      "CP011132.1\n",
      "CP014015.1\n",
      "CP014070.1\n",
      "AP014857.1\n",
      "CU928158.2\n",
      "CP024650.1\n",
      "CP024717.1\n",
      "CP023142.1\n",
      "CP014225.1\n",
      "CP022073.1\n",
      "CP018810.1\n",
      "CP022049.1\n",
      "CP003026.1\n",
      "CP019889.1\n"
     ]
    }
   ],
   "source": [
    "from Bio import SeqIO\n",
    "for record in SeqIO.parse(\"example.fasta\", \"fasta\"):\n",
    "    print(record.id)"
   ]
  },
  {
   "cell_type": "markdown",
   "metadata": {},
   "source": [
    "Можно сразу записывать всё в словарь."
   ]
  },
  {
   "cell_type": "code",
   "execution_count": 29,
   "metadata": {},
   "outputs": [],
   "source": [
    "record_dict = SeqIO.to_dict(SeqIO.parse(\"example.fasta\", \"fasta\"))"
   ]
  },
  {
   "cell_type": "markdown",
   "metadata": {},
   "source": [
    "Для записи последовательностей в файл используется функция **SeqIO.write()**, которая берет на вход итератор **SeqRecord** (или список), выходной файл и формат:"
   ]
  },
  {
   "cell_type": "code",
   "execution_count": 37,
   "metadata": {},
   "outputs": [
    {
     "data": {
      "text/plain": [
       "25"
      ]
     },
     "execution_count": 37,
     "metadata": {},
     "output_type": "execute_result"
    }
   ],
   "source": [
    "sequences = SeqIO.parse(\"example_align.fasta\", \"fasta\")\n",
    "SeqIO.write(sequences, \"out.txt\", \"clustal\")"
   ]
  },
  {
   "cell_type": "markdown",
   "metadata": {},
   "source": [
    "Для преобразования файла из одного формата в другой удобно использовать специальную функцию **SeqIO.convert()**:"
   ]
  },
  {
   "cell_type": "code",
   "execution_count": 39,
   "metadata": {},
   "outputs": [
    {
     "data": {
      "text/plain": [
       "25"
      ]
     },
     "execution_count": 39,
     "metadata": {},
     "output_type": "execute_result"
    }
   ],
   "source": [
    "SeqIO.convert(\"example_align.fasta\", \"fasta\", \"example_align.clustal\", \"clustal\")"
   ]
  },
  {
   "cell_type": "markdown",
   "metadata": {},
   "source": [
    "# Align, AlignIO - работа с выравниваниями"
   ]
  },
  {
   "cell_type": "markdown",
   "metadata": {},
   "source": [
    "**AlignIO** использует такие же функции, как **SeqIO**, и такие же обозначение форматов. Чтение выравнивания - функции **AlignIO.parse()**, если выравниваний в файле несколько, или **AlignIO.read()**, если выравнивание одно."
   ]
  },
  {
   "cell_type": "code",
   "execution_count": 43,
   "metadata": {},
   "outputs": [
    {
     "name": "stdout",
     "output_type": "stream",
     "text": [
      "Alignment length 150\n",
      "GGEVHIDIYDDRVELVSPGAMLDGTQIQD-RDIYKVP------SMRRNPVIADMFTQL-------------D-------Y------------M------E----KRGSGLR-KMRELTEKLPNFLQGKEPQY-Q-T-EA--TS--FYTTF A6L2Y0_BACV8/285-377\n",
      "GAEVTVYVFDDRLEITSPGGKVDGMLHED-ADLGAIE------SVRRNPVIADLFQRM-------------R-------F------------M------E----RKGSGLK-LIRERTALAPNYEERFMPRF-V-D-DG--RF--FKVVL C8WJ53_EGGLE/291-383\n",
      "GSEIHIDMFDDRVEITSPGGMFGGGSIQE-YDIYSIR------SMRRNPVIADLFHRM-------------K-------Y------------M------E----RRGSGLR-KIVSETEKLPGYTEAYKPEF-S-S-TA--TD--FRVIL D4L323_9FIRM/93-185\n",
      "GSEIHIDMYPDRVEITSPGGMPDGSKIQA-LDVSTIP------SMRRNMIISDVFGRL-------------R-------I------------M------E----RRGSGLS-RIIDGYND-----FEVKPAF-Y-S-ES--SY--FRVTL A2SRV3_METLZ/94-181\n",
      "GSEVHIDMYDDRLEVYSPGGMFDGNFVQN-IDLYNVW------SIRRNPILADLFARM-------------N-------L------------M------E----RRGSGLK-NILEIYASKENYREDLKPEF-R-S-TE--SA--FFVVL Q9PRA7_UREPA/288-380\n",
      "GSEVHIDIYDDRMEIYSPGGMPDGSMIQD-RDPFTVA------STRRNPVLADVFNRL-------------G-------Y------------M------E----RKGSGFG-KIISGYEFQINYNESKRPSF-R-S-DR--YE--FTVVM G2T110_ROSHA/114-206\n",
      "GSEVHIDMFDDRIEIYSPGGMVSGISLEG-KDLLKIP------SKRRNPILADIFSRL-------------K-------Y------------M------E----RRGSGFK-KILADYEGQVEFDESKMPVF-D-A-DN--DD--FTLTL G2T498_ROSHA/287-379\n",
      "GTEVHVEMYDDRLVISSPGGIYGGGELEP-MSDGSYI------SKRRNPILADIFSRL-------------R-------Y------------M------E----RRGSGIK-KIFEATKNLYGYTEEKKPFFLV-N-KQ--ND--FFLTI Q7MUJ8_PORGI/28-121\n",
      "GTQIQVDMFKDRLEISSPGSFYRGEKIGKTYDLSGII------SKRRNELITAVLVSC-------------N-------V------------M------E----AAGTGFD-KIVEEYKM---ADEMHRPYI-Y-S-SS--DH--FTLVL R6PP38_9CLOT/297-387\n",
      "GAHSQVDIYDDRIVITNPGGMFDGSEVQL-LDIRHVP------SKLRNPILADVFGRM-------------R-------L------------M------E----RRGSGFK-KILDAYEAEERYKEELKPVF-Y-T-DG--YN--FFLTL R6ZLR7_9FIRM/220-312\n",
      "GSEVHIDIYDDHLTITSPGGMADGTRIQE-RDISNVS------STRRNPALADIFGRL-------------G-------Y------------M------E----RQGSGFK-KITETYRAAHNYRDELEPKF-Y-S-DA--SS--FQVTL R6RDV0_9FIRM/236-328\n",
      "GTDVTFFIYDDRIEIISPGNLKFPLTLNN---LEDGN------SVRRNEIICNLFHHT-------------K-------Y------------M------E----QYGTGIE-RIKTKMIE----HGLPAPKF-E-L-NG--NF--FKVIL A5UMU2_METS3/59-145\n",
      "GSFIQFYIYDDRIEIISPGNLLYPLKVSN-LK-NIEV------PVHRNKNICNLFSKT-------------I-------F------------M------E----HVGSGIQ-RMCDEMRK----SGLREPEF-I-N-GE--GF--FKVIF D3DYK5_METRM/313-400\n",
      "GRKIILEVFPDRVIVSSPGLPPAPITLAN-LRKGNYR------PCSRNPVLAQCLSYF-------------H-------R------------I------E----ERGSGFR-RMRDQMLN----HGLDKPLI-G-T-DT--GY--FQVTF Q8TN80_METAC/333-421\n",
      "GANVFVQIFSDRIEIISPGGLPPGMQQTD----LGHK------SVRRNPIIADLYHRI-------------G-------F------------I------E----KAGTGIE-RMREGARE----SGCPEPVF-D-A-DG---F--FTVTF Q2FSK2_METHJ/285-369\n",
      "GGNVFVEIYDDRIEVSSPGTLPKGMLPED----LGSK------SIRRNPLIADLLHRI-------------A-------F------------I------E----KAGTGIR-RMRDGARE----MGYPEPEF-I-A-G---NF--F---- A1BH47_CHLPD/285-365\n",
      "GASIMIEMFDDRVEISNPGGLLPVVAKD-----FGHK------SMTRNPLIFGLFTRM-------------H-------L------------V------E----RVASGIP-RMQEAMRE----ANLPEPEF-H-T-EG---M--FTVVF Q5LA84_BACFN/292-375\n",
      "GGRITIELFNDRVEVTNPGGLVSSITKN----EFGKK------SSSRNPLIFGLFERM-------------R-------L------------V------E----QIGSGIS-RMRDLMKE----EGLTPPEF-N-T-DG--M---FTVAF A6GZU8_FLAPJ/294-378\n",
      "GATVMVEVYDDRVEISNPGGLLPIVAEN-----FGEK------SMSRNPLIFGLFTRM-------------Q-------L------------V------E----KVGSGIP-RMRRLMKE----AGLPEPEF-D-N-KG---F--FTVTF B2UMW3_AKKM8/292-375\n",
      "GEGIRIAMFVDRLEVYSPGRLPGHVTIDN-I---AAE------RFSRNETLVQVLADL-------------G-------L------------I------E----RLGYGID-RMQRQMAD----AGLPPPEF-R-E-TA--AG--FLVTL A9B532_HERA2/290-375\n",
      "GTDIQIKMFDDRIVVESPGRLPGLVKAGN-I---RHT------HFSRNPKIAEFLRDY-------------N-------F------------V------K----EYGEGVD-RMCRELEA----AGLQSPEY-R-V-NA--FM--LQATI D4JAQ7_9FIRM/299-384\n",
      "GTEIQIKMFDDHLVVESPGNLPSQVKIDK-I---RNA------HFARNSHIAEYLKDY-------------K-------Y------------V------K----DFEEGVD-RMYREMEA----SGLPVPEY-R-Q-DS--FI--LKVI- D9SA51_FIBSS/304-388\n",
      "GDCIRISMFDDRLEIFSPGGLPRPVTLEN----MYYT------RFSRNPKIARVLYEF-------------G-------W------------V------K----ELNEGVN-RMAEEMNA----YQLNTPSYFE-P-NE--NA--VRLIL M9X217_MANHA/300-386\n",
      "GNSIYIKHFDDRLEISNSGPLPAQVTIEN----IKTE------RFARNPRIARTLEDL-------------G-------Y------------V------R----QLNEGVT-RIYESMEK----SMLSKPEY-Q-E-KN--GN--VYLTL F4HF71_GALAU/308-393\n",
      "GDHIRIKMFDDRLEISSPGVLPASVTLEN----IKEE------RYSRNPKLAAALTQY-------------K-------W------------V------R----ESNEGVG-RIFDEMKD----YFLDDPVY-S-EPNN--SS--VQLTL E8SEG4_STAPH/299-385\n",
      "GEHIKVLIFDDRLEILSPGLLPNIVTIEN-IL---NQ------RYSRNPRIARTLCEF-------------G-------W------------V------K----EMNEGVK-RIYSEMEK----LFLKEPKY-A-E-PN--NS--VLLVL D6ZHJ0_MOBCV/303-388\n",
      "GNFIKVSMYDDRLEIESPGKLPNIVTLAN-I---RET------RYSRNPRISRVMTEF-------------G-------W------------V------R----EVNEGVK-RIYEDMAE----LFLDDPVY-S-E-PG--ES--LRLLL F4EZE0_SELS3/311-396\n",
      "GDHVRVEIFPSRMEITSPGRFPGLADPSD---PQSIG------RHARNPRIARVCADL-------------G-------I------------T------Q----ELGEGIR-RMFVEMRR----RGLTDPLY-T-Q-SP--SA--VRLVL C7NJ44_KYTSD/290-376\n",
      "GDHIRFEMYPGRIEVSSPGRFPGLVDPDK---PESIA------RFARNPLIARVTAEL-------------R-------I------------G------Q----ELGEGIR-RMFAGMRR----VGFTDPVY-R-Q-TS--GS--VILTL D7WAN9_9CORY/295-381\n",
      "GREIEIWFFDDRMEIQSPGDLVPPVTIEQ-LKNRQRV------HASRNPLLVRVLVDA-------------G-------I------------M------R----EEGEGIP-RIFEEMEE----SLLCQPEF-S-L-ET--ST--FCITL A5G544_GEOUR/313-401\n",
      "NSPIRLLVFDNRIEIISPGCLPNSLVVEE---LRYGN------PVVRNNLMVSYALHT-------------M-------P------------Y------R----GLGSGLK-RAFEQQPN-------IELIN-D-T-EG--EQ--FKVII Q3ARL2_CHLCH/313-396\n",
      "GSKIRIFMFDNRIEFHSPGKLPNTVTIEK---MKIGV------SYARNPFLVKYMENM-------------R-------Y------------I------D----QLGRGVP-MILKTMKD----LGAREPLL-Q-E-SG--EE--FVLTV A5N0X7_CLOK5/304-390\n",
      "GQRIRLFMFSDRLEIHSPGALPNTLSLES----MTRL------SVPRNEILASLFARYYPVDD--PTLGRRL-------L------------M------D----RRGFGVE-MILRESER----LSGRRPLY-EAI-GD--LE--LCLTI D3RQL2_ALLVD/307-404\n",
      "GAPVQVHLFTDRLEITSPGALPNSQSVES----IALR------TATRNELLTNLLARC-------------P-------VEMEGV--GRSRVM------E----KRGEGVP-QILNRSER----LSGHRPKF-ELL-GE--NA--LRVTL Q8PD21_XANCP/311-407\n",
      "GAKIRLRMFADRLELYSPGAIPNTMTVES----LPYR------QAARNEAITSLLAKCSVPEADKAITGRSA-------M------------M------D----KRGEGVQ-IILDQSER----LSGKRPVY-RLV-DD--SE--LLLII A1WBU1_ACISJ/313-412\n",
      "DAKIRLRVFADRMELYSPGAIPNTMTVDS----LPYR------QAARNETITSLLAKCRVPDEGGLGTGRST-------M------------M------D----KRGEGVS-IILQNSEM----LSGRVPEY-SLV-DD--SE--LRLVI Q0A8E7_ALKEH/313-412\n",
      "GAKVRLRLFADRLELYSPGMLPNTMTPES----LPFR------QAARNEALTSLLARCPVGDDE-LALYRSH-------L------------M------D----KRGEGVS-IILARSEA----LSGKRPEY-Q-M-ND--DS-ELVLTI Q602Q2_METCA/316-414\n",
      "GAKVRLRLFADRLEIYSPGMLPNTMDTES----LVER------QSARNEALASLLARC-------------P-------MEDSSFAPYRNFIM------D----RRGEGVP-IILRETLE----LGGKPAHY-R-M-ID-QSE--LLLVI A1WL64_VEREI/316-414\n",
      "GSPIEVQIWPDKIEILSFPGPVPPVTAEV-L-ARNRRI---VARDYRNRRVGDFLKEL-------------H-------L------------T------E----GRGTGIP-TIKRAMEL----NGSPAPLF-E-T-DE--DSSYFLTVL B4S9N1_PROA2/318-410\n",
      "HSPIQIIRYSNRIEIRNVGHSLKPVAEL-----GIPG------SRLRNPTLSAVLHDL-------------N-------L------------A------E----AKGTGIR-SMRRLAAE----AGLTLPEF-H-S-SRESDE--FRVTL C4KBH4_THASP/325-411\n",
      "GAPIQIYMFTDRLEIHSPGSLYGRMTVEQ---LGKAK------LDLRNPALAVMAEMI-------------I-------E------------A------E----NRYSGIP-TMYREMHA----FGLPEPQF-E-N-RR--DE--FVVTF C9LXT2_SELS3/317-403\n",
      "GMPIQIIMYEDRMEIKNPGGIYGRIKVDQ---LGKMQ------PDTRNPVLALALETL-------------R-------I------------T------E----NRYSGIP-TIRREMEK----FHLREPEF-A-D-ER--GS--FTVTF R5HQB6_9FIRM/317-403\n",
      "GMPIQLIMFEDRIEIHNPGGLYGRITIDQ---LGKIQ------PDTRNPVLASALETL-------------G-------I------------T------E----NRYSGIP-TIRMEMEK----YNLRQPEF-L-D-ER--GS--FIVKL R7FQ17_9FIRM/317-403\n",
      "GTQVHISVFTDRIEITNPGGLYGMVTHDV--LASPHPVTGAPFVSTRNQFLFTLLEST-------------P-------Y------------PGGGFVNP----EGGDGYQ-RIAAALRE----AGIEPATT-R-N-DI--NT--FTMTI Q8G5V4_BIFLO/319-418\n",
      "GSQVQINMFVDRLEITNPGGLYGGVTLRN-LG-EAGV------SSTRNQRLATFLEDI-------------P-------LPEG------GVAA------E----NRGTGIA-TIHQALAD----ALMPKPEI-I-N-RL--DS--FTIIF C3PJX5_CORA7/310-403\n",
      "GTQVQVNMFVDRLEITSPGGLFGGVTVDS-LG-KDGL------SSTRNQWLATFLENV-------------RTPD-GGLV------------A------E----NRGTGFA-VIEQSLAD----ALMPPAKV-R-E-SL--TS--FTIIF D6ZL83_MOBCV/326-419\n",
      "GSQVQVNMFVDRLEISNPGGLYGNVTEQN-IR-KPGN------SSTRNQRISHFLEST-------------D-------FPGG------GLVA------E----NRGTGIA-VIDKSLEQ----ALMPPAQI-I-N-RL--DS--FTIVF Q6NEH4_CORDI/313-406\n",
      "GGQVQINMFVDRLEITSPGGLYGGVTVEN-LG-DAGV------SSSRNQRLASFLEDLTFD-------GGGP-------V------------A------E----NRGSGIA-TMNRALQE----ALMAPPEF-I-N-RI--TD--FTVIF D7WEQ7_9CORY/313-406\n",
      "DRHVLIEVSEDAVVIASPGNLFTSTDPEL--LGLSPI------SGVRNLTLVRISEQLRSP-------RGAR-------I------------V------E----NQTSGIE-AADRACHI----EGTMPALF-I-D-RP--DS--FQVLV D1BYM8_XYLCX/309-402\n",
      "-LAVEVRLLRDRLVVANPGGLY-GITVDR-L-GRDAV------TSARNARLVAICQHVRSP------QTEAR-------V------------I------E----ALASGIP-TVTEALAD----HGLPPAHY-V-D-SG--IR--FTVVL A8L0B0_FRASN/308-400\n",
      "GKFIQIFIKRGRIEIISPGGFWGILPSQ--V-GLVHR------PAAVNEALYAICQNI-------------R-------LSDG------HRLI------E----GEGGGIL-AAQQALVD----AGLRKAHI-I-D-EG--IQ--VRVII D2NQ58_ROTMD/308-400\n",
      "GKSIDVRLLPDKMVISSPGGLR-DLTVEQ-LKSRDLA------RQEINQRLYRLCRYL-------------KADD-GSFV------------I------E----GEGGGVQ-LMLDAARE----QGLPEPDL-I-D-SG--VQ--FTVKM C3PKV4_CORA7/318-411\n",
      "GKWVEIRLCDDRLVISNPGGLR-GVSVKQ-LESATLS------KNAVNPRLYDIAKRV-------------R--------------------------------TEGAGIQ-EVLRQTCQ----ALLAKPQL-I-D-TG--VQ--FTAIL Q6NEG5_CORDI/70-154\n",
      "GKKVEIRLSPEALVVVNPGGLR-GVSVDQ-LTSAELS------KAAVNQRLYEASKFL-------------T-------T------------Q------DGASVIEGEGIR-ETLASMRD----ADLHRPRF-I-D-TG--VQ--FKVIL Q8FM23_COREF/249-340\n",
      "GAQVQVEMYPDRLVIRNPGGLFGPVTVDS-LG-EEGV------SSARNATLIKILEDV-------------P-------LPGE-----TRTVC------E----NRGSGIR-AMLDSLLA----AGMSPPDF-N-D-KI--SS--FVVVF A8L672_FRASN/318-412\n",
      "GSQIQVSLFPDRLTISNPGGLFGTVTLDN-ID-QPDV------QQARNSALMRIAEDS-------------G-------I------------V------E----NRGGGVG-AIIAAMRK----YNLSPPLF-K-N-TL--SR--FNLTF C8VVL1_DESAS/322-409\n",
      "GTQVQVEVYPDRITVRNPGGLFGAVRMSS-LG-EPGL------SSARNALLLKLLEDV-------------E-------VPGE-----GRTVC------E----NRASGIR-TIVRAMSA----AGLPDPLF-A-D-HI--SW--FEVTL E3IZ50_FRASU/321-415\n",
      "GSQVQVELYTNRLVVRSPGGIYGAVTIRD-FG-QPGV------SSTRNSYLASILTDL-------------PDPGTGRLI------------A------E----NRASGIP-TVLRALKD----AGLPAPQF-A-D-RL--LY--VQVTL D2NPY0_ROTMD/292-386\n",
      "GTQVQVDLFADRLEVRSPGGIFGGISVED-LG-EEGV------SSSRNGVLASLLSDA-------------Y-------LPAS-----DSVVA------E----NRASGVP-TMIQVARD----HGLPRPVF-R-S-TV--SS--FVANM D1BYJ6_XYLCX/315-409\n",
      "-DPVNIDVYSDRVEISSPGNLWGGKTLQN---LTNGV------SRCRNTTLMQLLQKT-------------P-------LIRGD---HDGSAV------E----GQGSGIQ-FMINRMKE----LSLAQPDF-H-P-TF--DR--FRVIL B8DV21_BIFA0/23-117\n",
      "GQSIAVDVFDDRVEVTNPGGLYGGKTREN---LFDGS------SRCRNATLVKLMSIV-------------P-------LPDG-----AGSPA------D----GNGSGIP-MMIDAMRA----HGLAEPLF-C-P-GF--DR--FKVVL R5ZIK8_9ACTN/321-414\n",
      "GGRIYLNEFEDKIILTNPGSFLPGKIEKV-LDPGYNP------PFYRNQLLAETMVKL-------------N-------M------------I------D----SQSIGIR-RVFRIQRD----RYFPLPDY-DLS-NR--QQ--VKVCV D4JA98_9FIRM/324-413\n",
      "GGRIYVNEFEDKIKFTNPGDFIPQKIENV-LEVSYNP------PFYRNQLLAESMVVF-------------H-------M------------I------D----TATLGIR-RAFNIQKA----KYFPMPDY-NIS-SG--TQ--VEVT- R5K561_9CLOT/329-417\n",
      "GSEIKIEVYDNRVEITNPGKSV----IDL-WR-FYDC------NKSRNEKLAYYMRQL-------------K-------L------------C------E----ELGSGID-RIVEISEL----NNLFTPKF-I-I-TN--EY--VNAKL Q8RID9_FUSNN/321-404\n",
      "GASVMIEMYDDRVEISNPG-LPPIQVERF-I----DE------YRSRNERLADLMRRL-------------G-------I------------C------E----EKGSGID-KVISASEV----FQLPAPDF-R-A-GE--LR--TTAVL D5SQL4_PLAL2/303-386\n",
      "---PVVEIYENRIEVTNPGSSL--ISTDR-I---LDE------RRSRNEKLAATMRSF-------------G-------L------------C------E----ERGGGLD-KTLIEIEA----QHLPAPDF-I-S-SE--SS--MRVVL Q6W1B7_SINFN/320-400\n",
      "GAGPMIEIFTDRIEISNPGRPL--LPVD---RLLDKP------PRSRNESLASFMRRV-------------G-------M------------C------E----ERGSGID-RVVASTES----YQLPAPEF-M-E-AD--DS--FRATL Q2KZ74_BORA1/322-406\n",
      "GAGPMIEIFADRMEISNPGVPL--VDVDR---FLDTP------PRSRNEALASLMRRF-------------G-------I------------C------E----ERGSGVD-KVVFETEA----YQLPAPEF-A-I-AL--EN--T---- G8MLL9_9BURK/320-400\n",
      "GTAPMVEIFSNRMEISNPG-LPLVKTDR----FLDSP------PKSRNECLASFMRRI-------------G-------V------------C------E----ERGSGVD-KVVFQTEF----YQLPAPLF-E-I-TD--EH--TRAVL B3E3V0_GEOLS/321-405\n",
      "GAGPQIEIFEDRMEITNPGRPL--VQAE---RMIDLP------PRSRNEALASLMRRM-------------G-------F------------C------E----EQGSGLD-KVIAQVEL----YQLPPPLF-R-E-GA--NS--MQVIL D6Z420_DESAT/319-403\n",
      "GAGPTIEIFDDRISFTNPGTLLPSKRLD---RLIGTT------PESRNERLASKFRLY-------------R-------I------------C------E----ERGTGFQ-KIVAAVEI----FGLPPVSF-K-P-LE--NA--FQVTL A1K1B8_AZOSB/316-402\n",
      "GDGPVIEIFNNRVDITNPGAPL--VEPE---RFIDAP------AKSRNERLAGIMRRL-------------G-------I------------C------E----ERGSGVD-RALDEIER----QALPPPLF-T-K-LQ--NS--TSVSV A7IKW6_XANP2/316-400\n",
      "GAGPMVEIFDDRIEITNPGEPL--VDTQ---RFVDTP------PKSRNETLASMMRRF-------------R-------I------------C------E----ERGSGID-KVIAQIEI----YQLPAPLF-E-V-PE--GF--TRVVL A1BE69_CHLPD/40-124\n",
      "GRNPMIEMYSDRIEITNNGKSL--IDIKR---LIDMP------SKSRNDKLANLMRIM-------------G-------I------------C------E----ERGSGVD-KVIDSVEA----YQLPAPDF-I-N-NE--DY--FQAIL Q0P873_CAMJE/320-404\n",
      "-TDIELSIYEDRLEITSPGRLPNGITPAR---MLTGC------RATRNQLIKDVMRDY-------------R-------Y------------L------E----HSGMGVPRKIVKCMRE----HNGTEPQL-I-E-DG--EL--FTVRL B7JB75_ACIF2/315-401\n",
      "-CYIQIAIFDDRIEFTNPGGLPFGQTIQK---ALMGF------SKLRNRVIGRVFKEL-------------K-------L------------I------E----QWGSGLQ-RIIAVCEK----EGLNIPLI-E-E-HN--NQ--FRLTL F8KZB6_PARAV/287-372\n",
      "GVPIRLSFFDDRIEVENPGILLPGMTIED---VKSGV------SKIRNRVIARVFREL-------------D-------L------------I------E----QWGSGFR-RILQEASD----LELTEPVI-E-E-IG--MR--VRVRV Q2FRB8_METHJ/41-127\n",
      "GAPIRISFFDDRIEIENPGILLPGMTIED---MRQGV------SKIRNHVIARVFREL-------------N-------L------------I------E----QWGSGVR-RIFKEAEQ----LGLPEPQI-I-E-VG--MR--VRVVV D9SEE9_GALCS/290-376\n",
      "GAPIRIAFFDDRIEIENPGTLLPGMTLDT---MRQGS------SRIRNHVIARIFREL-------------N-------L------------T------E----RWGSGIR-AIFNEATD----YGLPEPQI-M-E-IG--MR--VRMVI B4S9Z0_PELPB/280-366\n",
      "GMHCRLMIYSDRMEIESPGMLPFGYTMED---FFSGV------SHVRNKVIARVFREL-------------R-------F------------I------E----EWGTGYK-RIEAVCRK----DNYPLPVW-Q-E-LG--LA--LRVII F8L2G0_PARAV/291-377\n",
      "GRDIKVGIYDDIVNIVSPGGFPSGITHTT---LGEGR------SEIRNRTIARVFKEL-------------G-------Y------------I------E----QWGSGLQ-RIKNTCLQ----QGLKEPQV-R-E-AG--DF--VDVEF B3PH44_CELJU/287-373\n",
      "ESCIQVAIYDDRLEVTSPGGLYNGLTYEE---VMNGH------SKIRNKAIVNIFSQM-------------G-------L------------V------E----AWGSEIK-RIFNAAKE----YGLSEPKF-Q-E-FD--NM--FRVEL D4LVZ4_9FIRM/3-89\n",
      "GKDIKIAIFDDKIEITSPGKLMPTIDFD---DMESGQ------SDIRNKVLASVFKKL-------------G-------I------------I------E----QWGNGLR-LIADDLRK----YPEIKFEW-S-E-PG--IS--FRVTF D3PB21_DEFDS/295-381\n",
      "GSDIQVKIFDDRISIFSPGRLYAGLQLDE-LQHDNYR------SRLRNKLVAEGFYLT-------------T-------A------------I------E----KYGSGFI-RIRDALRD----YPDIRLDL-E-E-IS--GG--FSVTF Q5NZR1_AROAE/284-372\n",
      "GNAPMFTVFNDRIEILSRGTLAPAQTLEG---FYTGD------SVPVNKRLSDIFLQL-------------H-------I------------S------E----RSGRGVP-KITQVYGR-------EAFEF-R-E-----NS--IIVTI D4M7W2_9BACT/297-378\n",
      "GGSVGIAIYDDRVEIENPGTFPHGWDMER-MK-SEHC------SEPRNPLIANVLYKR-------------K-------L------------L------E----NWGRGIS-LMTEECRK----ANLPEPEF-K-L-AN--GF--VILV- Q8A2H8_BACTN/303-389\n",
      "GGAVSLAIYDDRLEIWSDGTLPSGLTPED-LK-RDHT------SKPSNPLIAKVFYLR-------------G-------V------------I------E----RWGRGTQ-KIVELCVK----AGHPEPEF-G-E-QA--GS--VWVRF A0LT26_ACIC1/298-385\n",
      "GAPIQIRVYEDQLWIANDAIIPPDFTVEH--LLSRHV------SKPHNPLIAGAFFRT-------------G-------D------------I------E----SWGRGIE-KVRTACEE----NGTDFPSF-R-F-EP--TG--LMVMF A8ZS42_DESOH/200-287\n"
     ]
    }
   ],
   "source": [
    "from Bio import AlignIO\n",
    "\n",
    "alignment = AlignIO.read(\"PF13749_seed.txt\", \"stockholm\")\n",
    "print(\"Alignment length {0}\".format(alignment.get_alignment_length()))\n",
    "\n",
    "for record in alignment :\n",
    "    print(record.seq, record.id)"
   ]
  },
  {
   "cell_type": "markdown",
   "metadata": {},
   "source": [
    "Так же, как и в **SeqIO**, для вывода существует единственная функция **AlignIO.write()**. "
   ]
  },
  {
   "cell_type": "markdown",
   "metadata": {},
   "source": [
    "### Срезы выравнивания"
   ]
  },
  {
   "cell_type": "markdown",
   "metadata": {},
   "source": [
    "Можно получить конкретную букву из конкретной последовательности:"
   ]
  },
  {
   "cell_type": "code",
   "execution_count": 44,
   "metadata": {},
   "outputs": [
    {
     "data": {
      "text/plain": [
       "'E'"
      ]
     },
     "execution_count": 44,
     "metadata": {},
     "output_type": "execute_result"
    }
   ],
   "source": [
    "alignment[0].seq[2]"
   ]
  },
  {
   "cell_type": "markdown",
   "metadata": {},
   "source": [
    "или"
   ]
  },
  {
   "cell_type": "code",
   "execution_count": 45,
   "metadata": {},
   "outputs": [
    {
     "data": {
      "text/plain": [
       "'E'"
      ]
     },
     "execution_count": 45,
     "metadata": {},
     "output_type": "execute_result"
    }
   ],
   "source": [
    "alignment[0,2]"
   ]
  },
  {
   "cell_type": "markdown",
   "metadata": {},
   "source": [
    "А можно выбрать диапазон последовательностей и диапазон колонок (кусок выравнивания):"
   ]
  },
  {
   "cell_type": "code",
   "execution_count": 46,
   "metadata": {},
   "outputs": [
    {
     "data": {
      "text/plain": [
       "<<class 'Bio.Align.MultipleSeqAlignment'> instance (10 records of length 8, SingleLetterAlphabet()) at 7fb7c15706a0>"
      ]
     },
     "execution_count": 46,
     "metadata": {},
     "output_type": "execute_result"
    }
   ],
   "source": [
    "alignment[0:10,2:10]"
   ]
  },
  {
   "cell_type": "markdown",
   "metadata": {},
   "source": [
    "... или столбец:"
   ]
  },
  {
   "cell_type": "code",
   "execution_count": 47,
   "metadata": {},
   "outputs": [
    {
     "data": {
      "text/plain": [
       "'EEEEEEEEQHEDFKNNSRTGDECSHHFHHEPKRPKKKKPPPPPQQQQQHAFSWKQQQQQPSRRES-GGAGGGGNDYPPPHDCDDASAP'"
      ]
     },
     "execution_count": 47,
     "metadata": {},
     "output_type": "execute_result"
    }
   ],
   "source": [
    "alignment[:,2]"
   ]
  },
  {
   "cell_type": "markdown",
   "metadata": {},
   "source": [
    "# Реальный кейс (задача)"
   ]
  },
  {
   "cell_type": "markdown",
   "metadata": {},
   "source": [
    "Речь про участок генома *E.coli*, окруженный генами биосинтеза убихинона."
   ]
  },
  {
   "cell_type": "markdown",
   "metadata": {},
   "source": [
    "<img src=\"files/images/case.jpg\" alt=\"Drawing\" style=\"width: 800px;\" align=\"left\">"
   ]
  },
  {
   "cell_type": "markdown",
   "metadata": {},
   "source": [
    "В этой статье говорят, что там закодирована нкРНК (esrE), жизненно необходимая организму.\n",
    "<img src=\"files/images/papers.jpg\" alt=\"Drawing\" style=\"width: 800px;\" align=\"left\">"
   ]
  },
  {
   "cell_type": "markdown",
   "metadata": {},
   "source": [
    "А в этой статье говорят, что никакой нкРНК там нет, а это белок-кодирующий ген с неясной функцией. \n",
    "<img src=\"files/images/papers2.jpg\" alt=\"Drawing\" style=\"width: 800px;\" align=\"left\">"
   ]
  },
  {
   "cell_type": "markdown",
   "metadata": {},
   "source": [
    "Как понять, кто из них прав?"
   ]
  },
  {
   "cell_type": "code",
   "execution_count": 48,
   "metadata": {},
   "outputs": [],
   "source": [
    "file_name = \"esrE_homologs_aligned.fasta\""
   ]
  },
  {
   "cell_type": "code",
   "execution_count": 48,
   "metadata": {},
   "outputs": [],
   "source": []
  },
  {
   "cell_type": "code",
   "execution_count": 48,
   "metadata": {},
   "outputs": [],
   "source": []
  },
  {
   "cell_type": "markdown",
   "metadata": {},
   "source": [
    "# Подключение к базам данных NCBI: модуль Entrez"
   ]
  },
  {
   "cell_type": "markdown",
   "metadata": {},
   "source": [
    "Бывает удобно скачивать информацию из баз NCBI на лету, внутри кода программы. Плохая новость: много так не накачаешь -- они трепетно отслеживают частоту и объемы скачиваний и банят за превышения. Хорошая новость: биопитон эти ограничения знает и частично сам отслеживает. \n",
    "Нам понадобится подпакет **Entrez**. \n",
    "При подключении необходимо представиться: на этот адрес ncbi будет слать гневные письма, прежде чем забанить. "
   ]
  },
  {
   "cell_type": "code",
   "execution_count": 3,
   "metadata": {},
   "outputs": [],
   "source": [
    "from Bio import Entrez\n",
    "Entrez.email = \"something@something.com\""
   ]
  },
  {
   "cell_type": "markdown",
   "metadata": {},
   "source": [
    "### 1. Доступные базы данных."
   ]
  },
  {
   "cell_type": "markdown",
   "metadata": {},
   "source": [
    "Получим список доступных баз данных:"
   ]
  },
  {
   "cell_type": "code",
   "execution_count": 51,
   "metadata": {},
   "outputs": [
    {
     "name": "stdout",
     "output_type": "stream",
     "text": [
      "['pubmed', 'protein', 'nuccore', 'ipg', 'nucleotide', 'nucgss', 'nucest', 'structure', 'sparcle', 'genome', 'annotinfo', 'assembly', 'bioproject', 'biosample', 'blastdbinfo', 'books', 'cdd', 'clinvar', 'clone', 'gap', 'gapplus', 'grasp', 'dbvar', 'gene', 'gds', 'geoprofiles', 'homologene', 'medgen', 'mesh', 'ncbisearch', 'nlmcatalog', 'omim', 'orgtrack', 'pmc', 'popset', 'probe', 'proteinclusters', 'pcassay', 'biosystems', 'pccompound', 'pcsubstance', 'pubmedhealth', 'seqannot', 'snp', 'sra', 'taxonomy', 'biocollections', 'unigene', 'gencoll', 'gtr']\n"
     ]
    }
   ],
   "source": [
    "handle = Entrez.einfo()\n",
    "record = Entrez.read(handle)\n",
    "print(record[\"DbList\"])"
   ]
  },
  {
   "cell_type": "markdown",
   "metadata": {},
   "source": [
    "### 2. Подключение к БД и поиск в ней."
   ]
  },
  {
   "cell_type": "markdown",
   "metadata": {},
   "source": [
    "Давайте подключимся к PubMed и узнаем размер базы и дату последнего обновления (здесь и далее строки про import и email пропущены):"
   ]
  },
  {
   "cell_type": "code",
   "execution_count": 53,
   "metadata": {},
   "outputs": [
    {
     "name": "stdout",
     "output_type": "stream",
     "text": [
      "dict_keys(['Description', 'FieldList', 'MenuName', 'DbName', 'LastUpdate', 'LinkList', 'DbBuild', 'Count'])\n",
      "28308824\n",
      "2018/04/15 04:04\n"
     ]
    }
   ],
   "source": [
    "handle = Entrez.einfo(db=\"pubmed\")\n",
    "record = Entrez.read(handle)\n",
    "print(record[\"DbInfo\"].keys())\n",
    "print(record[\"DbInfo\"][\"Count\"])\n",
    "print(record[\"DbInfo\"][\"LastUpdate\"])"
   ]
  },
  {
   "cell_type": "markdown",
   "metadata": {},
   "source": [
    "Теперь найдем  число статей про **Last Universal Common Ancestor (LUCA)** - нам потребуется функция **esearch()**"
   ]
  },
  {
   "cell_type": "code",
   "execution_count": 54,
   "metadata": {},
   "outputs": [
    {
     "name": "stdout",
     "output_type": "stream",
     "text": [
      "['29656086', '29655064', '29653836', '29653120', '29652731', '29651939', '29651938', '29649448', '29649236', '29644934', '29643004', '29642391', '29641506', '29637521', '29634898', '29634663', '29633211', '29628278', '29626815', '29626625']\n",
      "12159\n"
     ]
    }
   ],
   "source": [
    "handle = Entrez.esearch(db=\"pubmed\", term=\"LUCA\")\n",
    "record = Entrez.read(handle)\n",
    "print(record[\"IdList\"])\n",
    "print(record[\"Count\"])"
   ]
  },
  {
   "cell_type": "markdown",
   "metadata": {},
   "source": [
    "Параметр term - что, собственно, искать. По умолчанию **Entrez** записывает в **IdList** только **20** находок, это регулируется параметром **RetMax**. \n",
    "\n",
    "Достанем идентификаторы всех статей Кунина за 2013 год. "
   ]
  },
  {
   "cell_type": "code",
   "execution_count": 60,
   "metadata": {},
   "outputs": [
    {
     "name": "stdout",
     "output_type": "stream",
     "text": [
      "['23937956', '23821522', '23794616', '23768067', '23631729', '23607440', '23596441', '23587361', '23552219', '23470997', '23468607', '23458098', '23452845', '23370394', '23356326', '23315380', '23308028', '23260039', '23241446', '23222723', '23221803', '23221609', '23209393', '23160176', '23151069', '23139082', '23132762', '23115381', '23100130', '23071316', '23036091', '23035931', '23033984', '22969417', '22913395', '22891861', '22815791', '22615861', '22507701']\n",
      "39\n"
     ]
    }
   ],
   "source": [
    "handle = Entrez.esearch(db=\"pubmed\", term=\"Koonin[AUTH] AND 2013[MHDA]\", RetMax=100) \n",
    "record = Entrez.read(handle)\n",
    "print(record[\"IdList\"])\n",
    "print(record[\"Count\"])"
   ]
  },
  {
   "cell_type": "markdown",
   "metadata": {},
   "source": [
    "Все возможные поля поиска можно посмотреть так:    "
   ]
  },
  {
   "cell_type": "code",
   "execution_count": 65,
   "metadata": {},
   "outputs": [
    {
     "name": "stdout",
     "output_type": "stream",
     "text": [
      "ALL, All Fields, All terms from all searchable fields\n",
      "UID, UID, Unique number assigned to publication\n",
      "FILT, Filter, Limits the records\n",
      "TITL, Title, Words in title of publication\n",
      "WORD, Text Word, Free text associated with publication\n",
      "MESH, MeSH Terms, Medical Subject Headings assigned to publication\n",
      "MAJR, MeSH Major Topic, MeSH terms of major importance to publication\n",
      "AUTH, Author, Author(s) of publication\n",
      "JOUR, Journal, Journal abbreviation of publication\n",
      "AFFL, Affiliation, Author's institutional affiliation and address\n",
      "ECNO, EC/RN Number, EC number for enzyme or CAS registry number\n",
      "SUBS, Supplementary Concept, CAS chemical name or MEDLINE Substance Name\n",
      "PDAT, Date - Publication, Date of publication\n",
      "EDAT, Date - Entrez, Date publication first accessible through Entrez\n",
      "VOL, Volume, Volume number of publication\n",
      "PAGE, Pagination, Page number(s) of publication\n",
      "PTYP, Publication Type, Type of publication (e.g., review)\n",
      "LANG, Language, Language of publication\n",
      "ISS, Issue, Issue number of publication\n",
      "SUBH, MeSH Subheading, Additional specificity for MeSH term\n",
      "SI, Secondary Source ID, Cross-reference from publication to other databases\n",
      "MHDA, Date - MeSH, Date publication was indexed with MeSH terms\n",
      "TIAB, Title/Abstract, Free text associated with Abstract/Title\n",
      "OTRM, Other Term, Other terms associated with publication\n",
      "INVR, Investigator, Investigator\n",
      "COLN, Author - Corporate, Corporate Author of publication\n",
      "CNTY, Place of Publication, Country of publication\n",
      "PAPX, Pharmacological Action, MeSH pharmacological action pre-explosions\n",
      "GRNT, Grant Number, NIH Grant Numbers\n",
      "MDAT, Date - Modification, Date of last modification\n",
      "CDAT, Date - Completion, Date of completion\n",
      "PID, Publisher ID, Publisher ID\n",
      "FAUT, Author - First, First Author of publication\n",
      "FULL, Author - Full, Full Author Name(s) of publication\n",
      "FINV, Investigator - Full, Full name of investigator\n",
      "TT, Transliterated Title, Words in transliterated title of publication\n",
      "LAUT, Author - Last, Last Author of publication\n",
      "PPDT, Print Publication Date, Date of print publication\n",
      "EPDT, Electronic Publication Date, Date of Electronic publication\n",
      "LID, Location ID, ELocation ID\n",
      "CRDT, Date - Create, Date publication first accessible through Entrez\n",
      "BOOK, Book, ID of the book that contains the document\n",
      "ED, Editor, Section's Editor\n",
      "ISBN, ISBN, ISBN\n",
      "PUBN, Publisher, Publisher's name\n",
      "AUCL, Author Cluster ID, Author Cluster ID\n",
      "EID, Extended PMID, Extended PMID\n",
      "DSO, DSO, Additional text from the summary\n",
      "AUID, Author - Identifier, Author Identifier\n",
      "PS, Subject - Personal Name, Personal Name as Subject\n",
      "COIS, Conflict of Interest Statements, Conflict of Interest Statements\n"
     ]
    }
   ],
   "source": [
    "handle = Entrez.einfo(db=\"pubmed\")\n",
    "record = Entrez.read(handle)\n",
    "\n",
    "for field in record[\"DbInfo\"][\"FieldList\"]:\n",
    "    print(\"%(Name)s, %(FullName)s, %(Description)s\" % field)"
   ]
  },
  {
   "cell_type": "markdown",
   "metadata": {},
   "source": [
    "Давайте посмотрим, сколько в пабмеде есть статей последних авторов исследований из нашего кейса. "
   ]
  },
  {
   "cell_type": "code",
   "execution_count": null,
   "metadata": {},
   "outputs": [],
   "source": []
  },
  {
   "cell_type": "code",
   "execution_count": 63,
   "metadata": {},
   "outputs": [],
   "source": []
  },
  {
   "cell_type": "markdown",
   "metadata": {},
   "source": [
    "### 3. Скачивание из БД"
   ]
  },
  {
   "cell_type": "markdown",
   "metadata": {},
   "source": [
    "Чтобы что-то скачать, понадобится функция **efetch()**. Список параметров можно посмотреть по [ссылке](http://biopython.org/DIST/docs/tutorial/Tutorial.html#sec:efetch). Давайте скачаем одну из статей про LUCA по её идентификатору. "
   ]
  },
  {
   "cell_type": "code",
   "execution_count": 66,
   "metadata": {},
   "outputs": [
    {
     "name": "stdout",
     "output_type": "stream",
     "text": [
      "\n",
      "1. Nat Microbiol. 2016 Nov 25;1:16230. doi: 10.1038/nmicrobiol.2016.230.\n",
      "\n",
      "Reply to 'Is LUCA a thermophilic progenote?'\n",
      "\n",
      "Weiss MC(1), Neukirchen S(1), Roettger M(1), Mrnjavac N(1), Nelson-Sathi S(1),\n",
      "Martin WF(1), Sousa FL(1).\n",
      "\n",
      "Author information: \n",
      "(1)Institute for Molecular Evolution, Heinrich-Heine University Düsseldorf,\n",
      "Universitätsstraβe 1, 40225 Düsseldorf, Germany.\n",
      "\n",
      "DOI: 10.1038/nmicrobiol.2016.230 \n",
      "PMID: 27886196 \n",
      "\n",
      "\n"
     ]
    }
   ],
   "source": [
    "handle = Entrez.efetch(db=\"pubmed\", id=\"27886196\", rettype=\"gb\", retmode=\"text\")\n",
    "record = handle.read()\n",
    "print(record)"
   ]
  },
  {
   "cell_type": "markdown",
   "metadata": {},
   "source": [
    "Здесь скачается не вся статья, и даже не всегда абстракт - только базовая информация о публикации. Обратите внимание на разницу между **handle.read()** и **Entrez.read(handle)**. Первое читает обычный текст, второе парсит XML. По умолчанию все ответы приходят в формате XML."
   ]
  },
  {
   "cell_type": "markdown",
   "metadata": {},
   "source": [
    "Теперь скачаем все последовательности гена **rpl16** из опунций."
   ]
  },
  {
   "cell_type": "code",
   "execution_count": 4,
   "metadata": {},
   "outputs": [
    {
     "name": "stdout",
     "output_type": "stream",
     "text": [
      "25\n"
     ]
    }
   ],
   "source": [
    "handle = Entrez.esearch(db=\"nuccore\", term=\"Opuntia AND rpl16\")\n",
    "record = Entrez.read(handle)\n",
    "print(record[\"Count\"])\n",
    "gi_list = record[\"IdList\"]\n",
    "handle = Entrez.efetch(db=\"nuccore\", id=gi_list, rettype=\"gb\", retmode=\"text\")\n",
    "text = handle.read()\n",
    "#print(text)"
   ]
  },
  {
   "cell_type": "markdown",
   "metadata": {},
   "source": [
    "Полученный файл можно сразу скормить модулю **Seq**:"
   ]
  },
  {
   "cell_type": "code",
   "execution_count": 68,
   "metadata": {},
   "outputs": [
    {
     "name": "stdout",
     "output_type": "stream",
     "text": [
      "HQ621368, length 399, with 3 features\n",
      "HM041482, length 1197, with 3 features\n",
      "HM041481, length 1200, with 3 features\n",
      "HM041480, length 1153, with 3 features\n",
      "HM041479, length 1197, with 3 features\n",
      "HM041478, length 1187, with 3 features\n",
      "HM041477, length 1197, with 3 features\n",
      "HM041476, length 1205, with 3 features\n",
      "HM041474, length 1163, with 3 features\n",
      "HM041473, length 1203, with 3 features\n",
      "HM041472, length 1182, with 3 features\n",
      "HM041469, length 1189, with 3 features\n",
      "HM041468, length 1202, with 3 features\n",
      "HM041467, length 1199, with 3 features\n",
      "HM041466, length 1205, with 3 features\n",
      "HM041465, length 1190, with 3 features\n",
      "AY851612, length 892, with 3 features\n",
      "AY851611, length 881, with 3 features\n",
      "AF191661, length 895, with 3 features\n",
      "AF191665, length 902, with 3 features\n"
     ]
    }
   ],
   "source": [
    "records = SeqIO.parse(handle, \"gb\")\n",
    "handle = Entrez.efetch(db=\"nuccore\", id=gi_list, rettype=\"gb\", retmode=\"text\")\n",
    "records = SeqIO.parse(handle, \"gb\")\n",
    "for record in records:\n",
    "    print(\"%s, length %i, with %i features\" % (record.name, len(record), len(record.features)))"
   ]
  },
  {
   "cell_type": "markdown",
   "metadata": {},
   "source": [
    "Запрос можно уточнять и прописывать отдельные поля: **term=\"Opuntia[ORGN] AND rpl16[GENE]\"**. Ну а как посмотреть все существующие поля с их описаниями, вы уже знаете."
   ]
  },
  {
   "cell_type": "markdown",
   "metadata": {},
   "source": [
    "# \\*Работа с файлами в формате Genbank (аннотации геномов)"
   ]
  },
  {
   "cell_type": "markdown",
   "metadata": {},
   "source": [
    "Genbank-файлы могут выглядеть как-нибудь так."
   ]
  },
  {
   "cell_type": "markdown",
   "metadata": {},
   "source": [
    "FEATURES             Location/Qualifiers\n",
    "     source          1..4639675\n",
    "                     /organism=\"Escherichia coli str. K-12 substr. MG1655\"\n",
    "                     /mol_type=\"genomic DNA\"\n",
    "                     /strain=\"K-12\"\n",
    "                     /sub_strain=\"MG1655\"\n",
    "                     /db_xref=\"taxon:511145\"\n",
    "     gene            190..255\n",
    "                     /gene=\"thrL\"\n",
    "                     /locus_tag=\"b0001\"\n",
    "                     /gene_synonym=\"ECK0001\"\n",
    "                     /gene_synonym=\"JW4367\"\n",
    "                     /db_xref=\"EcoGene:EG11277\"\n",
    "     CDS             190..255\n",
    "                     /gene=\"thrL\"\n",
    "                     /locus_tag=\"b0001\"\n",
    "                     /gene_synonym=\"ECK0001\"\n",
    "                     /gene_synonym=\"JW4367\"\n",
    "                     /function=\"leader; Amino acid biosynthesis: Threonine\"\n",
    "                     /function=\"1.5.1.8 metabolism; building block\n",
    "                     biosynthesis; amino acids; threonine\"\n",
    "                     /note=\"GO_process: GO:0009088 - threonine biosynthetic\n",
    "                     process\"\n",
    "                     /codon_start=1\n",
    "                     /transl_table=11\n",
    "                     /product=\"thr operon leader peptide\"\n",
    "                     /protein_id=\"AAC73112.1\"\n",
    "                     /db_xref=\"GI:1786182\"\n",
    "                     /db_xref=\"ASAP:ABE-0000006\"\n",
    "                     /db_xref=\"UniProtKB/Swiss-Prot:P0AD86\"\n",
    "                     /db_xref=\"EcoGene:EG11277\""
   ]
  },
  {
   "cell_type": "markdown",
   "metadata": {},
   "source": [
    "Каждое поле слева - отдельная **feature**. Ниже приведен код, выписывающий координаты всех кодирующих областей на прямой цепи.  "
   ]
  },
  {
   "cell_type": "code",
   "execution_count": 1,
   "metadata": {},
   "outputs": [],
   "source": [
    "from Bio import SeqIO\n",
    "\n",
    "coding_genes = []\n",
    "\n",
    "record = SeqIO.read(\"sequence.gb\", \"genbank\")\n",
    "for feature in record.features:\n",
    "    if not feature.type == \"CDS\":\n",
    "        continue\n",
    "    start = feature.location.start\n",
    "    end = feature.location.end\n",
    "    strand = feature.location.strand\n",
    "    if strand == 1:\n",
    "        coding_genes.append([int(start), int(end)])\n",
    "#         print(\"{} {}-{}\".format(feature.qualifiers[\"gene\"][0], start, end))"
   ]
  },
  {
   "cell_type": "markdown",
   "metadata": {},
   "source": [
    "Остальную документацию см. здесь: http://biopython.org/DIST/docs/tutorial/Tutorial.html#htoc37"
   ]
  },
  {
   "cell_type": "markdown",
   "metadata": {},
   "source": [
    "# Другие пакеты"
   ]
  },
  {
   "cell_type": "markdown",
   "metadata": {},
   "source": [
    "Если в биопитоне нет чего-то, с чем работает больше 10 биоинформатиков в мире, разумно поискать, нет ли этого в других пакетах. "
   ]
  },
  {
   "cell_type": "markdown",
   "metadata": {},
   "source": [
    "**pybedtools** - удобная работа с геномными разметками в форматах BAM, BED, GFF/GTF, VCF. https://pypi.org/project/pybedtools/"
   ]
  },
  {
   "cell_type": "markdown",
   "metadata": {},
   "source": [
    "**ProDy** - пакет для работы с 3D-структурами. http://prody.csb.pitt.edu/index.html"
   ]
  },
  {
   "cell_type": "markdown",
   "metadata": {},
   "source": [
    "# Как запускать из Python пакеты, написанные на R"
   ]
  },
  {
   "cell_type": "markdown",
   "metadata": {},
   "source": [
    "Если для решения вашей задачи нет готового кода на **Python**, но есть код на **R**, можно использовать и его. Для этого нам понадобится пакет **rpy2**."
   ]
  },
  {
   "cell_type": "code",
   "execution_count": 76,
   "metadata": {},
   "outputs": [
    {
     "name": "stdout",
     "output_type": "stream",
     "text": [
      "0.8739359270972004\n",
      "0.33838121514583114\n"
     ]
    }
   ],
   "source": [
    "from rpy2.robjects.packages import importr\n",
    "import random\n",
    "\n",
    "ineq = importr('ineq')\n",
    "\n",
    "def count_Gini(a):\n",
    "    gini_stat = ineq.Gini(a)\n",
    "    gini = float(gini_stat[0])\n",
    "    return gini\n",
    "\n",
    "print(count_Gini([random.random() for _ in range(1000)] + [100 * random.random() for _ in range(100)]))\n",
    "print(count_Gini([random.random() for _ in range(1100)]))"
   ]
  },
  {
   "cell_type": "markdown",
   "metadata": {},
   "source": [
    "Давайте вернемся к нашему кейсу и посмотрим, насколько структурирована наша потенциальная нкРНК. Из аннотации мы знаем ее координаты - **4018001..4018252** по прямой цепи. Воспользуемся данными DMS-seq."
   ]
  },
  {
   "cell_type": "code",
   "execution_count": 171,
   "metadata": {},
   "outputs": [],
   "source": [
    "dms_coverage = [0] * 10000000\n",
    "with open(\"GSM2055260_DMS_37_WT_for.wig\") as f:\n",
    "    f.readline()\n",
    "    f.readline()\n",
    "    for line in f:\n",
    "        s = line.strip().split()\n",
    "        pos = int(s[0])\n",
    "        cov = float(s[1])\n",
    "        dms_coverage[pos] = cov\n",
    "        \n",
    "def get_ac_cov(dms, seq):\n",
    "    return [dms[i] for i in range(len(dms)) if (seq[i] == \"A\" or seq[i] == \"C\")]"
   ]
  },
  {
   "cell_type": "code",
   "execution_count": 178,
   "metadata": {},
   "outputs": [],
   "source": [
    "import math\n",
    "\n",
    "all_gini = []\n",
    "seq = str(record.seq)\n",
    "for gene in coding_genes:\n",
    "    begin, end = gene[0], gene[1]\n",
    "    gene_seq = seq[begin:end]\n",
    "    gene_dms_cov = dms_coverage[begin-1:end-1]\n",
    "    r = get_ac_cov(gene_dms_cov, gene_seq)\n",
    "    gini = count_Gini(r)\n",
    "    if not math.isnan(gini):\n",
    "        all_gini.append(gini)\n",
    "    \n",
    "r = get_ac_cov(dms_coverage[4018000:4018251], seq[4018001:4018252])\n",
    "esrE_gini = count_Gini(r)                                    "
   ]
  },
  {
   "cell_type": "code",
   "execution_count": 179,
   "metadata": {},
   "outputs": [
    {
     "data": {
      "image/png": "[encoded data removed]",
      "text/plain": [
       "<matplotlib.figure.Figure at 0x7fb7a34f9748>"
      ]
     },
     "metadata": {},
     "output_type": "display_data"
    }
   ],
   "source": [
    "import seaborn as sns\n",
    "import matplotlib.pyplot as plt\n",
    "%matplotlib inline\n",
    "\n",
    "ax = plt.axes()\n",
    "ax.set_xlim(0, 1)\n",
    "ax.arrow(esrE_gini, 90, 0, -75, head_width= 0.01, head_length=10, fc='k', ec='k')\n",
    "sns.distplot(all_gini, kde=False, ax = ax);\n",
    "plt.xlabel(\"Gini-index\")\n",
    "plt.show()"
   ]
  },
  {
   "cell_type": "code",
   "execution_count": 153,
   "metadata": {},
   "outputs": [],
   "source": []
  }
 ],
 "metadata": {
  "kernelspec": {
   "display_name": "Python 3",
   "language": "python",
   "name": "python3"
  },
  "language_info": {
   "codemirror_mode": {
    "name": "ipython",
    "version": 3
   },
   "file_extension": ".py",
   "mimetype": "text/x-python",
   "name": "python",
   "nbconvert_exporter": "python",
   "pygments_lexer": "ipython3",
   "version": "3.6.5"
  }
 },
 "nbformat": 4,
 "nbformat_minor": 1
}
