{
 "cells": [
  {
   "cell_type": "code",
   "execution_count": null,
   "metadata": {},
   "outputs": [],
   "source": [
    "from Bio import Entrez\n",
    "from Bio import SeqIO\n",
    "from Bio.SeqRecord import SeqRecord\n",
    "\n",
    "\n",
    "Entrez.email = \"something@something.com\"\n",
    "\n",
    "handle = Entrez.esearch(db=\"nucleotide\", term=\"mitochondrion, complete genome\", RetMax=10000)\n",
    "record = Entrez.read(handle)\n",
    "# print(record[\"IdList\"])\n",
    "# print(record[\"Count\"])\n",
    "gi_list = record[\"IdList\"]\n",
    "handle = Entrez.efetch(db=\"nucleotide\", id=gi_list, rettype=\"gb\", retmode=\"text\")\n",
    "text = handle.read()\n",
    "# print(text)\n",
    "\n",
    "records = SeqIO.parse(handle, \"gb\")\n",
    "handle = Entrez.efetch(db=\"nucleotide\", id=gi_list, rettype=\"gb\", retmode=\"text\")\n",
    "records = SeqIO.parse(handle, \"gb\")\n",
    "with open(\"records.fasta\", \"w\") as f:\n",
    "    SeqIO.write(records, f, \"fasta\")\n",
    "        "
   ]
  },
  {
   "cell_type": "code",
   "execution_count": 58,
   "metadata": {},
   "outputs": [],
   "source": [
    "import sys\n",
    "import re\n",
    "\n",
    "\n",
    "len_fasta_out_file = 60\n",
    "def module_fasta_writer(out_file, line):  # writes in fasta format by 60 nums in each line\n",
    "    start_point = 0\n",
    "    end_point = len_fasta_out_file\n",
    "    if len(line) > len_fasta_out_file:\n",
    "        len_line = len(line)\n",
    "        while len_line > 0:\n",
    "            j = line[start_point:end_point]\n",
    "            len_line = len_line - len_fasta_out_file\n",
    "            out_file.write(j + \"\\n\")\n",
    "            start_point = start_point + len_fasta_out_file\n",
    "            end_point = end_point + len_fasta_out_file\n",
    "    else:\n",
    "        out_file.write(line + \"\\n\")\n",
    "        \n",
    "        \n",
    "def GC_module(sequence):\n",
    "    nuc_collector = {}\n",
    "    for i in range(len(sequence)):\n",
    "        nuc = sequence[i]\n",
    "        if nuc in nuc_collector.keys():\n",
    "            nuc_collector[nuc] = int(nuc_collector[nuc]) + 1\n",
    "        else:\n",
    "            nuc_collector[nuc] = 1\n",
    "    GC = nuc_collector[\"G\"]+nuc_collector[\"C\"]/len(sequence)\n",
    "    return round(GC,3)\n",
    "\n",
    "stop = 0\n",
    "with open(\"records.fasta\", \"r\") as f:\n",
    "    seqs={}\n",
    "    for line in f:\n",
    "        line = line.rstrip()\n",
    "        #print(line)\n",
    "        if len(line) > 0:\n",
    "            if line[0] == \">\":\n",
    "                name = line.strip()\n",
    "                seqs[name] = ''\n",
    "                stop += 1\n",
    "                if stop == 100000:\n",
    "                    break\n",
    "            else:\n",
    "                seqs[name] = seqs[name] + line\n",
    "        # print(seqs)\n",
    "                \n",
    "names = list(seqs.keys())"
   ]
  },
  {
   "cell_type": "code",
   "execution_count": 86,
   "metadata": {},
   "outputs": [
    {
     "name": "stdout",
     "output_type": "stream",
     "text": [
      "{'Homo sapiens': 221200, 'Syngnathus schlegeli': 4, 'Schizothorax taliensis': 4, 'Paraona staudingeri': 4, 'Streptopelia decaocto': 4, 'Aglaomorpha histrio': 4, 'Incisitermes minor': 4, 'Psammomys obesus': 4, 'Pagellus acarne': 4, 'Salvelinus malma': 4, 'Endotricha consocia': 4, 'Sabethes glaucodaemon': 4, 'Sabethes chloropterus': 4, 'Sabethes belisarioi': 4, 'Cryptocercus meridianus': 4, 'Haemaphysalis longicornis': 4, 'Diaphanosoma dubium': 4, 'Shinkaicaris leurokolos': 4, 'Urocissa caerulea': 4, 'Gammarus roeselii': 4, 'Anthoceros angustus': 14, 'Bagre panamensis': 4, 'Occidentarius platypogon': 4, 'Nymphaea colorata': 4, 'Gyge ovalis': 4, 'Macaca mulatta': 4, 'Garrulax albogularis': 4, 'Citrus sinensis': 4, 'Cryptomonas curvata': 4, 'Proteomonas sulcata': 4, 'Storeatula sp.': 4, 'Chroomonas placoidea': 4, 'Prototheca zopfii': 6, 'Psilogramma increta': 4, 'Eubalaena glacialis': 9, 'Macroglossum stellatarum': 4, 'Macaca sinica': 4, 'Teleaulax amphioxeia': 4, 'Porites harrisoni': 4, 'Porites fontanesii': 4, 'Alasmidonta heterodon': 4, 'Semilabeo obscurus': 4, 'Porzana paykullii': 4, 'Ancherythroculter wangi': 4, 'Acheilognathus omeiensis': 4, 'Sarcocheilichthys davidi': 4, 'Microphysogobio kiatingensis': 4, 'Salmo ischchan': 36, 'Tetraclita rufotincta': 4, 'Choristoneura rosaceana': 4, 'Choristoneura murinana': 4, 'Choristoneura fumiferana': 4, 'Choristoneura biennis': 4, 'Choristoneura occidentalis': 9, 'Halichondria okadai': 4, 'Cirriformia cf.': 4, 'Chelodina oblonga': 4, 'Chelodina pritchardi': 4, 'Chelodina parkeri': 4, 'Chelodina mccordi': 4, 'Chelodina expansa': 4, 'Oreolalax multipunctatus': 4, 'Toxodera hauseri': 4, 'Phyllobates terribilis': 4, 'Hyloxalus subpunctatus': 4, 'Melanophryniscus moreirae': 4, 'Scaphiopus holbrookii': 4, 'Notopteryx soror': 4, 'Neolethaeus assamensis': 4, 'Dalsira scabrata': 4, 'Metatropis longirostris': 4, 'Macrosaldula sp.': 4, 'Nabicula flavomarginata': 4, 'Aphelocheirus jendeki': 4, 'Acanthaspis ruficeps': 4, 'Melophagus ovinus': 4, 'Montipora aequituberculata': 4, 'Moniezia expansa': 4, 'Trichobilharzia szidati': 9, 'Potamopyrgus antipodarum': 4, 'Pichia kudriavzevii': 4, 'Sus scrofa': 305, 'Helianthus annuus': 16, 'Diaphorina citri': 4, 'Nodularia douglasiae': 4, 'Tor douronensis': 4, 'Tor tambra': 4, 'Lateolabrax maculatus': 4, 'Cryptococcus neoformans': 24, 'Tesseropora rosea': 4, 'Clithon retropictum': 4, 'Penion maximus': 4, 'Marphysa tamurai': 4, 'Creobroter jiangxiensis': 4, 'Mycopsylla proxima': 4, 'Mycopsylla fici': 4, 'Centruroides vittatus': 4, 'Indothais lacera': 4, 'Mene maculata': 4, 'Mobula thurstoni': 4, 'Rhadinosa nigrocyanea': 4, 'Empoasca onukii': 4, 'Eomantis yunnanensis': 4, 'Schizocephala bicornis': 4, 'Sceptuchus simplex': 4, 'Tropidomantis tenera': 4, 'Sphodromantis lineola': 4, 'Amantis nawai': 4, 'Deroplatys desiccata': 4, 'Atergatis floridus': 4, 'Dermestes maculatus': 4, 'Sinocyclocheilus jii': 4, 'Tenebrio obscurus': 4, 'Hydrotaea ignava': 4, 'Clarias dussumieri': 4, 'Abrornis proregulus': 4, 'Charonia lampas': 4, 'Oreinus molesworthi': 4, 'Peregrinus maidis': 4, 'Changeondelphax velitchkovskyi': 4, 'Anemonia majano': 4, 'Anemonia viridis': 4, 'Euzophera pyriella': 4, 'Sorex sinalis': 4, 'Monomia gladiator': 4, 'Lepidocolaptes angustirostris': 4, 'Sicalis olivascens': 4, 'Bombyx lemeepauli': 4, 'Rhinogobius rubromaculatus': 4, 'Exyrias puntang': 4, 'Brachygobius doriae': 4, 'Bathygobius coalitus': 4, 'Eleotris fusca': 4, 'Glyphonycteris daviesi': 4, 'Diphylla ecaudata': 4, 'Noctilio leporinus': 4, 'Macrotus californicus': 4, 'Lonchorhina aurita': 4, 'Hsunycteris thomasi': 4, 'Diaemus youngi': 4, 'Chrotopterus auritus': 4, 'Pteronarcys princeps': 4, 'Triphoturus mexicanus': 4, 'Stomias atriventer': 4, 'Haemaphysalis japonica': 4, 'Altiverruca navicula': 4, 'Armillifer grandis': 4, 'Ochotona erythrotis': 4, 'Penion sulcatus': 9, 'Peromyscus leucopus': 8, 'Atergatis integerrimus': 9, 'Candidia barbatus': 4, 'Artyfechinostomum sufrartyfex': 4, 'Sardinella gibbosa': 4, 'Plasmodium falciparum': 446, 'Microceramus pontificus': 4, 'Chromodoris annae': 4, 'Lonchura grandis': 92, 'Sterna hirundo': 4, 'Myotis ruber': 4, 'Calophya californica': 4, 'Xylosandrus morigerus': 4, 'Pelecotoma fennica': 4, 'Dryops ernesti': 4, 'Vincenzellus ruficollis': 4, 'Donax vittatus': 4, 'Donax variegatus': 4, 'Donax trunculus': 4, 'Donax semiestriatus': 4, 'Nemoura nankinensis': 4, 'Corvus cryptoleucus': 16, 'Ducetia japonica': 4, 'Sahyadria denisonii': 9, 'Neomaskellia andropogonis': 4, 'Plasmodium vivax': 127, 'Plasmodium simium': 20, 'Valenzuela burmeisteri': 196, 'Platygastridae sp.': 25584, 'Acroneuria abnormis': 4, 'Pteromalidae sp.': 43120, 'Valenzuela sp.': 10593, 'Lachesilla pedicularia': 729, 'Trichogramma sp.': 8184, 'Asaphes vulgaris': 49, 'Vespula germanica': 81, 'Asaphes sp.': 64, 'Leptacis sp.': 841, 'Trichogrammatidae sp.': 12543, 'Forficula aff.': 1332, 'Scelioninae sp.': 6314, 'Valenzuela piceus': 81, 'Telenomus sp.': 47610, 'Ectopsocus sp.': 676, 'Dibrachys sp.': 169, 'Cerobasis guestfalica': 15240, 'Proctotrupidae sp.': 361, 'Pristoceuthophilus celatus': 4, 'Valenzuela flavidus': 2400, 'Vespula maculifrons': 16, 'Dolerus konowi': 64, 'Cheumatopsyche sp.': 49, 'Sierolomorpha sp.': 64, 'Allantus albolabris': 4, 'Coniopteryx sp.': 4, 'Dinotiscus sp.': 100, 'Dolichovespula arenaria': 36, 'Dolerus sp.': 306, 'Pteromalinae sp.': 100, 'Cecidostiba sp.': 196, 'Pompilidae sp.': 225, 'Lachesilla sp.': 256, 'Xyelidae sp.': 4, 'Oxyethira rivicola': 4, 'Vespula pensylvanica': 9, 'Chlorocytus sp.': 4, 'Echmepteryx hageni': 110, 'Pteromalus sp.': 1024, 'Platygastrinae sp.': 100, 'Ectopsocopsis cryptomeriae': 4, 'Micromus posticus': 64, 'Psocidae sp.': 225, 'Propsocus pulchripennis': 4, 'Ectopsocus californicus': 400, 'Metrioptera sp.': 9, 'Dolerus asper': 4, 'Dolerus elderi': 16, 'Cheumatopsyche analis': 16, 'Ectopsocus meridionalis': 81, 'Melanoplus sp.': 400, 'Callibaetis ferrugineus': 100, 'Allonemobius sp.': 121, 'Mesopsocus laticeps': 4, 'Lachesilla contraforcepeta': 100, 'Peripsocus subfasciatus': 1056, 'Enallagma sp.': 16, 'Chrysoperla sp.': 121, 'Teliapsocus sp.': 4, 'Hemerobius conjunctus': 16, 'Chrysopa nigricornis': 4, 'Hemerobius sp.': 121, 'Polypsocus corruptus': 196, 'Acheta domesticus': 81, 'Pachyneuron sp.': 49, 'Teliapsocus conterminus': 81, 'Empria sp.': 25, 'Lachesilla major': 9, 'Synopeas sp.': 289, 'Telenomus podisi': 256, 'Polistes sp.': 16, 'Macremphytus testaceus': 25, 'Oxyethira pallida': 49, 'Caeciliusidae sp.': 25, 'Hemerobius humulinus': 16, 'Torymus sp.': 144, 'Euura extensicornis': 4, 'Ectopsocus briggsi': 16, 'Graphopsocus cruciatus': 812, 'Pristiphora sp.': 25, 'Tiphiidae sp.': 4, 'Nematinae sp.': 16, 'Euura sp.': 81, 'Taxonus sp.': 9, 'Thinodytes sp.': 9, 'Tenthredo sp.': 16, 'Wesmaelius longifrons': 4, 'Caenis latipennis': 9, 'Somatochlora sp.': 4, 'Hydroptila waubesiana': 4, 'Dolichovespula maculata': 4, 'Loensia fasciata': 9, 'Oecanthus sp.': 16, 'Micromus subanticus': 9, 'Nematus sp.': 25, 'Zapada cinctipes': 121, 'Nemoura arctica': 25, 'Paraleuctra occidentalis': 4, 'Torymidae sp.': 169, 'Limnephilus submonilifer': 4, 'Coniopterygidae sp.': 25, 'Hemerobius ovalis': 9, 'Mesopsocus unipunctatus': 9, 'Metylophorus novaescotiae': 4, 'Peripsocus madidus': 25, 'Melanoplus digitifer': 9, 'Vespula alascensis': 81, 'Polistes dominula': 16, 'Allocapnia sp.': 64, 'Philopteridae sp.': 4, 'Euura vaga': 9, 'Limnephilus sp.': 4, 'Platygaster sp.': 16, 'Macrophya flavolineata': 4, 'Agulla sp.': 4, 'Trichadenotecnum majus': 36, 'Ephemerella sp.': 4, 'Taxonus epicera': 4, 'Coniopteryginae sp.': 9, 'Pepsinae sp.': 36, 'Tenthredinidae sp.': 4, 'Haploperla orpha': 4, 'Prostoia besametsa': 4, 'Trimorus sp.': 121, 'Taxonus borealis': 4, 'Euura fallax': 4, 'Ceratophyllus vison': 4, 'Melanoplus borealis': 4, 'Auplopus sp.': 25, 'Frenesia sp.': 9, 'Ischnura sp.': 4, 'Trichogramma platneri': 36, 'Oxyethira sp.': 9, 'Leucorrhinia glacialis': 4, 'Caenis sp.': 16, 'Chimarra sp.': 9, 'Podmosta sp.': 9, 'Trichadenotecnum alexanderae': 9, 'Oecetis avara': 4, 'Cerastipsocus sp.': 16, 'Cloeon dipterum': 4, 'Lyrcus sp.': 4, 'Nehalennia irene': 4, 'Dolerus yukonensis': 4, 'Agraylea multipunctata': 16, 'Plectrocnemia weedi': 49, 'Pompilinae sp.': 4, 'Chalybion californicum': 4, 'Boyeria sp.': 4, 'Evagetes sp.': 4, 'Mesopsocus sp.': 4, 'Hemerobius discretus': 4, 'Eutomostethus sp.': 4, 'Aporus luxus': 4, 'Siphlonurus sp.': 4, 'Siphloplecton basale': 4, 'Acerpenna sp.': 4, 'Nematus tibialis': 4, 'Lyrcus nigroaeneus': 4, 'Taxonus rufocinctus': 4, 'Pristiphora cincta': 4, 'Zapada sp.': 4, 'Mesopolobus bruchophagi': 4, 'Hydropsyche betteni': 16, 'Taenionema pallidum': 4, 'Tenthrediniinae sp.': 4, 'Micromus angulatus': 4, 'Paraleptophlebia praepedita': 9, 'Pristiphora borea': 9, 'Ectopsocidae sp.': 9, 'Hydroptila sp.': 4, 'Reuterella helvimacula': 4, 'Utacapnia columbiana': 4, 'Stenacron interpunctatum': 9, 'Synopeas pennsylvanicum': 4, 'Fenusella sp.': 4, 'Lepinotus reticulatus': 4, 'Hydroptilidae sp.': 9, 'Siphonaptera sp.': 4, 'Amblyaspis sp.': 4, 'Trametes hirsuta': 4, 'Sibylla pretiosa': 4, 'Alectoria fallacina': 4, 'Pseudocercospora mori': 4, 'Varuna yui': 4, 'Phatnoma laciniatum': 4, 'Perissonemia borneenis': 4, 'Agramma hupehanum': 4, 'Torulaspora delbrueckii': 10, 'Paraescarpia echinospica': 4, 'Anopheles gambiae': 51, 'Ectropis obliqua': 9, 'Gallus gallus': 6, 'Arabis alpina': 4, 'Alectis indica': 4, 'Alepes djedaba': 4, 'Pseudobagrus medianalis': 4, 'Trachyrhamphus serratus': 4, 'Doryichthys boaja': 4, 'Syngnathoides biaculeatus': 4, 'Solegnathus hardwickii': 4, 'Eurydema maracandica': 4, 'Oreochromis macrochir': 4, 'Oreochromis andersonii': 4, 'Coptotermes suzhouensis': 4, 'Alosa aestivalis': 4, 'Alosa mediocris': 4, 'Exoglossum maxillingua': 4, 'Notropis hudsonius': 4, 'Catostomus catostomus': 6, 'Ameiurus catus': 12, 'Cyprinella leedsi': 6, 'Rhinichthys obtusus': 6, 'Notropis heterolepis': 6, 'Notropis chalybaeus': 4, 'Damora sagana': 4, 'Mesoplodon stejnegeri': 4, 'Mastomys natalensis': 4, 'Longchuanacris curvifurculus': 4, 'Biomphalaria straminea': 4, 'Lophius piscatorius': 4, 'Auriculastra duplicata': 4, 'Eochionelasmus ohtai': 4, 'Vipera berus': 4, 'Cheumatopsyche campyla': 4, 'Kunugia undans': 4, 'Mus pahari': 4, 'Rusa unicolor': 39, 'Conus quercinus': 4, 'Corvus splendens': 166, 'Saccharomyces cerevisiae': 80, 'Sardinella longiceps': 45, 'Anodonta cygnea': 9, 'Potamyia flava': 4, 'Cheumatopsyche speciosa': 4, 'Hydropsyche orris': 4, 'Hydropsyche simulans': 4, 'Centropyge vrolikii': 4, 'Channa gachua': 4, 'Sinopotamon yaanense': 4, 'Longpotamon yangtsekiense': 4, 'Mycopsylla gardenensis': 4, 'Schizothorax eurystomus': 4, 'Gadus macrocephalus': 4, 'Haliotis rufescens': 4, 'Siren lacertina': 4, 'Cyclospora cayetanensis': 8, 'Mielichhoferia elongata': 4, 'Bemisia tabaci': 14, 'Capra hircus': 4, 'Tritomaria quinquedentata': 4, 'Pleurotus platypus': 4, 'Pleurotus citrinopileatus': 4, 'Chrysochromulina parva': 4, 'Phyllothelys sp.': 4, 'Lingula anatina': 4, 'Delphinapterus leucas': 4, 'Dorosoma cepedianum': 9, 'Pimephales notatus': 12, 'Pimephales promelas': 4, 'Notropis bifrenatus': 6, 'Luxilus cornutus': 4, 'Rhinichthys cataractae': 4, 'Alosa pseudoharengus': 6, 'Notemigonus crysoleucas': 16, 'Minytrema melanops': 4, 'Cyprinus carpio': 6, 'Alosa sapidissima': 4, 'Ameiurus natalis': 9, 'Siren intermedia': 14, 'Apis mellifera': 48, 'Prionailurus planiceps': 15, 'Camelus bactrianus': 6, 'Camelus ferus': 9, 'Tetranychus pueraricola': 9, 'Tetranychus truncatus': 26, 'Equus caballus': 76, 'Bos taurus': 24, 'Lutraria maxima': 4, 'Neoris haraldi': 4, 'Melanocorypha mongolica': 4, 'Caryanda elegans': 4, 'Atrocalopteryx melli': 4, 'Schizothorax integrilabiatus': 4, 'Gonopsis affinis': 4, 'Sinogastromyzon szechuanensis': 4, 'Hemiculter tchangi': 4, 'Gynaephora minora': 4, 'Gynaephora jiuzhiensis': 4, 'Gynaephora ruoergensis': 4, 'Maxomys surifer': 4, 'Lenothrix canus': 4, 'Berylmys berdmorei': 4, 'Sundamys annandalei': 4, 'Sundamys infraluteus': 6, 'Sundamys maxi': 6, 'Paruromys dominator': 4, 'Halmaheramys bokimekot': 4, 'Bunomys penitus': 4, 'Prognichthys sealei': 4, 'Cheilopogon cyanopterus': 4, 'Cheilopogon agoo': 4, 'Parexocoetus brachypterus': 4, 'Stegobium paniceum': 4, 'Centropyge deborae': 4, 'Acipenser gueldenstaedtii': 4, 'Glossogobius giuris': 4, 'Arius arius': 4, 'Thryssa hamiltonii': 4, 'Notonecta chinensis': 4, 'Ortleppascaris sinensis': 4, 'Ascaris ovis': 4, 'Tachysurus fulvidraco': 9, 'Goura victoria': 32, 'Otidiphaps nobilis': 4, 'Trugon terrestris': 4, 'Saccostrea mytiloides': 6, 'Saccostrea echinata': 8, 'Carabus lafossei': 4, 'Bokermannohyla alvarengai': 4, 'Triuncina daii': 4, 'Saccostrea glomerata': 8, 'Episyrphus balteatus': 4, 'Trocnadella arisana': 4, 'Phrynosoma blainvillii': 4, 'Modiolus kurilensis': 4, 'Eupeodes corollae': 4, 'Colluricincla harmonica': 25, 'Stylotermes sp.': 5, 'Acanthiza nana': 4, 'Artamus cyanopterus': 4, 'Pachycephala melanura': 25, 'Daphoenositta chrysoptera': 16, 'Cormobates leucophaeus': 9, 'Smicrornis brevirostris': 9, 'Pardalotus striatus': 4, 'Pachycephala pectoralis': 4, 'Climacteris picumnus': 4, 'Nesoptilotis leucotis': 4, 'Ptilotula penicillata': 4, 'Kazachstania sinensis': 4, 'Endarachne binghamiae': 4, 'Clonostachys rosea': 4, 'Pectinodesmus pectinatus': 4, 'Malassezia furfur': 6, 'Mammuthus primigenius': 6, 'Athyma selenophora': 4, 'Spirometra erinaceieuropaei': 4, 'Neophocaena phocaenoides': 4, 'Cherax boesemani': 4, 'Cherax holthuisi': 4, 'Ancoracysta twista': 4, 'Lepomis punctatus': 4, 'Tor malabaricus': 4, '[Candida] bracarensis': 4, '[Candida] nivariensis': 4, 'Kazachstania unispora': 4, 'Naumovozyma dairenensis': 4, 'Torulaspora microellipsoides': 4, 'Torulaspora quercuum': 12, 'Zygosaccharomyces mellis': 4, 'Ameiurus nebulosus': 12, 'Pylodictis olivaris': 10, 'Lepomis auritus': 4, 'Tolypocladium inflatum': 12, 'Manis culionensis': 4, 'Manis crassicaudata': 8, 'Muntiacus putaoensis': 4, 'Eurythenes maldoror': 4, 'Sarcophaga formosensis': 4, 'Parascaris equorum': 4, 'Hypselodoris apolegma': 4, 'Saccopteryx leptura': 4, 'Acipenser dabryanus': 4, 'Rhinolophus yunnanensis': 4, 'Picromerus griseus': 4, 'Delphinus delphis': 6, 'Mahasena oolona': 4, 'Marshallagia marshalli': 4, 'Lonchura stygia': 22, 'Lonchura spectabilis': 42, 'Lonchura nigerrima': 22, 'Lonchura nevermanni': 22, 'Lonchura melaena': 30, 'Lonchura hunsteini': 22, 'Lonchura forbesi': 22, 'Lonchura flaviprymna': 22, 'Lonchura castaneothorax': 100, 'Lonchura caniceps': 20, 'Lonchura leucosticta': 4, 'Coregonus artedi': 6, 'Salvelinus namaycush': 21, 'Otocyon megalotis': 4, 'Stimulopalpus japonicus': 4, 'Speleketor irwini': 4, 'Lachesilla anna': 4, 'Archipsocus nomas': 4, 'Amphigerontia montivaga': 4, 'Prionoglaris stygia': 4, 'Dorypteryx domestica': 4, 'Argonauta hians': 4, 'Pteroptyx maipo': 4, 'Diaphorina lycii': 4, 'Amphioctopus marginatus': 4, 'Electrona carlsbergi': 4, 'Dendrolimus kikuchii': 4, 'Mesoclemmys hogei': 4, 'Gelochelidon nilotica': 4, 'Parapolybia crocea': 4, 'Incoltorrida madagassica': 4, 'Monotoma quadricollis': 4, 'Spheniscus humboldti': 4, 'Moduza procris': 4, 'Patsuia sinensium': 4, 'Phaedyma columella': 4, 'Tadarida latouchei': 4, 'Tadarida teniotis': 4, 'Atractosteus tristoechus': 4, 'Myotis martiniquensis': 4, 'Myotis albescens': 4, 'Myotis volans': 4, 'Myotis horsfieldii': 4, 'Myotis atacamensis': 4, 'Myotis thysanodes': 4, 'Myotis melanorhinus': 4, 'Myotis leibii': 4, 'Myotis auriculus': 4, 'Myotis yumanensis': 4, 'Myotis nigricans': 12, 'Myotis riparius': 4, 'Myotis oxyotus': 4, 'Myotis keaysi': 4, 'Myotis evotis': 4, 'Myotis dominicensis': 4, 'Cnidocampa flavescens': 4, 'Camallanus cotti': 4, 'Paratetraonchoides inermis': 4, 'Calophya schini': 4, 'Discogobio longibarbatus': 4, 'Pleuronichthys japonicus': 4, 'Japananus hyalinus': 4, 'Spheniscus mendiculus': 4, 'Maiestas dorsalis': 4, 'Cyclorhipidion bodoanus': 4, 'Gnathotrichus materiarius': 4, 'Anisandrus dispar': 4, 'Trypodendron signatum': 4, 'Orthotomicus laricis': 4, 'Hylastes attenuatus': 4, 'Pityogenes bidentatus': 4, 'Pityophthorus pubescens': 4, 'Dryocoetes autographus': 4, 'Trypodendron domesticum': 4, 'Trypophloeus asperatus': 4, 'Xylosandrus crassiusculus': 4, 'Dryocoetes villosus': 4, 'Ips sexdentatus': 4, 'Xylosandrus germanus': 4, 'Horatocera niponica': 4, 'Eucinetus haemorrhoidalis': 4, 'Tetratoma fungorum': 4, 'Silvanus bidentatus': 4, 'Anatis ocellata': 4, 'Amphizoa insolens': 4, 'Hydrochus carinatus': 4, 'Usechus lacerta': 4, 'Amara communis': 4, 'Byturus ochraceus': 4, 'Anopheles dirus': 4, 'Hylastes brunneus': 4, 'Tachyta nana': 4, 'Olea europaea': 6, 'Phrynocephalus vlangalii': 4, 'Eucheuma denticulatum': 4, 'Betaphycus gelatinus': 4, 'Tremella fuciformis': 22, 'Bipolaris cookei': 4, 'Ursus arctos': 6, 'Goura sclaterii': 14, 'Goura scheepmakeri': 5, 'Goura cristata': 9, 'Comephorus dybowskii': 6, 'Comephorus baicalensis': 6, 'Cottus rhenanus': 4, 'Cottus perifretum': 4, 'Cottus asper': 4, 'Gymnocypris scleracanthus': 4, 'Rhodotorula mucilaginosa': 4, 'Saccostrea sp.': 5, 'Corvus corax': 65, 'Mylopharyngodon piceus': 29, 'Manis tricuspis': 8, 'Manis javanica': 4, 'Manis gigantea': 9, 'Dicerorhinus sumatrensis': 15, 'Bos indicus': 5, 'Phocoena phocoena': 5, 'Naumovozyma castellii': 4, 'Prosopium cylindraceum': 12, 'Salmo trutta': 4, 'Thymallus arcticus': 7, 'Oncorhynchus kisutch': 4, 'Salvelinus alpinus': 6, 'Ictalurus punctatus': 12, 'Pomoxis nigromaculatus': 4, 'Cladonia rangiferina': 4, 'Spheniscus magellanicus': 8, 'Sarcoptes scabiei': 12, 'Plasmodium sp.': 6, 'Usnea ceratina': 4, 'Caretta caretta': 6, 'Apis nuluensis': 4, 'Gloydius strauchi': 4, 'Ompok bimaculatus': 4, 'Osteobrama belangeri': 4, 'Batrachospermaceae sp.': 4, 'Sicydium salvini': 6, 'Sicydium altum': 4, 'Hemieleotris latifasciata': 4, 'Gobiomorus maculatus': 4, 'Eleotris picta': 6, 'Eleotris amblyopsis': 4, 'Awaous banana': 6, 'Moniezia benedeni': 4, 'Carcharodon carcharias': 125, 'Lymantria dispar': 18, 'UNVERIFIED: Myotis': 4, 'Hypothenemus sp.': 20, 'Scolytinae sp.': 128, 'Curculionidae sp.': 9, 'Saccostrea kegaki': 4, 'Macaca fascicularis': 79, 'Dolichovespula panda': 4, 'Odontobutis haifengensis': 4, 'Neoceratodus forsteri': 41, 'Carassius auratus': 14, 'Callosobruchus maculatus': 8}\n",
      "Organisms found: 715\n",
      "Sequences found: 411440\n"
     ]
    }
   ],
   "source": [
    "# print(\" \".join(names[0].split()[-3:]))\n",
    "# print(len(names))\n",
    "new_list = [x for x in names if re.fullmatch(r\"mitochondrion, complete genome\", \" \".join(x.split()[-3:]))]\n",
    "# print(len(new_list))\n",
    "name_list = [\" \".join(x.split()[1:3]) for x in new_list]\n",
    "# print(name_list)\n",
    "# new_list.append(new_list1)\n",
    "# new_new_list = [x for x in new_list if \"EC=1.1\" in x]\n",
    "\n",
    "from itertools import groupby\n",
    "sorted_list = [el for el, _ in groupby(name_list)]\n",
    "# print(sorted_list)\n",
    "\n",
    "dic = {}\n",
    "for i in sorted_list:\n",
    "    #print(i)\n",
    "    for j in names:\n",
    "        #print(j)\n",
    "        if i == \" \".join(j.split()[1:3]):\n",
    "            #print(j)\n",
    "            if i in dic.keys():\n",
    "                dic[i] = dic[i] + 1\n",
    "            if i not in dic.keys():\n",
    "                dic[i] = 1\n",
    "#print(dic)\n",
    "# sorted(dic.items(), key=lambda x: -x[1])\n",
    "\n",
    "callul = 0\n",
    "new_dic = {}\n",
    "for i in dic.keys():\n",
    "    if dic[i] >= 4: \n",
    "        callul += dic[i]\n",
    "        new_dic[i] = dic[i]\n",
    "        # print(dic[i])\n",
    "        \n",
    "#print(new_dic)\n",
    "print(\"Organisms found:\", len(new_dic.keys()))\n",
    "print(\"Sequences found:\", callul)"
   ]
  },
  {
   "cell_type": "code",
   "execution_count": 80,
   "metadata": {},
   "outputs": [
    {
     "name": "stdout",
     "output_type": "stream",
     "text": [
      "/home/pavel/Desktop/Work/Project/reader_3.4/Files\n"
     ]
    }
   ],
   "source": [
    "import os\n",
    "directory =\"Files\"\n",
    "os.mkdir(directory)\n",
    "os.chdir(directory) \n",
    "print(os.getcwd())"
   ]
  },
  {
   "cell_type": "code",
   "execution_count": 97,
   "metadata": {},
   "outputs": [
    {
     "name": "stdout",
     "output_type": "stream",
     "text": [
      "Sequences written: 1867\n"
     ]
    }
   ],
   "source": [
    " end = 0\n",
    "for i in new_dic.keys():\n",
    "    calc = 0\n",
    "    #print(i)\n",
    "    write_list = [x for x in names if re.fullmatch(i, \" \".join(x.split()[1:3]))]\n",
    "    #print(write_list)\n",
    "    if len(write_list) >= 4:\n",
    "        with open(str(\"_\".join(i.split())) + \".fasta\", 'w') as f:\n",
    "            for j in seqs.keys():\n",
    "                if \" \".join(j.split()[1:3]) == i and calc <= 20:\n",
    "                    #print(\" \".join(j.split()[1:3]))\n",
    "                    calc += 1\n",
    "                    #print(calc)\n",
    "                    f.write(j + \"\\n\")\n",
    "                    module_fasta_writer(f, seqs[j])\n",
    "                    end += 1\n",
    "print(\"Sequences written:\", end)"
   ]
  }
 ],
 "metadata": {
  "kernelspec": {
   "display_name": "Python 3",
   "language": "python",
   "name": "python3"
  },
  "language_info": {
   "codemirror_mode": {
    "name": "ipython",
    "version": 3
   },
   "file_extension": ".py",
   "mimetype": "text/x-python",
   "name": "python",
   "nbconvert_exporter": "python",
   "pygments_lexer": "ipython3",
   "version": "3.6.5"
  }
 },
 "nbformat": 4,
 "nbformat_minor": 2
}
