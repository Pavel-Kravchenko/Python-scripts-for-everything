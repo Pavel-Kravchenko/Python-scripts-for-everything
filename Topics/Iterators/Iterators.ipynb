{
 "cells": [
  {
   "cell_type": "code",
   "execution_count": 3,
   "metadata": {
    "collapsed": true,
    "jupyter": {
     "outputs_hidden": true
    }
   },
   "outputs": [],
   "source": [
    "import dis"
   ]
  },
  {
   "cell_type": "markdown",
   "metadata": {},
   "source": [
    "**Итераторы и итерируемые объекты**\n",
    "\n",
    "Итератор, вообще говоря, это один из паттернов программирования. Подробнее о них можно почитать, например, в классическом учебнике \"банды четырех\" - Design Patterns. Мы не будем подробно на этом останавливаться\n",
    "\n",
    "![iterator](iterator_pattern.gif)\n",
    "\n",
    "Что нам действительно важно понять, это то, что **итератор** - это объект, который позволяет нам проходить по какому-то контейнеру - Aggregate - что-то, содержащее другие объекты. Чтобы быть итератором, классический итератор должен иметь операцию next, которая выдает следующий объект контейнера, и уметь сообщать об окончании итерации - в случае Python для этого служит специальный тип исключения - **StopIteration**\n",
    "\n",
    "Объекты, которые позволяют получить итератор для них, называются итерируемыми. Чтобы получить итератор для них, в Python есть специальная функция **iter**\n",
    "\n",
    "Например, всем известный список является итерируемым объектом. "
   ]
  },
  {
   "cell_type": "code",
   "execution_count": 22,
   "metadata": {},
   "outputs": [
    {
     "name": "stdout",
     "output_type": "stream",
     "text": [
      "<class 'list_iterator'>\n"
     ]
    }
   ],
   "source": [
    "nucleotides = [\"A\", \"T\", \"G\", \"C\"]\n",
    "\n",
    "nucleotides_iterator = iter(nucleotides)\n",
    "print (type(nucleotides_iterator))"
   ]
  },
  {
   "cell_type": "code",
   "execution_count": 23,
   "metadata": {
    "scrolled": true
   },
   "outputs": [
    {
     "name": "stdout",
     "output_type": "stream",
     "text": [
      "A\n",
      "T\n",
      "G\n",
      "C\n"
     ]
    }
   ],
   "source": [
    "print (next(nucleotides_iterator))\n",
    "print (next(nucleotides_iterator))\n",
    "print (next(nucleotides_iterator))\n",
    "print (next(nucleotides_iterator))"
   ]
  },
  {
   "cell_type": "markdown",
   "metadata": {},
   "source": [
    "Последний вызов возвращает исключение"
   ]
  },
  {
   "cell_type": "code",
   "execution_count": 24,
   "metadata": {},
   "outputs": [
    {
     "ename": "StopIteration",
     "evalue": "",
     "output_type": "error",
     "traceback": [
      "\u001b[0;31m---------------------------------------------------------------------------\u001b[0m",
      "\u001b[0;31mStopIteration\u001b[0m                             Traceback (most recent call last)",
      "\u001b[0;32m<ipython-input-24-7e3649ccd309>\u001b[0m in \u001b[0;36m<module>\u001b[0;34m()\u001b[0m\n\u001b[0;32m----> 1\u001b[0;31m \u001b[0mprint\u001b[0m \u001b[0;34m(\u001b[0m\u001b[0mnext\u001b[0m\u001b[0;34m(\u001b[0m\u001b[0mnucleotides_iterator\u001b[0m\u001b[0;34m)\u001b[0m\u001b[0;34m)\u001b[0m\u001b[0;34m\u001b[0m\u001b[0m\n\u001b[0m",
      "\u001b[0;31mStopIteration\u001b[0m: "
     ]
    }
   ],
   "source": [
    "print (next(nucleotides_iterator))"
   ]
  },
  {
   "cell_type": "markdown",
   "metadata": {},
   "source": [
    "Строки, множества, словари, файлы - тоже являются итерируемыми объектами. Зачем нам это нужно? \n",
    "\n",
    "На самом деле, даже использую цикл for мы неявно используем механизм итераторов"
   ]
  },
  {
   "cell_type": "code",
   "execution_count": 25,
   "metadata": {},
   "outputs": [
    {
     "name": "stdout",
     "output_type": "stream",
     "text": [
      "A\n",
      "T\n",
      "G\n",
      "C\n"
     ]
    }
   ],
   "source": [
    "def print_nucleotides():\n",
    "    for n in nucleotides:\n",
    "        print (n)\n",
    "        \n",
    "print_nucleotides()"
   ]
  },
  {
   "cell_type": "markdown",
   "metadata": {},
   "source": [
    "Наиболее явно нам это помогает увидеть машинный код, в который переводит Python нашу функцию"
   ]
  },
  {
   "cell_type": "code",
   "execution_count": 26,
   "metadata": {},
   "outputs": [
    {
     "name": "stdout",
     "output_type": "stream",
     "text": [
      "  2           0 SETUP_LOOP              20 (to 22)\n",
      "              2 LOAD_GLOBAL              0 (nucleotides)\n",
      "              4 GET_ITER\n",
      "        >>    6 FOR_ITER                12 (to 20)\n",
      "              8 STORE_FAST               0 (n)\n",
      "\n",
      "  3          10 LOAD_GLOBAL              1 (print)\n",
      "             12 LOAD_FAST                0 (n)\n",
      "             14 CALL_FUNCTION            1\n",
      "             16 POP_TOP\n",
      "             18 JUMP_ABSOLUTE            6\n",
      "        >>   20 POP_BLOCK\n",
      "        >>   22 LOAD_CONST               0 (None)\n",
      "             24 RETURN_VALUE\n"
     ]
    }
   ],
   "source": [
    "dis.dis(print_nucleotides)"
   ]
  },
  {
   "cell_type": "markdown",
   "metadata": {},
   "source": [
    "Если это сложно, то for приблизительно можно записать вот так (только приблизительно, по скорости и красоте это проигрывает)"
   ]
  },
  {
   "cell_type": "code",
   "execution_count": null,
   "metadata": {
    "collapsed": true,
    "jupyter": {
     "outputs_hidden": true
    }
   },
   "outputs": [],
   "source": [
    "def print_nucleotides_trivial():\n",
    "    nucleotides_iterator = iter(nucleotides)\n",
    "    while True:\n",
    "        try:\n",
    "            value = next(nucleotides_iterator)\n",
    "        except StopIteration:\n",
    "            break\n",
    "        print (value)\n",
    "\n",
    "print_nucleotides_trivial()"
   ]
  },
  {
   "cell_type": "code",
   "execution_count": 20,
   "metadata": {
    "collapsed": true,
    "jupyter": {
     "outputs_hidden": true
    }
   },
   "outputs": [],
   "source": [
    "COMPLEMENT_TABLE = {\"A\" : \"T\", \"C\" : \"G\", \"T\" : \"A\", \"G\" : \"C\"}"
   ]
  },
  {
   "cell_type": "markdown",
   "metadata": {},
   "source": [
    "Что будет выдавать нам итератор по словарю?"
   ]
  },
  {
   "cell_type": "code",
   "execution_count": 64,
   "metadata": {},
   "outputs": [
    {
     "name": "stdout",
     "output_type": "stream",
     "text": [
      "<dict_keyiterator object at 0x7f80718a75e8>\n",
      "A\n",
      "C\n",
      "T\n",
      "G\n",
      "CPU times: user 4 ms, sys: 0 ns, total: 4 ms\n",
      "Wall time: 618 µs\n"
     ]
    }
   ],
   "source": [
    "%%time\n",
    "dt_iterator = iter(COMPLEMENT_TABLE)\n",
    "print(dt_iterator)\n",
    "while True:\n",
    "    try:\n",
    "        value = next(dt_iterator)\n",
    "    except StopIteration:\n",
    "        break\n",
    "    print (value)\n"
   ]
  },
  {
   "cell_type": "code",
   "execution_count": 42,
   "metadata": {},
   "outputs": [
    {
     "name": "stdout",
     "output_type": "stream",
     "text": [
      "A\n",
      "C\n",
      "T\n",
      "G\n",
      "CPU times: user 0 ns, sys: 0 ns, total: 0 ns\n",
      "Wall time: 308 µs\n"
     ]
    }
   ],
   "source": [
    "%%time\n",
    "for i in COMPLEMENT_TABLE.keys():\n",
    "    print(i)"
   ]
  },
  {
   "cell_type": "markdown",
   "metadata": {},
   "source": [
    "List comprehensions. Списочные сокращения  "
   ]
  },
  {
   "cell_type": "markdown",
   "metadata": {},
   "source": [
    "Часто работа с данными представимы в последовательной обработкой списков, в ходе которой к каждому объекту списка применяется какая функция, а полученный результат складывается в новый список. "
   ]
  },
  {
   "cell_type": "code",
   "execution_count": 139,
   "metadata": {
    "collapsed": true,
    "jupyter": {
     "outputs_hidden": true
    }
   },
   "outputs": [],
   "source": [
    "CODON_TABLE = {'AAA': 'K',\n",
    " 'AAC': 'N', 'AAG': 'K', 'AAU': 'N', 'ACA': 'T',\n",
    " 'ACC': 'T', 'ACG': 'T', 'ACU': 'T','AGA': 'R',\n",
    " 'AGC': 'S', 'AGG': 'R', 'AGU': 'S', 'AUA': 'I',\n",
    " 'AUC': 'I', 'AUG': 'M', 'AUU': 'I', 'CAA': 'Q',\n",
    " 'CAC': 'H', 'CAG': 'Q', 'CAU': 'H', 'CCA': 'P',\n",
    " 'CCC': 'P', 'CCG': 'P', 'CCU': 'P', 'CGA': 'R',\n",
    " 'CGC': 'R', 'CGG': 'R', 'CGU': 'R', 'CUA': 'L',\n",
    " 'CUC': 'L', 'CUG': 'L', 'CUU': 'L', 'GAA': 'E',\n",
    " 'GAC': 'D', 'GAG': 'E', 'GAU': 'D', 'GCA': 'A',\n",
    " 'GCC': 'A', 'GCG': 'A', 'GCU': 'A', 'GGA': 'G',\n",
    " 'GGC': 'G', 'GGG': 'G', 'GGU': 'G', 'GUA': 'V',\n",
    " 'GUC': 'V', 'GUG': 'V', 'GUU': 'V', 'UAA': '*',\n",
    " 'UAC': 'Y', 'UAG': '*', 'UAU': 'Y', 'UCA': 'S',\n",
    " 'UCC': 'S', 'UCG': 'S', 'UCU': 'S', 'UGA': '*',\n",
    " 'UGC': 'C', 'UGG': 'W', 'UGU': 'C', 'UUA': 'L',\n",
    " 'UUC': 'F', 'UUG': 'L', 'UUU': 'F'}"
   ]
  },
  {
   "cell_type": "code",
   "execution_count": null,
   "metadata": {
    "collapsed": true,
    "jupyter": {
     "outputs_hidden": true
    }
   },
   "outputs": [],
   "source": [
    "import random\n",
    "random.seed(42)\n",
    "codons = []\n",
    "codon_names = list(CODON_TABLE.keys())\n",
    "for _ in range(100):\n",
    "    codons.append(random.choice(codon_names))\n",
    "\n",
    "codon_names[0:10]\n",
    "print(codons)"
   ]
  },
  {
   "cell_type": "code",
   "execution_count": null,
   "metadata": {
    "collapsed": true,
    "jupyter": {
     "outputs_hidden": true
    }
   },
   "outputs": [],
   "source": [
    "def get_aminoacids(codons):\n",
    "    aminoacids = []\n",
    "    for c in codons:\n",
    "        aminoacids.append(CODON_TABLE[c])\n",
    "    return aminoacids\n",
    "aminoacids = get_aminoacids(codons)\n",
    "print(aminoacids)"
   ]
  },
  {
   "cell_type": "code",
   "execution_count": null,
   "metadata": {
    "collapsed": true,
    "jupyter": {
     "outputs_hidden": true
    }
   },
   "outputs": [],
   "source": [
    "%%timeit\n",
    "aminoacids = get_aminoacids(codons)"
   ]
  },
  {
   "cell_type": "markdown",
   "metadata": {},
   "source": [
    "В Python существует специальный синтаксис для таких действий - list comprehensions. Но это не просто \"синтаксический сахар\". Это работает быстрее за счет внутренних оптимизаций. "
   ]
  },
  {
   "cell_type": "code",
   "execution_count": null,
   "metadata": {
    "collapsed": true,
    "jupyter": {
     "outputs_hidden": true
    }
   },
   "outputs": [],
   "source": [
    "def get_aminoacids_comprehension(codons):\n",
    "    return [CODON_TABLE[c] for c in codons]"
   ]
  },
  {
   "cell_type": "code",
   "execution_count": null,
   "metadata": {
    "collapsed": true,
    "jupyter": {
     "outputs_hidden": true
    }
   },
   "outputs": [],
   "source": [
    "%%timeit\n",
    "get_aminoacids_comprehension(codons)"
   ]
  },
  {
   "cell_type": "markdown",
   "metadata": {},
   "source": [
    "Посмотрим на байткод (внутренне представления Python) наших двух функций"
   ]
  },
  {
   "cell_type": "code",
   "execution_count": null,
   "metadata": {
    "collapsed": true,
    "jupyter": {
     "outputs_hidden": true
    }
   },
   "outputs": [],
   "source": [
    "from dis import dis\n",
    "print (\"Start of trivial version\")\n",
    "dis(get_aminoacids)\n",
    "print (\"End\")\n",
    "print (\"Start of list comprehension version\")\n",
    "dis(get_aminoacids_comprehension)\n",
    "print (\"End\")"
   ]
  },
  {
   "cell_type": "markdown",
   "metadata": {},
   "source": [
    "Две наиболее частые задачи, которые применяются к спискам - это применить  функцию к значениям из одного списка и поместить результат в другой, и - отфильтровать значения из списка по какому-то критерию. Они могут быть реализованы с помощью двух подходов.\n",
    "Первый - уже разобранный list comprehensions. Второй - использование встроенных функций map и filter"
   ]
  },
  {
   "cell_type": "markdown",
   "metadata": {},
   "source": [
    "Описание второй функции в три раза меньше. Обычно, для чего Python сгенерил меньшее описаниие, быстрее и выполняется"
   ]
  },
  {
   "cell_type": "markdown",
   "metadata": {},
   "source": [
    "Например, если хотим сделать словарь квадратов от 0 до 100. Можно так:"
   ]
  },
  {
   "cell_type": "code",
   "execution_count": null,
   "metadata": {
    "collapsed": true,
    "jupyter": {
     "outputs_hidden": true
    }
   },
   "outputs": [],
   "source": [
    "squares = [x ** 2 for x in range(101)]\n",
    "print (squares)"
   ]
  },
  {
   "cell_type": "markdown",
   "metadata": {},
   "source": [
    "А можно так:"
   ]
  },
  {
   "cell_type": "code",
   "execution_count": null,
   "metadata": {
    "collapsed": true,
    "jupyter": {
     "outputs_hidden": true
    }
   },
   "outputs": [],
   "source": [
    "squares = list(map(lambda x : x ** 2, range(101)))\n",
    "print (squares)"
   ]
  },
  {
   "cell_type": "markdown",
   "metadata": {},
   "source": [
    "Map принимает на вход первым аргументом функцию, которую надо применить к списку (или другому итерируемому объекту), а вторым- сам объект"
   ]
  },
  {
   "cell_type": "code",
   "execution_count": null,
   "metadata": {
    "collapsed": true,
    "jupyter": {
     "outputs_hidden": true
    }
   },
   "outputs": [],
   "source": [
    "aminoacids = list(map(lambda x : CODON_TABLE[x], codons))\n",
    "aminoacids[0:10]"
   ]
  },
  {
   "cell_type": "code",
   "execution_count": null,
   "metadata": {
    "collapsed": true,
    "jupyter": {
     "outputs_hidden": true
    }
   },
   "outputs": [],
   "source": [
    "%%timeit\n",
    "aminoacids = list(map(lambda x : CODON_TABLE[x], codons))"
   ]
  },
  {
   "cell_type": "markdown",
   "metadata": {},
   "source": [
    "Работает медленнее, так как map возвращает итератор, который мы затем превращаем в список"
   ]
  },
  {
   "cell_type": "markdown",
   "metadata": {},
   "source": [
    "Теперь допустим, что мы хотим отфильтровать наши объекты по какому-то принципу. Например, хотим из первых 1000 чисел отобрать только дающие при делении на 7 остаток 5"
   ]
  },
  {
   "cell_type": "code",
   "execution_count": null,
   "metadata": {
    "collapsed": true,
    "jupyter": {
     "outputs_hidden": true
    }
   },
   "outputs": [],
   "source": [
    "div7_5 = [x for x in range(1000) if x % 7 == 5]\n",
    "div7_5[0:10]"
   ]
  },
  {
   "cell_type": "markdown",
   "metadata": {},
   "source": [
    "Аналогичную операцию делает filter"
   ]
  },
  {
   "cell_type": "code",
   "execution_count": null,
   "metadata": {
    "collapsed": true,
    "jupyter": {
     "outputs_hidden": true
    }
   },
   "outputs": [],
   "source": [
    "div7_5 = list(filter(lambda x : x % 7 == 5, range(1000)))\n",
    "print (div7_5[0:10])"
   ]
  },
  {
   "cell_type": "markdown",
   "metadata": {},
   "source": [
    "Кроме того, есть reduce, который, из-за большого риска возникновения нечитаемого кода, был вынесен в functools и к использованию не рекомендуется"
   ]
  },
  {
   "cell_type": "code",
   "execution_count": null,
   "metadata": {
    "collapsed": true,
    "jupyter": {
     "outputs_hidden": true
    }
   },
   "outputs": [],
   "source": [
    "from functools import reduce"
   ]
  },
  {
   "cell_type": "code",
   "execution_count": null,
   "metadata": {
    "collapsed": true,
    "jupyter": {
     "outputs_hidden": true
    }
   },
   "outputs": [],
   "source": [
    "fact5 = reduce(lambda x,y : x * y, range(1, 10))\n",
    "print (fact5)\n",
    "\n",
    "\n",
    "product = lambda *args :reduce(lambda x, y : x * y, *args)\n",
    "print (product(range(1, 6)))"
   ]
  },
  {
   "cell_type": "markdown",
   "metadata": {},
   "source": [
    "Как он работает? \n",
    "Упрощенно вот так:"
   ]
  },
  {
   "cell_type": "code",
   "execution_count": null,
   "metadata": {},
   "outputs": [],
   "source": [
    "def handmade_reduce(func, iterable, initial=None): # func should accept two positional arguments\n",
    "    if initial is None:\n",
    "        iterator = iter(iterable)\n",
    "        try:\n",
    "            acc = next(iterator) # initial value is the first element of iterable\n",
    "        except Exception as e:\n",
    "            print (\"Reduce can't work with empty sequences\")\n",
    "            raise e\n",
    "    else:\n",
    "        acc = initial\n",
    "        \n",
    "    for value in iterator:\n",
    "        acc = func(acc, value)\n",
    "        \n",
    "    return acc"
   ]
  },
  {
   "cell_type": "code",
   "execution_count": null,
   "metadata": {
    "collapsed": true,
    "jupyter": {
     "outputs_hidden": true
    }
   },
   "outputs": [],
   "source": [
    "handmade_reduce(lambda x,y : x * y, range(1, 6))"
   ]
  },
  {
   "cell_type": "markdown",
   "metadata": {},
   "source": [
    "Какие встроенные функции в Python ведут себя как reduce? "
   ]
  },
  {
   "cell_type": "markdown",
   "metadata": {},
   "source": [
    "**Тернарный оператор**"
   ]
  },
  {
   "cell_type": "markdown",
   "metadata": {},
   "source": [
    "Важно, что в Python если однострочный if else"
   ]
  },
  {
   "cell_type": "code",
   "execution_count": null,
   "metadata": {
    "collapsed": true,
    "jupyter": {
     "outputs_hidden": true
    }
   },
   "outputs": [],
   "source": [
    "a = 5 if 14 % 7 == 0 else 7\n",
    "print (a)\n",
    "codon = \"UAA\"\n",
    "a = \"StopCodon\" if codon in (\"UAA\",  \"UAG\",  'UGA') else \"Tryptophan\" if codon == 'UGG' else \"Other\"\n",
    "print (a)"
   ]
  },
  {
   "cell_type": "markdown",
   "metadata": {},
   "source": [
    "И его тоже можно использовать в list comprehension, но смысл будет отличный от if после for x in range. Здесь каждому эдементу будет ставиться в соответствие значение, в соответствии с однострочным if"
   ]
  },
  {
   "cell_type": "code",
   "execution_count": null,
   "metadata": {
    "collapsed": true,
    "jupyter": {
     "outputs_hidden": true
    }
   },
   "outputs": [],
   "source": [
    "odd_or_even = [\"Odd\" if x % 2 == 1 else \"Even\" for x in range(100)] \n",
    "odd_or_even[0:10]"
   ]
  },
  {
   "cell_type": "markdown",
   "metadata": {},
   "source": [
    "Понятно, что в общем виде list comprehension можно записать так\n",
    "\n",
    "**[func(arg) for arg in iterable <if cond(arg)>]**,\n",
    "\n",
    "\n",
    "где func - какая-то функция от arg, в том числе это может быть тернарным оператором, а cond - некая функция, которая принимает arg и возвращает True или False (<> указывает на необязательность). Iterable - любой итерируемый объект"
   ]
  },
  {
   "cell_type": "markdown",
   "metadata": {},
   "source": [
    "**Почему map, filter и reduce хороши в меру? (Как и вообще функциональное программирование в Python)**"
   ]
  },
  {
   "cell_type": "markdown",
   "metadata": {},
   "source": [
    "Как проверить, является ли число 101 простым?\n"
   ]
  },
  {
   "cell_type": "code",
   "execution_count": null,
   "metadata": {
    "collapsed": true,
    "jupyter": {
     "outputs_hidden": true
    }
   },
   "outputs": [],
   "source": [
    "if reduce(lambda x, y : 0 if x % y == 0 else x, range(2,101), 101):\n",
    "    print (\"Prime\")\n",
    "else:\n",
    "    print (\"Not prime\")"
   ]
  },
  {
   "cell_type": "markdown",
   "metadata": {},
   "source": [
    "Как обобщить на любое натуральное число"
   ]
  },
  {
   "cell_type": "code",
   "execution_count": null,
   "metadata": {
    "collapsed": true,
    "jupyter": {
     "outputs_hidden": true
    }
   },
   "outputs": [],
   "source": [
    "is_prime = lambda z : False if z == 1 else True if reduce(lambda x,\n",
    "                                                          y : 0 if x % y == 0 else x, range(2,z), z) else False\n",
    "print (is_prime(10), is_prime(1), is_prime(2), is_prime(17))"
   ]
  },
  {
   "cell_type": "markdown",
   "metadata": {},
   "source": [
    "Возьмем только простые числа из первых 1000"
   ]
  },
  {
   "cell_type": "code",
   "execution_count": null,
   "metadata": {
    "collapsed": true,
    "jupyter": {
     "outputs_hidden": true
    }
   },
   "outputs": [],
   "source": [
    "primes = list(filter(lambda z : False if z == 1 else True if reduce(lambda x,\n",
    "                                                          y : 0 if x % y == 0 else x, range(2,z), z) else False,\n",
    "            range(1, 1001)))\n",
    "print (primes[0:10])"
   ]
  },
  {
   "cell_type": "markdown",
   "metadata": {},
   "source": [
    "Теперь оставим получим от них квадраты"
   ]
  },
  {
   "cell_type": "code",
   "execution_count": null,
   "metadata": {
    "collapsed": true,
    "jupyter": {
     "outputs_hidden": true
    }
   },
   "outputs": [],
   "source": [
    "prime_squares = map(lambda x : x ** 2, (filter(lambda z : False if z == 1 else True if reduce(lambda x,\n",
    "                                                          y : 0 if x % y == 0 else x, range(2,z), z) else False,\n",
    "            range(1, 1001))))\n",
    "print (list(prime_squares)[0:10])"
   ]
  },
  {
   "cell_type": "markdown",
   "metadata": {},
   "source": [
    "И оставим их них те, что на втором месте имеют 2"
   ]
  },
  {
   "cell_type": "code",
   "execution_count": null,
   "metadata": {
    "collapsed": true,
    "jupyter": {
     "outputs_hidden": true
    }
   },
   "outputs": [],
   "source": [
    "prime_squares_filtered = filter(lambda x : (x % 100) // 10  == 2, map(lambda x : x ** 2, (filter(lambda z : False if z == 1 else True if reduce(lambda x,\n",
    "                            y : 0 if x % y == 0 else x, range(2,z), z) else False, range(1, 1001)))) )\n",
    "\n",
    "print (list(prime_squares_filtered)[0:10])"
   ]
  },
  {
   "cell_type": "markdown",
   "metadata": {},
   "source": [
    "А что, если мы хотим таким же образом создать словарь? Есть синтаксис и для словарей"
   ]
  },
  {
   "cell_type": "markdown",
   "metadata": {},
   "source": [
    "Создадим словарь, для числа n хранящий значение соответствующего числа Фибоначчи\n",
    "\n"
   ]
  },
  {
   "cell_type": "code",
   "execution_count": 9,
   "metadata": {},
   "outputs": [
    {
     "name": "stdout",
     "output_type": "stream",
     "text": [
      "{0: 0, 1: 1, 2: 1, 3: 2, 4: 3, 5: 5, 6: 8, 7: 13, 8: 21, 9: 34}\n"
     ]
    }
   ],
   "source": [
    "def fibonacci(n):\n",
    "    f0, f1 = 0, 1\n",
    "    for i in range(n):\n",
    "        f0, f1 = f1, f0 + f1\n",
    "    return f0\n",
    "\n",
    "fibonacci_dt = { i : fibonacci(i) for i in range(10)}\n",
    "print (fibonacci_dt)"
   ]
  },
  {
   "cell_type": "markdown",
   "metadata": {},
   "source": [
    "Можно и множество так сделать (пусть тоже чисел Фибоначчи), и tuple (но по приичинам, что обсудим позже, здесь придется использовать tuple до скобок)\n"
   ]
  },
  {
   "cell_type": "code",
   "execution_count": 10,
   "metadata": {},
   "outputs": [
    {
     "name": "stdout",
     "output_type": "stream",
     "text": [
      "{0, 1, 2, 3, 34, 5, 8, 13, 21}\n",
      "(0, 1, 1, 2, 3, 5, 8, 13, 21, 34)\n"
     ]
    }
   ],
   "source": [
    "fibonacci_set = {fibonacci(i) for i in range(10)}\n",
    "fibonacci_tuple = tuple(fibonacci(i) for i in range(10))\n",
    "print (fibonacci_set)\n",
    "print (fibonacci_tuple)"
   ]
  },
  {
   "cell_type": "markdown",
   "metadata": {},
   "source": [
    " Допустим, мы хотим перевести каждую строку списка в уникальный, только ей соответствующий номер. Очевидно, для этого нужно использовать словарь"
   ]
  },
  {
   "cell_type": "code",
   "execution_count": 17,
   "metadata": {},
   "outputs": [
    {
     "name": "stdout",
     "output_type": "stream",
     "text": [
      "['CTCC', 'TTCG', 'GAAT', 'TTGG', 'CCGA', 'CGCC', 'TTGA', 'CGCC', 'GCAA', 'GTCG', 'TTAA', 'CGTT', 'GAGC', 'GTTG', 'TCTC', 'GCTA', 'AGAA', 'ACAG', 'GAAT', 'CACC', 'GAGA', 'GCCC', 'GGAG', 'CGTT', 'GAAT', 'TACC', 'CCTC', 'ACGA', 'AGCA', 'TTGT', 'TCGT', 'CGAT', 'CTCA', 'CTCT', 'ATAT', 'GAAA', 'TAGA', 'ATTG', 'GGCA', 'GCAC', 'CCGT', 'CAGG', 'GATC', 'TGTT', 'AGCG', 'CATA', 'AGCT', 'TACA', 'GCCG', 'ATTA', 'GGCA', 'TTCT', 'CGAA', 'TGGT', 'CAAG', 'AAGC', 'TAGA', 'TCGG', 'ACCG', 'GCCA', 'TATG', 'GCAT', 'TACG', 'TCCG', 'TATC', 'AGCC', 'GAGT', 'ACCC', 'TCTT', 'GCGT', 'AGAG', 'GGTC', 'GAGG', 'CCCT', 'ATTC', 'TCCG', 'TCGA', 'GGTA', 'TATC', 'GACG', 'GGGC', 'AACG', 'ACCC', 'GTTG', 'TTAG', 'ACTC', 'AGGT', 'CCCC', 'AGCG', 'TCTG', 'TAAA', 'CTAT', 'TTTG', 'CGAT', 'CGAT', 'CCGT', 'GACT', 'GCAG', 'GCTG', 'GATC']\n"
     ]
    }
   ],
   "source": [
    "import random\n",
    "seq_arr = [\"\".join([random.choice(\"ATGC\") for i in range(4)]) for i in range(100) ] # we use nested generators here\n",
    "print(seq_arr)"
   ]
  },
  {
   "cell_type": "code",
   "execution_count": 18,
   "metadata": {},
   "outputs": [
    {
     "name": "stdout",
     "output_type": "stream",
     "text": [
      "[0, 1, 2, 3, 4, 5, 6, 5, 7, 8]\n"
     ]
    }
   ],
   "source": [
    "def variant1(seq_arr):\n",
    "    mapping = {}\n",
    "    seq_map = []\n",
    "    for s in seq_arr:\n",
    "        if s not in mapping:\n",
    "            mapping[s] = len(mapping)\n",
    "        seq_map.append(mapping[s])\n",
    "    return seq_map\n",
    "    \n",
    "print (variant1(seq_arr)[0:10])"
   ]
  },
  {
   "cell_type": "markdown",
   "metadata": {},
   "source": [
    "Или, с использованием defaultdict"
   ]
  },
  {
   "cell_type": "code",
   "execution_count": 250,
   "metadata": {},
   "outputs": [
    {
     "name": "stdout",
     "output_type": "stream",
     "text": [
      "[0, 1, 2, 3, 4, 5, 2, 6, 7, 8]\n"
     ]
    }
   ],
   "source": [
    "from collections import defaultdict\n",
    "\n",
    "def variant2(seq_arr): \n",
    "    mapping = defaultdict(lambda : len(mapping))\n",
    "    seq_map = []\n",
    "    for s in seq_arr:\n",
    "        if s not in mapping:\n",
    "            mapping[s] = len(mapping)\n",
    "        seq_map.append(mapping[s])\n",
    "        \n",
    "    return seq_map\n",
    "    \n",
    "print (variant2(seq_arr)[0:10])"
   ]
  },
  {
   "cell_type": "markdown",
   "metadata": {},
   "source": [
    "Задача - перевести список в список. Хотелось бы применить здесь map или list comprehension. Но как?\n"
   ]
  },
  {
   "cell_type": "code",
   "execution_count": 251,
   "metadata": {
    "scrolled": true
   },
   "outputs": [
    {
     "name": "stdout",
     "output_type": "stream",
     "text": [
      "[0, 1, 2, 3, 4, 5, 2, 6, 7, 8]\n"
     ]
    }
   ],
   "source": [
    "def variant3(seq_arr):\n",
    "    mapping = defaultdict(lambda : len(mapping))\n",
    "    seq_map = list(map(lambda x : mapping[x], seq_arr))\n",
    "    return seq_map\n",
    "    \n",
    "print (variant3(seq_arr)[0:10])"
   ]
  },
  {
   "cell_type": "code",
   "execution_count": 252,
   "metadata": {},
   "outputs": [
    {
     "name": "stdout",
     "output_type": "stream",
     "text": [
      "[0, 1, 2, 3, 4, 5, 2, 6, 7, 8]\n"
     ]
    }
   ],
   "source": [
    "def variant4(seq_arr):\n",
    "    mapping = defaultdict(lambda : len(mapping))\n",
    "    seq_map = [mapping[s] for s in seq_arr]\n",
    "    return seq_map\n",
    "print (variant4(seq_arr)[0:10])"
   ]
  },
  {
   "cell_type": "code",
   "execution_count": 253,
   "metadata": {},
   "outputs": [
    {
     "name": "stdout",
     "output_type": "stream",
     "text": [
      "13 ms ± 576 µs per loop (mean ± std. dev. of 7 runs, 100 loops each)\n",
      "13.2 ms ± 232 µs per loop (mean ± std. dev. of 7 runs, 100 loops each)\n",
      "12.1 ms ± 185 µs per loop (mean ± std. dev. of 7 runs, 100 loops each)\n",
      "5.58 ms ± 118 µs per loop (mean ± std. dev. of 7 runs, 100 loops each)\n"
     ]
    }
   ],
   "source": [
    "%timeit variant1(seq_arr)\n",
    "%timeit variant2(seq_arr)\n",
    "%timeit variant3(seq_arr)\n",
    "%timeit variant4(seq_arr)"
   ]
  },
  {
   "cell_type": "markdown",
   "metadata": {},
   "source": [
    "**Еще немного о lambda-функциях и областях видимости.**\n",
    "\n",
    "Lambda  функции во многом являются полноправными функциями, они могут принимать \\*args, \\*\\*kwargs, как уже было показано. Могут они иметь и аргументы по-умолчанию. Зачем?\n",
    "\n",
    "Что напечатает пример, приведенной ниже?"
   ]
  },
  {
   "cell_type": "code",
   "execution_count": 258,
   "metadata": {},
   "outputs": [
    {
     "name": "stdout",
     "output_type": "stream",
     "text": [
      "14\n",
      "14\n",
      "14\n",
      "14\n",
      "14\n",
      "14\n",
      "14\n",
      "14\n",
      "14\n",
      "14\n"
     ]
    }
   ],
   "source": [
    "funcs_for_very_important_work = { ind : lambda x : x + ind for ind in range(10) }\n",
    "\n",
    "value = 5\n",
    "for func in funcs_for_very_important_work.values():\n",
    "    print (func(value))"
   ]
  },
  {
   "cell_type": "markdown",
   "metadata": {},
   "source": [
    "Дело в том, что при создании lambda-функции в данном примере происходит так называемое \"ленивое вычисление\" для ind, щапоминается ссылка на него, а не собственно значение. Из-за этого во всех функциях он становится равен 9 (последнее занчение, которое он принимает). Как это избежать? Нужно заставить функцию вычислить значение ind при создании. "
   ]
  },
  {
   "cell_type": "markdown",
   "metadata": {},
   "source": [
    "Наркоманский, хоть и работающий способ. Будем создавать нужную нам lambda функцию еще одной lambda-функцией, которую будем вызывать в момент создания. "
   ]
  },
  {
   "cell_type": "code",
   "execution_count": 259,
   "metadata": {},
   "outputs": [
    {
     "name": "stdout",
     "output_type": "stream",
     "text": [
      "5\n",
      "6\n",
      "7\n",
      "8\n",
      "9\n",
      "10\n",
      "11\n",
      "12\n",
      "13\n",
      "14\n"
     ]
    }
   ],
   "source": [
    "funcs_for_very_important_work = { ind : (lambda i : lambda x : x + i)(ind) for ind in range(10) }\n",
    "\n",
    "value = 5\n",
    "for func in funcs_for_very_important_work.values():\n",
    "    print (func(value))"
   ]
  },
  {
   "cell_type": "markdown",
   "metadata": {},
   "source": [
    "Хоть это и common practice в языках типа Golang, в Python можно сделать легче. Просто делаем ind аргументом по-умолчанию, он вычислится при создании функции"
   ]
  },
  {
   "cell_type": "code",
   "execution_count": 260,
   "metadata": {},
   "outputs": [
    {
     "name": "stdout",
     "output_type": "stream",
     "text": [
      "5\n",
      "6\n",
      "7\n",
      "8\n",
      "9\n",
      "10\n",
      "11\n",
      "12\n",
      "13\n",
      "14\n"
     ]
    }
   ],
   "source": [
    "funcs_for_very_important_work = { ind : lambda x, i=ind : x + i for ind in range(10) }\n",
    "\n",
    "value = 5\n",
    "for func in funcs_for_very_important_work.values():\n",
    "    print (func(value))"
   ]
  },
  {
   "cell_type": "markdown",
   "metadata": {},
   "source": [
    "**Генераторы. Базовый уровень**\n",
    "\n",
    "Что будет, если мы попытаемся сделать кортеж по аналогии со списком? (просто поменяв скобочки)"
   ]
  },
  {
   "cell_type": "code",
   "execution_count": 2,
   "metadata": {},
   "outputs": [
    {
     "name": "stdout",
     "output_type": "stream",
     "text": [
      "<generator object <genexpr> at 0x7f66540b9fc0> <class 'generator'>\n"
     ]
    }
   ],
   "source": [
    "tuple_question = (x * 2 for x in range(10))\n",
    "print (tuple_question, type(tuple_question))"
   ]
  },
  {
   "cell_type": "markdown",
   "metadata": {},
   "source": [
    "Какой-то неправильный кортеж"
   ]
  },
  {
   "cell_type": "code",
   "execution_count": 267,
   "metadata": {},
   "outputs": [
    {
     "ename": "TypeError",
     "evalue": "'generator' object is not subscriptable",
     "output_type": "error",
     "traceback": [
      "\u001b[0;31m---------------------------------------------------------------------------\u001b[0m",
      "\u001b[0;31mTypeError\u001b[0m                                 Traceback (most recent call last)",
      "\u001b[0;32m<ipython-input-267-a953629317fd>\u001b[0m in \u001b[0;36m<module>\u001b[0;34m()\u001b[0m\n\u001b[0;32m----> 1\u001b[0;31m \u001b[0mtuple_question\u001b[0m\u001b[0;34m[\u001b[0m\u001b[0;36m0\u001b[0m\u001b[0;34m]\u001b[0m\u001b[0;34m\u001b[0m\u001b[0m\n\u001b[0m",
      "\u001b[0;31mTypeError\u001b[0m: 'generator' object is not subscriptable"
     ]
    }
   ],
   "source": [
    "tuple_question[0]"
   ]
  },
  {
   "cell_type": "markdown",
   "metadata": {},
   "source": [
    "![generator](i-am-a-generator.jpg)"
   ]
  },
  {
   "cell_type": "markdown",
   "metadata": {},
   "source": [
    "Объект, который мы получили называется генератор. В чем отличие его от списка/кортежа ? \n",
    "\n",
    "По нему точно так же можно итерироваться "
   ]
  },
  {
   "cell_type": "code",
   "execution_count": 4,
   "metadata": {},
   "outputs": [
    {
     "name": "stdout",
     "output_type": "stream",
     "text": [
      "0\n",
      "2\n",
      "4\n",
      "6\n",
      "8\n",
      "10\n",
      "12\n",
      "14\n",
      "16\n",
      "18\n"
     ]
    }
   ],
   "source": [
    "squares = (x * 2 for x in range(10))\n",
    "for s in squares:\n",
    "    print (s)"
   ]
  },
  {
   "cell_type": "code",
   "execution_count": 18,
   "metadata": {},
   "outputs": [
    {
     "name": "stdout",
     "output_type": "stream",
     "text": [
      "1\n",
      "1\n",
      "1\n"
     ]
    }
   ],
   "source": [
    "def my_gen(f0, f1):\n",
    "    while True:\n",
    "        yield f0\n",
    "        f0, f1 = f1, f0 * 2\n",
    "    pass\n",
    "print(next(my_gen(1,1)))\n",
    "print(next(my_gen(1, 1)))\n",
    "print(next(my_gen(1,1)))"
   ]
  },
  {
   "cell_type": "markdown",
   "metadata": {},
   "source": [
    "Один раз"
   ]
  },
  {
   "cell_type": "code",
   "execution_count": 90,
   "metadata": {
    "collapsed": true,
    "jupyter": {
     "outputs_hidden": true
    }
   },
   "outputs": [],
   "source": [
    "for s in squares:\n",
    "    print (s)"
   ]
  },
  {
   "cell_type": "markdown",
   "metadata": {},
   "source": [
    "Генератор - один из способов реализации концепции ленивых вычислений. Мы пишем, что за вычисления нужно осуществить, а осуществлены они будут только тогда, когда это непосредственно потребуется.\n",
    "Таким образом в памяти будет храниться лишь минимум информации, необходимой для осуществления этого вычисления."
   ]
  },
  {
   "cell_type": "code",
   "execution_count": 104,
   "metadata": {},
   "outputs": [
    {
     "name": "stdout",
     "output_type": "stream",
     "text": [
      "CPU times: user 36 ms, sys: 0 ns, total: 36 ms\n",
      "Wall time: 37.2 ms\n"
     ]
    }
   ],
   "source": [
    "%%time\n",
    "squares = [x ** 2 for x in range(100000)]\n",
    "for s in squares:\n",
    "    if s % 99000000000 == 0:\n",
    "        pass"
   ]
  },
  {
   "cell_type": "code",
   "execution_count": 97,
   "metadata": {},
   "outputs": [
    {
     "name": "stdout",
     "output_type": "stream",
     "text": [
      "CPU times: user 40 ms, sys: 0 ns, total: 40 ms\n",
      "Wall time: 42.3 ms\n"
     ]
    }
   ],
   "source": [
    "%%time\n",
    "squares_generator = (x ** 2 for x in range(100000))\n",
    "for s in squares_generator:\n",
    "    if s % 99000000000 == 0:\n",
    "        pass"
   ]
  },
  {
   "cell_type": "markdown",
   "metadata": {},
   "source": [
    "По скорости нет разности. Даже в случае с генератором чуть медленнее (это лишь пока мы не уперлись в лимит по памяти)\n",
    "\n",
    "Для использования memory_profiler надо выполнить следующие команды\n",
    "\n",
    "conda install -c chroxvi memory_profiler\n",
    "\n",
    "conda install -c anaconda psutil"
   ]
  },
  {
   "cell_type": "code",
   "execution_count": 105,
   "metadata": {
    "collapsed": true,
    "jupyter": {
     "outputs_hidden": true
    }
   },
   "outputs": [],
   "source": [
    "%load_ext memory_profiler"
   ]
  },
  {
   "cell_type": "code",
   "execution_count": 106,
   "metadata": {},
   "outputs": [
    {
     "name": "stdout",
     "output_type": "stream",
     "text": [
      "0\n",
      "10890000000000\n",
      "43560000000000\n",
      "98010000000000\n",
      "peak memory: 426.64 MiB, increment: 382.52 MiB\n"
     ]
    }
   ],
   "source": [
    "%%memit\n",
    "squares = [x ** 2 for x in range(10000000)]\n",
    "for s in squares:\n",
    "    if s % 99000000000 == 0:\n",
    "        print (s)\n",
    "    \n"
   ]
  },
  {
   "cell_type": "code",
   "execution_count": 108,
   "metadata": {},
   "outputs": [
    {
     "ename": "NameError",
     "evalue": "name 'squares' is not defined",
     "output_type": "error",
     "traceback": [
      "\u001b[0;31m---------------------------------------------------------------------------\u001b[0m",
      "\u001b[0;31mNameError\u001b[0m                                 Traceback (most recent call last)",
      "\u001b[0;32m<ipython-input-108-49bf42f70f6d>\u001b[0m in \u001b[0;36m<module>\u001b[0;34m()\u001b[0m\n\u001b[0;32m----> 1\u001b[0;31m \u001b[0;32mdel\u001b[0m \u001b[0msquares\u001b[0m\u001b[0;34m\u001b[0m\u001b[0m\n\u001b[0m",
      "\u001b[0;31mNameError\u001b[0m: name 'squares' is not defined"
     ]
    }
   ],
   "source": [
    "del squares"
   ]
  },
  {
   "cell_type": "code",
   "execution_count": 109,
   "metadata": {},
   "outputs": [
    {
     "name": "stdout",
     "output_type": "stream",
     "text": [
      "0\n",
      "10890000000000\n",
      "43560000000000\n",
      "98010000000000\n",
      "peak memory: 40.90 MiB, increment: 0.00 MiB\n"
     ]
    }
   ],
   "source": [
    "%%memit\n",
    "squares_generator = (x ** 2 for x in range(10000000))\n",
    "for s in squares_generator:\n",
    "    if s % 99000000000 == 0:\n",
    "        print (s)"
   ]
  },
  {
   "cell_type": "markdown",
   "metadata": {},
   "source": [
    "Видим, что использование памяти в случае с генератором минимально, в случае списка мы же получаем огромный оверхэд по памяти.\n",
    "\n",
    "Когда нам уже случалось использовать генератор? На самом деле при чтении файла с помощью конструкции for line in file мы используем именно генератор - файл не подгружается полностью, а частями, такими, чтобы минимизировать использование памяти, но при этом не замедлить исполняемый код\n",
    "\n",
    "Для использования кода ниже, если у вас Windows просто загрузите файл по [ссылке](https://www.genome.wisc.edu/pub/sequence/U00096.2.fas)"
   ]
  },
  {
   "cell_type": "code",
   "execution_count": 75,
   "metadata": {},
   "outputs": [
    {
     "name": "stdout",
     "output_type": "stream",
     "text": [
      "--2018-03-18 17:10:22--  https://www.genome.wisc.edu/pub/sequence/U00096.2.fas\n",
      "Распознаётся www.genome.wisc.edu (www.genome.wisc.edu)... 128.104.81.186\n",
      "Подключение к www.genome.wisc.edu (www.genome.wisc.edu)|128.104.81.186|:443... соединение установлено.\n",
      "HTTP-запрос отправлен. Ожидание ответа... 200 OK\n",
      "Длина: 4697740 (4,5M) [text/plain]\n",
      "Сохранение в каталог: ««U00096.2.fas.1»».\n",
      "\n",
      "U00096.2.fas.1      100%[===================>]   4,48M  59,7KB/s    in 4m 46s  \n",
      "\n",
      "2018-03-18 17:15:50 (16,1 KB/s) - «U00096.2.fas.1» сохранён [4697740/4697740]\n",
      "\n"
     ]
    }
   ],
   "source": [
    "!wget https://www.genome.wisc.edu/pub/sequence/U00096.2.fas"
   ]
  },
  {
   "cell_type": "code",
   "execution_count": 110,
   "metadata": {
    "collapsed": true,
    "jupyter": {
     "outputs_hidden": true
    }
   },
   "outputs": [],
   "source": [
    "path_to_fasta_file = \"U00096.2.fas\""
   ]
  },
  {
   "cell_type": "code",
   "execution_count": 111,
   "metadata": {
    "collapsed": true,
    "jupyter": {
     "outputs_hidden": true
    }
   },
   "outputs": [],
   "source": [
    "from collections import Counter"
   ]
  },
  {
   "cell_type": "code",
   "execution_count": 112,
   "metadata": {
    "collapsed": true,
    "jupyter": {
     "outputs_hidden": true
    }
   },
   "outputs": [],
   "source": [
    "cnt = Counter()\n",
    "?cnt.update"
   ]
  },
  {
   "cell_type": "code",
   "execution_count": 119,
   "metadata": {},
   "outputs": [
    {
     "name": "stdout",
     "output_type": "stream",
     "text": [
      ">U00096.2  Escherichia coli K-12 MG1655 complete genome (4639675 bp)\n",
      "\n",
      "[('c', 1179554), ('g', 1176923), ('a', 1142228), ('t', 1140970), ('\\n', 57996)]\n",
      "peak memory: 40.78 MiB, increment: 0.00 MiB\n"
     ]
    }
   ],
   "source": [
    "%%memit\n",
    "def process_line(line, cnt):\n",
    "    cnt.update(line)\n",
    "\n",
    "global_cnt = Counter()\n",
    "with open(path_to_fasta_file) as in_file:\n",
    "    print(in_file.readline())\n",
    "    for line in in_file:\n",
    "        process_line(line, global_cnt)\n",
    "print (global_cnt.most_common())"
   ]
  },
  {
   "cell_type": "code",
   "execution_count": 120,
   "metadata": {
    "collapsed": true,
    "jupyter": {
     "outputs_hidden": true
    }
   },
   "outputs": [],
   "source": [
    "del in_file\n",
    "del global_cnt"
   ]
  },
  {
   "cell_type": "markdown",
   "metadata": {},
   "source": [
    "Сравним просто с зачитыванием всего файла в память"
   ]
  },
  {
   "cell_type": "code",
   "execution_count": 121,
   "metadata": {},
   "outputs": [
    {
     "name": "stdout",
     "output_type": "stream",
     "text": [
      "[('c', 1179554), ('g', 1176923), ('a', 1142228), ('t', 1140970), ('\\n', 57996)]\n",
      "peak memory: 47.04 MiB, increment: 6.26 MiB\n"
     ]
    }
   ],
   "source": [
    "%%memit\n",
    "def process_line(line, cnt):\n",
    "    cnt.update(line)\n",
    "\n",
    "global_cnt = Counter()\n",
    "with open(path_to_fasta_file) as in_file:\n",
    "    in_file.readline()\n",
    "    lines = in_file.readlines()\n",
    "    for line in lines:\n",
    "        process_line(line, global_cnt)\n",
    "print (global_cnt.most_common())"
   ]
  },
  {
   "cell_type": "code",
   "execution_count": 122,
   "metadata": {
    "collapsed": true,
    "jupyter": {
     "outputs_hidden": true
    }
   },
   "outputs": [],
   "source": [
    "del in_file\n",
    "del global_cnt"
   ]
  },
  {
   "cell_type": "markdown",
   "metadata": {},
   "source": [
    "Генераторы можно использовать при создании других генераторов. При этом ни на одном из этапов мы не разворачиваем в памяти весь требуемый список, потому использование памяти минимально"
   ]
  },
  {
   "cell_type": "code",
   "execution_count": 132,
   "metadata": {},
   "outputs": [
    {
     "name": "stdout",
     "output_type": "stream",
     "text": [
      "peak memory: 47.12 MiB, increment: 0.00 MiB\n"
     ]
    }
   ],
   "source": [
    "%%memit\n",
    "squares = (x ** 2 for x in range(1000))\n",
    "squares_with_1_on_2 = (x for x in squares if (x % 100) // 10 == 1)\n",
    "squares_with_1_on_2_div7 = (x for x in squares_with_1_on_2 if x % 7 == 0)\n",
    "squares_with_1_on_2_div7_add3 = map(lambda x : x + 3, squares_with_1_on_2_div7)\n",
    "\n",
    "sm = sum(squares_with_1_on_2_div7_add3)"
   ]
  },
  {
   "cell_type": "markdown",
   "metadata": {},
   "source": [
    "Генераторы - одно из мощнейших средств Python. Они позволяют, единожды написав какие-то обработчики данных, \n",
    "дальше использовать их, соединять друг с другом и тд без дополнительных затрат по памяти.\n",
    "\n",
    "Более близкий пример - посчитать число разных кодонов в нуклеотидной последовательности, кодирующей белок"
   ]
  },
  {
   "cell_type": "code",
   "execution_count": 140,
   "metadata": {
    "collapsed": true,
    "jupyter": {
     "outputs_hidden": true
    }
   },
   "outputs": [],
   "source": [
    "start_codon = 'AUG'\n",
    "stop_codons = ['UAA','UAG', 'UGA']\n",
    "coding_codons = list(set(CODON_TABLE) - set(stop_codons))\n",
    "seq = start_codon +  \"\".join(random.choice(coding_codons) for _ in range(1000)) + random.choice(stop_codons)"
   ]
  },
  {
   "cell_type": "code",
   "execution_count": 151,
   "metadata": {},
   "outputs": [
    {
     "name": "stdout",
     "output_type": "stream",
     "text": [
      "<generator object <genexpr> at 0x7f805b761048>\n",
      "<generator object <genexpr> at 0x7f805b7610f8>\n",
      "Counter({'S': 101, 'R': 101, 'L': 89, 'P': 70, 'G': 69, 'V': 65, 'A': 61, 'T': 56, 'I': 45, 'F': 43, 'N': 41, 'E': 39, 'K': 36, 'C': 35, 'Q': 33, 'Y': 32, 'D': 29, 'H': 25, 'W': 16, 'M': 15, '*': 1})\n",
      "[('S', 101), ('R', 101), ('L', 89), ('P', 70), ('G', 69), ('V', 65), ('A', 61), ('T', 56), ('I', 45), ('F', 43), ('N', 41), ('E', 39), ('K', 36), ('C', 35), ('Q', 33), ('Y', 32), ('D', 29), ('H', 25), ('W', 16), ('M', 15), ('*', 1)]\n",
      "21\n",
      "21\n"
     ]
    }
   ],
   "source": [
    "codons = (seq[i:i+3] for i in range(0, len(seq), 3))\n",
    "print(codons)\n",
    "aminoacids = (CODON_TABLE[c] for c in codons)\n",
    "print(aminoacids)\n",
    "cnt = Counter(aminoacids)\n",
    "print(cnt)\n",
    "print (cnt.most_common())\n",
    "print(len(cnt))\n",
    "print (len(cnt.most_common()))"
   ]
  },
  {
   "cell_type": "markdown",
   "metadata": {},
   "source": [
    "Для работы с итерируемыми объектами, частности, с генераторами, существует множество встроенных функций\n",
    "\n",
    "**enumerate** - принимает итератор и возвращает итератор, который возвращает кортежи из (индекс, элемент_исходного итератора)"
   ]
  },
  {
   "cell_type": "code",
   "execution_count": null,
   "metadata": {
    "collapsed": true,
    "jupyter": {
     "outputs_hidden": true
    }
   },
   "outputs": [],
   "source": [
    "?enumerate"
   ]
  },
  {
   "cell_type": "code",
   "execution_count": 84,
   "metadata": {},
   "outputs": [
    {
     "name": "stdout",
     "output_type": "stream",
     "text": [
      "(0, 'K')\n",
      "0 K\n",
      "1 N\n",
      "2 K\n",
      "3 N\n",
      "4 T\n"
     ]
    }
   ],
   "source": [
    "aminoacids = CODON_TABLE.values()\n",
    "\n",
    "print (next(enumerate(aminoacids)))\n",
    "\n",
    "for ind, ac in enumerate(aminoacids):\n",
    "    print (ind, ac)\n",
    "    if ind == 4:\n",
    "        break\n"
   ]
  },
  {
   "cell_type": "markdown",
   "metadata": {},
   "source": [
    "Можно задать начало отчета (удобно, когда хочется иметь нумерацию с 1, например)"
   ]
  },
  {
   "cell_type": "code",
   "execution_count": 85,
   "metadata": {},
   "outputs": [
    {
     "name": "stdout",
     "output_type": "stream",
     "text": [
      "1 K\n",
      "2 N\n",
      "3 K\n",
      "4 N\n"
     ]
    }
   ],
   "source": [
    "start = 1\n",
    "for ind, ac in enumerate(aminoacids, start):\n",
    "    print (ind, ac)\n",
    "    if ind == 4:\n",
    "        break"
   ]
  },
  {
   "cell_type": "code",
   "execution_count": 86,
   "metadata": {
    "collapsed": true,
    "jupyter": {
     "outputs_hidden": true
    }
   },
   "outputs": [],
   "source": [
    "?zip"
   ]
  },
  {
   "cell_type": "markdown",
   "metadata": {},
   "source": [
    "**zip** - принимает итераторы, возвращает кортежи, где i элемент кортежа происходит из i итератора. "
   ]
  },
  {
   "cell_type": "code",
   "execution_count": 89,
   "metadata": {},
   "outputs": [
    {
     "name": "stdout",
     "output_type": "stream",
     "text": [
      "(0, 3)\n",
      "(1, 4)\n",
      "(2, 5)\n",
      "3 6\n",
      "4 7\n",
      "5 8\n"
     ]
    }
   ],
   "source": [
    "for t in zip(range(3), range(3, 6)):\n",
    "    print (t)\n",
    "    \n",
    "for i, j in zip(range(3, 6), range(6, 9)):\n",
    "    print (i, j)    "
   ]
  },
  {
   "cell_type": "markdown",
   "metadata": {},
   "source": [
    "С ним надо быть аккуратным. Если какой-то итератор содержит больше значений, чем другие, то эти значения просто не покажутся"
   ]
  },
  {
   "cell_type": "code",
   "execution_count": 90,
   "metadata": {},
   "outputs": [
    {
     "name": "stdout",
     "output_type": "stream",
     "text": [
      "3 6\n",
      "4 7\n",
      "5 8\n"
     ]
    }
   ],
   "source": [
    "for i, j in zip(range(3, 6), range(6, 20)):\n",
    "    print (i, j)   "
   ]
  },
  {
   "cell_type": "markdown",
   "metadata": {},
   "source": [
    "**reversed** - возвращает итератор, идущий в обратную сторону по контейнеру (как и следует из названия). Полезен, например, тем, что обычно использующийся для списков способ создает новый список, а этот - нет"
   ]
  },
  {
   "cell_type": "code",
   "execution_count": 152,
   "metadata": {
    "collapsed": true,
    "jupyter": {
     "outputs_hidden": true
    }
   },
   "outputs": [],
   "source": [
    "lst = [random.choice(\"ATGC\") for i in range(10000000)]"
   ]
  },
  {
   "cell_type": "code",
   "execution_count": 153,
   "metadata": {},
   "outputs": [
    {
     "name": "stdout",
     "output_type": "stream",
     "text": [
      "peak memory: 200.66 MiB, increment: 76.23 MiB\n"
     ]
    }
   ],
   "source": [
    "%%memit\n",
    "for i in lst[::-1]:\n",
    "    if i == \"G\":\n",
    "        break"
   ]
  },
  {
   "cell_type": "code",
   "execution_count": 154,
   "metadata": {},
   "outputs": [
    {
     "name": "stdout",
     "output_type": "stream",
     "text": [
      "peak memory: 124.43 MiB, increment: 0.00 MiB\n"
     ]
    }
   ],
   "source": [
    "%%memit\n",
    "for i in reversed(lst):\n",
    "    if i == \"G\":\n",
    "        break"
   ]
  },
  {
   "cell_type": "markdown",
   "metadata": {},
   "source": [
    "Пример использования"
   ]
  },
  {
   "cell_type": "code",
   "execution_count": 157,
   "metadata": {
    "collapsed": true,
    "jupyter": {
     "outputs_hidden": true
    }
   },
   "outputs": [],
   "source": [
    "def rindex(lst, query):\n",
    "    for ind, val in enumerate(reversed(lst)):\n",
    "        print(val, query)\n",
    "        if val == query:\n",
    "            return len(lst) - ind - 1\n",
    "    return -1"
   ]
  },
  {
   "cell_type": "code",
   "execution_count": 158,
   "metadata": {},
   "outputs": [
    {
     "name": "stdout",
     "output_type": "stream",
     "text": [
      "4 3\n",
      "15 3\n",
      "10 3\n",
      "3 3\n"
     ]
    },
    {
     "data": {
      "text/plain": [
       "2"
      ]
     },
     "execution_count": 158,
     "metadata": {},
     "output_type": "execute_result"
    }
   ],
   "source": [
    "rindex([1,2,3,10,15,4], 3)"
   ]
  },
  {
   "cell_type": "markdown",
   "metadata": {},
   "source": [
    "**Itertools**\n",
    "\n",
    "Много функций для работы с итераторами содержатся и в стандартном пакете"
   ]
  },
  {
   "cell_type": "code",
   "execution_count": 160,
   "metadata": {
    "collapsed": true,
    "jupyter": {
     "outputs_hidden": true
    }
   },
   "outputs": [],
   "source": [
    "from itertools import count, cycle, repeat, chain, compress, dropwhile, takewhile, islice"
   ]
  },
  {
   "cell_type": "markdown",
   "metadata": {},
   "source": [
    "**count** - бесконечный счетчик"
   ]
  },
  {
   "cell_type": "code",
   "execution_count": 130,
   "metadata": {},
   "outputs": [
    {
     "name": "stdout",
     "output_type": "stream",
     "text": [
      "5\n",
      "6\n",
      "7\n",
      "8\n",
      "9\n",
      "10\n",
      "11\n"
     ]
    }
   ],
   "source": [
    "cnt = count(5)\n",
    "for _ in range(7):\n",
    "    print (next(cnt))"
   ]
  },
  {
   "cell_type": "markdown",
   "metadata": {},
   "source": [
    "**cycle** - бесконечный циклический итератор"
   ]
  },
  {
   "cell_type": "code",
   "execution_count": 131,
   "metadata": {},
   "outputs": [
    {
     "name": "stdout",
     "output_type": "stream",
     "text": [
      "0\n",
      "1\n",
      "2\n",
      "0\n",
      "1\n",
      "2\n",
      "0\n"
     ]
    }
   ],
   "source": [
    "frames = (0, 1, 2)\n",
    "cycle_frames = cycle(frames)\n",
    "for _ in range(7):\n",
    "    print (next(cycle_frames))"
   ]
  },
  {
   "cell_type": "markdown",
   "metadata": {},
   "source": [
    "**repeat** - просто итератор, который бесконечно возвращает одно и то же значение\n",
    "\n",
    "Документация говорит, что полезно использовать, например, как источник константных значений для zip"
   ]
  },
  {
   "cell_type": "code",
   "execution_count": 163,
   "metadata": {},
   "outputs": [
    {
     "data": {
      "text/plain": [
       "[0, 1, 4, 9, 16, 25, 36, 49, 64, 81]"
      ]
     },
     "execution_count": 163,
     "metadata": {},
     "output_type": "execute_result"
    }
   ],
   "source": [
    "list(map(pow, range(10), repeat(2)))"
   ]
  },
  {
   "cell_type": "markdown",
   "metadata": {},
   "source": [
    "**chain** - принимает несколько итераторов и объединяет их в один"
   ]
  },
  {
   "cell_type": "code",
   "execution_count": 167,
   "metadata": {},
   "outputs": [
    {
     "name": "stdout",
     "output_type": "stream",
     "text": [
      "5\n",
      "6\n",
      "17\n",
      "18\n"
     ]
    }
   ],
   "source": [
    "for i in chain(range(5,7), range(17, 19)):\n",
    "    print (i)"
   ]
  },
  {
   "cell_type": "markdown",
   "metadata": {},
   "source": [
    "**chain.from_iterable** - делает то же самое, но принимает один итератор, который возвращает другие итераторы"
   ]
  },
  {
   "cell_type": "code",
   "execution_count": 137,
   "metadata": {},
   "outputs": [
    {
     "name": "stdout",
     "output_type": "stream",
     "text": [
      "1\n",
      "2\n",
      "1\n",
      "2\n",
      "3\n",
      "1\n",
      "2\n",
      "3\n",
      "4\n"
     ]
    }
   ],
   "source": [
    "for i in chain.from_iterable(range(1, x) for x in range(3, 6)):\n",
    "    print (i)"
   ]
  },
  {
   "cell_type": "markdown",
   "metadata": {},
   "source": [
    "**compress** - принимает на вход итератор со значениями и итератор с булевыми переменными, обозначающими брать нужную переменную или нет"
   ]
  },
  {
   "cell_type": "code",
   "execution_count": 139,
   "metadata": {},
   "outputs": [
    {
     "name": "stdout",
     "output_type": "stream",
     "text": [
      "A\n",
      "G\n"
     ]
    }
   ],
   "source": [
    "for i in compress(\"ATGC\", [True, False, True, False]):\n",
    "    print (i)"
   ]
  },
  {
   "cell_type": "markdown",
   "metadata": {},
   "source": [
    "**dropwhile** - не берет значения из итератора, пока выполняется условие, после этого возвращает остаток"
   ]
  },
  {
   "cell_type": "code",
   "execution_count": 155,
   "metadata": {},
   "outputs": [
    {
     "data": {
      "text/plain": [
       "[255346, 263810, 272459, 281295, 290320, 299536, 308945, 318549]"
      ]
     },
     "execution_count": 155,
     "metadata": {},
     "output_type": "execute_result"
    }
   ],
   "source": [
    "list(dropwhile(lambda y : y < 255000, (sum(i** 2 for i in range(0, x)) for x in range(5, 100)) ))"
   ]
  },
  {
   "cell_type": "markdown",
   "metadata": {},
   "source": [
    "**takewhile** - наоборот, берет значения пока выполняется условие"
   ]
  },
  {
   "cell_type": "code",
   "execution_count": 159,
   "metadata": {},
   "outputs": [
    {
     "data": {
      "text/plain": [
       "[30, 55, 91, 140]"
      ]
     },
     "execution_count": 159,
     "metadata": {},
     "output_type": "execute_result"
    }
   ],
   "source": [
    "list(takewhile(lambda y : y < 150, (sum(i** 2 for i in range(0, x)) for x in range(5, 100)) ))"
   ]
  },
  {
   "cell_type": "markdown",
   "metadata": {},
   "source": [
    "**islice** - взять срез по итератору"
   ]
  },
  {
   "cell_type": "code",
   "execution_count": 291,
   "metadata": {},
   "outputs": [
    {
     "name": "stdout",
     "output_type": "stream",
     "text": [
      "[0, 1, 4]\n",
      "[9, 16, 25]\n"
     ]
    }
   ],
   "source": [
    "a = (x ** 2 for x in range(10))\n",
    "print (list(islice(a, 0, 3)))\n",
    "print (list(islice(a, 0, 3)))"
   ]
  },
  {
   "cell_type": "markdown",
   "metadata": {},
   "source": [
    "Отдельно стоят итераторы, позволяющие делать всякие комбинаторные вещи"
   ]
  },
  {
   "cell_type": "code",
   "execution_count": 161,
   "metadata": {
    "collapsed": true,
    "jupyter": {
     "outputs_hidden": true
    }
   },
   "outputs": [],
   "source": [
    "from itertools import product, combinations, permutations, combinations_with_replacement"
   ]
  },
  {
   "cell_type": "markdown",
   "metadata": {},
   "source": [
    "**product** - декартово произведение"
   ]
  },
  {
   "cell_type": "code",
   "execution_count": 165,
   "metadata": {},
   "outputs": [
    {
     "data": {
      "text/plain": [
       "[(0, 0), (0, 1), (0, 2), (1, 0), (1, 1), (1, 2), (2, 0), (2, 1), (2, 2)]"
      ]
     },
     "execution_count": 165,
     "metadata": {},
     "output_type": "execute_result"
    }
   ],
   "source": [
    "list(product(range(3), range(3))) "
   ]
  },
  {
   "cell_type": "markdown",
   "metadata": {},
   "source": [
    "**combinations**"
   ]
  },
  {
   "cell_type": "code",
   "execution_count": 168,
   "metadata": {},
   "outputs": [
    {
     "data": {
      "text/plain": [
       "[('A', 'T'), ('A', 'G'), ('A', 'C'), ('T', 'G'), ('T', 'C'), ('G', 'C')]"
      ]
     },
     "execution_count": 168,
     "metadata": {},
     "output_type": "execute_result"
    }
   ],
   "source": [
    "list(combinations(\"ATGC\", 2))"
   ]
  },
  {
   "cell_type": "markdown",
   "metadata": {},
   "source": [
    "и т.д:)"
   ]
  },
  {
   "cell_type": "markdown",
   "metadata": {},
   "source": [
    "**Многострочные генераторы**"
   ]
  },
  {
   "cell_type": "markdown",
   "metadata": {},
   "source": [
    "До данного момента мы с вами писали только однострочные генераторы. Одна часто хочется написать какую-то сложную функцию, которая работает по тому же принципу, тратя мало памяти на вычисления. Для этого существует специальный синтаксис - **yield**\n",
    "\n",
    "Напишем, например, генератор чисел Фибоначчи"
   ]
  },
  {
   "cell_type": "code",
   "execution_count": 1,
   "metadata": {
    "collapsed": true,
    "jupyter": {
     "outputs_hidden": true
    }
   },
   "outputs": [],
   "source": [
    "def fibonacci_gen():\n",
    "    f0, f1 = 0, 1\n",
    "    while True:\n",
    "        yield f0\n",
    "        f0, f1 = f1, f0 + f1\n",
    "        print(f0)"
   ]
  },
  {
   "cell_type": "code",
   "execution_count": 2,
   "metadata": {},
   "outputs": [
    {
     "name": "stdout",
     "output_type": "stream",
     "text": [
      "0\n",
      "1\n",
      "1\n",
      "1\n",
      "1\n",
      "2\n",
      "2\n",
      "3\n",
      "3\n"
     ]
    }
   ],
   "source": [
    "fib_gen = fibonacci_gen()\n",
    "for i in range(5):\n",
    "    print (next(fib_gen))"
   ]
  },
  {
   "cell_type": "code",
   "execution_count": 174,
   "metadata": {},
   "outputs": [
    {
     "data": {
      "text/plain": [
       "[0, 1, 1, 2, 3, 5, 8, 13, 21, 34, 55, 89]"
      ]
     },
     "execution_count": 174,
     "metadata": {},
     "output_type": "execute_result"
    }
   ],
   "source": [
    "fib_gen = fibonacci_gen()\n",
    "list(takewhile(lambda x : x < 100, fib_gen))"
   ]
  },
  {
   "cell_type": "markdown",
   "metadata": {},
   "source": [
    "После выполнения команды **yield**, функция возвращает значение f0, но она завершается, а только замирает. Следующий вызов к ней \"пробуждает функцию\", она делает еще одну итерацию бесконечного цикла и снова замирает, возвращая значение\n",
    "\n",
    "\n",
    "Можем написать функцию, которая вернет нам итераторы по всем белкам на данной цепи (будем считать, что белки не могут быть вложенными)"
   ]
  },
  {
   "cell_type": "code",
   "execution_count": 409,
   "metadata": {
    "collapsed": true,
    "jupyter": {
     "outputs_hidden": true
    }
   },
   "outputs": [],
   "source": [
    "def transcribe(n, tr_table={\"A\" : \"A\", \"T\" : \"U\", \"G\" : \"G\", \"C\" : \"C\"}):\n",
    "    return tr_table[n]\n",
    "\n",
    "def iter_seqs(in_file_path):\n",
    "    open_frames = cycle([0,1,2])\n",
    "    proteins = [None, None, None]\n",
    "    with open(path_to_fasta_file) as in_file:\n",
    "        in_file.readline()\n",
    "        letters = chain.from_iterable((line for line in in_file))\n",
    "        dna_nucleotides = filter(lambda x : x != \"\\n\", letters)\n",
    "        nucleotides = map(lambda x : transcribe(x.upper()), dna_nucleotides)\n",
    "        \n",
    "        triplet = \"\".join(islice(nucleotides, 0,3))\n",
    "        \n",
    "        for n in nucleotides:\n",
    "            open_frame = next(open_frames)\n",
    "            cur_prot = proteins[open_frame]\n",
    "            ac = CODON_TABLE[triplet]\n",
    "            if ac == \"*\":\n",
    "                if cur_prot:\n",
    "                    proteins[open_frame] = None\n",
    "                    cur_prot.append(triplet)\n",
    "                    yield cur_prot\n",
    "            elif ac == \"M\" and cur_prot is None:\n",
    "                proteins[open_frame] = [triplet]\n",
    "            elif cur_prot is not None:\n",
    "                cur_prot.append(triplet)\n",
    "            triplet = triplet[1:] + n\n",
    "        "
   ]
  },
  {
   "cell_type": "code",
   "execution_count": 410,
   "metadata": {},
   "outputs": [
    {
     "name": "stdout",
     "output_type": "stream",
     "text": [
      "agcttttcattctgactgcaacgggcaatatgtctctgtgtggattaaaaaaagagtgtctgatagcagcttctgaactg\n",
      "\n"
     ]
    }
   ],
   "source": [
    "with open(path_to_fasta_file) as in_file:\n",
    "    in_file.readline()\n",
    "    print (in_file.readline())"
   ]
  },
  {
   "cell_type": "code",
   "execution_count": 411,
   "metadata": {},
   "outputs": [
    {
     "name": "stdout",
     "output_type": "stream",
     "text": [
      "peak memory: 211.86 MiB, increment: 6.53 MiB\n"
     ]
    },
    {
     "data": {
      "text/plain": [
       "<MemitResult : peak memory: 211.86 MiB, increment: 6.53 MiB>"
      ]
     },
     "execution_count": 411,
     "metadata": {},
     "output_type": "execute_result"
    }
   ],
   "source": [
    "%%memit -i 0.1 -c -o\n",
    "prots_gen = iter_seqs(path_to_fasta_file)\n",
    "codon_usage_cnt = Counter()\n",
    "for prot_codons in prots_gen:\n",
    "    codon_usage_cnt.update(prot_codons)"
   ]
  },
  {
   "cell_type": "code",
   "execution_count": 412,
   "metadata": {},
   "outputs": [
    {
     "name": "stdout",
     "output_type": "stream",
     "text": [
      "[('AUG', 76237), ('CUG', 53366), ('GCG', 46843), ('AAA', 44178), ('CAG', 43663), ('CGC', 40163), ('AUC', 39387), ('GAA', 39022), ('GCC', 38774), ('UUU', 37874), ('GGC', 36781), ('AUU', 36398), ('GAU', 35561), ('ACC', 33525), ('CCG', 33307), ('UUC', 33123), ('AAC', 32709), ('GCA', 32215), ('GUG', 31416), ('AAU', 30160), ('AGC', 29603), ('GGU', 29316), ('UUG', 28908), ('GUU', 28896), ('ACG', 28215), ('UGG', 28080), ('UGC', 26329), ('CGU', 26240), ('GCU', 25462), ('CCA', 24276), ('UUA', 24116), ('CAU', 23838), ('CGG', 23805), ('GUC', 23643), ('AAG', 23143), ('UCG', 23086), ('CAA', 22849), ('UCA', 22774), ('GAC', 22113), ('CAC', 21484), ('AUA', 21081), ('GUA', 19901), ('GAG', 19893), ('UAU', 19577), ('UCC', 18734), ('CUU', 18611), ('UGA', 18311), ('UAC', 17833), ('ACA', 17638), ('CUC', 17231), ('AGU', 16749), ('GGG', 16321), ('ACU', 15999), ('UCU', 15969), ('GGA', 15646), ('UAA', 15573), ('CCC', 15446), ('CGA', 15273), ('UGU', 15088), ('CCU', 14393), ('AGA', 14140), ('AGG', 13613), ('CUA', 7489), ('UAG', 7048)]\n"
     ]
    }
   ],
   "source": [
    "print (codon_usage_cnt.most_common())"
   ]
  },
  {
   "cell_type": "markdown",
   "metadata": {},
   "source": [
    "Что дают генераторы:"
   ]
  },
  {
   "cell_type": "markdown",
   "metadata": {},
   "source": [
    "![generators](generators_pipelines.png)"
   ]
  },
  {
   "cell_type": "markdown",
   "metadata": {},
   "source": [
    "**Coroutines**"
   ]
  },
  {
   "cell_type": "markdown",
   "metadata": {},
   "source": [
    "Начиная с Python2.5 появилась возможность не только получать значение из генератора, но и посылать их туда. Это плавно дает возможность использовать генератор как корутину - сопрограмму. То есть можно сделать набор функций, общающихся друг с другом и выдающим в конце результат результат. \n",
    "\n",
    "Общение происходит с помощью функции генератора send. Чтобы иметь возможность посылать корутине значения, ее надо \"запустить\", послав в нее None или применив к ней next.\n",
    "\n",
    "После окончания общения с корутиной ее надо закрыть, при этом в самой корутине можно прописать реакцию на закрытие (с помощью exception, если его не перехватывать, то все равно ничего не произойдет) \n",
    "\n",
    "Например, напишем свой grep"
   ]
  },
  {
   "cell_type": "code",
   "execution_count": 5,
   "metadata": {},
   "outputs": [
    {
     "name": "stdout",
     "output_type": "stream",
     "text": [
      "Looking for pythd\n",
      "Going away. Goodbye\n"
     ]
    }
   ],
   "source": [
    "def grep_simple(pattern): # also works, but doesn't  Goodbye:(\n",
    "    print (\"Looking for %s\" % pattern)\n",
    "    while True:\n",
    "        line = (yield)\n",
    "        if pattern in line:\n",
    "            print (line)\n",
    "\n",
    "\n",
    "def grep(pattern):\n",
    "    print (\"Looking for %s\" % pattern)\n",
    "    try:\n",
    "        while True:\n",
    "            line = (yield)\n",
    "            if pattern in line:\n",
    "                print (line)\n",
    "    except GeneratorExit:\n",
    "        print (\"Going away. Goodbye\")\n",
    "\n",
    "# Example use\n",
    "#g = grep_simple(\"python\")\n",
    "g = grep(\"pyth\")\n",
    "g.send(None)\n",
    "g.send(\"Yeah, but no, but yeah, but no\")\n",
    "g.send(\"A series of tubes\")\n",
    "g.send(\"python generators rock!\")\n",
    "g.close() "
   ]
  },
  {
   "cell_type": "markdown",
   "metadata": {},
   "source": [
    "Таким образом, меняется наша парадигма - раньше мы сцепляли генераторы друг с другом и последний из них \"вытаскивал\" данные. Теперь мы можем посылать данные в корутину из другой корутины или основной программы"
   ]
  },
  {
   "cell_type": "markdown",
   "metadata": {},
   "source": [
    "![coroutines](coroutines.png)"
   ]
  },
  {
   "cell_type": "markdown",
   "metadata": {},
   "source": [
    "Чтобы не заставлять себя каждый раз посылать \"холодному\" генератору None, можно написать декоратор"
   ]
  },
  {
   "cell_type": "code",
   "execution_count": 323,
   "metadata": {
    "collapsed": true,
    "jupyter": {
     "outputs_hidden": true
    }
   },
   "outputs": [],
   "source": [
    "def coroutine(func):\n",
    "    def start(*args,**kwargs):\n",
    "        cr = func(*args,**kwargs)\n",
    "        cr.send(None)\n",
    "        return cr\n",
    "    return start"
   ]
  },
  {
   "cell_type": "markdown",
   "metadata": {},
   "source": [
    "В чем бонусы coroutine? С помощью них можно реализовывать конечные автоматы"
   ]
  },
  {
   "cell_type": "markdown",
   "metadata": {},
   "source": [
    "![automata](automata.png)"
   ]
  },
  {
   "cell_type": "markdown",
   "metadata": {},
   "source": [
    "А еще мы можем передавать наши значения сразу в несколько мест! Генераторы в таких случаях бы исчерпались"
   ]
  },
  {
   "cell_type": "markdown",
   "metadata": {},
   "source": [
    "![coroutines_branching](coroutines_branching.png)"
   ]
  },
  {
   "cell_type": "markdown",
   "metadata": {},
   "source": [
    "Напишем например, более совершенную версию программы, выдающей все белки"
   ]
  },
  {
   "cell_type": "code",
   "execution_count": 398,
   "metadata": {
    "collapsed": true,
    "jupyter": {
     "outputs_hidden": true
    }
   },
   "outputs": [],
   "source": [
    "def transcribe(n, tr_table={\"A\" : \"A\", \"T\" : \"U\", \"G\" : \"G\", \"C\" : \"C\"}):\n",
    "    return tr_table[n]\n",
    "\n",
    "@coroutine\n",
    "def get_triplets_reader(receiver, ignore_first=0):\n",
    "    nucleotides = []\n",
    "    for i in range(ignore_first):\n",
    "        n = (yield)\n",
    "        #print (\"Triplet reader\", ignore_first, n)\n",
    "        \n",
    "    while True:\n",
    "        n = (yield)\n",
    "        #print (\"Triplet reader\", ignore_first, n)\n",
    "        nucleotides.append(n)\n",
    "        if len(nucleotides) == 3:\n",
    "            #print (\"sending\")\n",
    "            triplet = \"\".join(nucleotides)\n",
    "            nucleotides = []\n",
    "            receiver.send(triplet)\n",
    "            \n",
    "@coroutine\n",
    "def get_proteins_reader(protein_receiver, codons_receiver, name):\n",
    "    triplets = None\n",
    "    aminoacids = None\n",
    "    while True:\n",
    "        t = (yield)\n",
    "        \n",
    "        ac = CODON_TABLE[t]\n",
    "        #print (\"Protein reader\", name, t, ac)\n",
    "        if ac == \"M\" and triplets is None:\n",
    "            triplets = [t]\n",
    "            aminoacids = [ac]\n",
    "        elif ac == \"*\" and triplets is not None:\n",
    "            triplets.append(t)\n",
    "            protein_receiver.send(\"\".join(aminoacids))\n",
    "            codons_receiver.send(triplets)\n",
    "            triplets = None\n",
    "            aminoacids = None\n",
    "        elif triplets is not None:\n",
    "            triplets.append(t)\n",
    "            aminoacids.append(ac)\n",
    "            \n",
    "@coroutine\n",
    "def get_triplets_counter(cnt):\n",
    "    while True:\n",
    "        codons = (yield)\n",
    "        cnt.update(codons)\n",
    "\n",
    "@coroutine\n",
    "def get_proteins_writer(lst):\n",
    "    while True:\n",
    "        protein = (yield)\n",
    "        lst.append(protein)\n",
    "            \n",
    "\n",
    "def iter_seqs(in_file_path):\n",
    "    with open(in_file_path) as in_file:\n",
    "        in_file.readline()\n",
    "        letters = chain.from_iterable((line for line in in_file))\n",
    "        dna_nucleotides = filter(lambda x : x != \"\\n\", letters)\n",
    "        nucleotides = map(lambda x : transcribe(x.upper()), dna_nucleotides)\n",
    "       \n",
    "        codons_cnt = Counter()\n",
    "        triplets_counter = get_triplets_counter(codons_cnt)\n",
    "        proteins_lst = []\n",
    "        proteins_writer = get_proteins_writer(proteins_lst)\n",
    "        orfs_readers = [get_triplets_reader(get_proteins_reader(proteins_writer,\n",
    "                                                           triplets_counter, start_pos), \n",
    "                                       ignore_first=start_pos)\\\n",
    "                        for start_pos in range(3)]\n",
    "\n",
    "        for n in nucleotides:\n",
    "            for reader in orfs_readers:\n",
    "                reader.send(n)\n",
    "        \n",
    "    return proteins_lst, codons_cnt \n",
    "        "
   ]
  },
  {
   "cell_type": "code",
   "execution_count": 399,
   "metadata": {
    "collapsed": true,
    "jupyter": {
     "outputs_hidden": true
    }
   },
   "outputs": [],
   "source": [
    "path_to_simple_fasta_file = \"example.fasta\"\n",
    "with open(path_to_simple_fasta_file, \"w\") as out_file:\n",
    "    out_file.write(\">example\\n\")\n",
    "    out_file.write(\"ATGTAAATGTAA\")"
   ]
  },
  {
   "cell_type": "code",
   "execution_count": 404,
   "metadata": {
    "collapsed": true,
    "jupyter": {
     "outputs_hidden": true
    }
   },
   "outputs": [],
   "source": [
    "proteins_lst, codons_cnt = iter_seqs(path_to_fasta_file)"
   ]
  },
  {
   "cell_type": "code",
   "execution_count": 408,
   "metadata": {},
   "outputs": [
    {
     "data": {
      "text/plain": [
       "Counter({'AAA': 44178,\n",
       "         'AAC': 32709,\n",
       "         'AAG': 23143,\n",
       "         'AAU': 30160,\n",
       "         'ACA': 17638,\n",
       "         'ACC': 33525,\n",
       "         'ACG': 28215,\n",
       "         'ACU': 15999,\n",
       "         'AGA': 14140,\n",
       "         'AGC': 29603,\n",
       "         'AGG': 13613,\n",
       "         'AGU': 16749,\n",
       "         'AUA': 21081,\n",
       "         'AUC': 39387,\n",
       "         'AUG': 76237,\n",
       "         'AUU': 36398,\n",
       "         'CAA': 22849,\n",
       "         'CAC': 21484,\n",
       "         'CAG': 43663,\n",
       "         'CAU': 23838,\n",
       "         'CCA': 24276,\n",
       "         'CCC': 15446,\n",
       "         'CCG': 33307,\n",
       "         'CCU': 14393,\n",
       "         'CGA': 15273,\n",
       "         'CGC': 40163,\n",
       "         'CGG': 23805,\n",
       "         'CGU': 26240,\n",
       "         'CUA': 7489,\n",
       "         'CUC': 17231,\n",
       "         'CUG': 53366,\n",
       "         'CUU': 18611,\n",
       "         'GAA': 39022,\n",
       "         'GAC': 22113,\n",
       "         'GAG': 19893,\n",
       "         'GAU': 35561,\n",
       "         'GCA': 32215,\n",
       "         'GCC': 38774,\n",
       "         'GCG': 46843,\n",
       "         'GCU': 25462,\n",
       "         'GGA': 15646,\n",
       "         'GGC': 36781,\n",
       "         'GGG': 16321,\n",
       "         'GGU': 29316,\n",
       "         'GUA': 19901,\n",
       "         'GUC': 23643,\n",
       "         'GUG': 31416,\n",
       "         'GUU': 28896,\n",
       "         'UAA': 15573,\n",
       "         'UAC': 17833,\n",
       "         'UAG': 7048,\n",
       "         'UAU': 19577,\n",
       "         'UCA': 22774,\n",
       "         'UCC': 18734,\n",
       "         'UCG': 23086,\n",
       "         'UCU': 15969,\n",
       "         'UGA': 18311,\n",
       "         'UGC': 26329,\n",
       "         'UGG': 28080,\n",
       "         'UGU': 15088,\n",
       "         'UUA': 24116,\n",
       "         'UUC': 33123,\n",
       "         'UUG': 28908,\n",
       "         'UUU': 37874})"
      ]
     },
     "execution_count": 408,
     "metadata": {},
     "output_type": "execute_result"
    }
   ],
   "source": [
    "codons_cnt"
   ]
  },
  {
   "cell_type": "code",
   "execution_count": 407,
   "metadata": {},
   "outputs": [
    {
     "data": {
      "text/plain": [
       "['MSLCGLKKECLIAASELVTCRE',\n",
       " 'MKRISTTITTTITITTGNGAG',\n",
       " 'MQNVFCVLPIFWKAMPGRGRWPPSSLPPPKSPTTWWR',\n",
       " 'MLYPISAMPNVFLPNF',\n",
       " 'MSCMALVCWGSARIASTLR',\n",
       " 'MKKANWWCLDATVPTTLLRCWLPVYAPIVARFGRTLTGSIPATRVRCPMRGC',\n",
       " 'MKTNYRSRAFPI',\n",
       " 'MVCAPCVGSRRNSLPHWPAPISTLSPLLRDLLNAQSLSW',\n",
       " 'MMRPLACALLIRCCSIPIRLSKCL',\n",
       " 'MYMALIWKTGRKNWRKPKSRLISGA']"
      ]
     },
     "execution_count": 407,
     "metadata": {},
     "output_type": "execute_result"
    }
   ],
   "source": [
    "proteins_lst[0:10]"
   ]
  },
  {
   "cell_type": "code",
   "execution_count": 406,
   "metadata": {},
   "outputs": [
    {
     "data": {
      "text/plain": [
       "Counter({'AAA': 44178,\n",
       "         'AAC': 32709,\n",
       "         'AAG': 23143,\n",
       "         'AAU': 30160,\n",
       "         'ACA': 17638,\n",
       "         'ACC': 33525,\n",
       "         'ACG': 28215,\n",
       "         'ACU': 15999,\n",
       "         'AGA': 14140,\n",
       "         'AGC': 29603,\n",
       "         'AGG': 13613,\n",
       "         'AGU': 16749,\n",
       "         'AUA': 21081,\n",
       "         'AUC': 39387,\n",
       "         'AUG': 76237,\n",
       "         'AUU': 36398,\n",
       "         'CAA': 22849,\n",
       "         'CAC': 21484,\n",
       "         'CAG': 43663,\n",
       "         'CAU': 23838,\n",
       "         'CCA': 24276,\n",
       "         'CCC': 15446,\n",
       "         'CCG': 33307,\n",
       "         'CCU': 14393,\n",
       "         'CGA': 15273,\n",
       "         'CGC': 40163,\n",
       "         'CGG': 23805,\n",
       "         'CGU': 26240,\n",
       "         'CUA': 7489,\n",
       "         'CUC': 17231,\n",
       "         'CUG': 53366,\n",
       "         'CUU': 18611,\n",
       "         'GAA': 39022,\n",
       "         'GAC': 22113,\n",
       "         'GAG': 19893,\n",
       "         'GAU': 35561,\n",
       "         'GCA': 32215,\n",
       "         'GCC': 38774,\n",
       "         'GCG': 46843,\n",
       "         'GCU': 25462,\n",
       "         'GGA': 15646,\n",
       "         'GGC': 36781,\n",
       "         'GGG': 16321,\n",
       "         'GGU': 29316,\n",
       "         'GUA': 19901,\n",
       "         'GUC': 23643,\n",
       "         'GUG': 31416,\n",
       "         'GUU': 28896,\n",
       "         'UAA': 15573,\n",
       "         'UAC': 17833,\n",
       "         'UAG': 7048,\n",
       "         'UAU': 19577,\n",
       "         'UCA': 22774,\n",
       "         'UCC': 18734,\n",
       "         'UCG': 23086,\n",
       "         'UCU': 15969,\n",
       "         'UGA': 18311,\n",
       "         'UGC': 26329,\n",
       "         'UGG': 28080,\n",
       "         'UGU': 15088,\n",
       "         'UUA': 24116,\n",
       "         'UUC': 33123,\n",
       "         'UUG': 28908,\n",
       "         'UUU': 37874})"
      ]
     },
     "execution_count": 406,
     "metadata": {},
     "output_type": "execute_result"
    }
   ],
   "source": [
    "codons_cnt"
   ]
  },
  {
   "cell_type": "code",
   "execution_count": 403,
   "metadata": {},
   "outputs": [
    {
     "data": {
      "text/plain": [
       "{'AAA': 'K',\n",
       " 'AAC': 'N',\n",
       " 'AAG': 'K',\n",
       " 'AAU': 'N',\n",
       " 'ACA': 'T',\n",
       " 'ACC': 'T',\n",
       " 'ACG': 'T',\n",
       " 'ACU': 'T',\n",
       " 'AGA': 'R',\n",
       " 'AGC': 'S',\n",
       " 'AGG': 'R',\n",
       " 'AGU': 'S',\n",
       " 'AUA': 'I',\n",
       " 'AUC': 'I',\n",
       " 'AUG': 'M',\n",
       " 'AUU': 'I',\n",
       " 'CAA': 'Q',\n",
       " 'CAC': 'H',\n",
       " 'CAG': 'Q',\n",
       " 'CAU': 'H',\n",
       " 'CCA': 'P',\n",
       " 'CCC': 'P',\n",
       " 'CCG': 'P',\n",
       " 'CCU': 'P',\n",
       " 'CGA': 'R',\n",
       " 'CGC': 'R',\n",
       " 'CGG': 'R',\n",
       " 'CGU': 'R',\n",
       " 'CUA': 'L',\n",
       " 'CUC': 'L',\n",
       " 'CUG': 'L',\n",
       " 'CUU': 'L',\n",
       " 'GAA': 'E',\n",
       " 'GAC': 'D',\n",
       " 'GAG': 'E',\n",
       " 'GAU': 'D',\n",
       " 'GCA': 'A',\n",
       " 'GCC': 'A',\n",
       " 'GCG': 'A',\n",
       " 'GCU': 'A',\n",
       " 'GGA': 'G',\n",
       " 'GGC': 'G',\n",
       " 'GGG': 'G',\n",
       " 'GGU': 'G',\n",
       " 'GUA': 'V',\n",
       " 'GUC': 'V',\n",
       " 'GUG': 'V',\n",
       " 'GUU': 'V',\n",
       " 'UAA': '*',\n",
       " 'UAC': 'Y',\n",
       " 'UAG': '*',\n",
       " 'UAU': 'Y',\n",
       " 'UCA': 'S',\n",
       " 'UCC': 'S',\n",
       " 'UCG': 'S',\n",
       " 'UCU': 'S',\n",
       " 'UGA': '*',\n",
       " 'UGC': 'C',\n",
       " 'UGG': 'W',\n",
       " 'UGU': 'C',\n",
       " 'UUA': 'L',\n",
       " 'UUC': 'F',\n",
       " 'UUG': 'L',\n",
       " 'UUU': 'F'}"
      ]
     },
     "execution_count": 403,
     "metadata": {},
     "output_type": "execute_result"
    }
   ],
   "source": [
    "CODON_TABLE"
   ]
  },
  {
   "cell_type": "markdown",
   "metadata": {},
   "source": [
    "Если вам интересно узнать больше о корутинах и Python - отличный сайт http://www.dabeaz.com/tutorials.html.\n",
    "Про корутины я брал с курса \"A Curious Course on Coroutines and Concurrency\""
   ]
  }
 ],
 "metadata": {
  "kernelspec": {
   "display_name": "Python 3",
   "language": "python",
   "name": "python3"
  },
  "language_info": {
   "codemirror_mode": {
    "name": "ipython",
    "version": 3
   },
   "file_extension": ".py",
   "mimetype": "text/x-python",
   "name": "python",
   "nbconvert_exporter": "python",
   "pygments_lexer": "ipython3",
   "version": "3.7.6"
  }
 },
 "nbformat": 4,
 "nbformat_minor": 4
}
