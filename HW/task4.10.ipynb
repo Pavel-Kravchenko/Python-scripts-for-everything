{
 "cells": [
  {
   "cell_type": "code",
   "execution_count": 126,
   "metadata": {},
   "outputs": [
    {
     "data": {
      "text/plain": [
       "1"
      ]
     },
     "execution_count": 126,
     "metadata": {},
     "output_type": "execute_result"
    }
   ],
   "source": [
    "from Bio import SeqIO\n",
    "\n",
    "lines = []\n",
    "with open('in3.txt', 'r') as f:\n",
    "    line = f.readline().strip()\n",
    "    while len(line) != 0:\n",
    "        lines.append(line)\n",
    "        line = f.readline().strip()\n",
    "    line = f.readline().strip()\n",
    "    with open('db.txt', 'w') as t:\n",
    "        while len(line) != 0:\n",
    "            t.write(line)\n",
    "            line = f.readline().strip()\n",
    "records = SeqIO.parse(\"db.txt\", \"fasta\")\n",
    "sequence_list = []\n",
    "for i in lines:\n",
    "    for j in records:\n",
    "        if j.id == i:\n",
    "            sequence_list.append(j)\n",
    "            break\n",
    "        else:\n",
    "            pass\n",
    "SeqIO.write(sequence_list, \"out.txt\", \"fasta\")\n"
   ]
  },
  {
   "cell_type": "code",
   "execution_count": 128,
   "metadata": {},
   "outputs": [
    {
     "data": {
      "text/plain": [
       "4"
      ]
     },
     "execution_count": 128,
     "metadata": {},
     "output_type": "execute_result"
    }
   ],
   "source": [
    "seql = []\n",
    "file = open('in3.txt', 'r')\n",
    "lines = list(file.readlines())\n",
    "for i in range(len(lines)):\n",
    "    if lines[i] == '\\n':\n",
    "        mark = i\n",
    "list_id = lines[:mark]\n",
    "with open('db.txt', 'w') as f:\n",
    "    f.write(''.join(lines[(mark+1):]))\n",
    "for j in list_id:\n",
    "    for i in SeqIO.parse(\"db.txt\", \"fasta\"):\n",
    "        if i.id == j.strip():\n",
    "            seql.append(i)\n",
    "SeqIO.write(seql, \"out.txt\", \"fasta\")\n"
   ]
  }
 ],
 "metadata": {
  "kernelspec": {
   "display_name": "Python 3",
   "language": "python",
   "name": "python3"
  },
  "language_info": {
   "codemirror_mode": {
    "name": "ipython",
    "version": 3
   },
   "file_extension": ".py",
   "mimetype": "text/x-python",
   "name": "python",
   "nbconvert_exporter": "python",
   "pygments_lexer": "ipython3",
   "version": "3.6.5"
  }
 },
 "nbformat": 4,
 "nbformat_minor": 2
}
