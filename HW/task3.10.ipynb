{
 "cells": [
  {
   "cell_type": "code",
   "execution_count": 5,
   "metadata": {},
   "outputs": [
    {
     "data": {
      "text/plain": [
       "70"
      ]
     },
     "execution_count": 5,
     "metadata": {},
     "output_type": "execute_result"
    }
   ],
   "source": [
    "from Bio import AlignIO\n",
    "from Bio import SeqIO\n",
    "\n",
    "\n",
    "def cut_a_gap(align):\n",
    "    n = float(len(align[0]))\n",
    "    i = 0\n",
    "    while i < n:\n",
    "        if align[:, i].count('-') != 0:\n",
    "            if i == 0:\n",
    "                align = align[:, 1:]\n",
    "            elif i+1 == n:\n",
    "                align = align[:, :i]\n",
    "            else:\n",
    "                align = align[:, :i] + align[:, i+1:]\n",
    "            n -= 1  # seq. 1 shorter\n",
    "        else:    # nothing to delete, proceed\n",
    "            i += 1\n",
    "    return align\n",
    "\n",
    "\n",
    "def cut_gap_in_blocks():   # usefull for the future, not for this script\n",
    "    n = float(len(align[0]))\n",
    "    i = 0\n",
    "    while i < n:\n",
    "        ct = 0\n",
    "        while i+ct < n and align[:, i+ct].count('-') / n > 0.5:\n",
    "            ct += 1\n",
    "\n",
    "        if ct > 0:       # delete columns [i:i+ct]\n",
    "            if i == 0:\n",
    "                align = align[:, ct:]\n",
    "            elif i+ct == n:\n",
    "                align = align[:, :i]\n",
    "            else:\n",
    "                align = align[:, :i] + align[:, i+ct:]\n",
    "            n -= ct    # seq. ct positions shorter\n",
    "        else:    # nothing to delete, proceed\n",
    "            i += 1\n",
    "        return align\n",
    "\n",
    "\n",
    "alignment = AlignIO.read(\"alignment_two.mfa\", \"fasta\")\n",
    "# print(alignment)\n",
    "out = cut_a_gap(alignment)\n",
    "\n",
    "SeqIO.write(out, \"alignment_two_no_gaps.mfa\", \"fasta\")\n"
   ]
  }
 ],
 "metadata": {
  "kernelspec": {
   "display_name": "Python 3",
   "language": "python",
   "name": "python3"
  },
  "language_info": {
   "codemirror_mode": {
    "name": "ipython",
    "version": 3
   },
   "file_extension": ".py",
   "mimetype": "text/x-python",
   "name": "python",
   "nbconvert_exporter": "python",
   "pygments_lexer": "ipython3",
   "version": "3.6.5"
  }
 },
 "nbformat": 4,
 "nbformat_minor": 2
}
