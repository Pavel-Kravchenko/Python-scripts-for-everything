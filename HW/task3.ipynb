{
 "cells": [
  {
   "cell_type": "code",
   "execution_count": null,
   "metadata": {},
   "outputs": [],
   "source": [
    "from Bio import AlignIO\n",
    "from Bio import SeqIO\n",
    "from Bio.SeqRecord import SeqRecord\n",
    "\n",
    "\n",
    "lines = []\n",
    "with open('in3.txt', 'r') as f:\n",
    "    line = f.readline().strip()\n",
    "    while len(line) != 0:\n",
    "        lines.append(line)\n",
    "        line = f.readline().strip()\n",
    "    line = f.readline().strip()\n",
    "\n",
    "record_dict = SeqIO.to_dict(SeqIO.parse(\"in3.txt\", \"fasta\"))\n",
    "new_dict = {}\n",
    "print(lines)\n",
    "for i in lines:\n",
    "    if i in record_dict.keys():\n",
    "        new_dict[i] = record_dict[i]\n",
    "SeqIO.write(new_dict.values(), \"out4.txt\", \"fasta\")\n"
   ]
  }
 ],
 "metadata": {
  "kernelspec": {
   "display_name": "Python 3",
   "language": "python",
   "name": "python3"
  },
  "language_info": {
   "codemirror_mode": {
    "name": "ipython",
    "version": 3
   },
   "file_extension": ".py",
   "mimetype": "text/x-python",
   "name": "python",
   "nbconvert_exporter": "python",
   "pygments_lexer": "ipython3",
   "version": "3.6.5"
  }
 },
 "nbformat": 4,
 "nbformat_minor": 2
}
