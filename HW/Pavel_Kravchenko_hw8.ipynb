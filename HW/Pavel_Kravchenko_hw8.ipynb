{
 "cells": [
  {
   "cell_type": "markdown",
   "metadata": {},
   "source": [
    "# Домашнее задание. Классы."
   ]
  },
  {
   "cell_type": "markdown",
   "metadata": {},
   "source": [
    "Дальше вам предстоит решить набор заданий по данной теме.<br>\n",
    "Задания идут в порядке от простых к сложным, задачи со звездочками являются необязательными.<br>\n",
    "Вся суть заданий в том, чтобы дописать или исправить исходный код, который вам предлагается, либо написать блок нового кода.<br>"
   ]
  },
  {
   "cell_type": "markdown",
   "metadata": {},
   "source": [
    "Большая просьба не копировать друг у друга код, от этого вы ничему не научитесь.<br>\n",
    "Также просьба оформлять код согласно правилам стандарта PEP8. Несоответствие стандарту караться не будет, но его соблюдение ускорит проверку работы."
   ]
  },
  {
   "cell_type": "markdown",
   "metadata": {},
   "source": [
    "## Андрюха, по коням, у нас классы, возможно, криминал!"
   ]
  },
  {
   "cell_type": "markdown",
   "metadata": {},
   "source": [
    "Для разминки в блоке ниже создайте простой класс. <br>\n",
    "Пусть у него будет два поля: первое - число, второе - список. <br>\n",
    "В качестве проверки создайте два объекта этого класса, передав значения, указанные в тексте. Используя данные этих объектов, напечатайте сумму их чисел и сумму длин их списков."
   ]
  },
  {
   "cell_type": "code",
   "execution_count": 8,
   "metadata": {},
   "outputs": [
    {
     "name": "stdout",
     "output_type": "stream",
     "text": [
      "113.44\n",
      "7\n"
     ]
    }
   ],
   "source": [
    "\n",
    "\n",
    "# class definition\n",
    "class Andrycha(object):\n",
    "    \n",
    "    def __init__(self, number, list_for_class):\n",
    "        self.number = number\n",
    "        self.list_for_class = list_for_class\n",
    "\n",
    "\n",
    "# first instance\n",
    "first_number = 10\n",
    "first_list = ['A', 'B', 'C', 10]\n",
    "\n",
    "\n",
    "one = Andrycha(first_number, first_list)\n",
    "\n",
    "# second instance\n",
    "second_number = 103.44\n",
    "second_list = ['10', 33, { 'data': 'data' }]\n",
    "two = Andrycha(second_number, second_list)\n",
    "\n",
    "\n",
    "# print here\n",
    "print(one.number + two.number)\n",
    "print(len(one.list_for_class) + len(two.list_for_class))\n"
   ]
  },
  {
   "cell_type": "markdown",
   "metadata": {},
   "source": [
    "### Класс внутри, а метод снаружи. © А. Невский\n",
    "\n",
    "Теперь чуть усложним задание. Давайте напишем класс уже посложнее, который будет описывать окружность.<br>\n",
    "Ему нужны следующие поля:<br>\n",
    "* x - координата центра\n",
    "* y - координата центра\n",
    "* r - радиус <br>\n",
    "\n",
    "Ему пригодятся следующие методы: <br>\n",
    "* метод, считающий площадь\n",
    "* метод, считающий длину окружности\n",
    "* метод, считающий расстояния от заданной точки до центра окружности. Причем функция расстояния между двумя точками на плоскости передаётся в класс при инициализации<br>\n",
    "\n",
    "Также необходимо реализовать функцию, которая для двух заданных окружностей находит, пересекаются ли они.<br>\n",
    "Для проверки создайте окружности с заданными координатами и радиусами, посчитайте площадь первой, длину окружности второй и проверьте, пересекаются ли они."
   ]
  },
  {
   "cell_type": "code",
   "execution_count": 31,
   "metadata": {},
   "outputs": [
    {
     "name": "stdout",
     "output_type": "stream",
     "text": [
      "31415.926535897932\n",
      "628.3185307179587\n",
      "Merged\n"
     ]
    }
   ],
   "source": [
    "import math\n",
    "\n",
    "# calculate distance function definition\n",
    "def distance(a_x, a_y, b_x, b_y):\n",
    "    x = 0\n",
    "    y = 0\n",
    "    \n",
    "    if a_x > b_x:\n",
    "        x = a_x - b_x\n",
    "    else:\n",
    "        x = b_x - a_x\n",
    "    if a_y > b_y:\n",
    "        y = a_y - b_y\n",
    "    else:\n",
    "        y = b_y - a_y\n",
    "    return math.sqrt(x**2 + y**2)\n",
    "\n",
    "\n",
    "# class definition\n",
    "class circle(object):\n",
    "    \n",
    "    def __init__(self, center_x, center_y, radius, distance):\n",
    "        self.center_x = center_x\n",
    "        self.center_y = center_y\n",
    "        self.radius = radius\n",
    "        self.distance = distance\n",
    "        \n",
    "    def square_method(self, radius):\n",
    "        square = math.pi * radius**2\n",
    "        return square\n",
    "    \n",
    "    def len_method(self, radius):\n",
    "        circle_len = math.pi * radius * 2\n",
    "        return circle_len\n",
    "\n",
    "    \n",
    "\n",
    "# first instance\n",
    "first_x = 10\n",
    "first_y = 10\n",
    "first_r = 100\n",
    "first = circle(first_x, first_y, first_r, distance)\n",
    "\n",
    "\n",
    "\n",
    "# second instance\n",
    "second_x = 40\n",
    "second_y = 50\n",
    "second_r = 1000\n",
    "second = circle(second_x, second_y, second_r, distance)\n",
    "\n",
    "\n",
    "# calculate required values\n",
    "print(first.square_method(first_r))\n",
    "print(second.len_method(second_r))\n",
    "\n",
    "if distance(first_x, first_y, second_x, second_y) < min(first_r, second_r):\n",
    "    print(\"Merged\")\n",
    "else:\n",
    "    print(\"Unmerged\")\n",
    "    \n",
    "\n",
    "\n"
   ]
  },
  {
   "cell_type": "markdown",
   "metadata": {},
   "source": [
    "### Magic time!\n",
    "\n",
    "Пришло время уделить внимание магическим методам, которые по большей части представляют из себя операторы, которые можно перегрузить (переопределить). Усложнять задачу не будем, поэтому ниже вам будет предложен класс, для которого необходимо перегрузить операторы суммы, разности, умножения, равенства, а также переопределить два метода: <br>\n",
    "* первый метод, который вызывается самым первым при создании объекта. В это время нужно напечатать 'Creating'\n",
    "* второй метод, который вызывается при удалении объекта. В этот момент надо напечатать 'Deleting' <br>\n",
    "\n",
    "Необходимо, чтобы код ниже не вылетал с ошибками, а выдавал ожидаемый результат.\n"
   ]
  },
  {
   "cell_type": "code",
   "execution_count": 51,
   "metadata": {
    "collapsed": true
   },
   "outputs": [],
   "source": [
    "# class definition\n",
    "class Number:\n",
    "    \n",
    "    def __init__(self, x):\n",
    "        self.x = x\n",
    "        print('Creating')\n",
    "\n",
    "    def __add__(self, other):\n",
    "        return Number(self.x + other.x)\n",
    "    \n",
    "    def __mul__(self, other):\n",
    "        return Number(self.x * other.x)\n",
    "    \n",
    "    def __sub__(self, other):\n",
    "        return Number(self.x - other.x)\n",
    "    \n",
    "    def __eq__(self, other):\n",
    "        return Number(self.x == other.x)\n",
    "    \n",
    "    def __del__(self):\n",
    "        print('Deleting')\n"
   ]
  },
  {
   "cell_type": "code",
   "execution_count": null,
   "metadata": {
    "collapsed": true
   },
   "outputs": [],
   "source": []
  },
  {
   "cell_type": "code",
   "execution_count": 52,
   "metadata": {},
   "outputs": [
    {
     "name": "stdout",
     "output_type": "stream",
     "text": [
      "Creating\n",
      "Creating\n",
      "Deleting\n",
      "<__main__.Number object at 0x7fbd00cf3ef0>\n",
      "<__main__.Number object at 0x7fbd00cf3eb8>\n",
      "Creating\n",
      "Creating\n",
      "Deleting\n",
      "<__main__.Number object at 0x7fbd00cf3f60> <class '__main__.Number'>\n",
      "Deleting\n",
      "Creating\n",
      "Creating\n",
      "Deleting\n",
      "<__main__.Number object at 0x7fbd00cf3f98> <class '__main__.Number'>\n",
      "Deleting\n",
      "Creating\n",
      "Creating\n",
      "Deleting\n",
      "<__main__.Number object at 0x7fbd00cf3f60> <class '__main__.Number'>\n",
      "Deleting\n",
      "Creating\n",
      "Creating\n",
      "Deleting\n",
      "<__main__.Number object at 0x7fbd00cf8320>\n",
      "Deleting\n",
      "Deleting\n"
     ]
    }
   ],
   "source": [
    "# test\n",
    "\n",
    "one = Number(1)\n",
    "two = Number(2)\n",
    "print(one)\n",
    "print(two)\n",
    "\n",
    "print(one + two, type(one + two))\n",
    "print(one * two, type(one * two))\n",
    "print(one - two, type(one - two))\n",
    "print((one + one) == two)\n",
    "del one"
   ]
  },
  {
   "cell_type": "markdown",
   "metadata": {},
   "source": [
    "### @staticmethod или @classmethod, вот в чем вопрос!"
   ]
  },
  {
   "cell_type": "markdown",
   "metadata": {},
   "source": [
    "Во многих языках можно создавать объекты класса из разных начальных данных! Например, можно создать объект круг из трех чисел, а можно из списка. Давайте попробуем сделать похожую вещь. Ниже вам дан простенький класс. Допишите ему альтернативный метод для его создания.<br>\n",
    "Чаще всего классы используют не просто для объектов, а для хранения всего, что как-нибудль может быть связано с объектом, хотя бы косвенно. В предложенном ниже классе предлагается сделать функцию, которая будет вызываться от имени класса и проверять, является ли входная строка корректной датой.<br>\n",
    "В качестве проверки, блок кода после класса должен выполняться без ошибок. <br>"
   ]
  },
  {
   "cell_type": "code",
   "execution_count": 131,
   "metadata": {
    "collapsed": true
   },
   "outputs": [],
   "source": [
    "import re \n",
    "# class definition\n",
    "class Date:\n",
    "    def __init__(self, day, month=None, year=None):\n",
    "        self.year = year\n",
    "        self.month = month\n",
    "        self.day = day\n",
    "        \n",
    "    def __str__(self):\n",
    "        return '{}/{}/{}'.format(self.month, self.day, self.year)\n",
    "    \n",
    "    def match_method(self):\n",
    "        line = self.day\n",
    "        print(line)\n",
    "        if \" \" in line:\n",
    "            line = line.replace(\" \", \".\")\n",
    "        if re.fullmatch(r'([0-2]\\d|3[01])\\.(0\\d|1[012])\\.(\\d{4})', line):\n",
    "            out = line.split(\".\")\n",
    "            return '{}/{}/{}'.format(out[1], out[0], out[2])\n",
    "    def is_date(day):\n",
    "        if \"/\" in day:\n",
    "            line = day.replace(\"/\", \".\")\n",
    "        if re.fullmatch(r'(0\\d|1[012])\\.([0-2]\\d|3[01])\\.(\\d{4})', line):\n",
    "            return True"
   ]
  },
  {
   "cell_type": "markdown",
   "metadata": {},
   "source": [
    "line = '10 10 2010'\n",
    "print(line)\n",
    "if \" \" in line:\n",
    "    line = line.replace(\" \", \".\")\n",
    "if re.fullmatch(r'([0-2]\\d|3[01])\\.(0\\d|1[012])\\.(\\d{4})', line):\n",
    "    out = line.split(\".\")\n",
    "    print('{}/{}/{}'.format(out[1], out[0], out[2]))\n",
    "    \n",
    "    \n",
    "   Пытался поправить второе сам не знаю, зачем ;)"
   ]
  },
  {
   "cell_type": "code",
   "execution_count": 133,
   "metadata": {},
   "outputs": [
    {
     "name": "stdout",
     "output_type": "stream",
     "text": [
      "1 10/10/2010\n",
      "2 None/10 10 2010/None\n",
      "3 True\n"
     ]
    }
   ],
   "source": [
    "# test\n",
    "first_date = Date(10, 10, 2010)\n",
    "print(1, first_date)\n",
    "\n",
    "second_date = Date('10 10 2010') \n",
    "print(2, second_date)\n",
    "\n",
    "is_date = Date.is_date('07/25/1995')\n",
    "print(3, is_date) # true"
   ]
  },
  {
   "cell_type": "markdown",
   "metadata": {},
   "source": [
    "### Я тебя породил - я тебя и убью!"
   ]
  },
  {
   "cell_type": "markdown",
   "metadata": {},
   "source": [
    "Наследование - вещь хорошая и полезная, например, если нужно написать два чуть разных класса, которые при этом имеют много общего. Аналогичная ситуация в этом задании. Дан класс Publication, и нужно написать два класса: Article и BlogPost, - которые также имеют поля title, content, date. Кроме того, у Article должны быть поля newspaper и page, а у BlogPost - поле blog. <br>\n",
    "Сделайте так, чтобы объекты Article можно было сравнивать по полю page, а объекты BlogPost - нельзя. При этом объекты двух классов должно быть можно сравнивать между собой по полю date. Для реализации сравнения переопределите оператор <=. Входные параметры для конструктора выбирайте сами. Поле date необходимо реализовать через модуль datetime."
   ]
  },
  {
   "cell_type": "code",
   "execution_count": 150,
   "metadata": {},
   "outputs": [],
   "source": [
    "import datetime\n",
    "\n",
    "# class definition\n",
    "class Publication:\n",
    "    \n",
    "    def __init__(self, title, content, date):\n",
    "        self.title = title\n",
    "        self.content = content\n",
    "        self.date = date\n",
    "        \n",
    "    def __le__(self, other): \n",
    "        if self.date == other.date: \n",
    "             print('Publications are published at the same day') \n",
    "        if self.date > other.date: \n",
    "             print('First publication was the first') \n",
    "        if self.date < other.date: \n",
    "            print('Second publication was the first') \n",
    "        \n",
    "        \n",
    "class Article(Publication): \n",
    "    \n",
    "    def __init__(self, title, content, date, newspaper, page): \n",
    "        super().__init__(title, content, date) \n",
    "        self.newspaper = newspaper \n",
    "        self.page = page \n",
    "        \n",
    "    def __le__(self, other): \n",
    "        try: \n",
    "            if self.page == other.page: \n",
    "                print('Articles have the same page number') \n",
    "            if self.page > other.page: \n",
    "                print('Second number is greater') \n",
    "            if self.page < other.page: \n",
    "                print('First number is greater') \n",
    "        except AttributeError: \n",
    "            super().__le__(other) \n",
    "        \n",
    "class BlogPost(Publication): \n",
    "    \n",
    "    def __init__(self, title, content, date, blog): \n",
    "        super().__init__(title, content, date) \n",
    "        self.blog = blog\n",
    "        \n",
    "    def __le__(self, other): \n",
    "        super().__le__(other)"
   ]
  },
  {
   "cell_type": "code",
   "execution_count": 151,
   "metadata": {},
   "outputs": [
    {
     "name": "stdout",
     "output_type": "stream",
     "text": [
      "First publication was the first\n",
      "None\n",
      "Second number is greater\n",
      "None\n"
     ]
    }
   ],
   "source": [
    "# test\n",
    "\n",
    "date_blog = datetime.date(2015, 1, 11)\n",
    "blogpost = BlogPost(\"title\", \"content\", date_blog, \"blog\")\n",
    "\n",
    "date_article_one = datetime.date(2007, 11, 1)\n",
    "article_one = Article(\"title\", \"content\", date_article_one, \"newspaper\", 123)\n",
    "\n",
    "date_article_two = datetime.date(911, 11, 11)\n",
    "article_two = Article(\"title\", \"content\", date_article_two, \"newspaper\", 321)\n",
    "\n",
    "\n",
    "#Answers\n",
    "print(blogpost <= article_two)\n",
    "\n",
    "\n",
    "print(article_two <= article_one)"
   ]
  },
  {
   "cell_type": "code",
   "execution_count": null,
   "metadata": {
    "collapsed": true
   },
   "outputs": [],
   "source": []
  },
  {
   "cell_type": "markdown",
   "metadata": {},
   "source": [
    "### *Iterator"
   ]
  },
  {
   "cell_type": "markdown",
   "metadata": {},
   "source": [
    "С итераторами вы уже познакомились, чтобы получше понять, что это за зверь, предлагаю написать свой! Возьмем просто пример, пусть наш итератор считает от low до high, которые мы подаем в конструктор. Пусть конструктор принимает low и high в виде пары чисел, пары строк и списка из двух элементов (придется перегрузить конструктор)."
   ]
  },
  {
   "cell_type": "code",
   "execution_count": 31,
   "metadata": {
    "collapsed": true
   },
   "outputs": [],
   "source": [
    "# code\n",
    "class CustomRange:\n",
    "    pass"
   ]
  },
  {
   "cell_type": "code",
   "execution_count": 32,
   "metadata": {},
   "outputs": [
    {
     "ename": "TypeError",
     "evalue": "object() takes no parameters",
     "output_type": "error",
     "traceback": [
      "\u001b[0;31m---------------------------------------------------------------------------\u001b[0m",
      "\u001b[0;31mTypeError\u001b[0m                                 Traceback (most recent call last)",
      "\u001b[0;32m<ipython-input-32-96b7a30cf4a8>\u001b[0m in \u001b[0;36m<module>\u001b[0;34m()\u001b[0m\n\u001b[0;32m----> 1\u001b[0;31m \u001b[0mcustom_iterator_from_numbers\u001b[0m \u001b[0;34m=\u001b[0m \u001b[0mCustomRange\u001b[0m\u001b[0;34m(\u001b[0m\u001b[0;36m3\u001b[0m\u001b[0;34m,\u001b[0m \u001b[0;36m8\u001b[0m\u001b[0;34m)\u001b[0m\u001b[0;34m\u001b[0m\u001b[0m\n\u001b[0m\u001b[1;32m      2\u001b[0m \u001b[0mcustom_iterator_from_strings\u001b[0m \u001b[0;34m=\u001b[0m \u001b[0mCustomRange\u001b[0m\u001b[0;34m(\u001b[0m\u001b[0;34m'3'\u001b[0m\u001b[0;34m,\u001b[0m \u001b[0;34m'8'\u001b[0m\u001b[0;34m)\u001b[0m\u001b[0;34m\u001b[0m\u001b[0m\n\u001b[1;32m      3\u001b[0m \u001b[0mcustom_iterator_from_list\u001b[0m \u001b[0;34m=\u001b[0m \u001b[0mCustomRange\u001b[0m\u001b[0;34m(\u001b[0m\u001b[0;34m[\u001b[0m\u001b[0;36m3\u001b[0m\u001b[0;34m,\u001b[0m \u001b[0;36m8\u001b[0m\u001b[0;34m]\u001b[0m\u001b[0;34m)\u001b[0m\u001b[0;34m\u001b[0m\u001b[0m\n\u001b[1;32m      4\u001b[0m \u001b[0;34m\u001b[0m\u001b[0m\n\u001b[1;32m      5\u001b[0m \u001b[0;32mfor\u001b[0m \u001b[0mnumber\u001b[0m \u001b[0;32min\u001b[0m \u001b[0mcustom_iterator_from_numbers\u001b[0m\u001b[0;34m:\u001b[0m\u001b[0;34m\u001b[0m\u001b[0m\n",
      "\u001b[0;31mTypeError\u001b[0m: object() takes no parameters"
     ]
    }
   ],
   "source": [
    "# test\n",
    "custom_iterator_from_numbers = CustomRange(3, 8)\n",
    "custom_iterator_from_strings = CustomRange('3', '8')\n",
    "custom_iterator_from_list =CustomRange CustomRange([3, 8])\n",
    "\n",
    "for number in custom_iterator_from_numbers:\n",
    "    print(number)"
   ]
  },
  {
   "cell_type": "markdown",
   "metadata": {},
   "source": [
    "### *Вырвано из контекста!"
   ]
  },
  {
   "cell_type": "markdown",
   "metadata": {},
   "source": [
    "Функция open в связке с with является отличным примером контекстного менеджера. А давайте попробуем реализовать свой похожий менеджер. Пусть только наш не только открывает, закрывает и пишет файл, но ещё и в результате работы покажет время работы, которое он провел за работой. В качестве теста запишите в файл с любым названием строки из списка lines. А затем прочтите и выдайте количество строк, которое запилось в файл."
   ]
  },
  {
   "cell_type": "code",
   "execution_count": 29,
   "metadata": {
    "collapsed": true
   },
   "outputs": [],
   "source": [
    "import time\n",
    "\n"
   ]
  },
  {
   "cell_type": "code",
   "execution_count": 30,
   "metadata": {
    "collapsed": true
   },
   "outputs": [],
   "source": [
    "lines = ['I love python\\n' for i in range(100)]"
   ]
  },
  {
   "cell_type": "markdown",
   "metadata": {},
   "source": [
    "### *Не лезь, она тебя сожрет"
   ]
  },
  {
   "cell_type": "markdown",
   "metadata": {},
   "source": [
    "По названию ясно, что тут задание повышенной сложности, так оно и есть.\n",
    "В решении одной задачи вы сталкивались с классом Counter из модуля collections. Ниже вас ждут несколько подсказок. Чтобы протестировать ваш Counter, подсчитайте и выведите кол-во различных слов в абзаце ниже.\n"
   ]
  },
  {
   "cell_type": "markdown",
   "metadata": {},
   "source": [
    "Ожидаемое поведение:\n",
    "    >>> c = Counter('abracadabra')      # count elements from a string\n",
    "\n",
    "    >>> c.most_common(3)                # three most common elements\n",
    "    [('a', 5), ('r', 2), ('b', 2)]\n",
    "    >>> sorted(c)                       # list all unique elements\n",
    "    ['a', 'b', 'c', 'd', 'r']\n",
    "    >>> ''.join(sorted(c.elements()))   # list elements with repetitions\n",
    "    'aaaaabbcdrr'\n",
    "    >>> sum(c.values())                 # total of all counts\n",
    "    11\n",
    "\n",
    "    >>> c['a']                          # count of letter 'a'\n",
    "    5\n",
    "    >>> for elem in 'shazam':           # update counts from an iterable\n",
    "    ...     c[elem] += 1                # by adding 1 to each element's count\n",
    "    >>> c['a']                          # now there are seven 'a'\n",
    "    7\n",
    "    >>> del c['r']                      # remove all 'r'\n",
    "    >>> c['r']                          # now there are zero 'r'\n",
    "    0\n",
    "\n",
    "    >>> d = Counter('simsalabim')       # make another counter\n",
    "    >>> c.update(d)                     # add in the second counter\n",
    "    >>> c['a']                          # now there are nine 'a'\n",
    "    9\n",
    "\n",
    "    >>> c.clear()                       # empty the counter\n",
    "    >>> c\n",
    "    Counter()\n",
    "\n",
    "2. Касательно __init__:\n",
    ">>> c = Counter()                           # a new, empty counter\n",
    "        >>> c = Counter('gallahad')                 # a new counter from an iterable\n",
    "        >>> c = Counter({'a': 4, 'b': 2})           # a new counter from a mapping\n",
    "        >>> c = Counter(a=4, b=2)                   # a new counter from keyword args\n",
    "\n",
    "3. Методы, которые нужны:\n",
    "* __missing__\n",
    "* most_common\n",
    "* elements\n",
    "\n",
    "4. Методы, котореы нужно переопределить (угадайте от чего):\n",
    "* update\n",
    "* substract\n",
    "* copy\n",
    "* __delitem__\n",
    "* __repr__\n",
    "* __add__\n",
    "* __sub__\n",
    "* __or__\n",
    "* __and__"
   ]
  },
  {
   "cell_type": "code",
   "execution_count": null,
   "metadata": {
    "collapsed": true
   },
   "outputs": [],
   "source": [
    "sentence = \"\"\"Lorem ipsum dolor sit amet, consectetur adipiscing elit. Phasellus urna neque, placerat id viverra sit amet, cursus ut est. Maecenas tincidunt est nec urna lacinia congue. Morbi eu nunc a nisi vulputate eleifend quis pellentesque odio. Duis in ipsum elit. Mauris commodo vulputate tempor. Cras ultrices turpis justo, vel convallis mi accumsan vitae. Mauris vitae eros velit.\n",
    "\n",
    "Proin massa nunc, blandit quis diam ut, viverra interdum massa. Curabitur a orci vel est cursus congue ac ac massa. Nulla vitae ex aliquam, molestie enim vel, rhoncus purus. Vivamus pharetra nisl sagittis, hendrerit velit non, luctus dui. Vivamus viverra lorem odio, eget suscipit turpis volutpat ut. Nullam volutpat ante at leo scelerisque ultrices. Nullam aliquet pulvinar nibh. Aenean sit amet lobortis arcu.\n",
    "\n",
    "Nulla nunc felis, ultricies a nulla et, fermentum rutrum leo. Aenean ut eros magna. Quisque lacinia nisi a felis hendrerit semper. Maecenas id libero scelerisque, volutpat lacus vitae, elementum lacus. Vivamus sapien orci, lobortis quis consectetur ultrices, cursus et elit. Sed congue lectus augue, vel aliquet tortor molestie non. Nullam finibus, odio ut ullamcorper rutrum, odio orci lobortis metus, sit amet porta leo risus et orci. Aenean pharetra mauris vel diam sodales, eu dapibus erat scelerisque. Aenean ultricies tristique egestas.\n",
    "\n",
    "Integer vulputate neque nec eros malesuada maximus. Nam interdum, quam sed varius ullamcorper, odio mauris aliquet eros, a porta quam dui vitae quam. Curabitur ut sapien massa. Mauris mollis nibh scelerisque accumsan feugiat. Aliquam aliquet urna vitae ante finibus, euismod lacinia quam interdum. Praesent efficitur nisl sit amet sem facilisis bibendum eu efficitur libero. Maecenas suscipit turpis sit amet mi pretium finibus. Nunc malesuada ipsum non quam commodo, non lobortis urna laoreet. Quisque luctus, sapien vitae porttitor vulputate, mauris nisl condimentum mauris, rhoncus condimentum diam elit at leo. Etiam ut tristique turpis. Vivamus luctus tellus mauris, sed consectetur quam fermentum placerat. Donec luctus elementum nisl. Cras lobortis risus enim, in vulputate purus dictum fringilla. Curabitur et enim volutpat, ultrices eros in, aliquam augue. Maecenas tellus felis, varius et lectus non, finibus egestas augue.\n",
    "\n",
    "Nam commodo in nulla eu pellentesque. Suspendisse elit mi, hendrerit non tincidunt sit amet, tristique in lacus. Cras ut sem mauris. Vestibulum quis tristique risus. Quisque id volutpat leo. In sit amet diam a nibh fermentum hendrerit ac ut est. Vestibulum ornare lorem vel erat ultrices, nec finibus ante ornare. Vivamus mollis maximus risus, et faucibus dui egestas et. Maecenas elementum consequat velit eget aliquam. Suspendisse eget magna id orci feugiat gravida vitae vitae arcu. Nulla arcu dolor, eleifend vitae dignissim a, iaculis eget augue. Phasellus et mattis diam. Nunc sit amet interdum dui, eu ullamcorper libero. Proin posuere efficitur feugiat.\n",
    "\n",
    "Donec luctus metus sed nisl pharetra euismod. Praesent vel ornare tortor. Cras eu erat rhoncus, suscipit purus ut, semper velit. Duis consectetur pharetra tellus non convallis. Praesent risus lorem, ullamcorper vel neque ac, porta rutrum eros. Proin venenatis vehicula tellus non volutpat. Sed vel ex a arcu fermentum ullamcorper id eu elit. In hac habitasse platea dictumst.\n",
    "\n",
    "Duis non cursus nunc. Maecenas efficitur tellus eget aliquet dapibus. Mauris et leo mattis orci lacinia maximus. Phasellus in libero elit. Vestibulum finibus est in justo consectetur, id molestie turpis pharetra. Sed suscipit lorem ultrices odio hendrerit lobortis. Nam auctor ullamcorper eros, sed rhoncus ligula posuere eget. Sed ac tristique diam. Proin id pellentesque nisi. Nulla eu scelerisque est. Phasellus bibendum dapibus urna ut pellentesque. Praesent tellus metus, pretium ut sodales vitae, accumsan a mauris.\n",
    "\n",
    "Sed blandit pulvinar aliquet. Sed ac ullamcorper justo. Vestibulum ante ipsum primis in faucibus orci luctus et ultrices posuere cubilia Curae; Maecenas fermentum arcu vel leo sagittis sollicitudin. Sed ullamcorper dui in tortor ultrices ultricies. Aliquam et ante id urna egestas tincidunt sit amet sit amet tortor. Cras pharetra interdum eros a lobortis. Aenean ullamcorper mi eget urna faucibus, in ullamcorper lacus malesuada. Praesent id dignissim risus. Duis convallis at justo in aliquam. Praesent aliquam auctor commodo.\n",
    "\n",
    "Vivamus faucibus nunc non enim condimentum scelerisque in porttitor lacus. Curabitur mollis mattis arcu semper convallis. Morbi facilisis nisi eget ultricies porttitor. Praesent varius sapien ipsum, eu cursus leo aliquet nec. Maecenas elit lectus, auctor efficitur efficitur ut, aliquet convallis purus. Nullam nisl urna, interdum id lacinia dapibus, pulvinar a turpis. Suspendisse eleifend erat quis consequat eleifend. Phasellus ultrices lacus sed purus finibus, euismod sodales nibh efficitur. Aliquam blandit, neque quis congue blandit, odio dui porta tortor, eget porta sapien sem eu odio. Curabitur convallis arcu erat, vitae porta dolor congue eget. Cras consectetur eros ut mattis elementum. Duis condimentum, dui sed varius rhoncus, nisl ligula lobortis erat, ut eleifend justo ex eget est. Vivamus sit amet nisl placerat, ullamcorper augue vitae, luctus mauris.\n",
    "\n",
    "Vestibulum euismod, nibh ac imperdiet rutrum, risus quam imperdiet dui, id sodales risus justo at metus. In bibendum euismod volutpat. Sed vel libero sem. Nunc nec elit massa. Maecenas pellentesque sagittis urna ut tincidunt. Nullam euismod vulputate bibendum. Nunc id nisl at orci auctor blandit et eget elit. Ut sit amet laoreet leo. Cras ut elit pharetra, suscipit velit non, ullamcorper tortor. Fusce aliquam lacus sit amet nunc consectetur, consectetur sollicitudin urna pellentesque. Pellentesque sed vulputate enim. Nunc sed fringilla dui, a commodo odio. Donec sed ullamcorper justo. Vestibulum massa massa, commodo vel rutrum id, sodales ut diam.\n",
    "\n",
    "Nullam ullamcorper magna nec massa lacinia, et eleifend dui maximus. Fusce eu libero convallis, sagittis urna ac, pulvinar augue. Curabitur sit amet imperdiet neque. Nunc vehicula lacus ut nibh facilisis congue. Nulla imperdiet enim a mollis consectetur. Etiam pharetra quam non sapien gravida scelerisque. Donec eleifend quis augue id viverra. Quisque placerat rhoncus sapien ut mattis. Sed quis molestie ante. Donec placerat auctor venenatis. Integer finibus ipsum mi, non pretium ipsum rutrum sed. Etiam erat purus, dictum et lobortis quis, pellentesque eget tellus. Integer pretium placerat mattis. Ut leo massa, tincidunt nec rhoncus eget, eleifend eu sem. Maecenas mollis nibh sit amet dictum tempor.\n",
    "\n",
    "Fusce rhoncus sapien in ornare tempus. Nunc luctus tempor libero viverra maximus. Ut luctus dapibus maximus. Aliquam pellentesque lacus mi, eu congue lectus ornare nec. Morbi viverra egestas ex, nec sagittis libero interdum dictum. Curabitur dictum ipsum vitae sem pretium ullamcorper. In id hendrerit enim. Vivamus tempus mauris at metus tempus placerat. Nam ut luctus nibh, et semper magna. Sed id eros felis. Nam at ligula lectus. Donec sed luctus lacus. In pharetra lacus nec magna dignissim, sed cursus sem ornare.\n",
    "\n",
    "Curabitur posuere eget lorem eget dignissim. Vestibulum nec dolor urna. Suspendisse ut facilisis neque. Suspendisse suscipit feugiat neque tincidunt pharetra. Phasellus vel consequat nisi. Mauris gravida nunc erat, sit amet tincidunt purus rhoncus quis. Praesent tempor ornare tempor. Aenean blandit nibh ac nunc dictum suscipit. Phasellus elementum aliquam arcu nec porta. Nulla vitae ante augue. Nullam vestibulum tristique turpis, ut hendrerit ex mollis eu. Proin fringilla libero mauris, in dictum ligula scelerisque in.\n",
    "\n",
    "Curabitur condimentum aliquet ultrices. Sed sagittis erat sodales, rhoncus arcu nec, imperdiet massa. Etiam blandit commodo ligula eu venenatis. Aenean vulputate turpis et mattis mollis. Nulla facilisi. Aliquam mattis ex ut metus mattis volutpat vel porttitor nunc. Duis efficitur molestie magna sit amet malesuada. Quisque faucibus leo sit amet egestas convallis. Fusce hendrerit consectetur efficitur. Sed tellus ante, posuere vel luctus vitae, lobortis eget lectus.\n",
    "\n",
    "Suspendisse congue erat volutpat, interdum dui at, dictum leo. Nulla ut arcu venenatis urna lobortis auctor. In sit amet lectus velit. Aliquam porta a enim non commodo. Sed eu massa at enim scelerisque ornare. Nunc eu metus eget ex tincidunt vulputate. Praesent vestibulum odio ut augue gravida, nec sollicitudin dolor aliquam. Suspendisse finibus tincidunt lacus sed facilisis. Mauris convallis lacus turpis, in sollicitudin nunc scelerisque vitae. Fusce enim sapien, gravida volutpat blandit ut, congue vel tellus. Sed et rutrum neque, faucibus pulvinar odio. Mauris sed mi eu tortor pharetra rutrum blandit a nibh. Curabitur efficitur commodo velit non vulputate. Vestibulum tortor nisl, pulvinar vitae hendrerit sit amet, sagittis eu turpis. Sed tincidunt viverra enim, quis ultrices tortor sodales ut.\n",
    "\n",
    "Morbi id orci ut massa bibendum dignissim. Integer congue ligula non urna varius, non eleifend ante dapibus. Nam vel pharetra est, eget suscipit elit. Etiam dui est, laoreet nec sagittis ut, tristique sed magna. Maecenas egestas hendrerit turpis eu feugiat. Aenean ut neque urna. Phasellus vulputate vestibulum lacus non ultrices.\n",
    "\n",
    "Nunc a egestas justo, in varius est. Aliquam rutrum vulputate fermentum. Aliquam rutrum quis enim a pretium. Donec vitae eros et augue rhoncus tristique. Aliquam risus ante, laoreet vel lorem id, lobortis interdum libero. Sed scelerisque eleifend orci, at sollicitudin lorem auctor eget. Vestibulum ante ipsum primis in faucibus orci luctus et ultrices posuere cubilia Curae; Maecenas malesuada iaculis magna, in imperdiet ipsum volutpat in. Nullam auctor mauris eget urna laoreet, ut rutrum lectus tincidunt. Pellentesque ac mi sed nisi elementum consectetur non sit amet lacus. Vivamus tempus elementum ultricies. Morbi varius justo sit amet felis malesuada, ac consequat nisl iaculis. Etiam vitae est at metus ultrices bibendum. Cras massa ante, tempus at lacus eu, efficitur vestibulum lorem. Curabitur ligula quam, suscipit sit amet convallis id, consectetur ut nulla. Aliquam erat volutpat.\n",
    "\n",
    "Fusce quis ligula eget tellus sodales posuere. Phasellus urna leo, ultricies ut luctus vel, volutpat nec eros. Integer cursus lectus at efficitur congue. Fusce imperdiet consectetur velit, suscipit pulvinar neque maximus eu. Donec maximus porttitor congue. Vestibulum sed sagittis eros. Nunc ut est dolor. Cras bibendum lacus nunc, ut varius ante fermentum vel.\n",
    "\n",
    "Morbi vulputate purus augue, eget ultricies erat efficitur vel. Pellentesque ornare nisi et diam dapibus sagittis. Nulla aliquam vel turpis a fringilla. Vivamus vitae condimentum enim. Nam porta dictum ipsum. In ac egestas erat. Vestibulum ante ipsum primis in faucibus orci luctus et ultrices posuere cubilia Curae; Suspendisse tincidunt maximus dolor, id cursus nibh commodo in. Nullam suscipit quam id rutrum pretium. Sed felis lectus, gravida ut lacus at, rutrum blandit orci. Vestibulum eleifend velit vitae pretium sagittis. Duis molestie, felis ac suscipit dictum, dui nibh tempor tortor, at interdum metus ante ac ante. Nunc aliquam a quam id sollicitudin. Nullam vel sem est. Fusce dictum nisi eget bibendum sagittis.\n",
    "\n",
    "Suspendisse vel lorem sit amet ligula ornare vulputate. Maecenas at enim eget urna imperdiet blandit sed vel mi. Nunc elit dui, feugiat vel nisl ullamcorper, varius hendrerit tortor. Phasellus at leo ut mauris ultrices imperdiet quis eu neque. Ut quis lobortis dui. Etiam non risus sit amet lacus aliquam vestibulum sit amet sed lectus. Duis efficitur viverra justo at condimentum.\n",
    "\n",
    "Vestibulum pellentesque massa id magna pharetra pretium. Vestibulum aliquam mollis venenatis. In gravida dolor id enim tristique, non sollicitudin velit tincidunt. Suspendisse sed massa ut massa lacinia consectetur sollicitudin accumsan magna. Aenean convallis urna sed tellus tincidunt, ut hendrerit magna faucibus. Nulla facilisi. Pellentesque hendrerit neque ut ex semper volutpat. Nullam a faucibus tellus. Donec imperdiet elit ut convallis euismod. Quisque at dolor sit amet ipsum pellentesque elementum ac a purus. Aenean non imperdiet libero, sagittis fringilla nulla. Proin nec sapien nisi.\n",
    "\n",
    "Etiam blandit fringilla est. Integer pharetra, augue faucibus finibus porttitor, nisi justo pulvinar lorem, at malesuada arcu ligula eget tortor. In sit amet rutrum risus, et feugiat nisi. Lorem ipsum dolor sit amet, consectetur adipiscing elit. Morbi eros magna, elementum vel accumsan sit amet, malesuada facilisis urna. Pellentesque ut sodales dolor. Sed pretium elementum tempus.\n",
    "\n",
    "Nam tristique quis eros eget porta. Pellentesque nisi turpis, mattis non lobortis quis, suscipit vel lorem. Sed egestas risus lorem, sit amet auctor sem ornare quis. Vivamus massa dui, ultrices a imperdiet in, ornare a purus. Integer pretium ullamcorper dolor. Phasellus ullamcorper metus neque, eu vehicula arcu varius id. Duis feugiat justo dolor, sed bibendum ligula mollis nec. Etiam augue lorem, ornare sit amet tellus in, faucibus lacinia sem. Integer vel velit id turpis pretium ornare. Curabitur quis venenatis ante, quis fermentum lorem.\n",
    "\n",
    "Class aptent taciti sociosqu ad litora torquent per conubia nostra, per inceptos himenaeos. Aenean in commodo lorem. Suspendisse magna ex, auctor ac quam ac, faucibus ornare eros. Sed tincidunt tellus sed dui consequat, nec varius metus vestibulum. In a mi laoreet, volutpat metus non, facilisis nisl. Cras ultricies euismod quam ac feugiat. Aenean condimentum vitae nibh et condimentum. Nullam placerat posuere augue. Cras porta ligula ac mattis tempor. Pellentesque non interdum nulla, eu consectetur lacus. Praesent placerat dui sit amet tellus posuere facilisis. Curabitur rhoncus sed metus at hendrerit. Vivamus ac lectus tristique, vulputate enim quis, maximus est.\n",
    "\n",
    "Sed id ante vitae magna vulputate imperdiet. Morbi fermentum lectus ex, non dictum quam euismod sit amet. Vivamus vitae tempor nisi, at ultricies risus. Aliquam dui quam, porttitor vitae mauris nec, elementum placerat nisl. Maecenas pulvinar laoreet tellus sed pellentesque. Ut quis pretium sapien. Curabitur ut lectus et nunc mattis finibus eget a sapien. Mauris non risus fermentum, malesuada purus vel, luctus lorem. Fusce id hendrerit ipsum, sed ullamcorper nulla. Nunc ac gravida mauris, ultrices tempus est.\n",
    "\n",
    "Duis sit amet odio euismod, laoreet turpis a, maximus libero. Donec eget turpis id metus molestie posuere vitae sed purus. Vestibulum ultricies arcu eget sapien dapibus aliquet. Curabitur dictum turpis felis, quis porta turpis gravida vitae. Interdum et malesuada fames ac ante ipsum primis in faucibus. Maecenas dapibus lobortis enim eget suscipit. Nunc nunc neque, pulvinar in dapibus non, bibendum sit amet quam. Aliquam ut velit nisl. Ut dapibus pharetra dui, quis dignissim tellus elementum vestibulum.\n",
    "\n",
    "Sed nec sagittis quam, et bibendum ipsum. Quisque aliquam sem a sagittis ornare. Donec sed metus neque. In molestie, justo vel euismod fringilla, velit erat laoreet neque, et luctus purus dolor in dui. Integer et risus lorem. Proin non nisl sit amet lectus varius ornare. Vivamus et suscipit eros. Sed non sem ultricies lectus pharetra tincidunt. Integer blandit elit in enim egestas convallis. Cras eleifend non orci eget pellentesque. Morbi imperdiet id quam molestie eleifend.\n",
    "\n",
    "Suspendisse odio velit, gravida vel eleifend in, consequat non elit. Mauris sagittis imperdiet turpis sed vehicula. Duis euismod finibus sapien vitae tempus. Donec dictum aliquam magna, vitae facilisis elit. Curabitur varius blandit est, ut cursus sapien vestibulum id. Quisque nec augue dapibus, auctor purus nec, laoreet ligula. Nunc non ipsum condimentum, venenatis sem ac, sodales ligula. Suspendisse gravida ut diam et ultricies. Vivamus a imperdiet metus, eu suscipit nibh. Nullam in ex vestibulum, faucibus turpis non, convallis lectus. Vestibulum semper fermentum ligula nec suscipit. Aenean eget ligula ipsum. Fusce nec pellentesque urna.\n",
    "\n",
    "Sed posuere, metus eget tincidunt tincidunt, mi enim convallis eros, sed faucibus tortor nunc ut est. Donec ut tincidunt libero. Morbi ligula sem, sagittis non lorem id, finibus ornare nisi. Pellentesque sit amet augue gravida, vulputate quam ut, malesuada metus. Morbi dapibus ornare vulputate. Morbi placerat magna at purus porta cursus. Mauris ac finibus urna, ac tempus sem. Etiam eget mi non orci tristique dapibus in non eros.\n",
    "\n",
    "Praesent feugiat hendrerit nisi, eget consequat lectus efficitur eget. Mauris vel tortor nec erat faucibus tempor ut a lectus. Mauris porttitor diam risus, gravida sollicitudin leo rhoncus at. Vivamus vel tincidunt risus. Praesent tempor quam id risus fermentum, at tempor mi fermentum. Praesent vel mi mollis, hendrerit ex ac, molestie erat. Fusce accumsan, justo quis elementum auctor, odio dui consectetur metus, vel cursus felis purus at ex. Vivamus dapibus ornare feugiat. Quisque interdum metus vel est egestas viverra volutpat id dolor. Sed laoreet, eros tempus eleifend varius, nisl urna dapibus lorem, et molestie dui nunc fringilla arcu.\n",
    "\n",
    "Nulla quis erat suscipit, euismod tellus et, pretium tortor. Maecenas non luctus mauris. Nullam mattis, sapien in porta congue, tortor ex iaculis mi, eu scelerisque magna sapien hendrerit est. Sed nec libero non turpis placerat efficitur. Sed arcu leo, ornare at neque sed, facilisis sagittis purus. Donec malesuada lacus et nunc suscipit, in mollis ipsum facilisis. Praesent eget tristique lorem, eget finibus justo. Fusce risus dolor, commodo ac lacus vitae, faucibus pretium magna. Nullam nec ultricies augue, sit amet aliquet nisi. Integer cursus tincidunt libero, vitae eleifend nunc rutrum sodales. Nulla dapibus, diam at pellentesque laoreet, ex felis dictum ligula, vel finibus enim urna non turpis.\n",
    "\n",
    "Pellentesque pulvinar est ut felis blandit, pretium semper nulla dictum. Duis sed feugiat risus. Etiam eget varius tellus. Nam viverra sollicitudin ligula, a vehicula nulla consequat sed. Mauris imperdiet lectus eros, ac pharetra sem rutrum quis. Pellentesque interdum commodo nibh pretium cursus. Sed et aliquam lacus. Ut volutpat varius malesuada. Nam scelerisque pretium tortor, a elementum turpis vulputate vel. Duis accumsan feugiat lorem non elementum. Donec nunc orci, consectetur eu sapien vitae, commodo maximus ex.\n",
    "\n",
    "Maecenas at consectetur ipsum, sit amet vulputate nibh. Sed augue quam, fermentum sed lacus nec, viverra condimentum ante. Vestibulum mollis, turpis a vulputate vulputate, ligula nulla rhoncus est, et ullamcorper quam libero vel arcu. Sed ut bibendum augue. Vivamus risus massa, fermentum id tempor vitae, dapibus id ante. Vestibulum sollicitudin suscipit erat sit amet blandit. Curabitur faucibus accumsan ipsum sit amet malesuada. Vivamus nec ex sit amet enim gravida eleifend. Aliquam erat volutpat. Quisque vitae enim non felis pellentesque ornare. Integer auctor, nisi ut posuere mollis, nunc mauris consectetur purus, vitae fringilla tortor turpis eu augue. Proin scelerisque finibus sapien, in auctor lectus ultrices sit amet. Sed bibendum nulla nec sapien cursus, at egestas velit pretium.\n",
    "\n",
    "Phasellus porta sodales felis elementum congue. Maecenas ac mattis risus, non placerat justo. Duis id turpis quis nisl placerat fringilla id suscipit massa. Duis non consequat mauris. Sed id venenatis lectus. Vivamus volutpat neque et ultricies posuere. Duis sit amet felis a mi finibus sodales. Donec sit amet diam enim. Mauris accumsan dolor sed mauris pulvinar sagittis. Cras nec ex nunc. Morbi ultrices lacinia quam vel rhoncus. Duis et turpis at tortor tempor aliquam a vel eros.\n",
    "\n",
    "Phasellus tincidunt eget magna tempus hendrerit. Etiam tempus neque tellus, quis accumsan lorem aliquet sit amet. Nunc ut tempus elit. Cras malesuada condimentum metus, non viverra eros faucibus eget. Aenean efficitur vulputate sodales. Nulla aliquam feugiat rutrum. Sed ac nunc eu lectus lobortis feugiat id ac ante. Aenean venenatis tincidunt sodales. Fusce vehicula et urna quis pellentesque.\n",
    "\n",
    "Praesent blandit lacus nec ipsum finibus aliquam. Fusce varius at eros at aliquet. Vestibulum eget vestibulum eros, vitae ullamcorper enim. Morbi molestie tellus ut libero maximus, id aliquet dui dictum. Sed in libero sit amet enim posuere varius eu sed orci. Vestibulum ante ipsum primis in faucibus orci luctus et ultrices posuere cubilia Curae; Nam et lobortis urna. Sed mollis efficitur sem a malesuada. Aenean at nunc urna.\n",
    "\n",
    "Integer libero ipsum, aliquam non risus quis, fringilla faucibus sapien. Integer non rutrum urna, suscipit tincidunt ante. Suspendisse at porttitor justo. Quisque fringilla, metus quis mattis commodo, odio erat fermentum erat, at convallis mi orci ac elit. Nunc malesuada malesuada cursus. Integer et purus a ipsum fringilla volutpat at non diam. Sed ut quam non massa gravida rhoncus vitae tristique sapien. Suspendisse pharetra tellus eu congue fringilla. Nunc scelerisque nibh nec dolor mattis gravida. Interdum et malesuada fames ac ante ipsum primis in faucibus.\n",
    "\n",
    "Vestibulum sed leo non erat congue iaculis. Nulla tellus metus, pulvinar nec odio auctor, maximus fermentum eros. Integer fringilla lacinia sagittis. Nunc velit ex, tristique ut justo placerat, facilisis ornare nisi. Nulla in eleifend erat. Pellentesque habitant morbi tristique senectus et netus et malesuada fames ac turpis egestas. Suspendisse nec quam nec libero ultrices sodales a ac ipsum. Proin nunc nulla, semper ac facilisis eu, sagittis id lacus. Donec risus urna, pretium id mi id, eleifend tincidunt quam. Nulla ipsum massa, sollicitudin ac ornare ac, eleifend vitae nisi. Sed tristique convallis nulla id elementum. Vivamus eros lectus, congue non nulla id, rhoncus iaculis diam. Nulla ullamcorper tincidunt finibus. Sed quis sodales nisl. Vivamus eget libero vitae sem mollis tincidunt vel sed neque.\n",
    "\n",
    "Aliquam fringilla ac massa ac sagittis. Proin erat lorem, euismod eu risus at, elementum sagittis dui. Praesent vitae turpis enim. Vivamus a nunc id lacus pellentesque tincidunt eu eget dolor. Etiam vitae dolor ac ante consectetur blandit. Aenean feugiat hendrerit dui, non vestibulum sapien ullamcorper at. Duis vel eros consectetur, mattis lectus et, luctus justo. Maecenas nec velit lorem. Aliquam egestas at lorem eget cursus. Suspendisse potenti. Fusce at mattis sem, sit amet eleifend quam. Etiam enim nunc, suscipit eget mollis quis, scelerisque in dolor. Nam porttitor blandit tortor. Fusce ullamcorper mauris sit amet pharetra ultricies.\n",
    "\n",
    "Donec vel lorem mi. Curabitur sit amet ipsum ex. Proin in leo eu odio tempus venenatis et non enim. Maecenas eu placerat eros, non cursus leo. Suspendisse vitae lacinia massa. Nunc aliquam tellus quis urna mollis, venenatis ornare metus commodo. Vivamus in elit ut elit consectetur egestas. Pellentesque habitant morbi tristique senectus et netus et malesuada fames ac turpis egestas. Nulla faucibus enim in metus porta, vel vulputate massa facilisis. In vehicula elit eget sagittis interdum. Etiam sed consequat eros. Morbi volutpat porta porttitor. Mauris faucibus quam at commodo interdum. Vivamus ultricies risus in elementum fringilla. Vestibulum tellus lectus, venenatis a aliquam quis, auctor id tortor.\n",
    "\n",
    "Nam quis justo tortor. Cras dignissim ipsum non diam cursus, ac semper enim bibendum. Morbi libero sapien, aliquet nec condimentum et, vestibulum eget mauris. Suspendisse tempor placerat nisl dignissim mollis. Integer a ornare lectus, sit amet lobortis neque. Nulla lacinia id augue at tincidunt. Sed hendrerit nulla tortor, efficitur dignissim ipsum sodales eu. Morbi tellus turpis, tincidunt id tempus sit amet, pretium tempus orci. Sed sed odio nulla. Curabitur nisi sapien, ullamcorper vel mollis ac, aliquet ac mi. Nam euismod, nibh sit amet lobortis efficitur, elit nunc mattis enim, ac euismod tortor quam sit amet justo. Suspendisse est nunc, dictum vitae imperdiet at, volutpat non dui.\n",
    "\n",
    "Nulla convallis ligula sit amet velit viverra, sit amet imperdiet eros fermentum. Nullam tempus elit sit amet lacinia ornare. Interdum et malesuada fames ac ante ipsum primis in faucibus. Phasellus ac nisi at nibh imperdiet dignissim. Pellentesque quis arcu neque. Suspendisse potenti. In lacinia convallis tincidunt. Etiam lobortis eu leo eu porttitor. Cras eget elementum ipsum. Fusce tincidunt nunc laoreet risus posuere imperdiet. Cras quis malesuada tortor. Nullam sapien ante, fringilla eget nibh vitae, tempor volutpat odio. Phasellus ornare, sem non suscipit porttitor, sem lorem maximus mi, a aliquam velit felis et ante. Quisque gravida tristique diam, sit amet lacinia risus varius nec. Etiam vehicula a massa in eleifend.\n",
    "\n",
    "Nam placerat vitae justo non scelerisque. In hac habitasse platea dictumst. Phasellus ac purus nec enim finibus interdum et interdum nibh. Nullam convallis ligula id dolor volutpat varius in eget arcu. Orci varius natoque penatibus et magnis dis parturient montes, nascetur ridiculus mus. Nullam aliquet urna a purus aliquet ornare. Sed congue tortor nibh. In non libero vitae lectus luctus tincidunt. Phasellus finibus est id congue cursus. Proin viverra lacus sed erat tincidunt, vitae bibendum ante tempus. Ut nec felis quis leo facilisis imperdiet vitae vel turpis. Morbi fringilla quam ut dignissim hendrerit.\n",
    "\n",
    "Duis cursus nisl gravida, bibendum dui vel, dignissim purus. Proin quis ultrices velit, sed molestie leo. Morbi at massa purus. Sed ut tincidunt nisl. Aliquam sit amet dui lacinia, ornare lacus non, laoreet lorem. Vivamus ac mi sed odio egestas ultricies. Curabitur pharetra id nisi vel elementum. Aliquam erat volutpat. Vestibulum egestas aliquet quam vel gravida. Mauris ac porta ligula. Orci varius natoque penatibus et magnis dis parturient montes, nascetur ridiculus mus. Donec mi nisl, laoreet quis sagittis eget, mollis vel lectus. Etiam quis sodales odio.\n",
    "\n",
    "Curabitur et mi ac tortor luctus rhoncus. Quisque eu ante eget nulla facilisis interdum accumsan ac erat. Integer ex augue, placerat a dui et, imperdiet porta lacus. Quisque accumsan nisl quis odio aliquam, non condimentum odio blandit. Aenean egestas nisl non faucibus dignissim. Maecenas interdum ac diam vitae sodales. Donec et nibh pharetra purus tristique luctus a quis dui. In ultricies odio vitae mauris tincidunt, auctor facilisis urna vulputate. Sed auctor facilisis dui. Aliquam lacinia nulla vehicula sem sagittis porttitor. Sed ut lectus pellentesque, posuere leo id, auctor nulla. Nullam ac elementum massa. Etiam pellentesque a lacus sed porttitor. Nulla tortor orci, cursus in nisi ac, interdum sollicitudin ex.\n",
    "\n",
    "Sed a maximus ligula, non bibendum ex. Proin egestas cursus ornare. Interdum et malesuada fames ac ante ipsum primis in faucibus. Proin sapien nibh, faucibus eu nulla sit amet, lobortis mollis diam. Suspendisse id diam sed enim mollis mattis. Fusce et nunc at lectus porttitor vehicula quis et magna. Mauris tellus tortor, malesuada sed vehicula vel, feugiat vitae dui. Nam at sodales turpis. Nam rutrum scelerisque venenatis. Praesent nec nulla sit amet magna feugiat tempor eget vitae nisi. Proin ac est in massa cursus faucibus sit amet non metus.\n",
    "\n",
    "Nam nec diam quis nisl placerat fringilla vestibulum eu odio. Maecenas efficitur turpis nec diam tempus vulputate. Phasellus interdum ante eros, id imperdiet neque fermentum vel. Cras justo ipsum, porttitor vitae condimentum in, porta id lectus. Duis viverra hendrerit rutrum. Proin quis lacinia est. Curabitur odio diam, maximus condimentum aliquam vel, efficitur a augue. Etiam at risus lacinia, pharetra lorem vel, maximus risus. Ut tristique justo ut eros congue tristique. Phasellus non est in ex aliquet pulvinar id quis diam. Orci varius natoque penatibus et magnis dis parturient montes, nascetur ridiculus mus. Sed scelerisque lacus mauris, quis maximus justo varius nec. Vestibulum bibendum fermentum bibendum. Donec vel venenatis ex.\n",
    "\n",
    "Cras quis eleifend neque, quis venenatis quam. Integer ut dui metus. Vestibulum accumsan urna ut consequat eleifend. Nullam ornare lectus elit, non interdum sem dictum tempus. Donec molestie dapibus dui vel commodo. In cursus nunc nec nunc tempor, eget mattis tortor viverra. In eget risus neque. Quisque scelerisque ex a convallis lacinia. Aenean molestie elementum augue. Vivamus iaculis in leo sed aliquet. Mauris commodo nisl eget sapien vehicula, eget maximus diam cursus. Morbi efficitur elementum tellus quis elementum. Integer sed mi auctor, suscipit diam sollicitudin, venenatis dui. Nullam dignissim lacus at sapien dignissim malesuada. Sed vel leo consectetur, hendrerit sapien sed, commodo arcu.\n",
    "\n",
    "Curabitur blandit vel sem sit amet tempor. Duis id nibh ac metus viverra laoreet. Nulla ex leo, porta sed nisi mollis, lacinia posuere velit. Proin euismod luctus enim vitae egestas. Nullam congue ante est, ac suscipit orci consequat ut. Fusce nisi magna, bibendum vitae luctus vel, sollicitudin non diam. Pellentesque lacinia, justo sit amet scelerisque eleifend, velit mauris sollicitudin tellus, vitae elementum lorem metus et orci. Curabitur ullamcorper quis dui in commodo.\n",
    "\n",
    "Aenean a purus et urna vestibulum interdum. Donec eget mattis odio. Etiam purus leo, efficitur nec finibus a, convallis eget metus. In hac habitasse platea dictumst. In at ligula malesuada, vestibulum orci nec, interdum ex. Morbi auctor nisl mauris, et auctor felis maximus eu. Mauris consequat varius nisl, id auctor urna elementum quis. Ut maximus feugiat metus eu fringilla. Fusce sit amet magna vel dolor pulvinar malesuada ac ac mauris. Praesent maximus, dolor vitae aliquam aliquam, dolor ligula ultrices est, sit amet rhoncus ex turpis nec augue.\n",
    "\n",
    "Integer tristique ante quis felis suscipit porta. Mauris nec aliquam purus, ac mollis nunc. Phasellus dignissim arcu eu eros tristique elementum. Pellentesque egestas vitae velit in suscipit. Vestibulum ante ipsum primis in faucibus orci luctus et ultrices posuere cubilia Curae; Nullam tincidunt semper tellus, ut porta justo ornare a. Sed gravida egestas sem eu bibendum. Etiam non nibh imperdiet, posuere risus eget, facilisis diam. Nulla consectetur felis eu fringilla pharetra. Suspendisse cursus velit id erat ultrices, at pellentesque magna fringilla. Mauris dignissim sapien elit, vitae finibus felis lacinia eget. Aenean et libero eu magna pharetra ullamcorper sed ac sem. Aenean at leo aliquet, venenatis metus quis, tristique erat. Vivamus sed ligula augue.\n",
    "\n",
    "Mauris vitae rhoncus nisl. Phasellus cursus, diam ut fringilla scelerisque, eros urna vehicula leo, et tincidunt lectus nunc sed nisl. Fusce aliquet, risus vitae ultricies consectetur, quam lacus feugiat tortor, in suscipit odio risus id ligula. Curabitur quam sapien, mattis eu condimentum ac, aliquet in nisl. Phasellus cursus enim vitae bibendum aliquam. Quisque at iaculis elit, eu lacinia quam. Mauris suscipit lacus quis arcu vehicula, at placerat leo varius. Morbi sed justo a ligula imperdiet imperdiet. Suspendisse potenti. Donec sit amet egestas erat. Cras id pharetra turpis. Etiam magna tortor, fermentum at nibh a, dignissim vehicula ante. Aenean nisi mauris, lobortis tristique mi non, ultrices scelerisque ante. Sed auctor accumsan sem, id lobortis nibh porttitor in. Quisque ultricies risus ipsum, malesuada pellentesque nisi commodo nec. Nullam finibus mattis mattis.\n",
    "\n",
    "Cras vehicula ullamcorper sapien, ut efficitur eros ornare et. Fusce eget tincidunt lectus. Pellentesque volutpat leo sit amet nisi feugiat, quis molestie leo laoreet. Proin porta tincidunt dolor, in varius odio accumsan a. Aenean ultrices neque venenatis ligula consequat cursus. Aliquam pharetra ultrices enim ut vehicula. Vestibulum ante ipsum primis in faucibus orci luctus et ultrices posuere cubilia Curae; Praesent dolor tortor, blandit non ligula sit amet, iaculis malesuada sapien. Nunc condimentum aliquam tortor, sit amet varius purus tempor sed. Duis ante est, pulvinar ac ipsum nec, mattis dapibus lacus. Duis enim ante, lacinia ac fermentum quis, rutrum non lacus. Phasellus nec est vitae enim auctor pharetra. Cras ac ligula vitae augue consectetur molestie. Pellentesque scelerisque placerat posuere. Pellentesque felis quam, fringilla et ex sed, rutrum fringilla lacus.\n",
    "\n",
    "Proin risus nisl, vehicula id interdum in, commodo et felis. Suspendisse sed lectus suscipit, varius est ac, imperdiet enim. Fusce tincidunt metus posuere, finibus mauris a, condimentum ligula. Donec dignissim rhoncus ante vel tempor. Morbi ut eleifend nulla. Donec sed hendrerit velit. Maecenas maximus, risus a gravida condimentum, velit felis rutrum eros, eu aliquam nisl leo a enim. Proin sed enim lacus. Quisque at scelerisque risus. Fusce interdum nulla in felis facilisis tincidunt. Sed condimentum lacinia vestibulum.\n",
    "\n",
    "Nam consectetur euismod massa, vel laoreet neque elementum sit amet. Sed varius consectetur ante, quis efficitur sapien vestibulum eget. Lorem ipsum dolor sit amet, consectetur adipiscing elit. Integer dui ipsum, efficitur vitae vehicula euismod, porta vitae mi. In urna ligula, blandit vel enim ac, egestas commodo erat. Pellentesque felis purus, ultrices ac sollicitudin nec, porttitor et mi. Duis facilisis velit ac velit ornare eleifend id eget arcu. Donec nec venenatis est. Sed sodales turpis vitae libero scelerisque, quis semper felis tempus. Duis a ornare tellus, in sodales quam. Sed at tempor nulla, sit amet tincidunt felis. Phasellus gravida libero tortor, sed sagittis mauris gravida nec. In tempus eleifend feugiat. Suspendisse sodales lacinia nisi et hendrerit. Duis dignissim rutrum arcu eu blandit. Nullam et lorem sit amet velit volutpat porta eu sed nunc.\n",
    "\n",
    "Fusce ante ante, eleifend nec velit et, posuere egestas leo. Quisque vitae tempus massa. Quisque condimentum, enim vel eleifend vehicula, odio turpis faucibus justo, vitae interdum purus eros sed justo. Fusce finibus egestas lectus. Donec tristique iaculis.\"\"\""
   ]
  }
 ],
 "metadata": {
  "kernelspec": {
   "display_name": "Python 3",
   "language": "python",
   "name": "python3"
  },
  "language_info": {
   "codemirror_mode": {
    "name": "ipython",
    "version": 3
   },
   "file_extension": ".py",
   "mimetype": "text/x-python",
   "name": "python",
   "nbconvert_exporter": "python",
   "pygments_lexer": "ipython3",
   "version": "3.6.1"
  }
 },
 "nbformat": 4,
 "nbformat_minor": 2
}
